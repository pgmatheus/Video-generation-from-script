{
 "cells": [
  {
   "cell_type": "code",
   "execution_count": 1,
   "metadata": {},
   "outputs": [
    {
     "name": "stdout",
     "output_type": "stream",
     "text": [
      "Moviepy - Building video D://Deletar//p_gen\\john test\\full\\full_hd_merged.mp4.\n",
      "MoviePy - Writing audio in full_hd_mergedTEMP_MPY_wvf_snd.mp3\n"
     ]
    },
    {
     "name": "stderr",
     "output_type": "stream",
     "text": [
      "                                                                    \r"
     ]
    },
    {
     "name": "stdout",
     "output_type": "stream",
     "text": [
      "MoviePy - Done.\n",
      "Moviepy - Writing video D://Deletar//p_gen\\john test\\full\\full_hd_merged.mp4\n",
      "\n"
     ]
    },
    {
     "name": "stderr",
     "output_type": "stream",
     "text": [
      "t:  87%|████████▋ | 850/978 [00:34<00:04, 27.66it/s, now=None]c:\\Users\\Matheus\\anaconda3\\envs\\Pyflow\\lib\\site-packages\\moviepy\\video\\io\\ffmpeg_reader.py:154: UserWarning: In file D://Deletar//p_gen\\john test\\full\\full_hd.mp4, 6220800 bytes wanted but 0 bytes read,at frame index 850 (out of a total 852 frames), at time 28.33/28.40 sec. Using the last valid frame instead.\n",
      "  warnings.warn(\n",
      "c:\\Users\\Matheus\\anaconda3\\envs\\Pyflow\\lib\\site-packages\\moviepy\\video\\io\\ffmpeg_reader.py:154: UserWarning: In file D://Deletar//p_gen\\john test\\full\\full_hd.mp4, 6220800 bytes wanted but 0 bytes read,at frame index 851 (out of a total 852 frames), at time 28.37/28.40 sec. Using the last valid frame instead.\n",
      "  warnings.warn(\n",
      "                                                              \r"
     ]
    },
    {
     "name": "stdout",
     "output_type": "stream",
     "text": [
      "Moviepy - Done !\n",
      "Moviepy - video ready D://Deletar//p_gen\\john test\\full\\full_hd_merged.mp4\n"
     ]
    }
   ],
   "source": [
    "from moviepy.editor import *\n",
    "import numpy as np\n",
    "from PIL import Image\n",
    "import cv2\n",
    "\n",
    "EXTERNAL = True\n",
    "\n",
    "if EXTERNAL:\n",
    "    %store -r WIDTH\n",
    "    %store -r HEIGHT\n",
    "    %store -r TEXT\n",
    "    %store -r VISUALIZE\n",
    "    %store -r SAVE_FOLDER\n",
    "    %store -r PROJECT_NAME\n",
    "    %store -r SHOW_OUTPUT\n",
    "    %store -r IMG_NUMBER\n",
    "    %store -r THUMBNAIL\n",
    "    %store -r SKIP_VIDEO\n",
    "    %store -r MERGE_VIDEO\n",
    "    %store -r TEXT_VOICE_GEN\n",
    "    %store -r LANGUAGES\n",
    "    %store -r GEN_VIDEO\n",
    "    %store -r INSERT_BACKGROUND\n",
    "    %store -r RECORD_FRAME_INTER_AFTER\n",
    "    project_folder = f\"{SAVE_FOLDER}\\\\{PROJECT_NAME}\"\n",
    "    path_background = f\"{project_folder}\\\\full\\\\full_hd.mp4\"\n",
    "    path_inserted = f\"{project_folder}\\\\full\\\\full_lip.mp4\"\n",
    "    path_output = f\"{project_folder}\\\\full\\\\full_hd_merged.mp4\"\n",
    "else:\n",
    "    path_background = \".\\\\lip\\\\00000_hq.mp4\"\n",
    "    path_inserted = \".\\\\lip\\\\final.mp4\"\n",
    "    path_output = \".\\\\lip\\\\masked.mp4\"\n",
    "    WIDTH = 768\n",
    "    HEIGHT = 768\n",
    "    VISUALIZE = True  \n",
    "    SAVE_FOLDER = \"D:\\\\Deletar\\\\p_gen\"\n",
    "    PROJECT_NAME = \"THE FELLOWSHIP OF THE RING\"\n",
    "    STYLES_FOLDER = \".\\\\styles\"\n",
    "    SHOW_OUTPUT = True\n",
    "    IMG_NUMBER = 2\n",
    "    SKIP_VIDEO = []\n",
    "    MERGE_VIDEO = False\n",
    "    TEXT_VOICE_GEN = ['A','A','A','A','A','A','A','A','A','A','A','A','A','A','A','A','A','A','A']\n",
    "    LANGUAGES = ['pt']\n",
    "    GEN_VIDEO = True\n",
    "    INSERT_BACKGROUND = False\n",
    "    RECORD_FRAME_INTER_AFTER = 0\n",
    "    RECORD_FRAME_LIP = -1\n",
    "\n",
    "\n",
    "\n",
    "\n",
    "#working\n",
    "# Load the background video\n",
    "bg_video = VideoFileClip(path_background)\n",
    "\n",
    "\n",
    "# Extract a portion of the background video to use as the background clip\n",
    "bg_clip = bg_video.crop(x1=0, y1=0, x2=1920, y2=1080).without_audio()\n",
    "\n",
    "# Load the video that we want to insert into the background\n",
    "main_video = VideoFileClip(path_inserted)\n",
    "\n",
    "# Resize the main video clip to match the dimensions of the background clip\n",
    "main_clip = main_video.resize((512, 512))\n",
    "\n",
    "# Insert the main clip into the center of the background clip\n",
    "# final_clip = CompositeVideoClip([bg_clip, main_clip.set_position('center')])\n",
    "\n",
    "final_clip = CompositeVideoClip([bg_clip, main_clip.set_position((0,1080-512))])\n",
    "\n",
    "# Write the final clip to a new video file\n",
    "final_clip.write_videofile(path_output)\n",
    "\n",
    "\n",
    "\n",
    "\n",
    "\n",
    "\n",
    "\n",
    "\n",
    "\n"
   ]
  }
 ],
 "metadata": {
  "kernelspec": {
   "display_name": "Pyflow",
   "language": "python",
   "name": "python3"
  },
  "language_info": {
   "codemirror_mode": {
    "name": "ipython",
    "version": 3
   },
   "file_extension": ".py",
   "mimetype": "text/x-python",
   "name": "python",
   "nbconvert_exporter": "python",
   "pygments_lexer": "ipython3",
   "version": "3.9.16 (main, Jan 11 2023, 16:16:36) [MSC v.1916 64 bit (AMD64)]"
  },
  "orig_nbformat": 4,
  "vscode": {
   "interpreter": {
    "hash": "6cb0dd519e46c84f14fc2d0d6172fde6407ecb78b6d95b871c78761f2e6e52fb"
   }
  }
 },
 "nbformat": 4,
 "nbformat_minor": 2
}
