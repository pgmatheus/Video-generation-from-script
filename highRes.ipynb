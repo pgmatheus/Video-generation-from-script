{
 "cells": [
  {
   "cell_type": "code",
   "execution_count": 1,
   "metadata": {},
   "outputs": [
    {
     "name": "stderr",
     "output_type": "stream",
     "text": [
      "c:\\Users\\Matheus\\anaconda3\\envs\\Pyflow\\lib\\site-packages\\torchvision\\models\\_utils.py:208: UserWarning: The parameter 'pretrained' is deprecated since 0.13 and may be removed in the future, please use 'weights' instead.\n",
      "  warnings.warn(\n",
      "c:\\Users\\Matheus\\anaconda3\\envs\\Pyflow\\lib\\site-packages\\torchvision\\models\\_utils.py:223: UserWarning: Arguments other than a weight enum or `None` for 'weights' are deprecated since 0.13 and may be removed in the future. The current behavior is equivalent to passing `weights=None`.\n",
      "  warnings.warn(msg)\n"
     ]
    }
   ],
   "source": [
    "import argparse\n",
    "import cv2\n",
    "import glob\n",
    "import os\n",
    "from basicsr.archs.rrdbnet_arch import RRDBNet\n",
    "from basicsr.utils.download_util import load_file_from_url\n",
    "from gfpgan import GFPGANer\n",
    "from realesrgan import RealESRGANer\n",
    "from realesrgan.archs.srvgg_arch import SRVGGNetCompact\n",
    "import tensorflow as tf\n",
    "import time\n",
    "from skimage import exposure\n",
    "\n",
    "\n",
    "\n",
    "ANIME = False\n",
    "\n",
    "path = \"./result10.png\"\n",
    "save_path = \"./modified.png\"\n",
    "\n",
    "netscale = 4\n",
    "model_path_face = \"./realesrgan/GFPGANv1.3.pth\"\n",
    "dni_weight = None\n",
    "\n",
    "tile = 0\n",
    "title_pad = 10\n",
    "pre_pad = 0\n",
    "half = None\n",
    "gpu_id = None\n",
    "upscale = 3.5\n",
    "upscale = 4\n",
    "img_mode = 'RGBA'\n",
    "\n",
    "if ANIME:\n",
    "  # R-ESRGAN + Anime\n",
    "  model = RRDBNet(num_in_ch=3, num_out_ch=3, num_feat=64, num_block=6, num_grow_ch=32, scale=4)\n",
    "  model_path_x4 = \"./realesrgan/RealESRGAN_x4plus_anime_6B.pth\"\n",
    "else:\n",
    "  # R-ESRGAN\n",
    "  model = RRDBNet(num_in_ch=3, num_out_ch=3, num_feat=64, num_block=23, num_grow_ch=32, scale=4)\n",
    "  model_path_x4 = \"./realesrgan/RealESRGAN_x4plus.pth\"\n",
    "\n",
    "upsampler = RealESRGANer(\n",
    "        scale=netscale,\n",
    "        model_path=model_path_x4,\n",
    "        dni_weight=dni_weight,\n",
    "        model=model,\n",
    "        tile=tile,\n",
    "        tile_pad=title_pad,\n",
    "        pre_pad=pre_pad,\n",
    "        half= not half,\n",
    "        gpu_id= gpu_id\n",
    ")\n",
    "\n",
    "face_enhancer = GFPGANer(\n",
    "            model_path=model_path_face,\n",
    "            upscale=upscale,\n",
    "            arch='clean',\n",
    "            channel_multiplier=2,\n",
    "            bg_upsampler=upsampler)\n",
    "\n",
    "def resize_image(data):\n",
    "  resized_img = tf.image.resize(\n",
    "  images=data,\n",
    "  # size=[270, 480],     \n",
    "  size=[512, 512], \n",
    "  method=tf.image.ResizeMethod.BILINEAR,\n",
    "  preserve_aspect_ratio=False,\n",
    "  antialias=True,\n",
    "  )    \n",
    "  return resized_img\n",
    "\n",
    "def resize_image2(data):\n",
    "  resized_img = tf.image.resize(\n",
    "  images=data,\n",
    "  size=[256, 256],\n",
    "  method=tf.image.ResizeMethod.BILINEAR,\n",
    "  preserve_aspect_ratio=False,\n",
    "  antialias=True,\n",
    "  )    \n",
    "  return resized_img\n"
   ]
  },
  {
   "cell_type": "code",
   "execution_count": 2,
   "metadata": {},
   "outputs": [
    {
     "name": "stdout",
     "output_type": "stream",
     "text": [
      "8.423465728759766\n"
     ]
    },
    {
     "data": {
      "text/plain": [
       "True"
      ]
     },
     "execution_count": 2,
     "metadata": {},
     "output_type": "execute_result"
    }
   ],
   "source": [
    "img = cv2.imread(path, cv2.IMREAD_UNCHANGED)\n",
    "\n",
    "img = resize_image(img).numpy()\n",
    "start = time.time() \n",
    "_, _, output = face_enhancer.enhance(img, has_aligned=False, only_center_face=False, paste_back=True)\n",
    "# output = exposure.equalize_hist(output)*255\n",
    "# output, _ = upsampler.enhance(img, outscale=upscale)\n",
    "\n",
    "end = time.time()\n",
    "\n",
    "print(end-start)\n",
    "cv2.imwrite(save_path, output)"
   ]
  }
 ],
 "metadata": {
  "kernelspec": {
   "display_name": "Pyflow",
   "language": "python",
   "name": "python3"
  },
  "language_info": {
   "codemirror_mode": {
    "name": "ipython",
    "version": 3
   },
   "file_extension": ".py",
   "mimetype": "text/x-python",
   "name": "python",
   "nbconvert_exporter": "python",
   "pygments_lexer": "ipython3",
   "version": "3.9.16 (main, Jan 11 2023, 16:16:36) [MSC v.1916 64 bit (AMD64)]"
  },
  "orig_nbformat": 4,
  "vscode": {
   "interpreter": {
    "hash": "6cb0dd519e46c84f14fc2d0d6172fde6407ecb78b6d95b871c78761f2e6e52fb"
   }
  }
 },
 "nbformat": 4,
 "nbformat_minor": 2
}
