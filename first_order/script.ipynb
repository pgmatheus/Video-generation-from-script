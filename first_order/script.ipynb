{
 "cells": [
  {
   "cell_type": "code",
   "execution_count": 1,
   "metadata": {},
   "outputs": [
    {
     "name": "stderr",
     "output_type": "stream",
     "text": [
      "F:\\first_order\\first-order-model\\demo.py:134: DeprecationWarning: Starting with ImageIO v3 the behavior of this function will switch to that of iio.v3.imread. To keep the current behavior (and make this warning disappear) use `import imageio.v2 as imageio` or call `imageio.v2.imread` directly.\n",
      "  source_image = imageio.imread(opt.source_image)\n",
      "c:\\Users\\Matheus\\anaconda3\\envs\\Pyflow\\lib\\site-packages\\torch\\functional.py:504: UserWarning: torch.meshgrid: in an upcoming release, it will be required to pass the indexing argument. (Triggered internally at C:\\cb\\pytorch_1000000000000\\work\\aten\\src\\ATen\\native\\TensorShape.cpp:3191.)\n",
      "  return _VF.meshgrid(tensors, **kwargs)  # type: ignore[attr-defined]\n"
     ]
    },
    {
     "data": {
      "application/vnd.jupyter.widget-view+json": {
       "model_id": "f2f45bb527f4470aae53183712ae2006",
       "version_major": 2,
       "version_minor": 0
      },
      "text/plain": [
       "  0%|          | 0/67 [00:00<?, ?it/s]"
      ]
     },
     "metadata": {},
     "output_type": "display_data"
    },
    {
     "name": "stderr",
     "output_type": "stream",
     "text": [
      "c:\\Users\\Matheus\\anaconda3\\envs\\Pyflow\\lib\\site-packages\\torch\\nn\\functional.py:4227: UserWarning: Default grid_sample and affine_grid behavior has changed to align_corners=False since 1.3.0. Please specify align_corners=True if the old behavior is desired. See the documentation of grid_sample for details.\n",
      "  warnings.warn(\n",
      "c:\\Users\\Matheus\\anaconda3\\envs\\Pyflow\\lib\\site-packages\\torch\\nn\\functional.py:1967: UserWarning: nn.functional.sigmoid is deprecated. Use torch.sigmoid instead.\n",
      "  warnings.warn(\"nn.functional.sigmoid is deprecated. Use torch.sigmoid instead.\")\n"
     ]
    },
    {
     "ename": "OSError",
     "evalue": "MoviePy error: the file .\\temp\\result.mp4 could not be found!\nPlease check that you entered the correct path.",
     "output_type": "error",
     "traceback": [
      "\u001b[1;31m---------------------------------------------------------------------------\u001b[0m",
      "\u001b[1;31mOSError\u001b[0m                                   Traceback (most recent call last)",
      "Cell \u001b[1;32mIn[1], line 6\u001b[0m\n\u001b[0;32m      3\u001b[0m \u001b[39mfrom\u001b[39;00m \u001b[39mmoviepy\u001b[39;00m\u001b[39m.\u001b[39;00m\u001b[39meditor\u001b[39;00m \u001b[39mimport\u001b[39;00m VideoFileClip, concatenate_videoclips, AudioFileClip, ImageSequenceClip, CompositeAudioClip\n\u001b[0;32m      5\u001b[0m audio1 \u001b[39m=\u001b[39m AudioFileClip(\u001b[39m\"\u001b[39m\u001b[39m.\u001b[39m\u001b[39m\\\\\u001b[39;00m\u001b[39mfinal.mp4\u001b[39m\u001b[39m\"\u001b[39m)\n\u001b[1;32m----> 6\u001b[0m video \u001b[39m=\u001b[39m VideoFileClip(\u001b[39m'\u001b[39;49m\u001b[39m.\u001b[39;49m\u001b[39m\\\\\u001b[39;49;00m\u001b[39mtemp\u001b[39;49m\u001b[39m\\\\\u001b[39;49;00m\u001b[39mresult.mp4\u001b[39;49m\u001b[39m'\u001b[39;49m)   \n\u001b[0;32m      7\u001b[0m final_video \u001b[39m=\u001b[39m video\u001b[39m.\u001b[39mset_audio(audio1) \n\u001b[0;32m      8\u001b[0m final_video\u001b[39m.\u001b[39mwrite_videofile(\u001b[39m\"\u001b[39m\u001b[39m.\u001b[39m\u001b[39m\\\\\u001b[39;00m\u001b[39mfull_audio.mp4\u001b[39m\u001b[39m\"\u001b[39m)\n",
      "File \u001b[1;32m<decorator-gen-106>:2\u001b[0m, in \u001b[0;36m__init__\u001b[1;34m(self, filename, decode_file, has_mask, audio, audio_buffersize, target_resolution, resize_algorithm, audio_fps, audio_nbytes, fps_source, pix_fmt)\u001b[0m\n",
      "File \u001b[1;32mc:\\Users\\Matheus\\anaconda3\\envs\\Pyflow\\lib\\site-packages\\moviepy\\decorators.py:89\u001b[0m, in \u001b[0;36mpreprocess_args.<locals>.wrapper\u001b[1;34m(f, *a, **kw)\u001b[0m\n\u001b[0;32m     84\u001b[0m new_a \u001b[39m=\u001b[39m [\n\u001b[0;32m     85\u001b[0m     fun(arg) \u001b[39mif\u001b[39;00m (name \u001b[39min\u001b[39;00m varnames) \u001b[39mand\u001b[39;00m (arg \u001b[39mis\u001b[39;00m \u001b[39mnot\u001b[39;00m \u001b[39mNone\u001b[39;00m) \u001b[39melse\u001b[39;00m arg\n\u001b[0;32m     86\u001b[0m     \u001b[39mfor\u001b[39;00m (arg, name) \u001b[39min\u001b[39;00m \u001b[39mzip\u001b[39m(a, names)\n\u001b[0;32m     87\u001b[0m ]\n\u001b[0;32m     88\u001b[0m new_kw \u001b[39m=\u001b[39m {k: fun(v) \u001b[39mif\u001b[39;00m k \u001b[39min\u001b[39;00m varnames \u001b[39melse\u001b[39;00m v \u001b[39mfor\u001b[39;00m (k, v) \u001b[39min\u001b[39;00m kw\u001b[39m.\u001b[39mitems()}\n\u001b[1;32m---> 89\u001b[0m \u001b[39mreturn\u001b[39;00m f(\u001b[39m*\u001b[39mnew_a, \u001b[39m*\u001b[39m\u001b[39m*\u001b[39mnew_kw)\n",
      "File \u001b[1;32mc:\\Users\\Matheus\\anaconda3\\envs\\Pyflow\\lib\\site-packages\\moviepy\\video\\io\\VideoFileClip.py:103\u001b[0m, in \u001b[0;36mVideoFileClip.__init__\u001b[1;34m(self, filename, decode_file, has_mask, audio, audio_buffersize, target_resolution, resize_algorithm, audio_fps, audio_nbytes, fps_source, pix_fmt)\u001b[0m\n\u001b[0;32m    101\u001b[0m \u001b[39mif\u001b[39;00m \u001b[39mnot\u001b[39;00m pix_fmt:\n\u001b[0;32m    102\u001b[0m     pix_fmt \u001b[39m=\u001b[39m \u001b[39m\"\u001b[39m\u001b[39mrgba\u001b[39m\u001b[39m\"\u001b[39m \u001b[39mif\u001b[39;00m has_mask \u001b[39melse\u001b[39;00m \u001b[39m\"\u001b[39m\u001b[39mrgb24\u001b[39m\u001b[39m\"\u001b[39m\n\u001b[1;32m--> 103\u001b[0m \u001b[39mself\u001b[39m\u001b[39m.\u001b[39mreader \u001b[39m=\u001b[39m FFMPEG_VideoReader(\n\u001b[0;32m    104\u001b[0m     filename,\n\u001b[0;32m    105\u001b[0m     decode_file\u001b[39m=\u001b[39;49mdecode_file,\n\u001b[0;32m    106\u001b[0m     pix_fmt\u001b[39m=\u001b[39;49mpix_fmt,\n\u001b[0;32m    107\u001b[0m     target_resolution\u001b[39m=\u001b[39;49mtarget_resolution,\n\u001b[0;32m    108\u001b[0m     resize_algo\u001b[39m=\u001b[39;49mresize_algorithm,\n\u001b[0;32m    109\u001b[0m     fps_source\u001b[39m=\u001b[39;49mfps_source,\n\u001b[0;32m    110\u001b[0m )\n\u001b[0;32m    112\u001b[0m \u001b[39m# Make some of the reader's attributes accessible from the clip\u001b[39;00m\n\u001b[0;32m    113\u001b[0m \u001b[39mself\u001b[39m\u001b[39m.\u001b[39mduration \u001b[39m=\u001b[39m \u001b[39mself\u001b[39m\u001b[39m.\u001b[39mreader\u001b[39m.\u001b[39mduration\n",
      "File \u001b[1;32mc:\\Users\\Matheus\\anaconda3\\envs\\Pyflow\\lib\\site-packages\\moviepy\\video\\io\\ffmpeg_reader.py:35\u001b[0m, in \u001b[0;36mFFMPEG_VideoReader.__init__\u001b[1;34m(self, filename, decode_file, print_infos, bufsize, pix_fmt, check_duration, target_resolution, resize_algo, fps_source)\u001b[0m\n\u001b[0;32m     33\u001b[0m \u001b[39mself\u001b[39m\u001b[39m.\u001b[39mfilename \u001b[39m=\u001b[39m filename\n\u001b[0;32m     34\u001b[0m \u001b[39mself\u001b[39m\u001b[39m.\u001b[39mproc \u001b[39m=\u001b[39m \u001b[39mNone\u001b[39;00m\n\u001b[1;32m---> 35\u001b[0m infos \u001b[39m=\u001b[39m ffmpeg_parse_infos(\n\u001b[0;32m     36\u001b[0m     filename, decode_file, print_infos, check_duration, fps_source\n\u001b[0;32m     37\u001b[0m )\n\u001b[0;32m     38\u001b[0m \u001b[39mself\u001b[39m\u001b[39m.\u001b[39mfps \u001b[39m=\u001b[39m infos[\u001b[39m\"\u001b[39m\u001b[39mvideo_fps\u001b[39m\u001b[39m\"\u001b[39m]\n\u001b[0;32m     39\u001b[0m \u001b[39mself\u001b[39m\u001b[39m.\u001b[39msize \u001b[39m=\u001b[39m infos[\u001b[39m\"\u001b[39m\u001b[39mvideo_size\u001b[39m\u001b[39m\"\u001b[39m]\n",
      "File \u001b[1;32mc:\\Users\\Matheus\\anaconda3\\envs\\Pyflow\\lib\\site-packages\\moviepy\\video\\io\\ffmpeg_reader.py:321\u001b[0m, in \u001b[0;36mffmpeg_parse_infos\u001b[1;34m(filename, decode_file, print_infos, check_duration, fps_source)\u001b[0m\n\u001b[0;32m    319\u001b[0m lines \u001b[39m=\u001b[39m infos\u001b[39m.\u001b[39msplitlines()\n\u001b[0;32m    320\u001b[0m \u001b[39mif\u001b[39;00m \u001b[39m\"\u001b[39m\u001b[39mNo such file or directory\u001b[39m\u001b[39m\"\u001b[39m \u001b[39min\u001b[39;00m lines[\u001b[39m-\u001b[39m\u001b[39m1\u001b[39m]:\n\u001b[1;32m--> 321\u001b[0m     \u001b[39mraise\u001b[39;00m \u001b[39mIOError\u001b[39;00m(\n\u001b[0;32m    322\u001b[0m         (\n\u001b[0;32m    323\u001b[0m             \u001b[39m\"\u001b[39m\u001b[39mMoviePy error: the file \u001b[39m\u001b[39m%s\u001b[39;00m\u001b[39m could not be found!\u001b[39m\u001b[39m\\n\u001b[39;00m\u001b[39m\"\u001b[39m\n\u001b[0;32m    324\u001b[0m             \u001b[39m\"\u001b[39m\u001b[39mPlease check that you entered the correct \u001b[39m\u001b[39m\"\u001b[39m\n\u001b[0;32m    325\u001b[0m             \u001b[39m\"\u001b[39m\u001b[39mpath.\u001b[39m\u001b[39m\"\u001b[39m\n\u001b[0;32m    326\u001b[0m         )\n\u001b[0;32m    327\u001b[0m         \u001b[39m%\u001b[39m filename\n\u001b[0;32m    328\u001b[0m     )\n\u001b[0;32m    330\u001b[0m result \u001b[39m=\u001b[39m \u001b[39mdict\u001b[39m()\n\u001b[0;32m    332\u001b[0m \u001b[39m# get duration (in seconds)\u001b[39;00m\n",
      "\u001b[1;31mOSError\u001b[0m: MoviePy error: the file .\\temp\\result.mp4 could not be found!\nPlease check that you entered the correct path."
     ]
    }
   ],
   "source": [
    "%run first-order-model/demo.py  --config first-order-model/config/vox-256.yaml --driving_video final.mp4 --source_image result0.jpg --checkpoint first-order-model/checkpoint/vox-cpk.pth.tar --relative --adapt_scale\n",
    "\n",
    "from moviepy.editor import VideoFileClip, concatenate_videoclips, AudioFileClip, ImageSequenceClip, CompositeAudioClip\n",
    "\n",
    "audio1 = AudioFileClip(\".\\\\final.mp4\")\n",
    "video = VideoFileClip('.\\\\result.mp4')   \n",
    "final_video = video.set_audio(audio1) \n",
    "final_video.write_videofile(\".\\\\full_audio.mp4\")\n"
   ]
  }
 ],
 "metadata": {
  "kernelspec": {
   "display_name": "Pyflow",
   "language": "python",
   "name": "python3"
  },
  "language_info": {
   "codemirror_mode": {
    "name": "ipython",
    "version": 3
   },
   "file_extension": ".py",
   "mimetype": "text/x-python",
   "name": "python",
   "nbconvert_exporter": "python",
   "pygments_lexer": "ipython3",
   "version": "3.9.16 (main, Jan 11 2023, 16:16:36) [MSC v.1916 64 bit (AMD64)]"
  },
  "orig_nbformat": 4,
  "vscode": {
   "interpreter": {
    "hash": "6cb0dd519e46c84f14fc2d0d6172fde6407ecb78b6d95b871c78761f2e6e52fb"
   }
  }
 },
 "nbformat": 4,
 "nbformat_minor": 2
}
