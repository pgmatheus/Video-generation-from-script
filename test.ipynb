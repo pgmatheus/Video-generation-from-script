{
 "cells": [
  {
   "cell_type": "code",
   "execution_count": null,
   "metadata": {},
   "outputs": [],
   "source": [
    "import os\n",
    "from scripts_2.utilities import interp_fram\n",
    "import shutil\n",
    "\n",
    "root_folder = \"F:/gg/templates/to_proccess\"\n",
    "dest_root_folder = \"F:/gg/templates/interpolated/\"\n",
    "project_name = ['evolution','life']\n",
    "\n",
    "if not os.path.exists(dest_root_folder):\n",
    "    os.mkdir(dest_root_folder)\n",
    "\n",
    "def copy_file_and_rename(file_path,destination_folder,new_name):\n",
    "    filename =  os.path.basename(file_path)\n",
    "    shutil.copy(file_path, destination_folder)\n",
    "    os.rename(f'{destination_folder}/{filename}',new_name)\n",
    "\n",
    "for proj_name in project_name:\n",
    "    cont = 0\n",
    "    full_origin_directory = f'{root_folder}/{proj_name}/0000000'\n",
    "    dest_root_project_name = f'{dest_root_folder}/{proj_name}'\n",
    "    temp_folder = f'{dest_root_folder}/temp_folder'\n",
    "\n",
    "    if not os.path.exists(dest_root_project_name):\n",
    "        os.mkdir(dest_root_project_name)\n",
    "    \n",
    "    for folder in os.listdir(full_origin_directory):\n",
    "        current_origin_folder = f'{full_origin_directory}/{folder}'\n",
    "        \n",
    "        if cont != 0:\n",
    "            if os.path.exists(temp_folder):\n",
    "                shutil.rmtree(temp_folder)\n",
    "                os.mkdir(temp_folder)\n",
    "            path_first_img = f'{full_origin_directory}/{(int(folder)-1):07d}/a_000000147.png'\n",
    "            path_second_img = f'{full_origin_directory}/{(int(folder)):07d}/a_000000000.png'\n",
    "            copy_file_and_rename(path_first_img,temp_folder,'a_000000001.png')\n",
    "            copy_file_and_rename(path_second_img,temp_folder,'a_000000001.png')\n",
    "\n",
    "\n",
    "        \"\"\" if not os.path.exists(current_origin_\n",
    "         \"\"\"\n",
    "\n"
   ]
  },
  {
   "cell_type": "code",
   "execution_count": 1,
   "metadata": {},
   "outputs": [
    {
     "name": "stdout",
     "output_type": "stream",
     "text": [
      "Moviepy - Building video F:/gg/merged_video2.mp4.\n",
      "MoviePy - Writing audio in merged_video2TEMP_MPY_wvf_snd.mp3\n"
     ]
    },
    {
     "name": "stderr",
     "output_type": "stream",
     "text": [
      "                                                                      \r"
     ]
    },
    {
     "name": "stdout",
     "output_type": "stream",
     "text": [
      "MoviePy - Done.\n",
      "Moviepy - Writing video F:/gg/merged_video2.mp4\n",
      "\n"
     ]
    },
    {
     "name": "stderr",
     "output_type": "stream",
     "text": [
      "                                                                  \r"
     ]
    },
    {
     "name": "stdout",
     "output_type": "stream",
     "text": [
      "Moviepy - Done !\n",
      "Moviepy - video ready F:/gg/merged_video2.mp4\n"
     ]
    }
   ],
   "source": [
    "\"\"\" from scripts_2.utilities import merge_video_with_audio\n",
    "\n",
    "\n",
    "merge_video_with_audio('F:/gg/result3.mp4','F:/gg/musics/M000001.wav','F:/gg/merged_video2.mp4') \"\"\""
   ]
  },
  {
   "cell_type": "code",
   "execution_count": 2,
   "metadata": {},
   "outputs": [
    {
     "data": {
      "text/plain": [
       "\" from scripts_2.utilities import interp_fram\\n\\n\\n\\n\\ninterp_fram.run({\\n       'times_to_interpolate': 2, #multiplier of the frames\\n       'path': 'F:/gg/test_inp', #input folder with pngs\\n       'out_path': 'F:/gg/test_inter', # output folder\\n       'w_o': 512, # width output\\n       'h_o': 512, # height output \\n})\\n \""
      ]
     },
     "execution_count": 2,
     "metadata": {},
     "output_type": "execute_result"
    }
   ],
   "source": [
    "\"\"\" from scripts_2.utilities import interp_fram\n",
    "\n",
    "\n",
    "\n",
    "\n",
    "interp_fram.run({\n",
    "       'times_to_interpolate': 2, #multiplier of the frames\n",
    "       'path': 'F:/gg/test_inp', #input folder with pngs\n",
    "       'out_path': 'F:/gg/test_inter', # output folder\n",
    "       'w_o': 512, # width output\n",
    "       'h_o': 512, # height output \n",
    "})\n",
    " \"\"\"\n"
   ]
  },
  {
   "cell_type": "code",
   "execution_count": 3,
   "metadata": {},
   "outputs": [
    {
     "name": "stdout",
     "output_type": "stream",
     "text": [
      "q\n"
     ]
    }
   ],
   "source": [
    "\"\"\" from scripts_2.high_res_img import high_img\n",
    "import torch\n",
    "import gc\n",
    "import cv2\n",
    "import time\n",
    "import os\n",
    "from tqdm import tqdm\n",
    "high_img_f = high_img(4)\n",
    "\n",
    "\n",
    "start = time.time() \n",
    "\n",
    "\n",
    "for file in tqdm(os.listdir('./test_inp/')):\n",
    "\n",
    "    high_img_f.run({\n",
    "    'face': False, # reconstruct face\n",
    "    'path': f'./test_inp/{file}', # image path\n",
    "    'w_i': 480, # width to be resized \n",
    "    'h_i': 270, # height to be resized\n",
    "    'w_o': 1920, # width to be resized \n",
    "    'h_o': 1080, # height to be resized    \n",
    "    'out_path': f'./test/{file}', # image output location\n",
    "    'return_out': 'nothing', # return the data to use later\n",
    "    'show_image': False, # show output\n",
    "}) \n",
    "\n",
    "end = time.time()\n",
    "\n",
    "print(end-start)\n",
    "del high_img_f\n",
    "print(torch.cuda.memory_allocated())\n",
    "\"\"\"\n",
    "\n",
    "\n",
    "\n",
    "\n",
    "\n",
    "\n",
    "\n",
    "\n",
    "\n",
    "\n",
    "\"\"\" import cv2\n",
    "import numpy as np\n",
    "import os\n",
    "import tensorflow as tf\n",
    "from moviepy.editor import VideoFileClip, AudioFileClip, concatenate_videoclips\n",
    "\n",
    "# Load the video and audio files\n",
    "video = VideoFileClip(\"f:/f.mp4\")\n",
    "audio = AudioFileClip(\"f:/f.wav\")\n",
    "\n",
    "# Create an audio clip that is the same length as the video\n",
    "audio = audio.set_duration(video.duration)\n",
    "\n",
    "# Merge the video and audio\n",
    "final_clip = video.set_audio(audio)\n",
    "\n",
    "# Write the final clip to a file\n",
    "final_clip.write_videofile(\"f:/m.mp4\", codec=\"libx264\")\n",
    "# Load the two images \"\"\"\n",
    "\n",
    "\"\"\" def resize_image(data):\n",
    "  resized_img = tf.image.resize(\n",
    "  images=data,\n",
    "  # size=[270, 480],     \n",
    "  size=[1080, 1920], \n",
    "  method=tf.image.ResizeMethod.BILINEAR,\n",
    "  preserve_aspect_ratio=False,\n",
    "  antialias=True,\n",
    "  )    \n",
    "  return resized_img\n",
    "\n",
    "img = cv2.imread(\"./z.png\")\n",
    "img = resize_image(img).numpy()\n",
    "#img = cv2.resize(img,(1920,1080))\n",
    "\n",
    "cv2.imwrite(\"007_ma.png\",img) \"\"\"\n",
    "\n",
    "\"\"\" import cv2\n",
    "s_img = cv2.imread(\"F:/gg/templates/hq/a globe inside a jar/0000002/output_0000.png\")\n",
    "s_img = cv2.resize(s_img,(672,378))\n",
    "l_img = cv2.imread(\"D:\\\\Deletar\\\\p_gen\\\\john test\\\\merged\\\\output_0000.png\")\n",
    "x_offset=1150\n",
    "y_offset = 300\n",
    "l_img[y_offset:y_offset+s_img.shape[0], x_offset:x_offset+s_img.shape[1]] = s_img\n",
    "\n",
    "cv2.imwrite('./test.png', l_img) \"\"\"\n",
    "\n",
    "\n",
    "\"\"\" def merge_gg(s_img,l_img,output,x_offset=1150,y_offset = 300):\n",
    "    s_img = cv2.imread(s_img)\n",
    "    s_img = cv2.resize(s_img,(672,378))\n",
    "    l_img = cv2.imread(l_img)\n",
    "    l_img[y_offset:y_offset+s_img.shape[0], x_offset:x_offset+s_img.shape[1]] = s_img\n",
    "    cv2.imwrite(output, l_img)\n",
    "\n",
    "for img_path in os.listdir('D:\\\\Deletar\\\\p_gen\\\\john test\\\\merged'):\n",
    "    if img_path[-3:] == 'png':\n",
    "        merge_gg(f\"F:/gg/templates/hq/a globe inside a\n",
    "        jar/0000002/{img_path}\",f\"D:\\\\Deletar\\\\p_gen\\\\john\n",
    "        test\\\\merged\\\\{img_path}\",f\"./test/{img_path}\") \"\"\"\n",
    "\n",
    "print('q')"
   ]
  }
 ],
 "metadata": {
  "kernelspec": {
   "display_name": "Pyflow",
   "language": "python",
   "name": "python3"
  },
  "language_info": {
   "codemirror_mode": {
    "name": "ipython",
    "version": 3
   },
   "file_extension": ".py",
   "mimetype": "text/x-python",
   "name": "python",
   "nbconvert_exporter": "python",
   "pygments_lexer": "ipython3",
   "version": "3.9.16 (main, Jan 11 2023, 16:16:36) [MSC v.1916 64 bit (AMD64)]"
  },
  "orig_nbformat": 4,
  "vscode": {
   "interpreter": {
    "hash": "6cb0dd519e46c84f14fc2d0d6172fde6407ecb78b6d95b871c78761f2e6e52fb"
   }
  }
 },
 "nbformat": 4,
 "nbformat_minor": 2
}
