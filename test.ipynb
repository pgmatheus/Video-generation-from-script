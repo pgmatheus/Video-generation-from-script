{
 "cells": [
  {
   "cell_type": "code",
   "execution_count": 6,
   "metadata": {},
   "outputs": [
    {
     "ename": "AttributeError",
     "evalue": "'CompositeVideoClip' object has no attribute 'translate'",
     "output_type": "error",
     "traceback": [
      "\u001b[1;31m---------------------------------------------------------------------------\u001b[0m",
      "\u001b[1;31mAttributeError\u001b[0m                            Traceback (most recent call last)",
      "Cell \u001b[1;32mIn[6], line 16\u001b[0m\n\u001b[0;32m     14\u001b[0m clips \u001b[39m=\u001b[39m []\n\u001b[0;32m     15\u001b[0m \u001b[39mfor\u001b[39;00m translation, scale \u001b[39min\u001b[39;00m \u001b[39mzip\u001b[39m(translations, scales):\n\u001b[1;32m---> 16\u001b[0m     clip \u001b[39m=\u001b[39m CompositeVideoClip([img\u001b[39m.\u001b[39;49mset_position(\u001b[39m'\u001b[39;49m\u001b[39mcenter\u001b[39;49m\u001b[39m'\u001b[39;49m)], size\u001b[39m=\u001b[39;49mimg\u001b[39m.\u001b[39;49msize, bg_color\u001b[39m=\u001b[39;49m(\u001b[39m255\u001b[39;49m, \u001b[39m255\u001b[39;49m, \u001b[39m255\u001b[39;49m))\u001b[39m.\u001b[39;49mset_opacity(\u001b[39m0\u001b[39;49m)\u001b[39m.\u001b[39;49mtranslate(x\u001b[39m=\u001b[39mtranslation[\u001b[39m0\u001b[39m], y\u001b[39m=\u001b[39mtranslation[\u001b[39m1\u001b[39m])\u001b[39m.\u001b[39mresize(scale)\n\u001b[0;32m     17\u001b[0m     clips\u001b[39m.\u001b[39mappend(clip\u001b[39m.\u001b[39mset_duration(clip_duration))\n\u001b[0;32m     19\u001b[0m \u001b[39m# Concatenate the clips into a final video\u001b[39;00m\n",
      "\u001b[1;31mAttributeError\u001b[0m: 'CompositeVideoClip' object has no attribute 'translate'"
     ]
    }
   ],
   "source": [
    "from moviepy.editor import *\n",
    "\n",
    "# Load the source image\n",
    "img = ImageClip(\".\\\\c.jpg\")\n",
    "\n",
    "# Set the duration for each clip\n",
    "clip_duration = 2\n",
    "\n",
    "# Create a list of translations and scales to apply to the source image\n",
    "translations = [(100, 100), (-100, -100), (0, 200), (200, 0)]\n",
    "scales = [1.2, 0.8, 1.5, 0.5]\n",
    "\n",
    "# Create a list of clips by applying translations and scales to the source image\n",
    "clips = []\n",
    "for translation, scale in zip(translations, scales):\n",
    "    clip = CompositeVideoClip([img.set_position('center')], size=img.size, bg_color=(255, 255, 255)).set_opacity(0).translate(x=translation[0], y=translation[1]).resize(scale)\n",
    "    clips.append(clip.set_duration(clip_duration))\n",
    "\n",
    "# Concatenate the clips into a final video\n",
    "final_clip = concatenate_videoclips(clips)\n",
    "\n",
    "# Write the final video to a file\n",
    "final_clip.write_videofile(\".\\\\my_video.mp4\", fps=30)"
   ]
  }
 ],
 "metadata": {
  "kernelspec": {
   "display_name": "Pyflow",
   "language": "python",
   "name": "python3"
  },
  "language_info": {
   "codemirror_mode": {
    "name": "ipython",
    "version": 3
   },
   "file_extension": ".py",
   "mimetype": "text/x-python",
   "name": "python",
   "nbconvert_exporter": "python",
   "pygments_lexer": "ipython3",
   "version": "3.9.16 (main, Jan 11 2023, 16:16:36) [MSC v.1916 64 bit (AMD64)]"
  },
  "orig_nbformat": 4,
  "vscode": {
   "interpreter": {
    "hash": "6cb0dd519e46c84f14fc2d0d6172fde6407ecb78b6d95b871c78761f2e6e52fb"
   }
  }
 },
 "nbformat": 4,
 "nbformat_minor": 2
}
