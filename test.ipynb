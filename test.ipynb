{
 "cells": [
  {
   "cell_type": "code",
   "execution_count": 2,
   "metadata": {},
   "outputs": [],
   "source": [
    "import cv2\n",
    "import numpy as np\n",
    "import os\n",
    "\n",
    "# Load the two images\n",
    "\n",
    "\"\"\" import cv2\n",
    "s_img = cv2.imread(\"F:/gg/templates/hq/a globe inside a jar/0000002/output_0000.png\")\n",
    "s_img = cv2.resize(s_img,(672,378))\n",
    "l_img = cv2.imread(\"D:\\\\Deletar\\\\p_gen\\\\john test\\\\merged\\\\output_0000.png\")\n",
    "x_offset=1150\n",
    "y_offset = 300\n",
    "l_img[y_offset:y_offset+s_img.shape[0], x_offset:x_offset+s_img.shape[1]] = s_img\n",
    "\n",
    "cv2.imwrite('./test.png', l_img) \"\"\"\n",
    "\n",
    "\n",
    "def merge_gg(s_img,l_img,output,x_offset=1150,y_offset = 300):\n",
    "    s_img = cv2.imread(s_img)\n",
    "    s_img = cv2.resize(s_img,(672,378))\n",
    "    l_img = cv2.imread(l_img)\n",
    "    l_img[y_offset:y_offset+s_img.shape[0], x_offset:x_offset+s_img.shape[1]] = s_img\n",
    "    cv2.imwrite(output, l_img)\n",
    "\n",
    "for img_path in os.listdir('D:\\\\Deletar\\\\p_gen\\\\john test\\\\merged'):\n",
    "    if img_path[-3:] == 'png':\n",
    "        merge_gg(f\"F:/gg/templates/hq/a globe inside a jar/0000002/{img_path}\",f\"D:\\\\Deletar\\\\p_gen\\\\john test\\\\merged\\\\{img_path}\",f\"./test/{img_path}\")\n"
   ]
  }
 ],
 "metadata": {
  "kernelspec": {
   "display_name": "Pyflow",
   "language": "python",
   "name": "python3"
  },
  "language_info": {
   "codemirror_mode": {
    "name": "ipython",
    "version": 3
   },
   "file_extension": ".py",
   "mimetype": "text/x-python",
   "name": "python",
   "nbconvert_exporter": "python",
   "pygments_lexer": "ipython3",
   "version": "3.9.16 (main, Jan 11 2023, 16:16:36) [MSC v.1916 64 bit (AMD64)]"
  },
  "orig_nbformat": 4,
  "vscode": {
   "interpreter": {
    "hash": "6cb0dd519e46c84f14fc2d0d6172fde6407ecb78b6d95b871c78761f2e6e52fb"
   }
  }
 },
 "nbformat": 4,
 "nbformat_minor": 2
}
