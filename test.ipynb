{
 "cells": [
  {
   "cell_type": "code",
   "execution_count": 5,
   "metadata": {},
   "outputs": [
    {
     "data": {
      "text/plain": [
       "' from moviepy.editor import *\\n\\n# Load the source image\\nimg = ImageClip(\".\\\\c.jpg\")\\n\\n# Set the duration for each clip\\nclip_duration = 2\\n\\n# Create a list of translations and scales to apply to the source image\\ntranslations = [(100, 100), (-100, -100), (0, 200), (200, 0)]\\nscales = [1.2, 0.8, 1.5, 0.5]\\n\\n# Create a list of clips by applying translations and scales to the source image\\nclips = []\\nfor translation, scale in zip(translations, scales):\\n    clip = CompositeVideoClip([img.set_position(\\'center\\')], size=img.size, bg_color=(255, 255, 255)).set_opacity(0).translate(x=translation[0], y=translation[1]).resize(scale)\\n    clips.append(clip.set_duration(clip_duration))\\n\\n# Concatenate the clips into a final video\\nfinal_clip = concatenate_videoclips(clips)\\n\\n# Write the final video to a file\\nfinal_clip.write_videofile(\".\\\\my_video.mp4\", fps=30) '"
      ]
     },
     "execution_count": 5,
     "metadata": {},
     "output_type": "execute_result"
    }
   ],
   "source": [
    "from PIL import Image\n",
    "\n",
    "def generate_transitions(image_path1, image_path2, output_location):\n",
    "\n",
    "    image1 = Image.open(image_path1)\n",
    "    image2 = Image.open(image_path2)\n",
    "\n",
    "    width, height = image1.size\n",
    "    frames = []\n",
    "    num_frames = 10\n",
    "    # Create each frame of the transition animation\n",
    "    for i in range(num_frames):\n",
    "        # Calculate the alpha value for the current frame\n",
    "        alpha = int((i / (num_frames - 1)) * 255)\n",
    "\n",
    "        # Create a new image with a transparent background\n",
    "        frame = Image.new(\"RGBA\", (width, height), (0, 0, 0, 0))\n",
    "\n",
    "        # Create two temporary images with the current alpha value\n",
    "        temp1 = image1.copy().convert(\"RGBA\")\n",
    "        temp1.putalpha(255 - alpha)\n",
    "        temp2 = image2.copy().convert(\"RGBA\")\n",
    "        temp2.putalpha(alpha)\n",
    "\n",
    "        # Combine the temporary images using alpha_composite()\n",
    "        blended = Image.alpha_composite(temp1, temp2)\n",
    "\n",
    "        # Paste the blended image onto the new frame\n",
    "        frame.paste(blended, (0, 0))\n",
    "\n",
    "        # Add the new frame to the list of frames\n",
    "        frames.append(frame)\n",
    "\n",
    "    # Save the frames as PNG files\n",
    "    for i, frame in enumerate(frames):\n",
    "        frame.save(f\"{output_location}/t_{i:02d}.png\", format=\"PNG\")\n",
    "\n",
    "generate_transitions(\"./_00119.png\",\"./_00000.png\",\"./output\")\n",
    "\n",
    "\n",
    "\n",
    "\n",
    "\n",
    "\n",
    "\n",
    "\n",
    "\n",
    "\n",
    "\n",
    "\"\"\" from moviepy.editor import *\n",
    "\n",
    "# Load the source image\n",
    "img = ImageClip(\".\\\\c.jpg\")\n",
    "\n",
    "# Set the duration for each clip\n",
    "clip_duration = 2\n",
    "\n",
    "# Create a list of translations and scales to apply to the source image\n",
    "translations = [(100, 100), (-100, -100), (0, 200), (200, 0)]\n",
    "scales = [1.2, 0.8, 1.5, 0.5]\n",
    "\n",
    "# Create a list of clips by applying translations and scales to the source image\n",
    "clips = []\n",
    "for translation, scale in zip(translations, scales):\n",
    "    clip = CompositeVideoClip([img.set_position('center')], size=img.size, bg_color=(255, 255, 255)).set_opacity(0).translate(x=translation[0], y=translation[1]).resize(scale)\n",
    "    clips.append(clip.set_duration(clip_duration))\n",
    "\n",
    "# Concatenate the clips into a final video\n",
    "final_clip = concatenate_videoclips(clips)\n",
    "\n",
    "# Write the final video to a file\n",
    "final_clip.write_videofile(\".\\\\my_video.mp4\", fps=30) \"\"\""
   ]
  }
 ],
 "metadata": {
  "kernelspec": {
   "display_name": "Pyflow",
   "language": "python",
   "name": "python3"
  },
  "language_info": {
   "codemirror_mode": {
    "name": "ipython",
    "version": 3
   },
   "file_extension": ".py",
   "mimetype": "text/x-python",
   "name": "python",
   "nbconvert_exporter": "python",
   "pygments_lexer": "ipython3",
   "version": "3.9.16 (main, Jan 11 2023, 16:16:36) [MSC v.1916 64 bit (AMD64)]"
  },
  "orig_nbformat": 4,
  "vscode": {
   "interpreter": {
    "hash": "6cb0dd519e46c84f14fc2d0d6172fde6407ecb78b6d95b871c78761f2e6e52fb"
   }
  }
 },
 "nbformat": 4,
 "nbformat_minor": 2
}
