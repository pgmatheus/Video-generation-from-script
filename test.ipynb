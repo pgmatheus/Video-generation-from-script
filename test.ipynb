{
 "cells": [
  {
   "cell_type": "code",
   "execution_count": 1,
   "metadata": {},
   "outputs": [
    {
     "name": "stdout",
     "output_type": "stream",
     "text": [
      "Moviepy - Building video f:/m.mp4.\n",
      "MoviePy - Writing audio in mTEMP_MPY_wvf_snd.mp3\n"
     ]
    },
    {
     "name": "stderr",
     "output_type": "stream",
     "text": [
      "                                                                      \r"
     ]
    },
    {
     "name": "stdout",
     "output_type": "stream",
     "text": [
      "MoviePy - Done.\n",
      "Moviepy - Writing video f:/m.mp4\n",
      "\n"
     ]
    },
    {
     "name": "stderr",
     "output_type": "stream",
     "text": [
      "                                                                 \r"
     ]
    },
    {
     "name": "stdout",
     "output_type": "stream",
     "text": [
      "Moviepy - Done !\n",
      "Moviepy - video ready f:/m.mp4\n"
     ]
    },
    {
     "data": {
      "text/plain": [
       "' def merge_gg(s_img,l_img,output,x_offset=1150,y_offset = 300):\\n    s_img = cv2.imread(s_img)\\n    s_img = cv2.resize(s_img,(672,378))\\n    l_img = cv2.imread(l_img)\\n    l_img[y_offset:y_offset+s_img.shape[0], x_offset:x_offset+s_img.shape[1]] = s_img\\n    cv2.imwrite(output, l_img)\\n\\nfor img_path in os.listdir(\\'D:\\\\Deletar\\\\p_gen\\\\john test\\\\merged\\'):\\n    if img_path[-3:] == \\'png\\':\\n        merge_gg(f\"F:/gg/templates/hq/a globe inside a jar/0000002/{img_path}\",f\"D:\\\\Deletar\\\\p_gen\\\\john test\\\\merged\\\\{img_path}\",f\"./test/{img_path}\") '"
      ]
     },
     "execution_count": 1,
     "metadata": {},
     "output_type": "execute_result"
    }
   ],
   "source": [
    "import cv2\n",
    "import numpy as np\n",
    "import os\n",
    "import tensorflow as tf\n",
    "from moviepy.editor import VideoFileClip, AudioFileClip, concatenate_videoclips\n",
    "\n",
    "# Load the video and audio files\n",
    "video = VideoFileClip(\"f:/f.mp4\")\n",
    "audio = AudioFileClip(\"f:/f.wav\")\n",
    "\n",
    "# Create an audio clip that is the same length as the video\n",
    "audio = audio.set_duration(video.duration)\n",
    "\n",
    "# Merge the video and audio\n",
    "final_clip = video.set_audio(audio)\n",
    "\n",
    "# Write the final clip to a file\n",
    "final_clip.write_videofile(\"f:/m.mp4\", codec=\"libx264\")\n",
    "# Load the two images\n",
    "\n",
    "\"\"\" def resize_image(data):\n",
    "  resized_img = tf.image.resize(\n",
    "  images=data,\n",
    "  # size=[270, 480],     \n",
    "  size=[1080, 1920], \n",
    "  method=tf.image.ResizeMethod.BILINEAR,\n",
    "  preserve_aspect_ratio=False,\n",
    "  antialias=True,\n",
    "  )    \n",
    "  return resized_img\n",
    "\n",
    "img = cv2.imread(\"./z.png\")\n",
    "img = resize_image(img).numpy()\n",
    "#img = cv2.resize(img,(1920,1080))\n",
    "\n",
    "cv2.imwrite(\"007_ma.png\",img) \"\"\"\n",
    "\n",
    "\"\"\" import cv2\n",
    "s_img = cv2.imread(\"F:/gg/templates/hq/a globe inside a jar/0000002/output_0000.png\")\n",
    "s_img = cv2.resize(s_img,(672,378))\n",
    "l_img = cv2.imread(\"D:\\\\Deletar\\\\p_gen\\\\john test\\\\merged\\\\output_0000.png\")\n",
    "x_offset=1150\n",
    "y_offset = 300\n",
    "l_img[y_offset:y_offset+s_img.shape[0], x_offset:x_offset+s_img.shape[1]] = s_img\n",
    "\n",
    "cv2.imwrite('./test.png', l_img) \"\"\"\n",
    "\n",
    "\n",
    "\"\"\" def merge_gg(s_img,l_img,output,x_offset=1150,y_offset = 300):\n",
    "    s_img = cv2.imread(s_img)\n",
    "    s_img = cv2.resize(s_img,(672,378))\n",
    "    l_img = cv2.imread(l_img)\n",
    "    l_img[y_offset:y_offset+s_img.shape[0], x_offset:x_offset+s_img.shape[1]] = s_img\n",
    "    cv2.imwrite(output, l_img)\n",
    "\n",
    "for img_path in os.listdir('D:\\\\Deletar\\\\p_gen\\\\john test\\\\merged'):\n",
    "    if img_path[-3:] == 'png':\n",
    "        merge_gg(f\"F:/gg/templates/hq/a globe inside a jar/0000002/{img_path}\",f\"D:\\\\Deletar\\\\p_gen\\\\john test\\\\merged\\\\{img_path}\",f\"./test/{img_path}\") \"\"\"\n"
   ]
  }
 ],
 "metadata": {
  "kernelspec": {
   "display_name": "Pyflow",
   "language": "python",
   "name": "python3"
  },
  "language_info": {
   "codemirror_mode": {
    "name": "ipython",
    "version": 3
   },
   "file_extension": ".py",
   "mimetype": "text/x-python",
   "name": "python",
   "nbconvert_exporter": "python",
   "pygments_lexer": "ipython3",
   "version": "3.9.16"
  },
  "orig_nbformat": 4,
  "vscode": {
   "interpreter": {
    "hash": "6cb0dd519e46c84f14fc2d0d6172fde6407ecb78b6d95b871c78761f2e6e52fb"
   }
  }
 },
 "nbformat": 4,
 "nbformat_minor": 2
}
