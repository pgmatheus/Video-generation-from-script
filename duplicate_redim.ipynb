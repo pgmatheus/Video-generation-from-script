{
 "cells": [
  {
   "cell_type": "code",
   "execution_count": 1,
   "metadata": {},
   "outputs": [],
   "source": [
    "import os\n",
    "import cv2\n",
    "INPUT_FOLDER = \"F:/gg/background/unmodded/\"\n",
    "PROJECT_NAME = \"230313 - castle\"\n",
    "INPUT_FOLDER = INPUT_FOLDER + PROJECT_NAME\n",
    "OUTPUT_FOLDER = 'F:/gg/background'"
   ]
  },
  {
   "cell_type": "code",
   "execution_count": 2,
   "metadata": {},
   "outputs": [],
   "source": [
    "frame_count = 0\n",
    "for i, filename in enumerate(os.listdir(INPUT_FOLDER)):\n",
    "    img = cv2.imread(f\"{INPUT_FOLDER}/{filename}\",cv2.IMREAD_UNCHANGED)\n",
    "    img = cv2.resize(img,(1920,1080))\n",
    "    cv2.imwrite(f\"{OUTPUT_FOLDER}/output_{frame_count:04d}.png\", img)\n",
    "    frame_count += 1\n",
    "    cv2.imwrite(f\"{OUTPUT_FOLDER}/output_{frame_count:04d}.png\", img)\n",
    "    frame_count += 1\n"
   ]
  }
 ],
 "metadata": {
  "kernelspec": {
   "display_name": "Pyflow",
   "language": "python",
   "name": "python3"
  },
  "language_info": {
   "codemirror_mode": {
    "name": "ipython",
    "version": 3
   },
   "file_extension": ".py",
   "mimetype": "text/x-python",
   "name": "python",
   "nbconvert_exporter": "python",
   "pygments_lexer": "ipython3",
   "version": "3.9.16"
  },
  "orig_nbformat": 4,
  "vscode": {
   "interpreter": {
    "hash": "6cb0dd519e46c84f14fc2d0d6172fde6407ecb78b6d95b871c78761f2e6e52fb"
   }
  }
 },
 "nbformat": 4,
 "nbformat_minor": 2
}
