{
 "cells": [
  {
   "cell_type": "code",
   "execution_count": 10,
   "metadata": {},
   "outputs": [
    {
     "data": {
      "text/plain": [
       "' #test later\\n# Open the original image and the alpha channel\\noriginal_image = Image.open(\"original_image.png\")\\nalpha_channel = Image.open(\"alpha_channel.png\")\\n\\n# Open the background image\\nbackground_image = Image.open(\"background_image.png\")\\n\\n# Create a new RGBA image with the same size as the background image\\nnew_image = Image.new(\"RGBA\", background_image.size)\\n\\n# Calculate the offset for pasting the original image onto the new image\\noffset = ((background_image.size[0] - original_image.size[0]) // 2, (background_image.size[1] - original_image.size[1]) // 2)\\n\\n# Paste the original image onto the new image using the alpha channel as the mask\\nnew_image.paste(background_image, (0, 0))\\nnew_image.alpha_composite(original_image, dest=offset)\\n\\n# Save the new image\\nnew_image.save(\"new_image.png\") '"
      ]
     },
     "execution_count": 10,
     "metadata": {},
     "output_type": "execute_result"
    }
   ],
   "source": [
    "\"\"\" import rembg\n",
    "import os\n",
    "\n",
    "def remove_background(input_path, output_path):\n",
    "    with open(input_path, \"rb\") as input_file, open(output_path, \"wb\") as output_file:\n",
    "        image = rembg.remove(input_file.read())\n",
    "        output_file.write(image)\n",
    "\n",
    "input_path = './3.png'\n",
    "output_path = './4.png'\n",
    "\n",
    "remove_background(input_path, output_path) \"\"\"\n",
    "\n",
    "from PIL import Image\n",
    "\n",
    "\"\"\" # Open the original image and the alpha channel\n",
    "original_image = Image.open(\"output_0251_o.png\")\n",
    "alpha_channel = Image.open(\"output_0251.png\")\n",
    "\n",
    "# Create a new image with the same size as the original image and a white background\n",
    "new_image = Image.new(\"RGBA\", original_image.size, (255, 255, 255, 255))\n",
    "\n",
    "# Paste the original image onto the new image using the alpha channel as the mask\n",
    "new_image.paste(original_image, (0, 0), mask=alpha_channel)\n",
    "\n",
    "# Open the background image and paste it onto the new image\n",
    "background_image = Image.open(\"background_image.png\")\n",
    "background_image = background_image.resize(original_image.size)\n",
    "new_image.paste(background_image, (0, 0))\n",
    "\n",
    "# Save the new image\n",
    "new_image.save(\"new_image.png\")\n",
    " \"\"\"\n",
    "\n",
    "#working\n",
    "\n",
    "# Open the original image and the alpha channel\n",
    "original_image = Image.open(\"original_image.png\")\n",
    "alpha_channel = Image.open(\"alpha_channel.png\")\n",
    "\n",
    "# Open the background image\n",
    "background_image = Image.open(\"background_image.png\")\n",
    "\n",
    "\"\"\" # Resize the original image and alpha channel to match the background image\n",
    "original_image = original_image.resize(background_image.size)\n",
    "alpha_channel = alpha_channel.resize(background_image.size) \"\"\"\n",
    "\n",
    "# Create a new image with the same size as the background image\n",
    "new_image = Image.new(\"RGBA\", background_image.size)\n",
    "\n",
    "# Paste the original image onto the new image using the alpha channel as the mask\n",
    "new_image.paste(background_image, (0, 0))\n",
    "new_image.paste(original_image, (0, 0), mask=alpha_channel)\n",
    "\n",
    "# Save the new image\n",
    "new_image.save(\"new_image.png\")\n",
    "\n"
   ]
  }
 ],
 "metadata": {
  "kernelspec": {
   "display_name": "Pyflow",
   "language": "python",
   "name": "python3"
  },
  "language_info": {
   "codemirror_mode": {
    "name": "ipython",
    "version": 3
   },
   "file_extension": ".py",
   "mimetype": "text/x-python",
   "name": "python",
   "nbconvert_exporter": "python",
   "pygments_lexer": "ipython3",
   "version": "3.9.16 (main, Jan 11 2023, 16:16:36) [MSC v.1916 64 bit (AMD64)]"
  },
  "orig_nbformat": 4,
  "vscode": {
   "interpreter": {
    "hash": "6cb0dd519e46c84f14fc2d0d6172fde6407ecb78b6d95b871c78761f2e6e52fb"
   }
  }
 },
 "nbformat": 4,
 "nbformat_minor": 2
}
