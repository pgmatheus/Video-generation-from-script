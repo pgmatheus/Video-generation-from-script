{
 "cells": [
  {
   "cell_type": "code",
   "execution_count": 1,
   "metadata": {},
   "outputs": [
    {
     "data": {
      "text/plain": [
       "' # Open the original image and the alpha channel\\noriginal_image = Image.open(\"F:/gg/test/o_output_0000.png\").resize([1920,1080])\\nalpha_channel = Image.open(\"F:/gg/test/a_output_0000.png\").resize([1920,1080])\\n\\n# Open the background image\\nbackground_image = Image.open(\"F:/gg/background/1.png\")\\n\\n# Resize the original image and alpha channel to match the background image\\n# original_image = original_image.resize(background_image.size)\\n# alpha_channel = alpha_channel.resize(background_image.size)\\n\\n# Create a new image with the same size as the background image\\nnew_image = Image.new(\"RGBA\", background_image.size)\\n\\n# Paste the original image onto the new image using the alpha channel as the mask\\nnew_image.paste(background_image, (0, 0))\\nnew_image.paste(original_image, (0, 0), mask=alpha_channel)\\n\\n# Save the new image\\nnew_image.save(\"./new_image.png\") '"
      ]
     },
     "execution_count": 1,
     "metadata": {},
     "output_type": "execute_result"
    }
   ],
   "source": [
    "\"\"\" import rembg\n",
    "import os\n",
    "\n",
    "def remove_background(input_path, output_path):\n",
    "    with open(input_path, \"rb\") as input_file, open(output_path, \"wb\") as output_file:\n",
    "        image = rembg.remove(input_file.read())\n",
    "        output_file.write(image)\n",
    "\n",
    "input_path = './3.png'\n",
    "output_path = './4.png'\n",
    "\n",
    "remove_background(input_path, output_path) \"\"\"\n",
    "\n",
    "from PIL import Image\n",
    "\n",
    "\"\"\" # Open the original image and the alpha channel\n",
    "original_image = Image.open(\"output_0251_o.png\")\n",
    "alpha_channel = Image.open(\"output_0251.png\")\n",
    "\n",
    "# Create a new image with the same size as the original image and a white background\n",
    "new_image = Image.new(\"RGBA\", original_image.size, (255, 255, 255, 255))\n",
    "\n",
    "# Paste the original image onto the new image using the alpha channel as the mask\n",
    "new_image.paste(original_image, (0, 0), mask=alpha_channel)\n",
    "\n",
    "# Open the background image and paste it onto the new image\n",
    "background_image = Image.open(\"background_image.png\")\n",
    "background_image = background_image.resize(original_image.size)\n",
    "new_image.paste(background_image, (0, 0))\n",
    "\n",
    "# Save the new image\n",
    "new_image.save(\"new_image.png\")\n",
    " \"\"\"\n",
    "\n",
    "#working\n",
    "\n",
    "\"\"\" # Open the original image and the alpha channel\n",
    "original_image = Image.open(\"F:/gg/test/o_output_0000.png\").resize([1920,1080])\n",
    "alpha_channel = Image.open(\"F:/gg/test/a_output_0000.png\").resize([1920,1080])\n",
    "\n",
    "# Open the background image\n",
    "background_image = Image.open(\"F:/gg/background/1.png\")\n",
    "\n",
    "# Resize the original image and alpha channel to match the background image\n",
    "# original_image = original_image.resize(background_image.size)\n",
    "# alpha_channel = alpha_channel.resize(background_image.size)\n",
    "\n",
    "# Create a new image with the same size as the background image\n",
    "new_image = Image.new(\"RGBA\", background_image.size)\n",
    "\n",
    "# Paste the original image onto the new image using the alpha channel as the mask\n",
    "new_image.paste(background_image, (0, 0))\n",
    "new_image.paste(original_image, (0, 0), mask=alpha_channel)\n",
    "\n",
    "# Save the new image\n",
    "new_image.save(\"./new_image.png\") \"\"\"\n",
    "\n",
    "\n",
    "# merge_bg(\"F:/gg/test/o_output_0000.png\",\"F:/gg/test/a_output_0000.png\",\"F:/gg/background/1.png\",\"./new_image.png\",)"
   ]
  },
  {
   "cell_type": "code",
   "execution_count": 2,
   "metadata": {},
   "outputs": [],
   "source": [
    "import cv2\n",
    "import numpy as np"
   ]
  },
  {
   "cell_type": "code",
   "execution_count": 3,
   "metadata": {},
   "outputs": [
    {
     "data": {
      "text/plain": [
       "' foreground = cv2.imread(\"F:/gg/test/o_output_0000.png\")\\nbackground = cv2.imread(\"F:/gg/background/1.png\")\\nalpha = cv2.imread(\"F:/gg/test/a_output_0000.png\")\\n\\n# Convert uint8 to float\\nforeground = foreground.astype(float)\\nbackground = background.astype(float)\\n\\n# Normalize the alpha mask to keep intensity between 0 and 1\\nalpha = alpha.astype(float)/255\\n\\n# Multiply the foreground with the alpha matte\\nforeground = cv2.multiply(alpha, foreground)\\n\\n# Multiply the background with ( 1 - alpha )\\nbackground = cv2.multiply(1.0 - alpha, background)\\n\\n# Add the masked foreground and background.\\noutImage = cv2.add(foreground, background)\\n\\ncv2.imwrite(\"./new_image.png\", outImage) '"
      ]
     },
     "execution_count": 3,
     "metadata": {},
     "output_type": "execute_result"
    }
   ],
   "source": [
    "# working\n",
    "\"\"\" foreground = cv2.imread(\"F:/gg/test/o_output_0000.png\")\n",
    "background = cv2.imread(\"F:/gg/background/1.png\")\n",
    "alpha = cv2.imread(\"F:/gg/test/a_output_0000.png\")\n",
    "\n",
    "# Convert uint8 to float\n",
    "foreground = foreground.astype(float)\n",
    "background = background.astype(float)\n",
    "\n",
    "# Normalize the alpha mask to keep intensity between 0 and 1\n",
    "alpha = alpha.astype(float)/255\n",
    "\n",
    "# Multiply the foreground with the alpha matte\n",
    "foreground = cv2.multiply(alpha, foreground)\n",
    "\n",
    "# Multiply the background with ( 1 - alpha )\n",
    "background = cv2.multiply(1.0 - alpha, background)\n",
    "\n",
    "# Add the masked foreground and background.\n",
    "outImage = cv2.add(foreground, background)\n",
    "\n",
    "cv2.imwrite(\"./new_image.png\", outImage) \"\"\"\n"
   ]
  },
  {
   "cell_type": "code",
   "execution_count": 4,
   "metadata": {},
   "outputs": [
    {
     "data": {
      "text/plain": [
       "True"
      ]
     },
     "execution_count": 4,
     "metadata": {},
     "output_type": "execute_result"
    }
   ],
   "source": [
    "offset_x = 100\n",
    "offset_y = 0\n",
    "\n",
    "foreground = cv2.imread(\"F:/gg/test/o_output_0000.png\")\n",
    "background = cv2.imread(\"F:/gg/background/1.png\")\n",
    "alpha = cv2.imread(\"F:/gg/test/a_output_0000.png\")\n",
    "output_path_img = \"./new_image.png\"\n",
    "\n",
    "# Add offset to foreground image\n",
    "rows, cols, channels = foreground.shape\n",
    "M = np.float32([[1, 0, offset_x], [0, 1, offset_y]])\n",
    "foreground = cv2.warpAffine(foreground, M, (cols, rows))\n",
    "alpha = cv2.warpAffine(alpha, M, (cols, rows))\n",
    "\n",
    "# Convert uint8 to float\n",
    "foreground = foreground.astype(float)\n",
    "background = background.astype(float)\n",
    "\n",
    "# Normalize the alpha mask to keep intensity between 0 and 1\n",
    "alpha = alpha.astype(float)/255\n",
    "\n",
    "# Multiply the foreground with the alpha matte\n",
    "foreground = cv2.multiply(alpha, foreground)\n",
    "\n",
    "# Multiply the background with ( 1 - alpha )\n",
    "background = cv2.multiply(1.0 - alpha, background)\n",
    "\n",
    "# Add the masked foreground and background.\n",
    "outImage = cv2.add(foreground, background)\n",
    "\n",
    "cv2.imwrite(output_path_img, outImage)\n"
   ]
  }
 ],
 "metadata": {
  "kernelspec": {
   "display_name": "Pyflow",
   "language": "python",
   "name": "python3"
  },
  "language_info": {
   "codemirror_mode": {
    "name": "ipython",
    "version": 3
   },
   "file_extension": ".py",
   "mimetype": "text/x-python",
   "name": "python",
   "nbconvert_exporter": "python",
   "pygments_lexer": "ipython3",
   "version": "3.9.16 (main, Jan 11 2023, 16:16:36) [MSC v.1916 64 bit (AMD64)]"
  },
  "orig_nbformat": 4,
  "vscode": {
   "interpreter": {
    "hash": "6cb0dd519e46c84f14fc2d0d6172fde6407ecb78b6d95b871c78761f2e6e52fb"
   }
  }
 },
 "nbformat": 4,
 "nbformat_minor": 2
}
