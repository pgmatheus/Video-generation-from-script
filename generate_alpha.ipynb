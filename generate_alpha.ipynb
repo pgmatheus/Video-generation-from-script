{
 "cells": [
  {
   "cell_type": "code",
   "execution_count": null,
   "metadata": {},
   "outputs": [],
   "source": [
    "from scripts_2.utilities import get_alpha\n",
    "import os\n",
    "import cv2\n",
    "\n",
    "EXTERNAL = True\n",
    "\n",
    "FOLDER_TO_GET_ALPHA = 'lip'\n",
    "\n",
    "if EXTERNAL:\n",
    "    %store -r WIDTH\n",
    "    %store -r HEIGHT\n",
    "    %store -r TEXT\n",
    "    %store -r VISUALIZE\n",
    "    %store -r SAVE_FOLDER\n",
    "    %store -r PROJECT_NAME\n",
    "    %store -r SHOW_OUTPUT\n",
    "    %store -r IMG_NUMBER\n",
    "    %store -r THUMBNAIL\n",
    "    %store -r SKIP_VIDEO\n",
    "    %store -r MERGE_VIDEO\n",
    "    %store -r TEXT_VOICE_GEN\n",
    "    %store -r LANGUAGES\n",
    "    %store -r GEN_VIDEO\n",
    "    %store -r INSERT_BACKGROUND\n",
    "    %store -r RECORD_FRAME_INTER_AFTER\n",
    "    %store -r STATIC_BG\n",
    "    %store -r LOCATION_STATIC_PNG\n",
    "    %store PROJECT_BACKGROUND\n",
    "else:\n",
    "    WIDTH = 768\n",
    "    HEIGHT = 768\n",
    "    VISUALIZE = True  \n",
    "    SAVE_FOLDER = \"D:\\\\Deletar\\\\p_gen\"\n",
    "    PROJECT_NAME = \"THE FELLOWSHIP OF THE RING\"\n",
    "    STYLES_FOLDER = \".\\\\styles\"\n",
    "    SHOW_OUTPUT = True\n",
    "    IMG_NUMBER = 2\n",
    "    SKIP_VIDEO = []\n",
    "    MERGE_VIDEO = False\n",
    "    TEXT_VOICE_GEN = ['A','A','A','A','A','A','A','A','A','A','A','A','A','A','A','A','A','A','A']\n",
    "    LANGUAGES = ['pt']\n",
    "    GEN_VIDEO = True\n",
    "    INSERT_BACKGROUND = False\n",
    "    RECORD_FRAME_INTER_AFTER = 0\n",
    "    RECORD_FRAME_LIP = -1\n",
    "    STATIC_BG = True\n",
    "    LOCATION_STATIC_PNG = \"F:/gg/background/1.png\"\n",
    "    PROJECT_BACKGROUND = \"\"\n",
    "\n",
    "project_folder = f\"{SAVE_FOLDER}//{PROJECT_NAME}\"\n",
    "\n",
    "alp = get_alpha()\n",
    "\n"
   ]
  },
  {
   "cell_type": "code",
   "execution_count": null,
   "metadata": {},
   "outputs": [],
   "source": [
    "if EXTERNAL:\n",
    "    print(\"Getting Alpha\")\n",
    "    if (not os.path.exists(f\"{project_folder}//alpha\")):\n",
    "        os.makedirs(f\"{project_folder}//alpha\")\n",
    "    for i, filename in enumerate(os.listdir(f\"{project_folder}//{FOLDER_TO_GET_ALPHA}\")):\n",
    "        if i%50 == 0:\n",
    "            print(f\"file: {i}\")\n",
    "        img_path = f\"{project_folder}//{FOLDER_TO_GET_ALPHA}//{filename}\"\n",
    "        img = cv2.imread(img_path, cv2.IMREAD_UNCHANGED)\n",
    "        alp.run(img_path, f\"{project_folder}//alpha//{filename}\")\n",
    "else:\n",
    "    alp.run('./input_img.png','./output_file_location.png')\n",
    "\n",
    "\n",
    "\n",
    "del alp"
   ]
  }
 ],
 "metadata": {
  "kernelspec": {
   "display_name": "Pyflow",
   "language": "python",
   "name": "python3"
  },
  "language_info": {
   "name": "python",
   "version": "3.9.16 (main, Jan 11 2023, 16:16:36) [MSC v.1916 64 bit (AMD64)]"
  },
  "orig_nbformat": 4,
  "vscode": {
   "interpreter": {
    "hash": "6cb0dd519e46c84f14fc2d0d6172fde6407ecb78b6d95b871c78761f2e6e52fb"
   }
  }
 },
 "nbformat": 4,
 "nbformat_minor": 2
}
