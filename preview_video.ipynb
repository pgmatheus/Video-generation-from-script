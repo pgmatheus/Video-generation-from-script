{
 "cells": [
  {
   "cell_type": "code",
   "execution_count": 1,
   "metadata": {},
   "outputs": [],
   "source": [
    "from scripts_2.utilities import high_img, interp_fram, create_video_from_pngs, remove_temp_folder, retrieve_frames, merge_video_with_audio, copy_file_and_rename\n",
    "import os\n",
    "\n",
    "PROJECT_NAME = 'evolution'\n",
    "ROOT_FOLDER = f'F:/gg/templates'\n",
    "MUSIC_FOLDER = f'{ROOT_FOLDER}/musics'\n",
    "TEMP_FOLDER = \"F:/gg/templates/temp\"\n",
    "remove_temp_folder(TEMP_FOLDER)\n",
    "\n",
    "IMAGES_FOLDER = f'{ROOT_FOLDER}/to_proccess/{PROJECT_NAME}/0000000'\n",
    "\n"
   ]
  },
  {
   "cell_type": "code",
   "execution_count": 2,
   "metadata": {},
   "outputs": [
    {
     "name": "stdout",
     "output_type": "stream",
     "text": [
      "Project: evolution\n",
      "Transfering to temp folder\n",
      "Creating video\n",
      "Merging audio\n",
      "Moviepy - Building video F:/gg/templates/final_hq.mp4.\n",
      "MoviePy - Writing audio in final_hqTEMP_MPY_wvf_snd.mp3\n"
     ]
    },
    {
     "name": "stderr",
     "output_type": "stream",
     "text": [
      "                                                                      \r"
     ]
    },
    {
     "name": "stdout",
     "output_type": "stream",
     "text": [
      "MoviePy - Done.\n",
      "Moviepy - Writing video F:/gg/templates/final_hq.mp4\n",
      "\n"
     ]
    },
    {
     "name": "stderr",
     "output_type": "stream",
     "text": [
      "                                                                \r"
     ]
    },
    {
     "name": "stdout",
     "output_type": "stream",
     "text": [
      "Moviepy - Done !\n",
      "Moviepy - video ready F:/gg/templates/final_hq.mp4\n"
     ]
    }
   ],
   "source": [
    "# to temp folder\n",
    "cont = 0\n",
    "print(f'Project: {PROJECT_NAME}')\n",
    "print('Transfering to temp folder')\n",
    "for folder in os.listdir(IMAGES_FOLDER):\n",
    "    for picture in os.listdir(f'{IMAGES_FOLDER}/{folder}'):\n",
    "\n",
    "            if picture[-3:] == 'png':\n",
    "                copy_file_and_rename(f'{IMAGES_FOLDER}/{folder}/{picture}',TEMP_FOLDER,f'a_{cont:07d}.png')\n",
    "                cont = cont + 1\n",
    "\n",
    "print('Creating video')\n",
    "create_video_from_pngs(f'{TEMP_FOLDER}',f\"{ROOT_FOLDER}/hq.mp4\",30)\n",
    "print('Merging audio')\n",
    "merge_video_with_audio(f\"{ROOT_FOLDER}/hq.mp4\",f'{MUSIC_FOLDER}/{PROJECT_NAME}.wav',f\"{ROOT_FOLDER}/final_hq.mp4\")\n",
    "\n",
    "\n",
    "\n",
    "\n"
   ]
  }
 ],
 "metadata": {
  "kernelspec": {
   "display_name": "Pyflow",
   "language": "python",
   "name": "python3"
  },
  "language_info": {
   "codemirror_mode": {
    "name": "ipython",
    "version": 3
   },
   "file_extension": ".py",
   "mimetype": "text/x-python",
   "name": "python",
   "nbconvert_exporter": "python",
   "pygments_lexer": "ipython3",
   "version": "3.9.16"
  },
  "orig_nbformat": 4,
  "vscode": {
   "interpreter": {
    "hash": "6cb0dd519e46c84f14fc2d0d6172fde6407ecb78b6d95b871c78761f2e6e52fb"
   }
  }
 },
 "nbformat": 4,
 "nbformat_minor": 2
}
