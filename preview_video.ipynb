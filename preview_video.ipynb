{
 "cells": [
  {
   "cell_type": "code",
   "execution_count": 1,
   "metadata": {},
   "outputs": [],
   "source": [
    "from scripts_2.utilities import high_img, interp_fram, create_video_from_pngs, remove_temp_folder, retrieve_frames, merge_video_with_audio, copy_file_and_rename\n",
    "import os\n",
    "\n",
    "PROJECT_NAME = 'eternal_oblivion'\n",
    "ROOT_FOLDER = f'F:/gg/templates'\n",
    "MUSIC_FOLDER = f'{ROOT_FOLDER}/musics'\n",
    "TEMP_FOLDER = \"F:/gg/templates/temp\"\n",
    "remove_temp_folder(TEMP_FOLDER)\n",
    "\n",
    "IMAGES_FOLDER = f'{ROOT_FOLDER}/to_proccess/{PROJECT_NAME}/0000000'\n",
    "\n"
   ]
  },
  {
   "cell_type": "code",
   "execution_count": 2,
   "metadata": {},
   "outputs": [
    {
     "name": "stdout",
     "output_type": "stream",
     "text": [
      "Project: eternal_oblivion\n",
      "Transfering to temp folder\n",
      "Creating video\n"
     ]
    },
    {
     "ename": "OSError",
     "evalue": "MoviePy error: the file F:/gg/templates/musics/eternal_oblivion.wav could not be found!\nPlease check that you entered the correct path.",
     "output_type": "error",
     "traceback": [
      "\u001b[1;31m---------------------------------------------------------------------------\u001b[0m",
      "\u001b[1;31mOSError\u001b[0m                                   Traceback (most recent call last)",
      "Cell \u001b[1;32mIn[2], line 13\u001b[0m\n\u001b[0;32m     10\u001b[0m                 cont \u001b[39m=\u001b[39m cont \u001b[39m+\u001b[39m \u001b[39m1\u001b[39m\n\u001b[0;32m     12\u001b[0m \u001b[39mprint\u001b[39m(\u001b[39m'\u001b[39m\u001b[39mCreating video\u001b[39m\u001b[39m'\u001b[39m)\n\u001b[1;32m---> 13\u001b[0m create_video_from_pngs(\u001b[39mf\u001b[39;49m\u001b[39m'\u001b[39;49m\u001b[39m{\u001b[39;49;00mTEMP_FOLDER\u001b[39m}\u001b[39;49;00m\u001b[39m'\u001b[39;49m,\u001b[39mf\u001b[39;49m\u001b[39m\"\u001b[39;49m\u001b[39m{\u001b[39;49;00mROOT_FOLDER\u001b[39m}\u001b[39;49;00m\u001b[39m/hq.mp4\u001b[39;49m\u001b[39m\"\u001b[39;49m,\u001b[39mf\u001b[39;49m\u001b[39m'\u001b[39;49m\u001b[39m{\u001b[39;49;00mMUSIC_FOLDER\u001b[39m}\u001b[39;49;00m\u001b[39m/\u001b[39;49m\u001b[39m{\u001b[39;49;00mPROJECT_NAME\u001b[39m}\u001b[39;49;00m\u001b[39m.wav\u001b[39;49m\u001b[39m'\u001b[39;49m, fps\u001b[39m=\u001b[39;49m\u001b[39m60\u001b[39;49m)\n\u001b[0;32m     14\u001b[0m \u001b[39m\"\"\" print('Merging audio')\u001b[39;00m\n\u001b[0;32m     15\u001b[0m \u001b[39mmerge_video_with_audio(f\"{ROOT_FOLDER}/hq.mp4\",f'{MUSIC_FOLDER}/{PROJECT_NAME}.wav',f\"{ROOT_FOLDER}/final_hq.mp4\") \"\"\"\u001b[39;00m\n",
      "File \u001b[1;32mf:\\gg\\scripts_2\\utilities.py:138\u001b[0m, in \u001b[0;36mcreate_video_from_pngs\u001b[1;34m(directory_path, output_file_path, music_path, temp_video, fps, w, h)\u001b[0m\n\u001b[0;32m    136\u001b[0m \u001b[39mif\u001b[39;00m music_path \u001b[39m!=\u001b[39m \u001b[39m'\u001b[39m\u001b[39m'\u001b[39m:\n\u001b[0;32m    137\u001b[0m     video_clip \u001b[39m=\u001b[39m VideoFileClip(temp_video)\n\u001b[1;32m--> 138\u001b[0m     audio_clip \u001b[39m=\u001b[39m AudioFileClip(music_path)\n\u001b[0;32m    140\u001b[0m     \u001b[39m# set the duration of the final video to be the same as the video clip\u001b[39;00m\n\u001b[0;32m    141\u001b[0m     duration_audio \u001b[39m=\u001b[39m audio_clip\u001b[39m.\u001b[39mduration\n",
      "File \u001b[1;32m<decorator-gen-66>:2\u001b[0m, in \u001b[0;36m__init__\u001b[1;34m(self, filename, decode_file, buffersize, nbytes, fps)\u001b[0m\n",
      "File \u001b[1;32mc:\\Users\\Matheus\\anaconda3\\envs\\Pyflow\\lib\\site-packages\\moviepy\\decorators.py:89\u001b[0m, in \u001b[0;36mpreprocess_args.<locals>.wrapper\u001b[1;34m(f, *a, **kw)\u001b[0m\n\u001b[0;32m     84\u001b[0m new_a \u001b[39m=\u001b[39m [\n\u001b[0;32m     85\u001b[0m     fun(arg) \u001b[39mif\u001b[39;00m (name \u001b[39min\u001b[39;00m varnames) \u001b[39mand\u001b[39;00m (arg \u001b[39mis\u001b[39;00m \u001b[39mnot\u001b[39;00m \u001b[39mNone\u001b[39;00m) \u001b[39melse\u001b[39;00m arg\n\u001b[0;32m     86\u001b[0m     \u001b[39mfor\u001b[39;00m (arg, name) \u001b[39min\u001b[39;00m \u001b[39mzip\u001b[39m(a, names)\n\u001b[0;32m     87\u001b[0m ]\n\u001b[0;32m     88\u001b[0m new_kw \u001b[39m=\u001b[39m {k: fun(v) \u001b[39mif\u001b[39;00m k \u001b[39min\u001b[39;00m varnames \u001b[39melse\u001b[39;00m v \u001b[39mfor\u001b[39;00m (k, v) \u001b[39min\u001b[39;00m kw\u001b[39m.\u001b[39mitems()}\n\u001b[1;32m---> 89\u001b[0m \u001b[39mreturn\u001b[39;00m f(\u001b[39m*\u001b[39mnew_a, \u001b[39m*\u001b[39m\u001b[39m*\u001b[39mnew_kw)\n",
      "File \u001b[1;32mc:\\Users\\Matheus\\anaconda3\\envs\\Pyflow\\lib\\site-packages\\moviepy\\audio\\io\\AudioFileClip.py:75\u001b[0m, in \u001b[0;36mAudioFileClip.__init__\u001b[1;34m(self, filename, decode_file, buffersize, nbytes, fps)\u001b[0m\n\u001b[0;32m     72\u001b[0m AudioClip\u001b[39m.\u001b[39m\u001b[39m__init__\u001b[39m(\u001b[39mself\u001b[39m)\n\u001b[0;32m     74\u001b[0m \u001b[39mself\u001b[39m\u001b[39m.\u001b[39mfilename \u001b[39m=\u001b[39m filename\n\u001b[1;32m---> 75\u001b[0m \u001b[39mself\u001b[39m\u001b[39m.\u001b[39mreader \u001b[39m=\u001b[39m FFMPEG_AudioReader(\n\u001b[0;32m     76\u001b[0m     filename,\n\u001b[0;32m     77\u001b[0m     decode_file\u001b[39m=\u001b[39;49mdecode_file,\n\u001b[0;32m     78\u001b[0m     fps\u001b[39m=\u001b[39;49mfps,\n\u001b[0;32m     79\u001b[0m     nbytes\u001b[39m=\u001b[39;49mnbytes,\n\u001b[0;32m     80\u001b[0m     buffersize\u001b[39m=\u001b[39;49mbuffersize,\n\u001b[0;32m     81\u001b[0m )\n\u001b[0;32m     82\u001b[0m \u001b[39mself\u001b[39m\u001b[39m.\u001b[39mfps \u001b[39m=\u001b[39m fps\n\u001b[0;32m     83\u001b[0m \u001b[39mself\u001b[39m\u001b[39m.\u001b[39mduration \u001b[39m=\u001b[39m \u001b[39mself\u001b[39m\u001b[39m.\u001b[39mreader\u001b[39m.\u001b[39mduration\n",
      "File \u001b[1;32mc:\\Users\\Matheus\\anaconda3\\envs\\Pyflow\\lib\\site-packages\\moviepy\\audio\\io\\readers.py:60\u001b[0m, in \u001b[0;36mFFMPEG_AudioReader.__init__\u001b[1;34m(self, filename, buffersize, decode_file, print_infos, fps, nbytes, nchannels)\u001b[0m\n\u001b[0;32m     58\u001b[0m \u001b[39mself\u001b[39m\u001b[39m.\u001b[39macodec \u001b[39m=\u001b[39m \u001b[39m\"\u001b[39m\u001b[39mpcm_s\u001b[39m\u001b[39m%d\u001b[39;00m\u001b[39mle\u001b[39m\u001b[39m\"\u001b[39m \u001b[39m%\u001b[39m (\u001b[39m8\u001b[39m \u001b[39m*\u001b[39m nbytes)\n\u001b[0;32m     59\u001b[0m \u001b[39mself\u001b[39m\u001b[39m.\u001b[39mnchannels \u001b[39m=\u001b[39m nchannels\n\u001b[1;32m---> 60\u001b[0m infos \u001b[39m=\u001b[39m ffmpeg_parse_infos(filename, decode_file\u001b[39m=\u001b[39;49mdecode_file)\n\u001b[0;32m     61\u001b[0m \u001b[39mself\u001b[39m\u001b[39m.\u001b[39mduration \u001b[39m=\u001b[39m infos[\u001b[39m\"\u001b[39m\u001b[39mduration\u001b[39m\u001b[39m\"\u001b[39m]\n\u001b[0;32m     62\u001b[0m \u001b[39mif\u001b[39;00m \u001b[39m\"\u001b[39m\u001b[39mvideo_duration\u001b[39m\u001b[39m\"\u001b[39m \u001b[39min\u001b[39;00m infos:\n",
      "File \u001b[1;32mc:\\Users\\Matheus\\anaconda3\\envs\\Pyflow\\lib\\site-packages\\moviepy\\video\\io\\ffmpeg_reader.py:321\u001b[0m, in \u001b[0;36mffmpeg_parse_infos\u001b[1;34m(filename, decode_file, print_infos, check_duration, fps_source)\u001b[0m\n\u001b[0;32m    319\u001b[0m lines \u001b[39m=\u001b[39m infos\u001b[39m.\u001b[39msplitlines()\n\u001b[0;32m    320\u001b[0m \u001b[39mif\u001b[39;00m \u001b[39m\"\u001b[39m\u001b[39mNo such file or directory\u001b[39m\u001b[39m\"\u001b[39m \u001b[39min\u001b[39;00m lines[\u001b[39m-\u001b[39m\u001b[39m1\u001b[39m]:\n\u001b[1;32m--> 321\u001b[0m     \u001b[39mraise\u001b[39;00m \u001b[39mIOError\u001b[39;00m(\n\u001b[0;32m    322\u001b[0m         (\n\u001b[0;32m    323\u001b[0m             \u001b[39m\"\u001b[39m\u001b[39mMoviePy error: the file \u001b[39m\u001b[39m%s\u001b[39;00m\u001b[39m could not be found!\u001b[39m\u001b[39m\\n\u001b[39;00m\u001b[39m\"\u001b[39m\n\u001b[0;32m    324\u001b[0m             \u001b[39m\"\u001b[39m\u001b[39mPlease check that you entered the correct \u001b[39m\u001b[39m\"\u001b[39m\n\u001b[0;32m    325\u001b[0m             \u001b[39m\"\u001b[39m\u001b[39mpath.\u001b[39m\u001b[39m\"\u001b[39m\n\u001b[0;32m    326\u001b[0m         )\n\u001b[0;32m    327\u001b[0m         \u001b[39m%\u001b[39m filename\n\u001b[0;32m    328\u001b[0m     )\n\u001b[0;32m    330\u001b[0m result \u001b[39m=\u001b[39m \u001b[39mdict\u001b[39m()\n\u001b[0;32m    332\u001b[0m \u001b[39m# get duration (in seconds)\u001b[39;00m\n",
      "\u001b[1;31mOSError\u001b[0m: MoviePy error: the file F:/gg/templates/musics/eternal_oblivion.wav could not be found!\nPlease check that you entered the correct path."
     ]
    }
   ],
   "source": [
    "# to temp folder\n",
    "cont = 0\n",
    "print(f'Project: {PROJECT_NAME}')\n",
    "print('Transfering to temp folder')\n",
    "for folder in os.listdir(IMAGES_FOLDER):\n",
    "    for picture in os.listdir(f'{IMAGES_FOLDER}/{folder}'):\n",
    "\n",
    "            if picture[-3:] == 'png':\n",
    "                copy_file_and_rename(f'{IMAGES_FOLDER}/{folder}/{picture}',TEMP_FOLDER,f'a_{cont:07d}.png')\n",
    "                cont = cont + 1\n",
    "\n",
    "print('Creating video')\n",
    "create_video_from_pngs(f'{TEMP_FOLDER}',f\"{ROOT_FOLDER}/hq.mp4\",f'{MUSIC_FOLDER}/{PROJECT_NAME}.wav', fps=30)\n",
    "\"\"\" print('Merging audio')\n",
    "merge_video_with_audio(f\"{ROOT_FOLDER}/hq.mp4\",f'{MUSIC_FOLDER}/{PROJECT_NAME}.wav',f\"{ROOT_FOLDER}/final_hq.mp4\") \"\"\"\n",
    "\n",
    "\n",
    "\n",
    "\n"
   ]
  }
 ],
 "metadata": {
  "kernelspec": {
   "display_name": "Pyflow",
   "language": "python",
   "name": "python3"
  },
  "language_info": {
   "codemirror_mode": {
    "name": "ipython",
    "version": 3
   },
   "file_extension": ".py",
   "mimetype": "text/x-python",
   "name": "python",
   "nbconvert_exporter": "python",
   "pygments_lexer": "ipython3",
   "version": "3.9.16 (main, Jan 11 2023, 16:16:36) [MSC v.1916 64 bit (AMD64)]"
  },
  "orig_nbformat": 4,
  "vscode": {
   "interpreter": {
    "hash": "6cb0dd519e46c84f14fc2d0d6172fde6407ecb78b6d95b871c78761f2e6e52fb"
   }
  }
 },
 "nbformat": 4,
 "nbformat_minor": 2
}
