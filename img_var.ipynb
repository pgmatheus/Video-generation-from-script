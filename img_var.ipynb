{
 "cells": [
  {
   "cell_type": "code",
   "execution_count": 1,
   "metadata": {},
   "outputs": [
    {
     "name": "stderr",
     "output_type": "stream",
     "text": [
      "A matching Triton is not available, some optimizations will not be enabled.\n",
      "Error caught was: No module named 'triton'\n"
     ]
    },
    {
     "data": {
      "application/vnd.jupyter.widget-view+json": {
       "model_id": "697cc2be2f5a4200a8c941e3d11d42b8",
       "version_major": 2,
       "version_minor": 0
      },
      "text/plain": [
       "Fetching 11 files:   0%|          | 0/11 [00:00<?, ?it/s]"
      ]
     },
     "metadata": {},
     "output_type": "display_data"
    }
   ],
   "source": [
    "from diffusers import StableDiffusionImageVariationPipeline\n",
    "from PIL import Image\n",
    "from torchvision import transforms\n",
    "\n",
    "\"\"\" import inspect \"\"\"\n",
    "\n",
    "\n",
    "\n",
    "\n",
    "\"\"\" print(inspect.getsource(StableDiffusionImageVariationPipeline)) \"\"\"\n",
    "\n",
    "\n",
    "\"\"\" git clone https://github.com/justinpinkney/stable-diffusion.git\n",
    "cd stable-diffusion\n",
    "mkdir -p models/ldm/stable-diffusion-v1\n",
    "wget https://huggingface.co/lambdalabs/stable-diffusion-image-conditioned/resolve/main/sd-clip-vit-l14-img-embed_ema_only.ckpt -O models/ldm/stable-diffusion-v1/sd-clip-vit-l14-img-embed_ema_only.ckpt\n",
    "pip install -r requirements.txt\n",
    "python scripts/gradio_variations.py \"\"\"\n",
    "\n",
    "device = \"cuda:0\"\n",
    "sd_pipe = StableDiffusionImageVariationPipeline.from_pretrained(\n",
    "  \"lambdalabs/sd-image-variations-diffusers\",\n",
    "  revision=\"v2.0\",  \n",
    "  )\n",
    "sd_pipe = sd_pipe.to(device)\n",
    "\n",
    "sd_pipe.set_use_memory_efficient_attention_xformers(True)"
   ]
  },
  {
   "cell_type": "code",
   "execution_count": 3,
   "metadata": {},
   "outputs": [
    {
     "data": {
      "application/vnd.jupyter.widget-view+json": {
       "model_id": "03b3da85309f408987e0b1cd16a1a44b",
       "version_major": 2,
       "version_minor": 0
      },
      "text/plain": [
       "  0%|          | 0/50 [00:00<?, ?it/s]"
      ]
     },
     "metadata": {},
     "output_type": "display_data"
    },
    {
     "data": {
      "application/vnd.jupyter.widget-view+json": {
       "model_id": "701c5bec21ab4009bcb60edea9c4e252",
       "version_major": 2,
       "version_minor": 0
      },
      "text/plain": [
       "  0%|          | 0/50 [00:00<?, ?it/s]"
      ]
     },
     "metadata": {},
     "output_type": "display_data"
    },
    {
     "data": {
      "application/vnd.jupyter.widget-view+json": {
       "model_id": "a45f8f02a13540c7a47a5e9200b8f163",
       "version_major": 2,
       "version_minor": 0
      },
      "text/plain": [
       "  0%|          | 0/50 [00:00<?, ?it/s]"
      ]
     },
     "metadata": {},
     "output_type": "display_data"
    },
    {
     "data": {
      "application/vnd.jupyter.widget-view+json": {
       "model_id": "132cc88dc25f4de2b49c280a4028d212",
       "version_major": 2,
       "version_minor": 0
      },
      "text/plain": [
       "  0%|          | 0/50 [00:00<?, ?it/s]"
      ]
     },
     "metadata": {},
     "output_type": "display_data"
    },
    {
     "data": {
      "application/vnd.jupyter.widget-view+json": {
       "model_id": "a0ee7d2b98e34be5988aa63750ff20a8",
       "version_major": 2,
       "version_minor": 0
      },
      "text/plain": [
       "  0%|          | 0/50 [00:00<?, ?it/s]"
      ]
     },
     "metadata": {},
     "output_type": "display_data"
    },
    {
     "data": {
      "application/vnd.jupyter.widget-view+json": {
       "model_id": "bf6d685b798c44f6b4406512da730b00",
       "version_major": 2,
       "version_minor": 0
      },
      "text/plain": [
       "  0%|          | 0/50 [00:00<?, ?it/s]"
      ]
     },
     "metadata": {},
     "output_type": "display_data"
    },
    {
     "data": {
      "application/vnd.jupyter.widget-view+json": {
       "model_id": "03acff560eff4084b238a13608a2e252",
       "version_major": 2,
       "version_minor": 0
      },
      "text/plain": [
       "  0%|          | 0/50 [00:00<?, ?it/s]"
      ]
     },
     "metadata": {},
     "output_type": "display_data"
    },
    {
     "data": {
      "application/vnd.jupyter.widget-view+json": {
       "model_id": "04aa329a374f4da19a1fb053a6f25249",
       "version_major": 2,
       "version_minor": 0
      },
      "text/plain": [
       "  0%|          | 0/50 [00:00<?, ?it/s]"
      ]
     },
     "metadata": {},
     "output_type": "display_data"
    },
    {
     "data": {
      "application/vnd.jupyter.widget-view+json": {
       "model_id": "85a5c15ba66a49cf8acef99c7f9065c2",
       "version_major": 2,
       "version_minor": 0
      },
      "text/plain": [
       "  0%|          | 0/50 [00:00<?, ?it/s]"
      ]
     },
     "metadata": {},
     "output_type": "display_data"
    },
    {
     "data": {
      "application/vnd.jupyter.widget-view+json": {
       "model_id": "bee6c0075e5d4138bc939d6bb60720c2",
       "version_major": 2,
       "version_minor": 0
      },
      "text/plain": [
       "  0%|          | 0/50 [00:00<?, ?it/s]"
      ]
     },
     "metadata": {},
     "output_type": "display_data"
    },
    {
     "data": {
      "application/vnd.jupyter.widget-view+json": {
       "model_id": "883e9b9ab8a64eea923aabcdf90f7869",
       "version_major": 2,
       "version_minor": 0
      },
      "text/plain": [
       "  0%|          | 0/50 [00:00<?, ?it/s]"
      ]
     },
     "metadata": {},
     "output_type": "display_data"
    },
    {
     "data": {
      "application/vnd.jupyter.widget-view+json": {
       "model_id": "7da84f4c39044a9f91ce07e8718163b9",
       "version_major": 2,
       "version_minor": 0
      },
      "text/plain": [
       "  0%|          | 0/50 [00:00<?, ?it/s]"
      ]
     },
     "metadata": {},
     "output_type": "display_data"
    },
    {
     "ename": "KeyboardInterrupt",
     "evalue": "",
     "output_type": "error",
     "traceback": [
      "\u001b[1;31m---------------------------------------------------------------------------\u001b[0m",
      "\u001b[1;31mKeyboardInterrupt\u001b[0m                         Traceback (most recent call last)",
      "Cell \u001b[1;32mIn[3], line 19\u001b[0m\n\u001b[0;32m     17\u001b[0m \u001b[39m\"\"\" out = sd_pipe(inp, guidance_scale=3) \"\"\"\u001b[39;00m\n\u001b[0;32m     18\u001b[0m \u001b[39mwhile\u001b[39;00m cond:\n\u001b[1;32m---> 19\u001b[0m     out \u001b[39m=\u001b[39m sd_pipe(inp, guidance_scale\u001b[39m=\u001b[39;49m\u001b[39m8\u001b[39;49m, height\u001b[39m=\u001b[39;49m\u001b[39m512\u001b[39;49m, width \u001b[39m=\u001b[39;49m \u001b[39m512\u001b[39;49m,)\n\u001b[0;32m     20\u001b[0m     \u001b[39mif\u001b[39;00m out[\u001b[39m'\u001b[39m\u001b[39mnsfw_content_detected\u001b[39m\u001b[39m'\u001b[39m][\u001b[39m0\u001b[39m] \u001b[39m==\u001b[39m \u001b[39mFalse\u001b[39;00m:\n\u001b[0;32m     21\u001b[0m         cond \u001b[39m=\u001b[39m \u001b[39mFalse\u001b[39;00m\n",
      "File \u001b[1;32mc:\\Users\\Matheus\\anaconda3\\envs\\Pyflow\\lib\\site-packages\\torch\\autograd\\grad_mode.py:27\u001b[0m, in \u001b[0;36m_DecoratorContextManager.__call__.<locals>.decorate_context\u001b[1;34m(*args, **kwargs)\u001b[0m\n\u001b[0;32m     24\u001b[0m \u001b[39m@functools\u001b[39m\u001b[39m.\u001b[39mwraps(func)\n\u001b[0;32m     25\u001b[0m \u001b[39mdef\u001b[39;00m \u001b[39mdecorate_context\u001b[39m(\u001b[39m*\u001b[39margs, \u001b[39m*\u001b[39m\u001b[39m*\u001b[39mkwargs):\n\u001b[0;32m     26\u001b[0m     \u001b[39mwith\u001b[39;00m \u001b[39mself\u001b[39m\u001b[39m.\u001b[39mclone():\n\u001b[1;32m---> 27\u001b[0m         \u001b[39mreturn\u001b[39;00m func(\u001b[39m*\u001b[39margs, \u001b[39m*\u001b[39m\u001b[39m*\u001b[39mkwargs)\n",
      "File \u001b[1;32mc:\\Users\\Matheus\\anaconda3\\envs\\Pyflow\\lib\\site-packages\\diffusers\\pipelines\\stable_diffusion\\pipeline_stable_diffusion_image_variation.py:419\u001b[0m, in \u001b[0;36mStableDiffusionImageVariationPipeline.__call__\u001b[1;34m(self, image, height, width, num_inference_steps, guidance_scale, num_images_per_prompt, eta, generator, latents, output_type, return_dict, callback, callback_steps)\u001b[0m\n\u001b[0;32m    416\u001b[0m     noise_pred \u001b[39m=\u001b[39m noise_pred_uncond \u001b[39m+\u001b[39m guidance_scale \u001b[39m*\u001b[39m (noise_pred_text \u001b[39m-\u001b[39m noise_pred_uncond)\n\u001b[0;32m    418\u001b[0m \u001b[39m# compute the previous noisy sample x_t -> x_t-1\u001b[39;00m\n\u001b[1;32m--> 419\u001b[0m latents \u001b[39m=\u001b[39m \u001b[39mself\u001b[39m\u001b[39m.\u001b[39mscheduler\u001b[39m.\u001b[39mstep(noise_pred, t, latents, \u001b[39m*\u001b[39m\u001b[39m*\u001b[39mextra_step_kwargs)\u001b[39m.\u001b[39mprev_sample\n\u001b[0;32m    421\u001b[0m \u001b[39m# call the callback, if provided\u001b[39;00m\n\u001b[0;32m    422\u001b[0m \u001b[39mif\u001b[39;00m i \u001b[39m==\u001b[39m \u001b[39mlen\u001b[39m(timesteps) \u001b[39m-\u001b[39m \u001b[39m1\u001b[39m \u001b[39mor\u001b[39;00m ((i \u001b[39m+\u001b[39m \u001b[39m1\u001b[39m) \u001b[39m>\u001b[39m num_warmup_steps \u001b[39mand\u001b[39;00m (i \u001b[39m+\u001b[39m \u001b[39m1\u001b[39m) \u001b[39m%\u001b[39m \u001b[39mself\u001b[39m\u001b[39m.\u001b[39mscheduler\u001b[39m.\u001b[39morder \u001b[39m==\u001b[39m \u001b[39m0\u001b[39m):\n",
      "File \u001b[1;32mc:\\Users\\Matheus\\anaconda3\\envs\\Pyflow\\lib\\site-packages\\diffusers\\schedulers\\scheduling_pndm.py:221\u001b[0m, in \u001b[0;36mPNDMScheduler.step\u001b[1;34m(self, model_output, timestep, sample, return_dict)\u001b[0m\n\u001b[0;32m    219\u001b[0m     \u001b[39mreturn\u001b[39;00m \u001b[39mself\u001b[39m\u001b[39m.\u001b[39mstep_prk(model_output\u001b[39m=\u001b[39mmodel_output, timestep\u001b[39m=\u001b[39mtimestep, sample\u001b[39m=\u001b[39msample, return_dict\u001b[39m=\u001b[39mreturn_dict)\n\u001b[0;32m    220\u001b[0m \u001b[39melse\u001b[39;00m:\n\u001b[1;32m--> 221\u001b[0m     \u001b[39mreturn\u001b[39;00m \u001b[39mself\u001b[39;49m\u001b[39m.\u001b[39;49mstep_plms(model_output\u001b[39m=\u001b[39;49mmodel_output, timestep\u001b[39m=\u001b[39;49mtimestep, sample\u001b[39m=\u001b[39;49msample, return_dict\u001b[39m=\u001b[39;49mreturn_dict)\n",
      "File \u001b[1;32mc:\\Users\\Matheus\\anaconda3\\envs\\Pyflow\\lib\\site-packages\\diffusers\\schedulers\\scheduling_pndm.py:337\u001b[0m, in \u001b[0;36mPNDMScheduler.step_plms\u001b[1;34m(self, model_output, timestep, sample, return_dict)\u001b[0m\n\u001b[0;32m    334\u001b[0m \u001b[39melse\u001b[39;00m:\n\u001b[0;32m    335\u001b[0m     model_output \u001b[39m=\u001b[39m (\u001b[39m1\u001b[39m \u001b[39m/\u001b[39m \u001b[39m24\u001b[39m) \u001b[39m*\u001b[39m (\u001b[39m55\u001b[39m \u001b[39m*\u001b[39m \u001b[39mself\u001b[39m\u001b[39m.\u001b[39mets[\u001b[39m-\u001b[39m\u001b[39m1\u001b[39m] \u001b[39m-\u001b[39m \u001b[39m59\u001b[39m \u001b[39m*\u001b[39m \u001b[39mself\u001b[39m\u001b[39m.\u001b[39mets[\u001b[39m-\u001b[39m\u001b[39m2\u001b[39m] \u001b[39m+\u001b[39m \u001b[39m37\u001b[39m \u001b[39m*\u001b[39m \u001b[39mself\u001b[39m\u001b[39m.\u001b[39mets[\u001b[39m-\u001b[39m\u001b[39m3\u001b[39m] \u001b[39m-\u001b[39m \u001b[39m9\u001b[39m \u001b[39m*\u001b[39m \u001b[39mself\u001b[39m\u001b[39m.\u001b[39mets[\u001b[39m-\u001b[39m\u001b[39m4\u001b[39m])\n\u001b[1;32m--> 337\u001b[0m prev_sample \u001b[39m=\u001b[39m \u001b[39mself\u001b[39;49m\u001b[39m.\u001b[39;49m_get_prev_sample(sample, timestep, prev_timestep, model_output)\n\u001b[0;32m    338\u001b[0m \u001b[39mself\u001b[39m\u001b[39m.\u001b[39mcounter \u001b[39m+\u001b[39m\u001b[39m=\u001b[39m \u001b[39m1\u001b[39m\n\u001b[0;32m    340\u001b[0m \u001b[39mif\u001b[39;00m \u001b[39mnot\u001b[39;00m return_dict:\n",
      "File \u001b[1;32mc:\\Users\\Matheus\\anaconda3\\envs\\Pyflow\\lib\\site-packages\\diffusers\\schedulers\\scheduling_pndm.py:372\u001b[0m, in \u001b[0;36mPNDMScheduler._get_prev_sample\u001b[1;34m(self, sample, timestep, prev_timestep, model_output)\u001b[0m\n\u001b[0;32m    358\u001b[0m \u001b[39mdef\u001b[39;00m \u001b[39m_get_prev_sample\u001b[39m(\u001b[39mself\u001b[39m, sample, timestep, prev_timestep, model_output):\n\u001b[0;32m    359\u001b[0m     \u001b[39m# See formula (9) of PNDM paper https://arxiv.org/pdf/2202.09778.pdf\u001b[39;00m\n\u001b[0;32m    360\u001b[0m     \u001b[39m# this function computes x_(t−δ) using the formula of (9)\u001b[39;00m\n\u001b[1;32m   (...)\u001b[0m\n\u001b[0;32m    369\u001b[0m     \u001b[39m# model_output -> e_θ(x_t, t)\u001b[39;00m\n\u001b[0;32m    370\u001b[0m     \u001b[39m# prev_sample -> x_(t−δ)\u001b[39;00m\n\u001b[0;32m    371\u001b[0m     alpha_prod_t \u001b[39m=\u001b[39m \u001b[39mself\u001b[39m\u001b[39m.\u001b[39malphas_cumprod[timestep]\n\u001b[1;32m--> 372\u001b[0m     alpha_prod_t_prev \u001b[39m=\u001b[39m \u001b[39mself\u001b[39m\u001b[39m.\u001b[39malphas_cumprod[prev_timestep] \u001b[39mif\u001b[39;00m prev_timestep \u001b[39m>\u001b[39;49m\u001b[39m=\u001b[39;49m \u001b[39m0\u001b[39;49m \u001b[39melse\u001b[39;00m \u001b[39mself\u001b[39m\u001b[39m.\u001b[39mfinal_alpha_cumprod\n\u001b[0;32m    373\u001b[0m     beta_prod_t \u001b[39m=\u001b[39m \u001b[39m1\u001b[39m \u001b[39m-\u001b[39m alpha_prod_t\n\u001b[0;32m    374\u001b[0m     beta_prod_t_prev \u001b[39m=\u001b[39m \u001b[39m1\u001b[39m \u001b[39m-\u001b[39m alpha_prod_t_prev\n",
      "\u001b[1;31mKeyboardInterrupt\u001b[0m: "
     ]
    }
   ],
   "source": [
    "img_src = \".\\\\picture.jpg\"\n",
    "im = Image.open(img_src)\n",
    "tform = transforms.Compose([\n",
    "    transforms.ToTensor(),\n",
    "    transforms.Resize(\n",
    "        (224, 224),\n",
    "        interpolation=transforms.InterpolationMode.BICUBIC,\n",
    "        antialias=False,\n",
    "        ),\n",
    "    transforms.Normalize(\n",
    "      [0.48145466, 0.4578275, 0.40821073],\n",
    "      [0.26862954, 0.26130258, 0.27577711]),\n",
    "])\n",
    "for i in range(100):\n",
    "    inp = tform(im).to(device).unsqueeze(0)\n",
    "    cond = True\n",
    "    \"\"\" out = sd_pipe(inp, guidance_scale=3) \"\"\"\n",
    "    while cond:\n",
    "        out = sd_pipe(inp, guidance_scale=8, height=512, width = 512,)\n",
    "        if out['nsfw_content_detected'][0] == False:\n",
    "            cond = False\n",
    "        else:\n",
    "            print('nsfw')\n",
    "    out[\"images\"][0].save(f\".\\\\random\\\\result{i}.jpg\")\n",
    "\n",
    "\n"
   ]
  }
 ],
 "metadata": {
  "kernelspec": {
   "display_name": "Pyflow",
   "language": "python",
   "name": "python3"
  },
  "language_info": {
   "codemirror_mode": {
    "name": "ipython",
    "version": 3
   },
   "file_extension": ".py",
   "mimetype": "text/x-python",
   "name": "python",
   "nbconvert_exporter": "python",
   "pygments_lexer": "ipython3",
   "version": "3.9.16"
  },
  "orig_nbformat": 4,
  "vscode": {
   "interpreter": {
    "hash": "6cb0dd519e46c84f14fc2d0d6172fde6407ecb78b6d95b871c78761f2e6e52fb"
   }
  }
 },
 "nbformat": 4,
 "nbformat_minor": 2
}
