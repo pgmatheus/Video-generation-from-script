{
 "cells": [
  {
   "cell_type": "code",
   "execution_count": 1,
   "metadata": {},
   "outputs": [],
   "source": [
    "import cv2\n",
    "import os\n",
    "\n",
    "RETRIEVE_FRAMES = True\n",
    "MERGE_VIDEO = False\n"
   ]
  },
  {
   "cell_type": "code",
   "execution_count": 2,
   "metadata": {},
   "outputs": [],
   "source": [
    "if RETRIEVE_FRAMES:\n",
    "    # Open the video file\n",
    "    video = cv2.VideoCapture('input.mp4')\n",
    "\n",
    "    # Initialize frame counter\n",
    "    frame_count = 0\n",
    "\n",
    "    # Loop through each frame in the video\n",
    "    while True:\n",
    "        # Read the next frame from the video\n",
    "        ret, frame = video.read()\n",
    "\n",
    "        # If there are no more frames, break out of the loop\n",
    "        if not ret:\n",
    "            break\n",
    "\n",
    "        # Save the frame as an image file\n",
    "        cv2.imwrite(f\"./output/output_{frame_count:04d}.png\", frame)\n",
    "\n",
    "        # Increment the frame counter\n",
    "        frame_count += 1\n",
    "\n",
    "    # Release the video file\n",
    "    video.release()"
   ]
  },
  {
   "cell_type": "code",
   "execution_count": 3,
   "metadata": {},
   "outputs": [],
   "source": [
    "def create_video_from_pngs(directory_path, output_file_path, fps=30):\n",
    "    image_paths = []\n",
    "    for root, dirs, files in os.walk(directory_path):\n",
    "        for file in files:\n",
    "            if file.endswith('.png'):\n",
    "                image_paths.append(os.path.join(root, file))\n",
    "    if not image_paths:\n",
    "        print('No PNG images found in directory:', directory_path)\n",
    "        return\n",
    "    first_image = cv2.imread(image_paths[0], cv2.IMREAD_UNCHANGED)\n",
    "    height, width, channels = first_image.shape\n",
    "    fourcc = cv2.VideoWriter_fourcc(*'mp4v')\n",
    "    video_writer = cv2.VideoWriter(output_file_path, fourcc, fps, (width, height), True)\n",
    "    for image_path in image_paths:\n",
    "        image = cv2.imread(image_path, cv2.IMREAD_UNCHANGED)\n",
    "        video_writer.write(image)\n",
    "    video_writer.release()\n",
    "\n",
    "\n",
    "if MERGE_VIDEO:\n",
    "    create_video_from_pngs(\"F:\\\\gg\\\\video_model\",f\".\\/result2.mp4\",30)"
   ]
  }
 ],
 "metadata": {
  "kernelspec": {
   "display_name": "Pyflow",
   "language": "python",
   "name": "python3"
  },
  "language_info": {
   "codemirror_mode": {
    "name": "ipython",
    "version": 3
   },
   "file_extension": ".py",
   "mimetype": "text/x-python",
   "name": "python",
   "nbconvert_exporter": "python",
   "pygments_lexer": "ipython3",
   "version": "3.9.16"
  },
  "orig_nbformat": 4,
  "vscode": {
   "interpreter": {
    "hash": "6cb0dd519e46c84f14fc2d0d6172fde6407ecb78b6d95b871c78761f2e6e52fb"
   }
  }
 },
 "nbformat": 4,
 "nbformat_minor": 2
}
