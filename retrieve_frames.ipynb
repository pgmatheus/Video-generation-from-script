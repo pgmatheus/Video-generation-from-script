{
 "cells": [
  {
   "cell_type": "code",
   "execution_count": 5,
   "metadata": {},
   "outputs": [],
   "source": [
    "import cv2\n",
    "import os\n",
    "import rembg\n",
    "\n",
    "RETRIEVE_FRAMES = False\n",
    "REMOVE_BG = False\n",
    "MERGE_VIDEO = True\n"
   ]
  },
  {
   "cell_type": "code",
   "execution_count": 6,
   "metadata": {},
   "outputs": [],
   "source": [
    "if RETRIEVE_FRAMES:\n",
    "    # Open the video file\n",
    "    video = cv2.VideoCapture('m.mp4')\n",
    "\n",
    "    # Initialize frame counter\n",
    "    frame_count = 0\n",
    "\n",
    "    # Loop through each frame in the video\n",
    "    while True:\n",
    "        # Read the next frame from the video\n",
    "        ret, frame = video.read()\n",
    "\n",
    "        # If there are no more frames, break out of the loop\n",
    "        if not ret:\n",
    "            break\n",
    "\n",
    "        # Save the frame as an image file\n",
    "        cv2.imwrite(f\"./output/w_back/output_{frame_count:04d}.png\", frame)\n",
    "        if REMOVE_BG:\n",
    "            with open(f\"./output/w_back/output_{frame_count:04d}.png\", \"rb\") as input_file, open(f\"./output/output_{frame_count:04d}.png\", \"wb\") as output_file:\n",
    "                image = rembg.remove(input_file.read())\n",
    "                output_file.write(image)\n",
    "\n",
    "        # Increment the frame counter\n",
    "        frame_count += 1\n",
    "\n",
    "    # Release the video file\n",
    "    video.release()"
   ]
  },
  {
   "cell_type": "code",
   "execution_count": 7,
   "metadata": {},
   "outputs": [],
   "source": [
    "def create_video_from_pngs(directory_path, output_file_path, fps=30, w = 1920, h = 1080):\n",
    "    image_paths = []\n",
    "    for root, dirs, files in os.walk(directory_path):\n",
    "        for file in files:\n",
    "            if file.endswith('.png'):\n",
    "                image_paths.append(os.path.join(root, file))\n",
    "    if not image_paths:\n",
    "        print('No PNG images found in directory:', directory_path)\n",
    "        return\n",
    "    first_image = cv2.imread(image_paths[0], cv2.IMREAD_UNCHANGED)\n",
    "    \"\"\" height, width, channels = first_image.shape \"\"\"\n",
    "    fourcc = cv2.VideoWriter_fourcc(*'mp4v')\n",
    "    video_writer = cv2.VideoWriter(output_file_path, fourcc, fps, (w, h), True)\n",
    "    for image_path in image_paths:\n",
    "        image = cv2.imread(image_path, cv2.IMREAD_UNCHANGED)\n",
    "        image = cv2.resize(image,(w,h))\n",
    "        video_writer.write(image)\n",
    "    video_writer.release()\n",
    "\n",
    "\n",
    "if MERGE_VIDEO:\n",
    "    create_video_from_pngs(\"./test\",f\"./result3.mp4\",60)"
   ]
  },
  {
   "cell_type": "code",
   "execution_count": 8,
   "metadata": {},
   "outputs": [
    {
     "data": {
      "text/plain": [
       "\" # Define the folder containing the images\\nimage_folder = 'f:/gg/test/'\\n\\n# Define the video output file\\nvideo_name = './output_video.avi'\\n\\n# Set the video frame rate\\nframe_rate = 60\\n\\n# Define the width and height of the video\\nwidth, height = (1920, 1080)\\n\\n# Get all image files in the folder\\nimages = [img for img in os.listdir(image_folder) if img.endswith('.png')]\\n\\n# Define the video codec\\nfourcc = cv2.VideoWriter_fourcc(*'XVID')\\n\\n# Create the video writer object\\nvideo_writer = cv2.VideoWriter(video_name, fourcc, frame_rate, (width, height))\\n\\n# Loop through the images and add them to the video\\nfor image in images:\\n    # Read the image\\n    img = cv2.imread(os.path.join(image_folder, image))\\n    \\n    # Resize the image to fit the video frame\\n    # img = cv2.resize(img, (width, height))\\n    \\n    # Write the image to the video\\n    video_writer.write(img)\\n\\n# Release the video writer object\\nvideo_writer.release()\\n\\n# Display the message once the video is created\\nprint('Video is created successfully') \""
      ]
     },
     "execution_count": 8,
     "metadata": {},
     "output_type": "execute_result"
    }
   ],
   "source": [
    "\"\"\" # Define the folder containing the images\n",
    "image_folder = 'f:/gg/test/'\n",
    "\n",
    "# Define the video output file\n",
    "video_name = './output_video.avi'\n",
    "\n",
    "# Set the video frame rate\n",
    "frame_rate = 60\n",
    "\n",
    "# Define the width and height of the video\n",
    "width, height = (1920, 1080)\n",
    "\n",
    "# Get all image files in the folder\n",
    "images = [img for img in os.listdir(image_folder) if img.endswith('.png')]\n",
    "\n",
    "# Define the video codec\n",
    "fourcc = cv2.VideoWriter_fourcc(*'XVID')\n",
    "\n",
    "# Create the video writer object\n",
    "video_writer = cv2.VideoWriter(video_name, fourcc, frame_rate, (width, height))\n",
    "\n",
    "# Loop through the images and add them to the video\n",
    "for image in images:\n",
    "    # Read the image\n",
    "    img = cv2.imread(os.path.join(image_folder, image))\n",
    "    \n",
    "    # Resize the image to fit the video frame\n",
    "    # img = cv2.resize(img, (width, height))\n",
    "    \n",
    "    # Write the image to the video\n",
    "    video_writer.write(img)\n",
    "\n",
    "# Release the video writer object\n",
    "video_writer.release()\n",
    "\n",
    "# Display the message once the video is created\n",
    "print('Video is created successfully') \"\"\""
   ]
  }
 ],
 "metadata": {
  "kernelspec": {
   "display_name": "Pyflow",
   "language": "python",
   "name": "python3"
  },
  "language_info": {
   "codemirror_mode": {
    "name": "ipython",
    "version": 3
   },
   "file_extension": ".py",
   "mimetype": "text/x-python",
   "name": "python",
   "nbconvert_exporter": "python",
   "pygments_lexer": "ipython3",
   "version": "3.9.16 (main, Jan 11 2023, 16:16:36) [MSC v.1916 64 bit (AMD64)]"
  },
  "orig_nbformat": 4,
  "vscode": {
   "interpreter": {
    "hash": "6cb0dd519e46c84f14fc2d0d6172fde6407ecb78b6d95b871c78761f2e6e52fb"
   }
  }
 },
 "nbformat": 4,
 "nbformat_minor": 2
}
