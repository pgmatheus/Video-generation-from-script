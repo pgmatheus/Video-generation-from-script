{
 "cells": [
  {
   "cell_type": "code",
   "execution_count": 1,
   "metadata": {},
   "outputs": [
    {
     "name": "stderr",
     "output_type": "stream",
     "text": [
      "c:\\Users\\Matheus\\anaconda3\\envs\\Pyflow\\lib\\site-packages\\torchvision\\models\\_utils.py:208: UserWarning: The parameter 'pretrained' is deprecated since 0.13 and may be removed in the future, please use 'weights' instead.\n",
      "  warnings.warn(\n",
      "c:\\Users\\Matheus\\anaconda3\\envs\\Pyflow\\lib\\site-packages\\torchvision\\models\\_utils.py:223: UserWarning: Arguments other than a weight enum or `None` for 'weights' are deprecated since 0.13 and may be removed in the future. The current behavior is equivalent to passing `weights=None`.\n",
      "  warnings.warn(msg)\n"
     ]
    }
   ],
   "source": [
    "from scripts_2.utilities import high_img, interp_fram, create_video_from_pngs, remove_temp_folder, retrieve_frames, merge_video_with_audio\n",
    "import torch\n",
    "import gc\n",
    "import cv2\n",
    "import time\n",
    "import os\n",
    "from tqdm import tqdm\n",
    "\n",
    "high_img_f = high_img(4)\n",
    "TEMP_FOLDER = \"F:/gg/templates/temp\"\n",
    "\n",
    "if torch.cuda.is_available():\n",
    "    with torch.cuda.device('cuda:0'):\n",
    "            torch.cuda.empty_cache()\n",
    "            torch.cuda.ipc_collect()\n",
    "gc.collect() \n",
    "\n",
    "BASE_FOLDER = 'F:/gg/templates'\n",
    "INTERPOLATED_FOLDER = f'{BASE_FOLDER}/interpolated'\n",
    "HQ_FOLDER = f'{BASE_FOLDER}/hq'\n",
    "MUSIC_FOLDER = f'{BASE_FOLDER}/musics'\n",
    "\n",
    "if not os.path.exists(HQ_FOLDER):\n",
    "  os.makedirs(HQ_FOLDER)"
   ]
  },
  {
   "cell_type": "code",
   "execution_count": 2,
   "metadata": {},
   "outputs": [
    {
     "name": "stdout",
     "output_type": "stream",
     "text": [
      "start high res\n",
      "Project name: evolution, HQ\n"
     ]
    },
    {
     "name": "stderr",
     "output_type": "stream",
     "text": [
      "100%|██████████| 1773/1773 [14:26<00:00,  2.05it/s]\n"
     ]
    },
    {
     "name": "stdout",
     "output_type": "stream",
     "text": [
      "Moviepy - Building video F:/gg/templates/hq/evolution/final_hq.mp4.\n",
      "MoviePy - Writing audio in final_hqTEMP_MPY_wvf_snd.mp3\n"
     ]
    },
    {
     "name": "stderr",
     "output_type": "stream",
     "text": [
      "                                                                    \r"
     ]
    },
    {
     "name": "stdout",
     "output_type": "stream",
     "text": [
      "MoviePy - Done.\n",
      "Moviepy - Writing video F:/gg/templates/hq/evolution/final_hq.mp4\n",
      "\n"
     ]
    },
    {
     "name": "stderr",
     "output_type": "stream",
     "text": [
      "                                                                \r"
     ]
    },
    {
     "name": "stdout",
     "output_type": "stream",
     "text": [
      "Moviepy - Done !\n",
      "Moviepy - video ready F:/gg/templates/hq/evolution/final_hq.mp4\n",
      "Project name: life, HQ\n"
     ]
    },
    {
     "name": "stderr",
     "output_type": "stream",
     "text": [
      "100%|██████████| 1773/1773 [14:18<00:00,  2.07it/s]\n"
     ]
    },
    {
     "name": "stdout",
     "output_type": "stream",
     "text": [
      "Moviepy - Building video F:/gg/templates/hq/life/final_hq.mp4.\n",
      "MoviePy - Writing audio in final_hqTEMP_MPY_wvf_snd.mp3\n"
     ]
    },
    {
     "name": "stderr",
     "output_type": "stream",
     "text": [
      "                                                                    \r"
     ]
    },
    {
     "name": "stdout",
     "output_type": "stream",
     "text": [
      "MoviePy - Done.\n",
      "Moviepy - Writing video F:/gg/templates/hq/life/final_hq.mp4\n",
      "\n"
     ]
    },
    {
     "name": "stderr",
     "output_type": "stream",
     "text": [
      "                                                                \r"
     ]
    },
    {
     "name": "stdout",
     "output_type": "stream",
     "text": [
      "Moviepy - Done !\n",
      "Moviepy - video ready F:/gg/templates/hq/life/final_hq.mp4\n",
      "delete\n"
     ]
    }
   ],
   "source": [
    "print('start high res')\n",
    "for project_folder in os.listdir(INTERPOLATED_FOLDER):\n",
    "    print(f'Project name: {project_folder}, HQ')\n",
    "    CURRENT_FOLDER = f'{INTERPOLATED_FOLDER}/{project_folder}'\n",
    "    PROJECT_HQ_FOLDER = f'{HQ_FOLDER}/{project_folder}'\n",
    "\n",
    "    if not os.path.exists(PROJECT_HQ_FOLDER):\n",
    "        os.makedirs(PROJECT_HQ_FOLDER)\n",
    "\n",
    "    if not os.path.exists(f'{CURRENT_FOLDER}/ok.txt'):\n",
    "        remove_temp_folder(TEMP_FOLDER)\n",
    "        retrieve_frames(f'{CURRENT_FOLDER}/output.mp4', TEMP_FOLDER)        \n",
    "        for file in tqdm(os.listdir(TEMP_FOLDER)):\n",
    "            if file.endswith(\".png\"):\n",
    "                high_img_f.run(\n",
    "                    face = False, # reconstruct face\n",
    "                    path = f'{TEMP_FOLDER}/{file}', # image path\n",
    "                    w_i = 512, # width to be resized \n",
    "                    h_i = 512, # height to be resized\n",
    "                    w_o = 1920, # width to be resized \n",
    "                    h_o = 1080, # height to be resized    \n",
    "                    out_path = f'{PROJECT_HQ_FOLDER}/{file}', # image output location\n",
    "                    return_out = 'nothing', # return the data to use later\n",
    "                    show_image = False, # show output\n",
    "                )\n",
    "\n",
    "        create_video_from_pngs(f'{PROJECT_HQ_FOLDER}',f\"{PROJECT_HQ_FOLDER}/hq.mp4\",60)\n",
    "        merge_video_with_audio(f\"{PROJECT_HQ_FOLDER}/hq.mp4\",f'{MUSIC_FOLDER}/{project_folder}.wav',f\"{PROJECT_HQ_FOLDER}/final_hq.mp4\")\n",
    "\n",
    "\n",
    "\n",
    "if torch.cuda.is_available():\n",
    "    with torch.cuda.device('cuda:0'):\n",
    "            torch.cuda.empty_cache()\n",
    "            torch.cuda.ipc_collect()\n",
    "gc.collect() \n",
    "\n",
    "\n",
    "del high_img_f\n",
    "#print(torch.cuda.memory_allocated())\n",
    "#print(torch.cuda.memory_summary())"
   ]
  }
 ],
 "metadata": {
  "kernelspec": {
   "display_name": "Pyflow",
   "language": "python",
   "name": "python3"
  },
  "language_info": {
   "codemirror_mode": {
    "name": "ipython",
    "version": 3
   },
   "file_extension": ".py",
   "mimetype": "text/x-python",
   "name": "python",
   "nbconvert_exporter": "python",
   "pygments_lexer": "ipython3",
   "version": "3.9.16 (main, Jan 11 2023, 16:16:36) [MSC v.1916 64 bit (AMD64)]"
  },
  "orig_nbformat": 4,
  "vscode": {
   "interpreter": {
    "hash": "6cb0dd519e46c84f14fc2d0d6172fde6407ecb78b6d95b871c78761f2e6e52fb"
   }
  }
 },
 "nbformat": 4,
 "nbformat_minor": 2
}
