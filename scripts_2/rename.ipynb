{
 "cells": [
  {
   "cell_type": "code",
   "execution_count": 1,
   "metadata": {},
   "outputs": [],
   "source": [
    "import os\n",
    "import glob\n",
    "\n",
    "src_folder_path = 'F:/gg/templates/to_rename'\n",
    "dest_folder_path = 'F:/gg/templates/to_replace'"
   ]
  },
  {
   "cell_type": "code",
   "execution_count": 2,
   "metadata": {},
   "outputs": [],
   "source": [
    "def rename_images(src_folder_path, dest_folder_path):\n",
    "    # Get a list of all the image files in the source folder\n",
    "    src_files = glob.glob(os.path.join(src_folder_path, '*.png'))\n",
    "\n",
    "    # Get a list of all the image files in the destination folder\n",
    "    dest_files = glob.glob(os.path.join(dest_folder_path, '*.png'))\n",
    "\n",
    "    # Iterate through the source files and rename the corresponding files in the destination folder\n",
    "    for i, src_file in enumerate(src_files):\n",
    "        # Get the filename of the source file without the extension\n",
    "        src_filename = os.path.splitext(os.path.basename(src_file))[0]\n",
    "\n",
    "        # Get the corresponding filename in the destination folder\n",
    "        dest_file = dest_files[i]\n",
    "        dest_filename = os.path.splitext(os.path.basename(dest_file))[0]\n",
    "\n",
    "        # Rename the destination file with the filename of the source file\n",
    "        os.rename(dest_file, os.path.join(dest_folder_path, src_filename + os.path.splitext(dest_file)[1]))"
   ]
  },
  {
   "cell_type": "code",
   "execution_count": 3,
   "metadata": {},
   "outputs": [],
   "source": [
    "\n",
    "\n",
    "rename_images(src_folder_path, dest_folder_path)"
   ]
  }
 ],
 "metadata": {
  "kernelspec": {
   "display_name": "Pyflow",
   "language": "python",
   "name": "python3"
  },
  "language_info": {
   "codemirror_mode": {
    "name": "ipython",
    "version": 3
   },
   "file_extension": ".py",
   "mimetype": "text/x-python",
   "name": "python",
   "nbconvert_exporter": "python",
   "pygments_lexer": "ipython3",
   "version": "3.9.16 (main, Jan 11 2023, 16:16:36) [MSC v.1916 64 bit (AMD64)]"
  },
  "orig_nbformat": 4,
  "vscode": {
   "interpreter": {
    "hash": "6cb0dd519e46c84f14fc2d0d6172fde6407ecb78b6d95b871c78761f2e6e52fb"
   }
  }
 },
 "nbformat": 4,
 "nbformat_minor": 2
}
