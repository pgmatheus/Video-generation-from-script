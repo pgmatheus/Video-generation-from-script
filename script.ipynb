{
 "cells": [
  {
   "cell_type": "code",
   "execution_count": 1,
   "metadata": {},
   "outputs": [
    {
     "name": "stdout",
     "output_type": "stream",
     "text": [
      "Stored 'WIDTH' (int)\n",
      "Stored 'HEIGHT' (int)\n",
      "Stored 'TEXT_IMAGE_GEN' (list)\n",
      "Stored 'TEXT_VOICE_GEN' (list)\n",
      "Stored 'IMG_NUMBER' (int)\n",
      "Stored 'SAVE_FOLDER' (str)\n",
      "Stored 'PROJECT_NAME' (str)\n",
      "Stored 'SHOW_OUTPUT' (bool)\n",
      "Stored 'THUMBNAIL' (str)\n",
      "Stored 'PROMPT_IMG' (str)\n",
      "Stored 'SPEAKER' (str)\n",
      "Stored 'TALKING_SPEED' (int)\n",
      "Stored 'STYLES_FOLDER' (str)\n",
      "Stored 'SECONDS_SILENCE' (float)\n",
      "Stored 'EXCLUDE_IMG_GEN' (list)\n",
      "Stored 'SKIP_VIDEO' (list)\n",
      "Stored 'MERGE_VIDEO' (bool)\n",
      "Stored 'NEGATIVE_P' (str)\n",
      "Stored 'MODEL_14' (bool)\n",
      "Stored 'LANGUAGES' (list)\n",
      "Stored 'GEN_VIDEO' (bool)\n",
      "Stored 'INSERT_BACKGROUND' (bool)\n",
      "Stored 'RECORD_AUDIO_AFTER' (int)\n",
      "Stored 'RECORD_VIDEO_AFTER' (int)\n",
      "Stored 'RECORD_FRAME_INTER_AFTER' (int)\n",
      "Stored 'RECORD_FRAME_INTER_HD_AFTER' (int)\n",
      "Stored 'IMG_NUMBER_IMG2IMG' (int)\n",
      "Stored 'RECORD_FRAME_LIP' (int)\n",
      "Stored 'FPS' (int)\n",
      "Stored 'STATIC_BG' (bool)\n",
      "Stored 'LOCATION_STATIC_PNG' (str)\n",
      "Stored 'PROJECT_BACKGROUND' (str)\n",
      "Stored 'FRAMES_MUSIC' (list)\n",
      "Python 3.9.16 (main, Jan 11 2023, 16:16:36) [MSC v.1916 64 bit (AMD64)]\n",
      "Commit hash: 24e0f3a7520fa64e7332ff60e70f2a210e1be027\n",
      "Launching Web UI with arguments: --xformers --enable-insecure-extension-access --hide_web_ui\n"
     ]
    },
    {
     "name": "stderr",
     "output_type": "stream",
     "text": [
      "c:\\Users\\Matheus\\anaconda3\\envs\\Pyflow\\lib\\site-packages\\neptune\\common\\warnings.py:62: NeptuneDeprecationWarning: The 'neptune-client' package has been deprecated and will be removed in the future. Install the 'neptune' package instead. For more, see https://docs.neptune.ai/setup/upgrading/\n",
      "  warnings.warn(\n",
      "c:\\Users\\Matheus\\anaconda3\\envs\\Pyflow\\lib\\site-packages\\neptune\\common\\warnings.py:62: NeptuneDeprecationWarning: You're importing the Neptune client library via the deprecated `neptune.new` module, which will be removed in a future release. Import directly from `neptune` instead.\n",
      "  warnings.warn(\n",
      "c:\\Users\\Matheus\\anaconda3\\envs\\Pyflow\\lib\\site-packages\\pytorch_lightning\\utilities\\distributed.py:258: LightningDeprecationWarning: `pytorch_lightning.utilities.distributed.rank_zero_only` has been deprecated in v1.8.1 and will be removed in v2.0.0. You can import it from `pytorch_lightning.utilities` instead.\n",
      "  rank_zero_deprecation(\n",
      "c:\\Users\\Matheus\\anaconda3\\envs\\Pyflow\\lib\\site-packages\\pytorch_lightning\\utilities\\distributed.py:258: LightningDeprecationWarning: `pytorch_lightning.utilities.distributed.rank_zero_only` has been deprecated in v1.8.1 and will be removed in v2.0.0. You can import it from `pytorch_lightning.utilities` instead.\n",
      "  rank_zero_deprecation(\n"
     ]
    },
    {
     "name": "stdout",
     "output_type": "stream",
     "text": [
      "Loading weights [e6415c4892] from F:\\gg\\stable\\models\\Stable-diffusion\\realisticVisionV20_v20.safetensors\n",
      "Creating model from config: F:\\gg\\stable\\configs\\v1-inference.yaml\n",
      "LatentDiffusion: Running in eps-prediction mode\n",
      "DiffusionWrapper has 859.52 M params.\n",
      "Applying xformers cross attention optimization.\n",
      "Textual inversion embeddings loaded(0): \n",
      "Model loaded in 3.6s (load weights from disk: 0.3s, create model: 0.3s, apply weights to model: 0.5s, apply half(): 0.7s, move model to device: 0.9s, load textual inversion embeddings: 0.8s).\n",
      "Folder: F:/gg/templates/to_proccess\\transcendence\n",
      "Prompt: (cyberpunk), (high definition), beautiful, A pulsing, vibrant forest with trees and plants that seem to come to life in time with the music, suggesting the interconnectedness and interdependence of all living things --neg (painting), (noise), (blur), (fog), (text), (NSFW)\n",
      "Total Frames: 120\n",
      "Saving animation frames to:\n",
      "F:/gg/templates/to_proccess\\transcendence\n",
      "Loading base model ()...Done.\n",
      "Removing last two layers (global_pool & classifier).\n",
      "Building Encoder-Decoder model..Done.\n"
     ]
    },
    {
     "name": "stderr",
     "output_type": "stream",
     "text": [
      "  0%|          | 0/1860 [00:00<?, ?it/s]"
     ]
    },
    {
     "name": "stdout",
     "output_type": "stream",
     "text": [
      "Not using an init image (doing pure txt2img)\n"
     ]
    },
    {
     "data": {
      "application/vnd.jupyter.widget-view+json": {
       "model_id": "1a019943bb0f4781b366df752194afee",
       "version_major": 2,
       "version_minor": 0
      },
      "text/plain": [
       "  0%|          | 0/25 [00:00<?, ?it/s]"
      ]
     },
     "metadata": {},
     "output_type": "display_data"
    },
    {
     "name": "stdout",
     "output_type": "stream",
     "text": []
    },
    {
     "name": "stderr",
     "output_type": "stream",
     "text": [
      "  0%|          | 4/1860 [00:06<49:31,  1.60s/it]"
     ]
    },
    {
     "data": {
      "application/vnd.jupyter.widget-view+json": {
       "model_id": "ae6beb9a97b9451789ba41fbaa68636e",
       "version_major": 2,
       "version_minor": 0
      },
      "text/plain": [
       "  0%|          | 0/9 [00:00<?, ?it/s]"
      ]
     },
     "metadata": {},
     "output_type": "display_data"
    },
    {
     "name": "stdout",
     "output_type": "stream",
     "text": []
    },
    {
     "name": "stderr",
     "output_type": "stream",
     "text": [
      "  1%|          | 12/1860 [00:08<19:31,  1.58it/s]"
     ]
    },
    {
     "data": {
      "application/vnd.jupyter.widget-view+json": {
       "model_id": "a459b8a078c04428b9878005cdaac394",
       "version_major": 2,
       "version_minor": 0
      },
      "text/plain": [
       "  0%|          | 0/9 [00:00<?, ?it/s]"
      ]
     },
     "metadata": {},
     "output_type": "display_data"
    },
    {
     "name": "stdout",
     "output_type": "stream",
     "text": []
    },
    {
     "name": "stderr",
     "output_type": "stream",
     "text": [
      "  1%|▏         | 24/1860 [00:11<11:10,  2.74it/s]"
     ]
    },
    {
     "data": {
      "application/vnd.jupyter.widget-view+json": {
       "model_id": "1bb027eb3ec94a9d9980d0d9818d67b0",
       "version_major": 2,
       "version_minor": 0
      },
      "text/plain": [
       "  0%|          | 0/9 [00:00<?, ?it/s]"
      ]
     },
     "metadata": {},
     "output_type": "display_data"
    },
    {
     "name": "stdout",
     "output_type": "stream",
     "text": []
    },
    {
     "name": "stderr",
     "output_type": "stream",
     "text": [
      "  2%|▏         | 40/1860 [00:13<07:30,  4.04it/s]"
     ]
    },
    {
     "data": {
      "application/vnd.jupyter.widget-view+json": {
       "model_id": "0a4ff79be07141448b4234bbb1527752",
       "version_major": 2,
       "version_minor": 0
      },
      "text/plain": [
       "  0%|          | 0/9 [00:00<?, ?it/s]"
      ]
     },
     "metadata": {},
     "output_type": "display_data"
    },
    {
     "name": "stdout",
     "output_type": "stream",
     "text": []
    },
    {
     "name": "stderr",
     "output_type": "stream",
     "text": [
      "  3%|▎         | 60/1860 [00:15<05:33,  5.40it/s]"
     ]
    },
    {
     "data": {
      "application/vnd.jupyter.widget-view+json": {
       "model_id": "a0d2fe9f5bd74e2384be20c57e82aa68",
       "version_major": 2,
       "version_minor": 0
      },
      "text/plain": [
       "  0%|          | 0/9 [00:00<?, ?it/s]"
      ]
     },
     "metadata": {},
     "output_type": "display_data"
    },
    {
     "name": "stdout",
     "output_type": "stream",
     "text": []
    },
    {
     "name": "stderr",
     "output_type": "stream",
     "text": [
      "  5%|▍         | 84/1860 [00:18<04:23,  6.75it/s]"
     ]
    },
    {
     "data": {
      "application/vnd.jupyter.widget-view+json": {
       "model_id": "898e6ad51d544665b330a2390539a7c1",
       "version_major": 2,
       "version_minor": 0
      },
      "text/plain": [
       "  0%|          | 0/9 [00:00<?, ?it/s]"
      ]
     },
     "metadata": {},
     "output_type": "display_data"
    },
    {
     "name": "stdout",
     "output_type": "stream",
     "text": []
    },
    {
     "name": "stderr",
     "output_type": "stream",
     "text": [
      "  6%|▌         | 112/1860 [00:20<03:31,  8.26it/s]"
     ]
    },
    {
     "data": {
      "application/vnd.jupyter.widget-view+json": {
       "model_id": "25c6c976006345c187d935d99c4b0f3c",
       "version_major": 2,
       "version_minor": 0
      },
      "text/plain": [
       "  0%|          | 0/9 [00:00<?, ?it/s]"
      ]
     },
     "metadata": {},
     "output_type": "display_data"
    },
    {
     "name": "stdout",
     "output_type": "stream",
     "text": []
    },
    {
     "name": "stderr",
     "output_type": "stream",
     "text": [
      "  8%|▊         | 144/1860 [00:23<02:55,  9.76it/s]"
     ]
    },
    {
     "data": {
      "application/vnd.jupyter.widget-view+json": {
       "model_id": "027f8b87e3234f0fb70f3b99e3ca1038",
       "version_major": 2,
       "version_minor": 0
      },
      "text/plain": [
       "  0%|          | 0/9 [00:00<?, ?it/s]"
      ]
     },
     "metadata": {},
     "output_type": "display_data"
    },
    {
     "name": "stdout",
     "output_type": "stream",
     "text": []
    },
    {
     "name": "stderr",
     "output_type": "stream",
     "text": [
      " 10%|▉         | 180/1860 [00:25<02:27, 11.40it/s]"
     ]
    },
    {
     "data": {
      "application/vnd.jupyter.widget-view+json": {
       "model_id": "49c63b5aa8224779b116205a26500240",
       "version_major": 2,
       "version_minor": 0
      },
      "text/plain": [
       "  0%|          | 0/9 [00:00<?, ?it/s]"
      ]
     },
     "metadata": {},
     "output_type": "display_data"
    },
    {
     "name": "stdout",
     "output_type": "stream",
     "text": []
    },
    {
     "name": "stderr",
     "output_type": "stream",
     "text": [
      " 12%|█▏        | 220/1860 [00:27<02:05, 13.07it/s]"
     ]
    },
    {
     "data": {
      "application/vnd.jupyter.widget-view+json": {
       "model_id": "fd33a9fef5ad4314b11b63c7174f5af0",
       "version_major": 2,
       "version_minor": 0
      },
      "text/plain": [
       "  0%|          | 0/9 [00:00<?, ?it/s]"
      ]
     },
     "metadata": {},
     "output_type": "display_data"
    },
    {
     "name": "stdout",
     "output_type": "stream",
     "text": []
    },
    {
     "name": "stderr",
     "output_type": "stream",
     "text": [
      " 14%|█▍        | 264/1860 [00:30<01:48, 14.76it/s]"
     ]
    },
    {
     "data": {
      "application/vnd.jupyter.widget-view+json": {
       "model_id": "62f33f92db9549439fcd47ec379bde91",
       "version_major": 2,
       "version_minor": 0
      },
      "text/plain": [
       "  0%|          | 0/9 [00:00<?, ?it/s]"
      ]
     },
     "metadata": {},
     "output_type": "display_data"
    },
    {
     "name": "stdout",
     "output_type": "stream",
     "text": []
    },
    {
     "name": "stderr",
     "output_type": "stream",
     "text": [
      " 17%|█▋        | 312/1860 [00:32<01:34, 16.36it/s]"
     ]
    },
    {
     "data": {
      "application/vnd.jupyter.widget-view+json": {
       "model_id": "647615d32379422a9d9af4e1774d1b02",
       "version_major": 2,
       "version_minor": 0
      },
      "text/plain": [
       "  0%|          | 0/9 [00:00<?, ?it/s]"
      ]
     },
     "metadata": {},
     "output_type": "display_data"
    },
    {
     "name": "stdout",
     "output_type": "stream",
     "text": []
    },
    {
     "name": "stderr",
     "output_type": "stream",
     "text": [
      " 20%|█▉        | 364/1860 [00:35<01:22, 18.03it/s]"
     ]
    },
    {
     "data": {
      "application/vnd.jupyter.widget-view+json": {
       "model_id": "22d4e4980b5d470bbe5d2d23fdaaf713",
       "version_major": 2,
       "version_minor": 0
      },
      "text/plain": [
       "  0%|          | 0/9 [00:00<?, ?it/s]"
      ]
     },
     "metadata": {},
     "output_type": "display_data"
    },
    {
     "name": "stdout",
     "output_type": "stream",
     "text": []
    },
    {
     "name": "stderr",
     "output_type": "stream",
     "text": [
      " 23%|██▎       | 420/1860 [00:37<01:13, 19.66it/s]"
     ]
    },
    {
     "data": {
      "application/vnd.jupyter.widget-view+json": {
       "model_id": "8b61dea196f443cb83c7983bd9649594",
       "version_major": 2,
       "version_minor": 0
      },
      "text/plain": [
       "  0%|          | 0/9 [00:00<?, ?it/s]"
      ]
     },
     "metadata": {},
     "output_type": "display_data"
    },
    {
     "name": "stdout",
     "output_type": "stream",
     "text": []
    },
    {
     "name": "stderr",
     "output_type": "stream",
     "text": [
      " 26%|██▌       | 480/1860 [00:39<01:04, 21.30it/s]"
     ]
    },
    {
     "data": {
      "application/vnd.jupyter.widget-view+json": {
       "model_id": "033df83c9e004cfeb8cc064dc424c305",
       "version_major": 2,
       "version_minor": 0
      },
      "text/plain": [
       "  0%|          | 0/9 [00:00<?, ?it/s]"
      ]
     },
     "metadata": {},
     "output_type": "display_data"
    },
    {
     "name": "stdout",
     "output_type": "stream",
     "text": []
    },
    {
     "name": "stderr",
     "output_type": "stream",
     "text": [
      " 29%|██▉       | 544/1860 [00:42<00:57, 23.06it/s]"
     ]
    },
    {
     "data": {
      "application/vnd.jupyter.widget-view+json": {
       "model_id": "cfc1977d03004b40be24d9ad2cc39a00",
       "version_major": 2,
       "version_minor": 0
      },
      "text/plain": [
       "  0%|          | 0/9 [00:00<?, ?it/s]"
      ]
     },
     "metadata": {},
     "output_type": "display_data"
    },
    {
     "name": "stdout",
     "output_type": "stream",
     "text": []
    },
    {
     "name": "stderr",
     "output_type": "stream",
     "text": [
      " 33%|███▎      | 612/1860 [00:44<00:50, 24.56it/s]"
     ]
    },
    {
     "data": {
      "application/vnd.jupyter.widget-view+json": {
       "model_id": "cf2ebccd285647b5a58a52bf777a3f47",
       "version_major": 2,
       "version_minor": 0
      },
      "text/plain": [
       "  0%|          | 0/9 [00:00<?, ?it/s]"
      ]
     },
     "metadata": {},
     "output_type": "display_data"
    },
    {
     "name": "stdout",
     "output_type": "stream",
     "text": []
    },
    {
     "name": "stderr",
     "output_type": "stream",
     "text": [
      " 37%|███▋      | 684/1860 [00:46<00:44, 26.31it/s]"
     ]
    },
    {
     "data": {
      "application/vnd.jupyter.widget-view+json": {
       "model_id": "7c9b835dcf8a4890bf89bd9757a0d68d",
       "version_major": 2,
       "version_minor": 0
      },
      "text/plain": [
       "  0%|          | 0/9 [00:00<?, ?it/s]"
      ]
     },
     "metadata": {},
     "output_type": "display_data"
    },
    {
     "name": "stdout",
     "output_type": "stream",
     "text": []
    },
    {
     "name": "stderr",
     "output_type": "stream",
     "text": [
      " 41%|████      | 760/1860 [00:49<00:39, 27.80it/s]"
     ]
    },
    {
     "data": {
      "application/vnd.jupyter.widget-view+json": {
       "model_id": "1d25cfa6e56f403d97354f641ed13139",
       "version_major": 2,
       "version_minor": 0
      },
      "text/plain": [
       "  0%|          | 0/9 [00:00<?, ?it/s]"
      ]
     },
     "metadata": {},
     "output_type": "display_data"
    },
    {
     "name": "stdout",
     "output_type": "stream",
     "text": []
    },
    {
     "name": "stderr",
     "output_type": "stream",
     "text": [
      " 45%|████▌     | 840/1860 [00:51<00:34, 29.54it/s]"
     ]
    },
    {
     "data": {
      "application/vnd.jupyter.widget-view+json": {
       "model_id": "834b1b094ed14b81928abb9c8924d066",
       "version_major": 2,
       "version_minor": 0
      },
      "text/plain": [
       "  0%|          | 0/9 [00:00<?, ?it/s]"
      ]
     },
     "metadata": {},
     "output_type": "display_data"
    },
    {
     "name": "stdout",
     "output_type": "stream",
     "text": []
    },
    {
     "name": "stderr",
     "output_type": "stream",
     "text": [
      " 50%|████▉     | 924/1860 [00:54<00:29, 31.21it/s]"
     ]
    },
    {
     "data": {
      "application/vnd.jupyter.widget-view+json": {
       "model_id": "fd2b5f14fee14c2fbdd42f66bff67148",
       "version_major": 2,
       "version_minor": 0
      },
      "text/plain": [
       "  0%|          | 0/9 [00:00<?, ?it/s]"
      ]
     },
     "metadata": {},
     "output_type": "display_data"
    },
    {
     "name": "stdout",
     "output_type": "stream",
     "text": []
    },
    {
     "name": "stderr",
     "output_type": "stream",
     "text": [
      " 54%|█████▍    | 1012/1860 [00:56<00:25, 33.01it/s]"
     ]
    },
    {
     "data": {
      "application/vnd.jupyter.widget-view+json": {
       "model_id": "8022a0b7e31d44debf2eddb7ac75b03f",
       "version_major": 2,
       "version_minor": 0
      },
      "text/plain": [
       "  0%|          | 0/9 [00:00<?, ?it/s]"
      ]
     },
     "metadata": {},
     "output_type": "display_data"
    },
    {
     "name": "stdout",
     "output_type": "stream",
     "text": []
    },
    {
     "name": "stderr",
     "output_type": "stream",
     "text": [
      " 59%|█████▉    | 1104/1860 [00:58<00:21, 34.84it/s]"
     ]
    },
    {
     "data": {
      "application/vnd.jupyter.widget-view+json": {
       "model_id": "665c23a988b24b388ac57c656fb4134c",
       "version_major": 2,
       "version_minor": 0
      },
      "text/plain": [
       "  0%|          | 0/12 [00:00<?, ?it/s]"
      ]
     },
     "metadata": {},
     "output_type": "display_data"
    },
    {
     "name": "stdout",
     "output_type": "stream",
     "text": []
    },
    {
     "name": "stderr",
     "output_type": "stream",
     "text": [
      " 65%|██████▍   | 1200/1860 [01:01<00:19, 34.41it/s]"
     ]
    },
    {
     "data": {
      "application/vnd.jupyter.widget-view+json": {
       "model_id": "33640f9009a34dcaaef144bd5768ecbd",
       "version_major": 2,
       "version_minor": 0
      },
      "text/plain": [
       "  0%|          | 0/9 [00:00<?, ?it/s]"
      ]
     },
     "metadata": {},
     "output_type": "display_data"
    },
    {
     "name": "stdout",
     "output_type": "stream",
     "text": []
    },
    {
     "name": "stderr",
     "output_type": "stream",
     "text": [
      " 70%|██████▉   | 1300/1860 [01:04<00:15, 36.38it/s]"
     ]
    },
    {
     "data": {
      "application/vnd.jupyter.widget-view+json": {
       "model_id": "bc27e9757bfd4aed9dc99f491ca59091",
       "version_major": 2,
       "version_minor": 0
      },
      "text/plain": [
       "  0%|          | 0/9 [00:00<?, ?it/s]"
      ]
     },
     "metadata": {},
     "output_type": "display_data"
    },
    {
     "name": "stdout",
     "output_type": "stream",
     "text": []
    },
    {
     "name": "stderr",
     "output_type": "stream",
     "text": [
      " 75%|███████▌  | 1404/1860 [01:06<00:11, 38.56it/s]"
     ]
    },
    {
     "data": {
      "application/vnd.jupyter.widget-view+json": {
       "model_id": "f5fd668a70d9486bbfea7cc05480678c",
       "version_major": 2,
       "version_minor": 0
      },
      "text/plain": [
       "  0%|          | 0/9 [00:00<?, ?it/s]"
      ]
     },
     "metadata": {},
     "output_type": "display_data"
    },
    {
     "name": "stdout",
     "output_type": "stream",
     "text": []
    },
    {
     "name": "stderr",
     "output_type": "stream",
     "text": [
      " 81%|████████▏ | 1512/1860 [01:08<00:08, 40.62it/s]"
     ]
    },
    {
     "data": {
      "application/vnd.jupyter.widget-view+json": {
       "model_id": "35f90d1748964aa38957a891c54fd352",
       "version_major": 2,
       "version_minor": 0
      },
      "text/plain": [
       "  0%|          | 0/9 [00:00<?, ?it/s]"
      ]
     },
     "metadata": {},
     "output_type": "display_data"
    },
    {
     "name": "stdout",
     "output_type": "stream",
     "text": []
    },
    {
     "name": "stderr",
     "output_type": "stream",
     "text": [
      " 87%|████████▋ | 1624/1860 [01:11<00:05, 42.44it/s]"
     ]
    },
    {
     "data": {
      "application/vnd.jupyter.widget-view+json": {
       "model_id": "f2278ee51ef34d58a6c3ec42c5c2739b",
       "version_major": 2,
       "version_minor": 0
      },
      "text/plain": [
       "  0%|          | 0/9 [00:00<?, ?it/s]"
      ]
     },
     "metadata": {},
     "output_type": "display_data"
    },
    {
     "name": "stdout",
     "output_type": "stream",
     "text": []
    },
    {
     "name": "stderr",
     "output_type": "stream",
     "text": [
      " 94%|█████████▎| 1740/1860 [01:13<00:02, 44.23it/s]"
     ]
    },
    {
     "data": {
      "application/vnd.jupyter.widget-view+json": {
       "model_id": "1abe75c6bbc14d1b8f1b53ed9922f645",
       "version_major": 2,
       "version_minor": 0
      },
      "text/plain": [
       "  0%|          | 0/9 [00:00<?, ?it/s]"
      ]
     },
     "metadata": {},
     "output_type": "display_data"
    },
    {
     "name": "stdout",
     "output_type": "stream",
     "text": []
    },
    {
     "name": "stderr",
     "output_type": "stream",
     "text": [
      "                                                   "
     ]
    },
    {
     "name": "stdout",
     "output_type": "stream",
     "text": [
      "Deforum progress: 100%|██████████| 289/289 [01:13<00:00,  3.95it/s]\n",
      "Got a request to stitch frames to video using FFmpeg.\n",
      "Frames:\n",
      "F:/gg/templates/to_proccess\\transcendence\\a_%05d.png\n",
      "To Video:\n",
      "F:/gg/templates/to_proccess\\transcendence\\a.mp4\n"
     ]
    },
    {
     "name": "stderr",
     "output_type": "stream",
     "text": [
      "\r"
     ]
    },
    {
     "data": {
      "text/html": [
       "<pre style=\"white-space:pre;overflow-x:auto;line-height:normal;font-family:Menlo,'DejaVu Sans Mono',consolas,'Courier New',monospace\"><span style=\"color: #808000; text-decoration-color: #808000\">Stitching *video*...</span></pre>\n"
      ],
      "text/plain": [
       "\u001b[5;33mStitching *video*\u001b[0m\u001b[5;33m...\u001b[0m"
      ]
     },
     "metadata": {},
     "output_type": "display_data"
    },
    {
     "name": "stdout",
     "output_type": "stream",
     "text": [
      "Stitching *video*...\n",
      "Video stitching \u001b[0;32mdone\u001b[0m in 0.05 seconds!\n",
      "FFMPEG DID NOT STITCH ANY VIDEO. However, you requested to frame interpolate  - so we will continue to frame interpolation, but you'll be left only with the interpolated frames and not a video, since ffmpeg couldn't run. Original ffmpeg error: [Errno 2] No such file or directory: 'F:/gg/templates/to_proccess\\\\transcendence\\\\a.mp4'\n",
      "Got a request to *frame interpolate* using FILM\n",
      "Total frames to FILM-interpolate: 116. Total frame-pairs: 115.\n"
     ]
    },
    {
     "name": "stderr",
     "output_type": "stream",
     "text": [
      "FILM progress: 100%|██████████| 115/115 [00:57<00:00,  1.99it/s]\n"
     ]
    },
    {
     "name": "stdout",
     "output_type": "stream",
     "text": [
      "Interpolation \u001b[0;32mdone\u001b[0m in 58.03 seconds!\n",
      "*Passing interpolated frames to ffmpeg...*\n",
      "start high res\n",
      "Music name: transcendence\n"
     ]
    },
    {
     "name": "stderr",
     "output_type": "stream",
     "text": [
      "100%|██████████| 461/461 [03:47<00:00,  2.02it/s]\n"
     ]
    },
    {
     "name": "stdout",
     "output_type": "stream",
     "text": [
      "F:/gg/templates/to_proccess/transcendence/high_res_a\n",
      "F:/gg/templates/to_proccess/transcendence/transcendence/transcendence.mp4\n",
      "delete\n"
     ]
    }
   ],
   "source": [
    "from scripts_2 import transcendence\n",
    "import nbconvert\n",
    "import os\n",
    "import subprocess\n",
    "import torch\n",
    "# os.environ['CUDA_LAUNCH_BLOCKING'] = '1'\n",
    "\n",
    "os.chdir('F:/gg/')\n",
    "\n",
    "GENERATE_MUSIC = True\n",
    "\n",
    "PROJECT = transcendence.transcendence\n",
    "\n",
    "\"\"\" z = [PROJECT][PROJECT]\n",
    "print(z)\n",
    "\n",
    "class stories():\n",
    "    def __init__(self, project):\n",
    "        self.project = project \"\"\"\n",
    "\n",
    "\"\"\" story = stories(PROJECT) \"\"\"\n",
    "\n",
    "\n",
    "\n",
    "# USABLES BELOW\n",
    "VOICE_GEN_ACTIVATE = False # generate voice from text ./voice_gen.ipynb\n",
    "GET_ARRAY_TXT_ACTIVATE = False # Format the text ./get_array_txt.ipynb #implement later\n",
    "\n",
    "IMAGE_GEN_ACTIVATE = False\n",
    "IMG2IMG_ACTIVATE = False\n",
    "STYLE_GEN_ACTIVATE = False\n",
    "FRAME_INTER_GEN_ACTIVATE = False\n",
    "VIDEO_HD_GEN_ACTIVATE = False #old version\n",
    "SRT_GEN_ACTIVATE = False\n",
    "FIRST_ORDER_ACTIVATE = False\n",
    "\n",
    "GENERATE_FULL_LQ_VIDEO = False\n",
    "DEFORUM =                True  #generate templates\n",
    "DUPLICATE_TEMPLATES_AND_HD_ACTIVATE = False # duplicate templates from animations and background and improve quality\n",
    "IMG_HD_GEN_ACTIVATE = False\n",
    "MERGE_AUDIO_ACTIVATE = False\n",
    "LIP_SYNC_ACTIVATE = False\n",
    "LIP_SYNC_HD_ACTIVATE = False\n",
    "ALPHA_ACTIVATE = False # Take img from lip_hd, remove the alpha and save in alpha, then merge with the bg in background gg folder and save it\n",
    "MERGE_VIDEO_ACTIVATE = False\n",
    "\n",
    "# EXCLUDE_IMG_GEN =  [0,1,2,3,4,5,6,7,8,9,10,11,12,13,14,15,16,19,21,22,23] # will not generate this indexes\n",
    "EXCLUDE_IMG_GEN =  []\n",
    "EXCLUDE_VIDEO_GEN =  [] # will not generate this indexes\n",
    "RECORD_AUDIO_AFTER = -1 # skilp until this number\n",
    "RECORD_VIDEO_AFTER = -1\n",
    "RECORD_FRAME_INTER_AFTER = -1 # -1 will start from the beginning\n",
    "RECORD_FRAME_INTER_HD_AFTER = -1 \n",
    "RECORD_FRAME_LIP = -1\n",
    "if not GENERATE_MUSIC:\n",
    "   TEXT_VOICE_GEN = PROJECT['text_spoken']\n",
    "else:\n",
    "\n",
    "   TEXT_IMAGE_GEN = PROJECT['image_generation']\n",
    "   TEXT_VOICE_GEN = PROJECT['music_name']\n",
    "   FRAMES_MUSIC = PROJECT['n_frames_music']\n",
    "   \"\"\" TEXT_IMAGE_GEN = story.M000001['image_generation'] \n",
    "   TEXT_VOICE_GEN = story.M000001['music_name']\n",
    "   FRAMES_MUSIC = story.M000001['n_frames_music'] \"\"\"\n",
    "PROJECT_NAME = \"john test\"\n",
    "GEN_VIDEO = True\n",
    "IMG_NUMBER = 5\n",
    "IMG_NUMBER_IMG2IMG = 10\n",
    "SHOW_WEB_UI = False\n",
    "FPS = 15\n",
    "STATIC_BG = False\n",
    "PROJECT_BACKGROUND = \"230313 - castle\"\n",
    "LOCATION_STATIC_PNG = \"F:/gg/background/1.png\"\n",
    "\n",
    "SHOW_OUTPUT = True\n",
    "THUMBNAIL = \"Thumbnail for a youtube video with the title: Jack and the Jewel - Amazing story.\"  \n",
    "PROMPT_IMG =  \"High definition, realistic, highly detailed, illustration, digital painting, artstation, smooth, sharp focus, concept art, elegant and without text of: \"\n",
    "PROMPT_IMG = \"a beautiful cinematic render of anime, fine art, intricate, masterpiece, high definition, realistic, highly detailed, smooth, sharp focus, concept art, elegant\"\n",
    "PROMPT_IMG = \"atmospheric, hyper realistic, epic composition, cinematic, octane render, alluring, appealing, charming, cute, dazzling, delicate, delightful, elegant, \\\n",
    "exquisite, fascinating, good-looking, gorgeous, graceful, grand, lovely, magnificent\"\n",
    "PROMPT_IMG = \"(cyberpunk), (high definition), beautiful\"\n",
    "NEGATIVE_P = \"ugly, morbid, cloned face, missing legs, tiling, extra fingers, mutation, bad anatomy,gross proportions, \\\n",
    "   missing arm, long neck, duplicate, poorly drawn hands, poorly drawn feet, poorly drawn face, out of frame, extra limbs, \\\n",
    "   disfigured, deformed, body out of frame, blurry, blurred, watermark, grainy, signature, cut off, draft, \"\n",
    "NEGATIVE_P = '(painting), (noise), (blur), (fog), (text), (NSFW)'\n",
    "#SPEAKER = Naoto Shirogane; SPEAKER = \"Celestia\"; SPEAKER = \"Engineer\"; SPEAKER\n",
    "#= \"Starlight\"; SPEAKER = \"Yosuke Hanamura\"; SPEAKER = \"Ryotaro Dojima\"; SPEAKER\n",
    "#= \"Kanji Tatsumi\"; SPEAKER = \"Sweetie Belle\";\n",
    "\n",
    "SPEAKER = \"Ryotaro Dojima\"  \n",
    "TALKING_SPEED = 1 \n",
    "STYLES_FOLDER = \".\\\\styles\"\n",
    "SECONDS_SILENCE = 0.75\n",
    "SKIP_VIDEO = []\n",
    "MERGE_VIDEO = True\n",
    "MODEL_14 = False\n",
    "LANGUAGES = ['pt','fr','de','hi','it','ja','es','id']\n",
    "INSERT_BACKGROUND = False\n",
    "SAVE_FOLDER = \"D://Deletar//p_gen\"\n",
    "\n",
    "if MODEL_14:\n",
    "   WIDTH = 512\n",
    "   HEIGHT = 512\n",
    "else:\n",
    "   WIDTH = 768\n",
    "   HEIGHT = 768\n",
    "\n",
    "%store WIDTH\n",
    "%store HEIGHT\n",
    "%store TEXT_IMAGE_GEN\n",
    "%store TEXT_VOICE_GEN\n",
    "%store IMG_NUMBER\n",
    "%store SAVE_FOLDER\n",
    "%store PROJECT_NAME\n",
    "%store SHOW_OUTPUT\n",
    "%store THUMBNAIL\n",
    "%store PROMPT_IMG\n",
    "%store SPEAKER\n",
    "%store TALKING_SPEED\n",
    "%store STYLES_FOLDER\n",
    "%store SECONDS_SILENCE\n",
    "%store EXCLUDE_IMG_GEN\n",
    "%store SKIP_VIDEO\n",
    "%store MERGE_VIDEO\n",
    "%store NEGATIVE_P\n",
    "%store MODEL_14\n",
    "%store LANGUAGES\n",
    "%store GEN_VIDEO\n",
    "%store INSERT_BACKGROUND\n",
    "%store RECORD_AUDIO_AFTER\n",
    "%store RECORD_VIDEO_AFTER\n",
    "%store RECORD_FRAME_INTER_AFTER\n",
    "%store RECORD_FRAME_INTER_HD_AFTER\n",
    "%store IMG_NUMBER_IMG2IMG\n",
    "%store RECORD_FRAME_LIP\n",
    "%store FPS\n",
    "%store STATIC_BG\n",
    "%store LOCATION_STATIC_PNG\n",
    "%store PROJECT_BACKGROUND\n",
    "%store FRAMES_MUSIC\n",
    "\n",
    "if VOICE_GEN_ACTIVATE:\n",
    "    %run ./voice_gen.ipynb\n",
    "   \n",
    "\n",
    "if IMAGE_GEN_ACTIVATE:\n",
    "    %run ./generate_video.ipynb\n",
    "\n",
    "if IMG2IMG_ACTIVATE:\n",
    "   %run ./img2img.ipynb\n",
    "\n",
    "if STYLE_GEN_ACTIVATE:\n",
    "   %run ./style_transfer.ipynb\n",
    "\n",
    "if FRAME_INTER_GEN_ACTIVATE:\n",
    "   %run ./frame_inter.ipynb\n",
    "\n",
    "if VIDEO_HD_GEN_ACTIVATE:\n",
    "   %run ./high_res_video.ipynb\n",
    "\n",
    "if SRT_GEN_ACTIVATE:\n",
    "   %run ./create_srt.ipynb\n",
    "\n",
    "if FIRST_ORDER_ACTIVATE:\n",
    "   # %run ./first_order/first-order-model/demo.py --config first_order/first-order-model/config/vox-256.yaml --driving_video first_order/final.mp4 --source_image first_order/result0.jpg --checkpoint first_order/first-order-model/checkpoint/vox-cpk.pth.tar --relative --adapt_scale\n",
    "   %run ./first_order/first-order-model/first_order.ipynb\n",
    "\n",
    "\n",
    "\n",
    "if GENERATE_FULL_LQ_VIDEO:\n",
    "   # %run ./deforum/run.ipynb --enable_animation_mode --settings\n",
    "   # \"./deforum/runSettings_Template.txt\" --model \"v1-5-pruned-emaonly.ckpt\"\n",
    "   %run ./deforum/run.ipynb\n",
    "\n",
    "if DEFORUM:\n",
    "   #os.chdir('./stable/')\n",
    "   os.chdir('F:/gg/stable/')  \n",
    "   if SHOW_WEB_UI:\n",
    "      %run launch.py --xformers --enable-insecure-extension-access\n",
    "   else:\n",
    "      %run launch.py --xformers --enable-insecure-extension-access --hide_web_ui --skip-python-version-check\n",
    "      %run ./extensions/deforum/scripts/deforum.ipynb\n",
    "      os.chdir('F:/gg/')  \n",
    "      %run ./adjust_video.ipynb\n",
    "   os.chdir('F:/gg/')    \n",
    "   #%run launch.py --share --xformers --enable-insecure-extension-access\n",
    "\n",
    "if IMG_HD_GEN_ACTIVATE:\n",
    "   %run ./highRes.ipynb\n",
    "\n",
    "if MERGE_AUDIO_ACTIVATE:\n",
    "   %run ./merge_audio.ipynb\n",
    "\n",
    "if LIP_SYNC_ACTIVATE:\n",
    "   %run ./lip/lip.ipynb \n",
    "\n",
    "if LIP_SYNC_HD_ACTIVATE:\n",
    "   %run ./lip_hd.ipynb \n",
    "\n",
    "if ALPHA_ACTIVATE:\n",
    "   %run ./get_alpha.ipynb\n",
    "\n",
    "if MERGE_VIDEO_ACTIVATE:\n",
    "   %run ./merge_video.ipynb \n",
    "\n",
    "if DUPLICATE_TEMPLATES_AND_HD_ACTIVATE:\n",
    "   %run ./duplicate_redim.ipynb\n",
    "   \"\"\"    cmd = [\"python\", \"duplicate_redim.py\", \"--exclude-img-gen\", EXCLUDE_IMG_GEN]\n",
    "   p = subprocess.Popen(cmd)\n",
    "   p.wait() \"\"\"\n",
    "   \n",
    "\n",
    "\n"
   ]
  }
 ],
 "metadata": {
  "kernelspec": {
   "display_name": "Pyflow",
   "language": "python",
   "name": "python3"
  },
  "language_info": {
   "codemirror_mode": {
    "name": "ipython",
    "version": 3
   },
   "file_extension": ".py",
   "mimetype": "text/x-python",
   "name": "python",
   "nbconvert_exporter": "python",
   "pygments_lexer": "ipython3",
   "version": "3.9.16"
  },
  "orig_nbformat": 4,
  "vscode": {
   "interpreter": {
    "hash": "6cb0dd519e46c84f14fc2d0d6172fde6407ecb78b6d95b871c78761f2e6e52fb"
   }
  }
 },
 "nbformat": 4,
 "nbformat_minor": 2
}
