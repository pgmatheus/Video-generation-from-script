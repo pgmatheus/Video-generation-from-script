{
 "cells": [
  {
   "cell_type": "code",
   "execution_count": 1,
   "metadata": {},
   "outputs": [
    {
     "name": "stdout",
     "output_type": "stream",
     "text": [
      "Stored 'WIDTH' (int)\n",
      "Stored 'HEIGHT' (int)\n",
      "Stored 'TEXT_IMAGE_GEN' (dict)\n",
      "Stored 'TEXT_VOICE_GEN' (dict)\n",
      "Stored 'IMG_NUMBER' (int)\n",
      "Stored 'SAVE_FOLDER' (str)\n",
      "Stored 'PROJECT_NAME' (str)\n",
      "Stored 'SHOW_OUTPUT' (bool)\n",
      "Stored 'THUMBNAIL' (str)\n",
      "Stored 'PROMPT_IMG' (str)\n",
      "Stored 'SPEAKER' (str)\n",
      "Stored 'TALKING_SPEED' (int)\n",
      "Stored 'STYLES_FOLDER' (str)\n",
      "Stored 'SECONDS_SILENCE' (float)\n",
      "Stored 'EXCLUDE_IMG_GEN' (list)\n",
      "Stored 'SKIP_VIDEO' (list)\n",
      "Stored 'MERGE_VIDEO' (bool)\n",
      "Stored 'NEGATIVE_P' (str)\n",
      "Stored 'MODEL_14' (bool)\n",
      "Stored 'LANGUAGES' (list)\n",
      "Stored 'GEN_VIDEO' (bool)\n",
      "Stored 'INSERT_BACKGROUND' (bool)\n",
      "Stored 'RECORD_AUDIO_AFTER' (int)\n",
      "Stored 'RECORD_VIDEO_AFTER' (int)\n",
      "Stored 'RECORD_FRAME_INTER_AFTER' (int)\n",
      "Stored 'RECORD_FRAME_INTER_HD_AFTER' (int)\n",
      "Stored 'IMG_NUMBER_IMG2IMG' (int)\n",
      "Stored 'RECORD_FRAME_LIP' (int)\n",
      "Stored 'FPS' (int)\n",
      "Python 3.9.16 (main, Jan 11 2023, 16:16:36) [MSC v.1916 64 bit (AMD64)]\n",
      "Commit hash: a7c840fc90898497468941571c27f4d27ef334de\n"
     ]
    },
    {
     "name": "stderr",
     "output_type": "stream",
     "text": [
      "==============================================================================================================\n",
      "INCOMPATIBLE PYTHON VERSION\n",
      "\n",
      "This program is tested with 3.10.6 Python, but you have 3.9.16.\n",
      "If you encounter an error with \"RuntimeError: Couldn't install torch.\" message,\n",
      "or any other error regarding unsuccessful package (library) installation,\n",
      "please downgrade (or upgrade) to the latest version of 3.10 Python\n",
      "and delete current Python and \"venv\" folder in WebUI's directory.\n",
      "\n",
      "You can download 3.10 Python from here: https://www.python.org/downloads/release/python-3109/\n",
      "\n",
      "Alternatively, use a binary release of WebUI: https://github.com/AUTOMATIC1111/stable-diffusion-webui/releases\n",
      "\n",
      "Use --skip-python-version-check to suppress this warning.\n",
      "==============================================================================================================\n"
     ]
    },
    {
     "name": "stdout",
     "output_type": "stream",
     "text": [
      "Installing requirements for Web UI\n",
      "\n",
      "\n",
      "Launching Web UI with arguments: --share --xformers --enable-insecure-extension-access --hide_web_ui\n",
      "\u001b[33mFailed to import controlnet! The exact error is cannot import name 'controlnet' from 'scripts' (f:\\gg\\scripts\\__init__.py). Deforum support for ControlNet will not be activated\u001b[0m\n",
      "Loading weights [6ce0161689] from F:\\gg\\stable\\models\\Stable-diffusion\\v1-5-pruned-emaonly.safetensors\n"
     ]
    },
    {
     "name": "stderr",
     "output_type": "stream",
     "text": [
      "Error loading script: api.py\n",
      "Traceback (most recent call last):\n",
      "  File \"F:\\gg\\stable\\modules\\scripts.py\", line 229, in load_scripts\n",
      "    script_module = script_loading.load_module(scriptfile.path)\n",
      "  File \"F:\\gg\\stable\\modules\\script_loading.py\", line 11, in load_module\n",
      "    module_spec.loader.exec_module(module)\n",
      "  File \"<frozen importlib._bootstrap_external>\", line 850, in exec_module\n",
      "  File \"<frozen importlib._bootstrap>\", line 228, in _call_with_frames_removed\n",
      "  File \"F:\\gg\\stable\\extensions\\sd-webui-controlnet\\scripts\\api.py\", line 18, in <module>\n",
      "    from scripts.controlnet import update_cn_models, cn_models_names\n",
      "ModuleNotFoundError: No module named 'scripts.controlnet'\n",
      "\n",
      "Error loading script: controlnet.py\n",
      "Traceback (most recent call last):\n",
      "  File \"F:\\gg\\stable\\modules\\scripts.py\", line 229, in load_scripts\n",
      "    script_module = script_loading.load_module(scriptfile.path)\n",
      "  File \"F:\\gg\\stable\\modules\\script_loading.py\", line 11, in load_module\n",
      "    module_spec.loader.exec_module(module)\n",
      "  File \"<frozen importlib._bootstrap_external>\", line 850, in exec_module\n",
      "  File \"<frozen importlib._bootstrap>\", line 228, in _call_with_frames_removed\n",
      "  File \"F:\\gg\\stable\\extensions\\sd-webui-controlnet\\scripts\\controlnet.py\", line 14, in <module>\n",
      "    from scripts.cldm import PlugableControlModel\n",
      "ModuleNotFoundError: No module named 'scripts.cldm'\n",
      "\n"
     ]
    },
    {
     "name": "stdout",
     "output_type": "stream",
     "text": [
      "Creating model from config: F:\\gg\\stable\\configs\\v1-inference.yaml\n",
      "LatentDiffusion: Running in eps-prediction mode\n",
      "DiffusionWrapper has 859.52 M params.\n",
      "Applying xformers cross attention optimization.\n",
      "Textual inversion embeddings loaded(0): \n",
      "Model loaded in 14.0s (load weights from disk: 0.2s, create model: 0.5s, apply weights to model: 10.1s, apply half(): 0.7s, move model to device: 1.0s, load textual inversion embeddings: 1.5s).\n",
      "text: Detective John Mitchell was a seasoned veteran of the police force, with over twenty years of experience under his belt.\n",
      "prompt: detective john mitchell, twenty years, seasoned veteran, police force, experience, belt\n",
      "index: 0\n",
      "Saving animation frames to:\n",
      "D://Deletar//p_gen//john test\\img\\0000000\n",
      "verify\n",
      "F:\\stable\\stable\\models/Deforum\n",
      "verify2\n",
      "True\n",
      "init\n",
      "<deforum_helpers.depth.DepthModel object at 0x00000259930D2A90>\n",
      "ending\n",
      "Loading base model ()...Done.\n",
      "Removing last two layers (global_pool & classifier).\n",
      "Building Encoder-Decoder model..Done.\n",
      "\u001b[36mAnimation frame: \u001b[0m0/120  \n",
      "\u001b[32mSeed: \u001b[0m-1\n",
      "\u001b[35mPrompt: \u001b[0mdetective john mitchell, twenty years, seasoned veteran, police force, experience, belt, beautiful picture, cinematic, high detailed, photorealistic\n",
      "\u001b[91mNeg Prompt: \u001b[0m(text), (deformed iris, deformed pupils, semi-realistic, cgi, 3d, render, sketch, cartoon, drawing, anime:1.4), close up, cropped, out of frame, worst quality, low quality, jpeg artifacts, ugly, duplicate, morbid, mutilated, extra fingers, mutated hands, poorly drawn hands, poorly drawn face, mutation, deformed, blurry, dehydrated, bad anatomy, bad proportions, extra limbs, cloned face, disfigured, gross proportions, malformed limbs, missing arms, missing legs, extra arms, extra legs, fused fingers, too many fingers, long neck\n"
     ]
    },
    {
     "data": {
      "text/html": [
       "<pre style=\"white-space:pre;overflow-x:auto;line-height:normal;font-family:Menlo,'DejaVu Sans Mono',consolas,'Courier New',monospace\">╭────┬────┬────┬────┬────┬────╮\n",
       "│<span style=\"font-weight: bold\">Tr X</span>│<span style=\"font-weight: bold\">Tr Y</span>│<span style=\"font-weight: bold\">Tr Z</span>│<span style=\"font-weight: bold\">Ro X</span>│<span style=\"font-weight: bold\">Ro Y</span>│<span style=\"font-weight: bold\">Ro Z</span>│\n",
       "├────┼────┼────┼────┼────┼────┤\n",
       "│0.0 │0.0 │0.0 │0.0 │0.0 │0.0 │\n",
       "╰────┴────┴────┴────┴────┴────╯\n",
       "</pre>\n"
      ],
      "text/plain": [
       "╭────┬────┬────┬────┬────┬────╮\n",
       "│\u001b[1mTr X\u001b[0m│\u001b[1mTr Y\u001b[0m│\u001b[1mTr Z\u001b[0m│\u001b[1mRo X\u001b[0m│\u001b[1mRo Y\u001b[0m│\u001b[1mRo Z\u001b[0m│\n",
       "├────┼────┼────┼────┼────┼────┤\n",
       "│0.0 │0.0 │0.0 │0.0 │0.0 │0.0 │\n",
       "╰────┴────┴────┴────┴────┴────╯\n"
      ]
     },
     "metadata": {},
     "output_type": "display_data"
    },
    {
     "name": "stdout",
     "output_type": "stream",
     "text": [
      "\n",
      "No init image, but strength > 0. Strength has been auto set to 0, since use_init is False.\n",
      "If you want to force strength > 0 with no init, please set strength_0_no_init to False.\n",
      "\n",
      "Not using an init image (doing pure txt2img)\n"
     ]
    },
    {
     "data": {
      "text/html": [
       "<pre style=\"white-space:pre;overflow-x:auto;line-height:normal;font-family:Menlo,'DejaVu Sans Mono',consolas,'Courier New',monospace\">╭─────┬───┬───────╮\n",
       "│<span style=\"font-weight: bold\">Steps</span>│<span style=\"font-weight: bold\">CFG</span>│<span style=\"font-weight: bold\">Denoise</span>│\n",
       "├─────┼───┼───────┤\n",
       "│ 25  │7.0│ None  │\n",
       "╰─────┴───┴───────╯\n",
       "</pre>\n"
      ],
      "text/plain": [
       "╭─────┬───┬───────╮\n",
       "│\u001b[1mSteps\u001b[0m│\u001b[1mCFG\u001b[0m│\u001b[1mDenoise\u001b[0m│\n",
       "├─────┼───┼───────┤\n",
       "│ 25  │7.0│ None  │\n",
       "╰─────┴───┴───────╯\n"
      ]
     },
     "metadata": {},
     "output_type": "display_data"
    },
    {
     "data": {
      "application/vnd.jupyter.widget-view+json": {
       "model_id": "0aba38a60c2b4a18bad75a17a2d77bb6",
       "version_major": 2,
       "version_minor": 0
      },
      "text/plain": [
       "  0%|          | 0/25 [00:00<?, ?it/s]"
      ]
     },
     "metadata": {},
     "output_type": "display_data"
    },
    {
     "name": "stdout",
     "output_type": "stream",
     "text": [
      "\u001b[36mAnimation frame: \u001b[0m8/120  \n",
      " Creating in-between frame: 0; tween:0.12;\n",
      " Creating in-between frame: 1; tween:0.25;\n",
      " Creating in-between frame: 2; tween:0.38;\n",
      " Creating in-between frame: 3; tween:0.50;\n",
      " Creating in-between frame: 4; tween:0.62;\n",
      " Creating in-between frame: 5; tween:0.75;\n",
      " Creating in-between frame: 6; tween:0.88;\n",
      " Creating in-between frame: 7; tween:1.00;\n",
      "\u001b[32mSeed: \u001b[0m0\n",
      "\u001b[35mPrompt: \u001b[0mdetective john mitchell, twenty years, seasoned veteran, police force, experience, belt, beautiful picture, cinematic, high detailed, photorealistic\n",
      "\u001b[91mNeg Prompt: \u001b[0m(text), (deformed iris, deformed pupils, semi-realistic, cgi, 3d, render, sketch, cartoon, drawing, anime:1.4), close up, cropped, out of frame, worst quality, low quality, jpeg artifacts, ugly, duplicate, morbid, mutilated, extra fingers, mutated hands, poorly drawn hands, poorly drawn face, mutation, deformed, blurry, dehydrated, bad anatomy, bad proportions, extra limbs, cloned face, disfigured, gross proportions, malformed limbs, missing arms, missing legs, extra arms, extra legs, fused fingers, too many fingers, long neck\n"
     ]
    },
    {
     "data": {
      "text/html": [
       "<pre style=\"white-space:pre;overflow-x:auto;line-height:normal;font-family:Menlo,'DejaVu Sans Mono',consolas,'Courier New',monospace\">╭────┬────┬────┬────┬────┬────╮\n",
       "│<span style=\"font-weight: bold\">Tr X</span>│<span style=\"font-weight: bold\">Tr Y</span>│<span style=\"font-weight: bold\">Tr Z</span>│<span style=\"font-weight: bold\">Ro X</span>│<span style=\"font-weight: bold\">Ro Y</span>│<span style=\"font-weight: bold\">Ro Z</span>│\n",
       "├────┼────┼────┼────┼────┼────┤\n",
       "│0.0 │0.0 │0.0 │0.0 │0.0 │0.0 │\n",
       "╰────┴────┴────┴────┴────┴────╯\n",
       "</pre>\n"
      ],
      "text/plain": [
       "╭────┬────┬────┬────┬────┬────╮\n",
       "│\u001b[1mTr X\u001b[0m│\u001b[1mTr Y\u001b[0m│\u001b[1mTr Z\u001b[0m│\u001b[1mRo X\u001b[0m│\u001b[1mRo Y\u001b[0m│\u001b[1mRo Z\u001b[0m│\n",
       "├────┼────┼────┼────┼────┼────┤\n",
       "│0.0 │0.0 │0.0 │0.0 │0.0 │0.0 │\n",
       "╰────┴────┴────┴────┴────┴────╯\n"
      ]
     },
     "metadata": {},
     "output_type": "display_data"
    },
    {
     "data": {
      "text/html": [
       "<pre style=\"white-space:pre;overflow-x:auto;line-height:normal;font-family:Menlo,'DejaVu Sans Mono',consolas,'Courier New',monospace\">╭─────┬───┬───────╮\n",
       "│<span style=\"font-weight: bold\">Steps</span>│<span style=\"font-weight: bold\">CFG</span>│<span style=\"font-weight: bold\">Denoise</span>│\n",
       "├─────┼───┼───────┤\n",
       "│ 25  │7.0│ 0.25  │\n",
       "╰─────┴───┴───────╯\n",
       "</pre>\n"
      ],
      "text/plain": [
       "╭─────┬───┬───────╮\n",
       "│\u001b[1mSteps\u001b[0m│\u001b[1mCFG\u001b[0m│\u001b[1mDenoise\u001b[0m│\n",
       "├─────┼───┼───────┤\n",
       "│ 25  │7.0│ 0.25  │\n",
       "╰─────┴───┴───────╯\n"
      ]
     },
     "metadata": {},
     "output_type": "display_data"
    },
    {
     "name": "stderr",
     "output_type": "stream",
     "text": [
      "2023-03-07 09:16:33,168 - root - INFO - Calibrating color correction.\n"
     ]
    },
    {
     "data": {
      "application/vnd.jupyter.widget-view+json": {
       "model_id": "7c82ca483f0945789451689770b86a12",
       "version_major": 2,
       "version_minor": 0
      },
      "text/plain": [
       "  0%|          | 0/7 [00:00<?, ?it/s]"
      ]
     },
     "metadata": {},
     "output_type": "display_data"
    },
    {
     "name": "stdout",
     "output_type": "stream",
     "text": []
    },
    {
     "name": "stderr",
     "output_type": "stream",
     "text": [
      "2023-03-07 09:16:36,103 - root - INFO - Applying color correction.\n"
     ]
    },
    {
     "name": "stdout",
     "output_type": "stream",
     "text": [
      "\u001b[36mAnimation frame: \u001b[0m16/120  \n",
      " Creating in-between frame: 8; tween:0.12;\n",
      " Creating in-between frame: 9; tween:0.25;\n",
      " Creating in-between frame: 10; tween:0.38;\n",
      " Creating in-between frame: 11; tween:0.50;\n",
      " Creating in-between frame: 12; tween:0.62;\n",
      " Creating in-between frame: 13; tween:0.75;\n",
      " Creating in-between frame: 14; tween:0.88;\n",
      " Creating in-between frame: 15; tween:1.00;\n",
      "\u001b[32mSeed: \u001b[0m1\n",
      "\u001b[35mPrompt: \u001b[0mdetective john mitchell, twenty years, seasoned veteran, police force, experience, belt, beautiful picture, cinematic, high detailed, photorealistic\n",
      "\u001b[91mNeg Prompt: \u001b[0m(text), (deformed iris, deformed pupils, semi-realistic, cgi, 3d, render, sketch, cartoon, drawing, anime:1.4), close up, cropped, out of frame, worst quality, low quality, jpeg artifacts, ugly, duplicate, morbid, mutilated, extra fingers, mutated hands, poorly drawn hands, poorly drawn face, mutation, deformed, blurry, dehydrated, bad anatomy, bad proportions, extra limbs, cloned face, disfigured, gross proportions, malformed limbs, missing arms, missing legs, extra arms, extra legs, fused fingers, too many fingers, long neck\n"
     ]
    },
    {
     "data": {
      "text/html": [
       "<pre style=\"white-space:pre;overflow-x:auto;line-height:normal;font-family:Menlo,'DejaVu Sans Mono',consolas,'Courier New',monospace\">╭────┬────┬────┬────┬────┬────╮\n",
       "│<span style=\"font-weight: bold\">Tr X</span>│<span style=\"font-weight: bold\">Tr Y</span>│<span style=\"font-weight: bold\">Tr Z</span>│<span style=\"font-weight: bold\">Ro X</span>│<span style=\"font-weight: bold\">Ro Y</span>│<span style=\"font-weight: bold\">Ro Z</span>│\n",
       "├────┼────┼────┼────┼────┼────┤\n",
       "│0.0 │0.0 │0.0 │0.0 │0.0 │0.0 │\n",
       "╰────┴────┴────┴────┴────┴────╯\n",
       "</pre>\n"
      ],
      "text/plain": [
       "╭────┬────┬────┬────┬────┬────╮\n",
       "│\u001b[1mTr X\u001b[0m│\u001b[1mTr Y\u001b[0m│\u001b[1mTr Z\u001b[0m│\u001b[1mRo X\u001b[0m│\u001b[1mRo Y\u001b[0m│\u001b[1mRo Z\u001b[0m│\n",
       "├────┼────┼────┼────┼────┼────┤\n",
       "│0.0 │0.0 │0.0 │0.0 │0.0 │0.0 │\n",
       "╰────┴────┴────┴────┴────┴────╯\n"
      ]
     },
     "metadata": {},
     "output_type": "display_data"
    },
    {
     "data": {
      "text/html": [
       "<pre style=\"white-space:pre;overflow-x:auto;line-height:normal;font-family:Menlo,'DejaVu Sans Mono',consolas,'Courier New',monospace\">╭─────┬───┬───────╮\n",
       "│<span style=\"font-weight: bold\">Steps</span>│<span style=\"font-weight: bold\">CFG</span>│<span style=\"font-weight: bold\">Denoise</span>│\n",
       "├─────┼───┼───────┤\n",
       "│ 25  │7.0│ 0.25  │\n",
       "╰─────┴───┴───────╯\n",
       "</pre>\n"
      ],
      "text/plain": [
       "╭─────┬───┬───────╮\n",
       "│\u001b[1mSteps\u001b[0m│\u001b[1mCFG\u001b[0m│\u001b[1mDenoise\u001b[0m│\n",
       "├─────┼───┼───────┤\n",
       "│ 25  │7.0│ 0.25  │\n",
       "╰─────┴───┴───────╯\n"
      ]
     },
     "metadata": {},
     "output_type": "display_data"
    },
    {
     "name": "stderr",
     "output_type": "stream",
     "text": [
      "2023-03-07 09:16:39,985 - root - INFO - Calibrating color correction.\n"
     ]
    },
    {
     "data": {
      "application/vnd.jupyter.widget-view+json": {
       "model_id": "b9c09e482e7848d9b2657096fd71fbf4",
       "version_major": 2,
       "version_minor": 0
      },
      "text/plain": [
       "  0%|          | 0/7 [00:00<?, ?it/s]"
      ]
     },
     "metadata": {},
     "output_type": "display_data"
    },
    {
     "name": "stdout",
     "output_type": "stream",
     "text": []
    },
    {
     "name": "stderr",
     "output_type": "stream",
     "text": [
      "2023-03-07 09:16:42,861 - root - INFO - Applying color correction.\n"
     ]
    },
    {
     "name": "stdout",
     "output_type": "stream",
     "text": [
      "\u001b[36mAnimation frame: \u001b[0m24/120  \n",
      " Creating in-between frame: 16; tween:0.12;\n",
      " Creating in-between frame: 17; tween:0.25;\n",
      " Creating in-between frame: 18; tween:0.38;\n",
      " Creating in-between frame: 19; tween:0.50;\n",
      " Creating in-between frame: 20; tween:0.62;\n",
      " Creating in-between frame: 21; tween:0.75;\n",
      " Creating in-between frame: 22; tween:0.88;\n",
      " Creating in-between frame: 23; tween:1.00;\n",
      "\u001b[32mSeed: \u001b[0m2\n",
      "\u001b[35mPrompt: \u001b[0mdetective john mitchell, twenty years, seasoned veteran, police force, experience, belt, beautiful picture, cinematic, high detailed, photorealistic\n",
      "\u001b[91mNeg Prompt: \u001b[0m(text), (deformed iris, deformed pupils, semi-realistic, cgi, 3d, render, sketch, cartoon, drawing, anime:1.4), close up, cropped, out of frame, worst quality, low quality, jpeg artifacts, ugly, duplicate, morbid, mutilated, extra fingers, mutated hands, poorly drawn hands, poorly drawn face, mutation, deformed, blurry, dehydrated, bad anatomy, bad proportions, extra limbs, cloned face, disfigured, gross proportions, malformed limbs, missing arms, missing legs, extra arms, extra legs, fused fingers, too many fingers, long neck\n"
     ]
    },
    {
     "data": {
      "text/html": [
       "<pre style=\"white-space:pre;overflow-x:auto;line-height:normal;font-family:Menlo,'DejaVu Sans Mono',consolas,'Courier New',monospace\">╭────┬────┬────┬────┬────┬────╮\n",
       "│<span style=\"font-weight: bold\">Tr X</span>│<span style=\"font-weight: bold\">Tr Y</span>│<span style=\"font-weight: bold\">Tr Z</span>│<span style=\"font-weight: bold\">Ro X</span>│<span style=\"font-weight: bold\">Ro Y</span>│<span style=\"font-weight: bold\">Ro Z</span>│\n",
       "├────┼────┼────┼────┼────┼────┤\n",
       "│0.0 │0.0 │0.0 │0.0 │0.0 │0.0 │\n",
       "╰────┴────┴────┴────┴────┴────╯\n",
       "</pre>\n"
      ],
      "text/plain": [
       "╭────┬────┬────┬────┬────┬────╮\n",
       "│\u001b[1mTr X\u001b[0m│\u001b[1mTr Y\u001b[0m│\u001b[1mTr Z\u001b[0m│\u001b[1mRo X\u001b[0m│\u001b[1mRo Y\u001b[0m│\u001b[1mRo Z\u001b[0m│\n",
       "├────┼────┼────┼────┼────┼────┤\n",
       "│0.0 │0.0 │0.0 │0.0 │0.0 │0.0 │\n",
       "╰────┴────┴────┴────┴────┴────╯\n"
      ]
     },
     "metadata": {},
     "output_type": "display_data"
    },
    {
     "data": {
      "text/html": [
       "<pre style=\"white-space:pre;overflow-x:auto;line-height:normal;font-family:Menlo,'DejaVu Sans Mono',consolas,'Courier New',monospace\">╭─────┬───┬───────╮\n",
       "│<span style=\"font-weight: bold\">Steps</span>│<span style=\"font-weight: bold\">CFG</span>│<span style=\"font-weight: bold\">Denoise</span>│\n",
       "├─────┼───┼───────┤\n",
       "│ 25  │7.0│ 0.25  │\n",
       "╰─────┴───┴───────╯\n",
       "</pre>\n"
      ],
      "text/plain": [
       "╭─────┬───┬───────╮\n",
       "│\u001b[1mSteps\u001b[0m│\u001b[1mCFG\u001b[0m│\u001b[1mDenoise\u001b[0m│\n",
       "├─────┼───┼───────┤\n",
       "│ 25  │7.0│ 0.25  │\n",
       "╰─────┴───┴───────╯\n"
      ]
     },
     "metadata": {},
     "output_type": "display_data"
    },
    {
     "name": "stderr",
     "output_type": "stream",
     "text": [
      "2023-03-07 09:16:46,717 - root - INFO - Calibrating color correction.\n"
     ]
    },
    {
     "data": {
      "application/vnd.jupyter.widget-view+json": {
       "model_id": "a8ad856fddd2456bae2d0b2c728a11a9",
       "version_major": 2,
       "version_minor": 0
      },
      "text/plain": [
       "  0%|          | 0/7 [00:00<?, ?it/s]"
      ]
     },
     "metadata": {},
     "output_type": "display_data"
    },
    {
     "name": "stdout",
     "output_type": "stream",
     "text": []
    },
    {
     "name": "stderr",
     "output_type": "stream",
     "text": [
      "2023-03-07 09:16:49,476 - root - INFO - Applying color correction.\n"
     ]
    },
    {
     "name": "stdout",
     "output_type": "stream",
     "text": [
      "\u001b[36mAnimation frame: \u001b[0m32/120  \n",
      " Creating in-between frame: 24; tween:0.12;\n",
      " Creating in-between frame: 25; tween:0.25;\n",
      " Creating in-between frame: 26; tween:0.38;\n",
      " Creating in-between frame: 27; tween:0.50;\n",
      " Creating in-between frame: 28; tween:0.62;\n",
      " Creating in-between frame: 29; tween:0.75;\n",
      " Creating in-between frame: 30; tween:0.88;\n",
      " Creating in-between frame: 31; tween:1.00;\n",
      "\u001b[32mSeed: \u001b[0m3\n",
      "\u001b[35mPrompt: \u001b[0mdetective john mitchell, twenty years, seasoned veteran, police force, experience, belt, beautiful picture, cinematic, high detailed, photorealistic\n",
      "\u001b[91mNeg Prompt: \u001b[0m(text), (deformed iris, deformed pupils, semi-realistic, cgi, 3d, render, sketch, cartoon, drawing, anime:1.4), close up, cropped, out of frame, worst quality, low quality, jpeg artifacts, ugly, duplicate, morbid, mutilated, extra fingers, mutated hands, poorly drawn hands, poorly drawn face, mutation, deformed, blurry, dehydrated, bad anatomy, bad proportions, extra limbs, cloned face, disfigured, gross proportions, malformed limbs, missing arms, missing legs, extra arms, extra legs, fused fingers, too many fingers, long neck\n"
     ]
    },
    {
     "data": {
      "text/html": [
       "<pre style=\"white-space:pre;overflow-x:auto;line-height:normal;font-family:Menlo,'DejaVu Sans Mono',consolas,'Courier New',monospace\">╭────┬────┬────┬────┬────┬────╮\n",
       "│<span style=\"font-weight: bold\">Tr X</span>│<span style=\"font-weight: bold\">Tr Y</span>│<span style=\"font-weight: bold\">Tr Z</span>│<span style=\"font-weight: bold\">Ro X</span>│<span style=\"font-weight: bold\">Ro Y</span>│<span style=\"font-weight: bold\">Ro Z</span>│\n",
       "├────┼────┼────┼────┼────┼────┤\n",
       "│0.0 │0.0 │0.0 │0.0 │0.0 │0.0 │\n",
       "╰────┴────┴────┴────┴────┴────╯\n",
       "</pre>\n"
      ],
      "text/plain": [
       "╭────┬────┬────┬────┬────┬────╮\n",
       "│\u001b[1mTr X\u001b[0m│\u001b[1mTr Y\u001b[0m│\u001b[1mTr Z\u001b[0m│\u001b[1mRo X\u001b[0m│\u001b[1mRo Y\u001b[0m│\u001b[1mRo Z\u001b[0m│\n",
       "├────┼────┼────┼────┼────┼────┤\n",
       "│0.0 │0.0 │0.0 │0.0 │0.0 │0.0 │\n",
       "╰────┴────┴────┴────┴────┴────╯\n"
      ]
     },
     "metadata": {},
     "output_type": "display_data"
    },
    {
     "data": {
      "text/html": [
       "<pre style=\"white-space:pre;overflow-x:auto;line-height:normal;font-family:Menlo,'DejaVu Sans Mono',consolas,'Courier New',monospace\">╭─────┬───┬───────╮\n",
       "│<span style=\"font-weight: bold\">Steps</span>│<span style=\"font-weight: bold\">CFG</span>│<span style=\"font-weight: bold\">Denoise</span>│\n",
       "├─────┼───┼───────┤\n",
       "│ 25  │7.0│ 0.25  │\n",
       "╰─────┴───┴───────╯\n",
       "</pre>\n"
      ],
      "text/plain": [
       "╭─────┬───┬───────╮\n",
       "│\u001b[1mSteps\u001b[0m│\u001b[1mCFG\u001b[0m│\u001b[1mDenoise\u001b[0m│\n",
       "├─────┼───┼───────┤\n",
       "│ 25  │7.0│ 0.25  │\n",
       "╰─────┴───┴───────╯\n"
      ]
     },
     "metadata": {},
     "output_type": "display_data"
    },
    {
     "name": "stderr",
     "output_type": "stream",
     "text": [
      "2023-03-07 09:16:53,492 - root - INFO - Calibrating color correction.\n"
     ]
    },
    {
     "data": {
      "application/vnd.jupyter.widget-view+json": {
       "model_id": "3a4065f291254d78a06b633a9d7357c8",
       "version_major": 2,
       "version_minor": 0
      },
      "text/plain": [
       "  0%|          | 0/7 [00:00<?, ?it/s]"
      ]
     },
     "metadata": {},
     "output_type": "display_data"
    },
    {
     "name": "stdout",
     "output_type": "stream",
     "text": []
    },
    {
     "name": "stderr",
     "output_type": "stream",
     "text": [
      "2023-03-07 09:16:56,203 - root - INFO - Applying color correction.\n"
     ]
    },
    {
     "name": "stdout",
     "output_type": "stream",
     "text": [
      "\u001b[36mAnimation frame: \u001b[0m40/120  \n",
      " Creating in-between frame: 32; tween:0.12;\n",
      " Creating in-between frame: 33; tween:0.25;\n",
      " Creating in-between frame: 34; tween:0.38;\n",
      " Creating in-between frame: 35; tween:0.50;\n",
      " Creating in-between frame: 36; tween:0.62;\n",
      " Creating in-between frame: 37; tween:0.75;\n",
      " Creating in-between frame: 38; tween:0.88;\n",
      " Creating in-between frame: 39; tween:1.00;\n",
      "\u001b[32mSeed: \u001b[0m4\n",
      "\u001b[35mPrompt: \u001b[0mdetective john mitchell, twenty years, seasoned veteran, police force, experience, belt, beautiful picture, cinematic, high detailed, photorealistic\n",
      "\u001b[91mNeg Prompt: \u001b[0m(text), (deformed iris, deformed pupils, semi-realistic, cgi, 3d, render, sketch, cartoon, drawing, anime:1.4), close up, cropped, out of frame, worst quality, low quality, jpeg artifacts, ugly, duplicate, morbid, mutilated, extra fingers, mutated hands, poorly drawn hands, poorly drawn face, mutation, deformed, blurry, dehydrated, bad anatomy, bad proportions, extra limbs, cloned face, disfigured, gross proportions, malformed limbs, missing arms, missing legs, extra arms, extra legs, fused fingers, too many fingers, long neck\n"
     ]
    },
    {
     "data": {
      "text/html": [
       "<pre style=\"white-space:pre;overflow-x:auto;line-height:normal;font-family:Menlo,'DejaVu Sans Mono',consolas,'Courier New',monospace\">╭────┬────┬────┬────┬────┬────╮\n",
       "│<span style=\"font-weight: bold\">Tr X</span>│<span style=\"font-weight: bold\">Tr Y</span>│<span style=\"font-weight: bold\">Tr Z</span>│<span style=\"font-weight: bold\">Ro X</span>│<span style=\"font-weight: bold\">Ro Y</span>│<span style=\"font-weight: bold\">Ro Z</span>│\n",
       "├────┼────┼────┼────┼────┼────┤\n",
       "│0.0 │0.0 │0.0 │0.0 │0.0 │0.0 │\n",
       "╰────┴────┴────┴────┴────┴────╯\n",
       "</pre>\n"
      ],
      "text/plain": [
       "╭────┬────┬────┬────┬────┬────╮\n",
       "│\u001b[1mTr X\u001b[0m│\u001b[1mTr Y\u001b[0m│\u001b[1mTr Z\u001b[0m│\u001b[1mRo X\u001b[0m│\u001b[1mRo Y\u001b[0m│\u001b[1mRo Z\u001b[0m│\n",
       "├────┼────┼────┼────┼────┼────┤\n",
       "│0.0 │0.0 │0.0 │0.0 │0.0 │0.0 │\n",
       "╰────┴────┴────┴────┴────┴────╯\n"
      ]
     },
     "metadata": {},
     "output_type": "display_data"
    },
    {
     "data": {
      "text/html": [
       "<pre style=\"white-space:pre;overflow-x:auto;line-height:normal;font-family:Menlo,'DejaVu Sans Mono',consolas,'Courier New',monospace\">╭─────┬───┬───────╮\n",
       "│<span style=\"font-weight: bold\">Steps</span>│<span style=\"font-weight: bold\">CFG</span>│<span style=\"font-weight: bold\">Denoise</span>│\n",
       "├─────┼───┼───────┤\n",
       "│ 25  │7.0│ 0.25  │\n",
       "╰─────┴───┴───────╯\n",
       "</pre>\n"
      ],
      "text/plain": [
       "╭─────┬───┬───────╮\n",
       "│\u001b[1mSteps\u001b[0m│\u001b[1mCFG\u001b[0m│\u001b[1mDenoise\u001b[0m│\n",
       "├─────┼───┼───────┤\n",
       "│ 25  │7.0│ 0.25  │\n",
       "╰─────┴───┴───────╯\n"
      ]
     },
     "metadata": {},
     "output_type": "display_data"
    },
    {
     "name": "stderr",
     "output_type": "stream",
     "text": [
      "2023-03-07 09:17:00,116 - root - INFO - Calibrating color correction.\n"
     ]
    },
    {
     "data": {
      "application/vnd.jupyter.widget-view+json": {
       "model_id": "aba5b3ac26a942b28d87e17d003d1183",
       "version_major": 2,
       "version_minor": 0
      },
      "text/plain": [
       "  0%|          | 0/7 [00:00<?, ?it/s]"
      ]
     },
     "metadata": {},
     "output_type": "display_data"
    },
    {
     "name": "stdout",
     "output_type": "stream",
     "text": []
    },
    {
     "name": "stderr",
     "output_type": "stream",
     "text": [
      "2023-03-07 09:17:02,962 - root - INFO - Applying color correction.\n"
     ]
    },
    {
     "name": "stdout",
     "output_type": "stream",
     "text": [
      "\u001b[36mAnimation frame: \u001b[0m48/120  \n",
      " Creating in-between frame: 40; tween:0.12;\n",
      " Creating in-between frame: 41; tween:0.25;\n",
      " Creating in-between frame: 42; tween:0.38;\n",
      " Creating in-between frame: 43; tween:0.50;\n",
      " Creating in-between frame: 44; tween:0.62;\n",
      " Creating in-between frame: 45; tween:0.75;\n",
      " Creating in-between frame: 46; tween:0.88;\n",
      " Creating in-between frame: 47; tween:1.00;\n",
      "\u001b[32mSeed: \u001b[0m5\n",
      "\u001b[35mPrompt: \u001b[0mdetective john mitchell, twenty years, seasoned veteran, police force, experience, belt, beautiful picture, cinematic, high detailed, photorealistic\n",
      "\u001b[91mNeg Prompt: \u001b[0m(text), (deformed iris, deformed pupils, semi-realistic, cgi, 3d, render, sketch, cartoon, drawing, anime:1.4), close up, cropped, out of frame, worst quality, low quality, jpeg artifacts, ugly, duplicate, morbid, mutilated, extra fingers, mutated hands, poorly drawn hands, poorly drawn face, mutation, deformed, blurry, dehydrated, bad anatomy, bad proportions, extra limbs, cloned face, disfigured, gross proportions, malformed limbs, missing arms, missing legs, extra arms, extra legs, fused fingers, too many fingers, long neck\n"
     ]
    },
    {
     "data": {
      "text/html": [
       "<pre style=\"white-space:pre;overflow-x:auto;line-height:normal;font-family:Menlo,'DejaVu Sans Mono',consolas,'Courier New',monospace\">╭────┬────┬────┬────┬────┬────╮\n",
       "│<span style=\"font-weight: bold\">Tr X</span>│<span style=\"font-weight: bold\">Tr Y</span>│<span style=\"font-weight: bold\">Tr Z</span>│<span style=\"font-weight: bold\">Ro X</span>│<span style=\"font-weight: bold\">Ro Y</span>│<span style=\"font-weight: bold\">Ro Z</span>│\n",
       "├────┼────┼────┼────┼────┼────┤\n",
       "│0.0 │0.0 │0.0 │0.0 │0.0 │0.0 │\n",
       "╰────┴────┴────┴────┴────┴────╯\n",
       "</pre>\n"
      ],
      "text/plain": [
       "╭────┬────┬────┬────┬────┬────╮\n",
       "│\u001b[1mTr X\u001b[0m│\u001b[1mTr Y\u001b[0m│\u001b[1mTr Z\u001b[0m│\u001b[1mRo X\u001b[0m│\u001b[1mRo Y\u001b[0m│\u001b[1mRo Z\u001b[0m│\n",
       "├────┼────┼────┼────┼────┼────┤\n",
       "│0.0 │0.0 │0.0 │0.0 │0.0 │0.0 │\n",
       "╰────┴────┴────┴────┴────┴────╯\n"
      ]
     },
     "metadata": {},
     "output_type": "display_data"
    },
    {
     "data": {
      "text/html": [
       "<pre style=\"white-space:pre;overflow-x:auto;line-height:normal;font-family:Menlo,'DejaVu Sans Mono',consolas,'Courier New',monospace\">╭─────┬───┬───────╮\n",
       "│<span style=\"font-weight: bold\">Steps</span>│<span style=\"font-weight: bold\">CFG</span>│<span style=\"font-weight: bold\">Denoise</span>│\n",
       "├─────┼───┼───────┤\n",
       "│ 25  │7.0│ 0.25  │\n",
       "╰─────┴───┴───────╯\n",
       "</pre>\n"
      ],
      "text/plain": [
       "╭─────┬───┬───────╮\n",
       "│\u001b[1mSteps\u001b[0m│\u001b[1mCFG\u001b[0m│\u001b[1mDenoise\u001b[0m│\n",
       "├─────┼───┼───────┤\n",
       "│ 25  │7.0│ 0.25  │\n",
       "╰─────┴───┴───────╯\n"
      ]
     },
     "metadata": {},
     "output_type": "display_data"
    },
    {
     "name": "stderr",
     "output_type": "stream",
     "text": [
      "2023-03-07 09:17:06,785 - root - INFO - Calibrating color correction.\n"
     ]
    },
    {
     "data": {
      "application/vnd.jupyter.widget-view+json": {
       "model_id": "80d1698655194b44ac8063b99f69e5c9",
       "version_major": 2,
       "version_minor": 0
      },
      "text/plain": [
       "  0%|          | 0/7 [00:00<?, ?it/s]"
      ]
     },
     "metadata": {},
     "output_type": "display_data"
    },
    {
     "name": "stdout",
     "output_type": "stream",
     "text": []
    },
    {
     "name": "stderr",
     "output_type": "stream",
     "text": [
      "2023-03-07 09:17:09,509 - root - INFO - Applying color correction.\n"
     ]
    },
    {
     "name": "stdout",
     "output_type": "stream",
     "text": [
      "\u001b[36mAnimation frame: \u001b[0m56/120  \n",
      " Creating in-between frame: 48; tween:0.12;\n",
      " Creating in-between frame: 49; tween:0.25;\n",
      " Creating in-between frame: 50; tween:0.38;\n",
      " Creating in-between frame: 51; tween:0.50;\n",
      " Creating in-between frame: 52; tween:0.62;\n",
      " Creating in-between frame: 53; tween:0.75;\n",
      " Creating in-between frame: 54; tween:0.88;\n",
      " Creating in-between frame: 55; tween:1.00;\n",
      "\u001b[32mSeed: \u001b[0m6\n",
      "\u001b[35mPrompt: \u001b[0mdetective john mitchell, twenty years, seasoned veteran, police force, experience, belt, beautiful picture, cinematic, high detailed, photorealistic\n",
      "\u001b[91mNeg Prompt: \u001b[0m(text), (deformed iris, deformed pupils, semi-realistic, cgi, 3d, render, sketch, cartoon, drawing, anime:1.4), close up, cropped, out of frame, worst quality, low quality, jpeg artifacts, ugly, duplicate, morbid, mutilated, extra fingers, mutated hands, poorly drawn hands, poorly drawn face, mutation, deformed, blurry, dehydrated, bad anatomy, bad proportions, extra limbs, cloned face, disfigured, gross proportions, malformed limbs, missing arms, missing legs, extra arms, extra legs, fused fingers, too many fingers, long neck\n"
     ]
    },
    {
     "data": {
      "text/html": [
       "<pre style=\"white-space:pre;overflow-x:auto;line-height:normal;font-family:Menlo,'DejaVu Sans Mono',consolas,'Courier New',monospace\">╭────┬────┬────┬────┬────┬────╮\n",
       "│<span style=\"font-weight: bold\">Tr X</span>│<span style=\"font-weight: bold\">Tr Y</span>│<span style=\"font-weight: bold\">Tr Z</span>│<span style=\"font-weight: bold\">Ro X</span>│<span style=\"font-weight: bold\">Ro Y</span>│<span style=\"font-weight: bold\">Ro Z</span>│\n",
       "├────┼────┼────┼────┼────┼────┤\n",
       "│0.0 │0.0 │0.0 │0.0 │0.0 │0.0 │\n",
       "╰────┴────┴────┴────┴────┴────╯\n",
       "</pre>\n"
      ],
      "text/plain": [
       "╭────┬────┬────┬────┬────┬────╮\n",
       "│\u001b[1mTr X\u001b[0m│\u001b[1mTr Y\u001b[0m│\u001b[1mTr Z\u001b[0m│\u001b[1mRo X\u001b[0m│\u001b[1mRo Y\u001b[0m│\u001b[1mRo Z\u001b[0m│\n",
       "├────┼────┼────┼────┼────┼────┤\n",
       "│0.0 │0.0 │0.0 │0.0 │0.0 │0.0 │\n",
       "╰────┴────┴────┴────┴────┴────╯\n"
      ]
     },
     "metadata": {},
     "output_type": "display_data"
    },
    {
     "data": {
      "text/html": [
       "<pre style=\"white-space:pre;overflow-x:auto;line-height:normal;font-family:Menlo,'DejaVu Sans Mono',consolas,'Courier New',monospace\">╭─────┬───┬───────╮\n",
       "│<span style=\"font-weight: bold\">Steps</span>│<span style=\"font-weight: bold\">CFG</span>│<span style=\"font-weight: bold\">Denoise</span>│\n",
       "├─────┼───┼───────┤\n",
       "│ 25  │7.0│ 0.25  │\n",
       "╰─────┴───┴───────╯\n",
       "</pre>\n"
      ],
      "text/plain": [
       "╭─────┬───┬───────╮\n",
       "│\u001b[1mSteps\u001b[0m│\u001b[1mCFG\u001b[0m│\u001b[1mDenoise\u001b[0m│\n",
       "├─────┼───┼───────┤\n",
       "│ 25  │7.0│ 0.25  │\n",
       "╰─────┴───┴───────╯\n"
      ]
     },
     "metadata": {},
     "output_type": "display_data"
    },
    {
     "name": "stderr",
     "output_type": "stream",
     "text": [
      "2023-03-07 09:17:13,427 - root - INFO - Calibrating color correction.\n"
     ]
    },
    {
     "data": {
      "application/vnd.jupyter.widget-view+json": {
       "model_id": "688cde3c5bdc47c29393149622709707",
       "version_major": 2,
       "version_minor": 0
      },
      "text/plain": [
       "  0%|          | 0/7 [00:00<?, ?it/s]"
      ]
     },
     "metadata": {},
     "output_type": "display_data"
    },
    {
     "name": "stdout",
     "output_type": "stream",
     "text": []
    },
    {
     "name": "stderr",
     "output_type": "stream",
     "text": [
      "2023-03-07 09:17:16,081 - root - INFO - Applying color correction.\n"
     ]
    },
    {
     "name": "stdout",
     "output_type": "stream",
     "text": [
      "\u001b[36mAnimation frame: \u001b[0m64/120  \n",
      " Creating in-between frame: 56; tween:0.12;\n",
      " Creating in-between frame: 57; tween:0.25;\n",
      " Creating in-between frame: 58; tween:0.38;\n",
      " Creating in-between frame: 59; tween:0.50;\n",
      " Creating in-between frame: 60; tween:0.62;\n",
      " Creating in-between frame: 61; tween:0.75;\n",
      " Creating in-between frame: 62; tween:0.88;\n",
      " Creating in-between frame: 63; tween:1.00;\n",
      "\u001b[32mSeed: \u001b[0m7\n",
      "\u001b[35mPrompt: \u001b[0mdetective john mitchell, twenty years, seasoned veteran, police force, experience, belt, beautiful picture, cinematic, high detailed, photorealistic\n",
      "\u001b[91mNeg Prompt: \u001b[0m(text), (deformed iris, deformed pupils, semi-realistic, cgi, 3d, render, sketch, cartoon, drawing, anime:1.4), close up, cropped, out of frame, worst quality, low quality, jpeg artifacts, ugly, duplicate, morbid, mutilated, extra fingers, mutated hands, poorly drawn hands, poorly drawn face, mutation, deformed, blurry, dehydrated, bad anatomy, bad proportions, extra limbs, cloned face, disfigured, gross proportions, malformed limbs, missing arms, missing legs, extra arms, extra legs, fused fingers, too many fingers, long neck\n"
     ]
    },
    {
     "data": {
      "text/html": [
       "<pre style=\"white-space:pre;overflow-x:auto;line-height:normal;font-family:Menlo,'DejaVu Sans Mono',consolas,'Courier New',monospace\">╭────┬────┬────┬────┬────┬────╮\n",
       "│<span style=\"font-weight: bold\">Tr X</span>│<span style=\"font-weight: bold\">Tr Y</span>│<span style=\"font-weight: bold\">Tr Z</span>│<span style=\"font-weight: bold\">Ro X</span>│<span style=\"font-weight: bold\">Ro Y</span>│<span style=\"font-weight: bold\">Ro Z</span>│\n",
       "├────┼────┼────┼────┼────┼────┤\n",
       "│0.0 │0.0 │0.0 │0.0 │0.0 │0.0 │\n",
       "╰────┴────┴────┴────┴────┴────╯\n",
       "</pre>\n"
      ],
      "text/plain": [
       "╭────┬────┬────┬────┬────┬────╮\n",
       "│\u001b[1mTr X\u001b[0m│\u001b[1mTr Y\u001b[0m│\u001b[1mTr Z\u001b[0m│\u001b[1mRo X\u001b[0m│\u001b[1mRo Y\u001b[0m│\u001b[1mRo Z\u001b[0m│\n",
       "├────┼────┼────┼────┼────┼────┤\n",
       "│0.0 │0.0 │0.0 │0.0 │0.0 │0.0 │\n",
       "╰────┴────┴────┴────┴────┴────╯\n"
      ]
     },
     "metadata": {},
     "output_type": "display_data"
    },
    {
     "data": {
      "text/html": [
       "<pre style=\"white-space:pre;overflow-x:auto;line-height:normal;font-family:Menlo,'DejaVu Sans Mono',consolas,'Courier New',monospace\">╭─────┬───┬───────╮\n",
       "│<span style=\"font-weight: bold\">Steps</span>│<span style=\"font-weight: bold\">CFG</span>│<span style=\"font-weight: bold\">Denoise</span>│\n",
       "├─────┼───┼───────┤\n",
       "│ 25  │7.0│  1.0  │\n",
       "╰─────┴───┴───────╯\n",
       "</pre>\n"
      ],
      "text/plain": [
       "╭─────┬───┬───────╮\n",
       "│\u001b[1mSteps\u001b[0m│\u001b[1mCFG\u001b[0m│\u001b[1mDenoise\u001b[0m│\n",
       "├─────┼───┼───────┤\n",
       "│ 25  │7.0│  1.0  │\n",
       "╰─────┴───┴───────╯\n"
      ]
     },
     "metadata": {},
     "output_type": "display_data"
    },
    {
     "name": "stderr",
     "output_type": "stream",
     "text": [
      "2023-03-07 09:17:20,078 - root - INFO - Calibrating color correction.\n"
     ]
    },
    {
     "data": {
      "application/vnd.jupyter.widget-view+json": {
       "model_id": "7c3bdae39ed14da4a748e19b3075b58d",
       "version_major": 2,
       "version_minor": 0
      },
      "text/plain": [
       "  0%|          | 0/25 [00:00<?, ?it/s]"
      ]
     },
     "metadata": {},
     "output_type": "display_data"
    },
    {
     "name": "stdout",
     "output_type": "stream",
     "text": []
    },
    {
     "name": "stderr",
     "output_type": "stream",
     "text": [
      "2023-03-07 09:17:29,146 - root - INFO - Applying color correction.\n"
     ]
    },
    {
     "name": "stdout",
     "output_type": "stream",
     "text": [
      "\u001b[36mAnimation frame: \u001b[0m72/120  \n",
      " Creating in-between frame: 64; tween:0.12;\n",
      " Creating in-between frame: 65; tween:0.25;\n",
      " Creating in-between frame: 66; tween:0.38;\n",
      " Creating in-between frame: 67; tween:0.50;\n",
      " Creating in-between frame: 68; tween:0.62;\n",
      " Creating in-between frame: 69; tween:0.75;\n",
      " Creating in-between frame: 70; tween:0.88;\n",
      " Creating in-between frame: 71; tween:1.00;\n",
      "\u001b[32mSeed: \u001b[0m8\n",
      "\u001b[35mPrompt: \u001b[0mdetective john mitchell, twenty years, seasoned veteran, police force, experience, belt, beautiful picture, cinematic, high detailed, photorealistic\n",
      "\u001b[91mNeg Prompt: \u001b[0m(text), (deformed iris, deformed pupils, semi-realistic, cgi, 3d, render, sketch, cartoon, drawing, anime:1.4), close up, cropped, out of frame, worst quality, low quality, jpeg artifacts, ugly, duplicate, morbid, mutilated, extra fingers, mutated hands, poorly drawn hands, poorly drawn face, mutation, deformed, blurry, dehydrated, bad anatomy, bad proportions, extra limbs, cloned face, disfigured, gross proportions, malformed limbs, missing arms, missing legs, extra arms, extra legs, fused fingers, too many fingers, long neck\n"
     ]
    },
    {
     "data": {
      "text/html": [
       "<pre style=\"white-space:pre;overflow-x:auto;line-height:normal;font-family:Menlo,'DejaVu Sans Mono',consolas,'Courier New',monospace\">╭────┬────┬────┬────┬────┬────╮\n",
       "│<span style=\"font-weight: bold\">Tr X</span>│<span style=\"font-weight: bold\">Tr Y</span>│<span style=\"font-weight: bold\">Tr Z</span>│<span style=\"font-weight: bold\">Ro X</span>│<span style=\"font-weight: bold\">Ro Y</span>│<span style=\"font-weight: bold\">Ro Z</span>│\n",
       "├────┼────┼────┼────┼────┼────┤\n",
       "│0.0 │0.0 │0.0 │0.0 │0.0 │0.0 │\n",
       "╰────┴────┴────┴────┴────┴────╯\n",
       "</pre>\n"
      ],
      "text/plain": [
       "╭────┬────┬────┬────┬────┬────╮\n",
       "│\u001b[1mTr X\u001b[0m│\u001b[1mTr Y\u001b[0m│\u001b[1mTr Z\u001b[0m│\u001b[1mRo X\u001b[0m│\u001b[1mRo Y\u001b[0m│\u001b[1mRo Z\u001b[0m│\n",
       "├────┼────┼────┼────┼────┼────┤\n",
       "│0.0 │0.0 │0.0 │0.0 │0.0 │0.0 │\n",
       "╰────┴────┴────┴────┴────┴────╯\n"
      ]
     },
     "metadata": {},
     "output_type": "display_data"
    },
    {
     "data": {
      "text/html": [
       "<pre style=\"white-space:pre;overflow-x:auto;line-height:normal;font-family:Menlo,'DejaVu Sans Mono',consolas,'Courier New',monospace\">╭─────┬───┬───────╮\n",
       "│<span style=\"font-weight: bold\">Steps</span>│<span style=\"font-weight: bold\">CFG</span>│<span style=\"font-weight: bold\">Denoise</span>│\n",
       "├─────┼───┼───────┤\n",
       "│ 25  │7.0│ 0.25  │\n",
       "╰─────┴───┴───────╯\n",
       "</pre>\n"
      ],
      "text/plain": [
       "╭─────┬───┬───────╮\n",
       "│\u001b[1mSteps\u001b[0m│\u001b[1mCFG\u001b[0m│\u001b[1mDenoise\u001b[0m│\n",
       "├─────┼───┼───────┤\n",
       "│ 25  │7.0│ 0.25  │\n",
       "╰─────┴───┴───────╯\n"
      ]
     },
     "metadata": {},
     "output_type": "display_data"
    },
    {
     "name": "stderr",
     "output_type": "stream",
     "text": [
      "2023-03-07 09:17:33,267 - root - INFO - Calibrating color correction.\n"
     ]
    },
    {
     "data": {
      "application/vnd.jupyter.widget-view+json": {
       "model_id": "626fa46ec0284213b2c687800b692212",
       "version_major": 2,
       "version_minor": 0
      },
      "text/plain": [
       "  0%|          | 0/7 [00:00<?, ?it/s]"
      ]
     },
     "metadata": {},
     "output_type": "display_data"
    },
    {
     "name": "stdout",
     "output_type": "stream",
     "text": []
    },
    {
     "name": "stderr",
     "output_type": "stream",
     "text": [
      "2023-03-07 09:17:36,015 - root - INFO - Applying color correction.\n"
     ]
    },
    {
     "name": "stdout",
     "output_type": "stream",
     "text": [
      "\u001b[36mAnimation frame: \u001b[0m80/120  \n",
      " Creating in-between frame: 72; tween:0.12;\n",
      " Creating in-between frame: 73; tween:0.25;\n",
      " Creating in-between frame: 74; tween:0.38;\n",
      " Creating in-between frame: 75; tween:0.50;\n",
      " Creating in-between frame: 76; tween:0.62;\n",
      " Creating in-between frame: 77; tween:0.75;\n",
      " Creating in-between frame: 78; tween:0.88;\n",
      " Creating in-between frame: 79; tween:1.00;\n",
      "\u001b[32mSeed: \u001b[0m9\n",
      "\u001b[35mPrompt: \u001b[0mdetective john mitchell, twenty years, seasoned veteran, police force, experience, belt, beautiful picture, cinematic, high detailed, photorealistic\n",
      "\u001b[91mNeg Prompt: \u001b[0m(text), (deformed iris, deformed pupils, semi-realistic, cgi, 3d, render, sketch, cartoon, drawing, anime:1.4), close up, cropped, out of frame, worst quality, low quality, jpeg artifacts, ugly, duplicate, morbid, mutilated, extra fingers, mutated hands, poorly drawn hands, poorly drawn face, mutation, deformed, blurry, dehydrated, bad anatomy, bad proportions, extra limbs, cloned face, disfigured, gross proportions, malformed limbs, missing arms, missing legs, extra arms, extra legs, fused fingers, too many fingers, long neck\n"
     ]
    },
    {
     "data": {
      "text/html": [
       "<pre style=\"white-space:pre;overflow-x:auto;line-height:normal;font-family:Menlo,'DejaVu Sans Mono',consolas,'Courier New',monospace\">╭────┬────┬────┬────┬────┬────╮\n",
       "│<span style=\"font-weight: bold\">Tr X</span>│<span style=\"font-weight: bold\">Tr Y</span>│<span style=\"font-weight: bold\">Tr Z</span>│<span style=\"font-weight: bold\">Ro X</span>│<span style=\"font-weight: bold\">Ro Y</span>│<span style=\"font-weight: bold\">Ro Z</span>│\n",
       "├────┼────┼────┼────┼────┼────┤\n",
       "│0.0 │0.0 │0.0 │0.0 │0.0 │0.0 │\n",
       "╰────┴────┴────┴────┴────┴────╯\n",
       "</pre>\n"
      ],
      "text/plain": [
       "╭────┬────┬────┬────┬────┬────╮\n",
       "│\u001b[1mTr X\u001b[0m│\u001b[1mTr Y\u001b[0m│\u001b[1mTr Z\u001b[0m│\u001b[1mRo X\u001b[0m│\u001b[1mRo Y\u001b[0m│\u001b[1mRo Z\u001b[0m│\n",
       "├────┼────┼────┼────┼────┼────┤\n",
       "│0.0 │0.0 │0.0 │0.0 │0.0 │0.0 │\n",
       "╰────┴────┴────┴────┴────┴────╯\n"
      ]
     },
     "metadata": {},
     "output_type": "display_data"
    },
    {
     "data": {
      "text/html": [
       "<pre style=\"white-space:pre;overflow-x:auto;line-height:normal;font-family:Menlo,'DejaVu Sans Mono',consolas,'Courier New',monospace\">╭─────┬───┬───────╮\n",
       "│<span style=\"font-weight: bold\">Steps</span>│<span style=\"font-weight: bold\">CFG</span>│<span style=\"font-weight: bold\">Denoise</span>│\n",
       "├─────┼───┼───────┤\n",
       "│ 25  │7.0│ 0.25  │\n",
       "╰─────┴───┴───────╯\n",
       "</pre>\n"
      ],
      "text/plain": [
       "╭─────┬───┬───────╮\n",
       "│\u001b[1mSteps\u001b[0m│\u001b[1mCFG\u001b[0m│\u001b[1mDenoise\u001b[0m│\n",
       "├─────┼───┼───────┤\n",
       "│ 25  │7.0│ 0.25  │\n",
       "╰─────┴───┴───────╯\n"
      ]
     },
     "metadata": {},
     "output_type": "display_data"
    },
    {
     "name": "stderr",
     "output_type": "stream",
     "text": [
      "2023-03-07 09:17:40,138 - root - INFO - Calibrating color correction.\n"
     ]
    },
    {
     "data": {
      "application/vnd.jupyter.widget-view+json": {
       "model_id": "9e3c593514974f7689e26da05c86e86f",
       "version_major": 2,
       "version_minor": 0
      },
      "text/plain": [
       "  0%|          | 0/7 [00:00<?, ?it/s]"
      ]
     },
     "metadata": {},
     "output_type": "display_data"
    },
    {
     "name": "stdout",
     "output_type": "stream",
     "text": []
    },
    {
     "name": "stderr",
     "output_type": "stream",
     "text": [
      "2023-03-07 09:17:43,040 - root - INFO - Applying color correction.\n"
     ]
    },
    {
     "name": "stdout",
     "output_type": "stream",
     "text": [
      "\u001b[36mAnimation frame: \u001b[0m88/120  \n",
      " Creating in-between frame: 80; tween:0.12;\n",
      " Creating in-between frame: 81; tween:0.25;\n",
      " Creating in-between frame: 82; tween:0.38;\n",
      " Creating in-between frame: 83; tween:0.50;\n",
      " Creating in-between frame: 84; tween:0.62;\n",
      " Creating in-between frame: 85; tween:0.75;\n",
      " Creating in-between frame: 86; tween:0.88;\n",
      " Creating in-between frame: 87; tween:1.00;\n",
      "\u001b[32mSeed: \u001b[0m10\n",
      "\u001b[35mPrompt: \u001b[0mdetective john mitchell, twenty years, seasoned veteran, police force, experience, belt, beautiful picture, cinematic, high detailed, photorealistic\n",
      "\u001b[91mNeg Prompt: \u001b[0m(text), (deformed iris, deformed pupils, semi-realistic, cgi, 3d, render, sketch, cartoon, drawing, anime:1.4), close up, cropped, out of frame, worst quality, low quality, jpeg artifacts, ugly, duplicate, morbid, mutilated, extra fingers, mutated hands, poorly drawn hands, poorly drawn face, mutation, deformed, blurry, dehydrated, bad anatomy, bad proportions, extra limbs, cloned face, disfigured, gross proportions, malformed limbs, missing arms, missing legs, extra arms, extra legs, fused fingers, too many fingers, long neck\n"
     ]
    },
    {
     "data": {
      "text/html": [
       "<pre style=\"white-space:pre;overflow-x:auto;line-height:normal;font-family:Menlo,'DejaVu Sans Mono',consolas,'Courier New',monospace\">╭────┬────┬────┬────┬────┬────╮\n",
       "│<span style=\"font-weight: bold\">Tr X</span>│<span style=\"font-weight: bold\">Tr Y</span>│<span style=\"font-weight: bold\">Tr Z</span>│<span style=\"font-weight: bold\">Ro X</span>│<span style=\"font-weight: bold\">Ro Y</span>│<span style=\"font-weight: bold\">Ro Z</span>│\n",
       "├────┼────┼────┼────┼────┼────┤\n",
       "│0.0 │0.0 │0.0 │0.0 │0.0 │0.0 │\n",
       "╰────┴────┴────┴────┴────┴────╯\n",
       "</pre>\n"
      ],
      "text/plain": [
       "╭────┬────┬────┬────┬────┬────╮\n",
       "│\u001b[1mTr X\u001b[0m│\u001b[1mTr Y\u001b[0m│\u001b[1mTr Z\u001b[0m│\u001b[1mRo X\u001b[0m│\u001b[1mRo Y\u001b[0m│\u001b[1mRo Z\u001b[0m│\n",
       "├────┼────┼────┼────┼────┼────┤\n",
       "│0.0 │0.0 │0.0 │0.0 │0.0 │0.0 │\n",
       "╰────┴────┴────┴────┴────┴────╯\n"
      ]
     },
     "metadata": {},
     "output_type": "display_data"
    },
    {
     "data": {
      "text/html": [
       "<pre style=\"white-space:pre;overflow-x:auto;line-height:normal;font-family:Menlo,'DejaVu Sans Mono',consolas,'Courier New',monospace\">╭─────┬───┬───────╮\n",
       "│<span style=\"font-weight: bold\">Steps</span>│<span style=\"font-weight: bold\">CFG</span>│<span style=\"font-weight: bold\">Denoise</span>│\n",
       "├─────┼───┼───────┤\n",
       "│ 25  │7.0│ 0.25  │\n",
       "╰─────┴───┴───────╯\n",
       "</pre>\n"
      ],
      "text/plain": [
       "╭─────┬───┬───────╮\n",
       "│\u001b[1mSteps\u001b[0m│\u001b[1mCFG\u001b[0m│\u001b[1mDenoise\u001b[0m│\n",
       "├─────┼───┼───────┤\n",
       "│ 25  │7.0│ 0.25  │\n",
       "╰─────┴───┴───────╯\n"
      ]
     },
     "metadata": {},
     "output_type": "display_data"
    },
    {
     "name": "stderr",
     "output_type": "stream",
     "text": [
      "2023-03-07 09:17:46,957 - root - INFO - Calibrating color correction.\n"
     ]
    },
    {
     "data": {
      "application/vnd.jupyter.widget-view+json": {
       "model_id": "ee1af40a31ee448db562d0c2628f9232",
       "version_major": 2,
       "version_minor": 0
      },
      "text/plain": [
       "  0%|          | 0/7 [00:00<?, ?it/s]"
      ]
     },
     "metadata": {},
     "output_type": "display_data"
    },
    {
     "name": "stdout",
     "output_type": "stream",
     "text": []
    },
    {
     "name": "stderr",
     "output_type": "stream",
     "text": [
      "2023-03-07 09:17:49,731 - root - INFO - Applying color correction.\n"
     ]
    },
    {
     "name": "stdout",
     "output_type": "stream",
     "text": [
      "\u001b[36mAnimation frame: \u001b[0m96/120  \n",
      " Creating in-between frame: 88; tween:0.12;\n",
      " Creating in-between frame: 89; tween:0.25;\n",
      " Creating in-between frame: 90; tween:0.38;\n",
      " Creating in-between frame: 91; tween:0.50;\n",
      " Creating in-between frame: 92; tween:0.62;\n",
      " Creating in-between frame: 93; tween:0.75;\n",
      " Creating in-between frame: 94; tween:0.88;\n",
      " Creating in-between frame: 95; tween:1.00;\n",
      "\u001b[32mSeed: \u001b[0m11\n",
      "\u001b[35mPrompt: \u001b[0mdetective john mitchell, twenty years, seasoned veteran, police force, experience, belt, beautiful picture, cinematic, high detailed, photorealistic\n",
      "\u001b[91mNeg Prompt: \u001b[0m(text), (deformed iris, deformed pupils, semi-realistic, cgi, 3d, render, sketch, cartoon, drawing, anime:1.4), close up, cropped, out of frame, worst quality, low quality, jpeg artifacts, ugly, duplicate, morbid, mutilated, extra fingers, mutated hands, poorly drawn hands, poorly drawn face, mutation, deformed, blurry, dehydrated, bad anatomy, bad proportions, extra limbs, cloned face, disfigured, gross proportions, malformed limbs, missing arms, missing legs, extra arms, extra legs, fused fingers, too many fingers, long neck\n"
     ]
    },
    {
     "data": {
      "text/html": [
       "<pre style=\"white-space:pre;overflow-x:auto;line-height:normal;font-family:Menlo,'DejaVu Sans Mono',consolas,'Courier New',monospace\">╭────┬────┬────┬────┬────┬────╮\n",
       "│<span style=\"font-weight: bold\">Tr X</span>│<span style=\"font-weight: bold\">Tr Y</span>│<span style=\"font-weight: bold\">Tr Z</span>│<span style=\"font-weight: bold\">Ro X</span>│<span style=\"font-weight: bold\">Ro Y</span>│<span style=\"font-weight: bold\">Ro Z</span>│\n",
       "├────┼────┼────┼────┼────┼────┤\n",
       "│0.0 │0.0 │0.0 │0.0 │0.0 │0.0 │\n",
       "╰────┴────┴────┴────┴────┴────╯\n",
       "</pre>\n"
      ],
      "text/plain": [
       "╭────┬────┬────┬────┬────┬────╮\n",
       "│\u001b[1mTr X\u001b[0m│\u001b[1mTr Y\u001b[0m│\u001b[1mTr Z\u001b[0m│\u001b[1mRo X\u001b[0m│\u001b[1mRo Y\u001b[0m│\u001b[1mRo Z\u001b[0m│\n",
       "├────┼────┼────┼────┼────┼────┤\n",
       "│0.0 │0.0 │0.0 │0.0 │0.0 │0.0 │\n",
       "╰────┴────┴────┴────┴────┴────╯\n"
      ]
     },
     "metadata": {},
     "output_type": "display_data"
    },
    {
     "data": {
      "text/html": [
       "<pre style=\"white-space:pre;overflow-x:auto;line-height:normal;font-family:Menlo,'DejaVu Sans Mono',consolas,'Courier New',monospace\">╭─────┬───┬───────╮\n",
       "│<span style=\"font-weight: bold\">Steps</span>│<span style=\"font-weight: bold\">CFG</span>│<span style=\"font-weight: bold\">Denoise</span>│\n",
       "├─────┼───┼───────┤\n",
       "│ 25  │7.0│ 0.25  │\n",
       "╰─────┴───┴───────╯\n",
       "</pre>\n"
      ],
      "text/plain": [
       "╭─────┬───┬───────╮\n",
       "│\u001b[1mSteps\u001b[0m│\u001b[1mCFG\u001b[0m│\u001b[1mDenoise\u001b[0m│\n",
       "├─────┼───┼───────┤\n",
       "│ 25  │7.0│ 0.25  │\n",
       "╰─────┴───┴───────╯\n"
      ]
     },
     "metadata": {},
     "output_type": "display_data"
    },
    {
     "name": "stderr",
     "output_type": "stream",
     "text": [
      "2023-03-07 09:17:53,702 - root - INFO - Calibrating color correction.\n"
     ]
    },
    {
     "data": {
      "application/vnd.jupyter.widget-view+json": {
       "model_id": "2829890ddb0c4b168e879244b4c40a9c",
       "version_major": 2,
       "version_minor": 0
      },
      "text/plain": [
       "  0%|          | 0/7 [00:00<?, ?it/s]"
      ]
     },
     "metadata": {},
     "output_type": "display_data"
    },
    {
     "name": "stdout",
     "output_type": "stream",
     "text": []
    },
    {
     "name": "stderr",
     "output_type": "stream",
     "text": [
      "2023-03-07 09:17:56,473 - root - INFO - Applying color correction.\n"
     ]
    },
    {
     "name": "stdout",
     "output_type": "stream",
     "text": [
      "\u001b[36mAnimation frame: \u001b[0m104/120  \n",
      " Creating in-between frame: 96; tween:0.12;\n",
      " Creating in-between frame: 97; tween:0.25;\n",
      " Creating in-between frame: 98; tween:0.38;\n",
      " Creating in-between frame: 99; tween:0.50;\n",
      " Creating in-between frame: 100; tween:0.62;\n",
      " Creating in-between frame: 101; tween:0.75;\n",
      " Creating in-between frame: 102; tween:0.88;\n",
      " Creating in-between frame: 103; tween:1.00;\n",
      "\u001b[32mSeed: \u001b[0m12\n",
      "\u001b[35mPrompt: \u001b[0mdetective john mitchell, twenty years, seasoned veteran, police force, experience, belt, beautiful picture, cinematic, high detailed, photorealistic\n",
      "\u001b[91mNeg Prompt: \u001b[0m(text), (deformed iris, deformed pupils, semi-realistic, cgi, 3d, render, sketch, cartoon, drawing, anime:1.4), close up, cropped, out of frame, worst quality, low quality, jpeg artifacts, ugly, duplicate, morbid, mutilated, extra fingers, mutated hands, poorly drawn hands, poorly drawn face, mutation, deformed, blurry, dehydrated, bad anatomy, bad proportions, extra limbs, cloned face, disfigured, gross proportions, malformed limbs, missing arms, missing legs, extra arms, extra legs, fused fingers, too many fingers, long neck\n"
     ]
    },
    {
     "data": {
      "text/html": [
       "<pre style=\"white-space:pre;overflow-x:auto;line-height:normal;font-family:Menlo,'DejaVu Sans Mono',consolas,'Courier New',monospace\">╭────┬────┬────┬────┬────┬────╮\n",
       "│<span style=\"font-weight: bold\">Tr X</span>│<span style=\"font-weight: bold\">Tr Y</span>│<span style=\"font-weight: bold\">Tr Z</span>│<span style=\"font-weight: bold\">Ro X</span>│<span style=\"font-weight: bold\">Ro Y</span>│<span style=\"font-weight: bold\">Ro Z</span>│\n",
       "├────┼────┼────┼────┼────┼────┤\n",
       "│0.0 │0.0 │0.0 │0.0 │0.0 │0.0 │\n",
       "╰────┴────┴────┴────┴────┴────╯\n",
       "</pre>\n"
      ],
      "text/plain": [
       "╭────┬────┬────┬────┬────┬────╮\n",
       "│\u001b[1mTr X\u001b[0m│\u001b[1mTr Y\u001b[0m│\u001b[1mTr Z\u001b[0m│\u001b[1mRo X\u001b[0m│\u001b[1mRo Y\u001b[0m│\u001b[1mRo Z\u001b[0m│\n",
       "├────┼────┼────┼────┼────┼────┤\n",
       "│0.0 │0.0 │0.0 │0.0 │0.0 │0.0 │\n",
       "╰────┴────┴────┴────┴────┴────╯\n"
      ]
     },
     "metadata": {},
     "output_type": "display_data"
    },
    {
     "data": {
      "text/html": [
       "<pre style=\"white-space:pre;overflow-x:auto;line-height:normal;font-family:Menlo,'DejaVu Sans Mono',consolas,'Courier New',monospace\">╭─────┬───┬───────╮\n",
       "│<span style=\"font-weight: bold\">Steps</span>│<span style=\"font-weight: bold\">CFG</span>│<span style=\"font-weight: bold\">Denoise</span>│\n",
       "├─────┼───┼───────┤\n",
       "│ 25  │7.0│ 0.25  │\n",
       "╰─────┴───┴───────╯\n",
       "</pre>\n"
      ],
      "text/plain": [
       "╭─────┬───┬───────╮\n",
       "│\u001b[1mSteps\u001b[0m│\u001b[1mCFG\u001b[0m│\u001b[1mDenoise\u001b[0m│\n",
       "├─────┼───┼───────┤\n",
       "│ 25  │7.0│ 0.25  │\n",
       "╰─────┴───┴───────╯\n"
      ]
     },
     "metadata": {},
     "output_type": "display_data"
    },
    {
     "name": "stderr",
     "output_type": "stream",
     "text": [
      "2023-03-07 09:18:00,611 - root - INFO - Calibrating color correction.\n"
     ]
    },
    {
     "data": {
      "application/vnd.jupyter.widget-view+json": {
       "model_id": "d08a4d6509254cd29fe2c15721b86beb",
       "version_major": 2,
       "version_minor": 0
      },
      "text/plain": [
       "  0%|          | 0/7 [00:00<?, ?it/s]"
      ]
     },
     "metadata": {},
     "output_type": "display_data"
    },
    {
     "name": "stdout",
     "output_type": "stream",
     "text": []
    },
    {
     "name": "stderr",
     "output_type": "stream",
     "text": [
      "2023-03-07 09:18:03,472 - root - INFO - Applying color correction.\n"
     ]
    },
    {
     "name": "stdout",
     "output_type": "stream",
     "text": [
      "\u001b[36mAnimation frame: \u001b[0m112/120  \n",
      " Creating in-between frame: 104; tween:0.12;\n",
      " Creating in-between frame: 105; tween:0.25;\n",
      " Creating in-between frame: 106; tween:0.38;\n",
      " Creating in-between frame: 107; tween:0.50;\n",
      " Creating in-between frame: 108; tween:0.62;\n",
      " Creating in-between frame: 109; tween:0.75;\n",
      " Creating in-between frame: 110; tween:0.88;\n",
      " Creating in-between frame: 111; tween:1.00;\n",
      "\u001b[32mSeed: \u001b[0m13\n",
      "\u001b[35mPrompt: \u001b[0mdetective john mitchell, twenty years, seasoned veteran, police force, experience, belt, beautiful picture, cinematic, high detailed, photorealistic\n",
      "\u001b[91mNeg Prompt: \u001b[0m(text), (deformed iris, deformed pupils, semi-realistic, cgi, 3d, render, sketch, cartoon, drawing, anime:1.4), close up, cropped, out of frame, worst quality, low quality, jpeg artifacts, ugly, duplicate, morbid, mutilated, extra fingers, mutated hands, poorly drawn hands, poorly drawn face, mutation, deformed, blurry, dehydrated, bad anatomy, bad proportions, extra limbs, cloned face, disfigured, gross proportions, malformed limbs, missing arms, missing legs, extra arms, extra legs, fused fingers, too many fingers, long neck\n"
     ]
    },
    {
     "data": {
      "text/html": [
       "<pre style=\"white-space:pre;overflow-x:auto;line-height:normal;font-family:Menlo,'DejaVu Sans Mono',consolas,'Courier New',monospace\">╭────┬────┬────┬────┬────┬────╮\n",
       "│<span style=\"font-weight: bold\">Tr X</span>│<span style=\"font-weight: bold\">Tr Y</span>│<span style=\"font-weight: bold\">Tr Z</span>│<span style=\"font-weight: bold\">Ro X</span>│<span style=\"font-weight: bold\">Ro Y</span>│<span style=\"font-weight: bold\">Ro Z</span>│\n",
       "├────┼────┼────┼────┼────┼────┤\n",
       "│0.0 │0.0 │0.0 │0.0 │0.0 │0.0 │\n",
       "╰────┴────┴────┴────┴────┴────╯\n",
       "</pre>\n"
      ],
      "text/plain": [
       "╭────┬────┬────┬────┬────┬────╮\n",
       "│\u001b[1mTr X\u001b[0m│\u001b[1mTr Y\u001b[0m│\u001b[1mTr Z\u001b[0m│\u001b[1mRo X\u001b[0m│\u001b[1mRo Y\u001b[0m│\u001b[1mRo Z\u001b[0m│\n",
       "├────┼────┼────┼────┼────┼────┤\n",
       "│0.0 │0.0 │0.0 │0.0 │0.0 │0.0 │\n",
       "╰────┴────┴────┴────┴────┴────╯\n"
      ]
     },
     "metadata": {},
     "output_type": "display_data"
    },
    {
     "data": {
      "text/html": [
       "<pre style=\"white-space:pre;overflow-x:auto;line-height:normal;font-family:Menlo,'DejaVu Sans Mono',consolas,'Courier New',monospace\">╭─────┬───┬───────╮\n",
       "│<span style=\"font-weight: bold\">Steps</span>│<span style=\"font-weight: bold\">CFG</span>│<span style=\"font-weight: bold\">Denoise</span>│\n",
       "├─────┼───┼───────┤\n",
       "│ 25  │7.0│ 0.25  │\n",
       "╰─────┴───┴───────╯\n",
       "</pre>\n"
      ],
      "text/plain": [
       "╭─────┬───┬───────╮\n",
       "│\u001b[1mSteps\u001b[0m│\u001b[1mCFG\u001b[0m│\u001b[1mDenoise\u001b[0m│\n",
       "├─────┼───┼───────┤\n",
       "│ 25  │7.0│ 0.25  │\n",
       "╰─────┴───┴───────╯\n"
      ]
     },
     "metadata": {},
     "output_type": "display_data"
    },
    {
     "name": "stderr",
     "output_type": "stream",
     "text": [
      "2023-03-07 09:18:07,435 - root - INFO - Calibrating color correction.\n"
     ]
    },
    {
     "data": {
      "application/vnd.jupyter.widget-view+json": {
       "model_id": "bec04d2de1d84f2882c036a637b6f7d2",
       "version_major": 2,
       "version_minor": 0
      },
      "text/plain": [
       "  0%|          | 0/7 [00:00<?, ?it/s]"
      ]
     },
     "metadata": {},
     "output_type": "display_data"
    },
    {
     "name": "stdout",
     "output_type": "stream",
     "text": []
    },
    {
     "name": "stderr",
     "output_type": "stream",
     "text": [
      "2023-03-07 09:18:10,228 - root - INFO - Applying color correction.\n"
     ]
    },
    {
     "name": "stdout",
     "output_type": "stream",
     "text": [
      "Deforum progress: 100%|██████████| 141/141 [01:49<00:00,  1.29it/s]\n",
      "Skipping video creation, uncheck skip_video_for_run_all if you want to run it\n",
      "text: John Mitchell was a tall, broad-shouldered man in his mid-fifties, with graying hair and a stern look.\n",
      "prompt: stern look, shouldered man, john mitchell, graying hair, tall, mid, fifties, broad\n",
      "index: 1\n",
      "Saving animation frames to:\n",
      "D://Deletar//p_gen//john test\\img\\0000001\n",
      "verify\n",
      "F:\\stable\\stable\\models/Deforum\n",
      "verify2\n",
      "True\n",
      "init\n",
      "<deforum_helpers.depth.DepthModel object at 0x0000025A7D4B57F0>\n",
      "ending\n",
      "Loading base model ()...Done.\n",
      "Removing last two layers (global_pool & classifier).\n",
      "Building Encoder-Decoder model..Done.\n",
      "\u001b[36mAnimation frame: \u001b[0m0/104  \n",
      "\u001b[32mSeed: \u001b[0m-1\n",
      "\u001b[35mPrompt: \u001b[0mstern look, shouldered man, john mitchell, graying hair, tall, mid, fifties, broad, beautiful picture, cinematic, high detailed, photorealistic\n",
      "\u001b[91mNeg Prompt: \u001b[0m(text), (deformed iris, deformed pupils, semi-realistic, cgi, 3d, render, sketch, cartoon, drawing, anime:1.4), close up, cropped, out of frame, worst quality, low quality, jpeg artifacts, ugly, duplicate, morbid, mutilated, extra fingers, mutated hands, poorly drawn hands, poorly drawn face, mutation, deformed, blurry, dehydrated, bad anatomy, bad proportions, extra limbs, cloned face, disfigured, gross proportions, malformed limbs, missing arms, missing legs, extra arms, extra legs, fused fingers, too many fingers, long neck\n"
     ]
    },
    {
     "data": {
      "text/html": [
       "<pre style=\"white-space:pre;overflow-x:auto;line-height:normal;font-family:Menlo,'DejaVu Sans Mono',consolas,'Courier New',monospace\">╭────┬────┬────┬────┬────┬────╮\n",
       "│<span style=\"font-weight: bold\">Tr X</span>│<span style=\"font-weight: bold\">Tr Y</span>│<span style=\"font-weight: bold\">Tr Z</span>│<span style=\"font-weight: bold\">Ro X</span>│<span style=\"font-weight: bold\">Ro Y</span>│<span style=\"font-weight: bold\">Ro Z</span>│\n",
       "├────┼────┼────┼────┼────┼────┤\n",
       "│0.0 │0.0 │0.0 │0.0 │0.0 │0.0 │\n",
       "╰────┴────┴────┴────┴────┴────╯\n",
       "</pre>\n"
      ],
      "text/plain": [
       "╭────┬────┬────┬────┬────┬────╮\n",
       "│\u001b[1mTr X\u001b[0m│\u001b[1mTr Y\u001b[0m│\u001b[1mTr Z\u001b[0m│\u001b[1mRo X\u001b[0m│\u001b[1mRo Y\u001b[0m│\u001b[1mRo Z\u001b[0m│\n",
       "├────┼────┼────┼────┼────┼────┤\n",
       "│0.0 │0.0 │0.0 │0.0 │0.0 │0.0 │\n",
       "╰────┴────┴────┴────┴────┴────╯\n"
      ]
     },
     "metadata": {},
     "output_type": "display_data"
    },
    {
     "name": "stdout",
     "output_type": "stream",
     "text": [
      "\n",
      "No init image, but strength > 0. Strength has been auto set to 0, since use_init is False.\n",
      "If you want to force strength > 0 with no init, please set strength_0_no_init to False.\n",
      "\n",
      "Not using an init image (doing pure txt2img)\n"
     ]
    },
    {
     "data": {
      "text/html": [
       "<pre style=\"white-space:pre;overflow-x:auto;line-height:normal;font-family:Menlo,'DejaVu Sans Mono',consolas,'Courier New',monospace\">╭─────┬───┬───────╮\n",
       "│<span style=\"font-weight: bold\">Steps</span>│<span style=\"font-weight: bold\">CFG</span>│<span style=\"font-weight: bold\">Denoise</span>│\n",
       "├─────┼───┼───────┤\n",
       "│ 25  │7.0│ None  │\n",
       "╰─────┴───┴───────╯\n",
       "</pre>\n"
      ],
      "text/plain": [
       "╭─────┬───┬───────╮\n",
       "│\u001b[1mSteps\u001b[0m│\u001b[1mCFG\u001b[0m│\u001b[1mDenoise\u001b[0m│\n",
       "├─────┼───┼───────┤\n",
       "│ 25  │7.0│ None  │\n",
       "╰─────┴───┴───────╯\n"
      ]
     },
     "metadata": {},
     "output_type": "display_data"
    },
    {
     "data": {
      "application/vnd.jupyter.widget-view+json": {
       "model_id": "a5073e2b2d7347c39fe801ad6561844f",
       "version_major": 2,
       "version_minor": 0
      },
      "text/plain": [
       "  0%|          | 0/25 [00:00<?, ?it/s]"
      ]
     },
     "metadata": {},
     "output_type": "display_data"
    },
    {
     "name": "stdout",
     "output_type": "stream",
     "text": [
      "\u001b[36mAnimation frame: \u001b[0m8/104  \n",
      " Creating in-between frame: 0; tween:0.12;\n",
      " Creating in-between frame: 1; tween:0.25;\n",
      " Creating in-between frame: 2; tween:0.38;\n",
      " Creating in-between frame: 3; tween:0.50;\n",
      " Creating in-between frame: 4; tween:0.62;\n",
      " Creating in-between frame: 5; tween:0.75;\n",
      " Creating in-between frame: 6; tween:0.88;\n",
      " Creating in-between frame: 7; tween:1.00;\n",
      "\u001b[32mSeed: \u001b[0m0\n",
      "\u001b[35mPrompt: \u001b[0mstern look, shouldered man, john mitchell, graying hair, tall, mid, fifties, broad, beautiful picture, cinematic, high detailed, photorealistic\n",
      "\u001b[91mNeg Prompt: \u001b[0m(text), (deformed iris, deformed pupils, semi-realistic, cgi, 3d, render, sketch, cartoon, drawing, anime:1.4), close up, cropped, out of frame, worst quality, low quality, jpeg artifacts, ugly, duplicate, morbid, mutilated, extra fingers, mutated hands, poorly drawn hands, poorly drawn face, mutation, deformed, blurry, dehydrated, bad anatomy, bad proportions, extra limbs, cloned face, disfigured, gross proportions, malformed limbs, missing arms, missing legs, extra arms, extra legs, fused fingers, too many fingers, long neck\n"
     ]
    },
    {
     "data": {
      "text/html": [
       "<pre style=\"white-space:pre;overflow-x:auto;line-height:normal;font-family:Menlo,'DejaVu Sans Mono',consolas,'Courier New',monospace\">╭────┬────┬────┬────┬────┬────╮\n",
       "│<span style=\"font-weight: bold\">Tr X</span>│<span style=\"font-weight: bold\">Tr Y</span>│<span style=\"font-weight: bold\">Tr Z</span>│<span style=\"font-weight: bold\">Ro X</span>│<span style=\"font-weight: bold\">Ro Y</span>│<span style=\"font-weight: bold\">Ro Z</span>│\n",
       "├────┼────┼────┼────┼────┼────┤\n",
       "│0.0 │0.0 │0.0 │0.0 │0.0 │0.0 │\n",
       "╰────┴────┴────┴────┴────┴────╯\n",
       "</pre>\n"
      ],
      "text/plain": [
       "╭────┬────┬────┬────┬────┬────╮\n",
       "│\u001b[1mTr X\u001b[0m│\u001b[1mTr Y\u001b[0m│\u001b[1mTr Z\u001b[0m│\u001b[1mRo X\u001b[0m│\u001b[1mRo Y\u001b[0m│\u001b[1mRo Z\u001b[0m│\n",
       "├────┼────┼────┼────┼────┼────┤\n",
       "│0.0 │0.0 │0.0 │0.0 │0.0 │0.0 │\n",
       "╰────┴────┴────┴────┴────┴────╯\n"
      ]
     },
     "metadata": {},
     "output_type": "display_data"
    },
    {
     "data": {
      "text/html": [
       "<pre style=\"white-space:pre;overflow-x:auto;line-height:normal;font-family:Menlo,'DejaVu Sans Mono',consolas,'Courier New',monospace\">╭─────┬───┬───────╮\n",
       "│<span style=\"font-weight: bold\">Steps</span>│<span style=\"font-weight: bold\">CFG</span>│<span style=\"font-weight: bold\">Denoise</span>│\n",
       "├─────┼───┼───────┤\n",
       "│ 25  │7.0│ 0.25  │\n",
       "╰─────┴───┴───────╯\n",
       "</pre>\n"
      ],
      "text/plain": [
       "╭─────┬───┬───────╮\n",
       "│\u001b[1mSteps\u001b[0m│\u001b[1mCFG\u001b[0m│\u001b[1mDenoise\u001b[0m│\n",
       "├─────┼───┼───────┤\n",
       "│ 25  │7.0│ 0.25  │\n",
       "╰─────┴───┴───────╯\n"
      ]
     },
     "metadata": {},
     "output_type": "display_data"
    },
    {
     "name": "stderr",
     "output_type": "stream",
     "text": [
      "2023-03-07 09:18:29,132 - root - INFO - Calibrating color correction.\n"
     ]
    },
    {
     "data": {
      "application/vnd.jupyter.widget-view+json": {
       "model_id": "1d9b3e2596fe40d9be2d7ddf0a6411d0",
       "version_major": 2,
       "version_minor": 0
      },
      "text/plain": [
       "  0%|          | 0/7 [00:00<?, ?it/s]"
      ]
     },
     "metadata": {},
     "output_type": "display_data"
    },
    {
     "name": "stdout",
     "output_type": "stream",
     "text": []
    },
    {
     "name": "stderr",
     "output_type": "stream",
     "text": [
      "2023-03-07 09:18:31,924 - root - INFO - Applying color correction.\n"
     ]
    },
    {
     "name": "stdout",
     "output_type": "stream",
     "text": [
      "\u001b[36mAnimation frame: \u001b[0m16/104  \n",
      " Creating in-between frame: 8; tween:0.12;\n",
      " Creating in-between frame: 9; tween:0.25;\n",
      " Creating in-between frame: 10; tween:0.38;\n",
      " Creating in-between frame: 11; tween:0.50;\n",
      " Creating in-between frame: 12; tween:0.62;\n",
      " Creating in-between frame: 13; tween:0.75;\n",
      " Creating in-between frame: 14; tween:0.88;\n",
      " Creating in-between frame: 15; tween:1.00;\n",
      "\u001b[32mSeed: \u001b[0m1\n",
      "\u001b[35mPrompt: \u001b[0mstern look, shouldered man, john mitchell, graying hair, tall, mid, fifties, broad, beautiful picture, cinematic, high detailed, photorealistic\n",
      "\u001b[91mNeg Prompt: \u001b[0m(text), (deformed iris, deformed pupils, semi-realistic, cgi, 3d, render, sketch, cartoon, drawing, anime:1.4), close up, cropped, out of frame, worst quality, low quality, jpeg artifacts, ugly, duplicate, morbid, mutilated, extra fingers, mutated hands, poorly drawn hands, poorly drawn face, mutation, deformed, blurry, dehydrated, bad anatomy, bad proportions, extra limbs, cloned face, disfigured, gross proportions, malformed limbs, missing arms, missing legs, extra arms, extra legs, fused fingers, too many fingers, long neck\n"
     ]
    },
    {
     "data": {
      "text/html": [
       "<pre style=\"white-space:pre;overflow-x:auto;line-height:normal;font-family:Menlo,'DejaVu Sans Mono',consolas,'Courier New',monospace\">╭────┬────┬────┬────┬────┬────╮\n",
       "│<span style=\"font-weight: bold\">Tr X</span>│<span style=\"font-weight: bold\">Tr Y</span>│<span style=\"font-weight: bold\">Tr Z</span>│<span style=\"font-weight: bold\">Ro X</span>│<span style=\"font-weight: bold\">Ro Y</span>│<span style=\"font-weight: bold\">Ro Z</span>│\n",
       "├────┼────┼────┼────┼────┼────┤\n",
       "│0.0 │0.0 │0.0 │0.0 │0.0 │0.0 │\n",
       "╰────┴────┴────┴────┴────┴────╯\n",
       "</pre>\n"
      ],
      "text/plain": [
       "╭────┬────┬────┬────┬────┬────╮\n",
       "│\u001b[1mTr X\u001b[0m│\u001b[1mTr Y\u001b[0m│\u001b[1mTr Z\u001b[0m│\u001b[1mRo X\u001b[0m│\u001b[1mRo Y\u001b[0m│\u001b[1mRo Z\u001b[0m│\n",
       "├────┼────┼────┼────┼────┼────┤\n",
       "│0.0 │0.0 │0.0 │0.0 │0.0 │0.0 │\n",
       "╰────┴────┴────┴────┴────┴────╯\n"
      ]
     },
     "metadata": {},
     "output_type": "display_data"
    },
    {
     "data": {
      "text/html": [
       "<pre style=\"white-space:pre;overflow-x:auto;line-height:normal;font-family:Menlo,'DejaVu Sans Mono',consolas,'Courier New',monospace\">╭─────┬───┬───────╮\n",
       "│<span style=\"font-weight: bold\">Steps</span>│<span style=\"font-weight: bold\">CFG</span>│<span style=\"font-weight: bold\">Denoise</span>│\n",
       "├─────┼───┼───────┤\n",
       "│ 25  │7.0│ 0.25  │\n",
       "╰─────┴───┴───────╯\n",
       "</pre>\n"
      ],
      "text/plain": [
       "╭─────┬───┬───────╮\n",
       "│\u001b[1mSteps\u001b[0m│\u001b[1mCFG\u001b[0m│\u001b[1mDenoise\u001b[0m│\n",
       "├─────┼───┼───────┤\n",
       "│ 25  │7.0│ 0.25  │\n",
       "╰─────┴───┴───────╯\n"
      ]
     },
     "metadata": {},
     "output_type": "display_data"
    },
    {
     "name": "stderr",
     "output_type": "stream",
     "text": [
      "2023-03-07 09:18:35,794 - root - INFO - Calibrating color correction.\n"
     ]
    },
    {
     "data": {
      "application/vnd.jupyter.widget-view+json": {
       "model_id": "a176fd9887c14ea2ae39f7c93d7a2a11",
       "version_major": 2,
       "version_minor": 0
      },
      "text/plain": [
       "  0%|          | 0/7 [00:00<?, ?it/s]"
      ]
     },
     "metadata": {},
     "output_type": "display_data"
    },
    {
     "name": "stdout",
     "output_type": "stream",
     "text": []
    },
    {
     "name": "stderr",
     "output_type": "stream",
     "text": [
      "2023-03-07 09:18:38,768 - root - INFO - Applying color correction.\n"
     ]
    },
    {
     "name": "stdout",
     "output_type": "stream",
     "text": [
      "\u001b[36mAnimation frame: \u001b[0m24/104  \n",
      " Creating in-between frame: 16; tween:0.12;\n",
      " Creating in-between frame: 17; tween:0.25;\n",
      " Creating in-between frame: 18; tween:0.38;\n",
      " Creating in-between frame: 19; tween:0.50;\n",
      " Creating in-between frame: 20; tween:0.62;\n",
      " Creating in-between frame: 21; tween:0.75;\n",
      " Creating in-between frame: 22; tween:0.88;\n",
      " Creating in-between frame: 23; tween:1.00;\n",
      "\u001b[32mSeed: \u001b[0m2\n",
      "\u001b[35mPrompt: \u001b[0mstern look, shouldered man, john mitchell, graying hair, tall, mid, fifties, broad, beautiful picture, cinematic, high detailed, photorealistic\n",
      "\u001b[91mNeg Prompt: \u001b[0m(text), (deformed iris, deformed pupils, semi-realistic, cgi, 3d, render, sketch, cartoon, drawing, anime:1.4), close up, cropped, out of frame, worst quality, low quality, jpeg artifacts, ugly, duplicate, morbid, mutilated, extra fingers, mutated hands, poorly drawn hands, poorly drawn face, mutation, deformed, blurry, dehydrated, bad anatomy, bad proportions, extra limbs, cloned face, disfigured, gross proportions, malformed limbs, missing arms, missing legs, extra arms, extra legs, fused fingers, too many fingers, long neck\n"
     ]
    },
    {
     "data": {
      "text/html": [
       "<pre style=\"white-space:pre;overflow-x:auto;line-height:normal;font-family:Menlo,'DejaVu Sans Mono',consolas,'Courier New',monospace\">╭────┬────┬────┬────┬────┬────╮\n",
       "│<span style=\"font-weight: bold\">Tr X</span>│<span style=\"font-weight: bold\">Tr Y</span>│<span style=\"font-weight: bold\">Tr Z</span>│<span style=\"font-weight: bold\">Ro X</span>│<span style=\"font-weight: bold\">Ro Y</span>│<span style=\"font-weight: bold\">Ro Z</span>│\n",
       "├────┼────┼────┼────┼────┼────┤\n",
       "│0.0 │0.0 │0.0 │0.0 │0.0 │0.0 │\n",
       "╰────┴────┴────┴────┴────┴────╯\n",
       "</pre>\n"
      ],
      "text/plain": [
       "╭────┬────┬────┬────┬────┬────╮\n",
       "│\u001b[1mTr X\u001b[0m│\u001b[1mTr Y\u001b[0m│\u001b[1mTr Z\u001b[0m│\u001b[1mRo X\u001b[0m│\u001b[1mRo Y\u001b[0m│\u001b[1mRo Z\u001b[0m│\n",
       "├────┼────┼────┼────┼────┼────┤\n",
       "│0.0 │0.0 │0.0 │0.0 │0.0 │0.0 │\n",
       "╰────┴────┴────┴────┴────┴────╯\n"
      ]
     },
     "metadata": {},
     "output_type": "display_data"
    },
    {
     "data": {
      "text/html": [
       "<pre style=\"white-space:pre;overflow-x:auto;line-height:normal;font-family:Menlo,'DejaVu Sans Mono',consolas,'Courier New',monospace\">╭─────┬───┬───────╮\n",
       "│<span style=\"font-weight: bold\">Steps</span>│<span style=\"font-weight: bold\">CFG</span>│<span style=\"font-weight: bold\">Denoise</span>│\n",
       "├─────┼───┼───────┤\n",
       "│ 25  │7.0│ 0.25  │\n",
       "╰─────┴───┴───────╯\n",
       "</pre>\n"
      ],
      "text/plain": [
       "╭─────┬───┬───────╮\n",
       "│\u001b[1mSteps\u001b[0m│\u001b[1mCFG\u001b[0m│\u001b[1mDenoise\u001b[0m│\n",
       "├─────┼───┼───────┤\n",
       "│ 25  │7.0│ 0.25  │\n",
       "╰─────┴───┴───────╯\n"
      ]
     },
     "metadata": {},
     "output_type": "display_data"
    },
    {
     "name": "stderr",
     "output_type": "stream",
     "text": [
      "2023-03-07 09:18:42,711 - root - INFO - Calibrating color correction.\n"
     ]
    },
    {
     "data": {
      "application/vnd.jupyter.widget-view+json": {
       "model_id": "4065b2de89fb4a03bc9d9f49104e1522",
       "version_major": 2,
       "version_minor": 0
      },
      "text/plain": [
       "  0%|          | 0/7 [00:00<?, ?it/s]"
      ]
     },
     "metadata": {},
     "output_type": "display_data"
    },
    {
     "name": "stdout",
     "output_type": "stream",
     "text": []
    },
    {
     "name": "stderr",
     "output_type": "stream",
     "text": [
      "2023-03-07 09:18:45,552 - root - INFO - Applying color correction.\n"
     ]
    },
    {
     "name": "stdout",
     "output_type": "stream",
     "text": [
      "\u001b[36mAnimation frame: \u001b[0m32/104  \n",
      " Creating in-between frame: 24; tween:0.12;\n",
      " Creating in-between frame: 25; tween:0.25;\n",
      " Creating in-between frame: 26; tween:0.38;\n",
      " Creating in-between frame: 27; tween:0.50;\n",
      " Creating in-between frame: 28; tween:0.62;\n",
      " Creating in-between frame: 29; tween:0.75;\n",
      " Creating in-between frame: 30; tween:0.88;\n",
      " Creating in-between frame: 31; tween:1.00;\n",
      "\u001b[32mSeed: \u001b[0m3\n",
      "\u001b[35mPrompt: \u001b[0mstern look, shouldered man, john mitchell, graying hair, tall, mid, fifties, broad, beautiful picture, cinematic, high detailed, photorealistic\n",
      "\u001b[91mNeg Prompt: \u001b[0m(text), (deformed iris, deformed pupils, semi-realistic, cgi, 3d, render, sketch, cartoon, drawing, anime:1.4), close up, cropped, out of frame, worst quality, low quality, jpeg artifacts, ugly, duplicate, morbid, mutilated, extra fingers, mutated hands, poorly drawn hands, poorly drawn face, mutation, deformed, blurry, dehydrated, bad anatomy, bad proportions, extra limbs, cloned face, disfigured, gross proportions, malformed limbs, missing arms, missing legs, extra arms, extra legs, fused fingers, too many fingers, long neck\n"
     ]
    },
    {
     "data": {
      "text/html": [
       "<pre style=\"white-space:pre;overflow-x:auto;line-height:normal;font-family:Menlo,'DejaVu Sans Mono',consolas,'Courier New',monospace\">╭────┬────┬────┬────┬────┬────╮\n",
       "│<span style=\"font-weight: bold\">Tr X</span>│<span style=\"font-weight: bold\">Tr Y</span>│<span style=\"font-weight: bold\">Tr Z</span>│<span style=\"font-weight: bold\">Ro X</span>│<span style=\"font-weight: bold\">Ro Y</span>│<span style=\"font-weight: bold\">Ro Z</span>│\n",
       "├────┼────┼────┼────┼────┼────┤\n",
       "│0.0 │0.0 │0.0 │0.0 │0.0 │0.0 │\n",
       "╰────┴────┴────┴────┴────┴────╯\n",
       "</pre>\n"
      ],
      "text/plain": [
       "╭────┬────┬────┬────┬────┬────╮\n",
       "│\u001b[1mTr X\u001b[0m│\u001b[1mTr Y\u001b[0m│\u001b[1mTr Z\u001b[0m│\u001b[1mRo X\u001b[0m│\u001b[1mRo Y\u001b[0m│\u001b[1mRo Z\u001b[0m│\n",
       "├────┼────┼────┼────┼────┼────┤\n",
       "│0.0 │0.0 │0.0 │0.0 │0.0 │0.0 │\n",
       "╰────┴────┴────┴────┴────┴────╯\n"
      ]
     },
     "metadata": {},
     "output_type": "display_data"
    },
    {
     "data": {
      "text/html": [
       "<pre style=\"white-space:pre;overflow-x:auto;line-height:normal;font-family:Menlo,'DejaVu Sans Mono',consolas,'Courier New',monospace\">╭─────┬───┬───────╮\n",
       "│<span style=\"font-weight: bold\">Steps</span>│<span style=\"font-weight: bold\">CFG</span>│<span style=\"font-weight: bold\">Denoise</span>│\n",
       "├─────┼───┼───────┤\n",
       "│ 25  │7.0│ 0.25  │\n",
       "╰─────┴───┴───────╯\n",
       "</pre>\n"
      ],
      "text/plain": [
       "╭─────┬───┬───────╮\n",
       "│\u001b[1mSteps\u001b[0m│\u001b[1mCFG\u001b[0m│\u001b[1mDenoise\u001b[0m│\n",
       "├─────┼───┼───────┤\n",
       "│ 25  │7.0│ 0.25  │\n",
       "╰─────┴───┴───────╯\n"
      ]
     },
     "metadata": {},
     "output_type": "display_data"
    },
    {
     "name": "stderr",
     "output_type": "stream",
     "text": [
      "2023-03-07 09:18:49,516 - root - INFO - Calibrating color correction.\n"
     ]
    },
    {
     "data": {
      "application/vnd.jupyter.widget-view+json": {
       "model_id": "dc3e25b2ea3044ad85e1bf469ad2115d",
       "version_major": 2,
       "version_minor": 0
      },
      "text/plain": [
       "  0%|          | 0/7 [00:00<?, ?it/s]"
      ]
     },
     "metadata": {},
     "output_type": "display_data"
    },
    {
     "name": "stdout",
     "output_type": "stream",
     "text": []
    },
    {
     "name": "stderr",
     "output_type": "stream",
     "text": [
      "2023-03-07 09:18:52,283 - root - INFO - Applying color correction.\n"
     ]
    },
    {
     "name": "stdout",
     "output_type": "stream",
     "text": [
      "\u001b[36mAnimation frame: \u001b[0m40/104  \n",
      " Creating in-between frame: 32; tween:0.12;\n",
      " Creating in-between frame: 33; tween:0.25;\n",
      " Creating in-between frame: 34; tween:0.38;\n",
      " Creating in-between frame: 35; tween:0.50;\n",
      " Creating in-between frame: 36; tween:0.62;\n",
      " Creating in-between frame: 37; tween:0.75;\n",
      " Creating in-between frame: 38; tween:0.88;\n",
      " Creating in-between frame: 39; tween:1.00;\n",
      "\u001b[32mSeed: \u001b[0m4\n",
      "\u001b[35mPrompt: \u001b[0mstern look, shouldered man, john mitchell, graying hair, tall, mid, fifties, broad, beautiful picture, cinematic, high detailed, photorealistic\n",
      "\u001b[91mNeg Prompt: \u001b[0m(text), (deformed iris, deformed pupils, semi-realistic, cgi, 3d, render, sketch, cartoon, drawing, anime:1.4), close up, cropped, out of frame, worst quality, low quality, jpeg artifacts, ugly, duplicate, morbid, mutilated, extra fingers, mutated hands, poorly drawn hands, poorly drawn face, mutation, deformed, blurry, dehydrated, bad anatomy, bad proportions, extra limbs, cloned face, disfigured, gross proportions, malformed limbs, missing arms, missing legs, extra arms, extra legs, fused fingers, too many fingers, long neck\n"
     ]
    },
    {
     "data": {
      "text/html": [
       "<pre style=\"white-space:pre;overflow-x:auto;line-height:normal;font-family:Menlo,'DejaVu Sans Mono',consolas,'Courier New',monospace\">╭────┬────┬────┬────┬────┬────╮\n",
       "│<span style=\"font-weight: bold\">Tr X</span>│<span style=\"font-weight: bold\">Tr Y</span>│<span style=\"font-weight: bold\">Tr Z</span>│<span style=\"font-weight: bold\">Ro X</span>│<span style=\"font-weight: bold\">Ro Y</span>│<span style=\"font-weight: bold\">Ro Z</span>│\n",
       "├────┼────┼────┼────┼────┼────┤\n",
       "│0.0 │0.0 │0.0 │0.0 │0.0 │0.0 │\n",
       "╰────┴────┴────┴────┴────┴────╯\n",
       "</pre>\n"
      ],
      "text/plain": [
       "╭────┬────┬────┬────┬────┬────╮\n",
       "│\u001b[1mTr X\u001b[0m│\u001b[1mTr Y\u001b[0m│\u001b[1mTr Z\u001b[0m│\u001b[1mRo X\u001b[0m│\u001b[1mRo Y\u001b[0m│\u001b[1mRo Z\u001b[0m│\n",
       "├────┼────┼────┼────┼────┼────┤\n",
       "│0.0 │0.0 │0.0 │0.0 │0.0 │0.0 │\n",
       "╰────┴────┴────┴────┴────┴────╯\n"
      ]
     },
     "metadata": {},
     "output_type": "display_data"
    },
    {
     "data": {
      "text/html": [
       "<pre style=\"white-space:pre;overflow-x:auto;line-height:normal;font-family:Menlo,'DejaVu Sans Mono',consolas,'Courier New',monospace\">╭─────┬───┬───────╮\n",
       "│<span style=\"font-weight: bold\">Steps</span>│<span style=\"font-weight: bold\">CFG</span>│<span style=\"font-weight: bold\">Denoise</span>│\n",
       "├─────┼───┼───────┤\n",
       "│ 25  │7.0│ 0.25  │\n",
       "╰─────┴───┴───────╯\n",
       "</pre>\n"
      ],
      "text/plain": [
       "╭─────┬───┬───────╮\n",
       "│\u001b[1mSteps\u001b[0m│\u001b[1mCFG\u001b[0m│\u001b[1mDenoise\u001b[0m│\n",
       "├─────┼───┼───────┤\n",
       "│ 25  │7.0│ 0.25  │\n",
       "╰─────┴───┴───────╯\n"
      ]
     },
     "metadata": {},
     "output_type": "display_data"
    },
    {
     "name": "stderr",
     "output_type": "stream",
     "text": [
      "2023-03-07 09:18:56,171 - root - INFO - Calibrating color correction.\n"
     ]
    },
    {
     "data": {
      "application/vnd.jupyter.widget-view+json": {
       "model_id": "e7cd9762f908416ebc52ac3129cbf9ee",
       "version_major": 2,
       "version_minor": 0
      },
      "text/plain": [
       "  0%|          | 0/7 [00:00<?, ?it/s]"
      ]
     },
     "metadata": {},
     "output_type": "display_data"
    },
    {
     "name": "stdout",
     "output_type": "stream",
     "text": []
    },
    {
     "name": "stderr",
     "output_type": "stream",
     "text": [
      "2023-03-07 09:18:59,166 - root - INFO - Applying color correction.\n"
     ]
    },
    {
     "name": "stdout",
     "output_type": "stream",
     "text": [
      "\u001b[36mAnimation frame: \u001b[0m48/104  \n",
      " Creating in-between frame: 40; tween:0.12;\n",
      " Creating in-between frame: 41; tween:0.25;\n",
      " Creating in-between frame: 42; tween:0.38;\n",
      " Creating in-between frame: 43; tween:0.50;\n",
      " Creating in-between frame: 44; tween:0.62;\n",
      " Creating in-between frame: 45; tween:0.75;\n",
      " Creating in-between frame: 46; tween:0.88;\n",
      " Creating in-between frame: 47; tween:1.00;\n",
      "\u001b[32mSeed: \u001b[0m5\n",
      "\u001b[35mPrompt: \u001b[0mstern look, shouldered man, john mitchell, graying hair, tall, mid, fifties, broad, beautiful picture, cinematic, high detailed, photorealistic\n",
      "\u001b[91mNeg Prompt: \u001b[0m(text), (deformed iris, deformed pupils, semi-realistic, cgi, 3d, render, sketch, cartoon, drawing, anime:1.4), close up, cropped, out of frame, worst quality, low quality, jpeg artifacts, ugly, duplicate, morbid, mutilated, extra fingers, mutated hands, poorly drawn hands, poorly drawn face, mutation, deformed, blurry, dehydrated, bad anatomy, bad proportions, extra limbs, cloned face, disfigured, gross proportions, malformed limbs, missing arms, missing legs, extra arms, extra legs, fused fingers, too many fingers, long neck\n"
     ]
    },
    {
     "data": {
      "text/html": [
       "<pre style=\"white-space:pre;overflow-x:auto;line-height:normal;font-family:Menlo,'DejaVu Sans Mono',consolas,'Courier New',monospace\">╭────┬────┬────┬────┬────┬────╮\n",
       "│<span style=\"font-weight: bold\">Tr X</span>│<span style=\"font-weight: bold\">Tr Y</span>│<span style=\"font-weight: bold\">Tr Z</span>│<span style=\"font-weight: bold\">Ro X</span>│<span style=\"font-weight: bold\">Ro Y</span>│<span style=\"font-weight: bold\">Ro Z</span>│\n",
       "├────┼────┼────┼────┼────┼────┤\n",
       "│0.0 │0.0 │0.0 │0.0 │0.0 │0.0 │\n",
       "╰────┴────┴────┴────┴────┴────╯\n",
       "</pre>\n"
      ],
      "text/plain": [
       "╭────┬────┬────┬────┬────┬────╮\n",
       "│\u001b[1mTr X\u001b[0m│\u001b[1mTr Y\u001b[0m│\u001b[1mTr Z\u001b[0m│\u001b[1mRo X\u001b[0m│\u001b[1mRo Y\u001b[0m│\u001b[1mRo Z\u001b[0m│\n",
       "├────┼────┼────┼────┼────┼────┤\n",
       "│0.0 │0.0 │0.0 │0.0 │0.0 │0.0 │\n",
       "╰────┴────┴────┴────┴────┴────╯\n"
      ]
     },
     "metadata": {},
     "output_type": "display_data"
    },
    {
     "data": {
      "text/html": [
       "<pre style=\"white-space:pre;overflow-x:auto;line-height:normal;font-family:Menlo,'DejaVu Sans Mono',consolas,'Courier New',monospace\">╭─────┬───┬───────╮\n",
       "│<span style=\"font-weight: bold\">Steps</span>│<span style=\"font-weight: bold\">CFG</span>│<span style=\"font-weight: bold\">Denoise</span>│\n",
       "├─────┼───┼───────┤\n",
       "│ 25  │7.0│ 0.25  │\n",
       "╰─────┴───┴───────╯\n",
       "</pre>\n"
      ],
      "text/plain": [
       "╭─────┬───┬───────╮\n",
       "│\u001b[1mSteps\u001b[0m│\u001b[1mCFG\u001b[0m│\u001b[1mDenoise\u001b[0m│\n",
       "├─────┼───┼───────┤\n",
       "│ 25  │7.0│ 0.25  │\n",
       "╰─────┴───┴───────╯\n"
      ]
     },
     "metadata": {},
     "output_type": "display_data"
    },
    {
     "name": "stderr",
     "output_type": "stream",
     "text": [
      "2023-03-07 09:19:03,039 - root - INFO - Calibrating color correction.\n"
     ]
    },
    {
     "data": {
      "application/vnd.jupyter.widget-view+json": {
       "model_id": "a19d31818d05434aaf7962d5ce75c7b6",
       "version_major": 2,
       "version_minor": 0
      },
      "text/plain": [
       "  0%|          | 0/7 [00:00<?, ?it/s]"
      ]
     },
     "metadata": {},
     "output_type": "display_data"
    },
    {
     "name": "stdout",
     "output_type": "stream",
     "text": []
    },
    {
     "name": "stderr",
     "output_type": "stream",
     "text": [
      "2023-03-07 09:19:05,880 - root - INFO - Applying color correction.\n"
     ]
    },
    {
     "name": "stdout",
     "output_type": "stream",
     "text": [
      "\u001b[36mAnimation frame: \u001b[0m56/104  \n",
      " Creating in-between frame: 48; tween:0.12;\n",
      " Creating in-between frame: 49; tween:0.25;\n",
      " Creating in-between frame: 50; tween:0.38;\n",
      " Creating in-between frame: 51; tween:0.50;\n",
      " Creating in-between frame: 52; tween:0.62;\n",
      " Creating in-between frame: 53; tween:0.75;\n",
      " Creating in-between frame: 54; tween:0.88;\n",
      " Creating in-between frame: 55; tween:1.00;\n",
      "\u001b[32mSeed: \u001b[0m6\n",
      "\u001b[35mPrompt: \u001b[0mstern look, shouldered man, john mitchell, graying hair, tall, mid, fifties, broad, beautiful picture, cinematic, high detailed, photorealistic\n",
      "\u001b[91mNeg Prompt: \u001b[0m(text), (deformed iris, deformed pupils, semi-realistic, cgi, 3d, render, sketch, cartoon, drawing, anime:1.4), close up, cropped, out of frame, worst quality, low quality, jpeg artifacts, ugly, duplicate, morbid, mutilated, extra fingers, mutated hands, poorly drawn hands, poorly drawn face, mutation, deformed, blurry, dehydrated, bad anatomy, bad proportions, extra limbs, cloned face, disfigured, gross proportions, malformed limbs, missing arms, missing legs, extra arms, extra legs, fused fingers, too many fingers, long neck\n"
     ]
    },
    {
     "data": {
      "text/html": [
       "<pre style=\"white-space:pre;overflow-x:auto;line-height:normal;font-family:Menlo,'DejaVu Sans Mono',consolas,'Courier New',monospace\">╭────┬────┬────┬────┬────┬────╮\n",
       "│<span style=\"font-weight: bold\">Tr X</span>│<span style=\"font-weight: bold\">Tr Y</span>│<span style=\"font-weight: bold\">Tr Z</span>│<span style=\"font-weight: bold\">Ro X</span>│<span style=\"font-weight: bold\">Ro Y</span>│<span style=\"font-weight: bold\">Ro Z</span>│\n",
       "├────┼────┼────┼────┼────┼────┤\n",
       "│0.0 │0.0 │0.0 │0.0 │0.0 │0.0 │\n",
       "╰────┴────┴────┴────┴────┴────╯\n",
       "</pre>\n"
      ],
      "text/plain": [
       "╭────┬────┬────┬────┬────┬────╮\n",
       "│\u001b[1mTr X\u001b[0m│\u001b[1mTr Y\u001b[0m│\u001b[1mTr Z\u001b[0m│\u001b[1mRo X\u001b[0m│\u001b[1mRo Y\u001b[0m│\u001b[1mRo Z\u001b[0m│\n",
       "├────┼────┼────┼────┼────┼────┤\n",
       "│0.0 │0.0 │0.0 │0.0 │0.0 │0.0 │\n",
       "╰────┴────┴────┴────┴────┴────╯\n"
      ]
     },
     "metadata": {},
     "output_type": "display_data"
    },
    {
     "data": {
      "text/html": [
       "<pre style=\"white-space:pre;overflow-x:auto;line-height:normal;font-family:Menlo,'DejaVu Sans Mono',consolas,'Courier New',monospace\">╭─────┬───┬───────╮\n",
       "│<span style=\"font-weight: bold\">Steps</span>│<span style=\"font-weight: bold\">CFG</span>│<span style=\"font-weight: bold\">Denoise</span>│\n",
       "├─────┼───┼───────┤\n",
       "│ 25  │7.0│ 0.25  │\n",
       "╰─────┴───┴───────╯\n",
       "</pre>\n"
      ],
      "text/plain": [
       "╭─────┬───┬───────╮\n",
       "│\u001b[1mSteps\u001b[0m│\u001b[1mCFG\u001b[0m│\u001b[1mDenoise\u001b[0m│\n",
       "├─────┼───┼───────┤\n",
       "│ 25  │7.0│ 0.25  │\n",
       "╰─────┴───┴───────╯\n"
      ]
     },
     "metadata": {},
     "output_type": "display_data"
    },
    {
     "name": "stderr",
     "output_type": "stream",
     "text": [
      "2023-03-07 09:19:09,766 - root - INFO - Calibrating color correction.\n"
     ]
    },
    {
     "data": {
      "application/vnd.jupyter.widget-view+json": {
       "model_id": "39c446a4f83e423ebc48f30017fd93f5",
       "version_major": 2,
       "version_minor": 0
      },
      "text/plain": [
       "  0%|          | 0/7 [00:00<?, ?it/s]"
      ]
     },
     "metadata": {},
     "output_type": "display_data"
    },
    {
     "name": "stdout",
     "output_type": "stream",
     "text": []
    },
    {
     "name": "stderr",
     "output_type": "stream",
     "text": [
      "2023-03-07 09:19:12,524 - root - INFO - Applying color correction.\n"
     ]
    },
    {
     "name": "stdout",
     "output_type": "stream",
     "text": [
      "\u001b[36mAnimation frame: \u001b[0m64/104  \n",
      " Creating in-between frame: 56; tween:0.12;\n",
      " Creating in-between frame: 57; tween:0.25;\n",
      " Creating in-between frame: 58; tween:0.38;\n",
      " Creating in-between frame: 59; tween:0.50;\n",
      " Creating in-between frame: 60; tween:0.62;\n",
      " Creating in-between frame: 61; tween:0.75;\n",
      " Creating in-between frame: 62; tween:0.88;\n",
      " Creating in-between frame: 63; tween:1.00;\n",
      "\u001b[32mSeed: \u001b[0m7\n",
      "\u001b[35mPrompt: \u001b[0mstern look, shouldered man, john mitchell, graying hair, tall, mid, fifties, broad, beautiful picture, cinematic, high detailed, photorealistic\n",
      "\u001b[91mNeg Prompt: \u001b[0m(text), (deformed iris, deformed pupils, semi-realistic, cgi, 3d, render, sketch, cartoon, drawing, anime:1.4), close up, cropped, out of frame, worst quality, low quality, jpeg artifacts, ugly, duplicate, morbid, mutilated, extra fingers, mutated hands, poorly drawn hands, poorly drawn face, mutation, deformed, blurry, dehydrated, bad anatomy, bad proportions, extra limbs, cloned face, disfigured, gross proportions, malformed limbs, missing arms, missing legs, extra arms, extra legs, fused fingers, too many fingers, long neck\n"
     ]
    },
    {
     "data": {
      "text/html": [
       "<pre style=\"white-space:pre;overflow-x:auto;line-height:normal;font-family:Menlo,'DejaVu Sans Mono',consolas,'Courier New',monospace\">╭────┬────┬────┬────┬────┬────╮\n",
       "│<span style=\"font-weight: bold\">Tr X</span>│<span style=\"font-weight: bold\">Tr Y</span>│<span style=\"font-weight: bold\">Tr Z</span>│<span style=\"font-weight: bold\">Ro X</span>│<span style=\"font-weight: bold\">Ro Y</span>│<span style=\"font-weight: bold\">Ro Z</span>│\n",
       "├────┼────┼────┼────┼────┼────┤\n",
       "│0.0 │0.0 │0.0 │0.0 │0.0 │0.0 │\n",
       "╰────┴────┴────┴────┴────┴────╯\n",
       "</pre>\n"
      ],
      "text/plain": [
       "╭────┬────┬────┬────┬────┬────╮\n",
       "│\u001b[1mTr X\u001b[0m│\u001b[1mTr Y\u001b[0m│\u001b[1mTr Z\u001b[0m│\u001b[1mRo X\u001b[0m│\u001b[1mRo Y\u001b[0m│\u001b[1mRo Z\u001b[0m│\n",
       "├────┼────┼────┼────┼────┼────┤\n",
       "│0.0 │0.0 │0.0 │0.0 │0.0 │0.0 │\n",
       "╰────┴────┴────┴────┴────┴────╯\n"
      ]
     },
     "metadata": {},
     "output_type": "display_data"
    },
    {
     "data": {
      "text/html": [
       "<pre style=\"white-space:pre;overflow-x:auto;line-height:normal;font-family:Menlo,'DejaVu Sans Mono',consolas,'Courier New',monospace\">╭─────┬───┬───────╮\n",
       "│<span style=\"font-weight: bold\">Steps</span>│<span style=\"font-weight: bold\">CFG</span>│<span style=\"font-weight: bold\">Denoise</span>│\n",
       "├─────┼───┼───────┤\n",
       "│ 25  │7.0│  1.0  │\n",
       "╰─────┴───┴───────╯\n",
       "</pre>\n"
      ],
      "text/plain": [
       "╭─────┬───┬───────╮\n",
       "│\u001b[1mSteps\u001b[0m│\u001b[1mCFG\u001b[0m│\u001b[1mDenoise\u001b[0m│\n",
       "├─────┼───┼───────┤\n",
       "│ 25  │7.0│  1.0  │\n",
       "╰─────┴───┴───────╯\n"
      ]
     },
     "metadata": {},
     "output_type": "display_data"
    },
    {
     "name": "stderr",
     "output_type": "stream",
     "text": [
      "2023-03-07 09:19:16,581 - root - INFO - Calibrating color correction.\n"
     ]
    },
    {
     "data": {
      "application/vnd.jupyter.widget-view+json": {
       "model_id": "d7d891d8403f4f799085eb2936ef7434",
       "version_major": 2,
       "version_minor": 0
      },
      "text/plain": [
       "  0%|          | 0/25 [00:00<?, ?it/s]"
      ]
     },
     "metadata": {},
     "output_type": "display_data"
    },
    {
     "name": "stdout",
     "output_type": "stream",
     "text": []
    },
    {
     "name": "stderr",
     "output_type": "stream",
     "text": [
      "2023-03-07 09:19:25,707 - root - INFO - Applying color correction.\n"
     ]
    },
    {
     "name": "stdout",
     "output_type": "stream",
     "text": [
      "\u001b[36mAnimation frame: \u001b[0m72/104  \n",
      " Creating in-between frame: 64; tween:0.12;\n",
      " Creating in-between frame: 65; tween:0.25;\n",
      " Creating in-between frame: 66; tween:0.38;\n",
      " Creating in-between frame: 67; tween:0.50;\n",
      " Creating in-between frame: 68; tween:0.62;\n",
      " Creating in-between frame: 69; tween:0.75;\n",
      " Creating in-between frame: 70; tween:0.88;\n",
      " Creating in-between frame: 71; tween:1.00;\n",
      "\u001b[32mSeed: \u001b[0m8\n",
      "\u001b[35mPrompt: \u001b[0mstern look, shouldered man, john mitchell, graying hair, tall, mid, fifties, broad, beautiful picture, cinematic, high detailed, photorealistic\n",
      "\u001b[91mNeg Prompt: \u001b[0m(text), (deformed iris, deformed pupils, semi-realistic, cgi, 3d, render, sketch, cartoon, drawing, anime:1.4), close up, cropped, out of frame, worst quality, low quality, jpeg artifacts, ugly, duplicate, morbid, mutilated, extra fingers, mutated hands, poorly drawn hands, poorly drawn face, mutation, deformed, blurry, dehydrated, bad anatomy, bad proportions, extra limbs, cloned face, disfigured, gross proportions, malformed limbs, missing arms, missing legs, extra arms, extra legs, fused fingers, too many fingers, long neck\n"
     ]
    },
    {
     "data": {
      "text/html": [
       "<pre style=\"white-space:pre;overflow-x:auto;line-height:normal;font-family:Menlo,'DejaVu Sans Mono',consolas,'Courier New',monospace\">╭────┬────┬────┬────┬────┬────╮\n",
       "│<span style=\"font-weight: bold\">Tr X</span>│<span style=\"font-weight: bold\">Tr Y</span>│<span style=\"font-weight: bold\">Tr Z</span>│<span style=\"font-weight: bold\">Ro X</span>│<span style=\"font-weight: bold\">Ro Y</span>│<span style=\"font-weight: bold\">Ro Z</span>│\n",
       "├────┼────┼────┼────┼────┼────┤\n",
       "│0.0 │0.0 │0.0 │0.0 │0.0 │0.0 │\n",
       "╰────┴────┴────┴────┴────┴────╯\n",
       "</pre>\n"
      ],
      "text/plain": [
       "╭────┬────┬────┬────┬────┬────╮\n",
       "│\u001b[1mTr X\u001b[0m│\u001b[1mTr Y\u001b[0m│\u001b[1mTr Z\u001b[0m│\u001b[1mRo X\u001b[0m│\u001b[1mRo Y\u001b[0m│\u001b[1mRo Z\u001b[0m│\n",
       "├────┼────┼────┼────┼────┼────┤\n",
       "│0.0 │0.0 │0.0 │0.0 │0.0 │0.0 │\n",
       "╰────┴────┴────┴────┴────┴────╯\n"
      ]
     },
     "metadata": {},
     "output_type": "display_data"
    },
    {
     "data": {
      "text/html": [
       "<pre style=\"white-space:pre;overflow-x:auto;line-height:normal;font-family:Menlo,'DejaVu Sans Mono',consolas,'Courier New',monospace\">╭─────┬───┬───────╮\n",
       "│<span style=\"font-weight: bold\">Steps</span>│<span style=\"font-weight: bold\">CFG</span>│<span style=\"font-weight: bold\">Denoise</span>│\n",
       "├─────┼───┼───────┤\n",
       "│ 25  │7.0│ 0.25  │\n",
       "╰─────┴───┴───────╯\n",
       "</pre>\n"
      ],
      "text/plain": [
       "╭─────┬───┬───────╮\n",
       "│\u001b[1mSteps\u001b[0m│\u001b[1mCFG\u001b[0m│\u001b[1mDenoise\u001b[0m│\n",
       "├─────┼───┼───────┤\n",
       "│ 25  │7.0│ 0.25  │\n",
       "╰─────┴───┴───────╯\n"
      ]
     },
     "metadata": {},
     "output_type": "display_data"
    },
    {
     "name": "stderr",
     "output_type": "stream",
     "text": [
      "2023-03-07 09:19:29,718 - root - INFO - Calibrating color correction.\n"
     ]
    },
    {
     "data": {
      "application/vnd.jupyter.widget-view+json": {
       "model_id": "55b21482a54c4dda8cf87f81fd2134bc",
       "version_major": 2,
       "version_minor": 0
      },
      "text/plain": [
       "  0%|          | 0/7 [00:00<?, ?it/s]"
      ]
     },
     "metadata": {},
     "output_type": "display_data"
    },
    {
     "name": "stdout",
     "output_type": "stream",
     "text": []
    },
    {
     "name": "stderr",
     "output_type": "stream",
     "text": [
      "2023-03-07 09:19:32,484 - root - INFO - Applying color correction.\n"
     ]
    },
    {
     "name": "stdout",
     "output_type": "stream",
     "text": [
      "\u001b[36mAnimation frame: \u001b[0m80/104  \n",
      " Creating in-between frame: 72; tween:0.12;\n",
      " Creating in-between frame: 73; tween:0.25;\n",
      " Creating in-between frame: 74; tween:0.38;\n",
      " Creating in-between frame: 75; tween:0.50;\n",
      " Creating in-between frame: 76; tween:0.62;\n",
      " Creating in-between frame: 77; tween:0.75;\n",
      " Creating in-between frame: 78; tween:0.88;\n",
      " Creating in-between frame: 79; tween:1.00;\n",
      "\u001b[32mSeed: \u001b[0m9\n",
      "\u001b[35mPrompt: \u001b[0mstern look, shouldered man, john mitchell, graying hair, tall, mid, fifties, broad, beautiful picture, cinematic, high detailed, photorealistic\n",
      "\u001b[91mNeg Prompt: \u001b[0m(text), (deformed iris, deformed pupils, semi-realistic, cgi, 3d, render, sketch, cartoon, drawing, anime:1.4), close up, cropped, out of frame, worst quality, low quality, jpeg artifacts, ugly, duplicate, morbid, mutilated, extra fingers, mutated hands, poorly drawn hands, poorly drawn face, mutation, deformed, blurry, dehydrated, bad anatomy, bad proportions, extra limbs, cloned face, disfigured, gross proportions, malformed limbs, missing arms, missing legs, extra arms, extra legs, fused fingers, too many fingers, long neck\n"
     ]
    },
    {
     "data": {
      "text/html": [
       "<pre style=\"white-space:pre;overflow-x:auto;line-height:normal;font-family:Menlo,'DejaVu Sans Mono',consolas,'Courier New',monospace\">╭────┬────┬────┬────┬────┬────╮\n",
       "│<span style=\"font-weight: bold\">Tr X</span>│<span style=\"font-weight: bold\">Tr Y</span>│<span style=\"font-weight: bold\">Tr Z</span>│<span style=\"font-weight: bold\">Ro X</span>│<span style=\"font-weight: bold\">Ro Y</span>│<span style=\"font-weight: bold\">Ro Z</span>│\n",
       "├────┼────┼────┼────┼────┼────┤\n",
       "│0.0 │0.0 │0.0 │0.0 │0.0 │0.0 │\n",
       "╰────┴────┴────┴────┴────┴────╯\n",
       "</pre>\n"
      ],
      "text/plain": [
       "╭────┬────┬────┬────┬────┬────╮\n",
       "│\u001b[1mTr X\u001b[0m│\u001b[1mTr Y\u001b[0m│\u001b[1mTr Z\u001b[0m│\u001b[1mRo X\u001b[0m│\u001b[1mRo Y\u001b[0m│\u001b[1mRo Z\u001b[0m│\n",
       "├────┼────┼────┼────┼────┼────┤\n",
       "│0.0 │0.0 │0.0 │0.0 │0.0 │0.0 │\n",
       "╰────┴────┴────┴────┴────┴────╯\n"
      ]
     },
     "metadata": {},
     "output_type": "display_data"
    },
    {
     "data": {
      "text/html": [
       "<pre style=\"white-space:pre;overflow-x:auto;line-height:normal;font-family:Menlo,'DejaVu Sans Mono',consolas,'Courier New',monospace\">╭─────┬───┬───────╮\n",
       "│<span style=\"font-weight: bold\">Steps</span>│<span style=\"font-weight: bold\">CFG</span>│<span style=\"font-weight: bold\">Denoise</span>│\n",
       "├─────┼───┼───────┤\n",
       "│ 25  │7.0│ 0.25  │\n",
       "╰─────┴───┴───────╯\n",
       "</pre>\n"
      ],
      "text/plain": [
       "╭─────┬───┬───────╮\n",
       "│\u001b[1mSteps\u001b[0m│\u001b[1mCFG\u001b[0m│\u001b[1mDenoise\u001b[0m│\n",
       "├─────┼───┼───────┤\n",
       "│ 25  │7.0│ 0.25  │\n",
       "╰─────┴───┴───────╯\n"
      ]
     },
     "metadata": {},
     "output_type": "display_data"
    },
    {
     "name": "stderr",
     "output_type": "stream",
     "text": [
      "2023-03-07 09:19:36,509 - root - INFO - Calibrating color correction.\n"
     ]
    },
    {
     "data": {
      "application/vnd.jupyter.widget-view+json": {
       "model_id": "58fe9fa1616e4ce89943180ecf8b4f0e",
       "version_major": 2,
       "version_minor": 0
      },
      "text/plain": [
       "  0%|          | 0/7 [00:00<?, ?it/s]"
      ]
     },
     "metadata": {},
     "output_type": "display_data"
    },
    {
     "name": "stdout",
     "output_type": "stream",
     "text": []
    },
    {
     "name": "stderr",
     "output_type": "stream",
     "text": [
      "2023-03-07 09:19:39,454 - root - INFO - Applying color correction.\n"
     ]
    },
    {
     "name": "stdout",
     "output_type": "stream",
     "text": [
      "\u001b[36mAnimation frame: \u001b[0m88/104  \n",
      " Creating in-between frame: 80; tween:0.12;\n",
      " Creating in-between frame: 81; tween:0.25;\n",
      " Creating in-between frame: 82; tween:0.38;\n",
      " Creating in-between frame: 83; tween:0.50;\n",
      " Creating in-between frame: 84; tween:0.62;\n",
      " Creating in-between frame: 85; tween:0.75;\n",
      " Creating in-between frame: 86; tween:0.88;\n",
      " Creating in-between frame: 87; tween:1.00;\n",
      "\u001b[32mSeed: \u001b[0m10\n",
      "\u001b[35mPrompt: \u001b[0mstern look, shouldered man, john mitchell, graying hair, tall, mid, fifties, broad, beautiful picture, cinematic, high detailed, photorealistic\n",
      "\u001b[91mNeg Prompt: \u001b[0m(text), (deformed iris, deformed pupils, semi-realistic, cgi, 3d, render, sketch, cartoon, drawing, anime:1.4), close up, cropped, out of frame, worst quality, low quality, jpeg artifacts, ugly, duplicate, morbid, mutilated, extra fingers, mutated hands, poorly drawn hands, poorly drawn face, mutation, deformed, blurry, dehydrated, bad anatomy, bad proportions, extra limbs, cloned face, disfigured, gross proportions, malformed limbs, missing arms, missing legs, extra arms, extra legs, fused fingers, too many fingers, long neck\n"
     ]
    },
    {
     "data": {
      "text/html": [
       "<pre style=\"white-space:pre;overflow-x:auto;line-height:normal;font-family:Menlo,'DejaVu Sans Mono',consolas,'Courier New',monospace\">╭────┬────┬────┬────┬────┬────╮\n",
       "│<span style=\"font-weight: bold\">Tr X</span>│<span style=\"font-weight: bold\">Tr Y</span>│<span style=\"font-weight: bold\">Tr Z</span>│<span style=\"font-weight: bold\">Ro X</span>│<span style=\"font-weight: bold\">Ro Y</span>│<span style=\"font-weight: bold\">Ro Z</span>│\n",
       "├────┼────┼────┼────┼────┼────┤\n",
       "│0.0 │0.0 │0.0 │0.0 │0.0 │0.0 │\n",
       "╰────┴────┴────┴────┴────┴────╯\n",
       "</pre>\n"
      ],
      "text/plain": [
       "╭────┬────┬────┬────┬────┬────╮\n",
       "│\u001b[1mTr X\u001b[0m│\u001b[1mTr Y\u001b[0m│\u001b[1mTr Z\u001b[0m│\u001b[1mRo X\u001b[0m│\u001b[1mRo Y\u001b[0m│\u001b[1mRo Z\u001b[0m│\n",
       "├────┼────┼────┼────┼────┼────┤\n",
       "│0.0 │0.0 │0.0 │0.0 │0.0 │0.0 │\n",
       "╰────┴────┴────┴────┴────┴────╯\n"
      ]
     },
     "metadata": {},
     "output_type": "display_data"
    },
    {
     "data": {
      "text/html": [
       "<pre style=\"white-space:pre;overflow-x:auto;line-height:normal;font-family:Menlo,'DejaVu Sans Mono',consolas,'Courier New',monospace\">╭─────┬───┬───────╮\n",
       "│<span style=\"font-weight: bold\">Steps</span>│<span style=\"font-weight: bold\">CFG</span>│<span style=\"font-weight: bold\">Denoise</span>│\n",
       "├─────┼───┼───────┤\n",
       "│ 25  │7.0│ 0.25  │\n",
       "╰─────┴───┴───────╯\n",
       "</pre>\n"
      ],
      "text/plain": [
       "╭─────┬───┬───────╮\n",
       "│\u001b[1mSteps\u001b[0m│\u001b[1mCFG\u001b[0m│\u001b[1mDenoise\u001b[0m│\n",
       "├─────┼───┼───────┤\n",
       "│ 25  │7.0│ 0.25  │\n",
       "╰─────┴───┴───────╯\n"
      ]
     },
     "metadata": {},
     "output_type": "display_data"
    },
    {
     "name": "stderr",
     "output_type": "stream",
     "text": [
      "2023-03-07 09:19:43,309 - root - INFO - Calibrating color correction.\n"
     ]
    },
    {
     "data": {
      "application/vnd.jupyter.widget-view+json": {
       "model_id": "aa8d2dd8da62422e83fdb846564ae061",
       "version_major": 2,
       "version_minor": 0
      },
      "text/plain": [
       "  0%|          | 0/7 [00:00<?, ?it/s]"
      ]
     },
     "metadata": {},
     "output_type": "display_data"
    },
    {
     "name": "stdout",
     "output_type": "stream",
     "text": []
    },
    {
     "name": "stderr",
     "output_type": "stream",
     "text": [
      "2023-03-07 09:19:46,135 - root - INFO - Applying color correction.\n"
     ]
    },
    {
     "name": "stdout",
     "output_type": "stream",
     "text": [
      "\u001b[36mAnimation frame: \u001b[0m96/104  \n",
      " Creating in-between frame: 88; tween:0.12;\n",
      " Creating in-between frame: 89; tween:0.25;\n",
      " Creating in-between frame: 90; tween:0.38;\n",
      " Creating in-between frame: 91; tween:0.50;\n",
      " Creating in-between frame: 92; tween:0.62;\n",
      " Creating in-between frame: 93; tween:0.75;\n",
      " Creating in-between frame: 94; tween:0.88;\n",
      " Creating in-between frame: 95; tween:1.00;\n",
      "\u001b[32mSeed: \u001b[0m11\n",
      "\u001b[35mPrompt: \u001b[0mstern look, shouldered man, john mitchell, graying hair, tall, mid, fifties, broad, beautiful picture, cinematic, high detailed, photorealistic\n",
      "\u001b[91mNeg Prompt: \u001b[0m(text), (deformed iris, deformed pupils, semi-realistic, cgi, 3d, render, sketch, cartoon, drawing, anime:1.4), close up, cropped, out of frame, worst quality, low quality, jpeg artifacts, ugly, duplicate, morbid, mutilated, extra fingers, mutated hands, poorly drawn hands, poorly drawn face, mutation, deformed, blurry, dehydrated, bad anatomy, bad proportions, extra limbs, cloned face, disfigured, gross proportions, malformed limbs, missing arms, missing legs, extra arms, extra legs, fused fingers, too many fingers, long neck\n"
     ]
    },
    {
     "data": {
      "text/html": [
       "<pre style=\"white-space:pre;overflow-x:auto;line-height:normal;font-family:Menlo,'DejaVu Sans Mono',consolas,'Courier New',monospace\">╭────┬────┬────┬────┬────┬────╮\n",
       "│<span style=\"font-weight: bold\">Tr X</span>│<span style=\"font-weight: bold\">Tr Y</span>│<span style=\"font-weight: bold\">Tr Z</span>│<span style=\"font-weight: bold\">Ro X</span>│<span style=\"font-weight: bold\">Ro Y</span>│<span style=\"font-weight: bold\">Ro Z</span>│\n",
       "├────┼────┼────┼────┼────┼────┤\n",
       "│0.0 │0.0 │0.0 │0.0 │0.0 │0.0 │\n",
       "╰────┴────┴────┴────┴────┴────╯\n",
       "</pre>\n"
      ],
      "text/plain": [
       "╭────┬────┬────┬────┬────┬────╮\n",
       "│\u001b[1mTr X\u001b[0m│\u001b[1mTr Y\u001b[0m│\u001b[1mTr Z\u001b[0m│\u001b[1mRo X\u001b[0m│\u001b[1mRo Y\u001b[0m│\u001b[1mRo Z\u001b[0m│\n",
       "├────┼────┼────┼────┼────┼────┤\n",
       "│0.0 │0.0 │0.0 │0.0 │0.0 │0.0 │\n",
       "╰────┴────┴────┴────┴────┴────╯\n"
      ]
     },
     "metadata": {},
     "output_type": "display_data"
    },
    {
     "data": {
      "text/html": [
       "<pre style=\"white-space:pre;overflow-x:auto;line-height:normal;font-family:Menlo,'DejaVu Sans Mono',consolas,'Courier New',monospace\">╭─────┬───┬───────╮\n",
       "│<span style=\"font-weight: bold\">Steps</span>│<span style=\"font-weight: bold\">CFG</span>│<span style=\"font-weight: bold\">Denoise</span>│\n",
       "├─────┼───┼───────┤\n",
       "│ 25  │7.0│ 0.25  │\n",
       "╰─────┴───┴───────╯\n",
       "</pre>\n"
      ],
      "text/plain": [
       "╭─────┬───┬───────╮\n",
       "│\u001b[1mSteps\u001b[0m│\u001b[1mCFG\u001b[0m│\u001b[1mDenoise\u001b[0m│\n",
       "├─────┼───┼───────┤\n",
       "│ 25  │7.0│ 0.25  │\n",
       "╰─────┴───┴───────╯\n"
      ]
     },
     "metadata": {},
     "output_type": "display_data"
    },
    {
     "name": "stderr",
     "output_type": "stream",
     "text": [
      "2023-03-07 09:19:49,952 - root - INFO - Calibrating color correction.\n"
     ]
    },
    {
     "data": {
      "application/vnd.jupyter.widget-view+json": {
       "model_id": "35ab86e951644ac5807125d7908dee3d",
       "version_major": 2,
       "version_minor": 0
      },
      "text/plain": [
       "  0%|          | 0/7 [00:00<?, ?it/s]"
      ]
     },
     "metadata": {},
     "output_type": "display_data"
    },
    {
     "name": "stdout",
     "output_type": "stream",
     "text": []
    },
    {
     "name": "stderr",
     "output_type": "stream",
     "text": [
      "2023-03-07 09:19:52,735 - root - INFO - Applying color correction.\n"
     ]
    },
    {
     "name": "stdout",
     "output_type": "stream",
     "text": [
      "Deforum progress: 100%|██████████| 127/127 [01:35<00:00,  1.32it/s]\n",
      "Skipping video creation, uncheck skip_video_for_run_all if you want to run it\n",
      "text: He had a no-nonsense approach to his job, and was known for his razor-sharp intuition and detective skills.\n",
      "prompt: sharp intuition, nonsense approach, detective skills, razor, known, job\n",
      "index: 2\n",
      "Saving animation frames to:\n",
      "D://Deletar//p_gen//john test\\img\\0000002\n",
      "verify\n",
      "F:\\stable\\stable\\models/Deforum\n",
      "verify2\n",
      "True\n",
      "init\n",
      "<deforum_helpers.depth.DepthModel object at 0x00000259C29CDEB0>\n",
      "ending\n",
      "Loading base model ()...Done.\n",
      "Removing last two layers (global_pool & classifier).\n",
      "Building Encoder-Decoder model..Done.\n",
      "\u001b[36mAnimation frame: \u001b[0m0/112  \n",
      "\u001b[32mSeed: \u001b[0m-1\n",
      "\u001b[35mPrompt: \u001b[0msharp intuition, nonsense approach, detective skills, razor, known, job, beautiful picture, cinematic, high detailed, photorealistic\n",
      "\u001b[91mNeg Prompt: \u001b[0m(text), (deformed iris, deformed pupils, semi-realistic, cgi, 3d, render, sketch, cartoon, drawing, anime:1.4), close up, cropped, out of frame, worst quality, low quality, jpeg artifacts, ugly, duplicate, morbid, mutilated, extra fingers, mutated hands, poorly drawn hands, poorly drawn face, mutation, deformed, blurry, dehydrated, bad anatomy, bad proportions, extra limbs, cloned face, disfigured, gross proportions, malformed limbs, missing arms, missing legs, extra arms, extra legs, fused fingers, too many fingers, long neck\n"
     ]
    },
    {
     "data": {
      "text/html": [
       "<pre style=\"white-space:pre;overflow-x:auto;line-height:normal;font-family:Menlo,'DejaVu Sans Mono',consolas,'Courier New',monospace\">╭────┬────┬────┬────┬────┬────╮\n",
       "│<span style=\"font-weight: bold\">Tr X</span>│<span style=\"font-weight: bold\">Tr Y</span>│<span style=\"font-weight: bold\">Tr Z</span>│<span style=\"font-weight: bold\">Ro X</span>│<span style=\"font-weight: bold\">Ro Y</span>│<span style=\"font-weight: bold\">Ro Z</span>│\n",
       "├────┼────┼────┼────┼────┼────┤\n",
       "│0.0 │0.0 │0.0 │0.0 │0.0 │0.0 │\n",
       "╰────┴────┴────┴────┴────┴────╯\n",
       "</pre>\n"
      ],
      "text/plain": [
       "╭────┬────┬────┬────┬────┬────╮\n",
       "│\u001b[1mTr X\u001b[0m│\u001b[1mTr Y\u001b[0m│\u001b[1mTr Z\u001b[0m│\u001b[1mRo X\u001b[0m│\u001b[1mRo Y\u001b[0m│\u001b[1mRo Z\u001b[0m│\n",
       "├────┼────┼────┼────┼────┼────┤\n",
       "│0.0 │0.0 │0.0 │0.0 │0.0 │0.0 │\n",
       "╰────┴────┴────┴────┴────┴────╯\n"
      ]
     },
     "metadata": {},
     "output_type": "display_data"
    },
    {
     "name": "stdout",
     "output_type": "stream",
     "text": [
      "\n",
      "No init image, but strength > 0. Strength has been auto set to 0, since use_init is False.\n",
      "If you want to force strength > 0 with no init, please set strength_0_no_init to False.\n",
      "\n",
      "Not using an init image (doing pure txt2img)\n"
     ]
    },
    {
     "data": {
      "text/html": [
       "<pre style=\"white-space:pre;overflow-x:auto;line-height:normal;font-family:Menlo,'DejaVu Sans Mono',consolas,'Courier New',monospace\">╭─────┬───┬───────╮\n",
       "│<span style=\"font-weight: bold\">Steps</span>│<span style=\"font-weight: bold\">CFG</span>│<span style=\"font-weight: bold\">Denoise</span>│\n",
       "├─────┼───┼───────┤\n",
       "│ 25  │7.0│ None  │\n",
       "╰─────┴───┴───────╯\n",
       "</pre>\n"
      ],
      "text/plain": [
       "╭─────┬───┬───────╮\n",
       "│\u001b[1mSteps\u001b[0m│\u001b[1mCFG\u001b[0m│\u001b[1mDenoise\u001b[0m│\n",
       "├─────┼───┼───────┤\n",
       "│ 25  │7.0│ None  │\n",
       "╰─────┴───┴───────╯\n"
      ]
     },
     "metadata": {},
     "output_type": "display_data"
    },
    {
     "data": {
      "application/vnd.jupyter.widget-view+json": {
       "model_id": "1a28b90e89344f588a628dcad12ac722",
       "version_major": 2,
       "version_minor": 0
      },
      "text/plain": [
       "  0%|          | 0/25 [00:00<?, ?it/s]"
      ]
     },
     "metadata": {},
     "output_type": "display_data"
    },
    {
     "name": "stdout",
     "output_type": "stream",
     "text": [
      "\u001b[36mAnimation frame: \u001b[0m8/112  \n",
      " Creating in-between frame: 0; tween:0.12;\n",
      " Creating in-between frame: 1; tween:0.25;\n",
      " Creating in-between frame: 2; tween:0.38;\n",
      " Creating in-between frame: 3; tween:0.50;\n",
      " Creating in-between frame: 4; tween:0.62;\n",
      " Creating in-between frame: 5; tween:0.75;\n",
      " Creating in-between frame: 6; tween:0.88;\n",
      " Creating in-between frame: 7; tween:1.00;\n",
      "\u001b[32mSeed: \u001b[0m0\n",
      "\u001b[35mPrompt: \u001b[0msharp intuition, nonsense approach, detective skills, razor, known, job, beautiful picture, cinematic, high detailed, photorealistic\n",
      "\u001b[91mNeg Prompt: \u001b[0m(text), (deformed iris, deformed pupils, semi-realistic, cgi, 3d, render, sketch, cartoon, drawing, anime:1.4), close up, cropped, out of frame, worst quality, low quality, jpeg artifacts, ugly, duplicate, morbid, mutilated, extra fingers, mutated hands, poorly drawn hands, poorly drawn face, mutation, deformed, blurry, dehydrated, bad anatomy, bad proportions, extra limbs, cloned face, disfigured, gross proportions, malformed limbs, missing arms, missing legs, extra arms, extra legs, fused fingers, too many fingers, long neck\n"
     ]
    },
    {
     "data": {
      "text/html": [
       "<pre style=\"white-space:pre;overflow-x:auto;line-height:normal;font-family:Menlo,'DejaVu Sans Mono',consolas,'Courier New',monospace\">╭────┬────┬────┬────┬────┬────╮\n",
       "│<span style=\"font-weight: bold\">Tr X</span>│<span style=\"font-weight: bold\">Tr Y</span>│<span style=\"font-weight: bold\">Tr Z</span>│<span style=\"font-weight: bold\">Ro X</span>│<span style=\"font-weight: bold\">Ro Y</span>│<span style=\"font-weight: bold\">Ro Z</span>│\n",
       "├────┼────┼────┼────┼────┼────┤\n",
       "│0.0 │0.0 │0.0 │0.0 │0.0 │0.0 │\n",
       "╰────┴────┴────┴────┴────┴────╯\n",
       "</pre>\n"
      ],
      "text/plain": [
       "╭────┬────┬────┬────┬────┬────╮\n",
       "│\u001b[1mTr X\u001b[0m│\u001b[1mTr Y\u001b[0m│\u001b[1mTr Z\u001b[0m│\u001b[1mRo X\u001b[0m│\u001b[1mRo Y\u001b[0m│\u001b[1mRo Z\u001b[0m│\n",
       "├────┼────┼────┼────┼────┼────┤\n",
       "│0.0 │0.0 │0.0 │0.0 │0.0 │0.0 │\n",
       "╰────┴────┴────┴────┴────┴────╯\n"
      ]
     },
     "metadata": {},
     "output_type": "display_data"
    },
    {
     "data": {
      "text/html": [
       "<pre style=\"white-space:pre;overflow-x:auto;line-height:normal;font-family:Menlo,'DejaVu Sans Mono',consolas,'Courier New',monospace\">╭─────┬───┬───────╮\n",
       "│<span style=\"font-weight: bold\">Steps</span>│<span style=\"font-weight: bold\">CFG</span>│<span style=\"font-weight: bold\">Denoise</span>│\n",
       "├─────┼───┼───────┤\n",
       "│ 25  │7.0│ 0.25  │\n",
       "╰─────┴───┴───────╯\n",
       "</pre>\n"
      ],
      "text/plain": [
       "╭─────┬───┬───────╮\n",
       "│\u001b[1mSteps\u001b[0m│\u001b[1mCFG\u001b[0m│\u001b[1mDenoise\u001b[0m│\n",
       "├─────┼───┼───────┤\n",
       "│ 25  │7.0│ 0.25  │\n",
       "╰─────┴───┴───────╯\n"
      ]
     },
     "metadata": {},
     "output_type": "display_data"
    },
    {
     "name": "stderr",
     "output_type": "stream",
     "text": [
      "2023-03-07 09:20:11,133 - root - INFO - Calibrating color correction.\n"
     ]
    },
    {
     "data": {
      "application/vnd.jupyter.widget-view+json": {
       "model_id": "2b7333a732dc413a9672f43e67a3c32f",
       "version_major": 2,
       "version_minor": 0
      },
      "text/plain": [
       "  0%|          | 0/7 [00:00<?, ?it/s]"
      ]
     },
     "metadata": {},
     "output_type": "display_data"
    },
    {
     "name": "stdout",
     "output_type": "stream",
     "text": []
    },
    {
     "name": "stderr",
     "output_type": "stream",
     "text": [
      "2023-03-07 09:20:14,029 - root - INFO - Applying color correction.\n"
     ]
    },
    {
     "name": "stdout",
     "output_type": "stream",
     "text": [
      "\u001b[36mAnimation frame: \u001b[0m16/112  \n",
      " Creating in-between frame: 8; tween:0.12;\n",
      " Creating in-between frame: 9; tween:0.25;\n",
      " Creating in-between frame: 10; tween:0.38;\n",
      " Creating in-between frame: 11; tween:0.50;\n",
      " Creating in-between frame: 12; tween:0.62;\n",
      " Creating in-between frame: 13; tween:0.75;\n",
      " Creating in-between frame: 14; tween:0.88;\n",
      " Creating in-between frame: 15; tween:1.00;\n",
      "\u001b[32mSeed: \u001b[0m1\n",
      "\u001b[35mPrompt: \u001b[0msharp intuition, nonsense approach, detective skills, razor, known, job, beautiful picture, cinematic, high detailed, photorealistic\n",
      "\u001b[91mNeg Prompt: \u001b[0m(text), (deformed iris, deformed pupils, semi-realistic, cgi, 3d, render, sketch, cartoon, drawing, anime:1.4), close up, cropped, out of frame, worst quality, low quality, jpeg artifacts, ugly, duplicate, morbid, mutilated, extra fingers, mutated hands, poorly drawn hands, poorly drawn face, mutation, deformed, blurry, dehydrated, bad anatomy, bad proportions, extra limbs, cloned face, disfigured, gross proportions, malformed limbs, missing arms, missing legs, extra arms, extra legs, fused fingers, too many fingers, long neck\n"
     ]
    },
    {
     "data": {
      "text/html": [
       "<pre style=\"white-space:pre;overflow-x:auto;line-height:normal;font-family:Menlo,'DejaVu Sans Mono',consolas,'Courier New',monospace\">╭────┬────┬────┬────┬────┬────╮\n",
       "│<span style=\"font-weight: bold\">Tr X</span>│<span style=\"font-weight: bold\">Tr Y</span>│<span style=\"font-weight: bold\">Tr Z</span>│<span style=\"font-weight: bold\">Ro X</span>│<span style=\"font-weight: bold\">Ro Y</span>│<span style=\"font-weight: bold\">Ro Z</span>│\n",
       "├────┼────┼────┼────┼────┼────┤\n",
       "│0.0 │0.0 │0.0 │0.0 │0.0 │0.0 │\n",
       "╰────┴────┴────┴────┴────┴────╯\n",
       "</pre>\n"
      ],
      "text/plain": [
       "╭────┬────┬────┬────┬────┬────╮\n",
       "│\u001b[1mTr X\u001b[0m│\u001b[1mTr Y\u001b[0m│\u001b[1mTr Z\u001b[0m│\u001b[1mRo X\u001b[0m│\u001b[1mRo Y\u001b[0m│\u001b[1mRo Z\u001b[0m│\n",
       "├────┼────┼────┼────┼────┼────┤\n",
       "│0.0 │0.0 │0.0 │0.0 │0.0 │0.0 │\n",
       "╰────┴────┴────┴────┴────┴────╯\n"
      ]
     },
     "metadata": {},
     "output_type": "display_data"
    },
    {
     "data": {
      "text/html": [
       "<pre style=\"white-space:pre;overflow-x:auto;line-height:normal;font-family:Menlo,'DejaVu Sans Mono',consolas,'Courier New',monospace\">╭─────┬───┬───────╮\n",
       "│<span style=\"font-weight: bold\">Steps</span>│<span style=\"font-weight: bold\">CFG</span>│<span style=\"font-weight: bold\">Denoise</span>│\n",
       "├─────┼───┼───────┤\n",
       "│ 25  │7.0│ 0.25  │\n",
       "╰─────┴───┴───────╯\n",
       "</pre>\n"
      ],
      "text/plain": [
       "╭─────┬───┬───────╮\n",
       "│\u001b[1mSteps\u001b[0m│\u001b[1mCFG\u001b[0m│\u001b[1mDenoise\u001b[0m│\n",
       "├─────┼───┼───────┤\n",
       "│ 25  │7.0│ 0.25  │\n",
       "╰─────┴───┴───────╯\n"
      ]
     },
     "metadata": {},
     "output_type": "display_data"
    },
    {
     "name": "stderr",
     "output_type": "stream",
     "text": [
      "2023-03-07 09:20:18,000 - root - INFO - Calibrating color correction.\n"
     ]
    },
    {
     "data": {
      "application/vnd.jupyter.widget-view+json": {
       "model_id": "c4cc841b425f492c81efd3faa4aea8dc",
       "version_major": 2,
       "version_minor": 0
      },
      "text/plain": [
       "  0%|          | 0/7 [00:00<?, ?it/s]"
      ]
     },
     "metadata": {},
     "output_type": "display_data"
    },
    {
     "name": "stdout",
     "output_type": "stream",
     "text": []
    },
    {
     "name": "stderr",
     "output_type": "stream",
     "text": [
      "2023-03-07 09:20:20,833 - root - INFO - Applying color correction.\n"
     ]
    },
    {
     "name": "stdout",
     "output_type": "stream",
     "text": [
      "\u001b[36mAnimation frame: \u001b[0m24/112  \n",
      " Creating in-between frame: 16; tween:0.12;\n",
      " Creating in-between frame: 17; tween:0.25;\n",
      " Creating in-between frame: 18; tween:0.38;\n",
      " Creating in-between frame: 19; tween:0.50;\n",
      " Creating in-between frame: 20; tween:0.62;\n",
      " Creating in-between frame: 21; tween:0.75;\n",
      " Creating in-between frame: 22; tween:0.88;\n",
      " Creating in-between frame: 23; tween:1.00;\n",
      "\u001b[32mSeed: \u001b[0m2\n",
      "\u001b[35mPrompt: \u001b[0msharp intuition, nonsense approach, detective skills, razor, known, job, beautiful picture, cinematic, high detailed, photorealistic\n",
      "\u001b[91mNeg Prompt: \u001b[0m(text), (deformed iris, deformed pupils, semi-realistic, cgi, 3d, render, sketch, cartoon, drawing, anime:1.4), close up, cropped, out of frame, worst quality, low quality, jpeg artifacts, ugly, duplicate, morbid, mutilated, extra fingers, mutated hands, poorly drawn hands, poorly drawn face, mutation, deformed, blurry, dehydrated, bad anatomy, bad proportions, extra limbs, cloned face, disfigured, gross proportions, malformed limbs, missing arms, missing legs, extra arms, extra legs, fused fingers, too many fingers, long neck\n"
     ]
    },
    {
     "data": {
      "text/html": [
       "<pre style=\"white-space:pre;overflow-x:auto;line-height:normal;font-family:Menlo,'DejaVu Sans Mono',consolas,'Courier New',monospace\">╭────┬────┬────┬────┬────┬────╮\n",
       "│<span style=\"font-weight: bold\">Tr X</span>│<span style=\"font-weight: bold\">Tr Y</span>│<span style=\"font-weight: bold\">Tr Z</span>│<span style=\"font-weight: bold\">Ro X</span>│<span style=\"font-weight: bold\">Ro Y</span>│<span style=\"font-weight: bold\">Ro Z</span>│\n",
       "├────┼────┼────┼────┼────┼────┤\n",
       "│0.0 │0.0 │0.0 │0.0 │0.0 │0.0 │\n",
       "╰────┴────┴────┴────┴────┴────╯\n",
       "</pre>\n"
      ],
      "text/plain": [
       "╭────┬────┬────┬────┬────┬────╮\n",
       "│\u001b[1mTr X\u001b[0m│\u001b[1mTr Y\u001b[0m│\u001b[1mTr Z\u001b[0m│\u001b[1mRo X\u001b[0m│\u001b[1mRo Y\u001b[0m│\u001b[1mRo Z\u001b[0m│\n",
       "├────┼────┼────┼────┼────┼────┤\n",
       "│0.0 │0.0 │0.0 │0.0 │0.0 │0.0 │\n",
       "╰────┴────┴────┴────┴────┴────╯\n"
      ]
     },
     "metadata": {},
     "output_type": "display_data"
    },
    {
     "data": {
      "text/html": [
       "<pre style=\"white-space:pre;overflow-x:auto;line-height:normal;font-family:Menlo,'DejaVu Sans Mono',consolas,'Courier New',monospace\">╭─────┬───┬───────╮\n",
       "│<span style=\"font-weight: bold\">Steps</span>│<span style=\"font-weight: bold\">CFG</span>│<span style=\"font-weight: bold\">Denoise</span>│\n",
       "├─────┼───┼───────┤\n",
       "│ 25  │7.0│ 0.25  │\n",
       "╰─────┴───┴───────╯\n",
       "</pre>\n"
      ],
      "text/plain": [
       "╭─────┬───┬───────╮\n",
       "│\u001b[1mSteps\u001b[0m│\u001b[1mCFG\u001b[0m│\u001b[1mDenoise\u001b[0m│\n",
       "├─────┼───┼───────┤\n",
       "│ 25  │7.0│ 0.25  │\n",
       "╰─────┴───┴───────╯\n"
      ]
     },
     "metadata": {},
     "output_type": "display_data"
    },
    {
     "name": "stderr",
     "output_type": "stream",
     "text": [
      "2023-03-07 09:20:24,774 - root - INFO - Calibrating color correction.\n"
     ]
    },
    {
     "data": {
      "application/vnd.jupyter.widget-view+json": {
       "model_id": "146c8191fdb9426bb8ced6fa213e2172",
       "version_major": 2,
       "version_minor": 0
      },
      "text/plain": [
       "  0%|          | 0/7 [00:00<?, ?it/s]"
      ]
     },
     "metadata": {},
     "output_type": "display_data"
    },
    {
     "name": "stdout",
     "output_type": "stream",
     "text": []
    },
    {
     "name": "stderr",
     "output_type": "stream",
     "text": [
      "2023-03-07 09:20:27,578 - root - INFO - Applying color correction.\n"
     ]
    },
    {
     "name": "stdout",
     "output_type": "stream",
     "text": [
      "\u001b[36mAnimation frame: \u001b[0m32/112  \n",
      " Creating in-between frame: 24; tween:0.12;\n",
      " Creating in-between frame: 25; tween:0.25;\n",
      " Creating in-between frame: 26; tween:0.38;\n",
      " Creating in-between frame: 27; tween:0.50;\n",
      " Creating in-between frame: 28; tween:0.62;\n",
      " Creating in-between frame: 29; tween:0.75;\n",
      " Creating in-between frame: 30; tween:0.88;\n",
      " Creating in-between frame: 31; tween:1.00;\n",
      "\u001b[32mSeed: \u001b[0m3\n",
      "\u001b[35mPrompt: \u001b[0msharp intuition, nonsense approach, detective skills, razor, known, job, beautiful picture, cinematic, high detailed, photorealistic\n",
      "\u001b[91mNeg Prompt: \u001b[0m(text), (deformed iris, deformed pupils, semi-realistic, cgi, 3d, render, sketch, cartoon, drawing, anime:1.4), close up, cropped, out of frame, worst quality, low quality, jpeg artifacts, ugly, duplicate, morbid, mutilated, extra fingers, mutated hands, poorly drawn hands, poorly drawn face, mutation, deformed, blurry, dehydrated, bad anatomy, bad proportions, extra limbs, cloned face, disfigured, gross proportions, malformed limbs, missing arms, missing legs, extra arms, extra legs, fused fingers, too many fingers, long neck\n"
     ]
    },
    {
     "data": {
      "text/html": [
       "<pre style=\"white-space:pre;overflow-x:auto;line-height:normal;font-family:Menlo,'DejaVu Sans Mono',consolas,'Courier New',monospace\">╭────┬────┬────┬────┬────┬────╮\n",
       "│<span style=\"font-weight: bold\">Tr X</span>│<span style=\"font-weight: bold\">Tr Y</span>│<span style=\"font-weight: bold\">Tr Z</span>│<span style=\"font-weight: bold\">Ro X</span>│<span style=\"font-weight: bold\">Ro Y</span>│<span style=\"font-weight: bold\">Ro Z</span>│\n",
       "├────┼────┼────┼────┼────┼────┤\n",
       "│0.0 │0.0 │0.0 │0.0 │0.0 │0.0 │\n",
       "╰────┴────┴────┴────┴────┴────╯\n",
       "</pre>\n"
      ],
      "text/plain": [
       "╭────┬────┬────┬────┬────┬────╮\n",
       "│\u001b[1mTr X\u001b[0m│\u001b[1mTr Y\u001b[0m│\u001b[1mTr Z\u001b[0m│\u001b[1mRo X\u001b[0m│\u001b[1mRo Y\u001b[0m│\u001b[1mRo Z\u001b[0m│\n",
       "├────┼────┼────┼────┼────┼────┤\n",
       "│0.0 │0.0 │0.0 │0.0 │0.0 │0.0 │\n",
       "╰────┴────┴────┴────┴────┴────╯\n"
      ]
     },
     "metadata": {},
     "output_type": "display_data"
    },
    {
     "data": {
      "text/html": [
       "<pre style=\"white-space:pre;overflow-x:auto;line-height:normal;font-family:Menlo,'DejaVu Sans Mono',consolas,'Courier New',monospace\">╭─────┬───┬───────╮\n",
       "│<span style=\"font-weight: bold\">Steps</span>│<span style=\"font-weight: bold\">CFG</span>│<span style=\"font-weight: bold\">Denoise</span>│\n",
       "├─────┼───┼───────┤\n",
       "│ 25  │7.0│ 0.25  │\n",
       "╰─────┴───┴───────╯\n",
       "</pre>\n"
      ],
      "text/plain": [
       "╭─────┬───┬───────╮\n",
       "│\u001b[1mSteps\u001b[0m│\u001b[1mCFG\u001b[0m│\u001b[1mDenoise\u001b[0m│\n",
       "├─────┼───┼───────┤\n",
       "│ 25  │7.0│ 0.25  │\n",
       "╰─────┴───┴───────╯\n"
      ]
     },
     "metadata": {},
     "output_type": "display_data"
    },
    {
     "name": "stderr",
     "output_type": "stream",
     "text": [
      "2023-03-07 09:20:31,525 - root - INFO - Calibrating color correction.\n"
     ]
    },
    {
     "data": {
      "application/vnd.jupyter.widget-view+json": {
       "model_id": "75a5dbac186847a2b5f4526519be3b0e",
       "version_major": 2,
       "version_minor": 0
      },
      "text/plain": [
       "  0%|          | 0/7 [00:00<?, ?it/s]"
      ]
     },
     "metadata": {},
     "output_type": "display_data"
    },
    {
     "name": "stdout",
     "output_type": "stream",
     "text": []
    },
    {
     "name": "stderr",
     "output_type": "stream",
     "text": [
      "2023-03-07 09:20:34,481 - root - INFO - Applying color correction.\n"
     ]
    },
    {
     "name": "stdout",
     "output_type": "stream",
     "text": [
      "\u001b[36mAnimation frame: \u001b[0m40/112  \n",
      " Creating in-between frame: 32; tween:0.12;\n",
      " Creating in-between frame: 33; tween:0.25;\n",
      " Creating in-between frame: 34; tween:0.38;\n",
      " Creating in-between frame: 35; tween:0.50;\n",
      " Creating in-between frame: 36; tween:0.62;\n",
      " Creating in-between frame: 37; tween:0.75;\n",
      " Creating in-between frame: 38; tween:0.88;\n",
      " Creating in-between frame: 39; tween:1.00;\n",
      "\u001b[32mSeed: \u001b[0m4\n",
      "\u001b[35mPrompt: \u001b[0msharp intuition, nonsense approach, detective skills, razor, known, job, beautiful picture, cinematic, high detailed, photorealistic\n",
      "\u001b[91mNeg Prompt: \u001b[0m(text), (deformed iris, deformed pupils, semi-realistic, cgi, 3d, render, sketch, cartoon, drawing, anime:1.4), close up, cropped, out of frame, worst quality, low quality, jpeg artifacts, ugly, duplicate, morbid, mutilated, extra fingers, mutated hands, poorly drawn hands, poorly drawn face, mutation, deformed, blurry, dehydrated, bad anatomy, bad proportions, extra limbs, cloned face, disfigured, gross proportions, malformed limbs, missing arms, missing legs, extra arms, extra legs, fused fingers, too many fingers, long neck\n"
     ]
    },
    {
     "data": {
      "text/html": [
       "<pre style=\"white-space:pre;overflow-x:auto;line-height:normal;font-family:Menlo,'DejaVu Sans Mono',consolas,'Courier New',monospace\">╭────┬────┬────┬────┬────┬────╮\n",
       "│<span style=\"font-weight: bold\">Tr X</span>│<span style=\"font-weight: bold\">Tr Y</span>│<span style=\"font-weight: bold\">Tr Z</span>│<span style=\"font-weight: bold\">Ro X</span>│<span style=\"font-weight: bold\">Ro Y</span>│<span style=\"font-weight: bold\">Ro Z</span>│\n",
       "├────┼────┼────┼────┼────┼────┤\n",
       "│0.0 │0.0 │0.0 │0.0 │0.0 │0.0 │\n",
       "╰────┴────┴────┴────┴────┴────╯\n",
       "</pre>\n"
      ],
      "text/plain": [
       "╭────┬────┬────┬────┬────┬────╮\n",
       "│\u001b[1mTr X\u001b[0m│\u001b[1mTr Y\u001b[0m│\u001b[1mTr Z\u001b[0m│\u001b[1mRo X\u001b[0m│\u001b[1mRo Y\u001b[0m│\u001b[1mRo Z\u001b[0m│\n",
       "├────┼────┼────┼────┼────┼────┤\n",
       "│0.0 │0.0 │0.0 │0.0 │0.0 │0.0 │\n",
       "╰────┴────┴────┴────┴────┴────╯\n"
      ]
     },
     "metadata": {},
     "output_type": "display_data"
    },
    {
     "data": {
      "text/html": [
       "<pre style=\"white-space:pre;overflow-x:auto;line-height:normal;font-family:Menlo,'DejaVu Sans Mono',consolas,'Courier New',monospace\">╭─────┬───┬───────╮\n",
       "│<span style=\"font-weight: bold\">Steps</span>│<span style=\"font-weight: bold\">CFG</span>│<span style=\"font-weight: bold\">Denoise</span>│\n",
       "├─────┼───┼───────┤\n",
       "│ 25  │7.0│ 0.25  │\n",
       "╰─────┴───┴───────╯\n",
       "</pre>\n"
      ],
      "text/plain": [
       "╭─────┬───┬───────╮\n",
       "│\u001b[1mSteps\u001b[0m│\u001b[1mCFG\u001b[0m│\u001b[1mDenoise\u001b[0m│\n",
       "├─────┼───┼───────┤\n",
       "│ 25  │7.0│ 0.25  │\n",
       "╰─────┴───┴───────╯\n"
      ]
     },
     "metadata": {},
     "output_type": "display_data"
    },
    {
     "name": "stderr",
     "output_type": "stream",
     "text": [
      "2023-03-07 09:20:38,428 - root - INFO - Calibrating color correction.\n"
     ]
    },
    {
     "data": {
      "application/vnd.jupyter.widget-view+json": {
       "model_id": "bec82641a34a481d82c32c28b238c6da",
       "version_major": 2,
       "version_minor": 0
      },
      "text/plain": [
       "  0%|          | 0/7 [00:00<?, ?it/s]"
      ]
     },
     "metadata": {},
     "output_type": "display_data"
    },
    {
     "name": "stdout",
     "output_type": "stream",
     "text": []
    },
    {
     "name": "stderr",
     "output_type": "stream",
     "text": [
      "2023-03-07 09:20:41,243 - root - INFO - Applying color correction.\n"
     ]
    },
    {
     "name": "stdout",
     "output_type": "stream",
     "text": [
      "\u001b[36mAnimation frame: \u001b[0m48/112  \n",
      " Creating in-between frame: 40; tween:0.12;\n",
      " Creating in-between frame: 41; tween:0.25;\n",
      " Creating in-between frame: 42; tween:0.38;\n",
      " Creating in-between frame: 43; tween:0.50;\n",
      " Creating in-between frame: 44; tween:0.62;\n",
      " Creating in-between frame: 45; tween:0.75;\n",
      " Creating in-between frame: 46; tween:0.88;\n",
      " Creating in-between frame: 47; tween:1.00;\n",
      "\u001b[32mSeed: \u001b[0m5\n",
      "\u001b[35mPrompt: \u001b[0msharp intuition, nonsense approach, detective skills, razor, known, job, beautiful picture, cinematic, high detailed, photorealistic\n",
      "\u001b[91mNeg Prompt: \u001b[0m(text), (deformed iris, deformed pupils, semi-realistic, cgi, 3d, render, sketch, cartoon, drawing, anime:1.4), close up, cropped, out of frame, worst quality, low quality, jpeg artifacts, ugly, duplicate, morbid, mutilated, extra fingers, mutated hands, poorly drawn hands, poorly drawn face, mutation, deformed, blurry, dehydrated, bad anatomy, bad proportions, extra limbs, cloned face, disfigured, gross proportions, malformed limbs, missing arms, missing legs, extra arms, extra legs, fused fingers, too many fingers, long neck\n"
     ]
    },
    {
     "data": {
      "text/html": [
       "<pre style=\"white-space:pre;overflow-x:auto;line-height:normal;font-family:Menlo,'DejaVu Sans Mono',consolas,'Courier New',monospace\">╭────┬────┬────┬────┬────┬────╮\n",
       "│<span style=\"font-weight: bold\">Tr X</span>│<span style=\"font-weight: bold\">Tr Y</span>│<span style=\"font-weight: bold\">Tr Z</span>│<span style=\"font-weight: bold\">Ro X</span>│<span style=\"font-weight: bold\">Ro Y</span>│<span style=\"font-weight: bold\">Ro Z</span>│\n",
       "├────┼────┼────┼────┼────┼────┤\n",
       "│0.0 │0.0 │0.0 │0.0 │0.0 │0.0 │\n",
       "╰────┴────┴────┴────┴────┴────╯\n",
       "</pre>\n"
      ],
      "text/plain": [
       "╭────┬────┬────┬────┬────┬────╮\n",
       "│\u001b[1mTr X\u001b[0m│\u001b[1mTr Y\u001b[0m│\u001b[1mTr Z\u001b[0m│\u001b[1mRo X\u001b[0m│\u001b[1mRo Y\u001b[0m│\u001b[1mRo Z\u001b[0m│\n",
       "├────┼────┼────┼────┼────┼────┤\n",
       "│0.0 │0.0 │0.0 │0.0 │0.0 │0.0 │\n",
       "╰────┴────┴────┴────┴────┴────╯\n"
      ]
     },
     "metadata": {},
     "output_type": "display_data"
    },
    {
     "data": {
      "text/html": [
       "<pre style=\"white-space:pre;overflow-x:auto;line-height:normal;font-family:Menlo,'DejaVu Sans Mono',consolas,'Courier New',monospace\">╭─────┬───┬───────╮\n",
       "│<span style=\"font-weight: bold\">Steps</span>│<span style=\"font-weight: bold\">CFG</span>│<span style=\"font-weight: bold\">Denoise</span>│\n",
       "├─────┼───┼───────┤\n",
       "│ 25  │7.0│ 0.25  │\n",
       "╰─────┴───┴───────╯\n",
       "</pre>\n"
      ],
      "text/plain": [
       "╭─────┬───┬───────╮\n",
       "│\u001b[1mSteps\u001b[0m│\u001b[1mCFG\u001b[0m│\u001b[1mDenoise\u001b[0m│\n",
       "├─────┼───┼───────┤\n",
       "│ 25  │7.0│ 0.25  │\n",
       "╰─────┴───┴───────╯\n"
      ]
     },
     "metadata": {},
     "output_type": "display_data"
    },
    {
     "name": "stderr",
     "output_type": "stream",
     "text": [
      "2023-03-07 09:20:45,105 - root - INFO - Calibrating color correction.\n"
     ]
    },
    {
     "data": {
      "application/vnd.jupyter.widget-view+json": {
       "model_id": "20d9349a9c8a43208ad3609af62e2bef",
       "version_major": 2,
       "version_minor": 0
      },
      "text/plain": [
       "  0%|          | 0/7 [00:00<?, ?it/s]"
      ]
     },
     "metadata": {},
     "output_type": "display_data"
    },
    {
     "name": "stdout",
     "output_type": "stream",
     "text": []
    },
    {
     "name": "stderr",
     "output_type": "stream",
     "text": [
      "2023-03-07 09:20:47,870 - root - INFO - Applying color correction.\n"
     ]
    },
    {
     "name": "stdout",
     "output_type": "stream",
     "text": [
      "\u001b[36mAnimation frame: \u001b[0m56/112  \n",
      " Creating in-between frame: 48; tween:0.12;\n",
      " Creating in-between frame: 49; tween:0.25;\n",
      " Creating in-between frame: 50; tween:0.38;\n",
      " Creating in-between frame: 51; tween:0.50;\n",
      " Creating in-between frame: 52; tween:0.62;\n",
      " Creating in-between frame: 53; tween:0.75;\n",
      " Creating in-between frame: 54; tween:0.88;\n",
      " Creating in-between frame: 55; tween:1.00;\n",
      "\u001b[32mSeed: \u001b[0m6\n",
      "\u001b[35mPrompt: \u001b[0msharp intuition, nonsense approach, detective skills, razor, known, job, beautiful picture, cinematic, high detailed, photorealistic\n",
      "\u001b[91mNeg Prompt: \u001b[0m(text), (deformed iris, deformed pupils, semi-realistic, cgi, 3d, render, sketch, cartoon, drawing, anime:1.4), close up, cropped, out of frame, worst quality, low quality, jpeg artifacts, ugly, duplicate, morbid, mutilated, extra fingers, mutated hands, poorly drawn hands, poorly drawn face, mutation, deformed, blurry, dehydrated, bad anatomy, bad proportions, extra limbs, cloned face, disfigured, gross proportions, malformed limbs, missing arms, missing legs, extra arms, extra legs, fused fingers, too many fingers, long neck\n"
     ]
    },
    {
     "data": {
      "text/html": [
       "<pre style=\"white-space:pre;overflow-x:auto;line-height:normal;font-family:Menlo,'DejaVu Sans Mono',consolas,'Courier New',monospace\">╭────┬────┬────┬────┬────┬────╮\n",
       "│<span style=\"font-weight: bold\">Tr X</span>│<span style=\"font-weight: bold\">Tr Y</span>│<span style=\"font-weight: bold\">Tr Z</span>│<span style=\"font-weight: bold\">Ro X</span>│<span style=\"font-weight: bold\">Ro Y</span>│<span style=\"font-weight: bold\">Ro Z</span>│\n",
       "├────┼────┼────┼────┼────┼────┤\n",
       "│0.0 │0.0 │0.0 │0.0 │0.0 │0.0 │\n",
       "╰────┴────┴────┴────┴────┴────╯\n",
       "</pre>\n"
      ],
      "text/plain": [
       "╭────┬────┬────┬────┬────┬────╮\n",
       "│\u001b[1mTr X\u001b[0m│\u001b[1mTr Y\u001b[0m│\u001b[1mTr Z\u001b[0m│\u001b[1mRo X\u001b[0m│\u001b[1mRo Y\u001b[0m│\u001b[1mRo Z\u001b[0m│\n",
       "├────┼────┼────┼────┼────┼────┤\n",
       "│0.0 │0.0 │0.0 │0.0 │0.0 │0.0 │\n",
       "╰────┴────┴────┴────┴────┴────╯\n"
      ]
     },
     "metadata": {},
     "output_type": "display_data"
    },
    {
     "data": {
      "text/html": [
       "<pre style=\"white-space:pre;overflow-x:auto;line-height:normal;font-family:Menlo,'DejaVu Sans Mono',consolas,'Courier New',monospace\">╭─────┬───┬───────╮\n",
       "│<span style=\"font-weight: bold\">Steps</span>│<span style=\"font-weight: bold\">CFG</span>│<span style=\"font-weight: bold\">Denoise</span>│\n",
       "├─────┼───┼───────┤\n",
       "│ 25  │7.0│ 0.25  │\n",
       "╰─────┴───┴───────╯\n",
       "</pre>\n"
      ],
      "text/plain": [
       "╭─────┬───┬───────╮\n",
       "│\u001b[1mSteps\u001b[0m│\u001b[1mCFG\u001b[0m│\u001b[1mDenoise\u001b[0m│\n",
       "├─────┼───┼───────┤\n",
       "│ 25  │7.0│ 0.25  │\n",
       "╰─────┴───┴───────╯\n"
      ]
     },
     "metadata": {},
     "output_type": "display_data"
    },
    {
     "name": "stderr",
     "output_type": "stream",
     "text": [
      "2023-03-07 09:20:51,753 - root - INFO - Calibrating color correction.\n"
     ]
    },
    {
     "data": {
      "application/vnd.jupyter.widget-view+json": {
       "model_id": "edb441699948473a9fe2fbb46a7617dd",
       "version_major": 2,
       "version_minor": 0
      },
      "text/plain": [
       "  0%|          | 0/7 [00:00<?, ?it/s]"
      ]
     },
     "metadata": {},
     "output_type": "display_data"
    },
    {
     "name": "stdout",
     "output_type": "stream",
     "text": []
    },
    {
     "name": "stderr",
     "output_type": "stream",
     "text": [
      "2023-03-07 09:20:54,776 - root - INFO - Applying color correction.\n"
     ]
    },
    {
     "name": "stdout",
     "output_type": "stream",
     "text": [
      "\u001b[36mAnimation frame: \u001b[0m64/112  \n",
      " Creating in-between frame: 56; tween:0.12;\n",
      " Creating in-between frame: 57; tween:0.25;\n",
      " Creating in-between frame: 58; tween:0.38;\n",
      " Creating in-between frame: 59; tween:0.50;\n",
      " Creating in-between frame: 60; tween:0.62;\n",
      " Creating in-between frame: 61; tween:0.75;\n",
      " Creating in-between frame: 62; tween:0.88;\n",
      " Creating in-between frame: 63; tween:1.00;\n",
      "\u001b[32mSeed: \u001b[0m7\n",
      "\u001b[35mPrompt: \u001b[0msharp intuition, nonsense approach, detective skills, razor, known, job, beautiful picture, cinematic, high detailed, photorealistic\n",
      "\u001b[91mNeg Prompt: \u001b[0m(text), (deformed iris, deformed pupils, semi-realistic, cgi, 3d, render, sketch, cartoon, drawing, anime:1.4), close up, cropped, out of frame, worst quality, low quality, jpeg artifacts, ugly, duplicate, morbid, mutilated, extra fingers, mutated hands, poorly drawn hands, poorly drawn face, mutation, deformed, blurry, dehydrated, bad anatomy, bad proportions, extra limbs, cloned face, disfigured, gross proportions, malformed limbs, missing arms, missing legs, extra arms, extra legs, fused fingers, too many fingers, long neck\n"
     ]
    },
    {
     "data": {
      "text/html": [
       "<pre style=\"white-space:pre;overflow-x:auto;line-height:normal;font-family:Menlo,'DejaVu Sans Mono',consolas,'Courier New',monospace\">╭────┬────┬────┬────┬────┬────╮\n",
       "│<span style=\"font-weight: bold\">Tr X</span>│<span style=\"font-weight: bold\">Tr Y</span>│<span style=\"font-weight: bold\">Tr Z</span>│<span style=\"font-weight: bold\">Ro X</span>│<span style=\"font-weight: bold\">Ro Y</span>│<span style=\"font-weight: bold\">Ro Z</span>│\n",
       "├────┼────┼────┼────┼────┼────┤\n",
       "│0.0 │0.0 │0.0 │0.0 │0.0 │0.0 │\n",
       "╰────┴────┴────┴────┴────┴────╯\n",
       "</pre>\n"
      ],
      "text/plain": [
       "╭────┬────┬────┬────┬────┬────╮\n",
       "│\u001b[1mTr X\u001b[0m│\u001b[1mTr Y\u001b[0m│\u001b[1mTr Z\u001b[0m│\u001b[1mRo X\u001b[0m│\u001b[1mRo Y\u001b[0m│\u001b[1mRo Z\u001b[0m│\n",
       "├────┼────┼────┼────┼────┼────┤\n",
       "│0.0 │0.0 │0.0 │0.0 │0.0 │0.0 │\n",
       "╰────┴────┴────┴────┴────┴────╯\n"
      ]
     },
     "metadata": {},
     "output_type": "display_data"
    },
    {
     "data": {
      "text/html": [
       "<pre style=\"white-space:pre;overflow-x:auto;line-height:normal;font-family:Menlo,'DejaVu Sans Mono',consolas,'Courier New',monospace\">╭─────┬───┬───────╮\n",
       "│<span style=\"font-weight: bold\">Steps</span>│<span style=\"font-weight: bold\">CFG</span>│<span style=\"font-weight: bold\">Denoise</span>│\n",
       "├─────┼───┼───────┤\n",
       "│ 25  │7.0│  1.0  │\n",
       "╰─────┴───┴───────╯\n",
       "</pre>\n"
      ],
      "text/plain": [
       "╭─────┬───┬───────╮\n",
       "│\u001b[1mSteps\u001b[0m│\u001b[1mCFG\u001b[0m│\u001b[1mDenoise\u001b[0m│\n",
       "├─────┼───┼───────┤\n",
       "│ 25  │7.0│  1.0  │\n",
       "╰─────┴───┴───────╯\n"
      ]
     },
     "metadata": {},
     "output_type": "display_data"
    },
    {
     "name": "stderr",
     "output_type": "stream",
     "text": [
      "2023-03-07 09:20:58,767 - root - INFO - Calibrating color correction.\n"
     ]
    },
    {
     "data": {
      "application/vnd.jupyter.widget-view+json": {
       "model_id": "500ed4e35c4641d890fd82c3f5fc9fdb",
       "version_major": 2,
       "version_minor": 0
      },
      "text/plain": [
       "  0%|          | 0/25 [00:00<?, ?it/s]"
      ]
     },
     "metadata": {},
     "output_type": "display_data"
    },
    {
     "name": "stdout",
     "output_type": "stream",
     "text": []
    },
    {
     "name": "stderr",
     "output_type": "stream",
     "text": [
      "2023-03-07 09:21:07,603 - root - INFO - Applying color correction.\n"
     ]
    },
    {
     "name": "stdout",
     "output_type": "stream",
     "text": [
      "\u001b[36mAnimation frame: \u001b[0m72/112  \n",
      " Creating in-between frame: 64; tween:0.12;\n",
      " Creating in-between frame: 65; tween:0.25;\n",
      " Creating in-between frame: 66; tween:0.38;\n",
      " Creating in-between frame: 67; tween:0.50;\n",
      " Creating in-between frame: 68; tween:0.62;\n",
      " Creating in-between frame: 69; tween:0.75;\n",
      " Creating in-between frame: 70; tween:0.88;\n",
      " Creating in-between frame: 71; tween:1.00;\n",
      "\u001b[32mSeed: \u001b[0m8\n",
      "\u001b[35mPrompt: \u001b[0msharp intuition, nonsense approach, detective skills, razor, known, job, beautiful picture, cinematic, high detailed, photorealistic\n",
      "\u001b[91mNeg Prompt: \u001b[0m(text), (deformed iris, deformed pupils, semi-realistic, cgi, 3d, render, sketch, cartoon, drawing, anime:1.4), close up, cropped, out of frame, worst quality, low quality, jpeg artifacts, ugly, duplicate, morbid, mutilated, extra fingers, mutated hands, poorly drawn hands, poorly drawn face, mutation, deformed, blurry, dehydrated, bad anatomy, bad proportions, extra limbs, cloned face, disfigured, gross proportions, malformed limbs, missing arms, missing legs, extra arms, extra legs, fused fingers, too many fingers, long neck\n"
     ]
    },
    {
     "data": {
      "text/html": [
       "<pre style=\"white-space:pre;overflow-x:auto;line-height:normal;font-family:Menlo,'DejaVu Sans Mono',consolas,'Courier New',monospace\">╭────┬────┬────┬────┬────┬────╮\n",
       "│<span style=\"font-weight: bold\">Tr X</span>│<span style=\"font-weight: bold\">Tr Y</span>│<span style=\"font-weight: bold\">Tr Z</span>│<span style=\"font-weight: bold\">Ro X</span>│<span style=\"font-weight: bold\">Ro Y</span>│<span style=\"font-weight: bold\">Ro Z</span>│\n",
       "├────┼────┼────┼────┼────┼────┤\n",
       "│0.0 │0.0 │0.0 │0.0 │0.0 │0.0 │\n",
       "╰────┴────┴────┴────┴────┴────╯\n",
       "</pre>\n"
      ],
      "text/plain": [
       "╭────┬────┬────┬────┬────┬────╮\n",
       "│\u001b[1mTr X\u001b[0m│\u001b[1mTr Y\u001b[0m│\u001b[1mTr Z\u001b[0m│\u001b[1mRo X\u001b[0m│\u001b[1mRo Y\u001b[0m│\u001b[1mRo Z\u001b[0m│\n",
       "├────┼────┼────┼────┼────┼────┤\n",
       "│0.0 │0.0 │0.0 │0.0 │0.0 │0.0 │\n",
       "╰────┴────┴────┴────┴────┴────╯\n"
      ]
     },
     "metadata": {},
     "output_type": "display_data"
    },
    {
     "data": {
      "text/html": [
       "<pre style=\"white-space:pre;overflow-x:auto;line-height:normal;font-family:Menlo,'DejaVu Sans Mono',consolas,'Courier New',monospace\">╭─────┬───┬───────╮\n",
       "│<span style=\"font-weight: bold\">Steps</span>│<span style=\"font-weight: bold\">CFG</span>│<span style=\"font-weight: bold\">Denoise</span>│\n",
       "├─────┼───┼───────┤\n",
       "│ 25  │7.0│ 0.25  │\n",
       "╰─────┴───┴───────╯\n",
       "</pre>\n"
      ],
      "text/plain": [
       "╭─────┬───┬───────╮\n",
       "│\u001b[1mSteps\u001b[0m│\u001b[1mCFG\u001b[0m│\u001b[1mDenoise\u001b[0m│\n",
       "├─────┼───┼───────┤\n",
       "│ 25  │7.0│ 0.25  │\n",
       "╰─────┴───┴───────╯\n"
      ]
     },
     "metadata": {},
     "output_type": "display_data"
    },
    {
     "name": "stderr",
     "output_type": "stream",
     "text": [
      "2023-03-07 09:21:12,005 - root - INFO - Calibrating color correction.\n"
     ]
    },
    {
     "data": {
      "application/vnd.jupyter.widget-view+json": {
       "model_id": "9eff28f053274bae85c7d4ebc994f388",
       "version_major": 2,
       "version_minor": 0
      },
      "text/plain": [
       "  0%|          | 0/7 [00:00<?, ?it/s]"
      ]
     },
     "metadata": {},
     "output_type": "display_data"
    },
    {
     "name": "stdout",
     "output_type": "stream",
     "text": []
    },
    {
     "name": "stderr",
     "output_type": "stream",
     "text": [
      "2023-03-07 09:21:14,994 - root - INFO - Applying color correction.\n"
     ]
    },
    {
     "name": "stdout",
     "output_type": "stream",
     "text": [
      "\u001b[36mAnimation frame: \u001b[0m80/112  \n",
      " Creating in-between frame: 72; tween:0.12;\n",
      " Creating in-between frame: 73; tween:0.25;\n",
      " Creating in-between frame: 74; tween:0.38;\n",
      " Creating in-between frame: 75; tween:0.50;\n",
      " Creating in-between frame: 76; tween:0.62;\n",
      " Creating in-between frame: 77; tween:0.75;\n",
      " Creating in-between frame: 78; tween:0.88;\n",
      " Creating in-between frame: 79; tween:1.00;\n",
      "\u001b[32mSeed: \u001b[0m9\n",
      "\u001b[35mPrompt: \u001b[0msharp intuition, nonsense approach, detective skills, razor, known, job, beautiful picture, cinematic, high detailed, photorealistic\n",
      "\u001b[91mNeg Prompt: \u001b[0m(text), (deformed iris, deformed pupils, semi-realistic, cgi, 3d, render, sketch, cartoon, drawing, anime:1.4), close up, cropped, out of frame, worst quality, low quality, jpeg artifacts, ugly, duplicate, morbid, mutilated, extra fingers, mutated hands, poorly drawn hands, poorly drawn face, mutation, deformed, blurry, dehydrated, bad anatomy, bad proportions, extra limbs, cloned face, disfigured, gross proportions, malformed limbs, missing arms, missing legs, extra arms, extra legs, fused fingers, too many fingers, long neck\n"
     ]
    },
    {
     "data": {
      "text/html": [
       "<pre style=\"white-space:pre;overflow-x:auto;line-height:normal;font-family:Menlo,'DejaVu Sans Mono',consolas,'Courier New',monospace\">╭────┬────┬────┬────┬────┬────╮\n",
       "│<span style=\"font-weight: bold\">Tr X</span>│<span style=\"font-weight: bold\">Tr Y</span>│<span style=\"font-weight: bold\">Tr Z</span>│<span style=\"font-weight: bold\">Ro X</span>│<span style=\"font-weight: bold\">Ro Y</span>│<span style=\"font-weight: bold\">Ro Z</span>│\n",
       "├────┼────┼────┼────┼────┼────┤\n",
       "│0.0 │0.0 │0.0 │0.0 │0.0 │0.0 │\n",
       "╰────┴────┴────┴────┴────┴────╯\n",
       "</pre>\n"
      ],
      "text/plain": [
       "╭────┬────┬────┬────┬────┬────╮\n",
       "│\u001b[1mTr X\u001b[0m│\u001b[1mTr Y\u001b[0m│\u001b[1mTr Z\u001b[0m│\u001b[1mRo X\u001b[0m│\u001b[1mRo Y\u001b[0m│\u001b[1mRo Z\u001b[0m│\n",
       "├────┼────┼────┼────┼────┼────┤\n",
       "│0.0 │0.0 │0.0 │0.0 │0.0 │0.0 │\n",
       "╰────┴────┴────┴────┴────┴────╯\n"
      ]
     },
     "metadata": {},
     "output_type": "display_data"
    },
    {
     "data": {
      "text/html": [
       "<pre style=\"white-space:pre;overflow-x:auto;line-height:normal;font-family:Menlo,'DejaVu Sans Mono',consolas,'Courier New',monospace\">╭─────┬───┬───────╮\n",
       "│<span style=\"font-weight: bold\">Steps</span>│<span style=\"font-weight: bold\">CFG</span>│<span style=\"font-weight: bold\">Denoise</span>│\n",
       "├─────┼───┼───────┤\n",
       "│ 25  │7.0│ 0.25  │\n",
       "╰─────┴───┴───────╯\n",
       "</pre>\n"
      ],
      "text/plain": [
       "╭─────┬───┬───────╮\n",
       "│\u001b[1mSteps\u001b[0m│\u001b[1mCFG\u001b[0m│\u001b[1mDenoise\u001b[0m│\n",
       "├─────┼───┼───────┤\n",
       "│ 25  │7.0│ 0.25  │\n",
       "╰─────┴───┴───────╯\n"
      ]
     },
     "metadata": {},
     "output_type": "display_data"
    },
    {
     "name": "stderr",
     "output_type": "stream",
     "text": [
      "2023-03-07 09:21:18,897 - root - INFO - Calibrating color correction.\n"
     ]
    },
    {
     "data": {
      "application/vnd.jupyter.widget-view+json": {
       "model_id": "3e05ec013c144eba80e220181b2c4d1b",
       "version_major": 2,
       "version_minor": 0
      },
      "text/plain": [
       "  0%|          | 0/7 [00:00<?, ?it/s]"
      ]
     },
     "metadata": {},
     "output_type": "display_data"
    },
    {
     "name": "stdout",
     "output_type": "stream",
     "text": []
    },
    {
     "name": "stderr",
     "output_type": "stream",
     "text": [
      "2023-03-07 09:21:21,701 - root - INFO - Applying color correction.\n"
     ]
    },
    {
     "name": "stdout",
     "output_type": "stream",
     "text": [
      "\u001b[36mAnimation frame: \u001b[0m88/112  \n",
      " Creating in-between frame: 80; tween:0.12;\n",
      " Creating in-between frame: 81; tween:0.25;\n",
      " Creating in-between frame: 82; tween:0.38;\n",
      " Creating in-between frame: 83; tween:0.50;\n",
      " Creating in-between frame: 84; tween:0.62;\n",
      " Creating in-between frame: 85; tween:0.75;\n",
      " Creating in-between frame: 86; tween:0.88;\n",
      " Creating in-between frame: 87; tween:1.00;\n",
      "\u001b[32mSeed: \u001b[0m10\n",
      "\u001b[35mPrompt: \u001b[0msharp intuition, nonsense approach, detective skills, razor, known, job, beautiful picture, cinematic, high detailed, photorealistic\n",
      "\u001b[91mNeg Prompt: \u001b[0m(text), (deformed iris, deformed pupils, semi-realistic, cgi, 3d, render, sketch, cartoon, drawing, anime:1.4), close up, cropped, out of frame, worst quality, low quality, jpeg artifacts, ugly, duplicate, morbid, mutilated, extra fingers, mutated hands, poorly drawn hands, poorly drawn face, mutation, deformed, blurry, dehydrated, bad anatomy, bad proportions, extra limbs, cloned face, disfigured, gross proportions, malformed limbs, missing arms, missing legs, extra arms, extra legs, fused fingers, too many fingers, long neck\n"
     ]
    },
    {
     "data": {
      "text/html": [
       "<pre style=\"white-space:pre;overflow-x:auto;line-height:normal;font-family:Menlo,'DejaVu Sans Mono',consolas,'Courier New',monospace\">╭────┬────┬────┬────┬────┬────╮\n",
       "│<span style=\"font-weight: bold\">Tr X</span>│<span style=\"font-weight: bold\">Tr Y</span>│<span style=\"font-weight: bold\">Tr Z</span>│<span style=\"font-weight: bold\">Ro X</span>│<span style=\"font-weight: bold\">Ro Y</span>│<span style=\"font-weight: bold\">Ro Z</span>│\n",
       "├────┼────┼────┼────┼────┼────┤\n",
       "│0.0 │0.0 │0.0 │0.0 │0.0 │0.0 │\n",
       "╰────┴────┴────┴────┴────┴────╯\n",
       "</pre>\n"
      ],
      "text/plain": [
       "╭────┬────┬────┬────┬────┬────╮\n",
       "│\u001b[1mTr X\u001b[0m│\u001b[1mTr Y\u001b[0m│\u001b[1mTr Z\u001b[0m│\u001b[1mRo X\u001b[0m│\u001b[1mRo Y\u001b[0m│\u001b[1mRo Z\u001b[0m│\n",
       "├────┼────┼────┼────┼────┼────┤\n",
       "│0.0 │0.0 │0.0 │0.0 │0.0 │0.0 │\n",
       "╰────┴────┴────┴────┴────┴────╯\n"
      ]
     },
     "metadata": {},
     "output_type": "display_data"
    },
    {
     "data": {
      "text/html": [
       "<pre style=\"white-space:pre;overflow-x:auto;line-height:normal;font-family:Menlo,'DejaVu Sans Mono',consolas,'Courier New',monospace\">╭─────┬───┬───────╮\n",
       "│<span style=\"font-weight: bold\">Steps</span>│<span style=\"font-weight: bold\">CFG</span>│<span style=\"font-weight: bold\">Denoise</span>│\n",
       "├─────┼───┼───────┤\n",
       "│ 25  │7.0│ 0.25  │\n",
       "╰─────┴───┴───────╯\n",
       "</pre>\n"
      ],
      "text/plain": [
       "╭─────┬───┬───────╮\n",
       "│\u001b[1mSteps\u001b[0m│\u001b[1mCFG\u001b[0m│\u001b[1mDenoise\u001b[0m│\n",
       "├─────┼───┼───────┤\n",
       "│ 25  │7.0│ 0.25  │\n",
       "╰─────┴───┴───────╯\n"
      ]
     },
     "metadata": {},
     "output_type": "display_data"
    },
    {
     "name": "stderr",
     "output_type": "stream",
     "text": [
      "2023-03-07 09:21:25,651 - root - INFO - Calibrating color correction.\n"
     ]
    },
    {
     "data": {
      "application/vnd.jupyter.widget-view+json": {
       "model_id": "a4191213f8244427abae5171cfc926e4",
       "version_major": 2,
       "version_minor": 0
      },
      "text/plain": [
       "  0%|          | 0/7 [00:00<?, ?it/s]"
      ]
     },
     "metadata": {},
     "output_type": "display_data"
    },
    {
     "name": "stdout",
     "output_type": "stream",
     "text": []
    },
    {
     "name": "stderr",
     "output_type": "stream",
     "text": [
      "2023-03-07 09:21:28,437 - root - INFO - Applying color correction.\n"
     ]
    },
    {
     "name": "stdout",
     "output_type": "stream",
     "text": [
      "\u001b[36mAnimation frame: \u001b[0m96/112  \n",
      " Creating in-between frame: 88; tween:0.12;\n",
      " Creating in-between frame: 89; tween:0.25;\n",
      " Creating in-between frame: 90; tween:0.38;\n",
      " Creating in-between frame: 91; tween:0.50;\n",
      " Creating in-between frame: 92; tween:0.62;\n",
      " Creating in-between frame: 93; tween:0.75;\n",
      " Creating in-between frame: 94; tween:0.88;\n",
      " Creating in-between frame: 95; tween:1.00;\n",
      "\u001b[32mSeed: \u001b[0m11\n",
      "\u001b[35mPrompt: \u001b[0msharp intuition, nonsense approach, detective skills, razor, known, job, beautiful picture, cinematic, high detailed, photorealistic\n",
      "\u001b[91mNeg Prompt: \u001b[0m(text), (deformed iris, deformed pupils, semi-realistic, cgi, 3d, render, sketch, cartoon, drawing, anime:1.4), close up, cropped, out of frame, worst quality, low quality, jpeg artifacts, ugly, duplicate, morbid, mutilated, extra fingers, mutated hands, poorly drawn hands, poorly drawn face, mutation, deformed, blurry, dehydrated, bad anatomy, bad proportions, extra limbs, cloned face, disfigured, gross proportions, malformed limbs, missing arms, missing legs, extra arms, extra legs, fused fingers, too many fingers, long neck\n"
     ]
    },
    {
     "data": {
      "text/html": [
       "<pre style=\"white-space:pre;overflow-x:auto;line-height:normal;font-family:Menlo,'DejaVu Sans Mono',consolas,'Courier New',monospace\">╭────┬────┬────┬────┬────┬────╮\n",
       "│<span style=\"font-weight: bold\">Tr X</span>│<span style=\"font-weight: bold\">Tr Y</span>│<span style=\"font-weight: bold\">Tr Z</span>│<span style=\"font-weight: bold\">Ro X</span>│<span style=\"font-weight: bold\">Ro Y</span>│<span style=\"font-weight: bold\">Ro Z</span>│\n",
       "├────┼────┼────┼────┼────┼────┤\n",
       "│0.0 │0.0 │0.0 │0.0 │0.0 │0.0 │\n",
       "╰────┴────┴────┴────┴────┴────╯\n",
       "</pre>\n"
      ],
      "text/plain": [
       "╭────┬────┬────┬────┬────┬────╮\n",
       "│\u001b[1mTr X\u001b[0m│\u001b[1mTr Y\u001b[0m│\u001b[1mTr Z\u001b[0m│\u001b[1mRo X\u001b[0m│\u001b[1mRo Y\u001b[0m│\u001b[1mRo Z\u001b[0m│\n",
       "├────┼────┼────┼────┼────┼────┤\n",
       "│0.0 │0.0 │0.0 │0.0 │0.0 │0.0 │\n",
       "╰────┴────┴────┴────┴────┴────╯\n"
      ]
     },
     "metadata": {},
     "output_type": "display_data"
    },
    {
     "data": {
      "text/html": [
       "<pre style=\"white-space:pre;overflow-x:auto;line-height:normal;font-family:Menlo,'DejaVu Sans Mono',consolas,'Courier New',monospace\">╭─────┬───┬───────╮\n",
       "│<span style=\"font-weight: bold\">Steps</span>│<span style=\"font-weight: bold\">CFG</span>│<span style=\"font-weight: bold\">Denoise</span>│\n",
       "├─────┼───┼───────┤\n",
       "│ 25  │7.0│ 0.25  │\n",
       "╰─────┴───┴───────╯\n",
       "</pre>\n"
      ],
      "text/plain": [
       "╭─────┬───┬───────╮\n",
       "│\u001b[1mSteps\u001b[0m│\u001b[1mCFG\u001b[0m│\u001b[1mDenoise\u001b[0m│\n",
       "├─────┼───┼───────┤\n",
       "│ 25  │7.0│ 0.25  │\n",
       "╰─────┴───┴───────╯\n"
      ]
     },
     "metadata": {},
     "output_type": "display_data"
    },
    {
     "name": "stderr",
     "output_type": "stream",
     "text": [
      "2023-03-07 09:21:32,452 - root - INFO - Calibrating color correction.\n"
     ]
    },
    {
     "data": {
      "application/vnd.jupyter.widget-view+json": {
       "model_id": "21ed8c1b6d6e43eaaf62e5824d2d73c0",
       "version_major": 2,
       "version_minor": 0
      },
      "text/plain": [
       "  0%|          | 0/7 [00:00<?, ?it/s]"
      ]
     },
     "metadata": {},
     "output_type": "display_data"
    },
    {
     "name": "stdout",
     "output_type": "stream",
     "text": []
    },
    {
     "name": "stderr",
     "output_type": "stream",
     "text": [
      "2023-03-07 09:21:35,425 - root - INFO - Applying color correction.\n"
     ]
    },
    {
     "name": "stdout",
     "output_type": "stream",
     "text": [
      "\u001b[36mAnimation frame: \u001b[0m104/112  \n",
      " Creating in-between frame: 96; tween:0.12;\n",
      " Creating in-between frame: 97; tween:0.25;\n",
      " Creating in-between frame: 98; tween:0.38;\n",
      " Creating in-between frame: 99; tween:0.50;\n",
      " Creating in-between frame: 100; tween:0.62;\n",
      " Creating in-between frame: 101; tween:0.75;\n",
      " Creating in-between frame: 102; tween:0.88;\n",
      " Creating in-between frame: 103; tween:1.00;\n",
      "\u001b[32mSeed: \u001b[0m12\n",
      "\u001b[35mPrompt: \u001b[0msharp intuition, nonsense approach, detective skills, razor, known, job, beautiful picture, cinematic, high detailed, photorealistic\n",
      "\u001b[91mNeg Prompt: \u001b[0m(text), (deformed iris, deformed pupils, semi-realistic, cgi, 3d, render, sketch, cartoon, drawing, anime:1.4), close up, cropped, out of frame, worst quality, low quality, jpeg artifacts, ugly, duplicate, morbid, mutilated, extra fingers, mutated hands, poorly drawn hands, poorly drawn face, mutation, deformed, blurry, dehydrated, bad anatomy, bad proportions, extra limbs, cloned face, disfigured, gross proportions, malformed limbs, missing arms, missing legs, extra arms, extra legs, fused fingers, too many fingers, long neck\n"
     ]
    },
    {
     "data": {
      "text/html": [
       "<pre style=\"white-space:pre;overflow-x:auto;line-height:normal;font-family:Menlo,'DejaVu Sans Mono',consolas,'Courier New',monospace\">╭────┬────┬────┬────┬────┬────╮\n",
       "│<span style=\"font-weight: bold\">Tr X</span>│<span style=\"font-weight: bold\">Tr Y</span>│<span style=\"font-weight: bold\">Tr Z</span>│<span style=\"font-weight: bold\">Ro X</span>│<span style=\"font-weight: bold\">Ro Y</span>│<span style=\"font-weight: bold\">Ro Z</span>│\n",
       "├────┼────┼────┼────┼────┼────┤\n",
       "│0.0 │0.0 │0.0 │0.0 │0.0 │0.0 │\n",
       "╰────┴────┴────┴────┴────┴────╯\n",
       "</pre>\n"
      ],
      "text/plain": [
       "╭────┬────┬────┬────┬────┬────╮\n",
       "│\u001b[1mTr X\u001b[0m│\u001b[1mTr Y\u001b[0m│\u001b[1mTr Z\u001b[0m│\u001b[1mRo X\u001b[0m│\u001b[1mRo Y\u001b[0m│\u001b[1mRo Z\u001b[0m│\n",
       "├────┼────┼────┼────┼────┼────┤\n",
       "│0.0 │0.0 │0.0 │0.0 │0.0 │0.0 │\n",
       "╰────┴────┴────┴────┴────┴────╯\n"
      ]
     },
     "metadata": {},
     "output_type": "display_data"
    },
    {
     "data": {
      "text/html": [
       "<pre style=\"white-space:pre;overflow-x:auto;line-height:normal;font-family:Menlo,'DejaVu Sans Mono',consolas,'Courier New',monospace\">╭─────┬───┬───────╮\n",
       "│<span style=\"font-weight: bold\">Steps</span>│<span style=\"font-weight: bold\">CFG</span>│<span style=\"font-weight: bold\">Denoise</span>│\n",
       "├─────┼───┼───────┤\n",
       "│ 25  │7.0│ 0.25  │\n",
       "╰─────┴───┴───────╯\n",
       "</pre>\n"
      ],
      "text/plain": [
       "╭─────┬───┬───────╮\n",
       "│\u001b[1mSteps\u001b[0m│\u001b[1mCFG\u001b[0m│\u001b[1mDenoise\u001b[0m│\n",
       "├─────┼───┼───────┤\n",
       "│ 25  │7.0│ 0.25  │\n",
       "╰─────┴───┴───────╯\n"
      ]
     },
     "metadata": {},
     "output_type": "display_data"
    },
    {
     "name": "stderr",
     "output_type": "stream",
     "text": [
      "2023-03-07 09:21:39,392 - root - INFO - Calibrating color correction.\n"
     ]
    },
    {
     "data": {
      "application/vnd.jupyter.widget-view+json": {
       "model_id": "9b23546eab46447b828896d414e8cc3f",
       "version_major": 2,
       "version_minor": 0
      },
      "text/plain": [
       "  0%|          | 0/7 [00:00<?, ?it/s]"
      ]
     },
     "metadata": {},
     "output_type": "display_data"
    },
    {
     "name": "stdout",
     "output_type": "stream",
     "text": []
    },
    {
     "name": "stderr",
     "output_type": "stream",
     "text": [
      "2023-03-07 09:21:42,174 - root - INFO - Applying color correction.\n"
     ]
    },
    {
     "name": "stdout",
     "output_type": "stream",
     "text": [
      "Deforum progress: 100%|██████████| 134/134 [01:43<00:00,  1.30it/s]\n",
      "Skipping video creation, uncheck skip_video_for_run_all if you want to run it\n"
     ]
    },
    {
     "ename": "",
     "evalue": "",
     "output_type": "error",
     "traceback": [
      "\u001b[1;31mCanceled future for execute_request message before replies were done"
     ]
    },
    {
     "ename": "",
     "evalue": "",
     "output_type": "error",
     "traceback": [
      "\u001b[1;31mThe Kernel crashed while executing code in the the current cell or a previous cell. Please review the code in the cell(s) to identify a possible cause of the failure. Click <a href='https://aka.ms/vscodeJupyterKernelCrash'>here</a> for more info. View Jupyter <a href='command:jupyter.viewOutput'>log</a> for further details."
     ]
    }
   ],
   "source": [
    "from scripts import *\n",
    "import os\n",
    "os.environ['CUDA_LAUNCH_BLOCKING'] = '1'\n",
    "\n",
    "os.chdir('F:/gg/') \n",
    "\n",
    "class stories():\n",
    "   def __init__(self):\n",
    "        self.john_serial_killer = john_serial_killer.john_serial_killer\n",
    "\n",
    "\n",
    "story = stories()\n",
    "\n",
    "VOICE_GEN_ACTIVATE = False\n",
    "IMAGE_GEN_ACTIVATE = False\n",
    "IMG2IMG_ACTIVATE = False\n",
    "STYLE_GEN_ACTIVATE = False\n",
    "FRAME_INTER_GEN_ACTIVATE = False\n",
    "VIDEO_HD_GEN_ACTIVATE = False #old version\n",
    "SRT_GEN_ACTIVATE = False\n",
    "FIRST_ORDER_ACTIVATE = False\n",
    "LIP_SYNC_ACTIVATE = False\n",
    "LIP_SYNC_HD_ACTIVATE = False\n",
    "MERGE_VIDEO_ACTIVATE = False\n",
    "GENERATE_FULL_LQ_VIDEO = False\n",
    "DEFORUM = False\n",
    "IMG_HD_GEN_ACTIVATE = True\n",
    "MERGE_AUDIO_ACTIVATE = True\n",
    "\n",
    "# EXCLUDE_IMG_GEN =  [0,1,2,3,4,5,6,7,8,9,10,11,12,13,14,15,16,19,21,22,23] # will not generate this indexes\n",
    "EXCLUDE_IMG_GEN =  []\n",
    "EXCLUDE_VIDEO_GEN =  [] # will not generate this indexes\n",
    "RECORD_AUDIO_AFTER = -1 # skilp until this number\n",
    "RECORD_VIDEO_AFTER = -1\n",
    "RECORD_FRAME_INTER_AFTER = -1 # -1 will start from the beginning\n",
    "RECORD_FRAME_INTER_HD_AFTER = -1 \n",
    "RECORD_FRAME_LIP = -1\n",
    "TEXT_IMAGE_GEN = story.john_serial_killer['image_generation']\n",
    "TEXT_VOICE_GEN = story.john_serial_killer['text_spoken']\n",
    "PROJECT_NAME = \"john test\"\n",
    "GEN_VIDEO = True\n",
    "IMG_NUMBER = 5\n",
    "IMG_NUMBER_IMG2IMG = 10\n",
    "SHOW_WEB_UI = False\n",
    "FPS = 15\n",
    "\n",
    "SHOW_OUTPUT = True\n",
    "THUMBNAIL = \"Thumbnail for a youtube video with the title: Jack and the Jewel - Amazing story.\"  \n",
    "PROMPT_IMG =  \"High definition, realistic, highly detailed, illustration, digital painting, artstation, smooth, sharp focus, concept art, elegant and without text of: \"\n",
    "PROMPT_IMG = \"a beautiful cinematic render of anime, fine art, intricate, masterpiece, high definition, realistic, highly detailed, smooth, sharp focus, concept art, elegant\"\n",
    "PROMPT_IMG = \"a beautiful cinematic render, fine art, intricate, masterpiece, high definition, (((artistic))), highly detailed, smooth, sharp focus, concept art, elegant of: \"\n",
    "NEGATIVE_P = \"ugly, morbid, cloned face, missing legs, tiling, extra fingers, mutation, bad anatomy,gross proportions, \\\n",
    "   missing arm, long neck, duplicate, poorly drawn hands, poorly drawn feet, poorly drawn face, out of frame, extra limbs, \\\n",
    "   disfigured, deformed, body out of frame, blurry, blurred, watermark, grainy, signature, cut off, draft, \"\n",
    "SPEAKER = \"Naoto Shirogane\"\n",
    "TALKING_SPEED = 1 \n",
    "STYLES_FOLDER = \".\\\\styles\"\n",
    "SECONDS_SILENCE = 0.75\n",
    "SKIP_VIDEO = []\n",
    "MERGE_VIDEO = True\n",
    "MODEL_14 = False\n",
    "LANGUAGES = ['pt','fr','de','hi','it','ja','es','id']\n",
    "INSERT_BACKGROUND = False\n",
    "SAVE_FOLDER = \"D://Deletar//p_gen\"\n",
    "\n",
    "if MODEL_14:\n",
    "   WIDTH = 512\n",
    "   HEIGHT = 512\n",
    "else:\n",
    "   WIDTH = 768\n",
    "   HEIGHT = 768\n",
    "\n",
    "\n",
    "%store WIDTH\n",
    "%store HEIGHT\n",
    "%store TEXT_IMAGE_GEN\n",
    "%store TEXT_VOICE_GEN\n",
    "%store IMG_NUMBER\n",
    "%store SAVE_FOLDER\n",
    "%store PROJECT_NAME\n",
    "%store SHOW_OUTPUT\n",
    "%store THUMBNAIL\n",
    "%store PROMPT_IMG\n",
    "%store SPEAKER\n",
    "%store TALKING_SPEED\n",
    "%store STYLES_FOLDER\n",
    "%store SECONDS_SILENCE\n",
    "%store EXCLUDE_IMG_GEN\n",
    "%store SKIP_VIDEO\n",
    "%store MERGE_VIDEO\n",
    "%store NEGATIVE_P\n",
    "%store MODEL_14\n",
    "%store LANGUAGES\n",
    "%store GEN_VIDEO\n",
    "%store INSERT_BACKGROUND\n",
    "%store RECORD_AUDIO_AFTER\n",
    "%store RECORD_VIDEO_AFTER\n",
    "%store RECORD_FRAME_INTER_AFTER\n",
    "%store RECORD_FRAME_INTER_HD_AFTER\n",
    "%store IMG_NUMBER_IMG2IMG\n",
    "%store RECORD_FRAME_LIP\n",
    "%store FPS\n",
    "\n",
    "if VOICE_GEN_ACTIVATE:\n",
    "    %run ./voice_gen.ipynb\n",
    "   \n",
    "\n",
    "if IMAGE_GEN_ACTIVATE:\n",
    "    %run ./generate_video.ipynb\n",
    "\n",
    "if IMG2IMG_ACTIVATE:\n",
    "   %run ./img2img.ipynb\n",
    "\n",
    "if STYLE_GEN_ACTIVATE:\n",
    "   %run ./style_transfer.ipynb\n",
    "\n",
    "if FRAME_INTER_GEN_ACTIVATE:\n",
    "   %run ./frame_inter.ipynb\n",
    "\n",
    "if VIDEO_HD_GEN_ACTIVATE:\n",
    "   %run ./high_res_video.ipynb\n",
    "\n",
    "if SRT_GEN_ACTIVATE:\n",
    "   %run ./create_srt.ipynb\n",
    "\n",
    "if FIRST_ORDER_ACTIVATE:\n",
    "   # %run ./first_order/first-order-model/demo.py --config first_order/first-order-model/config/vox-256.yaml --driving_video first_order/final.mp4 --source_image first_order/result0.jpg --checkpoint first_order/first-order-model/checkpoint/vox-cpk.pth.tar --relative --adapt_scale\n",
    "   %run ./first_order/first-order-model/first_order.ipynb\n",
    "\n",
    "if LIP_SYNC_ACTIVATE:\n",
    "   %run ./lip/lip.ipynb \n",
    "\n",
    "if LIP_SYNC_HD_ACTIVATE:\n",
    "   %run ./lip_hd.ipynb \n",
    "\n",
    "if MERGE_VIDEO_ACTIVATE:\n",
    "   %run ./merge_video.ipynb \n",
    "\n",
    "if GENERATE_FULL_LQ_VIDEO:\n",
    "   # %run ./deforum/run.ipynb --enable_animation_mode --settings\n",
    "   # \"./deforum/runSettings_Template.txt\" --model \"v1-5-pruned-emaonly.ckpt\"\n",
    "   %run ./deforum/run.ipynb\n",
    "\n",
    "if DEFORUM:\n",
    "   os.chdir('./stable/')  \n",
    "   if SHOW_WEB_UI:\n",
    "      %run launch.py --share --xformers --enable-insecure-extension-access\n",
    "   else:\n",
    "      %run launch.py --share --xformers --enable-insecure-extension-access --hide_web_ui\n",
    "      %run ./extensions/deforum/scripts/deforum.ipynb\n",
    "   #%run launch.py --share --xformers --enable-insecure-extension-access\n",
    "\n",
    "os.chdir('F:/gg/') \n",
    "\n",
    "if IMG_HD_GEN_ACTIVATE:\n",
    "   %run ./highRes.ipynb\n",
    "\n",
    "if MERGE_AUDIO_ACTIVATE:\n",
    "   %run ./merge_audio.ipynb\n",
    "\n"
   ]
  }
 ],
 "metadata": {
  "kernelspec": {
   "display_name": "Pyflow",
   "language": "python",
   "name": "python3"
  },
  "language_info": {
   "codemirror_mode": {
    "name": "ipython",
    "version": 3
   },
   "file_extension": ".py",
   "mimetype": "text/x-python",
   "name": "python",
   "nbconvert_exporter": "python",
   "pygments_lexer": "ipython3",
   "version": "3.9.16"
  },
  "orig_nbformat": 4,
  "vscode": {
   "interpreter": {
    "hash": "6cb0dd519e46c84f14fc2d0d6172fde6407ecb78b6d95b871c78761f2e6e52fb"
   }
  }
 },
 "nbformat": 4,
 "nbformat_minor": 2
}
