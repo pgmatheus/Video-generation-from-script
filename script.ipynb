{
 "cells": [
  {
   "cell_type": "code",
   "execution_count": 1,
   "metadata": {},
   "outputs": [
    {
     "name": "stderr",
     "output_type": "stream",
     "text": [
      "c:\\Users\\Matheus\\anaconda3\\envs\\Pyflow\\lib\\site-packages\\neptune\\common\\warnings.py:62: NeptuneDeprecationWarning: The 'neptune-client' package has been deprecated and will be removed in the future. Install the 'neptune' package instead. For more, see https://docs.neptune.ai/setup/upgrading/\n",
      "  warnings.warn(\n",
      "c:\\Users\\Matheus\\anaconda3\\envs\\Pyflow\\lib\\site-packages\\neptune\\common\\warnings.py:62: NeptuneDeprecationWarning: You're importing the Neptune client library via the deprecated `neptune.new` module, which will be removed in a future release. Import directly from `neptune` instead.\n",
      "  warnings.warn(\n"
     ]
    },
    {
     "name": "stdout",
     "output_type": "stream",
     "text": [
      "Stored 'WIDTH' (int)\n",
      "Stored 'HEIGHT' (int)\n",
      "Stored 'TEXT_IMAGE_GEN' (dict)\n",
      "Stored 'TEXT_VOICE_GEN' (dict)\n",
      "Stored 'IMG_NUMBER' (int)\n",
      "Stored 'SAVE_FOLDER' (str)\n",
      "Stored 'PROJECT_NAME' (str)\n",
      "Stored 'SHOW_OUTPUT' (bool)\n",
      "Stored 'THUMBNAIL' (str)\n",
      "Stored 'PROMPT_IMG' (str)\n",
      "Stored 'SPEAKER' (str)\n",
      "Stored 'TALKING_SPEED' (int)\n",
      "Stored 'STYLES_FOLDER' (str)\n",
      "Stored 'SECONDS_SILENCE' (float)\n",
      "Stored 'EXCLUDE_IMG_GEN' (list)\n",
      "Stored 'SKIP_VIDEO' (list)\n",
      "Stored 'MERGE_VIDEO' (bool)\n",
      "Stored 'NEGATIVE_P' (str)\n",
      "Stored 'MODEL_14' (bool)\n",
      "Stored 'LANGUAGES' (list)\n",
      "Stored 'GEN_VIDEO' (bool)\n",
      "Stored 'INSERT_BACKGROUND' (bool)\n",
      "Stored 'RECORD_AUDIO_AFTER' (int)\n",
      "Stored 'RECORD_VIDEO_AFTER' (int)\n",
      "Stored 'RECORD_FRAME_INTER_AFTER' (int)\n",
      "Stored 'RECORD_FRAME_INTER_HD_AFTER' (int)\n",
      "Stored 'IMG_NUMBER_IMG2IMG' (int)\n",
      "Stored 'RECORD_FRAME_LIP' (int)\n",
      "Stored 'FPS' (int)\n",
      "Stored 'STATIC_BG' (bool)\n",
      "Stored 'LOCATION_STATIC_PNG' (str)\n",
      "Stored 'PROJECT_BACKGROUND' (str)\n",
      "Python 3.9.16 (main, Jan 11 2023, 16:16:36) [MSC v.1916 64 bit (AMD64)]\n",
      "Commit hash: 198f1349930d4a02724a6da703e03869952e5183\n"
     ]
    },
    {
     "name": "stderr",
     "output_type": "stream",
     "text": [
      "==============================================================================================================\n",
      "INCOMPATIBLE PYTHON VERSION\n",
      "\n",
      "This program is tested with 3.10.6 Python, but you have 3.9.16.\n",
      "If you encounter an error with \"RuntimeError: Couldn't install torch.\" message,\n",
      "or any other error regarding unsuccessful package (library) installation,\n",
      "please downgrade (or upgrade) to the latest version of 3.10 Python\n",
      "and delete current Python and \"venv\" folder in WebUI's directory.\n",
      "\n",
      "You can download 3.10 Python from here: https://www.python.org/downloads/release/python-3109/\n",
      "\n",
      "Alternatively, use a binary release of WebUI: https://github.com/AUTOMATIC1111/stable-diffusion-webui/releases\n",
      "\n",
      "Use --skip-python-version-check to suppress this warning.\n",
      "==============================================================================================================\n"
     ]
    },
    {
     "name": "stdout",
     "output_type": "stream",
     "text": [
      "Launching Web UI with arguments: --xformers --enable-insecure-extension-access\n",
      "\u001b[33mFailed to import controlnet! The exact error is cannot import name 'controlnet' from 'scripts' (f:\\gg\\scripts\\__init__.py). Deforum support for ControlNet will not be activated\u001b[0m\n"
     ]
    },
    {
     "name": "stderr",
     "output_type": "stream",
     "text": [
      "Error loading script: api.py\n",
      "Traceback (most recent call last):\n",
      "  File \"F:\\gg\\stable\\modules\\scripts.py\", line 229, in load_scripts\n",
      "    script_module = script_loading.load_module(scriptfile.path)\n",
      "  File \"F:\\gg\\stable\\modules\\script_loading.py\", line 11, in load_module\n",
      "    module_spec.loader.exec_module(module)\n",
      "  File \"<frozen importlib._bootstrap_external>\", line 850, in exec_module\n",
      "  File \"<frozen importlib._bootstrap>\", line 228, in _call_with_frames_removed\n",
      "  File \"F:\\gg\\stable\\extensions\\sd-webui-controlnet\\scripts\\api.py\", line 18, in <module>\n",
      "    from scripts.controlnet import update_cn_models, cn_models_names\n",
      "ModuleNotFoundError: No module named 'scripts.controlnet'\n",
      "\n",
      "Error loading script: controlnet.py\n",
      "Traceback (most recent call last):\n",
      "  File \"F:\\gg\\stable\\modules\\scripts.py\", line 229, in load_scripts\n",
      "    script_module = script_loading.load_module(scriptfile.path)\n",
      "  File \"F:\\gg\\stable\\modules\\script_loading.py\", line 11, in load_module\n",
      "    module_spec.loader.exec_module(module)\n",
      "  File \"<frozen importlib._bootstrap_external>\", line 850, in exec_module\n",
      "  File \"<frozen importlib._bootstrap>\", line 228, in _call_with_frames_removed\n",
      "  File \"F:\\gg\\stable\\extensions\\sd-webui-controlnet\\scripts\\controlnet.py\", line 14, in <module>\n",
      "    from scripts.cldm import PlugableControlModel\n",
      "ModuleNotFoundError: No module named 'scripts.cldm'\n",
      "\n",
      "Checkpoint realisticVisionV13_v13.safetensors [c35782bad8] not found; loading fallback dreamshaper_331BakedVae.safetensors [1dceefec07]\n"
     ]
    },
    {
     "name": "stdout",
     "output_type": "stream",
     "text": [
      "Loading weights [1dceefec07] from F:\\gg\\stable\\models\\Stable-diffusion\\dreamshaper_331BakedVae.safetensors\n",
      "Creating model from config: F:\\gg\\stable\\configs\\v1-inference.yaml\n",
      "LatentDiffusion: Running in eps-prediction mode\n",
      "DiffusionWrapper has 859.52 M params.\n",
      "Applying xformers cross attention optimization.\n",
      "Textual inversion embeddings loaded(0): \n",
      "Model loaded in 29.7s (load weights from disk: 11.8s, create model: 0.4s, apply weights to model: 14.2s, apply half(): 0.8s, move model to device: 0.9s, load textual inversion embeddings: 1.6s).\n",
      "Running on local URL:  http://127.0.0.1:7860\n",
      "\n",
      "To create a public link, set `share=True` in `launch()`.\n"
     ]
    },
    {
     "data": {
      "text/html": [
       "<div><iframe src=\"http://127.0.0.1:7860/\" width=\"100%\" height=\"500\" allow=\"autoplay; camera; microphone; clipboard-read; clipboard-write;\" frameborder=\"0\" allowfullscreen></iframe></div>"
      ],
      "text/plain": [
       "<IPython.core.display.HTML object>"
      ]
     },
     "metadata": {},
     "output_type": "display_data"
    },
    {
     "name": "stdout",
     "output_type": "stream",
     "text": [
      "start - args_dict\n",
      "{'override_settings_with_file': False, 'custom_settings_file': '', 'animation_mode': '3D', 'max_frames': 900, 'border': 'replicate', 'angle': '0:(0)', 'zoom': '0:(1.0025+0.002*sin(1.25*3.14*t/30))', 'translation_x': '0:(0)', 'translation_y': '0:(0)', 'translation_z': '0:(1.75)', 'rotation_3d_x': '0:(0)', 'rotation_3d_y': '0:(0)', 'rotation_3d_z': '0:(0)', 'enable_perspective_flip': False, 'perspective_flip_theta': '0:(0)', 'perspective_flip_phi': '0:(0)', 'perspective_flip_gamma': '0:(0)', 'perspective_flip_fv': '0:(53)', 'noise_schedule': '0: (0.065)', 'strength_schedule': '0: (0.45)', 'contrast_schedule': '0: (1.0)', 'cfg_scale_schedule': '0: (7)', 'pix2pix_img_cfg_scale_schedule': '0:(1.5)', 'enable_subseed_scheduling': False, 'subseed_schedule': '0:(1)', 'subseed_strength_schedule': '0:(0)', 'enable_steps_scheduling': False, 'steps_schedule': '0: (25)', 'fov_schedule': '0: (70)', 'near_schedule': '0: (200)', 'far_schedule': '0: (10000)', 'seed_schedule': '0:(5), 1:(-1), 219:(-1), 220:(5)', 'enable_sampler_scheduling': False, 'sampler_schedule': '0: (\"Euler a\")', 'mask_schedule': '0: (\"!({everywhere}^({init_mask}|{video_mask}) ) \")', 'use_noise_mask': False, 'noise_mask_schedule': '0: (\"!({everywhere}^({init_mask}|{video_mask}) ) \")', 'enable_checkpoint_scheduling': False, 'checkpoint_schedule': '0: (\"model1.ckpt\"), 100: (\"model2.ckpt\")', 'enable_clipskip_scheduling': False, 'clipskip_schedule': '0: (2)', 'kernel_schedule': '0: (5)', 'sigma_schedule': '0: (1.0)', 'amount_schedule': '0: (0.35)', 'threshold_schedule': '0: (0.0)', 'color_coherence': 'Match Frame 0 LAB', 'color_coherence_video_every_N_frames': 1.0, 'color_force_grayscale': False, 'diffusion_cadence': 8, 'noise_type': 'perlin', 'perlin_w': 8, 'perlin_h': 8, 'perlin_octaves': 4, 'perlin_persistence': 0.5, 'use_depth_warping': True, 'midas_weight': 0.2, 'padding_mode': 'border', 'sampling_mode': 'bicubic', 'save_depth_maps': False, 'video_init_path': 'https://github.com/hithereai/d/releases/download/m/vid.mp4', 'extract_nth_frame': 1, 'extract_from_frame': 0, 'extract_to_frame': -1, 'overwrite_extracted_frames': False, 'use_mask_video': False, 'video_mask_path': '/content/video_in.mp4', 'resume_from_timestring': False, 'resume_timestring': '20220829210106', 'animation_prompts': '{\\n    \"0\": \"RAW photo, magic city, 8k uhd, dslr, soft lighting, high quality, film grain, Fujifilm XT3\"\\n}\\n    ', 'animation_prompts_positive': '', 'animation_prompts_negative': \"(noise), (blur), (fog), (text), (NSFW), (deformed iris, deformed pupils, semi-realistic, cgi, 3d, render, sketch, cartoon, drawing, anime:1.4), close up, cropped, out of frame, worst quality, low quality, jpeg artifacts, ugly, duplicate, morbid, mutilated, extra fingers, mutated hands, poorly drawn hands, poorly drawn face, mutation, deformed, dehydrated, bad anatomy, bad proportions, extra limbs, cloned face, disfigured, gross proportions, malformed limbs, missing arms, missing legs, extra arms, extra legs, fused fingers, too many fingers, long neck'\\n  \", 'W': 1280, 'H': 768, 'tiling': False, 'restore_faces': False, 'seed': -1, 'sampler': 'Euler a', 'seed_enable_extras': False, 'seed_resize_from_w': 0, 'seed_resize_from_h': 0, 'steps': 25, 'ddim_eta': 0.0, 'n_batch': 1, 'save_settings': True, 'save_samples': True, 'display_samples': False, 'save_sample_per_step': False, 'show_sample_per_step': False, 'batch_name': 'Deforum', 'filename_format': '{timestring}_{index}_{prompt}.png', 'seed_behavior': 'iter', 'seed_iter_N': 1, 'use_init': False, 'from_img2img_instead_of_link': False, 'strength_0_no_init': True, 'strength': 1, 'init_image': 'F:\\\\a.png', 'use_mask': False, 'use_alpha_as_mask': False, 'invert_mask': False, 'overlay_mask': True, 'mask_file': 'https://github.com/hithereai/d/releases/download/m/mask.jpg', 'mask_contrast_adjust': 1, 'mask_brightness_adjust': 1, 'mask_overlay_blur': 4, 'fill': 1, 'full_res_mask': True, 'full_res_mask_padding': 4, 'reroll_blank_frames': 'reroll', 'skip_video_for_run_all': False, 'fps': 15, 'make_gif': False, 'output_format': 'FFMPEG mp4', 'ffmpeg_location': 'c:\\\\Users\\\\Matheus\\\\anaconda3\\\\envs\\\\Pyflow\\\\lib\\\\site-packages\\\\imageio_ffmpeg\\\\binaries\\\\ffmpeg-win64-v4.2.2.exe', 'ffmpeg_crf': '17', 'ffmpeg_preset': 'slow', 'add_soundtrack': 'None', 'soundtrack_path': 'https://freetestdata.com/wp-content/uploads/2021/09/Free_Test_Data_1MB_MP3.mp3', 'r_upscale_video': False, 'r_upscale_model': 'realesr-animevideov3', 'r_upscale_factor': 'x2', 'r_upscale_keep_imgs': True, 'render_steps': False, 'path_name_modifier': 'x0_pred', 'image_path': 'C:/SD/20230124234916_%05d.png', 'mp4_path': 'testvidmanualsettings.mp4', 'store_frames_in_ram': False, 'frame_interpolation_engine': 'FILM', 'frame_interpolation_x_amount': 2, 'frame_interpolation_slow_mo_enabled': False, 'frame_interpolation_slow_mo_amount': 2, 'frame_interpolation_keep_imgs': True, 'parseq_manifest': '', 'parseq_use_deltas': True, 'hybrid_generate_inputframes': False, 'hybrid_generate_human_masks': 'None', 'hybrid_use_first_frame_as_init_image': True, 'hybrid_motion': 'None', 'hybrid_motion_use_prev_img': False, 'hybrid_flow_method': 'Farneback', 'hybrid_composite': False, 'hybrid_comp_mask_type': 'None', 'hybrid_comp_mask_inverse': False, 'hybrid_comp_mask_equalize': 'None', 'hybrid_comp_mask_auto_contrast': False, 'hybrid_comp_save_extra_frames': False, 'hybrid_comp_alpha_schedule': '0:(1)', 'hybrid_comp_mask_blend_alpha_schedule': '0:(0.5)', 'hybrid_comp_mask_contrast_schedule': '0:(1)', 'hybrid_comp_mask_auto_contrast_cutoff_high_schedule': '0:(100)', 'hybrid_comp_mask_auto_contrast_cutoff_low_schedule': '0:(0)', 'use_looper': False, 'init_images': '{\\n    \"0\": \"https://user-images.githubusercontent.com/121192995/215279228-1673df8a-f919-4380-b04c-19379b2041ff.png\",\\n    \"50\": \"https://user-images.githubusercontent.com/121192995/215279281-7989fd6f-4b9b-4d90-9887-b7960edd59f8.png\",\\n    \"100\": \"https://user-images.githubusercontent.com/121192995/215279284-afc14543-d220-4142-bbf4-503776ca2b8b.png\",\\n    \"150\": \"https://user-images.githubusercontent.com/121192995/215279286-23378635-85b3-4457-b248-23e62c048049.jpg\",\\n    \"200\": \"https://user-images.githubusercontent.com/121192995/215279228-1673df8a-f919-4380-b04c-19379b2041ff.png\"\\n}', 'image_strength_schedule': '0:(0.75)', 'blendFactorMax': '0:(0.35)', 'blendFactorSlope': '0:(0.25)', 'tweening_frames_schedule': '0:(20)', 'color_correction_factor': '0:(0.075)'}\n",
      "end\n",
      "\u001b[4;33mDeforum extension for auto1111 webui, v2.2b\u001b[0m\n",
      "start - anim_args\n",
      "namespace(animation_mode='3D', max_frames=900, border='replicate', angle='0:(0)', zoom='0:(1.0025+0.002*sin(1.25*3.14*t/30))', translation_x='0:(0)', translation_y='0:(0)', translation_z='0:(1.75)', rotation_3d_x='0:(0)', rotation_3d_y='0:(0)', rotation_3d_z='0:(0)', enable_perspective_flip=False, perspective_flip_theta='0:(0)', perspective_flip_phi='0:(0)', perspective_flip_gamma='0:(0)', perspective_flip_fv='0:(53)', noise_schedule='0: (0.065)', strength_schedule='0: (0.45)', contrast_schedule='0: (1.0)', cfg_scale_schedule='0: (7)', pix2pix_img_cfg_scale_schedule='0:(1.5)', enable_subseed_scheduling=False, subseed_schedule='0:(1)', subseed_strength_schedule='0:(0)', enable_steps_scheduling=False, steps_schedule='0: (25)', fov_schedule='0: (70)', near_schedule='0: (200)', far_schedule='0: (10000)', seed_schedule='0:(5), 1:(-1), 219:(-1), 220:(5)', enable_sampler_scheduling=False, sampler_schedule='0: (\"Euler a\")', mask_schedule='0: (\"!({everywhere}^({init_mask}|{video_mask}) ) \")', use_noise_mask=False, noise_mask_schedule='0: (\"!({everywhere}^({init_mask}|{video_mask}) ) \")', enable_checkpoint_scheduling=False, checkpoint_schedule='0: (\"model1.ckpt\"), 100: (\"model2.ckpt\")', enable_clipskip_scheduling=False, clipskip_schedule='0: (2)', kernel_schedule='0: (5)', sigma_schedule='0: (1.0)', amount_schedule='0: (0.35)', threshold_schedule='0: (0.0)', color_coherence='Match Frame 0 LAB', color_coherence_video_every_N_frames=1.0, color_force_grayscale=False, diffusion_cadence=8, noise_type='perlin', perlin_w=8, perlin_h=8, perlin_octaves=4, perlin_persistence=0.5, use_depth_warping=True, midas_weight=0.2, padding_mode='border', sampling_mode='bicubic', save_depth_maps=False, video_init_path='https://github.com/hithereai/d/releases/download/m/vid.mp4', extract_nth_frame=1, extract_from_frame=0, extract_to_frame=-1, overwrite_extracted_frames=False, use_mask_video=False, video_mask_path='/content/video_in.mp4', resume_from_timestring=False, resume_timestring='20220829210106', hybrid_generate_inputframes=False, hybrid_generate_human_masks='None', hybrid_use_first_frame_as_init_image=True, hybrid_motion='None', hybrid_motion_use_prev_img=False, hybrid_flow_method='Farneback', hybrid_composite=False, hybrid_comp_mask_type='None', hybrid_comp_mask_inverse=False, hybrid_comp_mask_equalize='None', hybrid_comp_mask_auto_contrast=False, hybrid_comp_save_extra_frames=False, hybrid_comp_alpha_schedule='0:(1)', hybrid_comp_mask_blend_alpha_schedule='0:(0.5)', hybrid_comp_mask_contrast_schedule='0:(1)', hybrid_comp_mask_auto_contrast_cutoff_high_schedule='0:(100)', hybrid_comp_mask_auto_contrast_cutoff_low_schedule='0:(0)')\n",
      "end\n",
      "start - video_args\n",
      "namespace(skip_video_for_run_all=False, fps=15, make_gif=False, output_format='FFMPEG mp4', ffmpeg_location='c:\\\\Users\\\\Matheus\\\\anaconda3\\\\envs\\\\Pyflow\\\\lib\\\\site-packages\\\\imageio_ffmpeg\\\\binaries\\\\ffmpeg-win64-v4.2.2.exe', ffmpeg_crf='17', ffmpeg_preset='slow', add_soundtrack='None', soundtrack_path='https://freetestdata.com/wp-content/uploads/2021/09/Free_Test_Data_1MB_MP3.mp3', r_upscale_video=False, r_upscale_model='realesr-animevideov3', r_upscale_factor='x2', r_upscale_keep_imgs=True, render_steps=False, path_name_modifier='x0_pred', image_path='C:/SD/20230124234916_%05d.png', mp4_path='testvidmanualsettings.mp4', store_frames_in_ram=False, frame_interpolation_engine='FILM', frame_interpolation_x_amount=2, frame_interpolation_slow_mo_enabled=False, frame_interpolation_slow_mo_amount=2, frame_interpolation_keep_imgs=True)\n",
      "end\n",
      "start - parseq_args\n",
      "namespace(parseq_manifest='', parseq_use_deltas=True)\n",
      "end\n",
      "start - loop_args\n",
      "namespace(use_looper=False, init_images='{\\n    \"0\": \"https://user-images.githubusercontent.com/121192995/215279228-1673df8a-f919-4380-b04c-19379b2041ff.png\",\\n    \"50\": \"https://user-images.githubusercontent.com/121192995/215279281-7989fd6f-4b9b-4d90-9887-b7960edd59f8.png\",\\n    \"100\": \"https://user-images.githubusercontent.com/121192995/215279284-afc14543-d220-4142-bbf4-503776ca2b8b.png\",\\n    \"150\": \"https://user-images.githubusercontent.com/121192995/215279286-23378635-85b3-4457-b248-23e62c048049.jpg\",\\n    \"200\": \"https://user-images.githubusercontent.com/121192995/215279228-1673df8a-f919-4380-b04c-19379b2041ff.png\"\\n}', image_strength_schedule='0:(0.75)', blendFactorMax='0:(0.35)', blendFactorSlope='0:(0.25)', tweening_frames_schedule='0:(20)', color_correction_factor='0:(0.075)')\n",
      "end\n",
      "start - controlnet_args\n",
      "namespace()\n",
      "end\n",
      "start - root.animation_prompts\n",
      "{'0': \" RAW photo, magic city, 8k uhd, dslr, soft lighting, high quality, film grain, Fujifilm XT3 --neg (noise), (blur), (fog), (text), (NSFW), (deformed iris, deformed pupils, semi-realistic, cgi, 3d, render, sketch, cartoon, drawing, anime:1.4), close up, cropped, out of frame, worst quality, low quality, jpeg artifacts, ugly, duplicate, morbid, mutilated, extra fingers, mutated hands, poorly drawn hands, poorly drawn face, mutation, deformed, dehydrated, bad anatomy, bad proportions, extra limbs, cloned face, disfigured, gross proportions, malformed limbs, missing arms, missing legs, extra arms, extra legs, fused fingers, too many fingers, long neck'\\n  \"}\n",
      "end\n",
      "start - root\n",
      "namespace(device=device(type='cuda'), models_path='F:\\\\gg\\\\stable\\\\models/Deforum', half_precision=True, mask_preset_names=['everywhere', 'init_mask', 'video_mask'], p=<modules.processing.StableDiffusionProcessingImg2Img object at 0x0000020479BD14F0>, frames_cache=[], initial_seed=None, initial_info=None, first_frame=None, outpath_samples='outputs/img2img-images\\\\Deforum', animation_prompts={'0': \" RAW photo, magic city, 8k uhd, dslr, soft lighting, high quality, film grain, Fujifilm XT3 --neg (noise), (blur), (fog), (text), (NSFW), (deformed iris, deformed pupils, semi-realistic, cgi, 3d, render, sketch, cartoon, drawing, anime:1.4), close up, cropped, out of frame, worst quality, low quality, jpeg artifacts, ugly, duplicate, morbid, mutilated, extra fingers, mutated hands, poorly drawn hands, poorly drawn face, mutation, deformed, dehydrated, bad anatomy, bad proportions, extra limbs, cloned face, disfigured, gross proportions, malformed limbs, missing arms, missing legs, extra arms, extra legs, fused fingers, too many fingers, long neck'\\n  \"}, color_corrections=None, initial_clipskip=1, current_user_os='Windows', tmp_deforum_run_duplicated_folder='C:\\\\Users\\\\Matheus\\\\AppData\\\\Local\\\\Temp\\\\tmp_run_deforum', clipseg_model=None, basedirs=['F:\\\\gg\\\\stable'])\n",
      "end\n",
      "Saving animation frames to:\n",
      "F:\\gg\\stable\\outputs/img2img-images\\Deforum\n",
      "verify\n",
      "F:\\gg\\stable\\models/Deforum\n",
      "verify2\n",
      "True\n",
      "init\n",
      "<deforum_helpers.depth.DepthModel object at 0x00000204F75D6F40>\n",
      "ending\n",
      "Loading base model ()...Done.\n",
      "Removing last two layers (global_pool & classifier).\n",
      "Building Encoder-Decoder model..Done.\n",
      "\u001b[32mSeed: \u001b[0m344667980\n",
      "\u001b[35mPrompt: \u001b[0mRAW photo, magic city, 8k uhd, dslr, soft lighting, high quality, film grain, Fujifilm XT3\n",
      "\u001b[91mNeg Prompt: \u001b[0m(noise), (blur), (fog), (text), (NSFW), (deformed iris, deformed pupils, semi-realistic, cgi, 3d, render, sketch, cartoon, drawing, anime:1.4), close up, cropped, out of frame, worst quality, low quality, jpeg artifacts, ugly, duplicate, morbid, mutilated, extra fingers, mutated hands, poorly drawn hands, poorly drawn face, mutation, deformed, dehydrated, bad anatomy, bad proportions, extra limbs, cloned face, disfigured, gross proportions, malformed limbs, missing arms, missing legs, extra arms, extra legs, fused fingers, too many fingers, long neck'\n"
     ]
    },
    {
     "data": {
      "application/vnd.jupyter.widget-view+json": {
       "model_id": "c0a646d2f55f4110b232463d5af58297",
       "version_major": 2,
       "version_minor": 0
      },
      "text/plain": [
       "  0%|          | 0/25 [00:00<?, ?it/s]"
      ]
     },
     "metadata": {},
     "output_type": "display_data"
    },
    {
     "name": "stdout",
     "output_type": "stream",
     "text": [
      " Creating in-between frame: 0; tween:0.12;\n",
      "  resized to 912x547\n",
      " Creating in-between frame: 1; tween:0.25;\n",
      "  resized to 912x547\n",
      " Creating in-between frame: 2; tween:0.38;\n",
      "  resized to 912x547\n",
      " Creating in-between frame: 3; tween:0.50;\n",
      "  resized to 912x547\n",
      " Creating in-between frame: 4; tween:0.62;\n",
      "  resized to 912x547\n",
      " Creating in-between frame: 5; tween:0.75;\n",
      "  resized to 912x547\n",
      " Creating in-between frame: 6; tween:0.88;\n",
      "  resized to 912x547\n",
      " Creating in-between frame: 7; tween:1.00;\n",
      "  resized to 912x547\n",
      "  resized to 912x547\n"
     ]
    },
    {
     "name": "stderr",
     "output_type": "stream",
     "text": [
      "2023-03-18 20:10:42,135 - root - INFO - Calibrating color correction.\n"
     ]
    },
    {
     "name": "stdout",
     "output_type": "stream",
     "text": [
      "\u001b[32mSeed: \u001b[0m344667981\n",
      "\u001b[35mPrompt: \u001b[0mRAW photo, magic city, 8k uhd, dslr, soft lighting, high quality, film grain, Fujifilm XT3\n",
      "\u001b[91mNeg Prompt: \u001b[0m(noise), (blur), (fog), (text), (NSFW), (deformed iris, deformed pupils, semi-realistic, cgi, 3d, render, sketch, cartoon, drawing, anime:1.4), close up, cropped, out of frame, worst quality, low quality, jpeg artifacts, ugly, duplicate, morbid, mutilated, extra fingers, mutated hands, poorly drawn hands, poorly drawn face, mutation, deformed, dehydrated, bad anatomy, bad proportions, extra limbs, cloned face, disfigured, gross proportions, malformed limbs, missing arms, missing legs, extra arms, extra legs, fused fingers, too many fingers, long neck'\n"
     ]
    },
    {
     "data": {
      "application/vnd.jupyter.widget-view+json": {
       "model_id": "d61c1a9e9d394adab5b95aa39d0426e2",
       "version_major": 2,
       "version_minor": 0
      },
      "text/plain": [
       "  0%|          | 0/14 [00:00<?, ?it/s]"
      ]
     },
     "metadata": {},
     "output_type": "display_data"
    },
    {
     "name": "stdout",
     "output_type": "stream",
     "text": []
    },
    {
     "name": "stderr",
     "output_type": "stream",
     "text": [
      "2023-03-18 20:10:57,201 - root - INFO - Applying color correction.\n"
     ]
    },
    {
     "name": "stdout",
     "output_type": "stream",
     "text": [
      " Creating in-between frame: 8; tween:0.12;\n",
      "  resized to 912x547\n",
      " Creating in-between frame: 9; tween:0.25;\n",
      "  resized to 912x547\n",
      " Creating in-between frame: 10; tween:0.38;\n",
      "  resized to 912x547\n",
      " Creating in-between frame: 11; tween:0.50;\n",
      "  resized to 912x547\n",
      " Creating in-between frame: 12; tween:0.62;\n",
      "  resized to 912x547\n",
      " Creating in-between frame: 13; tween:0.75;\n",
      "  resized to 912x547\n",
      " Creating in-between frame: 14; tween:0.88;\n",
      "  resized to 912x547\n",
      " Creating in-between frame: 15; tween:1.00;\n",
      "  resized to 912x547\n",
      "  resized to 912x547\n"
     ]
    },
    {
     "name": "stderr",
     "output_type": "stream",
     "text": [
      "2023-03-18 20:11:06,968 - root - INFO - Calibrating color correction.\n"
     ]
    },
    {
     "name": "stdout",
     "output_type": "stream",
     "text": [
      "\u001b[32mSeed: \u001b[0m344667982\n",
      "\u001b[35mPrompt: \u001b[0mRAW photo, magic city, 8k uhd, dslr, soft lighting, high quality, film grain, Fujifilm XT3\n",
      "\u001b[91mNeg Prompt: \u001b[0m(noise), (blur), (fog), (text), (NSFW), (deformed iris, deformed pupils, semi-realistic, cgi, 3d, render, sketch, cartoon, drawing, anime:1.4), close up, cropped, out of frame, worst quality, low quality, jpeg artifacts, ugly, duplicate, morbid, mutilated, extra fingers, mutated hands, poorly drawn hands, poorly drawn face, mutation, deformed, dehydrated, bad anatomy, bad proportions, extra limbs, cloned face, disfigured, gross proportions, malformed limbs, missing arms, missing legs, extra arms, extra legs, fused fingers, too many fingers, long neck'\n"
     ]
    },
    {
     "data": {
      "application/vnd.jupyter.widget-view+json": {
       "model_id": "afd41199097f41d1b7e2ee1a8c7d83e1",
       "version_major": 2,
       "version_minor": 0
      },
      "text/plain": [
       "  0%|          | 0/14 [00:00<?, ?it/s]"
      ]
     },
     "metadata": {},
     "output_type": "display_data"
    },
    {
     "name": "stdout",
     "output_type": "stream",
     "text": []
    },
    {
     "name": "stderr",
     "output_type": "stream",
     "text": [
      "2023-03-18 20:11:21,978 - root - INFO - Applying color correction.\n"
     ]
    },
    {
     "name": "stdout",
     "output_type": "stream",
     "text": [
      " Creating in-between frame: 16; tween:0.12;\n",
      "  resized to 912x547\n",
      " Creating in-between frame: 17; tween:0.25;\n",
      "  resized to 912x547\n",
      " Creating in-between frame: 18; tween:0.38;\n",
      "  resized to 912x547\n",
      " Creating in-between frame: 19; tween:0.50;\n",
      "  resized to 912x547\n",
      " Creating in-between frame: 20; tween:0.62;\n",
      "  resized to 912x547\n",
      " Creating in-between frame: 21; tween:0.75;\n",
      "  resized to 912x547\n",
      " Creating in-between frame: 22; tween:0.88;\n",
      "  resized to 912x547\n",
      " Creating in-between frame: 23; tween:1.00;\n",
      "  resized to 912x547\n",
      "  resized to 912x547\n"
     ]
    },
    {
     "name": "stderr",
     "output_type": "stream",
     "text": [
      "2023-03-18 20:11:30,878 - root - INFO - Calibrating color correction.\n"
     ]
    },
    {
     "name": "stdout",
     "output_type": "stream",
     "text": [
      "\u001b[32mSeed: \u001b[0m344667983\n",
      "\u001b[35mPrompt: \u001b[0mRAW photo, magic city, 8k uhd, dslr, soft lighting, high quality, film grain, Fujifilm XT3\n",
      "\u001b[91mNeg Prompt: \u001b[0m(noise), (blur), (fog), (text), (NSFW), (deformed iris, deformed pupils, semi-realistic, cgi, 3d, render, sketch, cartoon, drawing, anime:1.4), close up, cropped, out of frame, worst quality, low quality, jpeg artifacts, ugly, duplicate, morbid, mutilated, extra fingers, mutated hands, poorly drawn hands, poorly drawn face, mutation, deformed, dehydrated, bad anatomy, bad proportions, extra limbs, cloned face, disfigured, gross proportions, malformed limbs, missing arms, missing legs, extra arms, extra legs, fused fingers, too many fingers, long neck'\n"
     ]
    },
    {
     "data": {
      "application/vnd.jupyter.widget-view+json": {
       "model_id": "ffa3e28d81bd412a85266cac1eed915e",
       "version_major": 2,
       "version_minor": 0
      },
      "text/plain": [
       "  0%|          | 0/14 [00:00<?, ?it/s]"
      ]
     },
     "metadata": {},
     "output_type": "display_data"
    },
    {
     "name": "stdout",
     "output_type": "stream",
     "text": []
    },
    {
     "name": "stderr",
     "output_type": "stream",
     "text": [
      "2023-03-18 20:11:46,274 - root - INFO - Applying color correction.\n"
     ]
    },
    {
     "name": "stdout",
     "output_type": "stream",
     "text": [
      " Creating in-between frame: 24; tween:0.12;\n",
      "  resized to 912x547\n",
      " Creating in-between frame: 25; tween:0.25;\n",
      "  resized to 912x547\n",
      " Creating in-between frame: 26; tween:0.38;\n",
      "  resized to 912x547\n",
      " Creating in-between frame: 27; tween:0.50;\n",
      "  resized to 912x547\n",
      " Creating in-between frame: 28; tween:0.62;\n",
      "  resized to 912x547\n",
      " Creating in-between frame: 29; tween:0.75;\n",
      "  resized to 912x547\n",
      " Creating in-between frame: 30; tween:0.88;\n",
      "  resized to 912x547\n",
      " Creating in-between frame: 31; tween:1.00;\n",
      "  resized to 912x547\n",
      "  resized to 912x547\n"
     ]
    },
    {
     "name": "stderr",
     "output_type": "stream",
     "text": [
      "2023-03-18 20:11:55,566 - root - INFO - Calibrating color correction.\n"
     ]
    },
    {
     "name": "stdout",
     "output_type": "stream",
     "text": [
      "\u001b[32mSeed: \u001b[0m344667984\n",
      "\u001b[35mPrompt: \u001b[0mRAW photo, magic city, 8k uhd, dslr, soft lighting, high quality, film grain, Fujifilm XT3\n",
      "\u001b[91mNeg Prompt: \u001b[0m(noise), (blur), (fog), (text), (NSFW), (deformed iris, deformed pupils, semi-realistic, cgi, 3d, render, sketch, cartoon, drawing, anime:1.4), close up, cropped, out of frame, worst quality, low quality, jpeg artifacts, ugly, duplicate, morbid, mutilated, extra fingers, mutated hands, poorly drawn hands, poorly drawn face, mutation, deformed, dehydrated, bad anatomy, bad proportions, extra limbs, cloned face, disfigured, gross proportions, malformed limbs, missing arms, missing legs, extra arms, extra legs, fused fingers, too many fingers, long neck'\n"
     ]
    },
    {
     "data": {
      "application/vnd.jupyter.widget-view+json": {
       "model_id": "0db66f186f4b46d384aaeebc1e05cad6",
       "version_major": 2,
       "version_minor": 0
      },
      "text/plain": [
       "  0%|          | 0/14 [00:00<?, ?it/s]"
      ]
     },
     "metadata": {},
     "output_type": "display_data"
    },
    {
     "name": "stdout",
     "output_type": "stream",
     "text": []
    },
    {
     "name": "stderr",
     "output_type": "stream",
     "text": [
      "2023-03-18 20:12:10,801 - root - INFO - Applying color correction.\n"
     ]
    },
    {
     "name": "stdout",
     "output_type": "stream",
     "text": [
      " Creating in-between frame: 32; tween:0.12;\n",
      "  resized to 912x547\n",
      " Creating in-between frame: 33; tween:0.25;\n",
      "  resized to 912x547\n",
      " Creating in-between frame: 34; tween:0.38;\n",
      "  resized to 912x547\n",
      " Creating in-between frame: 35; tween:0.50;\n",
      "  resized to 912x547\n",
      " Creating in-between frame: 36; tween:0.62;\n",
      "  resized to 912x547\n",
      " Creating in-between frame: 37; tween:0.75;\n",
      "  resized to 912x547\n",
      " Creating in-between frame: 38; tween:0.88;\n",
      "  resized to 912x547\n",
      " Creating in-between frame: 39; tween:1.00;\n",
      "  resized to 912x547\n",
      "  resized to 912x547\n"
     ]
    },
    {
     "name": "stderr",
     "output_type": "stream",
     "text": [
      "2023-03-18 20:12:19,920 - root - INFO - Calibrating color correction.\n"
     ]
    },
    {
     "name": "stdout",
     "output_type": "stream",
     "text": [
      "\u001b[32mSeed: \u001b[0m344667985\n",
      "\u001b[35mPrompt: \u001b[0mRAW photo, magic city, 8k uhd, dslr, soft lighting, high quality, film grain, Fujifilm XT3\n",
      "\u001b[91mNeg Prompt: \u001b[0m(noise), (blur), (fog), (text), (NSFW), (deformed iris, deformed pupils, semi-realistic, cgi, 3d, render, sketch, cartoon, drawing, anime:1.4), close up, cropped, out of frame, worst quality, low quality, jpeg artifacts, ugly, duplicate, morbid, mutilated, extra fingers, mutated hands, poorly drawn hands, poorly drawn face, mutation, deformed, dehydrated, bad anatomy, bad proportions, extra limbs, cloned face, disfigured, gross proportions, malformed limbs, missing arms, missing legs, extra arms, extra legs, fused fingers, too many fingers, long neck'\n"
     ]
    },
    {
     "data": {
      "application/vnd.jupyter.widget-view+json": {
       "model_id": "fce430dfd12e4691bc871a37b40b66da",
       "version_major": 2,
       "version_minor": 0
      },
      "text/plain": [
       "  0%|          | 0/14 [00:00<?, ?it/s]"
      ]
     },
     "metadata": {},
     "output_type": "display_data"
    },
    {
     "name": "stdout",
     "output_type": "stream",
     "text": []
    },
    {
     "name": "stderr",
     "output_type": "stream",
     "text": [
      "2023-03-18 20:12:35,063 - root - INFO - Applying color correction.\n"
     ]
    },
    {
     "name": "stdout",
     "output_type": "stream",
     "text": [
      " Creating in-between frame: 40; tween:0.12;\n",
      "  resized to 912x547\n",
      " Creating in-between frame: 41; tween:0.25;\n",
      "  resized to 912x547\n",
      " Creating in-between frame: 42; tween:0.38;\n",
      "  resized to 912x547\n",
      " Creating in-between frame: 43; tween:0.50;\n",
      "  resized to 912x547\n",
      " Creating in-between frame: 44; tween:0.62;\n",
      "  resized to 912x547\n",
      " Creating in-between frame: 45; tween:0.75;\n",
      "  resized to 912x547\n",
      " Creating in-between frame: 46; tween:0.88;\n",
      "  resized to 912x547\n",
      " Creating in-between frame: 47; tween:1.00;\n",
      "  resized to 912x547\n",
      "  resized to 912x547\n"
     ]
    },
    {
     "name": "stderr",
     "output_type": "stream",
     "text": [
      "2023-03-18 20:12:44,257 - root - INFO - Calibrating color correction.\n"
     ]
    },
    {
     "name": "stdout",
     "output_type": "stream",
     "text": [
      "\u001b[32mSeed: \u001b[0m344667986\n",
      "\u001b[35mPrompt: \u001b[0mRAW photo, magic city, 8k uhd, dslr, soft lighting, high quality, film grain, Fujifilm XT3\n",
      "\u001b[91mNeg Prompt: \u001b[0m(noise), (blur), (fog), (text), (NSFW), (deformed iris, deformed pupils, semi-realistic, cgi, 3d, render, sketch, cartoon, drawing, anime:1.4), close up, cropped, out of frame, worst quality, low quality, jpeg artifacts, ugly, duplicate, morbid, mutilated, extra fingers, mutated hands, poorly drawn hands, poorly drawn face, mutation, deformed, dehydrated, bad anatomy, bad proportions, extra limbs, cloned face, disfigured, gross proportions, malformed limbs, missing arms, missing legs, extra arms, extra legs, fused fingers, too many fingers, long neck'\n"
     ]
    },
    {
     "data": {
      "application/vnd.jupyter.widget-view+json": {
       "model_id": "d83959f419394e14b3f79865a0f81422",
       "version_major": 2,
       "version_minor": 0
      },
      "text/plain": [
       "  0%|          | 0/14 [00:00<?, ?it/s]"
      ]
     },
     "metadata": {},
     "output_type": "display_data"
    },
    {
     "name": "stdout",
     "output_type": "stream",
     "text": []
    },
    {
     "name": "stderr",
     "output_type": "stream",
     "text": [
      "2023-03-18 20:12:59,423 - root - INFO - Applying color correction.\n"
     ]
    },
    {
     "name": "stdout",
     "output_type": "stream",
     "text": [
      " Creating in-between frame: 48; tween:0.12;\n",
      "  resized to 912x547\n",
      " Creating in-between frame: 49; tween:0.25;\n",
      "  resized to 912x547\n",
      " Creating in-between frame: 50; tween:0.38;\n",
      "  resized to 912x547\n",
      " Creating in-between frame: 51; tween:0.50;\n",
      "  resized to 912x547\n",
      " Creating in-between frame: 52; tween:0.62;\n",
      "  resized to 912x547\n",
      " Creating in-between frame: 53; tween:0.75;\n",
      "  resized to 912x547\n",
      " Creating in-between frame: 54; tween:0.88;\n",
      "  resized to 912x547\n",
      " Creating in-between frame: 55; tween:1.00;\n",
      "  resized to 912x547\n",
      "  resized to 912x547\n"
     ]
    },
    {
     "name": "stderr",
     "output_type": "stream",
     "text": [
      "2023-03-18 20:13:09,361 - root - INFO - Calibrating color correction.\n"
     ]
    },
    {
     "name": "stdout",
     "output_type": "stream",
     "text": [
      "\u001b[32mSeed: \u001b[0m344667987\n",
      "\u001b[35mPrompt: \u001b[0mRAW photo, magic city, 8k uhd, dslr, soft lighting, high quality, film grain, Fujifilm XT3\n",
      "\u001b[91mNeg Prompt: \u001b[0m(noise), (blur), (fog), (text), (NSFW), (deformed iris, deformed pupils, semi-realistic, cgi, 3d, render, sketch, cartoon, drawing, anime:1.4), close up, cropped, out of frame, worst quality, low quality, jpeg artifacts, ugly, duplicate, morbid, mutilated, extra fingers, mutated hands, poorly drawn hands, poorly drawn face, mutation, deformed, dehydrated, bad anatomy, bad proportions, extra limbs, cloned face, disfigured, gross proportions, malformed limbs, missing arms, missing legs, extra arms, extra legs, fused fingers, too many fingers, long neck'\n"
     ]
    },
    {
     "data": {
      "application/vnd.jupyter.widget-view+json": {
       "model_id": "63d7afbd620747f6b3c3666ff5bd9373",
       "version_major": 2,
       "version_minor": 0
      },
      "text/plain": [
       "  0%|          | 0/14 [00:00<?, ?it/s]"
      ]
     },
     "metadata": {},
     "output_type": "display_data"
    },
    {
     "name": "stdout",
     "output_type": "stream",
     "text": []
    },
    {
     "name": "stderr",
     "output_type": "stream",
     "text": [
      "2023-03-18 20:13:24,951 - root - INFO - Applying color correction.\n"
     ]
    },
    {
     "name": "stdout",
     "output_type": "stream",
     "text": [
      " Creating in-between frame: 56; tween:0.12;\n",
      "  resized to 912x547\n",
      " Creating in-between frame: 57; tween:0.25;\n",
      "  resized to 912x547\n",
      " Creating in-between frame: 58; tween:0.38;\n",
      "  resized to 912x547\n",
      " Creating in-between frame: 59; tween:0.50;\n",
      "  resized to 912x547\n",
      " Creating in-between frame: 60; tween:0.62;\n",
      "  resized to 912x547\n",
      " Creating in-between frame: 61; tween:0.75;\n",
      "  resized to 912x547\n",
      " Creating in-between frame: 62; tween:0.88;\n",
      "  resized to 912x547\n",
      " Creating in-between frame: 63; tween:1.00;\n",
      "  resized to 912x547\n",
      "  resized to 912x547\n"
     ]
    },
    {
     "name": "stderr",
     "output_type": "stream",
     "text": [
      "2023-03-18 20:13:34,199 - root - INFO - Calibrating color correction.\n"
     ]
    },
    {
     "name": "stdout",
     "output_type": "stream",
     "text": [
      "\u001b[32mSeed: \u001b[0m344667988\n",
      "\u001b[35mPrompt: \u001b[0mRAW photo, magic city, 8k uhd, dslr, soft lighting, high quality, film grain, Fujifilm XT3\n",
      "\u001b[91mNeg Prompt: \u001b[0m(noise), (blur), (fog), (text), (NSFW), (deformed iris, deformed pupils, semi-realistic, cgi, 3d, render, sketch, cartoon, drawing, anime:1.4), close up, cropped, out of frame, worst quality, low quality, jpeg artifacts, ugly, duplicate, morbid, mutilated, extra fingers, mutated hands, poorly drawn hands, poorly drawn face, mutation, deformed, dehydrated, bad anatomy, bad proportions, extra limbs, cloned face, disfigured, gross proportions, malformed limbs, missing arms, missing legs, extra arms, extra legs, fused fingers, too many fingers, long neck'\n"
     ]
    },
    {
     "data": {
      "application/vnd.jupyter.widget-view+json": {
       "model_id": "19b97b374fb24b229aa718a2bfc97a28",
       "version_major": 2,
       "version_minor": 0
      },
      "text/plain": [
       "  0%|          | 0/14 [00:00<?, ?it/s]"
      ]
     },
     "metadata": {},
     "output_type": "display_data"
    },
    {
     "name": "stdout",
     "output_type": "stream",
     "text": []
    },
    {
     "name": "stderr",
     "output_type": "stream",
     "text": [
      "2023-03-18 20:13:49,559 - root - INFO - Applying color correction.\n"
     ]
    },
    {
     "name": "stdout",
     "output_type": "stream",
     "text": [
      " Creating in-between frame: 64; tween:0.12;\n",
      "  resized to 912x547\n",
      " Creating in-between frame: 65; tween:0.25;\n",
      "  resized to 912x547\n",
      " Creating in-between frame: 66; tween:0.38;\n",
      "  resized to 912x547\n",
      " Creating in-between frame: 67; tween:0.50;\n",
      "  resized to 912x547\n",
      " Creating in-between frame: 68; tween:0.62;\n",
      "  resized to 912x547\n",
      " Creating in-between frame: 69; tween:0.75;\n",
      "  resized to 912x547\n",
      " Creating in-between frame: 70; tween:0.88;\n",
      "  resized to 912x547\n",
      " Creating in-between frame: 71; tween:1.00;\n",
      "  resized to 912x547\n",
      "  resized to 912x547\n"
     ]
    },
    {
     "name": "stderr",
     "output_type": "stream",
     "text": [
      "2023-03-18 20:13:59,546 - root - INFO - Calibrating color correction.\n"
     ]
    },
    {
     "name": "stdout",
     "output_type": "stream",
     "text": [
      "\u001b[32mSeed: \u001b[0m344667989\n",
      "\u001b[35mPrompt: \u001b[0mRAW photo, magic city, 8k uhd, dslr, soft lighting, high quality, film grain, Fujifilm XT3\n",
      "\u001b[91mNeg Prompt: \u001b[0m(noise), (blur), (fog), (text), (NSFW), (deformed iris, deformed pupils, semi-realistic, cgi, 3d, render, sketch, cartoon, drawing, anime:1.4), close up, cropped, out of frame, worst quality, low quality, jpeg artifacts, ugly, duplicate, morbid, mutilated, extra fingers, mutated hands, poorly drawn hands, poorly drawn face, mutation, deformed, dehydrated, bad anatomy, bad proportions, extra limbs, cloned face, disfigured, gross proportions, malformed limbs, missing arms, missing legs, extra arms, extra legs, fused fingers, too many fingers, long neck'\n"
     ]
    },
    {
     "data": {
      "application/vnd.jupyter.widget-view+json": {
       "model_id": "e4447a8af2bc49f892fa193e4ec579ae",
       "version_major": 2,
       "version_minor": 0
      },
      "text/plain": [
       "  0%|          | 0/14 [00:00<?, ?it/s]"
      ]
     },
     "metadata": {},
     "output_type": "display_data"
    }
   ],
   "source": [
    "from scripts import *\n",
    "import nbconvert\n",
    "import os\n",
    "import subprocess\n",
    "os.environ['CUDA_LAUNCH_BLOCKING'] = '1'\n",
    "\n",
    "os.chdir('F:/gg/') \n",
    "\n",
    "class stories():\n",
    "   def __init__(self):\n",
    "        self.john_serial_killer = john_serial_killer.john_serial_killer\n",
    "\n",
    "story = stories()\n",
    "\n",
    "# USABLES BELOW\n",
    "VOICE_GEN_ACTIVATE = False # generate voice from text ./voice_gen.ipynb\n",
    "GET_ARRAY_TXT_ACTIVATE = False # Format the text ./get_array_txt.ipynb #implement later\n",
    "\n",
    "IMAGE_GEN_ACTIVATE = False\n",
    "IMG2IMG_ACTIVATE = False\n",
    "STYLE_GEN_ACTIVATE = False\n",
    "FRAME_INTER_GEN_ACTIVATE = False\n",
    "VIDEO_HD_GEN_ACTIVATE = False #old version\n",
    "SRT_GEN_ACTIVATE = False\n",
    "FIRST_ORDER_ACTIVATE = False\n",
    "\n",
    "\n",
    "GENERATE_FULL_LQ_VIDEO = False\n",
    "DEFORUM =                True  #generate templates\n",
    "DUPLICATE_TEMPLATES_AND_HD_ACTIVATE = False # duplicate templates from animations and background and improve quality\n",
    "IMG_HD_GEN_ACTIVATE = False\n",
    "MERGE_AUDIO_ACTIVATE = False\n",
    "LIP_SYNC_ACTIVATE = False\n",
    "LIP_SYNC_HD_ACTIVATE = False\n",
    "ALPHA_ACTIVATE = False # Take img from lip_hd, remove the alpha and save in alpha, then merge with the bg in background gg folder and save it\n",
    "MERGE_VIDEO_ACTIVATE = False\n",
    "\n",
    "# EXCLUDE_IMG_GEN =  [0,1,2,3,4,5,6,7,8,9,10,11,12,13,14,15,16,19,21,22,23] # will not generate this indexes\n",
    "EXCLUDE_IMG_GEN =  []\n",
    "EXCLUDE_VIDEO_GEN =  [] # will not generate this indexes\n",
    "RECORD_AUDIO_AFTER = -1 # skilp until this number\n",
    "RECORD_VIDEO_AFTER = -1\n",
    "RECORD_FRAME_INTER_AFTER = -1 # -1 will start from the beginning\n",
    "RECORD_FRAME_INTER_HD_AFTER = -1 \n",
    "RECORD_FRAME_LIP = -1\n",
    "TEXT_IMAGE_GEN = story.john_serial_killer['image_generation']\n",
    "TEXT_VOICE_GEN = story.john_serial_killer['text_spoken']\n",
    "PROJECT_NAME = \"john test\"\n",
    "GEN_VIDEO = True\n",
    "IMG_NUMBER = 5\n",
    "IMG_NUMBER_IMG2IMG = 10\n",
    "SHOW_WEB_UI = True\n",
    "FPS = 15\n",
    "STATIC_BG = False\n",
    "PROJECT_BACKGROUND = \"230313 - castle\"\n",
    "LOCATION_STATIC_PNG = \"F:/gg/background/1.png\"\n",
    "\n",
    "SHOW_OUTPUT = True\n",
    "THUMBNAIL = \"Thumbnail for a youtube video with the title: Jack and the Jewel - Amazing story.\"  \n",
    "PROMPT_IMG =  \"High definition, realistic, highly detailed, illustration, digital painting, artstation, smooth, sharp focus, concept art, elegant and without text of: \"\n",
    "PROMPT_IMG = \"a beautiful cinematic render of anime, fine art, intricate, masterpiece, high definition, realistic, highly detailed, smooth, sharp focus, concept art, elegant\"\n",
    "PROMPT_IMG = \"a beautiful cinematic render, fine art, intricate, masterpiece, high definition, (((artistic))), highly detailed, smooth, sharp focus, concept art, elegant of: \"\n",
    "NEGATIVE_P = \"ugly, morbid, cloned face, missing legs, tiling, extra fingers, mutation, bad anatomy,gross proportions, \\\n",
    "   missing arm, long neck, duplicate, poorly drawn hands, poorly drawn feet, poorly drawn face, out of frame, extra limbs, \\\n",
    "   disfigured, deformed, body out of frame, blurry, blurred, watermark, grainy, signature, cut off, draft, \"\n",
    "#SPEAKER = Naoto Shirogane; SPEAKER = \"Celestia\"; SPEAKER = \"Engineer\"; SPEAKER\n",
    "#= \"Starlight\"; SPEAKER = \"Yosuke Hanamura\"; SPEAKER = \"Ryotaro Dojima\"; SPEAKER\n",
    "#= \"Kanji Tatsumi\"; SPEAKER = \"Sweetie Belle\";\n",
    "\n",
    "SPEAKER = \"Ryotaro Dojima\"  \n",
    "TALKING_SPEED = 1 \n",
    "STYLES_FOLDER = \".\\\\styles\"\n",
    "SECONDS_SILENCE = 0.75\n",
    "SKIP_VIDEO = []\n",
    "MERGE_VIDEO = True\n",
    "MODEL_14 = False\n",
    "LANGUAGES = ['pt','fr','de','hi','it','ja','es','id']\n",
    "INSERT_BACKGROUND = False\n",
    "SAVE_FOLDER = \"D://Deletar//p_gen\"\n",
    "\n",
    "if MODEL_14:\n",
    "   WIDTH = 512\n",
    "   HEIGHT = 512\n",
    "else:\n",
    "   WIDTH = 768\n",
    "   HEIGHT = 768\n",
    "\n",
    "%store WIDTH\n",
    "%store HEIGHT\n",
    "%store TEXT_IMAGE_GEN\n",
    "%store TEXT_VOICE_GEN\n",
    "%store IMG_NUMBER\n",
    "%store SAVE_FOLDER\n",
    "%store PROJECT_NAME\n",
    "%store SHOW_OUTPUT\n",
    "%store THUMBNAIL\n",
    "%store PROMPT_IMG\n",
    "%store SPEAKER\n",
    "%store TALKING_SPEED\n",
    "%store STYLES_FOLDER\n",
    "%store SECONDS_SILENCE\n",
    "%store EXCLUDE_IMG_GEN\n",
    "%store SKIP_VIDEO\n",
    "%store MERGE_VIDEO\n",
    "%store NEGATIVE_P\n",
    "%store MODEL_14\n",
    "%store LANGUAGES\n",
    "%store GEN_VIDEO\n",
    "%store INSERT_BACKGROUND\n",
    "%store RECORD_AUDIO_AFTER\n",
    "%store RECORD_VIDEO_AFTER\n",
    "%store RECORD_FRAME_INTER_AFTER\n",
    "%store RECORD_FRAME_INTER_HD_AFTER\n",
    "%store IMG_NUMBER_IMG2IMG\n",
    "%store RECORD_FRAME_LIP\n",
    "%store FPS\n",
    "%store STATIC_BG\n",
    "%store LOCATION_STATIC_PNG\n",
    "%store PROJECT_BACKGROUND\n",
    "\n",
    "if VOICE_GEN_ACTIVATE:\n",
    "    %run ./voice_gen.ipynb\n",
    "   \n",
    "\n",
    "if IMAGE_GEN_ACTIVATE:\n",
    "    %run ./generate_video.ipynb\n",
    "\n",
    "if IMG2IMG_ACTIVATE:\n",
    "   %run ./img2img.ipynb\n",
    "\n",
    "if STYLE_GEN_ACTIVATE:\n",
    "   %run ./style_transfer.ipynb\n",
    "\n",
    "if FRAME_INTER_GEN_ACTIVATE:\n",
    "   %run ./frame_inter.ipynb\n",
    "\n",
    "if VIDEO_HD_GEN_ACTIVATE:\n",
    "   %run ./high_res_video.ipynb\n",
    "\n",
    "if SRT_GEN_ACTIVATE:\n",
    "   %run ./create_srt.ipynb\n",
    "\n",
    "if FIRST_ORDER_ACTIVATE:\n",
    "   # %run ./first_order/first-order-model/demo.py --config first_order/first-order-model/config/vox-256.yaml --driving_video first_order/final.mp4 --source_image first_order/result0.jpg --checkpoint first_order/first-order-model/checkpoint/vox-cpk.pth.tar --relative --adapt_scale\n",
    "   %run ./first_order/first-order-model/first_order.ipynb\n",
    "\n",
    "\n",
    "\n",
    "if GENERATE_FULL_LQ_VIDEO:\n",
    "   # %run ./deforum/run.ipynb --enable_animation_mode --settings\n",
    "   # \"./deforum/runSettings_Template.txt\" --model \"v1-5-pruned-emaonly.ckpt\"\n",
    "   %run ./deforum/run.ipynb\n",
    "\n",
    "if DEFORUM:\n",
    "   os.chdir('./stable/')  \n",
    "   if SHOW_WEB_UI:\n",
    "      %run launch.py --xformers --enable-insecure-extension-access\n",
    "   else:\n",
    "      %run launch.py --xformers --enable-insecure-extension-access --hide_web_ui --skip-python-version-check\n",
    "      %run ./extensions/deforum/scripts/deforum.ipynb\n",
    "   os.chdir('F:/gg/')    \n",
    "   #%run launch.py --share --xformers --enable-insecure-extension-access\n",
    "\n",
    "if IMG_HD_GEN_ACTIVATE:\n",
    "   %run ./highRes.ipynb\n",
    "\n",
    "if MERGE_AUDIO_ACTIVATE:\n",
    "   %run ./merge_audio.ipynb\n",
    "\n",
    "if LIP_SYNC_ACTIVATE:\n",
    "   %run ./lip/lip.ipynb \n",
    "\n",
    "if LIP_SYNC_HD_ACTIVATE:\n",
    "   %run ./lip_hd.ipynb \n",
    "\n",
    "if ALPHA_ACTIVATE:\n",
    "   %run ./get_alpha.ipynb\n",
    "\n",
    "if MERGE_VIDEO_ACTIVATE:\n",
    "   %run ./merge_video.ipynb \n",
    "\n",
    "if DUPLICATE_TEMPLATES_AND_HD_ACTIVATE:\n",
    "   %run ./duplicate_redim.ipynb\n",
    "   \"\"\"    cmd = [\"python\", \"duplicate_redim.py\", \"--exclude-img-gen\", EXCLUDE_IMG_GEN]\n",
    "   p = subprocess.Popen(cmd)\n",
    "   p.wait() \"\"\"\n",
    "   \n",
    "\n",
    "\n"
   ]
  }
 ],
 "metadata": {
  "kernelspec": {
   "display_name": "Pyflow",
   "language": "python",
   "name": "python3"
  },
  "language_info": {
   "codemirror_mode": {
    "name": "ipython",
    "version": 3
   },
   "file_extension": ".py",
   "mimetype": "text/x-python",
   "name": "python",
   "nbconvert_exporter": "python",
   "pygments_lexer": "ipython3",
   "version": "3.9.16"
  },
  "orig_nbformat": 4,
  "vscode": {
   "interpreter": {
    "hash": "6cb0dd519e46c84f14fc2d0d6172fde6407ecb78b6d95b871c78761f2e6e52fb"
   }
  }
 },
 "nbformat": 4,
 "nbformat_minor": 2
}
