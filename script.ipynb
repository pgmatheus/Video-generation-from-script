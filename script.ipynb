{
 "cells": [
  {
   "cell_type": "code",
   "execution_count": 1,
   "metadata": {},
   "outputs": [
    {
     "name": "stderr",
     "output_type": "stream",
     "text": [
      "c:\\Users\\Matheus\\anaconda3\\envs\\Pyflow\\lib\\site-packages\\neptune\\common\\warnings.py:62: NeptuneDeprecationWarning: The 'neptune-client' package has been deprecated and will be removed in the future. Install the 'neptune' package instead. For more, see https://docs.neptune.ai/setup/upgrading/\n",
      "  warnings.warn(\n",
      "c:\\Users\\Matheus\\anaconda3\\envs\\Pyflow\\lib\\site-packages\\neptune\\common\\warnings.py:62: NeptuneDeprecationWarning: You're importing the Neptune client library via the deprecated `neptune.new` module, which will be removed in a future release. Import directly from `neptune` instead.\n",
      "  warnings.warn(\n"
     ]
    },
    {
     "name": "stdout",
     "output_type": "stream",
     "text": [
      "Stored 'WIDTH' (int)\n",
      "Stored 'HEIGHT' (int)\n",
      "Stored 'TEXT_IMAGE_GEN' (dict)\n",
      "Stored 'TEXT_VOICE_GEN' (dict)\n",
      "Stored 'IMG_NUMBER' (int)\n",
      "Stored 'SAVE_FOLDER' (str)\n",
      "Stored 'PROJECT_NAME' (str)\n",
      "Stored 'SHOW_OUTPUT' (bool)\n",
      "Stored 'THUMBNAIL' (str)\n",
      "Stored 'PROMPT_IMG' (str)\n",
      "Stored 'SPEAKER' (str)\n",
      "Stored 'TALKING_SPEED' (int)\n",
      "Stored 'STYLES_FOLDER' (str)\n",
      "Stored 'SECONDS_SILENCE' (float)\n",
      "Stored 'EXCLUDE_IMG_GEN' (list)\n",
      "Stored 'SKIP_VIDEO' (list)\n",
      "Stored 'MERGE_VIDEO' (bool)\n",
      "Stored 'NEGATIVE_P' (str)\n",
      "Stored 'MODEL_14' (bool)\n",
      "Stored 'LANGUAGES' (list)\n",
      "Stored 'GEN_VIDEO' (bool)\n",
      "Stored 'INSERT_BACKGROUND' (bool)\n",
      "Stored 'RECORD_AUDIO_AFTER' (int)\n",
      "Stored 'RECORD_VIDEO_AFTER' (int)\n",
      "Stored 'RECORD_FRAME_INTER_AFTER' (int)\n",
      "Stored 'RECORD_FRAME_INTER_HD_AFTER' (int)\n",
      "Stored 'IMG_NUMBER_IMG2IMG' (int)\n",
      "Stored 'RECORD_FRAME_LIP' (int)\n",
      "Stored 'FPS' (int)\n",
      "Stored 'STATIC_BG' (bool)\n",
      "Stored 'LOCATION_STATIC_PNG' (str)\n",
      "Stored 'PROJECT_BACKGROUND' (str)\n",
      "Python 3.9.16 (main, Jan 11 2023, 16:16:36) [MSC v.1916 64 bit (AMD64)]\n",
      "Commit hash: 9863039c71bfeb5ad6439e52887c4c73f286c290\n"
     ]
    },
    {
     "name": "stderr",
     "output_type": "stream",
     "text": [
      "==============================================================================================================\n",
      "INCOMPATIBLE PYTHON VERSION\n",
      "\n",
      "This program is tested with 3.10.6 Python, but you have 3.9.16.\n",
      "If you encounter an error with \"RuntimeError: Couldn't install torch.\" message,\n",
      "or any other error regarding unsuccessful package (library) installation,\n",
      "please downgrade (or upgrade) to the latest version of 3.10 Python\n",
      "and delete current Python and \"venv\" folder in WebUI's directory.\n",
      "\n",
      "You can download 3.10 Python from here: https://www.python.org/downloads/release/python-3109/\n",
      "\n",
      "Alternatively, use a binary release of WebUI: https://github.com/AUTOMATIC1111/stable-diffusion-webui/releases\n",
      "\n",
      "Use --skip-python-version-check to suppress this warning.\n",
      "==============================================================================================================\n"
     ]
    },
    {
     "name": "stdout",
     "output_type": "stream",
     "text": [
      "Launching Web UI with arguments: --xformers --enable-insecure-extension-access\n"
     ]
    },
    {
     "name": "stderr",
     "output_type": "stream",
     "text": [
      "c:\\Users\\Matheus\\anaconda3\\envs\\Pyflow\\lib\\site-packages\\pytorch_lightning\\utilities\\distributed.py:258: LightningDeprecationWarning: `pytorch_lightning.utilities.distributed.rank_zero_only` has been deprecated in v1.8.1 and will be removed in v2.0.0. You can import it from `pytorch_lightning.utilities` instead.\n",
      "  rank_zero_deprecation(\n",
      "c:\\Users\\Matheus\\anaconda3\\envs\\Pyflow\\lib\\site-packages\\pytorch_lightning\\utilities\\distributed.py:258: LightningDeprecationWarning: `pytorch_lightning.utilities.distributed.rank_zero_only` has been deprecated in v1.8.1 and will be removed in v2.0.0. You can import it from `pytorch_lightning.utilities` instead.\n",
      "  rank_zero_deprecation(\n"
     ]
    },
    {
     "name": "stdout",
     "output_type": "stream",
     "text": [
      "Loading weights [e6415c4892] from F:\\gg\\stable\\models\\Stable-diffusion\\realisticVisionV20_v20.safetensors\n",
      "Creating model from config: F:\\gg\\stable\\configs\\v1-inference.yaml\n",
      "LatentDiffusion: Running in eps-prediction mode\n",
      "DiffusionWrapper has 859.52 M params.\n",
      "Applying xformers cross attention optimization.\n",
      "Textual inversion embeddings loaded(0): \n",
      "Model loaded in 14.2s (load weights from disk: 1.1s, create model: 0.4s, apply weights to model: 10.2s, apply half(): 0.8s, move model to device: 0.9s, load textual inversion embeddings: 0.8s).\n",
      "\u001b[0;32m*Deforum ControlNet support: enabled*\u001b[0m\n",
      "Running on local URL:  http://127.0.0.1:7860\n",
      "\n",
      "To create a public link, set `share=True` in `launch()`.\n"
     ]
    },
    {
     "data": {
      "text/html": [
       "<div><iframe src=\"http://127.0.0.1:7860/\" width=\"100%\" height=\"500\" allow=\"autoplay; camera; microphone; clipboard-read; clipboard-write;\" frameborder=\"0\" allowfullscreen></iframe></div>"
      ],
      "text/plain": [
       "<IPython.core.display.HTML object>"
      ]
     },
     "metadata": {},
     "output_type": "display_data"
    },
    {
     "name": "stdout",
     "output_type": "stream",
     "text": [
      "\u001b[4;33mDeforum extension for auto1111 webui, v2.3b\u001b[0m\n",
      "Git commit: \n",
      "start - anim_args\n",
      "namespace(animation_mode='3D', max_frames=120, border='replicate', angle='0:(0)', zoom='0:(1.0025+0.002*sin(1.25*3.14*t/30))', translation_x='0:(0)', translation_y='0:(0)', translation_z='0:(0.5)', transform_center_x='0:(0.5)', transform_center_y='0:(0.5)', rotation_3d_x='0:(0)', rotation_3d_y='0:(0)', rotation_3d_z='0:(0)', enable_perspective_flip=False, perspective_flip_theta='0:(0)', perspective_flip_phi='0:(0)', perspective_flip_gamma='0:(0)', perspective_flip_fv='0:(53)', noise_schedule='0: (0.065)', strength_schedule='0:(0.65)', contrast_schedule='0: (1.0)', cfg_scale_schedule='0: (7)', pix2pix_img_cfg_scale_schedule='0:(1.5)', enable_subseed_scheduling=False, subseed_schedule='0:(1)', subseed_strength_schedule='0:(0)', enable_steps_scheduling=False, steps_schedule='0: (25)', fov_schedule='0: (70)', aspect_ratio_schedule='0: (1)', near_schedule='0: (200)', far_schedule='0: (10000)', seed_schedule='0:(s), 1:(-1), \"max_f-2\":(-1), \"max_f-1\":(s)', enable_sampler_scheduling=False, sampler_schedule='0: (\"Euler a\")', mask_schedule='0: (\"{video_mask}\")', use_noise_mask=False, noise_mask_schedule='0: (\"{video_mask}\")', enable_checkpoint_scheduling=False, checkpoint_schedule='0: (\"model1.ckpt\"), 100: (\"model2.ckpt\")', enable_clipskip_scheduling=False, clipskip_schedule='0: (2)', enable_noise_multiplier_scheduling=True, noise_multiplier_schedule='0: (1.05)', kernel_schedule='0: (5)', sigma_schedule='0: (1.0)', amount_schedule='0: (0.1)', threshold_schedule='0: (0.0)', color_coherence='LAB', color_coherence_image_path='', color_coherence_video_every_N_frames=1.0, color_force_grayscale=False, diffusion_cadence=4, optical_flow_cadence='None', optical_flow_redo_generation=False, diffusion_redo='0', noise_type='perlin', perlin_w=8, perlin_h=8, perlin_octaves=4, perlin_persistence=0.5, use_depth_warping=True, midas_weight=0.2, padding_mode='border', sampling_mode='bicubic', save_depth_maps=False, video_init_path='https://deforum.github.io/a1/V1.mp4', extract_nth_frame=1, extract_from_frame=0, extract_to_frame=-1, overwrite_extracted_frames=False, use_mask_video=False, video_mask_path='https://deforum.github.io/a1/VM1.mp4', resume_from_timestring=False, resume_timestring='20230129210106', hybrid_generate_inputframes=False, hybrid_generate_human_masks='None', hybrid_use_first_frame_as_init_image=True, hybrid_motion='None', hybrid_motion_use_prev_img=False, hybrid_flow_method='DIS Fine', hybrid_composite=False, hybrid_comp_mask_type='None', hybrid_comp_mask_inverse=False, hybrid_comp_mask_equalize='None', hybrid_comp_mask_auto_contrast=False, hybrid_comp_save_extra_frames=False, hybrid_comp_alpha_schedule='0:(0.5)', hybrid_flow_factor_schedule='0:(1)', hybrid_comp_mask_blend_alpha_schedule='0:(0.5)', hybrid_comp_mask_contrast_schedule='0:(1)', hybrid_comp_mask_auto_contrast_cutoff_high_schedule='0:(100)', hybrid_comp_mask_auto_contrast_cutoff_low_schedule='0:(0)')\n",
      "end\n",
      "start - video_args\n",
      "namespace(skip_video_creation=False, fps=15, make_gif=False, delete_imgs=False, output_format='FFMPEG mp4', ffmpeg_location='c:\\\\Users\\\\Matheus\\\\anaconda3\\\\envs\\\\Pyflow\\\\lib\\\\site-packages\\\\imageio_ffmpeg\\\\binaries\\\\ffmpeg-win64-v4.2.2.exe', ffmpeg_crf='17', ffmpeg_preset='slow', add_soundtrack='None', soundtrack_path='https://deforum.github.io/a1/A1.mp3', r_upscale_video=True, r_upscale_model='realesrgan-x4plus-anime', r_upscale_factor='x4', r_upscale_keep_imgs=False, render_steps=False, path_name_modifier='x0_pred', image_path='C:/SD/20230124234916_%09d.png', mp4_path='testvidmanualsettings.mp4', store_frames_in_ram=False, frame_interpolation_engine='None', frame_interpolation_x_amount=2, frame_interpolation_slow_mo_enabled=False, frame_interpolation_slow_mo_amount=2, frame_interpolation_keep_imgs=False)\n",
      "end\n",
      "start - parseq_args\n",
      "namespace(parseq_manifest=None, parseq_use_deltas=True)\n",
      "end\n",
      "start - loop_args\n",
      "namespace(use_looper=False, init_images='{\\n    \"0\": \"https://deforum.github.io/a1/Gi1.png\",\\n    \"max_f/4-5\": \"https://deforum.github.io/a1/Gi2.png\",\\n    \"max_f/2-10\": \"https://deforum.github.io/a1/Gi3.png\",\\n    \"3*max_f/4-15\": \"https://deforum.github.io/a1/Gi4.jpg\",\\n    \"max_f-20\": \"https://deforum.github.io/a1/Gi1.png\"\\n}', image_strength_schedule='0:(0.75)', blendFactorMax='0:(0.35)', blendFactorSlope='0:(0.25)', tweening_frames_schedule='0:(20)', color_correction_factor='0:(0.075)')\n",
      "end\n",
      "start - controlnet_args\n",
      "namespace(controlnet_input_video_chosen_file=None, controlnet_input_video_mask_chosen_file=None, controlnet_overwrite_frames=True, controlnet_vid_path='', controlnet_mask_vid_path='', controlnet_enabled=False, controlnet_guess_mode=False, controlnet_invert_image=False, controlnet_rgbbgr_mode=False, controlnet_lowvram=False, controlnet_module='none', controlnet_model='None', controlnet_weight=1, controlnet_guidance_start=0, controlnet_guidance_end=1, controlnet_processor_res=64, controlnet_threshold_a=64, controlnet_threshold_b=64, controlnet_resize_mode='Scale to Fit (Inner Fit)')\n",
      "end\n",
      "start - root.animation_prompts\n",
      "{'0': '(high definition), beautiful,  A neon-colored abstract cityscape with towering buildings and flashing lights. The only sign of life is a lone figure in the distance. --neg  (NSFW), (ugly), noise, blur, fog, text, ', '90': '(high definition), beautiful,  A kaleidoscope of shapes and colors twisting and morphing into each other in a mesmerizing display. --neg  (NSFW), (ugly), noise, blur, fog, text, ', '180': '(high definition), beautiful,  An intricate network of glowing circuits and wires pulsing with energy, almost like a living organism. --neg  (NSFW), (ugly), noise, blur, fog, text, ', '270': '(high definition), beautiful,  A vast, empty space with a single object in the center - a glowing orb that seems to be drawing all the energy and light towards it. --neg  (NSFW), (ugly), noise, blur, fog, text, ', '360': '(high definition), beautiful,  A pulsating, throbbing mass of energy that seems to be growing and expanding, almost like a living creature. --neg  (NSFW), (ugly), noise, blur, fog, text, ', '450': '(high definition), beautiful,  A glitchy, distorted world where the laws of physics no longer apply. Shapes and colors warp and contort in impossible ways. --neg  (NSFW), (ugly), noise, blur, fog, text, ', '540': '(high definition), beautiful,  A matrix of intersecting lines and shapes that seem to be forming a giant, abstract spiderweb. --neg  (NSFW), (ugly), noise, blur, fog, text, ', '630': '(high definition), beautiful,  A swirling vortex of color and sound, drawing everything in its path towards a central point. --neg  (NSFW), (ugly), noise, blur, fog, text, ', '720': '(high definition), beautiful,  A labyrinthine maze of glowing tunnels and passages, with no clear end in sight. --neg  (NSFW), (ugly), noise, blur, fog, text, ', '810': '(high definition), beautiful,  A cityscape seen from above, with neon lights and flickering signs creating a mesmerizing display. --neg  (NSFW), (ugly), noise, blur, fog, text, ', '900': '(high definition), beautiful,  A psychedelic forest of towering, luminescent trees and strange, otherworldly creatures. --neg  (NSFW), (ugly), noise, blur, fog, text, ', '990': '(high definition), beautiful,  A vast, empty desert landscape, with nothing but sand and sky as far as the eye can see. --neg  (NSFW), (ugly), noise, blur, fog, text, ', '1080': '(high definition), beautiful,  A chaotic, glitchy world where reality is constantly shifting and changing, and nothing can be trusted. --neg  (NSFW), (ugly), noise, blur, fog, text, ', '1170': '(high definition), beautiful,  A dark, foreboding cave system, filled with strange, glowing crystals and ominous shadows. --neg  (NSFW), (ugly), noise, blur, fog, text, ', '1260': '(high definition), beautiful,  A neon-colored rollercoaster that twists and turns through a futuristic cityscape. --neg  (NSFW), (ugly), noise, blur, fog, text, ', '1350': '(high definition), beautiful,  A shimmering, translucent ocean filled with strange, alien life forms. --neg  (NSFW), (ugly), noise, blur, fog, text, ', '1440': '(high definition), beautiful,  A towering, futuristic cityscape that seems to go on forever, with flashing lights and neon signs as far as the eye can see. --neg  (NSFW), (ugly), noise, blur, fog, text, ', '1530': '(high definition), beautiful,  A pulsating, rhythmic mass of energy that seems to be moving in time with the music. --neg  (NSFW), (ugly), noise, blur, fog, text, ', '1620': '(high definition), beautiful,  A vast, empty space filled with slowly moving clouds of gas and dust. --neg  (NSFW), (ugly), noise, blur, fog, text, ', '1710': '(high definition), beautiful,  A kaleidoscope of shapes and colors that seem to be forming a giant, abstract mandala. --neg  (NSFW), (ugly), noise, blur, fog, text, ', '1800': '(high definition), beautiful,  A dark, stormy night sky filled with flashing bolts of lightning and ominous clouds. --neg  (NSFW), (ugly), noise, blur, fog, text, ', '1890': '(high definition), beautiful,  A strange, otherworldly landscape filled with bizarre rock formations and surreal vistas. --neg  (NSFW), (ugly), noise, blur, fog, text, ', '1980': '(high definition), beautiful,  A distorted, glitchy version of reality where nothing is quite as it seems. --neg  (NSFW), (ugly), noise, blur, fog, text, ', '2070': '(high definition), beautiful,  A surreal, dreamlike world filled with floating islands and strange, abstract shapes. --neg  (NSFW), (ugly), noise, blur, fog, text, ', '2160': '(high definition), beautiful,  A vast, empty desert landscape, with nothing but sand and sky as far as the eye can see. --neg  (NSFW), (ugly), noise, blur, fog, text, ', '2250': '(high definition), beautiful,  A towering, futuristic cityscape that seems to go on forever, with flashing lights and neon signs as far as the eye can see. --neg  (NSFW), (ugly), noise, blur, fog, text, ', '2340': '(high definition), beautiful,  A pulsating, rhythmic mass of energy that seems to be moving in time with the music. --neg  (NSFW), (ugly), noise, blur, fog, text, ', '2430': '(high definition), beautiful,  A dark, foreboding cave system, filled with strange, glowing crystals and ominous shadows. --neg  (NSFW), (ugly), noise, blur, fog, text, ', '2520': '(high definition), beautiful,  A shimmering, translucent ocean filled with strange, alien life forms. --neg  (NSFW), (ugly), noise, blur, fog, text, ', '2610': '(high definition), beautiful,  A chaotic, glitchy world where reality is constantly shifting and changing, and nothing can be trusted. --neg  (NSFW), (ugly), noise, blur, fog, text, ', '2700': '(high definition), beautiful,  A neon-colored rollercoaster that twists and turns through a futuristic cityscape. --neg  (NSFW), (ugly), noise, blur, fog, text, ', '2790': '(high definition), beautiful,  A kaleidoscope of shapes and colors that seem to be forming a giant, abstract mandala. --neg  (NSFW), (ugly), noise, blur, fog, text, ', '2880': '(high definition), beautiful,  A pulsating, throbbing mass of energy that seems to be growing and expanding, almost like a living creature. --neg  (NSFW), (ugly), noise, blur, fog, text, ', '2970': '(high definition), beautiful,  A vast, empty space with a single object in the center - a glowing orb that seems to be drawing all the energy and light towards it. --neg  (NSFW), (ugly), noise, blur, fog, text, ', '3060': '(high definition), beautiful,  An intricate network of glowing circuits and wires pulsing with energy, almost like a living organism. --neg  (NSFW), (ugly), noise, blur, fog, text, ', '3150': '(high definition), beautiful,  A surreal, dreamlike world filled with floating islands and strange, abstract shapes. --neg  (NSFW), (ugly), noise, blur, fog, text, ', '3240': '(high definition), beautiful,  A dark, stormy night sky filled with flashing bolts of lightning and ominous clouds. --neg  (NSFW), (ugly), noise, blur, fog, text, ', '3330': '(high definition), beautiful,  A neon-colored abstract cityscape with towering buildings and flashing lights. The only sign of life is a lone figure in the distance. --neg  (NSFW), (ugly), noise, blur, fog, text, ', '3420': '(high definition), beautiful,  A glitchy, distorted world where the laws of physics no longer apply. Shapes and colors warp and contort in impossible ways. --neg  (NSFW), (ugly), noise, blur, fog, text, ', '3510': '(high definition), beautiful,  A towering, futuristic cityscape that seems to go on forever, with flashing lights and neon signs as far as the eye can see. --neg  (NSFW), (ugly), noise, blur, fog, text, '}\n",
      "end\n",
      "start - root\n",
      "namespace(device=device(type='cuda'), models_path='F:\\\\gg\\\\stable\\\\models/Deforum', half_precision=True, mask_preset_names=['everywhere', 'video_mask'], p=<modules.processing.StableDiffusionProcessingImg2Img object at 0x000002059B2D4520>, frames_cache=[], raw_batch_name='Deforum_{timestring}', raw_seed=-1, initial_seed=None, initial_info=None, first_frame=None, outpath_samples='outputs/img2img-images\\\\Deforum_20230330000830', animation_prompts={'0': '(high definition), beautiful,  A neon-colored abstract cityscape with towering buildings and flashing lights. The only sign of life is a lone figure in the distance. --neg  (NSFW), (ugly), noise, blur, fog, text, ', '90': '(high definition), beautiful,  A kaleidoscope of shapes and colors twisting and morphing into each other in a mesmerizing display. --neg  (NSFW), (ugly), noise, blur, fog, text, ', '180': '(high definition), beautiful,  An intricate network of glowing circuits and wires pulsing with energy, almost like a living organism. --neg  (NSFW), (ugly), noise, blur, fog, text, ', '270': '(high definition), beautiful,  A vast, empty space with a single object in the center - a glowing orb that seems to be drawing all the energy and light towards it. --neg  (NSFW), (ugly), noise, blur, fog, text, ', '360': '(high definition), beautiful,  A pulsating, throbbing mass of energy that seems to be growing and expanding, almost like a living creature. --neg  (NSFW), (ugly), noise, blur, fog, text, ', '450': '(high definition), beautiful,  A glitchy, distorted world where the laws of physics no longer apply. Shapes and colors warp and contort in impossible ways. --neg  (NSFW), (ugly), noise, blur, fog, text, ', '540': '(high definition), beautiful,  A matrix of intersecting lines and shapes that seem to be forming a giant, abstract spiderweb. --neg  (NSFW), (ugly), noise, blur, fog, text, ', '630': '(high definition), beautiful,  A swirling vortex of color and sound, drawing everything in its path towards a central point. --neg  (NSFW), (ugly), noise, blur, fog, text, ', '720': '(high definition), beautiful,  A labyrinthine maze of glowing tunnels and passages, with no clear end in sight. --neg  (NSFW), (ugly), noise, blur, fog, text, ', '810': '(high definition), beautiful,  A cityscape seen from above, with neon lights and flickering signs creating a mesmerizing display. --neg  (NSFW), (ugly), noise, blur, fog, text, ', '900': '(high definition), beautiful,  A psychedelic forest of towering, luminescent trees and strange, otherworldly creatures. --neg  (NSFW), (ugly), noise, blur, fog, text, ', '990': '(high definition), beautiful,  A vast, empty desert landscape, with nothing but sand and sky as far as the eye can see. --neg  (NSFW), (ugly), noise, blur, fog, text, ', '1080': '(high definition), beautiful,  A chaotic, glitchy world where reality is constantly shifting and changing, and nothing can be trusted. --neg  (NSFW), (ugly), noise, blur, fog, text, ', '1170': '(high definition), beautiful,  A dark, foreboding cave system, filled with strange, glowing crystals and ominous shadows. --neg  (NSFW), (ugly), noise, blur, fog, text, ', '1260': '(high definition), beautiful,  A neon-colored rollercoaster that twists and turns through a futuristic cityscape. --neg  (NSFW), (ugly), noise, blur, fog, text, ', '1350': '(high definition), beautiful,  A shimmering, translucent ocean filled with strange, alien life forms. --neg  (NSFW), (ugly), noise, blur, fog, text, ', '1440': '(high definition), beautiful,  A towering, futuristic cityscape that seems to go on forever, with flashing lights and neon signs as far as the eye can see. --neg  (NSFW), (ugly), noise, blur, fog, text, ', '1530': '(high definition), beautiful,  A pulsating, rhythmic mass of energy that seems to be moving in time with the music. --neg  (NSFW), (ugly), noise, blur, fog, text, ', '1620': '(high definition), beautiful,  A vast, empty space filled with slowly moving clouds of gas and dust. --neg  (NSFW), (ugly), noise, blur, fog, text, ', '1710': '(high definition), beautiful,  A kaleidoscope of shapes and colors that seem to be forming a giant, abstract mandala. --neg  (NSFW), (ugly), noise, blur, fog, text, ', '1800': '(high definition), beautiful,  A dark, stormy night sky filled with flashing bolts of lightning and ominous clouds. --neg  (NSFW), (ugly), noise, blur, fog, text, ', '1890': '(high definition), beautiful,  A strange, otherworldly landscape filled with bizarre rock formations and surreal vistas. --neg  (NSFW), (ugly), noise, blur, fog, text, ', '1980': '(high definition), beautiful,  A distorted, glitchy version of reality where nothing is quite as it seems. --neg  (NSFW), (ugly), noise, blur, fog, text, ', '2070': '(high definition), beautiful,  A surreal, dreamlike world filled with floating islands and strange, abstract shapes. --neg  (NSFW), (ugly), noise, blur, fog, text, ', '2160': '(high definition), beautiful,  A vast, empty desert landscape, with nothing but sand and sky as far as the eye can see. --neg  (NSFW), (ugly), noise, blur, fog, text, ', '2250': '(high definition), beautiful,  A towering, futuristic cityscape that seems to go on forever, with flashing lights and neon signs as far as the eye can see. --neg  (NSFW), (ugly), noise, blur, fog, text, ', '2340': '(high definition), beautiful,  A pulsating, rhythmic mass of energy that seems to be moving in time with the music. --neg  (NSFW), (ugly), noise, blur, fog, text, ', '2430': '(high definition), beautiful,  A dark, foreboding cave system, filled with strange, glowing crystals and ominous shadows. --neg  (NSFW), (ugly), noise, blur, fog, text, ', '2520': '(high definition), beautiful,  A shimmering, translucent ocean filled with strange, alien life forms. --neg  (NSFW), (ugly), noise, blur, fog, text, ', '2610': '(high definition), beautiful,  A chaotic, glitchy world where reality is constantly shifting and changing, and nothing can be trusted. --neg  (NSFW), (ugly), noise, blur, fog, text, ', '2700': '(high definition), beautiful,  A neon-colored rollercoaster that twists and turns through a futuristic cityscape. --neg  (NSFW), (ugly), noise, blur, fog, text, ', '2790': '(high definition), beautiful,  A kaleidoscope of shapes and colors that seem to be forming a giant, abstract mandala. --neg  (NSFW), (ugly), noise, blur, fog, text, ', '2880': '(high definition), beautiful,  A pulsating, throbbing mass of energy that seems to be growing and expanding, almost like a living creature. --neg  (NSFW), (ugly), noise, blur, fog, text, ', '2970': '(high definition), beautiful,  A vast, empty space with a single object in the center - a glowing orb that seems to be drawing all the energy and light towards it. --neg  (NSFW), (ugly), noise, blur, fog, text, ', '3060': '(high definition), beautiful,  An intricate network of glowing circuits and wires pulsing with energy, almost like a living organism. --neg  (NSFW), (ugly), noise, blur, fog, text, ', '3150': '(high definition), beautiful,  A surreal, dreamlike world filled with floating islands and strange, abstract shapes. --neg  (NSFW), (ugly), noise, blur, fog, text, ', '3240': '(high definition), beautiful,  A dark, stormy night sky filled with flashing bolts of lightning and ominous clouds. --neg  (NSFW), (ugly), noise, blur, fog, text, ', '3330': '(high definition), beautiful,  A neon-colored abstract cityscape with towering buildings and flashing lights. The only sign of life is a lone figure in the distance. --neg  (NSFW), (ugly), noise, blur, fog, text, ', '3420': '(high definition), beautiful,  A glitchy, distorted world where the laws of physics no longer apply. Shapes and colors warp and contort in impossible ways. --neg  (NSFW), (ugly), noise, blur, fog, text, ', '3510': '(high definition), beautiful,  A towering, futuristic cityscape that seems to go on forever, with flashing lights and neon signs as far as the eye can see. --neg  (NSFW), (ugly), noise, blur, fog, text, '}, color_corrections=None, initial_clipskip=None, current_user_os='Windows', tmp_deforum_run_duplicated_folder='C:\\\\Users\\\\Matheus\\\\AppData\\\\Local\\\\Temp\\\\tmp_run_deforum', positive_prompts='(high definition), beautiful, ', negative_prompts=' (NSFW), (ugly), noise, blur, fog, text, ')\n",
      "end\n",
      "Saving animation frames to:\n",
      "F:\\gg\\stable\\outputs/img2img-images\\Deforum_20230330000830\n",
      "Loading base model ()...Done.\n",
      "Removing last two layers (global_pool & classifier).\n",
      "Building Encoder-Decoder model..Done.\n",
      "\u001b[36mAnimation frame: \u001b[0m0/120  \n",
      "\u001b[32mSeed: \u001b[0m19407979\n",
      "\u001b[35mPrompt: \u001b[0m(high definition), beautiful,  A neon-colored abstract cityscape with towering buildings and flashing lights. The only sign of life is a lone figure in the distance.\n",
      "\u001b[91mNeg Prompt: \u001b[0m(NSFW), (ugly), noise, blur, fog, text,\n",
      "Not using an init image (doing pure txt2img)\n"
     ]
    },
    {
     "data": {
      "text/html": [
       "<pre style=\"white-space:pre;overflow-x:auto;line-height:normal;font-family:Menlo,'DejaVu Sans Mono',consolas,'Courier New',monospace\">╭─────┬───┬───────┬────┬────┬────┬────┬────┬────╮\n",
       "│<span style=\"font-weight: bold\">Steps</span>│<span style=\"font-weight: bold\">CFG</span>│<span style=\"font-weight: bold\">Denoise</span>│<span style=\"font-weight: bold\">Tr X</span>│<span style=\"font-weight: bold\">Tr Y</span>│<span style=\"font-weight: bold\">Tr Z</span>│<span style=\"font-weight: bold\">Ro X</span>│<span style=\"font-weight: bold\">Ro Y</span>│<span style=\"font-weight: bold\">Ro Z</span>│\n",
       "├─────┼───┼───────┼────┼────┼────┼────┼────┼────┤\n",
       "│ 25  │7.0│ None  │ 0  │ 0  │0.5 │ 0  │ 0  │ 0  │\n",
       "╰─────┴───┴───────┴────┴────┴────┴────┴────┴────╯\n",
       "</pre>\n"
      ],
      "text/plain": [
       "╭─────┬───┬───────┬────┬────┬────┬────┬────┬────╮\n",
       "│\u001b[1mSteps\u001b[0m│\u001b[1mCFG\u001b[0m│\u001b[1mDenoise\u001b[0m│\u001b[1mTr X\u001b[0m│\u001b[1mTr Y\u001b[0m│\u001b[1mTr Z\u001b[0m│\u001b[1mRo X\u001b[0m│\u001b[1mRo Y\u001b[0m│\u001b[1mRo Z\u001b[0m│\n",
       "├─────┼───┼───────┼────┼────┼────┼────┼────┼────┤\n",
       "│ 25  │7.0│ None  │ 0  │ 0  │0.5 │ 0  │ 0  │ 0  │\n",
       "╰─────┴───┴───────┴────┴────┴────┴────┴────┴────╯\n"
      ]
     },
     "metadata": {},
     "output_type": "display_data"
    },
    {
     "data": {
      "application/vnd.jupyter.widget-view+json": {
       "model_id": "f1a50862204f49509dc543fb30b17207",
       "version_major": 2,
       "version_minor": 0
      },
      "text/plain": [
       "  0%|          | 0/25 [00:00<?, ?it/s]"
      ]
     },
     "metadata": {},
     "output_type": "display_data"
    },
    {
     "name": "stdout",
     "output_type": "stream",
     "text": [
      "\u001b[36mAnimation frame: \u001b[0m4/120  \n",
      "Creating in-between cadence frame: 0; tween:0.25;\n",
      "Creating in-between cadence frame: 1; tween:0.50;\n",
      "Creating in-between cadence frame: 2; tween:0.75;\n",
      "Creating in-between cadence frame: 3; tween:1.00;\n",
      "\u001b[32mSeed: \u001b[0m19407980\n",
      "\u001b[35mPrompt: \u001b[0m(high definition), beautiful,  A neon-colored abstract cityscape with towering buildings and flashing lights. The only sign of life is a lone figure in the distance.\n",
      "\u001b[91mNeg Prompt: \u001b[0m(NSFW), (ugly), noise, blur, fog, text,\n"
     ]
    },
    {
     "data": {
      "text/html": [
       "<pre style=\"white-space:pre;overflow-x:auto;line-height:normal;font-family:Menlo,'DejaVu Sans Mono',consolas,'Courier New',monospace\">╭─────┬───┬───────┬────┬────┬────┬────┬────┬────╮\n",
       "│<span style=\"font-weight: bold\">Steps</span>│<span style=\"font-weight: bold\">CFG</span>│<span style=\"font-weight: bold\">Denoise</span>│<span style=\"font-weight: bold\">Tr X</span>│<span style=\"font-weight: bold\">Tr Y</span>│<span style=\"font-weight: bold\">Tr Z</span>│<span style=\"font-weight: bold\">Ro X</span>│<span style=\"font-weight: bold\">Ro Y</span>│<span style=\"font-weight: bold\">Ro Z</span>│\n",
       "├─────┼───┼───────┼────┼────┼────┼────┼────┼────┤\n",
       "│ 25  │7.0│ 0.35  │ 0  │ 0  │0.5 │ 0  │ 0  │ 0  │\n",
       "╰─────┴───┴───────┴────┴────┴────┴────┴────┴────╯\n",
       "</pre>\n"
      ],
      "text/plain": [
       "╭─────┬───┬───────┬────┬────┬────┬────┬────┬────╮\n",
       "│\u001b[1mSteps\u001b[0m│\u001b[1mCFG\u001b[0m│\u001b[1mDenoise\u001b[0m│\u001b[1mTr X\u001b[0m│\u001b[1mTr Y\u001b[0m│\u001b[1mTr Z\u001b[0m│\u001b[1mRo X\u001b[0m│\u001b[1mRo Y\u001b[0m│\u001b[1mRo Z\u001b[0m│\n",
       "├─────┼───┼───────┼────┼────┼────┼────┼────┼────┤\n",
       "│ 25  │7.0│ 0.35  │ 0  │ 0  │0.5 │ 0  │ 0  │ 0  │\n",
       "╰─────┴───┴───────┴────┴────┴────┴────┴────┴────╯\n"
      ]
     },
     "metadata": {},
     "output_type": "display_data"
    },
    {
     "name": "stderr",
     "output_type": "stream",
     "text": [
      "2023-03-30 00:09:02,488 - root - INFO - Calibrating color correction.\n"
     ]
    },
    {
     "data": {
      "application/vnd.jupyter.widget-view+json": {
       "model_id": "698c8bec0a0047929ec035e845ce4f00",
       "version_major": 2,
       "version_minor": 0
      },
      "text/plain": [
       "  0%|          | 0/9 [00:00<?, ?it/s]"
      ]
     },
     "metadata": {},
     "output_type": "display_data"
    },
    {
     "name": "stdout",
     "output_type": "stream",
     "text": []
    },
    {
     "name": "stderr",
     "output_type": "stream",
     "text": [
      "2023-03-30 00:09:04,631 - root - INFO - Applying color correction.\n"
     ]
    },
    {
     "name": "stdout",
     "output_type": "stream",
     "text": [
      "\u001b[36mAnimation frame: \u001b[0m8/120  \n",
      "Creating in-between cadence frame: 4; tween:0.25;\n",
      "Creating in-between cadence frame: 5; tween:0.50;\n",
      "Creating in-between cadence frame: 6; tween:0.75;\n",
      "Creating in-between cadence frame: 7; tween:1.00;\n",
      "\u001b[32mSeed: \u001b[0m19407981\n",
      "\u001b[35mPrompt: \u001b[0m(high definition), beautiful,  A neon-colored abstract cityscape with towering buildings and flashing lights. The only sign of life is a lone figure in the distance.\n",
      "\u001b[91mNeg Prompt: \u001b[0m(NSFW), (ugly), noise, blur, fog, text,\n"
     ]
    },
    {
     "data": {
      "text/html": [
       "<pre style=\"white-space:pre;overflow-x:auto;line-height:normal;font-family:Menlo,'DejaVu Sans Mono',consolas,'Courier New',monospace\">╭─────┬───┬───────┬────┬────┬────┬────┬────┬────╮\n",
       "│<span style=\"font-weight: bold\">Steps</span>│<span style=\"font-weight: bold\">CFG</span>│<span style=\"font-weight: bold\">Denoise</span>│<span style=\"font-weight: bold\">Tr X</span>│<span style=\"font-weight: bold\">Tr Y</span>│<span style=\"font-weight: bold\">Tr Z</span>│<span style=\"font-weight: bold\">Ro X</span>│<span style=\"font-weight: bold\">Ro Y</span>│<span style=\"font-weight: bold\">Ro Z</span>│\n",
       "├─────┼───┼───────┼────┼────┼────┼────┼────┼────┤\n",
       "│ 25  │7.0│ 0.35  │ 0  │ 0  │0.5 │ 0  │ 0  │ 0  │\n",
       "╰─────┴───┴───────┴────┴────┴────┴────┴────┴────╯\n",
       "</pre>\n"
      ],
      "text/plain": [
       "╭─────┬───┬───────┬────┬────┬────┬────┬────┬────╮\n",
       "│\u001b[1mSteps\u001b[0m│\u001b[1mCFG\u001b[0m│\u001b[1mDenoise\u001b[0m│\u001b[1mTr X\u001b[0m│\u001b[1mTr Y\u001b[0m│\u001b[1mTr Z\u001b[0m│\u001b[1mRo X\u001b[0m│\u001b[1mRo Y\u001b[0m│\u001b[1mRo Z\u001b[0m│\n",
       "├─────┼───┼───────┼────┼────┼────┼────┼────┼────┤\n",
       "│ 25  │7.0│ 0.35  │ 0  │ 0  │0.5 │ 0  │ 0  │ 0  │\n",
       "╰─────┴───┴───────┴────┴────┴────┴────┴────┴────╯\n"
      ]
     },
     "metadata": {},
     "output_type": "display_data"
    },
    {
     "name": "stderr",
     "output_type": "stream",
     "text": [
      "2023-03-30 00:09:05,448 - root - INFO - Calibrating color correction.\n"
     ]
    },
    {
     "data": {
      "application/vnd.jupyter.widget-view+json": {
       "model_id": "b5d3a4412f9249b48deb8ea325bc648d",
       "version_major": 2,
       "version_minor": 0
      },
      "text/plain": [
       "  0%|          | 0/9 [00:00<?, ?it/s]"
      ]
     },
     "metadata": {},
     "output_type": "display_data"
    },
    {
     "name": "stdout",
     "output_type": "stream",
     "text": []
    },
    {
     "name": "stderr",
     "output_type": "stream",
     "text": [
      "2023-03-30 00:09:07,324 - root - INFO - Applying color correction.\n"
     ]
    },
    {
     "name": "stdout",
     "output_type": "stream",
     "text": [
      "\u001b[36mAnimation frame: \u001b[0m12/120  \n",
      "Creating in-between cadence frame: 8; tween:0.25;\n",
      "Creating in-between cadence frame: 9; tween:0.50;\n",
      "Creating in-between cadence frame: 10; tween:0.75;\n",
      "Creating in-between cadence frame: 11; tween:1.00;\n",
      "\u001b[32mSeed: \u001b[0m19407982\n",
      "\u001b[35mPrompt: \u001b[0m(high definition), beautiful,  A neon-colored abstract cityscape with towering buildings and flashing lights. The only sign of life is a lone figure in the distance.\n",
      "\u001b[91mNeg Prompt: \u001b[0m(NSFW), (ugly), noise, blur, fog, text,\n"
     ]
    },
    {
     "data": {
      "text/html": [
       "<pre style=\"white-space:pre;overflow-x:auto;line-height:normal;font-family:Menlo,'DejaVu Sans Mono',consolas,'Courier New',monospace\">╭─────┬───┬───────┬────┬────┬────┬────┬────┬────╮\n",
       "│<span style=\"font-weight: bold\">Steps</span>│<span style=\"font-weight: bold\">CFG</span>│<span style=\"font-weight: bold\">Denoise</span>│<span style=\"font-weight: bold\">Tr X</span>│<span style=\"font-weight: bold\">Tr Y</span>│<span style=\"font-weight: bold\">Tr Z</span>│<span style=\"font-weight: bold\">Ro X</span>│<span style=\"font-weight: bold\">Ro Y</span>│<span style=\"font-weight: bold\">Ro Z</span>│\n",
       "├─────┼───┼───────┼────┼────┼────┼────┼────┼────┤\n",
       "│ 25  │7.0│ 0.35  │ 0  │ 0  │0.5 │ 0  │ 0  │ 0  │\n",
       "╰─────┴───┴───────┴────┴────┴────┴────┴────┴────╯\n",
       "</pre>\n"
      ],
      "text/plain": [
       "╭─────┬───┬───────┬────┬────┬────┬────┬────┬────╮\n",
       "│\u001b[1mSteps\u001b[0m│\u001b[1mCFG\u001b[0m│\u001b[1mDenoise\u001b[0m│\u001b[1mTr X\u001b[0m│\u001b[1mTr Y\u001b[0m│\u001b[1mTr Z\u001b[0m│\u001b[1mRo X\u001b[0m│\u001b[1mRo Y\u001b[0m│\u001b[1mRo Z\u001b[0m│\n",
       "├─────┼───┼───────┼────┼────┼────┼────┼────┼────┤\n",
       "│ 25  │7.0│ 0.35  │ 0  │ 0  │0.5 │ 0  │ 0  │ 0  │\n",
       "╰─────┴───┴───────┴────┴────┴────┴────┴────┴────╯\n"
      ]
     },
     "metadata": {},
     "output_type": "display_data"
    },
    {
     "name": "stderr",
     "output_type": "stream",
     "text": [
      "2023-03-30 00:09:08,075 - root - INFO - Calibrating color correction.\n"
     ]
    },
    {
     "data": {
      "application/vnd.jupyter.widget-view+json": {
       "model_id": "25f068003c7646af82d0ba7335fa1503",
       "version_major": 2,
       "version_minor": 0
      },
      "text/plain": [
       "  0%|          | 0/9 [00:00<?, ?it/s]"
      ]
     },
     "metadata": {},
     "output_type": "display_data"
    },
    {
     "name": "stdout",
     "output_type": "stream",
     "text": []
    },
    {
     "name": "stderr",
     "output_type": "stream",
     "text": [
      "2023-03-30 00:09:09,937 - root - INFO - Applying color correction.\n"
     ]
    },
    {
     "name": "stdout",
     "output_type": "stream",
     "text": [
      "\u001b[36mAnimation frame: \u001b[0m16/120  \n",
      "Creating in-between cadence frame: 12; tween:0.25;\n",
      "Creating in-between cadence frame: 13; tween:0.50;\n",
      "Creating in-between cadence frame: 14; tween:0.75;\n",
      "Creating in-between cadence frame: 15; tween:1.00;\n",
      "\u001b[32mSeed: \u001b[0m19407983\n",
      "\u001b[35mPrompt: \u001b[0m(high definition), beautiful,  A neon-colored abstract cityscape with towering buildings and flashing lights. The only sign of life is a lone figure in the distance.\n",
      "\u001b[91mNeg Prompt: \u001b[0m(NSFW), (ugly), noise, blur, fog, text,\n"
     ]
    },
    {
     "data": {
      "text/html": [
       "<pre style=\"white-space:pre;overflow-x:auto;line-height:normal;font-family:Menlo,'DejaVu Sans Mono',consolas,'Courier New',monospace\">╭─────┬───┬───────┬────┬────┬────┬────┬────┬────╮\n",
       "│<span style=\"font-weight: bold\">Steps</span>│<span style=\"font-weight: bold\">CFG</span>│<span style=\"font-weight: bold\">Denoise</span>│<span style=\"font-weight: bold\">Tr X</span>│<span style=\"font-weight: bold\">Tr Y</span>│<span style=\"font-weight: bold\">Tr Z</span>│<span style=\"font-weight: bold\">Ro X</span>│<span style=\"font-weight: bold\">Ro Y</span>│<span style=\"font-weight: bold\">Ro Z</span>│\n",
       "├─────┼───┼───────┼────┼────┼────┼────┼────┼────┤\n",
       "│ 25  │7.0│ 0.35  │ 0  │ 0  │0.5 │ 0  │ 0  │ 0  │\n",
       "╰─────┴───┴───────┴────┴────┴────┴────┴────┴────╯\n",
       "</pre>\n"
      ],
      "text/plain": [
       "╭─────┬───┬───────┬────┬────┬────┬────┬────┬────╮\n",
       "│\u001b[1mSteps\u001b[0m│\u001b[1mCFG\u001b[0m│\u001b[1mDenoise\u001b[0m│\u001b[1mTr X\u001b[0m│\u001b[1mTr Y\u001b[0m│\u001b[1mTr Z\u001b[0m│\u001b[1mRo X\u001b[0m│\u001b[1mRo Y\u001b[0m│\u001b[1mRo Z\u001b[0m│\n",
       "├─────┼───┼───────┼────┼────┼────┼────┼────┼────┤\n",
       "│ 25  │7.0│ 0.35  │ 0  │ 0  │0.5 │ 0  │ 0  │ 0  │\n",
       "╰─────┴───┴───────┴────┴────┴────┴────┴────┴────╯\n"
      ]
     },
     "metadata": {},
     "output_type": "display_data"
    },
    {
     "name": "stderr",
     "output_type": "stream",
     "text": [
      "2023-03-30 00:09:10,717 - root - INFO - Calibrating color correction.\n"
     ]
    },
    {
     "data": {
      "application/vnd.jupyter.widget-view+json": {
       "model_id": "9dfcac18a9db43ac89e7624e8b46737b",
       "version_major": 2,
       "version_minor": 0
      },
      "text/plain": [
       "  0%|          | 0/9 [00:00<?, ?it/s]"
      ]
     },
     "metadata": {},
     "output_type": "display_data"
    },
    {
     "name": "stdout",
     "output_type": "stream",
     "text": []
    },
    {
     "name": "stderr",
     "output_type": "stream",
     "text": [
      "2023-03-30 00:09:12,560 - root - INFO - Applying color correction.\n"
     ]
    },
    {
     "name": "stdout",
     "output_type": "stream",
     "text": [
      "\u001b[36mAnimation frame: \u001b[0m20/120  \n",
      "Creating in-between cadence frame: 16; tween:0.25;\n",
      "Creating in-between cadence frame: 17; tween:0.50;\n",
      "Creating in-between cadence frame: 18; tween:0.75;\n",
      "Creating in-between cadence frame: 19; tween:1.00;\n",
      "\u001b[32mSeed: \u001b[0m19407984\n",
      "\u001b[35mPrompt: \u001b[0m(high definition), beautiful,  A neon-colored abstract cityscape with towering buildings and flashing lights. The only sign of life is a lone figure in the distance.\n",
      "\u001b[91mNeg Prompt: \u001b[0m(NSFW), (ugly), noise, blur, fog, text,\n"
     ]
    },
    {
     "data": {
      "text/html": [
       "<pre style=\"white-space:pre;overflow-x:auto;line-height:normal;font-family:Menlo,'DejaVu Sans Mono',consolas,'Courier New',monospace\">╭─────┬───┬───────┬────┬────┬────┬────┬────┬────╮\n",
       "│<span style=\"font-weight: bold\">Steps</span>│<span style=\"font-weight: bold\">CFG</span>│<span style=\"font-weight: bold\">Denoise</span>│<span style=\"font-weight: bold\">Tr X</span>│<span style=\"font-weight: bold\">Tr Y</span>│<span style=\"font-weight: bold\">Tr Z</span>│<span style=\"font-weight: bold\">Ro X</span>│<span style=\"font-weight: bold\">Ro Y</span>│<span style=\"font-weight: bold\">Ro Z</span>│\n",
       "├─────┼───┼───────┼────┼────┼────┼────┼────┼────┤\n",
       "│ 25  │7.0│ 0.35  │ 0  │ 0  │0.5 │ 0  │ 0  │ 0  │\n",
       "╰─────┴───┴───────┴────┴────┴────┴────┴────┴────╯\n",
       "</pre>\n"
      ],
      "text/plain": [
       "╭─────┬───┬───────┬────┬────┬────┬────┬────┬────╮\n",
       "│\u001b[1mSteps\u001b[0m│\u001b[1mCFG\u001b[0m│\u001b[1mDenoise\u001b[0m│\u001b[1mTr X\u001b[0m│\u001b[1mTr Y\u001b[0m│\u001b[1mTr Z\u001b[0m│\u001b[1mRo X\u001b[0m│\u001b[1mRo Y\u001b[0m│\u001b[1mRo Z\u001b[0m│\n",
       "├─────┼───┼───────┼────┼────┼────┼────┼────┼────┤\n",
       "│ 25  │7.0│ 0.35  │ 0  │ 0  │0.5 │ 0  │ 0  │ 0  │\n",
       "╰─────┴───┴───────┴────┴────┴────┴────┴────┴────╯\n"
      ]
     },
     "metadata": {},
     "output_type": "display_data"
    },
    {
     "name": "stderr",
     "output_type": "stream",
     "text": [
      "2023-03-30 00:09:13,325 - root - INFO - Calibrating color correction.\n"
     ]
    },
    {
     "data": {
      "application/vnd.jupyter.widget-view+json": {
       "model_id": "0e48e05f38614e4d81882ab766b671d3",
       "version_major": 2,
       "version_minor": 0
      },
      "text/plain": [
       "  0%|          | 0/9 [00:00<?, ?it/s]"
      ]
     },
     "metadata": {},
     "output_type": "display_data"
    },
    {
     "name": "stdout",
     "output_type": "stream",
     "text": []
    },
    {
     "name": "stderr",
     "output_type": "stream",
     "text": [
      "2023-03-30 00:09:15,183 - root - INFO - Applying color correction.\n"
     ]
    },
    {
     "name": "stdout",
     "output_type": "stream",
     "text": [
      "\u001b[36mAnimation frame: \u001b[0m24/120  \n",
      "Creating in-between cadence frame: 20; tween:0.25;\n",
      "Creating in-between cadence frame: 21; tween:0.50;\n",
      "Creating in-between cadence frame: 22; tween:0.75;\n",
      "Creating in-between cadence frame: 23; tween:1.00;\n",
      "\u001b[32mSeed: \u001b[0m19407985\n",
      "\u001b[35mPrompt: \u001b[0m(high definition), beautiful,  A neon-colored abstract cityscape with towering buildings and flashing lights. The only sign of life is a lone figure in the distance.\n",
      "\u001b[91mNeg Prompt: \u001b[0m(NSFW), (ugly), noise, blur, fog, text,\n"
     ]
    },
    {
     "data": {
      "text/html": [
       "<pre style=\"white-space:pre;overflow-x:auto;line-height:normal;font-family:Menlo,'DejaVu Sans Mono',consolas,'Courier New',monospace\">╭─────┬───┬───────┬────┬────┬────┬────┬────┬────╮\n",
       "│<span style=\"font-weight: bold\">Steps</span>│<span style=\"font-weight: bold\">CFG</span>│<span style=\"font-weight: bold\">Denoise</span>│<span style=\"font-weight: bold\">Tr X</span>│<span style=\"font-weight: bold\">Tr Y</span>│<span style=\"font-weight: bold\">Tr Z</span>│<span style=\"font-weight: bold\">Ro X</span>│<span style=\"font-weight: bold\">Ro Y</span>│<span style=\"font-weight: bold\">Ro Z</span>│\n",
       "├─────┼───┼───────┼────┼────┼────┼────┼────┼────┤\n",
       "│ 25  │7.0│ 0.35  │ 0  │ 0  │0.5 │ 0  │ 0  │ 0  │\n",
       "╰─────┴───┴───────┴────┴────┴────┴────┴────┴────╯\n",
       "</pre>\n"
      ],
      "text/plain": [
       "╭─────┬───┬───────┬────┬────┬────┬────┬────┬────╮\n",
       "│\u001b[1mSteps\u001b[0m│\u001b[1mCFG\u001b[0m│\u001b[1mDenoise\u001b[0m│\u001b[1mTr X\u001b[0m│\u001b[1mTr Y\u001b[0m│\u001b[1mTr Z\u001b[0m│\u001b[1mRo X\u001b[0m│\u001b[1mRo Y\u001b[0m│\u001b[1mRo Z\u001b[0m│\n",
       "├─────┼───┼───────┼────┼────┼────┼────┼────┼────┤\n",
       "│ 25  │7.0│ 0.35  │ 0  │ 0  │0.5 │ 0  │ 0  │ 0  │\n",
       "╰─────┴───┴───────┴────┴────┴────┴────┴────┴────╯\n"
      ]
     },
     "metadata": {},
     "output_type": "display_data"
    },
    {
     "name": "stderr",
     "output_type": "stream",
     "text": [
      "2023-03-30 00:09:15,959 - root - INFO - Calibrating color correction.\n"
     ]
    },
    {
     "data": {
      "application/vnd.jupyter.widget-view+json": {
       "model_id": "3e43ef697a9f4865a5a6c7d8b6251e6c",
       "version_major": 2,
       "version_minor": 0
      },
      "text/plain": [
       "  0%|          | 0/9 [00:00<?, ?it/s]"
      ]
     },
     "metadata": {},
     "output_type": "display_data"
    },
    {
     "name": "stdout",
     "output_type": "stream",
     "text": []
    },
    {
     "name": "stderr",
     "output_type": "stream",
     "text": [
      "2023-03-30 00:09:17,768 - root - INFO - Applying color correction.\n"
     ]
    },
    {
     "name": "stdout",
     "output_type": "stream",
     "text": [
      "\u001b[36mAnimation frame: \u001b[0m28/120  \n",
      "Creating in-between cadence frame: 24; tween:0.25;\n",
      "Creating in-between cadence frame: 25; tween:0.50;\n",
      "Creating in-between cadence frame: 26; tween:0.75;\n",
      "Creating in-between cadence frame: 27; tween:1.00;\n",
      "\u001b[32mSeed: \u001b[0m19407986\n",
      "\u001b[35mPrompt: \u001b[0m(high definition), beautiful,  A neon-colored abstract cityscape with towering buildings and flashing lights. The only sign of life is a lone figure in the distance.\n",
      "\u001b[91mNeg Prompt: \u001b[0m(NSFW), (ugly), noise, blur, fog, text,\n"
     ]
    },
    {
     "data": {
      "text/html": [
       "<pre style=\"white-space:pre;overflow-x:auto;line-height:normal;font-family:Menlo,'DejaVu Sans Mono',consolas,'Courier New',monospace\">╭─────┬───┬───────┬────┬────┬────┬────┬────┬────╮\n",
       "│<span style=\"font-weight: bold\">Steps</span>│<span style=\"font-weight: bold\">CFG</span>│<span style=\"font-weight: bold\">Denoise</span>│<span style=\"font-weight: bold\">Tr X</span>│<span style=\"font-weight: bold\">Tr Y</span>│<span style=\"font-weight: bold\">Tr Z</span>│<span style=\"font-weight: bold\">Ro X</span>│<span style=\"font-weight: bold\">Ro Y</span>│<span style=\"font-weight: bold\">Ro Z</span>│\n",
       "├─────┼───┼───────┼────┼────┼────┼────┼────┼────┤\n",
       "│ 25  │7.0│ 0.35  │ 0  │ 0  │0.5 │ 0  │ 0  │ 0  │\n",
       "╰─────┴───┴───────┴────┴────┴────┴────┴────┴────╯\n",
       "</pre>\n"
      ],
      "text/plain": [
       "╭─────┬───┬───────┬────┬────┬────┬────┬────┬────╮\n",
       "│\u001b[1mSteps\u001b[0m│\u001b[1mCFG\u001b[0m│\u001b[1mDenoise\u001b[0m│\u001b[1mTr X\u001b[0m│\u001b[1mTr Y\u001b[0m│\u001b[1mTr Z\u001b[0m│\u001b[1mRo X\u001b[0m│\u001b[1mRo Y\u001b[0m│\u001b[1mRo Z\u001b[0m│\n",
       "├─────┼───┼───────┼────┼────┼────┼────┼────┼────┤\n",
       "│ 25  │7.0│ 0.35  │ 0  │ 0  │0.5 │ 0  │ 0  │ 0  │\n",
       "╰─────┴───┴───────┴────┴────┴────┴────┴────┴────╯\n"
      ]
     },
     "metadata": {},
     "output_type": "display_data"
    },
    {
     "name": "stderr",
     "output_type": "stream",
     "text": [
      "2023-03-30 00:09:18,893 - root - INFO - Calibrating color correction.\n"
     ]
    },
    {
     "data": {
      "application/vnd.jupyter.widget-view+json": {
       "model_id": "c3b8b9f40b7d4d9fa0753de7b74b38e0",
       "version_major": 2,
       "version_minor": 0
      },
      "text/plain": [
       "  0%|          | 0/9 [00:00<?, ?it/s]"
      ]
     },
     "metadata": {},
     "output_type": "display_data"
    },
    {
     "name": "stdout",
     "output_type": "stream",
     "text": []
    },
    {
     "name": "stderr",
     "output_type": "stream",
     "text": [
      "2023-03-30 00:09:20,722 - root - INFO - Applying color correction.\n"
     ]
    },
    {
     "name": "stdout",
     "output_type": "stream",
     "text": [
      "\u001b[36mAnimation frame: \u001b[0m32/120  \n",
      "Creating in-between cadence frame: 28; tween:0.25;\n",
      "Creating in-between cadence frame: 29; tween:0.50;\n",
      "Creating in-between cadence frame: 30; tween:0.75;\n",
      "Creating in-between cadence frame: 31; tween:1.00;\n",
      "\u001b[32mSeed: \u001b[0m19407987\n",
      "\u001b[35mPrompt: \u001b[0m(high definition), beautiful,  A neon-colored abstract cityscape with towering buildings and flashing lights. The only sign of life is a lone figure in the distance.\n",
      "\u001b[91mNeg Prompt: \u001b[0m(NSFW), (ugly), noise, blur, fog, text,\n"
     ]
    },
    {
     "data": {
      "text/html": [
       "<pre style=\"white-space:pre;overflow-x:auto;line-height:normal;font-family:Menlo,'DejaVu Sans Mono',consolas,'Courier New',monospace\">╭─────┬───┬───────┬────┬────┬────┬────┬────┬────╮\n",
       "│<span style=\"font-weight: bold\">Steps</span>│<span style=\"font-weight: bold\">CFG</span>│<span style=\"font-weight: bold\">Denoise</span>│<span style=\"font-weight: bold\">Tr X</span>│<span style=\"font-weight: bold\">Tr Y</span>│<span style=\"font-weight: bold\">Tr Z</span>│<span style=\"font-weight: bold\">Ro X</span>│<span style=\"font-weight: bold\">Ro Y</span>│<span style=\"font-weight: bold\">Ro Z</span>│\n",
       "├─────┼───┼───────┼────┼────┼────┼────┼────┼────┤\n",
       "│ 25  │7.0│ 0.35  │ 0  │ 0  │0.5 │ 0  │ 0  │ 0  │\n",
       "╰─────┴───┴───────┴────┴────┴────┴────┴────┴────╯\n",
       "</pre>\n"
      ],
      "text/plain": [
       "╭─────┬───┬───────┬────┬────┬────┬────┬────┬────╮\n",
       "│\u001b[1mSteps\u001b[0m│\u001b[1mCFG\u001b[0m│\u001b[1mDenoise\u001b[0m│\u001b[1mTr X\u001b[0m│\u001b[1mTr Y\u001b[0m│\u001b[1mTr Z\u001b[0m│\u001b[1mRo X\u001b[0m│\u001b[1mRo Y\u001b[0m│\u001b[1mRo Z\u001b[0m│\n",
       "├─────┼───┼───────┼────┼────┼────┼────┼────┼────┤\n",
       "│ 25  │7.0│ 0.35  │ 0  │ 0  │0.5 │ 0  │ 0  │ 0  │\n",
       "╰─────┴───┴───────┴────┴────┴────┴────┴────┴────╯\n"
      ]
     },
     "metadata": {},
     "output_type": "display_data"
    },
    {
     "name": "stderr",
     "output_type": "stream",
     "text": [
      "2023-03-30 00:09:21,455 - root - INFO - Calibrating color correction.\n"
     ]
    },
    {
     "data": {
      "application/vnd.jupyter.widget-view+json": {
       "model_id": "ed3a45b2aaa5498f8002efb8ff83441e",
       "version_major": 2,
       "version_minor": 0
      },
      "text/plain": [
       "  0%|          | 0/9 [00:00<?, ?it/s]"
      ]
     },
     "metadata": {},
     "output_type": "display_data"
    },
    {
     "name": "stdout",
     "output_type": "stream",
     "text": []
    },
    {
     "name": "stderr",
     "output_type": "stream",
     "text": [
      "2023-03-30 00:09:23,403 - root - INFO - Applying color correction.\n"
     ]
    },
    {
     "name": "stdout",
     "output_type": "stream",
     "text": [
      "\u001b[36mAnimation frame: \u001b[0m36/120  \n",
      "Creating in-between cadence frame: 32; tween:0.25;\n",
      "Creating in-between cadence frame: 33; tween:0.50;\n",
      "Creating in-between cadence frame: 34; tween:0.75;\n",
      "Creating in-between cadence frame: 35; tween:1.00;\n",
      "\u001b[32mSeed: \u001b[0m19407988\n",
      "\u001b[35mPrompt: \u001b[0m(high definition), beautiful,  A neon-colored abstract cityscape with towering buildings and flashing lights. The only sign of life is a lone figure in the distance.\n",
      "\u001b[91mNeg Prompt: \u001b[0m(NSFW), (ugly), noise, blur, fog, text,\n"
     ]
    },
    {
     "data": {
      "text/html": [
       "<pre style=\"white-space:pre;overflow-x:auto;line-height:normal;font-family:Menlo,'DejaVu Sans Mono',consolas,'Courier New',monospace\">╭─────┬───┬───────┬────┬────┬────┬────┬────┬────╮\n",
       "│<span style=\"font-weight: bold\">Steps</span>│<span style=\"font-weight: bold\">CFG</span>│<span style=\"font-weight: bold\">Denoise</span>│<span style=\"font-weight: bold\">Tr X</span>│<span style=\"font-weight: bold\">Tr Y</span>│<span style=\"font-weight: bold\">Tr Z</span>│<span style=\"font-weight: bold\">Ro X</span>│<span style=\"font-weight: bold\">Ro Y</span>│<span style=\"font-weight: bold\">Ro Z</span>│\n",
       "├─────┼───┼───────┼────┼────┼────┼────┼────┼────┤\n",
       "│ 25  │7.0│ 0.35  │ 0  │ 0  │0.5 │ 0  │ 0  │ 0  │\n",
       "╰─────┴───┴───────┴────┴────┴────┴────┴────┴────╯\n",
       "</pre>\n"
      ],
      "text/plain": [
       "╭─────┬───┬───────┬────┬────┬────┬────┬────┬────╮\n",
       "│\u001b[1mSteps\u001b[0m│\u001b[1mCFG\u001b[0m│\u001b[1mDenoise\u001b[0m│\u001b[1mTr X\u001b[0m│\u001b[1mTr Y\u001b[0m│\u001b[1mTr Z\u001b[0m│\u001b[1mRo X\u001b[0m│\u001b[1mRo Y\u001b[0m│\u001b[1mRo Z\u001b[0m│\n",
       "├─────┼───┼───────┼────┼────┼────┼────┼────┼────┤\n",
       "│ 25  │7.0│ 0.35  │ 0  │ 0  │0.5 │ 0  │ 0  │ 0  │\n",
       "╰─────┴───┴───────┴────┴────┴────┴────┴────┴────╯\n"
      ]
     },
     "metadata": {},
     "output_type": "display_data"
    },
    {
     "name": "stderr",
     "output_type": "stream",
     "text": [
      "2023-03-30 00:09:24,148 - root - INFO - Calibrating color correction.\n"
     ]
    },
    {
     "data": {
      "application/vnd.jupyter.widget-view+json": {
       "model_id": "4ab5bc716b774644a4bda28e61bc43c8",
       "version_major": 2,
       "version_minor": 0
      },
      "text/plain": [
       "  0%|          | 0/9 [00:00<?, ?it/s]"
      ]
     },
     "metadata": {},
     "output_type": "display_data"
    },
    {
     "name": "stdout",
     "output_type": "stream",
     "text": []
    },
    {
     "name": "stderr",
     "output_type": "stream",
     "text": [
      "2023-03-30 00:09:26,092 - root - INFO - Applying color correction.\n"
     ]
    },
    {
     "name": "stdout",
     "output_type": "stream",
     "text": [
      "\u001b[36mAnimation frame: \u001b[0m40/120  \n",
      "Creating in-between cadence frame: 36; tween:0.25;\n",
      "Creating in-between cadence frame: 37; tween:0.50;\n",
      "Creating in-between cadence frame: 38; tween:0.75;\n",
      "Creating in-between cadence frame: 39; tween:1.00;\n",
      "\u001b[32mSeed: \u001b[0m19407989\n",
      "\u001b[35mPrompt: \u001b[0m(high definition), beautiful,  A neon-colored abstract cityscape with towering buildings and flashing lights. The only sign of life is a lone figure in the distance.\n",
      "\u001b[91mNeg Prompt: \u001b[0m(NSFW), (ugly), noise, blur, fog, text,\n"
     ]
    },
    {
     "data": {
      "text/html": [
       "<pre style=\"white-space:pre;overflow-x:auto;line-height:normal;font-family:Menlo,'DejaVu Sans Mono',consolas,'Courier New',monospace\">╭─────┬───┬───────┬────┬────┬────┬────┬────┬────╮\n",
       "│<span style=\"font-weight: bold\">Steps</span>│<span style=\"font-weight: bold\">CFG</span>│<span style=\"font-weight: bold\">Denoise</span>│<span style=\"font-weight: bold\">Tr X</span>│<span style=\"font-weight: bold\">Tr Y</span>│<span style=\"font-weight: bold\">Tr Z</span>│<span style=\"font-weight: bold\">Ro X</span>│<span style=\"font-weight: bold\">Ro Y</span>│<span style=\"font-weight: bold\">Ro Z</span>│\n",
       "├─────┼───┼───────┼────┼────┼────┼────┼────┼────┤\n",
       "│ 25  │7.0│ 0.35  │ 0  │ 0  │0.5 │ 0  │ 0  │ 0  │\n",
       "╰─────┴───┴───────┴────┴────┴────┴────┴────┴────╯\n",
       "</pre>\n"
      ],
      "text/plain": [
       "╭─────┬───┬───────┬────┬────┬────┬────┬────┬────╮\n",
       "│\u001b[1mSteps\u001b[0m│\u001b[1mCFG\u001b[0m│\u001b[1mDenoise\u001b[0m│\u001b[1mTr X\u001b[0m│\u001b[1mTr Y\u001b[0m│\u001b[1mTr Z\u001b[0m│\u001b[1mRo X\u001b[0m│\u001b[1mRo Y\u001b[0m│\u001b[1mRo Z\u001b[0m│\n",
       "├─────┼───┼───────┼────┼────┼────┼────┼────┼────┤\n",
       "│ 25  │7.0│ 0.35  │ 0  │ 0  │0.5 │ 0  │ 0  │ 0  │\n",
       "╰─────┴───┴───────┴────┴────┴────┴────┴────┴────╯\n"
      ]
     },
     "metadata": {},
     "output_type": "display_data"
    },
    {
     "name": "stderr",
     "output_type": "stream",
     "text": [
      "2023-03-30 00:09:26,809 - root - INFO - Calibrating color correction.\n"
     ]
    },
    {
     "data": {
      "application/vnd.jupyter.widget-view+json": {
       "model_id": "0f723e3e935d4329941a97b2cb10574f",
       "version_major": 2,
       "version_minor": 0
      },
      "text/plain": [
       "  0%|          | 0/9 [00:00<?, ?it/s]"
      ]
     },
     "metadata": {},
     "output_type": "display_data"
    },
    {
     "name": "stdout",
     "output_type": "stream",
     "text": []
    },
    {
     "name": "stderr",
     "output_type": "stream",
     "text": [
      "2023-03-30 00:09:28,652 - root - INFO - Applying color correction.\n"
     ]
    },
    {
     "name": "stdout",
     "output_type": "stream",
     "text": [
      "\u001b[36mAnimation frame: \u001b[0m44/120  \n",
      "Creating in-between cadence frame: 40; tween:0.25;\n",
      "Creating in-between cadence frame: 41; tween:0.50;\n",
      "Creating in-between cadence frame: 42; tween:0.75;\n",
      "Creating in-between cadence frame: 43; tween:1.00;\n",
      "\u001b[32mSeed: \u001b[0m19407990\n",
      "\u001b[35mPrompt: \u001b[0m(high definition), beautiful,  A neon-colored abstract cityscape with towering buildings and flashing lights. The only sign of life is a lone figure in the distance.\n",
      "\u001b[91mNeg Prompt: \u001b[0m(NSFW), (ugly), noise, blur, fog, text,\n"
     ]
    },
    {
     "data": {
      "text/html": [
       "<pre style=\"white-space:pre;overflow-x:auto;line-height:normal;font-family:Menlo,'DejaVu Sans Mono',consolas,'Courier New',monospace\">╭─────┬───┬───────┬────┬────┬────┬────┬────┬────╮\n",
       "│<span style=\"font-weight: bold\">Steps</span>│<span style=\"font-weight: bold\">CFG</span>│<span style=\"font-weight: bold\">Denoise</span>│<span style=\"font-weight: bold\">Tr X</span>│<span style=\"font-weight: bold\">Tr Y</span>│<span style=\"font-weight: bold\">Tr Z</span>│<span style=\"font-weight: bold\">Ro X</span>│<span style=\"font-weight: bold\">Ro Y</span>│<span style=\"font-weight: bold\">Ro Z</span>│\n",
       "├─────┼───┼───────┼────┼────┼────┼────┼────┼────┤\n",
       "│ 25  │7.0│ 0.35  │ 0  │ 0  │0.5 │ 0  │ 0  │ 0  │\n",
       "╰─────┴───┴───────┴────┴────┴────┴────┴────┴────╯\n",
       "</pre>\n"
      ],
      "text/plain": [
       "╭─────┬───┬───────┬────┬────┬────┬────┬────┬────╮\n",
       "│\u001b[1mSteps\u001b[0m│\u001b[1mCFG\u001b[0m│\u001b[1mDenoise\u001b[0m│\u001b[1mTr X\u001b[0m│\u001b[1mTr Y\u001b[0m│\u001b[1mTr Z\u001b[0m│\u001b[1mRo X\u001b[0m│\u001b[1mRo Y\u001b[0m│\u001b[1mRo Z\u001b[0m│\n",
       "├─────┼───┼───────┼────┼────┼────┼────┼────┼────┤\n",
       "│ 25  │7.0│ 0.35  │ 0  │ 0  │0.5 │ 0  │ 0  │ 0  │\n",
       "╰─────┴───┴───────┴────┴────┴────┴────┴────┴────╯\n"
      ]
     },
     "metadata": {},
     "output_type": "display_data"
    },
    {
     "name": "stderr",
     "output_type": "stream",
     "text": [
      "2023-03-30 00:09:29,418 - root - INFO - Calibrating color correction.\n"
     ]
    },
    {
     "data": {
      "application/vnd.jupyter.widget-view+json": {
       "model_id": "16609034e47448cbad367cd8faf53185",
       "version_major": 2,
       "version_minor": 0
      },
      "text/plain": [
       "  0%|          | 0/9 [00:00<?, ?it/s]"
      ]
     },
     "metadata": {},
     "output_type": "display_data"
    },
    {
     "name": "stdout",
     "output_type": "stream",
     "text": []
    },
    {
     "name": "stderr",
     "output_type": "stream",
     "text": [
      "2023-03-30 00:09:31,256 - root - INFO - Applying color correction.\n"
     ]
    },
    {
     "name": "stdout",
     "output_type": "stream",
     "text": [
      "\u001b[36mAnimation frame: \u001b[0m48/120  \n",
      "Creating in-between cadence frame: 44; tween:0.25;\n",
      "Creating in-between cadence frame: 45; tween:0.50;\n",
      "Creating in-between cadence frame: 46; tween:0.75;\n",
      "Creating in-between cadence frame: 47; tween:1.00;\n",
      "\u001b[32mSeed: \u001b[0m19407991\n",
      "\u001b[35mPrompt: \u001b[0m(high definition), beautiful,  A neon-colored abstract cityscape with towering buildings and flashing lights. The only sign of life is a lone figure in the distance.\n",
      "\u001b[91mNeg Prompt: \u001b[0m(NSFW), (ugly), noise, blur, fog, text,\n"
     ]
    },
    {
     "data": {
      "text/html": [
       "<pre style=\"white-space:pre;overflow-x:auto;line-height:normal;font-family:Menlo,'DejaVu Sans Mono',consolas,'Courier New',monospace\">╭─────┬───┬───────┬────┬────┬────┬────┬────┬────╮\n",
       "│<span style=\"font-weight: bold\">Steps</span>│<span style=\"font-weight: bold\">CFG</span>│<span style=\"font-weight: bold\">Denoise</span>│<span style=\"font-weight: bold\">Tr X</span>│<span style=\"font-weight: bold\">Tr Y</span>│<span style=\"font-weight: bold\">Tr Z</span>│<span style=\"font-weight: bold\">Ro X</span>│<span style=\"font-weight: bold\">Ro Y</span>│<span style=\"font-weight: bold\">Ro Z</span>│\n",
       "├─────┼───┼───────┼────┼────┼────┼────┼────┼────┤\n",
       "│ 25  │7.0│ 0.35  │ 0  │ 0  │0.5 │ 0  │ 0  │ 0  │\n",
       "╰─────┴───┴───────┴────┴────┴────┴────┴────┴────╯\n",
       "</pre>\n"
      ],
      "text/plain": [
       "╭─────┬───┬───────┬────┬────┬────┬────┬────┬────╮\n",
       "│\u001b[1mSteps\u001b[0m│\u001b[1mCFG\u001b[0m│\u001b[1mDenoise\u001b[0m│\u001b[1mTr X\u001b[0m│\u001b[1mTr Y\u001b[0m│\u001b[1mTr Z\u001b[0m│\u001b[1mRo X\u001b[0m│\u001b[1mRo Y\u001b[0m│\u001b[1mRo Z\u001b[0m│\n",
       "├─────┼───┼───────┼────┼────┼────┼────┼────┼────┤\n",
       "│ 25  │7.0│ 0.35  │ 0  │ 0  │0.5 │ 0  │ 0  │ 0  │\n",
       "╰─────┴───┴───────┴────┴────┴────┴────┴────┴────╯\n"
      ]
     },
     "metadata": {},
     "output_type": "display_data"
    },
    {
     "name": "stderr",
     "output_type": "stream",
     "text": [
      "2023-03-30 00:09:31,982 - root - INFO - Calibrating color correction.\n"
     ]
    },
    {
     "data": {
      "application/vnd.jupyter.widget-view+json": {
       "model_id": "12dc41afd69547a2a93803d0c215b9f0",
       "version_major": 2,
       "version_minor": 0
      },
      "text/plain": [
       "  0%|          | 0/9 [00:00<?, ?it/s]"
      ]
     },
     "metadata": {},
     "output_type": "display_data"
    },
    {
     "name": "stdout",
     "output_type": "stream",
     "text": []
    },
    {
     "name": "stderr",
     "output_type": "stream",
     "text": [
      "2023-03-30 00:09:33,860 - root - INFO - Applying color correction.\n"
     ]
    },
    {
     "name": "stdout",
     "output_type": "stream",
     "text": [
      "\u001b[36mAnimation frame: \u001b[0m52/120  \n",
      "Creating in-between cadence frame: 48; tween:0.25;\n",
      "Creating in-between cadence frame: 49; tween:0.50;\n",
      "Creating in-between cadence frame: 50; tween:0.75;\n",
      "Creating in-between cadence frame: 51; tween:1.00;\n",
      "\u001b[32mSeed: \u001b[0m19407992\n",
      "\u001b[35mPrompt: \u001b[0m(high definition), beautiful,  A neon-colored abstract cityscape with towering buildings and flashing lights. The only sign of life is a lone figure in the distance.\n",
      "\u001b[91mNeg Prompt: \u001b[0m(NSFW), (ugly), noise, blur, fog, text,\n"
     ]
    },
    {
     "data": {
      "text/html": [
       "<pre style=\"white-space:pre;overflow-x:auto;line-height:normal;font-family:Menlo,'DejaVu Sans Mono',consolas,'Courier New',monospace\">╭─────┬───┬───────┬────┬────┬────┬────┬────┬────╮\n",
       "│<span style=\"font-weight: bold\">Steps</span>│<span style=\"font-weight: bold\">CFG</span>│<span style=\"font-weight: bold\">Denoise</span>│<span style=\"font-weight: bold\">Tr X</span>│<span style=\"font-weight: bold\">Tr Y</span>│<span style=\"font-weight: bold\">Tr Z</span>│<span style=\"font-weight: bold\">Ro X</span>│<span style=\"font-weight: bold\">Ro Y</span>│<span style=\"font-weight: bold\">Ro Z</span>│\n",
       "├─────┼───┼───────┼────┼────┼────┼────┼────┼────┤\n",
       "│ 25  │7.0│ 0.35  │ 0  │ 0  │0.5 │ 0  │ 0  │ 0  │\n",
       "╰─────┴───┴───────┴────┴────┴────┴────┴────┴────╯\n",
       "</pre>\n"
      ],
      "text/plain": [
       "╭─────┬───┬───────┬────┬────┬────┬────┬────┬────╮\n",
       "│\u001b[1mSteps\u001b[0m│\u001b[1mCFG\u001b[0m│\u001b[1mDenoise\u001b[0m│\u001b[1mTr X\u001b[0m│\u001b[1mTr Y\u001b[0m│\u001b[1mTr Z\u001b[0m│\u001b[1mRo X\u001b[0m│\u001b[1mRo Y\u001b[0m│\u001b[1mRo Z\u001b[0m│\n",
       "├─────┼───┼───────┼────┼────┼────┼────┼────┼────┤\n",
       "│ 25  │7.0│ 0.35  │ 0  │ 0  │0.5 │ 0  │ 0  │ 0  │\n",
       "╰─────┴───┴───────┴────┴────┴────┴────┴────┴────╯\n"
      ]
     },
     "metadata": {},
     "output_type": "display_data"
    },
    {
     "name": "stderr",
     "output_type": "stream",
     "text": [
      "2023-03-30 00:09:34,601 - root - INFO - Calibrating color correction.\n"
     ]
    },
    {
     "data": {
      "application/vnd.jupyter.widget-view+json": {
       "model_id": "b5142b14400745acbdc0d214002c4417",
       "version_major": 2,
       "version_minor": 0
      },
      "text/plain": [
       "  0%|          | 0/9 [00:00<?, ?it/s]"
      ]
     },
     "metadata": {},
     "output_type": "display_data"
    },
    {
     "name": "stdout",
     "output_type": "stream",
     "text": []
    },
    {
     "name": "stderr",
     "output_type": "stream",
     "text": [
      "2023-03-30 00:09:36,440 - root - INFO - Applying color correction.\n"
     ]
    },
    {
     "name": "stdout",
     "output_type": "stream",
     "text": [
      "\u001b[36mAnimation frame: \u001b[0m56/120  \n",
      "Creating in-between cadence frame: 52; tween:0.25;\n",
      "Creating in-between cadence frame: 53; tween:0.50;\n",
      "Creating in-between cadence frame: 54; tween:0.75;\n",
      "Creating in-between cadence frame: 55; tween:1.00;\n",
      "\u001b[32mSeed: \u001b[0m19407993\n",
      "\u001b[35mPrompt: \u001b[0m(high definition), beautiful,  A neon-colored abstract cityscape with towering buildings and flashing lights. The only sign of life is a lone figure in the distance.\n",
      "\u001b[91mNeg Prompt: \u001b[0m(NSFW), (ugly), noise, blur, fog, text,\n"
     ]
    },
    {
     "data": {
      "text/html": [
       "<pre style=\"white-space:pre;overflow-x:auto;line-height:normal;font-family:Menlo,'DejaVu Sans Mono',consolas,'Courier New',monospace\">╭─────┬───┬───────┬────┬────┬────┬────┬────┬────╮\n",
       "│<span style=\"font-weight: bold\">Steps</span>│<span style=\"font-weight: bold\">CFG</span>│<span style=\"font-weight: bold\">Denoise</span>│<span style=\"font-weight: bold\">Tr X</span>│<span style=\"font-weight: bold\">Tr Y</span>│<span style=\"font-weight: bold\">Tr Z</span>│<span style=\"font-weight: bold\">Ro X</span>│<span style=\"font-weight: bold\">Ro Y</span>│<span style=\"font-weight: bold\">Ro Z</span>│\n",
       "├─────┼───┼───────┼────┼────┼────┼────┼────┼────┤\n",
       "│ 25  │7.0│ 0.35  │ 0  │ 0  │0.5 │ 0  │ 0  │ 0  │\n",
       "╰─────┴───┴───────┴────┴────┴────┴────┴────┴────╯\n",
       "</pre>\n"
      ],
      "text/plain": [
       "╭─────┬───┬───────┬────┬────┬────┬────┬────┬────╮\n",
       "│\u001b[1mSteps\u001b[0m│\u001b[1mCFG\u001b[0m│\u001b[1mDenoise\u001b[0m│\u001b[1mTr X\u001b[0m│\u001b[1mTr Y\u001b[0m│\u001b[1mTr Z\u001b[0m│\u001b[1mRo X\u001b[0m│\u001b[1mRo Y\u001b[0m│\u001b[1mRo Z\u001b[0m│\n",
       "├─────┼───┼───────┼────┼────┼────┼────┼────┼────┤\n",
       "│ 25  │7.0│ 0.35  │ 0  │ 0  │0.5 │ 0  │ 0  │ 0  │\n",
       "╰─────┴───┴───────┴────┴────┴────┴────┴────┴────╯\n"
      ]
     },
     "metadata": {},
     "output_type": "display_data"
    },
    {
     "name": "stderr",
     "output_type": "stream",
     "text": [
      "2023-03-30 00:09:37,156 - root - INFO - Calibrating color correction.\n"
     ]
    },
    {
     "data": {
      "application/vnd.jupyter.widget-view+json": {
       "model_id": "c31ac3e63bd444debf34fbcc5a62d51d",
       "version_major": 2,
       "version_minor": 0
      },
      "text/plain": [
       "  0%|          | 0/9 [00:00<?, ?it/s]"
      ]
     },
     "metadata": {},
     "output_type": "display_data"
    },
    {
     "name": "stdout",
     "output_type": "stream",
     "text": []
    },
    {
     "name": "stderr",
     "output_type": "stream",
     "text": [
      "2023-03-30 00:09:38,988 - root - INFO - Applying color correction.\n"
     ]
    },
    {
     "name": "stdout",
     "output_type": "stream",
     "text": [
      "\u001b[36mAnimation frame: \u001b[0m60/120  \n",
      "Creating in-between cadence frame: 56; tween:0.25;\n",
      "Creating in-between cadence frame: 57; tween:0.50;\n",
      "Creating in-between cadence frame: 58; tween:0.75;\n",
      "Creating in-between cadence frame: 59; tween:1.00;\n",
      "\u001b[32mSeed: \u001b[0m19407994\n",
      "\u001b[35mPrompt: \u001b[0m(high definition), beautiful,  A neon-colored abstract cityscape with towering buildings and flashing lights. The only sign of life is a lone figure in the distance.\n",
      "\u001b[91mNeg Prompt: \u001b[0m(NSFW), (ugly), noise, blur, fog, text,\n"
     ]
    },
    {
     "data": {
      "text/html": [
       "<pre style=\"white-space:pre;overflow-x:auto;line-height:normal;font-family:Menlo,'DejaVu Sans Mono',consolas,'Courier New',monospace\">╭─────┬───┬───────┬────┬────┬────┬────┬────┬────╮\n",
       "│<span style=\"font-weight: bold\">Steps</span>│<span style=\"font-weight: bold\">CFG</span>│<span style=\"font-weight: bold\">Denoise</span>│<span style=\"font-weight: bold\">Tr X</span>│<span style=\"font-weight: bold\">Tr Y</span>│<span style=\"font-weight: bold\">Tr Z</span>│<span style=\"font-weight: bold\">Ro X</span>│<span style=\"font-weight: bold\">Ro Y</span>│<span style=\"font-weight: bold\">Ro Z</span>│\n",
       "├─────┼───┼───────┼────┼────┼────┼────┼────┼────┤\n",
       "│ 25  │7.0│ 0.35  │ 0  │ 0  │0.5 │ 0  │ 0  │ 0  │\n",
       "╰─────┴───┴───────┴────┴────┴────┴────┴────┴────╯\n",
       "</pre>\n"
      ],
      "text/plain": [
       "╭─────┬───┬───────┬────┬────┬────┬────┬────┬────╮\n",
       "│\u001b[1mSteps\u001b[0m│\u001b[1mCFG\u001b[0m│\u001b[1mDenoise\u001b[0m│\u001b[1mTr X\u001b[0m│\u001b[1mTr Y\u001b[0m│\u001b[1mTr Z\u001b[0m│\u001b[1mRo X\u001b[0m│\u001b[1mRo Y\u001b[0m│\u001b[1mRo Z\u001b[0m│\n",
       "├─────┼───┼───────┼────┼────┼────┼────┼────┼────┤\n",
       "│ 25  │7.0│ 0.35  │ 0  │ 0  │0.5 │ 0  │ 0  │ 0  │\n",
       "╰─────┴───┴───────┴────┴────┴────┴────┴────┴────╯\n"
      ]
     },
     "metadata": {},
     "output_type": "display_data"
    },
    {
     "name": "stderr",
     "output_type": "stream",
     "text": [
      "2023-03-30 00:09:39,676 - root - INFO - Calibrating color correction.\n"
     ]
    },
    {
     "data": {
      "application/vnd.jupyter.widget-view+json": {
       "model_id": "10914a23f9ce4ca4901c765cd659b132",
       "version_major": 2,
       "version_minor": 0
      },
      "text/plain": [
       "  0%|          | 0/9 [00:00<?, ?it/s]"
      ]
     },
     "metadata": {},
     "output_type": "display_data"
    },
    {
     "name": "stdout",
     "output_type": "stream",
     "text": []
    },
    {
     "name": "stderr",
     "output_type": "stream",
     "text": [
      "2023-03-30 00:09:41,557 - root - INFO - Applying color correction.\n"
     ]
    },
    {
     "name": "stdout",
     "output_type": "stream",
     "text": [
      "\u001b[36mAnimation frame: \u001b[0m64/120  \n",
      "Creating in-between cadence frame: 60; tween:0.25;\n",
      "Creating in-between cadence frame: 61; tween:0.50;\n",
      "Creating in-between cadence frame: 62; tween:0.75;\n",
      "Creating in-between cadence frame: 63; tween:1.00;\n",
      "\u001b[32mSeed: \u001b[0m19407995\n",
      "\u001b[35mPrompt: \u001b[0m(high definition), beautiful,  A neon-colored abstract cityscape with towering buildings and flashing lights. The only sign of life is a lone figure in the distance.\n",
      "\u001b[91mNeg Prompt: \u001b[0m(NSFW), (ugly), noise, blur, fog, text,\n"
     ]
    },
    {
     "data": {
      "text/html": [
       "<pre style=\"white-space:pre;overflow-x:auto;line-height:normal;font-family:Menlo,'DejaVu Sans Mono',consolas,'Courier New',monospace\">╭─────┬───┬───────┬────┬────┬────┬────┬────┬────╮\n",
       "│<span style=\"font-weight: bold\">Steps</span>│<span style=\"font-weight: bold\">CFG</span>│<span style=\"font-weight: bold\">Denoise</span>│<span style=\"font-weight: bold\">Tr X</span>│<span style=\"font-weight: bold\">Tr Y</span>│<span style=\"font-weight: bold\">Tr Z</span>│<span style=\"font-weight: bold\">Ro X</span>│<span style=\"font-weight: bold\">Ro Y</span>│<span style=\"font-weight: bold\">Ro Z</span>│\n",
       "├─────┼───┼───────┼────┼────┼────┼────┼────┼────┤\n",
       "│ 25  │7.0│ 0.35  │ 0  │ 0  │0.5 │ 0  │ 0  │ 0  │\n",
       "╰─────┴───┴───────┴────┴────┴────┴────┴────┴────╯\n",
       "</pre>\n"
      ],
      "text/plain": [
       "╭─────┬───┬───────┬────┬────┬────┬────┬────┬────╮\n",
       "│\u001b[1mSteps\u001b[0m│\u001b[1mCFG\u001b[0m│\u001b[1mDenoise\u001b[0m│\u001b[1mTr X\u001b[0m│\u001b[1mTr Y\u001b[0m│\u001b[1mTr Z\u001b[0m│\u001b[1mRo X\u001b[0m│\u001b[1mRo Y\u001b[0m│\u001b[1mRo Z\u001b[0m│\n",
       "├─────┼───┼───────┼────┼────┼────┼────┼────┼────┤\n",
       "│ 25  │7.0│ 0.35  │ 0  │ 0  │0.5 │ 0  │ 0  │ 0  │\n",
       "╰─────┴───┴───────┴────┴────┴────┴────┴────┴────╯\n"
      ]
     },
     "metadata": {},
     "output_type": "display_data"
    },
    {
     "name": "stderr",
     "output_type": "stream",
     "text": [
      "2023-03-30 00:09:42,317 - root - INFO - Calibrating color correction.\n"
     ]
    },
    {
     "data": {
      "application/vnd.jupyter.widget-view+json": {
       "model_id": "340af5a5ac754bcf8ab9bdfc8ac264f2",
       "version_major": 2,
       "version_minor": 0
      },
      "text/plain": [
       "  0%|          | 0/9 [00:00<?, ?it/s]"
      ]
     },
     "metadata": {},
     "output_type": "display_data"
    },
    {
     "name": "stdout",
     "output_type": "stream",
     "text": []
    },
    {
     "name": "stderr",
     "output_type": "stream",
     "text": [
      "2023-03-30 00:09:44,214 - root - INFO - Applying color correction.\n"
     ]
    },
    {
     "name": "stdout",
     "output_type": "stream",
     "text": [
      "\u001b[36mAnimation frame: \u001b[0m68/120  \n",
      "Creating in-between cadence frame: 64; tween:0.25;\n",
      "Creating in-between cadence frame: 65; tween:0.50;\n",
      "Creating in-between cadence frame: 66; tween:0.75;\n",
      "Creating in-between cadence frame: 67; tween:1.00;\n",
      "\u001b[32mSeed: \u001b[0m19407996\n",
      "\u001b[35mPrompt: \u001b[0m(high definition), beautiful,  A neon-colored abstract cityscape with towering buildings and flashing lights. The only sign of life is a lone figure in the distance.\n",
      "\u001b[91mNeg Prompt: \u001b[0m(NSFW), (ugly), noise, blur, fog, text,\n"
     ]
    },
    {
     "data": {
      "text/html": [
       "<pre style=\"white-space:pre;overflow-x:auto;line-height:normal;font-family:Menlo,'DejaVu Sans Mono',consolas,'Courier New',monospace\">╭─────┬───┬───────┬────┬────┬────┬────┬────┬────╮\n",
       "│<span style=\"font-weight: bold\">Steps</span>│<span style=\"font-weight: bold\">CFG</span>│<span style=\"font-weight: bold\">Denoise</span>│<span style=\"font-weight: bold\">Tr X</span>│<span style=\"font-weight: bold\">Tr Y</span>│<span style=\"font-weight: bold\">Tr Z</span>│<span style=\"font-weight: bold\">Ro X</span>│<span style=\"font-weight: bold\">Ro Y</span>│<span style=\"font-weight: bold\">Ro Z</span>│\n",
       "├─────┼───┼───────┼────┼────┼────┼────┼────┼────┤\n",
       "│ 25  │7.0│ 0.35  │ 0  │ 0  │0.5 │ 0  │ 0  │ 0  │\n",
       "╰─────┴───┴───────┴────┴────┴────┴────┴────┴────╯\n",
       "</pre>\n"
      ],
      "text/plain": [
       "╭─────┬───┬───────┬────┬────┬────┬────┬────┬────╮\n",
       "│\u001b[1mSteps\u001b[0m│\u001b[1mCFG\u001b[0m│\u001b[1mDenoise\u001b[0m│\u001b[1mTr X\u001b[0m│\u001b[1mTr Y\u001b[0m│\u001b[1mTr Z\u001b[0m│\u001b[1mRo X\u001b[0m│\u001b[1mRo Y\u001b[0m│\u001b[1mRo Z\u001b[0m│\n",
       "├─────┼───┼───────┼────┼────┼────┼────┼────┼────┤\n",
       "│ 25  │7.0│ 0.35  │ 0  │ 0  │0.5 │ 0  │ 0  │ 0  │\n",
       "╰─────┴───┴───────┴────┴────┴────┴────┴────┴────╯\n"
      ]
     },
     "metadata": {},
     "output_type": "display_data"
    },
    {
     "name": "stderr",
     "output_type": "stream",
     "text": [
      "2023-03-30 00:09:44,972 - root - INFO - Calibrating color correction.\n"
     ]
    },
    {
     "data": {
      "application/vnd.jupyter.widget-view+json": {
       "model_id": "ee0c59bf92ff47cc90f9db21a69a9b56",
       "version_major": 2,
       "version_minor": 0
      },
      "text/plain": [
       "  0%|          | 0/9 [00:00<?, ?it/s]"
      ]
     },
     "metadata": {},
     "output_type": "display_data"
    },
    {
     "name": "stdout",
     "output_type": "stream",
     "text": []
    },
    {
     "name": "stderr",
     "output_type": "stream",
     "text": [
      "2023-03-30 00:09:46,857 - root - INFO - Applying color correction.\n"
     ]
    },
    {
     "name": "stdout",
     "output_type": "stream",
     "text": [
      "\u001b[36mAnimation frame: \u001b[0m72/120  \n",
      "Creating in-between cadence frame: 68; tween:0.25;\n",
      "Creating in-between cadence frame: 69; tween:0.50;\n",
      "Creating in-between cadence frame: 70; tween:0.75;\n",
      "Creating in-between cadence frame: 71; tween:1.00;\n",
      "\u001b[32mSeed: \u001b[0m19407997\n",
      "\u001b[35mPrompt: \u001b[0m(high definition), beautiful,  A neon-colored abstract cityscape with towering buildings and flashing lights. The only sign of life is a lone figure in the distance.\n",
      "\u001b[91mNeg Prompt: \u001b[0m(NSFW), (ugly), noise, blur, fog, text,\n"
     ]
    },
    {
     "data": {
      "text/html": [
       "<pre style=\"white-space:pre;overflow-x:auto;line-height:normal;font-family:Menlo,'DejaVu Sans Mono',consolas,'Courier New',monospace\">╭─────┬───┬───────┬────┬────┬────┬────┬────┬────╮\n",
       "│<span style=\"font-weight: bold\">Steps</span>│<span style=\"font-weight: bold\">CFG</span>│<span style=\"font-weight: bold\">Denoise</span>│<span style=\"font-weight: bold\">Tr X</span>│<span style=\"font-weight: bold\">Tr Y</span>│<span style=\"font-weight: bold\">Tr Z</span>│<span style=\"font-weight: bold\">Ro X</span>│<span style=\"font-weight: bold\">Ro Y</span>│<span style=\"font-weight: bold\">Ro Z</span>│\n",
       "├─────┼───┼───────┼────┼────┼────┼────┼────┼────┤\n",
       "│ 25  │7.0│ 0.35  │ 0  │ 0  │0.5 │ 0  │ 0  │ 0  │\n",
       "╰─────┴───┴───────┴────┴────┴────┴────┴────┴────╯\n",
       "</pre>\n"
      ],
      "text/plain": [
       "╭─────┬───┬───────┬────┬────┬────┬────┬────┬────╮\n",
       "│\u001b[1mSteps\u001b[0m│\u001b[1mCFG\u001b[0m│\u001b[1mDenoise\u001b[0m│\u001b[1mTr X\u001b[0m│\u001b[1mTr Y\u001b[0m│\u001b[1mTr Z\u001b[0m│\u001b[1mRo X\u001b[0m│\u001b[1mRo Y\u001b[0m│\u001b[1mRo Z\u001b[0m│\n",
       "├─────┼───┼───────┼────┼────┼────┼────┼────┼────┤\n",
       "│ 25  │7.0│ 0.35  │ 0  │ 0  │0.5 │ 0  │ 0  │ 0  │\n",
       "╰─────┴───┴───────┴────┴────┴────┴────┴────┴────╯\n"
      ]
     },
     "metadata": {},
     "output_type": "display_data"
    },
    {
     "name": "stderr",
     "output_type": "stream",
     "text": [
      "2023-03-30 00:09:47,564 - root - INFO - Calibrating color correction.\n"
     ]
    },
    {
     "data": {
      "application/vnd.jupyter.widget-view+json": {
       "model_id": "6a1082ddec764dc0b2ee43ebbc35db41",
       "version_major": 2,
       "version_minor": 0
      },
      "text/plain": [
       "  0%|          | 0/9 [00:00<?, ?it/s]"
      ]
     },
     "metadata": {},
     "output_type": "display_data"
    },
    {
     "name": "stdout",
     "output_type": "stream",
     "text": []
    },
    {
     "name": "stderr",
     "output_type": "stream",
     "text": [
      "2023-03-30 00:09:49,403 - root - INFO - Applying color correction.\n"
     ]
    },
    {
     "name": "stdout",
     "output_type": "stream",
     "text": [
      "\u001b[36mAnimation frame: \u001b[0m76/120  \n",
      "Creating in-between cadence frame: 72; tween:0.25;\n",
      "Creating in-between cadence frame: 73; tween:0.50;\n",
      "Creating in-between cadence frame: 74; tween:0.75;\n",
      "Creating in-between cadence frame: 75; tween:1.00;\n",
      "\u001b[32mSeed: \u001b[0m19407998\n",
      "\u001b[35mPrompt: \u001b[0m(high definition), beautiful,  A neon-colored abstract cityscape with towering buildings and flashing lights. The only sign of life is a lone figure in the distance.\n",
      "\u001b[91mNeg Prompt: \u001b[0m(NSFW), (ugly), noise, blur, fog, text,\n"
     ]
    },
    {
     "data": {
      "text/html": [
       "<pre style=\"white-space:pre;overflow-x:auto;line-height:normal;font-family:Menlo,'DejaVu Sans Mono',consolas,'Courier New',monospace\">╭─────┬───┬───────┬────┬────┬────┬────┬────┬────╮\n",
       "│<span style=\"font-weight: bold\">Steps</span>│<span style=\"font-weight: bold\">CFG</span>│<span style=\"font-weight: bold\">Denoise</span>│<span style=\"font-weight: bold\">Tr X</span>│<span style=\"font-weight: bold\">Tr Y</span>│<span style=\"font-weight: bold\">Tr Z</span>│<span style=\"font-weight: bold\">Ro X</span>│<span style=\"font-weight: bold\">Ro Y</span>│<span style=\"font-weight: bold\">Ro Z</span>│\n",
       "├─────┼───┼───────┼────┼────┼────┼────┼────┼────┤\n",
       "│ 25  │7.0│ 0.35  │ 0  │ 0  │0.5 │ 0  │ 0  │ 0  │\n",
       "╰─────┴───┴───────┴────┴────┴────┴────┴────┴────╯\n",
       "</pre>\n"
      ],
      "text/plain": [
       "╭─────┬───┬───────┬────┬────┬────┬────┬────┬────╮\n",
       "│\u001b[1mSteps\u001b[0m│\u001b[1mCFG\u001b[0m│\u001b[1mDenoise\u001b[0m│\u001b[1mTr X\u001b[0m│\u001b[1mTr Y\u001b[0m│\u001b[1mTr Z\u001b[0m│\u001b[1mRo X\u001b[0m│\u001b[1mRo Y\u001b[0m│\u001b[1mRo Z\u001b[0m│\n",
       "├─────┼───┼───────┼────┼────┼────┼────┼────┼────┤\n",
       "│ 25  │7.0│ 0.35  │ 0  │ 0  │0.5 │ 0  │ 0  │ 0  │\n",
       "╰─────┴───┴───────┴────┴────┴────┴────┴────┴────╯\n"
      ]
     },
     "metadata": {},
     "output_type": "display_data"
    },
    {
     "name": "stderr",
     "output_type": "stream",
     "text": [
      "2023-03-30 00:09:50,150 - root - INFO - Calibrating color correction.\n"
     ]
    },
    {
     "data": {
      "application/vnd.jupyter.widget-view+json": {
       "model_id": "596434a332b14da0ad0fd1a286268eaa",
       "version_major": 2,
       "version_minor": 0
      },
      "text/plain": [
       "  0%|          | 0/9 [00:00<?, ?it/s]"
      ]
     },
     "metadata": {},
     "output_type": "display_data"
    },
    {
     "name": "stdout",
     "output_type": "stream",
     "text": []
    },
    {
     "name": "stderr",
     "output_type": "stream",
     "text": [
      "2023-03-30 00:09:52,022 - root - INFO - Applying color correction.\n"
     ]
    },
    {
     "name": "stdout",
     "output_type": "stream",
     "text": [
      "\u001b[36mAnimation frame: \u001b[0m80/120  \n",
      "Creating in-between cadence frame: 76; tween:0.25;\n",
      "Creating in-between cadence frame: 77; tween:0.50;\n",
      "Creating in-between cadence frame: 78; tween:0.75;\n",
      "Creating in-between cadence frame: 79; tween:1.00;\n",
      "\u001b[32mSeed: \u001b[0m19407999\n",
      "\u001b[35mPrompt: \u001b[0m(high definition), beautiful,  A neon-colored abstract cityscape with towering buildings and flashing lights. The only sign of life is a lone figure in the distance.\n",
      "\u001b[91mNeg Prompt: \u001b[0m(NSFW), (ugly), noise, blur, fog, text,\n"
     ]
    },
    {
     "data": {
      "text/html": [
       "<pre style=\"white-space:pre;overflow-x:auto;line-height:normal;font-family:Menlo,'DejaVu Sans Mono',consolas,'Courier New',monospace\">╭─────┬───┬───────┬────┬────┬────┬────┬────┬────╮\n",
       "│<span style=\"font-weight: bold\">Steps</span>│<span style=\"font-weight: bold\">CFG</span>│<span style=\"font-weight: bold\">Denoise</span>│<span style=\"font-weight: bold\">Tr X</span>│<span style=\"font-weight: bold\">Tr Y</span>│<span style=\"font-weight: bold\">Tr Z</span>│<span style=\"font-weight: bold\">Ro X</span>│<span style=\"font-weight: bold\">Ro Y</span>│<span style=\"font-weight: bold\">Ro Z</span>│\n",
       "├─────┼───┼───────┼────┼────┼────┼────┼────┼────┤\n",
       "│ 25  │7.0│ 0.35  │ 0  │ 0  │0.5 │ 0  │ 0  │ 0  │\n",
       "╰─────┴───┴───────┴────┴────┴────┴────┴────┴────╯\n",
       "</pre>\n"
      ],
      "text/plain": [
       "╭─────┬───┬───────┬────┬────┬────┬────┬────┬────╮\n",
       "│\u001b[1mSteps\u001b[0m│\u001b[1mCFG\u001b[0m│\u001b[1mDenoise\u001b[0m│\u001b[1mTr X\u001b[0m│\u001b[1mTr Y\u001b[0m│\u001b[1mTr Z\u001b[0m│\u001b[1mRo X\u001b[0m│\u001b[1mRo Y\u001b[0m│\u001b[1mRo Z\u001b[0m│\n",
       "├─────┼───┼───────┼────┼────┼────┼────┼────┼────┤\n",
       "│ 25  │7.0│ 0.35  │ 0  │ 0  │0.5 │ 0  │ 0  │ 0  │\n",
       "╰─────┴───┴───────┴────┴────┴────┴────┴────┴────╯\n"
      ]
     },
     "metadata": {},
     "output_type": "display_data"
    },
    {
     "name": "stderr",
     "output_type": "stream",
     "text": [
      "2023-03-30 00:09:52,742 - root - INFO - Calibrating color correction.\n"
     ]
    },
    {
     "data": {
      "application/vnd.jupyter.widget-view+json": {
       "model_id": "7ed534f2f7904c009769fd42f9538ee5",
       "version_major": 2,
       "version_minor": 0
      },
      "text/plain": [
       "  0%|          | 0/9 [00:00<?, ?it/s]"
      ]
     },
     "metadata": {},
     "output_type": "display_data"
    },
    {
     "name": "stdout",
     "output_type": "stream",
     "text": []
    },
    {
     "name": "stderr",
     "output_type": "stream",
     "text": [
      "2023-03-30 00:09:54,836 - root - INFO - Applying color correction.\n"
     ]
    },
    {
     "name": "stdout",
     "output_type": "stream",
     "text": [
      "\u001b[36mAnimation frame: \u001b[0m84/120  \n",
      "Creating in-between cadence frame: 80; tween:0.25;\n",
      "Creating in-between cadence frame: 81; tween:0.50;\n",
      "Creating in-between cadence frame: 82; tween:0.75;\n",
      "Creating in-between cadence frame: 83; tween:1.00;\n",
      "\u001b[32mSeed: \u001b[0m19408000\n",
      "\u001b[35mPrompt: \u001b[0m(high definition), beautiful,  A neon-colored abstract cityscape with towering buildings and flashing lights. The only sign of life is a lone figure in the distance.\n",
      "\u001b[91mNeg Prompt: \u001b[0m(NSFW), (ugly), noise, blur, fog, text,\n"
     ]
    },
    {
     "data": {
      "text/html": [
       "<pre style=\"white-space:pre;overflow-x:auto;line-height:normal;font-family:Menlo,'DejaVu Sans Mono',consolas,'Courier New',monospace\">╭─────┬───┬───────┬────┬────┬────┬────┬────┬────╮\n",
       "│<span style=\"font-weight: bold\">Steps</span>│<span style=\"font-weight: bold\">CFG</span>│<span style=\"font-weight: bold\">Denoise</span>│<span style=\"font-weight: bold\">Tr X</span>│<span style=\"font-weight: bold\">Tr Y</span>│<span style=\"font-weight: bold\">Tr Z</span>│<span style=\"font-weight: bold\">Ro X</span>│<span style=\"font-weight: bold\">Ro Y</span>│<span style=\"font-weight: bold\">Ro Z</span>│\n",
       "├─────┼───┼───────┼────┼────┼────┼────┼────┼────┤\n",
       "│ 25  │7.0│ 0.35  │ 0  │ 0  │0.5 │ 0  │ 0  │ 0  │\n",
       "╰─────┴───┴───────┴────┴────┴────┴────┴────┴────╯\n",
       "</pre>\n"
      ],
      "text/plain": [
       "╭─────┬───┬───────┬────┬────┬────┬────┬────┬────╮\n",
       "│\u001b[1mSteps\u001b[0m│\u001b[1mCFG\u001b[0m│\u001b[1mDenoise\u001b[0m│\u001b[1mTr X\u001b[0m│\u001b[1mTr Y\u001b[0m│\u001b[1mTr Z\u001b[0m│\u001b[1mRo X\u001b[0m│\u001b[1mRo Y\u001b[0m│\u001b[1mRo Z\u001b[0m│\n",
       "├─────┼───┼───────┼────┼────┼────┼────┼────┼────┤\n",
       "│ 25  │7.0│ 0.35  │ 0  │ 0  │0.5 │ 0  │ 0  │ 0  │\n",
       "╰─────┴───┴───────┴────┴────┴────┴────┴────┴────╯\n"
      ]
     },
     "metadata": {},
     "output_type": "display_data"
    },
    {
     "name": "stderr",
     "output_type": "stream",
     "text": [
      "2023-03-30 00:09:55,629 - root - INFO - Calibrating color correction.\n"
     ]
    },
    {
     "data": {
      "application/vnd.jupyter.widget-view+json": {
       "model_id": "7741b0f68e4a45b39f9f2ffc003b70b4",
       "version_major": 2,
       "version_minor": 0
      },
      "text/plain": [
       "  0%|          | 0/9 [00:00<?, ?it/s]"
      ]
     },
     "metadata": {},
     "output_type": "display_data"
    },
    {
     "name": "stdout",
     "output_type": "stream",
     "text": []
    },
    {
     "name": "stderr",
     "output_type": "stream",
     "text": [
      "2023-03-30 00:09:57,541 - root - INFO - Applying color correction.\n"
     ]
    },
    {
     "name": "stdout",
     "output_type": "stream",
     "text": [
      "\u001b[36mAnimation frame: \u001b[0m88/120  \n",
      "Creating in-between cadence frame: 84; tween:0.25;\n",
      "Creating in-between cadence frame: 85; tween:0.50;\n",
      "Creating in-between cadence frame: 86; tween:0.75;\n",
      "Creating in-between cadence frame: 87; tween:1.00;\n",
      "\u001b[32mSeed: \u001b[0m19408001\n",
      "\u001b[35mPrompt: \u001b[0m(high definition), beautiful,  A neon-colored abstract cityscape with towering buildings and flashing lights. The only sign of life is a lone figure in the distance.\n",
      "\u001b[91mNeg Prompt: \u001b[0m(NSFW), (ugly), noise, blur, fog, text,\n"
     ]
    },
    {
     "data": {
      "text/html": [
       "<pre style=\"white-space:pre;overflow-x:auto;line-height:normal;font-family:Menlo,'DejaVu Sans Mono',consolas,'Courier New',monospace\">╭─────┬───┬───────┬────┬────┬────┬────┬────┬────╮\n",
       "│<span style=\"font-weight: bold\">Steps</span>│<span style=\"font-weight: bold\">CFG</span>│<span style=\"font-weight: bold\">Denoise</span>│<span style=\"font-weight: bold\">Tr X</span>│<span style=\"font-weight: bold\">Tr Y</span>│<span style=\"font-weight: bold\">Tr Z</span>│<span style=\"font-weight: bold\">Ro X</span>│<span style=\"font-weight: bold\">Ro Y</span>│<span style=\"font-weight: bold\">Ro Z</span>│\n",
       "├─────┼───┼───────┼────┼────┼────┼────┼────┼────┤\n",
       "│ 25  │7.0│ 0.35  │ 0  │ 0  │0.5 │ 0  │ 0  │ 0  │\n",
       "╰─────┴───┴───────┴────┴────┴────┴────┴────┴────╯\n",
       "</pre>\n"
      ],
      "text/plain": [
       "╭─────┬───┬───────┬────┬────┬────┬────┬────┬────╮\n",
       "│\u001b[1mSteps\u001b[0m│\u001b[1mCFG\u001b[0m│\u001b[1mDenoise\u001b[0m│\u001b[1mTr X\u001b[0m│\u001b[1mTr Y\u001b[0m│\u001b[1mTr Z\u001b[0m│\u001b[1mRo X\u001b[0m│\u001b[1mRo Y\u001b[0m│\u001b[1mRo Z\u001b[0m│\n",
       "├─────┼───┼───────┼────┼────┼────┼────┼────┼────┤\n",
       "│ 25  │7.0│ 0.35  │ 0  │ 0  │0.5 │ 0  │ 0  │ 0  │\n",
       "╰─────┴───┴───────┴────┴────┴────┴────┴────┴────╯\n"
      ]
     },
     "metadata": {},
     "output_type": "display_data"
    },
    {
     "name": "stderr",
     "output_type": "stream",
     "text": [
      "2023-03-30 00:09:58,259 - root - INFO - Calibrating color correction.\n"
     ]
    },
    {
     "data": {
      "application/vnd.jupyter.widget-view+json": {
       "model_id": "b47a7e59ca6544c6965911f9653fbf4b",
       "version_major": 2,
       "version_minor": 0
      },
      "text/plain": [
       "  0%|          | 0/9 [00:00<?, ?it/s]"
      ]
     },
     "metadata": {},
     "output_type": "display_data"
    },
    {
     "name": "stdout",
     "output_type": "stream",
     "text": []
    },
    {
     "name": "stderr",
     "output_type": "stream",
     "text": [
      "2023-03-30 00:10:00,108 - root - INFO - Applying color correction.\n"
     ]
    },
    {
     "name": "stdout",
     "output_type": "stream",
     "text": [
      "\u001b[36mAnimation frame: \u001b[0m92/120  \n",
      "Creating in-between cadence frame: 88; tween:0.25;\n",
      "Creating in-between cadence frame: 89; tween:0.50;\n",
      "Creating in-between cadence frame: 90; tween:0.75;\n",
      "Creating in-between cadence frame: 91; tween:1.00;\n",
      "\u001b[32mSeed: \u001b[0m19408002\n",
      "\u001b[35mPrompt: \u001b[0m(high definition), beautiful,  A kaleidoscope of shapes and colors twisting and morphing into each other in a mesmerizing display.\n",
      "\u001b[91mNeg Prompt: \u001b[0m(NSFW), (ugly), noise, blur, fog, text,\n"
     ]
    },
    {
     "data": {
      "text/html": [
       "<pre style=\"white-space:pre;overflow-x:auto;line-height:normal;font-family:Menlo,'DejaVu Sans Mono',consolas,'Courier New',monospace\">╭─────┬───┬───────┬────┬────┬────┬────┬────┬────╮\n",
       "│<span style=\"font-weight: bold\">Steps</span>│<span style=\"font-weight: bold\">CFG</span>│<span style=\"font-weight: bold\">Denoise</span>│<span style=\"font-weight: bold\">Tr X</span>│<span style=\"font-weight: bold\">Tr Y</span>│<span style=\"font-weight: bold\">Tr Z</span>│<span style=\"font-weight: bold\">Ro X</span>│<span style=\"font-weight: bold\">Ro Y</span>│<span style=\"font-weight: bold\">Ro Z</span>│\n",
       "├─────┼───┼───────┼────┼────┼────┼────┼────┼────┤\n",
       "│ 25  │7.0│ 0.35  │ 0  │ 0  │0.5 │ 0  │ 0  │ 0  │\n",
       "╰─────┴───┴───────┴────┴────┴────┴────┴────┴────╯\n",
       "</pre>\n"
      ],
      "text/plain": [
       "╭─────┬───┬───────┬────┬────┬────┬────┬────┬────╮\n",
       "│\u001b[1mSteps\u001b[0m│\u001b[1mCFG\u001b[0m│\u001b[1mDenoise\u001b[0m│\u001b[1mTr X\u001b[0m│\u001b[1mTr Y\u001b[0m│\u001b[1mTr Z\u001b[0m│\u001b[1mRo X\u001b[0m│\u001b[1mRo Y\u001b[0m│\u001b[1mRo Z\u001b[0m│\n",
       "├─────┼───┼───────┼────┼────┼────┼────┼────┼────┤\n",
       "│ 25  │7.0│ 0.35  │ 0  │ 0  │0.5 │ 0  │ 0  │ 0  │\n",
       "╰─────┴───┴───────┴────┴────┴────┴────┴────┴────╯\n"
      ]
     },
     "metadata": {},
     "output_type": "display_data"
    },
    {
     "name": "stderr",
     "output_type": "stream",
     "text": [
      "2023-03-30 00:10:00,877 - root - INFO - Calibrating color correction.\n"
     ]
    },
    {
     "data": {
      "application/vnd.jupyter.widget-view+json": {
       "model_id": "cb34d509816940d8a4d4867ff60e297c",
       "version_major": 2,
       "version_minor": 0
      },
      "text/plain": [
       "  0%|          | 0/9 [00:00<?, ?it/s]"
      ]
     },
     "metadata": {},
     "output_type": "display_data"
    },
    {
     "name": "stdout",
     "output_type": "stream",
     "text": []
    },
    {
     "name": "stderr",
     "output_type": "stream",
     "text": [
      "2023-03-30 00:10:02,855 - root - INFO - Applying color correction.\n"
     ]
    },
    {
     "name": "stdout",
     "output_type": "stream",
     "text": [
      "\u001b[36mAnimation frame: \u001b[0m96/120  \n",
      "Creating in-between cadence frame: 92; tween:0.25;\n",
      "Creating in-between cadence frame: 93; tween:0.50;\n",
      "Creating in-between cadence frame: 94; tween:0.75;\n",
      "Creating in-between cadence frame: 95; tween:1.00;\n",
      "\u001b[32mSeed: \u001b[0m19408003\n",
      "\u001b[35mPrompt: \u001b[0m(high definition), beautiful,  A kaleidoscope of shapes and colors twisting and morphing into each other in a mesmerizing display.\n",
      "\u001b[91mNeg Prompt: \u001b[0m(NSFW), (ugly), noise, blur, fog, text,\n"
     ]
    },
    {
     "data": {
      "text/html": [
       "<pre style=\"white-space:pre;overflow-x:auto;line-height:normal;font-family:Menlo,'DejaVu Sans Mono',consolas,'Courier New',monospace\">╭─────┬───┬───────┬────┬────┬────┬────┬────┬────╮\n",
       "│<span style=\"font-weight: bold\">Steps</span>│<span style=\"font-weight: bold\">CFG</span>│<span style=\"font-weight: bold\">Denoise</span>│<span style=\"font-weight: bold\">Tr X</span>│<span style=\"font-weight: bold\">Tr Y</span>│<span style=\"font-weight: bold\">Tr Z</span>│<span style=\"font-weight: bold\">Ro X</span>│<span style=\"font-weight: bold\">Ro Y</span>│<span style=\"font-weight: bold\">Ro Z</span>│\n",
       "├─────┼───┼───────┼────┼────┼────┼────┼────┼────┤\n",
       "│ 25  │7.0│ 0.35  │ 0  │ 0  │0.5 │ 0  │ 0  │ 0  │\n",
       "╰─────┴───┴───────┴────┴────┴────┴────┴────┴────╯\n",
       "</pre>\n"
      ],
      "text/plain": [
       "╭─────┬───┬───────┬────┬────┬────┬────┬────┬────╮\n",
       "│\u001b[1mSteps\u001b[0m│\u001b[1mCFG\u001b[0m│\u001b[1mDenoise\u001b[0m│\u001b[1mTr X\u001b[0m│\u001b[1mTr Y\u001b[0m│\u001b[1mTr Z\u001b[0m│\u001b[1mRo X\u001b[0m│\u001b[1mRo Y\u001b[0m│\u001b[1mRo Z\u001b[0m│\n",
       "├─────┼───┼───────┼────┼────┼────┼────┼────┼────┤\n",
       "│ 25  │7.0│ 0.35  │ 0  │ 0  │0.5 │ 0  │ 0  │ 0  │\n",
       "╰─────┴───┴───────┴────┴────┴────┴────┴────┴────╯\n"
      ]
     },
     "metadata": {},
     "output_type": "display_data"
    },
    {
     "name": "stderr",
     "output_type": "stream",
     "text": [
      "2023-03-30 00:10:03,658 - root - INFO - Calibrating color correction.\n"
     ]
    },
    {
     "data": {
      "application/vnd.jupyter.widget-view+json": {
       "model_id": "2f6375c827c7430c8e8dcc45abf147d9",
       "version_major": 2,
       "version_minor": 0
      },
      "text/plain": [
       "  0%|          | 0/9 [00:00<?, ?it/s]"
      ]
     },
     "metadata": {},
     "output_type": "display_data"
    },
    {
     "name": "stdout",
     "output_type": "stream",
     "text": []
    },
    {
     "name": "stderr",
     "output_type": "stream",
     "text": [
      "2023-03-30 00:10:05,573 - root - INFO - Applying color correction.\n"
     ]
    },
    {
     "name": "stdout",
     "output_type": "stream",
     "text": [
      "\u001b[36mAnimation frame: \u001b[0m100/120  \n",
      "Creating in-between cadence frame: 96; tween:0.25;\n",
      "Creating in-between cadence frame: 97; tween:0.50;\n",
      "Creating in-between cadence frame: 98; tween:0.75;\n",
      "Creating in-between cadence frame: 99; tween:1.00;\n",
      "\u001b[32mSeed: \u001b[0m19408004\n",
      "\u001b[35mPrompt: \u001b[0m(high definition), beautiful,  A kaleidoscope of shapes and colors twisting and morphing into each other in a mesmerizing display.\n",
      "\u001b[91mNeg Prompt: \u001b[0m(NSFW), (ugly), noise, blur, fog, text,\n"
     ]
    },
    {
     "data": {
      "text/html": [
       "<pre style=\"white-space:pre;overflow-x:auto;line-height:normal;font-family:Menlo,'DejaVu Sans Mono',consolas,'Courier New',monospace\">╭─────┬───┬───────┬────┬────┬────┬────┬────┬────╮\n",
       "│<span style=\"font-weight: bold\">Steps</span>│<span style=\"font-weight: bold\">CFG</span>│<span style=\"font-weight: bold\">Denoise</span>│<span style=\"font-weight: bold\">Tr X</span>│<span style=\"font-weight: bold\">Tr Y</span>│<span style=\"font-weight: bold\">Tr Z</span>│<span style=\"font-weight: bold\">Ro X</span>│<span style=\"font-weight: bold\">Ro Y</span>│<span style=\"font-weight: bold\">Ro Z</span>│\n",
       "├─────┼───┼───────┼────┼────┼────┼────┼────┼────┤\n",
       "│ 25  │7.0│ 0.35  │ 0  │ 0  │0.5 │ 0  │ 0  │ 0  │\n",
       "╰─────┴───┴───────┴────┴────┴────┴────┴────┴────╯\n",
       "</pre>\n"
      ],
      "text/plain": [
       "╭─────┬───┬───────┬────┬────┬────┬────┬────┬────╮\n",
       "│\u001b[1mSteps\u001b[0m│\u001b[1mCFG\u001b[0m│\u001b[1mDenoise\u001b[0m│\u001b[1mTr X\u001b[0m│\u001b[1mTr Y\u001b[0m│\u001b[1mTr Z\u001b[0m│\u001b[1mRo X\u001b[0m│\u001b[1mRo Y\u001b[0m│\u001b[1mRo Z\u001b[0m│\n",
       "├─────┼───┼───────┼────┼────┼────┼────┼────┼────┤\n",
       "│ 25  │7.0│ 0.35  │ 0  │ 0  │0.5 │ 0  │ 0  │ 0  │\n",
       "╰─────┴───┴───────┴────┴────┴────┴────┴────┴────╯\n"
      ]
     },
     "metadata": {},
     "output_type": "display_data"
    },
    {
     "name": "stderr",
     "output_type": "stream",
     "text": [
      "2023-03-30 00:10:06,411 - root - INFO - Calibrating color correction.\n"
     ]
    },
    {
     "data": {
      "application/vnd.jupyter.widget-view+json": {
       "model_id": "9ff2616f766b43468b53580295ae2ff5",
       "version_major": 2,
       "version_minor": 0
      },
      "text/plain": [
       "  0%|          | 0/9 [00:00<?, ?it/s]"
      ]
     },
     "metadata": {},
     "output_type": "display_data"
    },
    {
     "name": "stdout",
     "output_type": "stream",
     "text": []
    },
    {
     "name": "stderr",
     "output_type": "stream",
     "text": [
      "2023-03-30 00:10:08,283 - root - INFO - Applying color correction.\n"
     ]
    },
    {
     "name": "stdout",
     "output_type": "stream",
     "text": [
      "\u001b[36mAnimation frame: \u001b[0m104/120  \n",
      "Creating in-between cadence frame: 100; tween:0.25;\n",
      "Creating in-between cadence frame: 101; tween:0.50;\n",
      "Creating in-between cadence frame: 102; tween:0.75;\n",
      "Creating in-between cadence frame: 103; tween:1.00;\n",
      "\u001b[32mSeed: \u001b[0m19408005\n",
      "\u001b[35mPrompt: \u001b[0m(high definition), beautiful,  A kaleidoscope of shapes and colors twisting and morphing into each other in a mesmerizing display.\n",
      "\u001b[91mNeg Prompt: \u001b[0m(NSFW), (ugly), noise, blur, fog, text,\n"
     ]
    },
    {
     "data": {
      "text/html": [
       "<pre style=\"white-space:pre;overflow-x:auto;line-height:normal;font-family:Menlo,'DejaVu Sans Mono',consolas,'Courier New',monospace\">╭─────┬───┬───────┬────┬────┬────┬────┬────┬────╮\n",
       "│<span style=\"font-weight: bold\">Steps</span>│<span style=\"font-weight: bold\">CFG</span>│<span style=\"font-weight: bold\">Denoise</span>│<span style=\"font-weight: bold\">Tr X</span>│<span style=\"font-weight: bold\">Tr Y</span>│<span style=\"font-weight: bold\">Tr Z</span>│<span style=\"font-weight: bold\">Ro X</span>│<span style=\"font-weight: bold\">Ro Y</span>│<span style=\"font-weight: bold\">Ro Z</span>│\n",
       "├─────┼───┼───────┼────┼────┼────┼────┼────┼────┤\n",
       "│ 25  │7.0│ 0.35  │ 0  │ 0  │0.5 │ 0  │ 0  │ 0  │\n",
       "╰─────┴───┴───────┴────┴────┴────┴────┴────┴────╯\n",
       "</pre>\n"
      ],
      "text/plain": [
       "╭─────┬───┬───────┬────┬────┬────┬────┬────┬────╮\n",
       "│\u001b[1mSteps\u001b[0m│\u001b[1mCFG\u001b[0m│\u001b[1mDenoise\u001b[0m│\u001b[1mTr X\u001b[0m│\u001b[1mTr Y\u001b[0m│\u001b[1mTr Z\u001b[0m│\u001b[1mRo X\u001b[0m│\u001b[1mRo Y\u001b[0m│\u001b[1mRo Z\u001b[0m│\n",
       "├─────┼───┼───────┼────┼────┼────┼────┼────┼────┤\n",
       "│ 25  │7.0│ 0.35  │ 0  │ 0  │0.5 │ 0  │ 0  │ 0  │\n",
       "╰─────┴───┴───────┴────┴────┴────┴────┴────┴────╯\n"
      ]
     },
     "metadata": {},
     "output_type": "display_data"
    },
    {
     "name": "stderr",
     "output_type": "stream",
     "text": [
      "2023-03-30 00:10:09,116 - root - INFO - Calibrating color correction.\n"
     ]
    },
    {
     "data": {
      "application/vnd.jupyter.widget-view+json": {
       "model_id": "e20e261766a544c19c562357e15c42c1",
       "version_major": 2,
       "version_minor": 0
      },
      "text/plain": [
       "  0%|          | 0/9 [00:00<?, ?it/s]"
      ]
     },
     "metadata": {},
     "output_type": "display_data"
    },
    {
     "name": "stdout",
     "output_type": "stream",
     "text": []
    },
    {
     "name": "stderr",
     "output_type": "stream",
     "text": [
      "2023-03-30 00:10:10,945 - root - INFO - Applying color correction.\n"
     ]
    },
    {
     "name": "stdout",
     "output_type": "stream",
     "text": [
      "\u001b[36mAnimation frame: \u001b[0m108/120  \n",
      "Creating in-between cadence frame: 104; tween:0.25;\n",
      "Creating in-between cadence frame: 105; tween:0.50;\n",
      "Creating in-between cadence frame: 106; tween:0.75;\n",
      "Creating in-between cadence frame: 107; tween:1.00;\n",
      "\u001b[32mSeed: \u001b[0m19408006\n",
      "\u001b[35mPrompt: \u001b[0m(high definition), beautiful,  A kaleidoscope of shapes and colors twisting and morphing into each other in a mesmerizing display.\n",
      "\u001b[91mNeg Prompt: \u001b[0m(NSFW), (ugly), noise, blur, fog, text,\n"
     ]
    },
    {
     "data": {
      "text/html": [
       "<pre style=\"white-space:pre;overflow-x:auto;line-height:normal;font-family:Menlo,'DejaVu Sans Mono',consolas,'Courier New',monospace\">╭─────┬───┬───────┬────┬────┬────┬────┬────┬────╮\n",
       "│<span style=\"font-weight: bold\">Steps</span>│<span style=\"font-weight: bold\">CFG</span>│<span style=\"font-weight: bold\">Denoise</span>│<span style=\"font-weight: bold\">Tr X</span>│<span style=\"font-weight: bold\">Tr Y</span>│<span style=\"font-weight: bold\">Tr Z</span>│<span style=\"font-weight: bold\">Ro X</span>│<span style=\"font-weight: bold\">Ro Y</span>│<span style=\"font-weight: bold\">Ro Z</span>│\n",
       "├─────┼───┼───────┼────┼────┼────┼────┼────┼────┤\n",
       "│ 25  │7.0│ 0.35  │ 0  │ 0  │0.5 │ 0  │ 0  │ 0  │\n",
       "╰─────┴───┴───────┴────┴────┴────┴────┴────┴────╯\n",
       "</pre>\n"
      ],
      "text/plain": [
       "╭─────┬───┬───────┬────┬────┬────┬────┬────┬────╮\n",
       "│\u001b[1mSteps\u001b[0m│\u001b[1mCFG\u001b[0m│\u001b[1mDenoise\u001b[0m│\u001b[1mTr X\u001b[0m│\u001b[1mTr Y\u001b[0m│\u001b[1mTr Z\u001b[0m│\u001b[1mRo X\u001b[0m│\u001b[1mRo Y\u001b[0m│\u001b[1mRo Z\u001b[0m│\n",
       "├─────┼───┼───────┼────┼────┼────┼────┼────┼────┤\n",
       "│ 25  │7.0│ 0.35  │ 0  │ 0  │0.5 │ 0  │ 0  │ 0  │\n",
       "╰─────┴───┴───────┴────┴────┴────┴────┴────┴────╯\n"
      ]
     },
     "metadata": {},
     "output_type": "display_data"
    },
    {
     "name": "stderr",
     "output_type": "stream",
     "text": [
      "2023-03-30 00:10:11,765 - root - INFO - Calibrating color correction.\n"
     ]
    },
    {
     "data": {
      "application/vnd.jupyter.widget-view+json": {
       "model_id": "54696395ea074c37a606a49c0390bbce",
       "version_major": 2,
       "version_minor": 0
      },
      "text/plain": [
       "  0%|          | 0/9 [00:00<?, ?it/s]"
      ]
     },
     "metadata": {},
     "output_type": "display_data"
    },
    {
     "name": "stdout",
     "output_type": "stream",
     "text": []
    },
    {
     "name": "stderr",
     "output_type": "stream",
     "text": [
      "2023-03-30 00:10:13,636 - root - INFO - Applying color correction.\n"
     ]
    },
    {
     "name": "stdout",
     "output_type": "stream",
     "text": [
      "\u001b[36mAnimation frame: \u001b[0m112/120  \n",
      "Creating in-between cadence frame: 108; tween:0.25;\n",
      "Creating in-between cadence frame: 109; tween:0.50;\n",
      "Creating in-between cadence frame: 110; tween:0.75;\n",
      "Creating in-between cadence frame: 111; tween:1.00;\n",
      "\u001b[32mSeed: \u001b[0m19408007\n",
      "\u001b[35mPrompt: \u001b[0m(high definition), beautiful,  A kaleidoscope of shapes and colors twisting and morphing into each other in a mesmerizing display.\n",
      "\u001b[91mNeg Prompt: \u001b[0m(NSFW), (ugly), noise, blur, fog, text,\n"
     ]
    },
    {
     "data": {
      "text/html": [
       "<pre style=\"white-space:pre;overflow-x:auto;line-height:normal;font-family:Menlo,'DejaVu Sans Mono',consolas,'Courier New',monospace\">╭─────┬───┬───────┬────┬────┬────┬────┬────┬────╮\n",
       "│<span style=\"font-weight: bold\">Steps</span>│<span style=\"font-weight: bold\">CFG</span>│<span style=\"font-weight: bold\">Denoise</span>│<span style=\"font-weight: bold\">Tr X</span>│<span style=\"font-weight: bold\">Tr Y</span>│<span style=\"font-weight: bold\">Tr Z</span>│<span style=\"font-weight: bold\">Ro X</span>│<span style=\"font-weight: bold\">Ro Y</span>│<span style=\"font-weight: bold\">Ro Z</span>│\n",
       "├─────┼───┼───────┼────┼────┼────┼────┼────┼────┤\n",
       "│ 25  │7.0│ 0.35  │ 0  │ 0  │0.5 │ 0  │ 0  │ 0  │\n",
       "╰─────┴───┴───────┴────┴────┴────┴────┴────┴────╯\n",
       "</pre>\n"
      ],
      "text/plain": [
       "╭─────┬───┬───────┬────┬────┬────┬────┬────┬────╮\n",
       "│\u001b[1mSteps\u001b[0m│\u001b[1mCFG\u001b[0m│\u001b[1mDenoise\u001b[0m│\u001b[1mTr X\u001b[0m│\u001b[1mTr Y\u001b[0m│\u001b[1mTr Z\u001b[0m│\u001b[1mRo X\u001b[0m│\u001b[1mRo Y\u001b[0m│\u001b[1mRo Z\u001b[0m│\n",
       "├─────┼───┼───────┼────┼────┼────┼────┼────┼────┤\n",
       "│ 25  │7.0│ 0.35  │ 0  │ 0  │0.5 │ 0  │ 0  │ 0  │\n",
       "╰─────┴───┴───────┴────┴────┴────┴────┴────┴────╯\n"
      ]
     },
     "metadata": {},
     "output_type": "display_data"
    },
    {
     "name": "stderr",
     "output_type": "stream",
     "text": [
      "2023-03-30 00:10:14,452 - root - INFO - Calibrating color correction.\n"
     ]
    },
    {
     "data": {
      "application/vnd.jupyter.widget-view+json": {
       "model_id": "85477fe401824b80a923aa540bd61787",
       "version_major": 2,
       "version_minor": 0
      },
      "text/plain": [
       "  0%|          | 0/9 [00:00<?, ?it/s]"
      ]
     },
     "metadata": {},
     "output_type": "display_data"
    },
    {
     "name": "stdout",
     "output_type": "stream",
     "text": []
    },
    {
     "name": "stderr",
     "output_type": "stream",
     "text": [
      "2023-03-30 00:10:16,280 - root - INFO - Applying color correction.\n"
     ]
    },
    {
     "name": "stdout",
     "output_type": "stream",
     "text": [
      "\u001b[36mAnimation frame: \u001b[0m116/120  \n",
      "Creating in-between cadence frame: 112; tween:0.25;\n",
      "Creating in-between cadence frame: 113; tween:0.50;\n",
      "Creating in-between cadence frame: 114; tween:0.75;\n",
      "Creating in-between cadence frame: 115; tween:1.00;\n",
      "\u001b[32mSeed: \u001b[0m19408008\n",
      "\u001b[35mPrompt: \u001b[0m(high definition), beautiful,  A kaleidoscope of shapes and colors twisting and morphing into each other in a mesmerizing display.\n",
      "\u001b[91mNeg Prompt: \u001b[0m(NSFW), (ugly), noise, blur, fog, text,\n"
     ]
    },
    {
     "data": {
      "text/html": [
       "<pre style=\"white-space:pre;overflow-x:auto;line-height:normal;font-family:Menlo,'DejaVu Sans Mono',consolas,'Courier New',monospace\">╭─────┬───┬───────┬────┬────┬────┬────┬────┬────╮\n",
       "│<span style=\"font-weight: bold\">Steps</span>│<span style=\"font-weight: bold\">CFG</span>│<span style=\"font-weight: bold\">Denoise</span>│<span style=\"font-weight: bold\">Tr X</span>│<span style=\"font-weight: bold\">Tr Y</span>│<span style=\"font-weight: bold\">Tr Z</span>│<span style=\"font-weight: bold\">Ro X</span>│<span style=\"font-weight: bold\">Ro Y</span>│<span style=\"font-weight: bold\">Ro Z</span>│\n",
       "├─────┼───┼───────┼────┼────┼────┼────┼────┼────┤\n",
       "│ 25  │7.0│ 0.35  │ 0  │ 0  │0.5 │ 0  │ 0  │ 0  │\n",
       "╰─────┴───┴───────┴────┴────┴────┴────┴────┴────╯\n",
       "</pre>\n"
      ],
      "text/plain": [
       "╭─────┬───┬───────┬────┬────┬────┬────┬────┬────╮\n",
       "│\u001b[1mSteps\u001b[0m│\u001b[1mCFG\u001b[0m│\u001b[1mDenoise\u001b[0m│\u001b[1mTr X\u001b[0m│\u001b[1mTr Y\u001b[0m│\u001b[1mTr Z\u001b[0m│\u001b[1mRo X\u001b[0m│\u001b[1mRo Y\u001b[0m│\u001b[1mRo Z\u001b[0m│\n",
       "├─────┼───┼───────┼────┼────┼────┼────┼────┼────┤\n",
       "│ 25  │7.0│ 0.35  │ 0  │ 0  │0.5 │ 0  │ 0  │ 0  │\n",
       "╰─────┴───┴───────┴────┴────┴────┴────┴────┴────╯\n"
      ]
     },
     "metadata": {},
     "output_type": "display_data"
    },
    {
     "name": "stderr",
     "output_type": "stream",
     "text": [
      "2023-03-30 00:10:17,085 - root - INFO - Calibrating color correction.\n"
     ]
    },
    {
     "data": {
      "application/vnd.jupyter.widget-view+json": {
       "model_id": "4808f39c6efa45989b310b5f60b2c0b9",
       "version_major": 2,
       "version_minor": 0
      },
      "text/plain": [
       "  0%|          | 0/9 [00:00<?, ?it/s]"
      ]
     },
     "metadata": {},
     "output_type": "display_data"
    },
    {
     "name": "stdout",
     "output_type": "stream",
     "text": []
    },
    {
     "name": "stderr",
     "output_type": "stream",
     "text": [
      "2023-03-30 00:10:18,895 - root - INFO - Applying color correction.\n"
     ]
    },
    {
     "name": "stdout",
     "output_type": "stream",
     "text": [
      "Deforum progress: 100%|██████████| 286/286 [01:21<00:00,  3.51it/s]\n",
      "Got a request to stitch frames to video using FFmpeg.\n",
      "Frames:\n",
      "F:\\gg\\stable\\outputs/img2img-images\\Deforum_20230330000830\\20230330000830_%09d.png\n",
      "To Video:\n",
      "F:\\gg\\stable\\outputs/img2img-images\\Deforum_20230330000830\\20230330000830.mp4\n"
     ]
    },
    {
     "data": {
      "text/html": [
       "<pre style=\"white-space:pre;overflow-x:auto;line-height:normal;font-family:Menlo,'DejaVu Sans Mono',consolas,'Courier New',monospace\"><span style=\"color: #808000; text-decoration-color: #808000\">Stitching *video*...</span></pre>\n"
      ],
      "text/plain": [
       "\u001b[5;33mStitching *video*\u001b[0m\u001b[5;33m...\u001b[0m"
      ]
     },
     "metadata": {},
     "output_type": "display_data"
    },
    {
     "name": "stdout",
     "output_type": "stream",
     "text": [
      "Stitching *video*...\n",
      "Video stitching \u001b[0;32mdone\u001b[0m in 1.02 seconds!\n"
     ]
    },
    {
     "data": {
      "text/html": [
       "<pre style=\"white-space:pre;overflow-x:auto;line-height:normal;font-family:Menlo,'DejaVu Sans Mono',consolas,'Courier New',monospace\"><span style=\"color: #808000; text-decoration-color: #808000\">Upscaling raw output PNGs using realesrgan-x4plus-anime at x4...</span></pre>\n"
      ],
      "text/plain": [
       "\u001b[5;33mUpscaling raw output PNGs using realesrgan-x4plus-anime at x4\u001b[0m\u001b[5;33m...\u001b[0m"
      ]
     },
     "metadata": {},
     "output_type": "display_data"
    },
    {
     "name": "stdout",
     "output_type": "stream",
     "text": [
      "Upscaling raw output PNGs using realesrgan-x4plus-anime at x4...\n",
      "Upscaling \u001b[0;32mdone\u001b[0m in 47.14 seconds!\n",
      "Got a request to stitch frames to video using FFmpeg.\n",
      "Frames:\n",
      "F:\\gg\\stable\\outputs/img2img-images\\Deforum_20230330000830\\20230330000830_upscaled\\20230330000830_%09d.png\n",
      "To Video:\n",
      "F:\\gg\\stable\\outputs/img2img-images\\Deforum_20230330000830\\20230330000830_Upscaled_x4.mp4\n"
     ]
    },
    {
     "data": {
      "text/html": [
       "<pre style=\"white-space:pre;overflow-x:auto;line-height:normal;font-family:Menlo,'DejaVu Sans Mono',consolas,'Courier New',monospace\"><span style=\"color: #808000; text-decoration-color: #808000\">Stitching *video*...</span></pre>\n"
      ],
      "text/plain": [
       "\u001b[5;33mStitching *video*\u001b[0m\u001b[5;33m...\u001b[0m"
      ]
     },
     "metadata": {},
     "output_type": "display_data"
    },
    {
     "name": "stdout",
     "output_type": "stream",
     "text": [
      "Stitching *video*...\n",
      "Video stitching \u001b[0;32mdone\u001b[0m in 26.24 seconds!\n",
      "\u001b[4;33mDeforum extension for auto1111 webui, v2.3b\u001b[0m\n",
      "Git commit: \n",
      "start - anim_args\n",
      "namespace(animation_mode='3D', max_frames=120, border='replicate', angle='0:(0)', zoom='0:(1.0025+0.002*sin(1.25*3.14*t/30))', translation_x='0:(0)', translation_y='0:(0)', translation_z='0:(0.5)', transform_center_x='0:(0.5)', transform_center_y='0:(0.5)', rotation_3d_x='0:(0)', rotation_3d_y='0:(0)', rotation_3d_z='0:(0)', enable_perspective_flip=False, perspective_flip_theta='0:(0)', perspective_flip_phi='0:(0)', perspective_flip_gamma='0:(0)', perspective_flip_fv='0:(53)', noise_schedule='0: (0.065)', strength_schedule='0:(0.65)', contrast_schedule='0: (1.0)', cfg_scale_schedule='0: (7)', pix2pix_img_cfg_scale_schedule='0:(1.5)', enable_subseed_scheduling=False, subseed_schedule='0:(1)', subseed_strength_schedule='0:(0)', enable_steps_scheduling=False, steps_schedule='0: (25)', fov_schedule='0: (70)', aspect_ratio_schedule='0: (1)', near_schedule='0: (200)', far_schedule='0: (10000)', seed_schedule='0:(s), 1:(-1), \"max_f-2\":(-1), \"max_f-1\":(s)', enable_sampler_scheduling=False, sampler_schedule='0: (\"Euler a\")', mask_schedule='0: (\"{video_mask}\")', use_noise_mask=False, noise_mask_schedule='0: (\"{video_mask}\")', enable_checkpoint_scheduling=False, checkpoint_schedule='0: (\"model1.ckpt\"), 100: (\"model2.ckpt\")', enable_clipskip_scheduling=False, clipskip_schedule='0: (2)', enable_noise_multiplier_scheduling=True, noise_multiplier_schedule='0: (1.05)', kernel_schedule='0: (5)', sigma_schedule='0: (1.0)', amount_schedule='0: (0.1)', threshold_schedule='0: (0.0)', color_coherence='LAB', color_coherence_image_path='', color_coherence_video_every_N_frames=1.0, color_force_grayscale=False, diffusion_cadence=4, optical_flow_cadence='None', optical_flow_redo_generation=False, diffusion_redo='0', noise_type='perlin', perlin_w=8, perlin_h=8, perlin_octaves=4, perlin_persistence=0.5, use_depth_warping=True, midas_weight=0.2, padding_mode='border', sampling_mode='bicubic', save_depth_maps=False, video_init_path='https://deforum.github.io/a1/V1.mp4', extract_nth_frame=1, extract_from_frame=0, extract_to_frame=-1, overwrite_extracted_frames=False, use_mask_video=False, video_mask_path='https://deforum.github.io/a1/VM1.mp4', resume_from_timestring=False, resume_timestring='20230129210106', hybrid_generate_inputframes=False, hybrid_generate_human_masks='None', hybrid_use_first_frame_as_init_image=True, hybrid_motion='None', hybrid_motion_use_prev_img=False, hybrid_flow_method='DIS Fine', hybrid_composite=False, hybrid_comp_mask_type='None', hybrid_comp_mask_inverse=False, hybrid_comp_mask_equalize='None', hybrid_comp_mask_auto_contrast=False, hybrid_comp_save_extra_frames=False, hybrid_comp_alpha_schedule='0:(0.5)', hybrid_flow_factor_schedule='0:(1)', hybrid_comp_mask_blend_alpha_schedule='0:(0.5)', hybrid_comp_mask_contrast_schedule='0:(1)', hybrid_comp_mask_auto_contrast_cutoff_high_schedule='0:(100)', hybrid_comp_mask_auto_contrast_cutoff_low_schedule='0:(0)')\n",
      "end\n",
      "start - video_args\n",
      "namespace(skip_video_creation=False, fps=15, make_gif=False, delete_imgs=False, output_format='FFMPEG mp4', ffmpeg_location='c:\\\\Users\\\\Matheus\\\\anaconda3\\\\envs\\\\Pyflow\\\\lib\\\\site-packages\\\\imageio_ffmpeg\\\\binaries\\\\ffmpeg-win64-v4.2.2.exe', ffmpeg_crf='17', ffmpeg_preset='slow', add_soundtrack='None', soundtrack_path='https://deforum.github.io/a1/A1.mp3', r_upscale_video=True, r_upscale_model='realesrgan-x4plus-anime', r_upscale_factor='x4', r_upscale_keep_imgs=False, render_steps=False, path_name_modifier='x0_pred', image_path='C:/SD/20230124234916_%09d.png', mp4_path='testvidmanualsettings.mp4', store_frames_in_ram=False, frame_interpolation_engine='None', frame_interpolation_x_amount=2, frame_interpolation_slow_mo_enabled=False, frame_interpolation_slow_mo_amount=2, frame_interpolation_keep_imgs=False)\n",
      "end\n",
      "start - parseq_args\n",
      "namespace(parseq_manifest=None, parseq_use_deltas=True)\n",
      "end\n",
      "start - loop_args\n",
      "namespace(use_looper=False, init_images='{\\n    \"0\": \"https://deforum.github.io/a1/Gi1.png\",\\n    \"max_f/4-5\": \"https://deforum.github.io/a1/Gi2.png\",\\n    \"max_f/2-10\": \"https://deforum.github.io/a1/Gi3.png\",\\n    \"3*max_f/4-15\": \"https://deforum.github.io/a1/Gi4.jpg\",\\n    \"max_f-20\": \"https://deforum.github.io/a1/Gi1.png\"\\n}', image_strength_schedule='0:(0.75)', blendFactorMax='0:(0.35)', blendFactorSlope='0:(0.25)', tweening_frames_schedule='0:(20)', color_correction_factor='0:(0.075)')\n",
      "end\n",
      "start - controlnet_args\n",
      "namespace(controlnet_input_video_chosen_file=None, controlnet_input_video_mask_chosen_file=None, controlnet_overwrite_frames=True, controlnet_vid_path='', controlnet_mask_vid_path='', controlnet_enabled=False, controlnet_guess_mode=False, controlnet_invert_image=False, controlnet_rgbbgr_mode=False, controlnet_lowvram=False, controlnet_module='none', controlnet_model='None', controlnet_weight=1, controlnet_guidance_start=0, controlnet_guidance_end=1, controlnet_processor_res=64, controlnet_threshold_a=64, controlnet_threshold_b=64, controlnet_resize_mode='Scale to Fit (Inner Fit)')\n",
      "end\n",
      "start - root.animation_prompts\n",
      "{'0': '(high definition), beautiful,  A neon-colored abstract cityscape with towering buildings and flashing lights. The only sign of life is a lone figure in the distance. --neg  (NSFW), (ugly), noise, blur, fog, text, ', '90': '(high definition), beautiful,  A kaleidoscope of shapes and colors twisting and morphing into each other in a mesmerizing display. --neg  (NSFW), (ugly), noise, blur, fog, text, ', '180': '(high definition), beautiful,  An intricate network of glowing circuits and wires pulsing with energy, almost like a living organism. --neg  (NSFW), (ugly), noise, blur, fog, text, ', '270': '(high definition), beautiful,  A vast, empty space with a single object in the center - a glowing orb that seems to be drawing all the energy and light towards it. --neg  (NSFW), (ugly), noise, blur, fog, text, ', '360': '(high definition), beautiful,  A pulsating, throbbing mass of energy that seems to be growing and expanding, almost like a living creature. --neg  (NSFW), (ugly), noise, blur, fog, text, ', '450': '(high definition), beautiful,  A glitchy, distorted world where the laws of physics no longer apply. Shapes and colors warp and contort in impossible ways. --neg  (NSFW), (ugly), noise, blur, fog, text, ', '540': '(high definition), beautiful,  A matrix of intersecting lines and shapes that seem to be forming a giant, abstract spiderweb. --neg  (NSFW), (ugly), noise, blur, fog, text, ', '630': '(high definition), beautiful,  A swirling vortex of color and sound, drawing everything in its path towards a central point. --neg  (NSFW), (ugly), noise, blur, fog, text, ', '720': '(high definition), beautiful,  A labyrinthine maze of glowing tunnels and passages, with no clear end in sight. --neg  (NSFW), (ugly), noise, blur, fog, text, ', '810': '(high definition), beautiful,  A cityscape seen from above, with neon lights and flickering signs creating a mesmerizing display. --neg  (NSFW), (ugly), noise, blur, fog, text, ', '900': '(high definition), beautiful,  A psychedelic forest of towering, luminescent trees and strange, otherworldly creatures. --neg  (NSFW), (ugly), noise, blur, fog, text, ', '990': '(high definition), beautiful,  A vast, empty desert landscape, with nothing but sand and sky as far as the eye can see. --neg  (NSFW), (ugly), noise, blur, fog, text, ', '1080': '(high definition), beautiful,  A chaotic, glitchy world where reality is constantly shifting and changing, and nothing can be trusted. --neg  (NSFW), (ugly), noise, blur, fog, text, ', '1170': '(high definition), beautiful,  A dark, foreboding cave system, filled with strange, glowing crystals and ominous shadows. --neg  (NSFW), (ugly), noise, blur, fog, text, ', '1260': '(high definition), beautiful,  A neon-colored rollercoaster that twists and turns through a futuristic cityscape. --neg  (NSFW), (ugly), noise, blur, fog, text, ', '1350': '(high definition), beautiful,  A shimmering, translucent ocean filled with strange, alien life forms. --neg  (NSFW), (ugly), noise, blur, fog, text, ', '1440': '(high definition), beautiful,  A towering, futuristic cityscape that seems to go on forever, with flashing lights and neon signs as far as the eye can see. --neg  (NSFW), (ugly), noise, blur, fog, text, ', '1530': '(high definition), beautiful,  A pulsating, rhythmic mass of energy that seems to be moving in time with the music. --neg  (NSFW), (ugly), noise, blur, fog, text, ', '1620': '(high definition), beautiful,  A vast, empty space filled with slowly moving clouds of gas and dust. --neg  (NSFW), (ugly), noise, blur, fog, text, ', '1710': '(high definition), beautiful,  A kaleidoscope of shapes and colors that seem to be forming a giant, abstract mandala. --neg  (NSFW), (ugly), noise, blur, fog, text, ', '1800': '(high definition), beautiful,  A dark, stormy night sky filled with flashing bolts of lightning and ominous clouds. --neg  (NSFW), (ugly), noise, blur, fog, text, ', '1890': '(high definition), beautiful,  A strange, otherworldly landscape filled with bizarre rock formations and surreal vistas. --neg  (NSFW), (ugly), noise, blur, fog, text, ', '1980': '(high definition), beautiful,  A distorted, glitchy version of reality where nothing is quite as it seems. --neg  (NSFW), (ugly), noise, blur, fog, text, ', '2070': '(high definition), beautiful,  A surreal, dreamlike world filled with floating islands and strange, abstract shapes. --neg  (NSFW), (ugly), noise, blur, fog, text, ', '2160': '(high definition), beautiful,  A vast, empty desert landscape, with nothing but sand and sky as far as the eye can see. --neg  (NSFW), (ugly), noise, blur, fog, text, ', '2250': '(high definition), beautiful,  A towering, futuristic cityscape that seems to go on forever, with flashing lights and neon signs as far as the eye can see. --neg  (NSFW), (ugly), noise, blur, fog, text, ', '2340': '(high definition), beautiful,  A pulsating, rhythmic mass of energy that seems to be moving in time with the music. --neg  (NSFW), (ugly), noise, blur, fog, text, ', '2430': '(high definition), beautiful,  A dark, foreboding cave system, filled with strange, glowing crystals and ominous shadows. --neg  (NSFW), (ugly), noise, blur, fog, text, ', '2520': '(high definition), beautiful,  A shimmering, translucent ocean filled with strange, alien life forms. --neg  (NSFW), (ugly), noise, blur, fog, text, ', '2610': '(high definition), beautiful,  A chaotic, glitchy world where reality is constantly shifting and changing, and nothing can be trusted. --neg  (NSFW), (ugly), noise, blur, fog, text, ', '2700': '(high definition), beautiful,  A neon-colored rollercoaster that twists and turns through a futuristic cityscape. --neg  (NSFW), (ugly), noise, blur, fog, text, ', '2790': '(high definition), beautiful,  A kaleidoscope of shapes and colors that seem to be forming a giant, abstract mandala. --neg  (NSFW), (ugly), noise, blur, fog, text, ', '2880': '(high definition), beautiful,  A pulsating, throbbing mass of energy that seems to be growing and expanding, almost like a living creature. --neg  (NSFW), (ugly), noise, blur, fog, text, ', '2970': '(high definition), beautiful,  A vast, empty space with a single object in the center - a glowing orb that seems to be drawing all the energy and light towards it. --neg  (NSFW), (ugly), noise, blur, fog, text, ', '3060': '(high definition), beautiful,  An intricate network of glowing circuits and wires pulsing with energy, almost like a living organism. --neg  (NSFW), (ugly), noise, blur, fog, text, ', '3150': '(high definition), beautiful,  A surreal, dreamlike world filled with floating islands and strange, abstract shapes. --neg  (NSFW), (ugly), noise, blur, fog, text, ', '3240': '(high definition), beautiful,  A dark, stormy night sky filled with flashing bolts of lightning and ominous clouds. --neg  (NSFW), (ugly), noise, blur, fog, text, ', '3330': '(high definition), beautiful,  A neon-colored abstract cityscape with towering buildings and flashing lights. The only sign of life is a lone figure in the distance. --neg  (NSFW), (ugly), noise, blur, fog, text, ', '3420': '(high definition), beautiful,  A glitchy, distorted world where the laws of physics no longer apply. Shapes and colors warp and contort in impossible ways. --neg  (NSFW), (ugly), noise, blur, fog, text, ', '3510': '(high definition), beautiful,  A towering, futuristic cityscape that seems to go on forever, with flashing lights and neon signs as far as the eye can see. --neg  (NSFW), (ugly), noise, blur, fog, text, '}\n",
      "end\n",
      "start - root\n",
      "namespace(device=device(type='cuda'), models_path='F:\\\\gg\\\\stable\\\\models/Deforum', half_precision=True, mask_preset_names=['everywhere', 'video_mask'], p=<modules.processing.StableDiffusionProcessingImg2Img object at 0x00000204BF40A790>, frames_cache=[], raw_batch_name='Deforum_{timestring}', raw_seed=-1, initial_seed=None, initial_info=None, first_frame=None, outpath_samples='outputs/img2img-images\\\\Deforum_20230330001320', animation_prompts={'0': '(high definition), beautiful,  A neon-colored abstract cityscape with towering buildings and flashing lights. The only sign of life is a lone figure in the distance. --neg  (NSFW), (ugly), noise, blur, fog, text, ', '90': '(high definition), beautiful,  A kaleidoscope of shapes and colors twisting and morphing into each other in a mesmerizing display. --neg  (NSFW), (ugly), noise, blur, fog, text, ', '180': '(high definition), beautiful,  An intricate network of glowing circuits and wires pulsing with energy, almost like a living organism. --neg  (NSFW), (ugly), noise, blur, fog, text, ', '270': '(high definition), beautiful,  A vast, empty space with a single object in the center - a glowing orb that seems to be drawing all the energy and light towards it. --neg  (NSFW), (ugly), noise, blur, fog, text, ', '360': '(high definition), beautiful,  A pulsating, throbbing mass of energy that seems to be growing and expanding, almost like a living creature. --neg  (NSFW), (ugly), noise, blur, fog, text, ', '450': '(high definition), beautiful,  A glitchy, distorted world where the laws of physics no longer apply. Shapes and colors warp and contort in impossible ways. --neg  (NSFW), (ugly), noise, blur, fog, text, ', '540': '(high definition), beautiful,  A matrix of intersecting lines and shapes that seem to be forming a giant, abstract spiderweb. --neg  (NSFW), (ugly), noise, blur, fog, text, ', '630': '(high definition), beautiful,  A swirling vortex of color and sound, drawing everything in its path towards a central point. --neg  (NSFW), (ugly), noise, blur, fog, text, ', '720': '(high definition), beautiful,  A labyrinthine maze of glowing tunnels and passages, with no clear end in sight. --neg  (NSFW), (ugly), noise, blur, fog, text, ', '810': '(high definition), beautiful,  A cityscape seen from above, with neon lights and flickering signs creating a mesmerizing display. --neg  (NSFW), (ugly), noise, blur, fog, text, ', '900': '(high definition), beautiful,  A psychedelic forest of towering, luminescent trees and strange, otherworldly creatures. --neg  (NSFW), (ugly), noise, blur, fog, text, ', '990': '(high definition), beautiful,  A vast, empty desert landscape, with nothing but sand and sky as far as the eye can see. --neg  (NSFW), (ugly), noise, blur, fog, text, ', '1080': '(high definition), beautiful,  A chaotic, glitchy world where reality is constantly shifting and changing, and nothing can be trusted. --neg  (NSFW), (ugly), noise, blur, fog, text, ', '1170': '(high definition), beautiful,  A dark, foreboding cave system, filled with strange, glowing crystals and ominous shadows. --neg  (NSFW), (ugly), noise, blur, fog, text, ', '1260': '(high definition), beautiful,  A neon-colored rollercoaster that twists and turns through a futuristic cityscape. --neg  (NSFW), (ugly), noise, blur, fog, text, ', '1350': '(high definition), beautiful,  A shimmering, translucent ocean filled with strange, alien life forms. --neg  (NSFW), (ugly), noise, blur, fog, text, ', '1440': '(high definition), beautiful,  A towering, futuristic cityscape that seems to go on forever, with flashing lights and neon signs as far as the eye can see. --neg  (NSFW), (ugly), noise, blur, fog, text, ', '1530': '(high definition), beautiful,  A pulsating, rhythmic mass of energy that seems to be moving in time with the music. --neg  (NSFW), (ugly), noise, blur, fog, text, ', '1620': '(high definition), beautiful,  A vast, empty space filled with slowly moving clouds of gas and dust. --neg  (NSFW), (ugly), noise, blur, fog, text, ', '1710': '(high definition), beautiful,  A kaleidoscope of shapes and colors that seem to be forming a giant, abstract mandala. --neg  (NSFW), (ugly), noise, blur, fog, text, ', '1800': '(high definition), beautiful,  A dark, stormy night sky filled with flashing bolts of lightning and ominous clouds. --neg  (NSFW), (ugly), noise, blur, fog, text, ', '1890': '(high definition), beautiful,  A strange, otherworldly landscape filled with bizarre rock formations and surreal vistas. --neg  (NSFW), (ugly), noise, blur, fog, text, ', '1980': '(high definition), beautiful,  A distorted, glitchy version of reality where nothing is quite as it seems. --neg  (NSFW), (ugly), noise, blur, fog, text, ', '2070': '(high definition), beautiful,  A surreal, dreamlike world filled with floating islands and strange, abstract shapes. --neg  (NSFW), (ugly), noise, blur, fog, text, ', '2160': '(high definition), beautiful,  A vast, empty desert landscape, with nothing but sand and sky as far as the eye can see. --neg  (NSFW), (ugly), noise, blur, fog, text, ', '2250': '(high definition), beautiful,  A towering, futuristic cityscape that seems to go on forever, with flashing lights and neon signs as far as the eye can see. --neg  (NSFW), (ugly), noise, blur, fog, text, ', '2340': '(high definition), beautiful,  A pulsating, rhythmic mass of energy that seems to be moving in time with the music. --neg  (NSFW), (ugly), noise, blur, fog, text, ', '2430': '(high definition), beautiful,  A dark, foreboding cave system, filled with strange, glowing crystals and ominous shadows. --neg  (NSFW), (ugly), noise, blur, fog, text, ', '2520': '(high definition), beautiful,  A shimmering, translucent ocean filled with strange, alien life forms. --neg  (NSFW), (ugly), noise, blur, fog, text, ', '2610': '(high definition), beautiful,  A chaotic, glitchy world where reality is constantly shifting and changing, and nothing can be trusted. --neg  (NSFW), (ugly), noise, blur, fog, text, ', '2700': '(high definition), beautiful,  A neon-colored rollercoaster that twists and turns through a futuristic cityscape. --neg  (NSFW), (ugly), noise, blur, fog, text, ', '2790': '(high definition), beautiful,  A kaleidoscope of shapes and colors that seem to be forming a giant, abstract mandala. --neg  (NSFW), (ugly), noise, blur, fog, text, ', '2880': '(high definition), beautiful,  A pulsating, throbbing mass of energy that seems to be growing and expanding, almost like a living creature. --neg  (NSFW), (ugly), noise, blur, fog, text, ', '2970': '(high definition), beautiful,  A vast, empty space with a single object in the center - a glowing orb that seems to be drawing all the energy and light towards it. --neg  (NSFW), (ugly), noise, blur, fog, text, ', '3060': '(high definition), beautiful,  An intricate network of glowing circuits and wires pulsing with energy, almost like a living organism. --neg  (NSFW), (ugly), noise, blur, fog, text, ', '3150': '(high definition), beautiful,  A surreal, dreamlike world filled with floating islands and strange, abstract shapes. --neg  (NSFW), (ugly), noise, blur, fog, text, ', '3240': '(high definition), beautiful,  A dark, stormy night sky filled with flashing bolts of lightning and ominous clouds. --neg  (NSFW), (ugly), noise, blur, fog, text, ', '3330': '(high definition), beautiful,  A neon-colored abstract cityscape with towering buildings and flashing lights. The only sign of life is a lone figure in the distance. --neg  (NSFW), (ugly), noise, blur, fog, text, ', '3420': '(high definition), beautiful,  A glitchy, distorted world where the laws of physics no longer apply. Shapes and colors warp and contort in impossible ways. --neg  (NSFW), (ugly), noise, blur, fog, text, ', '3510': '(high definition), beautiful,  A towering, futuristic cityscape that seems to go on forever, with flashing lights and neon signs as far as the eye can see. --neg  (NSFW), (ugly), noise, blur, fog, text, '}, color_corrections=None, initial_clipskip=None, current_user_os='Windows', tmp_deforum_run_duplicated_folder='C:\\\\Users\\\\Matheus\\\\AppData\\\\Local\\\\Temp\\\\tmp_run_deforum', positive_prompts='(high definition), beautiful, ', negative_prompts=' (NSFW), (ugly), noise, blur, fog, text, ')\n",
      "end\n",
      "Saving animation frames to:\n",
      "F:\\gg\\stable\\outputs/img2img-images\\Deforum_20230330001320\n",
      "Loading base model ()...Done.\n",
      "Removing last two layers (global_pool & classifier).\n",
      "Building Encoder-Decoder model..Done.\n",
      "\u001b[36mAnimation frame: \u001b[0m0/120  \n",
      "\u001b[32mSeed: \u001b[0m2675932517\n",
      "\u001b[35mPrompt: \u001b[0m(high definition), beautiful,  A neon-colored abstract cityscape with towering buildings and flashing lights. The only sign of life is a lone figure in the distance.\n",
      "\u001b[91mNeg Prompt: \u001b[0m(NSFW), (ugly), noise, blur, fog, text,\n",
      "Not using an init image (doing pure txt2img)\n"
     ]
    },
    {
     "data": {
      "text/html": [
       "<pre style=\"white-space:pre;overflow-x:auto;line-height:normal;font-family:Menlo,'DejaVu Sans Mono',consolas,'Courier New',monospace\">╭─────┬───┬───────┬────┬────┬────┬────┬────┬────╮\n",
       "│<span style=\"font-weight: bold\">Steps</span>│<span style=\"font-weight: bold\">CFG</span>│<span style=\"font-weight: bold\">Denoise</span>│<span style=\"font-weight: bold\">Tr X</span>│<span style=\"font-weight: bold\">Tr Y</span>│<span style=\"font-weight: bold\">Tr Z</span>│<span style=\"font-weight: bold\">Ro X</span>│<span style=\"font-weight: bold\">Ro Y</span>│<span style=\"font-weight: bold\">Ro Z</span>│\n",
       "├─────┼───┼───────┼────┼────┼────┼────┼────┼────┤\n",
       "│ 25  │7.0│ None  │ 0  │ 0  │0.5 │ 0  │ 0  │ 0  │\n",
       "╰─────┴───┴───────┴────┴────┴────┴────┴────┴────╯\n",
       "</pre>\n"
      ],
      "text/plain": [
       "╭─────┬───┬───────┬────┬────┬────┬────┬────┬────╮\n",
       "│\u001b[1mSteps\u001b[0m│\u001b[1mCFG\u001b[0m│\u001b[1mDenoise\u001b[0m│\u001b[1mTr X\u001b[0m│\u001b[1mTr Y\u001b[0m│\u001b[1mTr Z\u001b[0m│\u001b[1mRo X\u001b[0m│\u001b[1mRo Y\u001b[0m│\u001b[1mRo Z\u001b[0m│\n",
       "├─────┼───┼───────┼────┼────┼────┼────┼────┼────┤\n",
       "│ 25  │7.0│ None  │ 0  │ 0  │0.5 │ 0  │ 0  │ 0  │\n",
       "╰─────┴───┴───────┴────┴────┴────┴────┴────┴────╯\n"
      ]
     },
     "metadata": {},
     "output_type": "display_data"
    },
    {
     "data": {
      "application/vnd.jupyter.widget-view+json": {
       "model_id": "0f5d7112b0dc41e8817e57cc7996de90",
       "version_major": 2,
       "version_minor": 0
      },
      "text/plain": [
       "  0%|          | 0/25 [00:00<?, ?it/s]"
      ]
     },
     "metadata": {},
     "output_type": "display_data"
    },
    {
     "name": "stdout",
     "output_type": "stream",
     "text": [
      "\u001b[36mAnimation frame: \u001b[0m4/120  \n",
      "Creating in-between cadence frame: 0; tween:0.25;\n",
      "Creating in-between cadence frame: 1; tween:0.50;\n",
      "Creating in-between cadence frame: 2; tween:0.75;\n",
      "Creating in-between cadence frame: 3; tween:1.00;\n",
      "\u001b[32mSeed: \u001b[0m2675932518\n",
      "\u001b[35mPrompt: \u001b[0m(high definition), beautiful,  A neon-colored abstract cityscape with towering buildings and flashing lights. The only sign of life is a lone figure in the distance.\n",
      "\u001b[91mNeg Prompt: \u001b[0m(NSFW), (ugly), noise, blur, fog, text,\n"
     ]
    },
    {
     "data": {
      "text/html": [
       "<pre style=\"white-space:pre;overflow-x:auto;line-height:normal;font-family:Menlo,'DejaVu Sans Mono',consolas,'Courier New',monospace\">╭─────┬───┬───────┬────┬────┬────┬────┬────┬────╮\n",
       "│<span style=\"font-weight: bold\">Steps</span>│<span style=\"font-weight: bold\">CFG</span>│<span style=\"font-weight: bold\">Denoise</span>│<span style=\"font-weight: bold\">Tr X</span>│<span style=\"font-weight: bold\">Tr Y</span>│<span style=\"font-weight: bold\">Tr Z</span>│<span style=\"font-weight: bold\">Ro X</span>│<span style=\"font-weight: bold\">Ro Y</span>│<span style=\"font-weight: bold\">Ro Z</span>│\n",
       "├─────┼───┼───────┼────┼────┼────┼────┼────┼────┤\n",
       "│ 25  │7.0│ 0.35  │ 0  │ 0  │0.5 │ 0  │ 0  │ 0  │\n",
       "╰─────┴───┴───────┴────┴────┴────┴────┴────┴────╯\n",
       "</pre>\n"
      ],
      "text/plain": [
       "╭─────┬───┬───────┬────┬────┬────┬────┬────┬────╮\n",
       "│\u001b[1mSteps\u001b[0m│\u001b[1mCFG\u001b[0m│\u001b[1mDenoise\u001b[0m│\u001b[1mTr X\u001b[0m│\u001b[1mTr Y\u001b[0m│\u001b[1mTr Z\u001b[0m│\u001b[1mRo X\u001b[0m│\u001b[1mRo Y\u001b[0m│\u001b[1mRo Z\u001b[0m│\n",
       "├─────┼───┼───────┼────┼────┼────┼────┼────┼────┤\n",
       "│ 25  │7.0│ 0.35  │ 0  │ 0  │0.5 │ 0  │ 0  │ 0  │\n",
       "╰─────┴───┴───────┴────┴────┴────┴────┴────┴────╯\n"
      ]
     },
     "metadata": {},
     "output_type": "display_data"
    },
    {
     "name": "stderr",
     "output_type": "stream",
     "text": [
      "2023-03-30 00:13:31,788 - root - INFO - Calibrating color correction.\n"
     ]
    },
    {
     "data": {
      "application/vnd.jupyter.widget-view+json": {
       "model_id": "ed3953e122f84491aaccf70c38530de5",
       "version_major": 2,
       "version_minor": 0
      },
      "text/plain": [
       "  0%|          | 0/9 [00:00<?, ?it/s]"
      ]
     },
     "metadata": {},
     "output_type": "display_data"
    },
    {
     "name": "stdout",
     "output_type": "stream",
     "text": []
    },
    {
     "name": "stderr",
     "output_type": "stream",
     "text": [
      "2023-03-30 00:13:33,643 - root - INFO - Applying color correction.\n"
     ]
    },
    {
     "name": "stdout",
     "output_type": "stream",
     "text": [
      "\u001b[36mAnimation frame: \u001b[0m8/120  \n",
      "Creating in-between cadence frame: 4; tween:0.25;\n",
      "Creating in-between cadence frame: 5; tween:0.50;\n",
      "Creating in-between cadence frame: 6; tween:0.75;\n",
      "Creating in-between cadence frame: 7; tween:1.00;\n",
      "\u001b[32mSeed: \u001b[0m2675932519\n",
      "\u001b[35mPrompt: \u001b[0m(high definition), beautiful,  A neon-colored abstract cityscape with towering buildings and flashing lights. The only sign of life is a lone figure in the distance.\n",
      "\u001b[91mNeg Prompt: \u001b[0m(NSFW), (ugly), noise, blur, fog, text,\n"
     ]
    },
    {
     "data": {
      "text/html": [
       "<pre style=\"white-space:pre;overflow-x:auto;line-height:normal;font-family:Menlo,'DejaVu Sans Mono',consolas,'Courier New',monospace\">╭─────┬───┬───────┬────┬────┬────┬────┬────┬────╮\n",
       "│<span style=\"font-weight: bold\">Steps</span>│<span style=\"font-weight: bold\">CFG</span>│<span style=\"font-weight: bold\">Denoise</span>│<span style=\"font-weight: bold\">Tr X</span>│<span style=\"font-weight: bold\">Tr Y</span>│<span style=\"font-weight: bold\">Tr Z</span>│<span style=\"font-weight: bold\">Ro X</span>│<span style=\"font-weight: bold\">Ro Y</span>│<span style=\"font-weight: bold\">Ro Z</span>│\n",
       "├─────┼───┼───────┼────┼────┼────┼────┼────┼────┤\n",
       "│ 25  │7.0│ 0.35  │ 0  │ 0  │0.5 │ 0  │ 0  │ 0  │\n",
       "╰─────┴───┴───────┴────┴────┴────┴────┴────┴────╯\n",
       "</pre>\n"
      ],
      "text/plain": [
       "╭─────┬───┬───────┬────┬────┬────┬────┬────┬────╮\n",
       "│\u001b[1mSteps\u001b[0m│\u001b[1mCFG\u001b[0m│\u001b[1mDenoise\u001b[0m│\u001b[1mTr X\u001b[0m│\u001b[1mTr Y\u001b[0m│\u001b[1mTr Z\u001b[0m│\u001b[1mRo X\u001b[0m│\u001b[1mRo Y\u001b[0m│\u001b[1mRo Z\u001b[0m│\n",
       "├─────┼───┼───────┼────┼────┼────┼────┼────┼────┤\n",
       "│ 25  │7.0│ 0.35  │ 0  │ 0  │0.5 │ 0  │ 0  │ 0  │\n",
       "╰─────┴───┴───────┴────┴────┴────┴────┴────┴────╯\n"
      ]
     },
     "metadata": {},
     "output_type": "display_data"
    },
    {
     "name": "stderr",
     "output_type": "stream",
     "text": [
      "2023-03-30 00:13:34,367 - root - INFO - Calibrating color correction.\n"
     ]
    },
    {
     "data": {
      "application/vnd.jupyter.widget-view+json": {
       "model_id": "c84fa8dc60c94d618b8ec81facee708d",
       "version_major": 2,
       "version_minor": 0
      },
      "text/plain": [
       "  0%|          | 0/9 [00:00<?, ?it/s]"
      ]
     },
     "metadata": {},
     "output_type": "display_data"
    },
    {
     "name": "stdout",
     "output_type": "stream",
     "text": []
    },
    {
     "name": "stderr",
     "output_type": "stream",
     "text": [
      "2023-03-30 00:13:36,195 - root - INFO - Applying color correction.\n"
     ]
    },
    {
     "name": "stdout",
     "output_type": "stream",
     "text": [
      "\u001b[36mAnimation frame: \u001b[0m12/120  \n",
      "Creating in-between cadence frame: 8; tween:0.25;\n",
      "Creating in-between cadence frame: 9; tween:0.50;\n",
      "Creating in-between cadence frame: 10; tween:0.75;\n",
      "Creating in-between cadence frame: 11; tween:1.00;\n",
      "\u001b[32mSeed: \u001b[0m2675932520\n",
      "\u001b[35mPrompt: \u001b[0m(high definition), beautiful,  A neon-colored abstract cityscape with towering buildings and flashing lights. The only sign of life is a lone figure in the distance.\n",
      "\u001b[91mNeg Prompt: \u001b[0m(NSFW), (ugly), noise, blur, fog, text,\n"
     ]
    },
    {
     "data": {
      "text/html": [
       "<pre style=\"white-space:pre;overflow-x:auto;line-height:normal;font-family:Menlo,'DejaVu Sans Mono',consolas,'Courier New',monospace\">╭─────┬───┬───────┬────┬────┬────┬────┬────┬────╮\n",
       "│<span style=\"font-weight: bold\">Steps</span>│<span style=\"font-weight: bold\">CFG</span>│<span style=\"font-weight: bold\">Denoise</span>│<span style=\"font-weight: bold\">Tr X</span>│<span style=\"font-weight: bold\">Tr Y</span>│<span style=\"font-weight: bold\">Tr Z</span>│<span style=\"font-weight: bold\">Ro X</span>│<span style=\"font-weight: bold\">Ro Y</span>│<span style=\"font-weight: bold\">Ro Z</span>│\n",
       "├─────┼───┼───────┼────┼────┼────┼────┼────┼────┤\n",
       "│ 25  │7.0│ 0.35  │ 0  │ 0  │0.5 │ 0  │ 0  │ 0  │\n",
       "╰─────┴───┴───────┴────┴────┴────┴────┴────┴────╯\n",
       "</pre>\n"
      ],
      "text/plain": [
       "╭─────┬───┬───────┬────┬────┬────┬────┬────┬────╮\n",
       "│\u001b[1mSteps\u001b[0m│\u001b[1mCFG\u001b[0m│\u001b[1mDenoise\u001b[0m│\u001b[1mTr X\u001b[0m│\u001b[1mTr Y\u001b[0m│\u001b[1mTr Z\u001b[0m│\u001b[1mRo X\u001b[0m│\u001b[1mRo Y\u001b[0m│\u001b[1mRo Z\u001b[0m│\n",
       "├─────┼───┼───────┼────┼────┼────┼────┼────┼────┤\n",
       "│ 25  │7.0│ 0.35  │ 0  │ 0  │0.5 │ 0  │ 0  │ 0  │\n",
       "╰─────┴───┴───────┴────┴────┴────┴────┴────┴────╯\n"
      ]
     },
     "metadata": {},
     "output_type": "display_data"
    },
    {
     "name": "stderr",
     "output_type": "stream",
     "text": [
      "2023-03-30 00:13:36,943 - root - INFO - Calibrating color correction.\n"
     ]
    },
    {
     "data": {
      "application/vnd.jupyter.widget-view+json": {
       "model_id": "62e0f8e84ca14b96842e3c3b93dfa25a",
       "version_major": 2,
       "version_minor": 0
      },
      "text/plain": [
       "  0%|          | 0/9 [00:00<?, ?it/s]"
      ]
     },
     "metadata": {},
     "output_type": "display_data"
    },
    {
     "name": "stdout",
     "output_type": "stream",
     "text": []
    },
    {
     "name": "stderr",
     "output_type": "stream",
     "text": [
      "2023-03-30 00:13:38,831 - root - INFO - Applying color correction.\n"
     ]
    },
    {
     "name": "stdout",
     "output_type": "stream",
     "text": [
      "\u001b[36mAnimation frame: \u001b[0m16/120  \n",
      "Creating in-between cadence frame: 12; tween:0.25;\n",
      "Creating in-between cadence frame: 13; tween:0.50;\n",
      "Creating in-between cadence frame: 14; tween:0.75;\n",
      "Creating in-between cadence frame: 15; tween:1.00;\n",
      "\u001b[32mSeed: \u001b[0m2675932521\n",
      "\u001b[35mPrompt: \u001b[0m(high definition), beautiful,  A neon-colored abstract cityscape with towering buildings and flashing lights. The only sign of life is a lone figure in the distance.\n",
      "\u001b[91mNeg Prompt: \u001b[0m(NSFW), (ugly), noise, blur, fog, text,\n"
     ]
    },
    {
     "data": {
      "text/html": [
       "<pre style=\"white-space:pre;overflow-x:auto;line-height:normal;font-family:Menlo,'DejaVu Sans Mono',consolas,'Courier New',monospace\">╭─────┬───┬───────┬────┬────┬────┬────┬────┬────╮\n",
       "│<span style=\"font-weight: bold\">Steps</span>│<span style=\"font-weight: bold\">CFG</span>│<span style=\"font-weight: bold\">Denoise</span>│<span style=\"font-weight: bold\">Tr X</span>│<span style=\"font-weight: bold\">Tr Y</span>│<span style=\"font-weight: bold\">Tr Z</span>│<span style=\"font-weight: bold\">Ro X</span>│<span style=\"font-weight: bold\">Ro Y</span>│<span style=\"font-weight: bold\">Ro Z</span>│\n",
       "├─────┼───┼───────┼────┼────┼────┼────┼────┼────┤\n",
       "│ 25  │7.0│ 0.35  │ 0  │ 0  │0.5 │ 0  │ 0  │ 0  │\n",
       "╰─────┴───┴───────┴────┴────┴────┴────┴────┴────╯\n",
       "</pre>\n"
      ],
      "text/plain": [
       "╭─────┬───┬───────┬────┬────┬────┬────┬────┬────╮\n",
       "│\u001b[1mSteps\u001b[0m│\u001b[1mCFG\u001b[0m│\u001b[1mDenoise\u001b[0m│\u001b[1mTr X\u001b[0m│\u001b[1mTr Y\u001b[0m│\u001b[1mTr Z\u001b[0m│\u001b[1mRo X\u001b[0m│\u001b[1mRo Y\u001b[0m│\u001b[1mRo Z\u001b[0m│\n",
       "├─────┼───┼───────┼────┼────┼────┼────┼────┼────┤\n",
       "│ 25  │7.0│ 0.35  │ 0  │ 0  │0.5 │ 0  │ 0  │ 0  │\n",
       "╰─────┴───┴───────┴────┴────┴────┴────┴────┴────╯\n"
      ]
     },
     "metadata": {},
     "output_type": "display_data"
    },
    {
     "name": "stderr",
     "output_type": "stream",
     "text": [
      "2023-03-30 00:13:39,567 - root - INFO - Calibrating color correction.\n"
     ]
    },
    {
     "data": {
      "application/vnd.jupyter.widget-view+json": {
       "model_id": "2b8c4bf0c9c24f4a90815c460ac99818",
       "version_major": 2,
       "version_minor": 0
      },
      "text/plain": [
       "  0%|          | 0/9 [00:00<?, ?it/s]"
      ]
     },
     "metadata": {},
     "output_type": "display_data"
    },
    {
     "name": "stdout",
     "output_type": "stream",
     "text": []
    },
    {
     "name": "stderr",
     "output_type": "stream",
     "text": [
      "2023-03-30 00:13:41,510 - root - INFO - Applying color correction.\n"
     ]
    },
    {
     "name": "stdout",
     "output_type": "stream",
     "text": [
      "\u001b[36mAnimation frame: \u001b[0m20/120  \n",
      "Creating in-between cadence frame: 16; tween:0.25;\n",
      "Creating in-between cadence frame: 17; tween:0.50;\n",
      "Creating in-between cadence frame: 18; tween:0.75;\n",
      "Creating in-between cadence frame: 19; tween:1.00;\n",
      "\u001b[32mSeed: \u001b[0m2675932522\n",
      "\u001b[35mPrompt: \u001b[0m(high definition), beautiful,  A neon-colored abstract cityscape with towering buildings and flashing lights. The only sign of life is a lone figure in the distance.\n",
      "\u001b[91mNeg Prompt: \u001b[0m(NSFW), (ugly), noise, blur, fog, text,\n"
     ]
    },
    {
     "data": {
      "text/html": [
       "<pre style=\"white-space:pre;overflow-x:auto;line-height:normal;font-family:Menlo,'DejaVu Sans Mono',consolas,'Courier New',monospace\">╭─────┬───┬───────┬────┬────┬────┬────┬────┬────╮\n",
       "│<span style=\"font-weight: bold\">Steps</span>│<span style=\"font-weight: bold\">CFG</span>│<span style=\"font-weight: bold\">Denoise</span>│<span style=\"font-weight: bold\">Tr X</span>│<span style=\"font-weight: bold\">Tr Y</span>│<span style=\"font-weight: bold\">Tr Z</span>│<span style=\"font-weight: bold\">Ro X</span>│<span style=\"font-weight: bold\">Ro Y</span>│<span style=\"font-weight: bold\">Ro Z</span>│\n",
       "├─────┼───┼───────┼────┼────┼────┼────┼────┼────┤\n",
       "│ 25  │7.0│ 0.35  │ 0  │ 0  │0.5 │ 0  │ 0  │ 0  │\n",
       "╰─────┴───┴───────┴────┴────┴────┴────┴────┴────╯\n",
       "</pre>\n"
      ],
      "text/plain": [
       "╭─────┬───┬───────┬────┬────┬────┬────┬────┬────╮\n",
       "│\u001b[1mSteps\u001b[0m│\u001b[1mCFG\u001b[0m│\u001b[1mDenoise\u001b[0m│\u001b[1mTr X\u001b[0m│\u001b[1mTr Y\u001b[0m│\u001b[1mTr Z\u001b[0m│\u001b[1mRo X\u001b[0m│\u001b[1mRo Y\u001b[0m│\u001b[1mRo Z\u001b[0m│\n",
       "├─────┼───┼───────┼────┼────┼────┼────┼────┼────┤\n",
       "│ 25  │7.0│ 0.35  │ 0  │ 0  │0.5 │ 0  │ 0  │ 0  │\n",
       "╰─────┴───┴───────┴────┴────┴────┴────┴────┴────╯\n"
      ]
     },
     "metadata": {},
     "output_type": "display_data"
    },
    {
     "name": "stderr",
     "output_type": "stream",
     "text": [
      "2023-03-30 00:13:42,287 - root - INFO - Calibrating color correction.\n"
     ]
    },
    {
     "data": {
      "application/vnd.jupyter.widget-view+json": {
       "model_id": "f15f7999b59d462f82a06f6426c35adb",
       "version_major": 2,
       "version_minor": 0
      },
      "text/plain": [
       "  0%|          | 0/9 [00:00<?, ?it/s]"
      ]
     },
     "metadata": {},
     "output_type": "display_data"
    },
    {
     "name": "stdout",
     "output_type": "stream",
     "text": []
    },
    {
     "name": "stderr",
     "output_type": "stream",
     "text": [
      "2023-03-30 00:13:44,202 - root - INFO - Applying color correction.\n"
     ]
    },
    {
     "name": "stdout",
     "output_type": "stream",
     "text": [
      "\u001b[36mAnimation frame: \u001b[0m24/120  \n",
      "Creating in-between cadence frame: 20; tween:0.25;\n",
      "Creating in-between cadence frame: 21; tween:0.50;\n",
      "Creating in-between cadence frame: 22; tween:0.75;\n",
      "Creating in-between cadence frame: 23; tween:1.00;\n",
      "\u001b[32mSeed: \u001b[0m2675932523\n",
      "\u001b[35mPrompt: \u001b[0m(high definition), beautiful,  A neon-colored abstract cityscape with towering buildings and flashing lights. The only sign of life is a lone figure in the distance.\n",
      "\u001b[91mNeg Prompt: \u001b[0m(NSFW), (ugly), noise, blur, fog, text,\n"
     ]
    },
    {
     "data": {
      "text/html": [
       "<pre style=\"white-space:pre;overflow-x:auto;line-height:normal;font-family:Menlo,'DejaVu Sans Mono',consolas,'Courier New',monospace\">╭─────┬───┬───────┬────┬────┬────┬────┬────┬────╮\n",
       "│<span style=\"font-weight: bold\">Steps</span>│<span style=\"font-weight: bold\">CFG</span>│<span style=\"font-weight: bold\">Denoise</span>│<span style=\"font-weight: bold\">Tr X</span>│<span style=\"font-weight: bold\">Tr Y</span>│<span style=\"font-weight: bold\">Tr Z</span>│<span style=\"font-weight: bold\">Ro X</span>│<span style=\"font-weight: bold\">Ro Y</span>│<span style=\"font-weight: bold\">Ro Z</span>│\n",
       "├─────┼───┼───────┼────┼────┼────┼────┼────┼────┤\n",
       "│ 25  │7.0│ 0.35  │ 0  │ 0  │0.5 │ 0  │ 0  │ 0  │\n",
       "╰─────┴───┴───────┴────┴────┴────┴────┴────┴────╯\n",
       "</pre>\n"
      ],
      "text/plain": [
       "╭─────┬───┬───────┬────┬────┬────┬────┬────┬────╮\n",
       "│\u001b[1mSteps\u001b[0m│\u001b[1mCFG\u001b[0m│\u001b[1mDenoise\u001b[0m│\u001b[1mTr X\u001b[0m│\u001b[1mTr Y\u001b[0m│\u001b[1mTr Z\u001b[0m│\u001b[1mRo X\u001b[0m│\u001b[1mRo Y\u001b[0m│\u001b[1mRo Z\u001b[0m│\n",
       "├─────┼───┼───────┼────┼────┼────┼────┼────┼────┤\n",
       "│ 25  │7.0│ 0.35  │ 0  │ 0  │0.5 │ 0  │ 0  │ 0  │\n",
       "╰─────┴───┴───────┴────┴────┴────┴────┴────┴────╯\n"
      ]
     },
     "metadata": {},
     "output_type": "display_data"
    },
    {
     "name": "stderr",
     "output_type": "stream",
     "text": [
      "2023-03-30 00:13:44,968 - root - INFO - Calibrating color correction.\n"
     ]
    },
    {
     "data": {
      "application/vnd.jupyter.widget-view+json": {
       "model_id": "123a8e0756434d1e8453f721759770b4",
       "version_major": 2,
       "version_minor": 0
      },
      "text/plain": [
       "  0%|          | 0/9 [00:00<?, ?it/s]"
      ]
     },
     "metadata": {},
     "output_type": "display_data"
    },
    {
     "name": "stdout",
     "output_type": "stream",
     "text": []
    },
    {
     "name": "stderr",
     "output_type": "stream",
     "text": [
      "2023-03-30 00:13:46,831 - root - INFO - Applying color correction.\n"
     ]
    },
    {
     "name": "stdout",
     "output_type": "stream",
     "text": [
      "\u001b[36mAnimation frame: \u001b[0m28/120  \n",
      "Creating in-between cadence frame: 24; tween:0.25;\n",
      "Creating in-between cadence frame: 25; tween:0.50;\n",
      "Creating in-between cadence frame: 26; tween:0.75;\n",
      "Creating in-between cadence frame: 27; tween:1.00;\n",
      "\u001b[32mSeed: \u001b[0m2675932524\n",
      "\u001b[35mPrompt: \u001b[0m(high definition), beautiful,  A neon-colored abstract cityscape with towering buildings and flashing lights. The only sign of life is a lone figure in the distance.\n",
      "\u001b[91mNeg Prompt: \u001b[0m(NSFW), (ugly), noise, blur, fog, text,\n"
     ]
    },
    {
     "data": {
      "text/html": [
       "<pre style=\"white-space:pre;overflow-x:auto;line-height:normal;font-family:Menlo,'DejaVu Sans Mono',consolas,'Courier New',monospace\">╭─────┬───┬───────┬────┬────┬────┬────┬────┬────╮\n",
       "│<span style=\"font-weight: bold\">Steps</span>│<span style=\"font-weight: bold\">CFG</span>│<span style=\"font-weight: bold\">Denoise</span>│<span style=\"font-weight: bold\">Tr X</span>│<span style=\"font-weight: bold\">Tr Y</span>│<span style=\"font-weight: bold\">Tr Z</span>│<span style=\"font-weight: bold\">Ro X</span>│<span style=\"font-weight: bold\">Ro Y</span>│<span style=\"font-weight: bold\">Ro Z</span>│\n",
       "├─────┼───┼───────┼────┼────┼────┼────┼────┼────┤\n",
       "│ 25  │7.0│ 0.35  │ 0  │ 0  │0.5 │ 0  │ 0  │ 0  │\n",
       "╰─────┴───┴───────┴────┴────┴────┴────┴────┴────╯\n",
       "</pre>\n"
      ],
      "text/plain": [
       "╭─────┬───┬───────┬────┬────┬────┬────┬────┬────╮\n",
       "│\u001b[1mSteps\u001b[0m│\u001b[1mCFG\u001b[0m│\u001b[1mDenoise\u001b[0m│\u001b[1mTr X\u001b[0m│\u001b[1mTr Y\u001b[0m│\u001b[1mTr Z\u001b[0m│\u001b[1mRo X\u001b[0m│\u001b[1mRo Y\u001b[0m│\u001b[1mRo Z\u001b[0m│\n",
       "├─────┼───┼───────┼────┼────┼────┼────┼────┼────┤\n",
       "│ 25  │7.0│ 0.35  │ 0  │ 0  │0.5 │ 0  │ 0  │ 0  │\n",
       "╰─────┴───┴───────┴────┴────┴────┴────┴────┴────╯\n"
      ]
     },
     "metadata": {},
     "output_type": "display_data"
    },
    {
     "name": "stderr",
     "output_type": "stream",
     "text": [
      "2023-03-30 00:13:47,738 - root - INFO - Calibrating color correction.\n"
     ]
    },
    {
     "data": {
      "application/vnd.jupyter.widget-view+json": {
       "model_id": "2b105a95cf374e2d973cd68b08625d54",
       "version_major": 2,
       "version_minor": 0
      },
      "text/plain": [
       "  0%|          | 0/9 [00:00<?, ?it/s]"
      ]
     },
     "metadata": {},
     "output_type": "display_data"
    },
    {
     "name": "stdout",
     "output_type": "stream",
     "text": []
    },
    {
     "name": "stderr",
     "output_type": "stream",
     "text": [
      "2023-03-30 00:13:49,572 - root - INFO - Applying color correction.\n"
     ]
    },
    {
     "name": "stdout",
     "output_type": "stream",
     "text": [
      "\u001b[36mAnimation frame: \u001b[0m32/120  \n",
      "Creating in-between cadence frame: 28; tween:0.25;\n",
      "Creating in-between cadence frame: 29; tween:0.50;\n",
      "Creating in-between cadence frame: 30; tween:0.75;\n",
      "Creating in-between cadence frame: 31; tween:1.00;\n",
      "\u001b[32mSeed: \u001b[0m2675932525\n",
      "\u001b[35mPrompt: \u001b[0m(high definition), beautiful,  A neon-colored abstract cityscape with towering buildings and flashing lights. The only sign of life is a lone figure in the distance.\n",
      "\u001b[91mNeg Prompt: \u001b[0m(NSFW), (ugly), noise, blur, fog, text,\n"
     ]
    },
    {
     "data": {
      "text/html": [
       "<pre style=\"white-space:pre;overflow-x:auto;line-height:normal;font-family:Menlo,'DejaVu Sans Mono',consolas,'Courier New',monospace\">╭─────┬───┬───────┬────┬────┬────┬────┬────┬────╮\n",
       "│<span style=\"font-weight: bold\">Steps</span>│<span style=\"font-weight: bold\">CFG</span>│<span style=\"font-weight: bold\">Denoise</span>│<span style=\"font-weight: bold\">Tr X</span>│<span style=\"font-weight: bold\">Tr Y</span>│<span style=\"font-weight: bold\">Tr Z</span>│<span style=\"font-weight: bold\">Ro X</span>│<span style=\"font-weight: bold\">Ro Y</span>│<span style=\"font-weight: bold\">Ro Z</span>│\n",
       "├─────┼───┼───────┼────┼────┼────┼────┼────┼────┤\n",
       "│ 25  │7.0│ 0.35  │ 0  │ 0  │0.5 │ 0  │ 0  │ 0  │\n",
       "╰─────┴───┴───────┴────┴────┴────┴────┴────┴────╯\n",
       "</pre>\n"
      ],
      "text/plain": [
       "╭─────┬───┬───────┬────┬────┬────┬────┬────┬────╮\n",
       "│\u001b[1mSteps\u001b[0m│\u001b[1mCFG\u001b[0m│\u001b[1mDenoise\u001b[0m│\u001b[1mTr X\u001b[0m│\u001b[1mTr Y\u001b[0m│\u001b[1mTr Z\u001b[0m│\u001b[1mRo X\u001b[0m│\u001b[1mRo Y\u001b[0m│\u001b[1mRo Z\u001b[0m│\n",
       "├─────┼───┼───────┼────┼────┼────┼────┼────┼────┤\n",
       "│ 25  │7.0│ 0.35  │ 0  │ 0  │0.5 │ 0  │ 0  │ 0  │\n",
       "╰─────┴───┴───────┴────┴────┴────┴────┴────┴────╯\n"
      ]
     },
     "metadata": {},
     "output_type": "display_data"
    },
    {
     "name": "stderr",
     "output_type": "stream",
     "text": [
      "2023-03-30 00:13:50,289 - root - INFO - Calibrating color correction.\n"
     ]
    },
    {
     "data": {
      "application/vnd.jupyter.widget-view+json": {
       "model_id": "a9e29c36db5e40f1970769bb7f5a6908",
       "version_major": 2,
       "version_minor": 0
      },
      "text/plain": [
       "  0%|          | 0/9 [00:00<?, ?it/s]"
      ]
     },
     "metadata": {},
     "output_type": "display_data"
    },
    {
     "name": "stdout",
     "output_type": "stream",
     "text": []
    },
    {
     "name": "stderr",
     "output_type": "stream",
     "text": [
      "2023-03-30 00:13:52,149 - root - INFO - Applying color correction.\n"
     ]
    },
    {
     "name": "stdout",
     "output_type": "stream",
     "text": [
      "\u001b[36mAnimation frame: \u001b[0m36/120  \n",
      "Creating in-between cadence frame: 32; tween:0.25;\n",
      "Creating in-between cadence frame: 33; tween:0.50;\n",
      "Creating in-between cadence frame: 34; tween:0.75;\n",
      "Creating in-between cadence frame: 35; tween:1.00;\n",
      "\u001b[32mSeed: \u001b[0m2675932526\n",
      "\u001b[35mPrompt: \u001b[0m(high definition), beautiful,  A neon-colored abstract cityscape with towering buildings and flashing lights. The only sign of life is a lone figure in the distance.\n",
      "\u001b[91mNeg Prompt: \u001b[0m(NSFW), (ugly), noise, blur, fog, text,\n"
     ]
    },
    {
     "data": {
      "text/html": [
       "<pre style=\"white-space:pre;overflow-x:auto;line-height:normal;font-family:Menlo,'DejaVu Sans Mono',consolas,'Courier New',monospace\">╭─────┬───┬───────┬────┬────┬────┬────┬────┬────╮\n",
       "│<span style=\"font-weight: bold\">Steps</span>│<span style=\"font-weight: bold\">CFG</span>│<span style=\"font-weight: bold\">Denoise</span>│<span style=\"font-weight: bold\">Tr X</span>│<span style=\"font-weight: bold\">Tr Y</span>│<span style=\"font-weight: bold\">Tr Z</span>│<span style=\"font-weight: bold\">Ro X</span>│<span style=\"font-weight: bold\">Ro Y</span>│<span style=\"font-weight: bold\">Ro Z</span>│\n",
       "├─────┼───┼───────┼────┼────┼────┼────┼────┼────┤\n",
       "│ 25  │7.0│ 0.35  │ 0  │ 0  │0.5 │ 0  │ 0  │ 0  │\n",
       "╰─────┴───┴───────┴────┴────┴────┴────┴────┴────╯\n",
       "</pre>\n"
      ],
      "text/plain": [
       "╭─────┬───┬───────┬────┬────┬────┬────┬────┬────╮\n",
       "│\u001b[1mSteps\u001b[0m│\u001b[1mCFG\u001b[0m│\u001b[1mDenoise\u001b[0m│\u001b[1mTr X\u001b[0m│\u001b[1mTr Y\u001b[0m│\u001b[1mTr Z\u001b[0m│\u001b[1mRo X\u001b[0m│\u001b[1mRo Y\u001b[0m│\u001b[1mRo Z\u001b[0m│\n",
       "├─────┼───┼───────┼────┼────┼────┼────┼────┼────┤\n",
       "│ 25  │7.0│ 0.35  │ 0  │ 0  │0.5 │ 0  │ 0  │ 0  │\n",
       "╰─────┴───┴───────┴────┴────┴────┴────┴────┴────╯\n"
      ]
     },
     "metadata": {},
     "output_type": "display_data"
    },
    {
     "name": "stderr",
     "output_type": "stream",
     "text": [
      "2023-03-30 00:13:52,916 - root - INFO - Calibrating color correction.\n"
     ]
    },
    {
     "data": {
      "application/vnd.jupyter.widget-view+json": {
       "model_id": "f08c279eaf3a42868c146fa8f880ff1c",
       "version_major": 2,
       "version_minor": 0
      },
      "text/plain": [
       "  0%|          | 0/9 [00:00<?, ?it/s]"
      ]
     },
     "metadata": {},
     "output_type": "display_data"
    },
    {
     "name": "stdout",
     "output_type": "stream",
     "text": []
    },
    {
     "name": "stderr",
     "output_type": "stream",
     "text": [
      "2023-03-30 00:13:54,761 - root - INFO - Applying color correction.\n"
     ]
    },
    {
     "name": "stdout",
     "output_type": "stream",
     "text": [
      "\u001b[36mAnimation frame: \u001b[0m40/120  \n",
      "Creating in-between cadence frame: 36; tween:0.25;\n",
      "Creating in-between cadence frame: 37; tween:0.50;\n",
      "Creating in-between cadence frame: 38; tween:0.75;\n",
      "Creating in-between cadence frame: 39; tween:1.00;\n",
      "\u001b[32mSeed: \u001b[0m2675932527\n",
      "\u001b[35mPrompt: \u001b[0m(high definition), beautiful,  A neon-colored abstract cityscape with towering buildings and flashing lights. The only sign of life is a lone figure in the distance.\n",
      "\u001b[91mNeg Prompt: \u001b[0m(NSFW), (ugly), noise, blur, fog, text,\n"
     ]
    },
    {
     "data": {
      "text/html": [
       "<pre style=\"white-space:pre;overflow-x:auto;line-height:normal;font-family:Menlo,'DejaVu Sans Mono',consolas,'Courier New',monospace\">╭─────┬───┬───────┬────┬────┬────┬────┬────┬────╮\n",
       "│<span style=\"font-weight: bold\">Steps</span>│<span style=\"font-weight: bold\">CFG</span>│<span style=\"font-weight: bold\">Denoise</span>│<span style=\"font-weight: bold\">Tr X</span>│<span style=\"font-weight: bold\">Tr Y</span>│<span style=\"font-weight: bold\">Tr Z</span>│<span style=\"font-weight: bold\">Ro X</span>│<span style=\"font-weight: bold\">Ro Y</span>│<span style=\"font-weight: bold\">Ro Z</span>│\n",
       "├─────┼───┼───────┼────┼────┼────┼────┼────┼────┤\n",
       "│ 25  │7.0│ 0.35  │ 0  │ 0  │0.5 │ 0  │ 0  │ 0  │\n",
       "╰─────┴───┴───────┴────┴────┴────┴────┴────┴────╯\n",
       "</pre>\n"
      ],
      "text/plain": [
       "╭─────┬───┬───────┬────┬────┬────┬────┬────┬────╮\n",
       "│\u001b[1mSteps\u001b[0m│\u001b[1mCFG\u001b[0m│\u001b[1mDenoise\u001b[0m│\u001b[1mTr X\u001b[0m│\u001b[1mTr Y\u001b[0m│\u001b[1mTr Z\u001b[0m│\u001b[1mRo X\u001b[0m│\u001b[1mRo Y\u001b[0m│\u001b[1mRo Z\u001b[0m│\n",
       "├─────┼───┼───────┼────┼────┼────┼────┼────┼────┤\n",
       "│ 25  │7.0│ 0.35  │ 0  │ 0  │0.5 │ 0  │ 0  │ 0  │\n",
       "╰─────┴───┴───────┴────┴────┴────┴────┴────┴────╯\n"
      ]
     },
     "metadata": {},
     "output_type": "display_data"
    },
    {
     "name": "stderr",
     "output_type": "stream",
     "text": [
      "2023-03-30 00:13:55,487 - root - INFO - Calibrating color correction.\n"
     ]
    },
    {
     "data": {
      "application/vnd.jupyter.widget-view+json": {
       "model_id": "0019b9988e454769b777d7cd9c08ccaf",
       "version_major": 2,
       "version_minor": 0
      },
      "text/plain": [
       "  0%|          | 0/9 [00:00<?, ?it/s]"
      ]
     },
     "metadata": {},
     "output_type": "display_data"
    },
    {
     "name": "stdout",
     "output_type": "stream",
     "text": []
    },
    {
     "name": "stderr",
     "output_type": "stream",
     "text": [
      "2023-03-30 00:13:57,320 - root - INFO - Applying color correction.\n"
     ]
    },
    {
     "name": "stdout",
     "output_type": "stream",
     "text": [
      "\u001b[36mAnimation frame: \u001b[0m44/120  \n",
      "Creating in-between cadence frame: 40; tween:0.25;\n",
      "Creating in-between cadence frame: 41; tween:0.50;\n",
      "Creating in-between cadence frame: 42; tween:0.75;\n",
      "Creating in-between cadence frame: 43; tween:1.00;\n",
      "\u001b[32mSeed: \u001b[0m2675932528\n",
      "\u001b[35mPrompt: \u001b[0m(high definition), beautiful,  A neon-colored abstract cityscape with towering buildings and flashing lights. The only sign of life is a lone figure in the distance.\n",
      "\u001b[91mNeg Prompt: \u001b[0m(NSFW), (ugly), noise, blur, fog, text,\n"
     ]
    },
    {
     "data": {
      "text/html": [
       "<pre style=\"white-space:pre;overflow-x:auto;line-height:normal;font-family:Menlo,'DejaVu Sans Mono',consolas,'Courier New',monospace\">╭─────┬───┬───────┬────┬────┬────┬────┬────┬────╮\n",
       "│<span style=\"font-weight: bold\">Steps</span>│<span style=\"font-weight: bold\">CFG</span>│<span style=\"font-weight: bold\">Denoise</span>│<span style=\"font-weight: bold\">Tr X</span>│<span style=\"font-weight: bold\">Tr Y</span>│<span style=\"font-weight: bold\">Tr Z</span>│<span style=\"font-weight: bold\">Ro X</span>│<span style=\"font-weight: bold\">Ro Y</span>│<span style=\"font-weight: bold\">Ro Z</span>│\n",
       "├─────┼───┼───────┼────┼────┼────┼────┼────┼────┤\n",
       "│ 25  │7.0│ 0.35  │ 0  │ 0  │0.5 │ 0  │ 0  │ 0  │\n",
       "╰─────┴───┴───────┴────┴────┴────┴────┴────┴────╯\n",
       "</pre>\n"
      ],
      "text/plain": [
       "╭─────┬───┬───────┬────┬────┬────┬────┬────┬────╮\n",
       "│\u001b[1mSteps\u001b[0m│\u001b[1mCFG\u001b[0m│\u001b[1mDenoise\u001b[0m│\u001b[1mTr X\u001b[0m│\u001b[1mTr Y\u001b[0m│\u001b[1mTr Z\u001b[0m│\u001b[1mRo X\u001b[0m│\u001b[1mRo Y\u001b[0m│\u001b[1mRo Z\u001b[0m│\n",
       "├─────┼───┼───────┼────┼────┼────┼────┼────┼────┤\n",
       "│ 25  │7.0│ 0.35  │ 0  │ 0  │0.5 │ 0  │ 0  │ 0  │\n",
       "╰─────┴───┴───────┴────┴────┴────┴────┴────┴────╯\n"
      ]
     },
     "metadata": {},
     "output_type": "display_data"
    },
    {
     "name": "stderr",
     "output_type": "stream",
     "text": [
      "2023-03-30 00:13:58,035 - root - INFO - Calibrating color correction.\n"
     ]
    },
    {
     "data": {
      "application/vnd.jupyter.widget-view+json": {
       "model_id": "83617c92c02942ef9eff36fa3148c21f",
       "version_major": 2,
       "version_minor": 0
      },
      "text/plain": [
       "  0%|          | 0/9 [00:00<?, ?it/s]"
      ]
     },
     "metadata": {},
     "output_type": "display_data"
    },
    {
     "name": "stdout",
     "output_type": "stream",
     "text": []
    },
    {
     "name": "stderr",
     "output_type": "stream",
     "text": [
      "2023-03-30 00:13:59,852 - root - INFO - Applying color correction.\n"
     ]
    },
    {
     "name": "stdout",
     "output_type": "stream",
     "text": [
      "\u001b[36mAnimation frame: \u001b[0m48/120  \n",
      "Creating in-between cadence frame: 44; tween:0.25;\n",
      "Creating in-between cadence frame: 45; tween:0.50;\n",
      "Creating in-between cadence frame: 46; tween:0.75;\n",
      "Creating in-between cadence frame: 47; tween:1.00;\n",
      "\u001b[32mSeed: \u001b[0m2675932529\n",
      "\u001b[35mPrompt: \u001b[0m(high definition), beautiful,  A neon-colored abstract cityscape with towering buildings and flashing lights. The only sign of life is a lone figure in the distance.\n",
      "\u001b[91mNeg Prompt: \u001b[0m(NSFW), (ugly), noise, blur, fog, text,\n"
     ]
    },
    {
     "data": {
      "text/html": [
       "<pre style=\"white-space:pre;overflow-x:auto;line-height:normal;font-family:Menlo,'DejaVu Sans Mono',consolas,'Courier New',monospace\">╭─────┬───┬───────┬────┬────┬────┬────┬────┬────╮\n",
       "│<span style=\"font-weight: bold\">Steps</span>│<span style=\"font-weight: bold\">CFG</span>│<span style=\"font-weight: bold\">Denoise</span>│<span style=\"font-weight: bold\">Tr X</span>│<span style=\"font-weight: bold\">Tr Y</span>│<span style=\"font-weight: bold\">Tr Z</span>│<span style=\"font-weight: bold\">Ro X</span>│<span style=\"font-weight: bold\">Ro Y</span>│<span style=\"font-weight: bold\">Ro Z</span>│\n",
       "├─────┼───┼───────┼────┼────┼────┼────┼────┼────┤\n",
       "│ 25  │7.0│ 0.35  │ 0  │ 0  │0.5 │ 0  │ 0  │ 0  │\n",
       "╰─────┴───┴───────┴────┴────┴────┴────┴────┴────╯\n",
       "</pre>\n"
      ],
      "text/plain": [
       "╭─────┬───┬───────┬────┬────┬────┬────┬────┬────╮\n",
       "│\u001b[1mSteps\u001b[0m│\u001b[1mCFG\u001b[0m│\u001b[1mDenoise\u001b[0m│\u001b[1mTr X\u001b[0m│\u001b[1mTr Y\u001b[0m│\u001b[1mTr Z\u001b[0m│\u001b[1mRo X\u001b[0m│\u001b[1mRo Y\u001b[0m│\u001b[1mRo Z\u001b[0m│\n",
       "├─────┼───┼───────┼────┼────┼────┼────┼────┼────┤\n",
       "│ 25  │7.0│ 0.35  │ 0  │ 0  │0.5 │ 0  │ 0  │ 0  │\n",
       "╰─────┴───┴───────┴────┴────┴────┴────┴────┴────╯\n"
      ]
     },
     "metadata": {},
     "output_type": "display_data"
    },
    {
     "name": "stderr",
     "output_type": "stream",
     "text": [
      "2023-03-30 00:14:00,665 - root - INFO - Calibrating color correction.\n"
     ]
    },
    {
     "data": {
      "application/vnd.jupyter.widget-view+json": {
       "model_id": "aacef580de664e6d94d4259d8803c0c6",
       "version_major": 2,
       "version_minor": 0
      },
      "text/plain": [
       "  0%|          | 0/9 [00:00<?, ?it/s]"
      ]
     },
     "metadata": {},
     "output_type": "display_data"
    },
    {
     "name": "stdout",
     "output_type": "stream",
     "text": []
    },
    {
     "name": "stderr",
     "output_type": "stream",
     "text": [
      "2023-03-30 00:14:02,603 - root - INFO - Applying color correction.\n"
     ]
    },
    {
     "name": "stdout",
     "output_type": "stream",
     "text": [
      "\u001b[36mAnimation frame: \u001b[0m52/120  \n",
      "Creating in-between cadence frame: 48; tween:0.25;\n",
      "Creating in-between cadence frame: 49; tween:0.50;\n",
      "Creating in-between cadence frame: 50; tween:0.75;\n",
      "Creating in-between cadence frame: 51; tween:1.00;\n",
      "\u001b[32mSeed: \u001b[0m2675932530\n",
      "\u001b[35mPrompt: \u001b[0m(high definition), beautiful,  A neon-colored abstract cityscape with towering buildings and flashing lights. The only sign of life is a lone figure in the distance.\n",
      "\u001b[91mNeg Prompt: \u001b[0m(NSFW), (ugly), noise, blur, fog, text,\n"
     ]
    },
    {
     "data": {
      "text/html": [
       "<pre style=\"white-space:pre;overflow-x:auto;line-height:normal;font-family:Menlo,'DejaVu Sans Mono',consolas,'Courier New',monospace\">╭─────┬───┬───────┬────┬────┬────┬────┬────┬────╮\n",
       "│<span style=\"font-weight: bold\">Steps</span>│<span style=\"font-weight: bold\">CFG</span>│<span style=\"font-weight: bold\">Denoise</span>│<span style=\"font-weight: bold\">Tr X</span>│<span style=\"font-weight: bold\">Tr Y</span>│<span style=\"font-weight: bold\">Tr Z</span>│<span style=\"font-weight: bold\">Ro X</span>│<span style=\"font-weight: bold\">Ro Y</span>│<span style=\"font-weight: bold\">Ro Z</span>│\n",
       "├─────┼───┼───────┼────┼────┼────┼────┼────┼────┤\n",
       "│ 25  │7.0│ 0.35  │ 0  │ 0  │0.5 │ 0  │ 0  │ 0  │\n",
       "╰─────┴───┴───────┴────┴────┴────┴────┴────┴────╯\n",
       "</pre>\n"
      ],
      "text/plain": [
       "╭─────┬───┬───────┬────┬────┬────┬────┬────┬────╮\n",
       "│\u001b[1mSteps\u001b[0m│\u001b[1mCFG\u001b[0m│\u001b[1mDenoise\u001b[0m│\u001b[1mTr X\u001b[0m│\u001b[1mTr Y\u001b[0m│\u001b[1mTr Z\u001b[0m│\u001b[1mRo X\u001b[0m│\u001b[1mRo Y\u001b[0m│\u001b[1mRo Z\u001b[0m│\n",
       "├─────┼───┼───────┼────┼────┼────┼────┼────┼────┤\n",
       "│ 25  │7.0│ 0.35  │ 0  │ 0  │0.5 │ 0  │ 0  │ 0  │\n",
       "╰─────┴───┴───────┴────┴────┴────┴────┴────┴────╯\n"
      ]
     },
     "metadata": {},
     "output_type": "display_data"
    },
    {
     "name": "stderr",
     "output_type": "stream",
     "text": [
      "2023-03-30 00:14:03,502 - root - INFO - Calibrating color correction.\n"
     ]
    },
    {
     "data": {
      "application/vnd.jupyter.widget-view+json": {
       "model_id": "a1f38fcb2ebb4a8f8f8505a34085c714",
       "version_major": 2,
       "version_minor": 0
      },
      "text/plain": [
       "  0%|          | 0/9 [00:00<?, ?it/s]"
      ]
     },
     "metadata": {},
     "output_type": "display_data"
    },
    {
     "name": "stdout",
     "output_type": "stream",
     "text": []
    },
    {
     "name": "stderr",
     "output_type": "stream",
     "text": [
      "2023-03-30 00:14:05,358 - root - INFO - Applying color correction.\n"
     ]
    },
    {
     "name": "stdout",
     "output_type": "stream",
     "text": [
      "\u001b[36mAnimation frame: \u001b[0m56/120  \n",
      "Creating in-between cadence frame: 52; tween:0.25;\n",
      "Creating in-between cadence frame: 53; tween:0.50;\n",
      "Creating in-between cadence frame: 54; tween:0.75;\n",
      "Creating in-between cadence frame: 55; tween:1.00;\n",
      "\u001b[32mSeed: \u001b[0m2675932531\n",
      "\u001b[35mPrompt: \u001b[0m(high definition), beautiful,  A neon-colored abstract cityscape with towering buildings and flashing lights. The only sign of life is a lone figure in the distance.\n",
      "\u001b[91mNeg Prompt: \u001b[0m(NSFW), (ugly), noise, blur, fog, text,\n"
     ]
    },
    {
     "data": {
      "text/html": [
       "<pre style=\"white-space:pre;overflow-x:auto;line-height:normal;font-family:Menlo,'DejaVu Sans Mono',consolas,'Courier New',monospace\">╭─────┬───┬───────┬────┬────┬────┬────┬────┬────╮\n",
       "│<span style=\"font-weight: bold\">Steps</span>│<span style=\"font-weight: bold\">CFG</span>│<span style=\"font-weight: bold\">Denoise</span>│<span style=\"font-weight: bold\">Tr X</span>│<span style=\"font-weight: bold\">Tr Y</span>│<span style=\"font-weight: bold\">Tr Z</span>│<span style=\"font-weight: bold\">Ro X</span>│<span style=\"font-weight: bold\">Ro Y</span>│<span style=\"font-weight: bold\">Ro Z</span>│\n",
       "├─────┼───┼───────┼────┼────┼────┼────┼────┼────┤\n",
       "│ 25  │7.0│ 0.35  │ 0  │ 0  │0.5 │ 0  │ 0  │ 0  │\n",
       "╰─────┴───┴───────┴────┴────┴────┴────┴────┴────╯\n",
       "</pre>\n"
      ],
      "text/plain": [
       "╭─────┬───┬───────┬────┬────┬────┬────┬────┬────╮\n",
       "│\u001b[1mSteps\u001b[0m│\u001b[1mCFG\u001b[0m│\u001b[1mDenoise\u001b[0m│\u001b[1mTr X\u001b[0m│\u001b[1mTr Y\u001b[0m│\u001b[1mTr Z\u001b[0m│\u001b[1mRo X\u001b[0m│\u001b[1mRo Y\u001b[0m│\u001b[1mRo Z\u001b[0m│\n",
       "├─────┼───┼───────┼────┼────┼────┼────┼────┼────┤\n",
       "│ 25  │7.0│ 0.35  │ 0  │ 0  │0.5 │ 0  │ 0  │ 0  │\n",
       "╰─────┴───┴───────┴────┴────┴────┴────┴────┴────╯\n"
      ]
     },
     "metadata": {},
     "output_type": "display_data"
    },
    {
     "name": "stderr",
     "output_type": "stream",
     "text": [
      "2023-03-30 00:14:06,112 - root - INFO - Calibrating color correction.\n"
     ]
    },
    {
     "data": {
      "application/vnd.jupyter.widget-view+json": {
       "model_id": "55d1cda380ee496e9858bdf241dbe1fe",
       "version_major": 2,
       "version_minor": 0
      },
      "text/plain": [
       "  0%|          | 0/9 [00:00<?, ?it/s]"
      ]
     },
     "metadata": {},
     "output_type": "display_data"
    },
    {
     "name": "stdout",
     "output_type": "stream",
     "text": []
    },
    {
     "name": "stderr",
     "output_type": "stream",
     "text": [
      "2023-03-30 00:14:07,948 - root - INFO - Applying color correction.\n"
     ]
    },
    {
     "name": "stdout",
     "output_type": "stream",
     "text": [
      "\u001b[36mAnimation frame: \u001b[0m60/120  \n",
      "Creating in-between cadence frame: 56; tween:0.25;\n",
      "Creating in-between cadence frame: 57; tween:0.50;\n",
      "Creating in-between cadence frame: 58; tween:0.75;\n",
      "Creating in-between cadence frame: 59; tween:1.00;\n",
      "\u001b[32mSeed: \u001b[0m2675932532\n",
      "\u001b[35mPrompt: \u001b[0m(high definition), beautiful,  A neon-colored abstract cityscape with towering buildings and flashing lights. The only sign of life is a lone figure in the distance.\n",
      "\u001b[91mNeg Prompt: \u001b[0m(NSFW), (ugly), noise, blur, fog, text,\n"
     ]
    },
    {
     "data": {
      "text/html": [
       "<pre style=\"white-space:pre;overflow-x:auto;line-height:normal;font-family:Menlo,'DejaVu Sans Mono',consolas,'Courier New',monospace\">╭─────┬───┬───────┬────┬────┬────┬────┬────┬────╮\n",
       "│<span style=\"font-weight: bold\">Steps</span>│<span style=\"font-weight: bold\">CFG</span>│<span style=\"font-weight: bold\">Denoise</span>│<span style=\"font-weight: bold\">Tr X</span>│<span style=\"font-weight: bold\">Tr Y</span>│<span style=\"font-weight: bold\">Tr Z</span>│<span style=\"font-weight: bold\">Ro X</span>│<span style=\"font-weight: bold\">Ro Y</span>│<span style=\"font-weight: bold\">Ro Z</span>│\n",
       "├─────┼───┼───────┼────┼────┼────┼────┼────┼────┤\n",
       "│ 25  │7.0│ 0.35  │ 0  │ 0  │0.5 │ 0  │ 0  │ 0  │\n",
       "╰─────┴───┴───────┴────┴────┴────┴────┴────┴────╯\n",
       "</pre>\n"
      ],
      "text/plain": [
       "╭─────┬───┬───────┬────┬────┬────┬────┬────┬────╮\n",
       "│\u001b[1mSteps\u001b[0m│\u001b[1mCFG\u001b[0m│\u001b[1mDenoise\u001b[0m│\u001b[1mTr X\u001b[0m│\u001b[1mTr Y\u001b[0m│\u001b[1mTr Z\u001b[0m│\u001b[1mRo X\u001b[0m│\u001b[1mRo Y\u001b[0m│\u001b[1mRo Z\u001b[0m│\n",
       "├─────┼───┼───────┼────┼────┼────┼────┼────┼────┤\n",
       "│ 25  │7.0│ 0.35  │ 0  │ 0  │0.5 │ 0  │ 0  │ 0  │\n",
       "╰─────┴───┴───────┴────┴────┴────┴────┴────┴────╯\n"
      ]
     },
     "metadata": {},
     "output_type": "display_data"
    },
    {
     "name": "stderr",
     "output_type": "stream",
     "text": [
      "2023-03-30 00:14:08,669 - root - INFO - Calibrating color correction.\n"
     ]
    },
    {
     "data": {
      "application/vnd.jupyter.widget-view+json": {
       "model_id": "6645824e9cb640adb9d75b0ce003469a",
       "version_major": 2,
       "version_minor": 0
      },
      "text/plain": [
       "  0%|          | 0/9 [00:00<?, ?it/s]"
      ]
     },
     "metadata": {},
     "output_type": "display_data"
    },
    {
     "name": "stdout",
     "output_type": "stream",
     "text": []
    },
    {
     "name": "stderr",
     "output_type": "stream",
     "text": [
      "2023-03-30 00:14:10,624 - root - INFO - Applying color correction.\n"
     ]
    },
    {
     "name": "stdout",
     "output_type": "stream",
     "text": [
      "\u001b[36mAnimation frame: \u001b[0m64/120  \n",
      "Creating in-between cadence frame: 60; tween:0.25;\n",
      "Creating in-between cadence frame: 61; tween:0.50;\n",
      "Creating in-between cadence frame: 62; tween:0.75;\n",
      "Creating in-between cadence frame: 63; tween:1.00;\n",
      "\u001b[32mSeed: \u001b[0m2675932533\n",
      "\u001b[35mPrompt: \u001b[0m(high definition), beautiful,  A neon-colored abstract cityscape with towering buildings and flashing lights. The only sign of life is a lone figure in the distance.\n",
      "\u001b[91mNeg Prompt: \u001b[0m(NSFW), (ugly), noise, blur, fog, text,\n"
     ]
    },
    {
     "data": {
      "text/html": [
       "<pre style=\"white-space:pre;overflow-x:auto;line-height:normal;font-family:Menlo,'DejaVu Sans Mono',consolas,'Courier New',monospace\">╭─────┬───┬───────┬────┬────┬────┬────┬────┬────╮\n",
       "│<span style=\"font-weight: bold\">Steps</span>│<span style=\"font-weight: bold\">CFG</span>│<span style=\"font-weight: bold\">Denoise</span>│<span style=\"font-weight: bold\">Tr X</span>│<span style=\"font-weight: bold\">Tr Y</span>│<span style=\"font-weight: bold\">Tr Z</span>│<span style=\"font-weight: bold\">Ro X</span>│<span style=\"font-weight: bold\">Ro Y</span>│<span style=\"font-weight: bold\">Ro Z</span>│\n",
       "├─────┼───┼───────┼────┼────┼────┼────┼────┼────┤\n",
       "│ 25  │7.0│ 0.35  │ 0  │ 0  │0.5 │ 0  │ 0  │ 0  │\n",
       "╰─────┴───┴───────┴────┴────┴────┴────┴────┴────╯\n",
       "</pre>\n"
      ],
      "text/plain": [
       "╭─────┬───┬───────┬────┬────┬────┬────┬────┬────╮\n",
       "│\u001b[1mSteps\u001b[0m│\u001b[1mCFG\u001b[0m│\u001b[1mDenoise\u001b[0m│\u001b[1mTr X\u001b[0m│\u001b[1mTr Y\u001b[0m│\u001b[1mTr Z\u001b[0m│\u001b[1mRo X\u001b[0m│\u001b[1mRo Y\u001b[0m│\u001b[1mRo Z\u001b[0m│\n",
       "├─────┼───┼───────┼────┼────┼────┼────┼────┼────┤\n",
       "│ 25  │7.0│ 0.35  │ 0  │ 0  │0.5 │ 0  │ 0  │ 0  │\n",
       "╰─────┴───┴───────┴────┴────┴────┴────┴────┴────╯\n"
      ]
     },
     "metadata": {},
     "output_type": "display_data"
    },
    {
     "name": "stderr",
     "output_type": "stream",
     "text": [
      "2023-03-30 00:14:11,345 - root - INFO - Calibrating color correction.\n"
     ]
    },
    {
     "data": {
      "application/vnd.jupyter.widget-view+json": {
       "model_id": "1d0d4e06e60c416c88af1f3297f38756",
       "version_major": 2,
       "version_minor": 0
      },
      "text/plain": [
       "  0%|          | 0/9 [00:00<?, ?it/s]"
      ]
     },
     "metadata": {},
     "output_type": "display_data"
    },
    {
     "name": "stdout",
     "output_type": "stream",
     "text": []
    },
    {
     "name": "stderr",
     "output_type": "stream",
     "text": [
      "2023-03-30 00:14:13,322 - root - INFO - Applying color correction.\n"
     ]
    },
    {
     "name": "stdout",
     "output_type": "stream",
     "text": [
      "\u001b[36mAnimation frame: \u001b[0m68/120  \n",
      "Creating in-between cadence frame: 64; tween:0.25;\n",
      "Creating in-between cadence frame: 65; tween:0.50;\n",
      "Creating in-between cadence frame: 66; tween:0.75;\n",
      "Creating in-between cadence frame: 67; tween:1.00;\n",
      "\u001b[32mSeed: \u001b[0m2675932534\n",
      "\u001b[35mPrompt: \u001b[0m(high definition), beautiful,  A neon-colored abstract cityscape with towering buildings and flashing lights. The only sign of life is a lone figure in the distance.\n",
      "\u001b[91mNeg Prompt: \u001b[0m(NSFW), (ugly), noise, blur, fog, text,\n"
     ]
    },
    {
     "data": {
      "text/html": [
       "<pre style=\"white-space:pre;overflow-x:auto;line-height:normal;font-family:Menlo,'DejaVu Sans Mono',consolas,'Courier New',monospace\">╭─────┬───┬───────┬────┬────┬────┬────┬────┬────╮\n",
       "│<span style=\"font-weight: bold\">Steps</span>│<span style=\"font-weight: bold\">CFG</span>│<span style=\"font-weight: bold\">Denoise</span>│<span style=\"font-weight: bold\">Tr X</span>│<span style=\"font-weight: bold\">Tr Y</span>│<span style=\"font-weight: bold\">Tr Z</span>│<span style=\"font-weight: bold\">Ro X</span>│<span style=\"font-weight: bold\">Ro Y</span>│<span style=\"font-weight: bold\">Ro Z</span>│\n",
       "├─────┼───┼───────┼────┼────┼────┼────┼────┼────┤\n",
       "│ 25  │7.0│ 0.35  │ 0  │ 0  │0.5 │ 0  │ 0  │ 0  │\n",
       "╰─────┴───┴───────┴────┴────┴────┴────┴────┴────╯\n",
       "</pre>\n"
      ],
      "text/plain": [
       "╭─────┬───┬───────┬────┬────┬────┬────┬────┬────╮\n",
       "│\u001b[1mSteps\u001b[0m│\u001b[1mCFG\u001b[0m│\u001b[1mDenoise\u001b[0m│\u001b[1mTr X\u001b[0m│\u001b[1mTr Y\u001b[0m│\u001b[1mTr Z\u001b[0m│\u001b[1mRo X\u001b[0m│\u001b[1mRo Y\u001b[0m│\u001b[1mRo Z\u001b[0m│\n",
       "├─────┼───┼───────┼────┼────┼────┼────┼────┼────┤\n",
       "│ 25  │7.0│ 0.35  │ 0  │ 0  │0.5 │ 0  │ 0  │ 0  │\n",
       "╰─────┴───┴───────┴────┴────┴────┴────┴────┴────╯\n"
      ]
     },
     "metadata": {},
     "output_type": "display_data"
    },
    {
     "name": "stderr",
     "output_type": "stream",
     "text": [
      "2023-03-30 00:14:14,119 - root - INFO - Calibrating color correction.\n"
     ]
    },
    {
     "data": {
      "application/vnd.jupyter.widget-view+json": {
       "model_id": "81ad2eea5f7040079f74c72cd969750f",
       "version_major": 2,
       "version_minor": 0
      },
      "text/plain": [
       "  0%|          | 0/9 [00:00<?, ?it/s]"
      ]
     },
     "metadata": {},
     "output_type": "display_data"
    },
    {
     "name": "stdout",
     "output_type": "stream",
     "text": []
    },
    {
     "name": "stderr",
     "output_type": "stream",
     "text": [
      "2023-03-30 00:14:16,125 - root - INFO - Applying color correction.\n"
     ]
    },
    {
     "name": "stdout",
     "output_type": "stream",
     "text": [
      "\u001b[36mAnimation frame: \u001b[0m72/120  \n",
      "Creating in-between cadence frame: 68; tween:0.25;\n",
      "Creating in-between cadence frame: 69; tween:0.50;\n",
      "Creating in-between cadence frame: 70; tween:0.75;\n",
      "Creating in-between cadence frame: 71; tween:1.00;\n",
      "\u001b[32mSeed: \u001b[0m2675932535\n",
      "\u001b[35mPrompt: \u001b[0m(high definition), beautiful,  A neon-colored abstract cityscape with towering buildings and flashing lights. The only sign of life is a lone figure in the distance.\n",
      "\u001b[91mNeg Prompt: \u001b[0m(NSFW), (ugly), noise, blur, fog, text,\n"
     ]
    },
    {
     "data": {
      "text/html": [
       "<pre style=\"white-space:pre;overflow-x:auto;line-height:normal;font-family:Menlo,'DejaVu Sans Mono',consolas,'Courier New',monospace\">╭─────┬───┬───────┬────┬────┬────┬────┬────┬────╮\n",
       "│<span style=\"font-weight: bold\">Steps</span>│<span style=\"font-weight: bold\">CFG</span>│<span style=\"font-weight: bold\">Denoise</span>│<span style=\"font-weight: bold\">Tr X</span>│<span style=\"font-weight: bold\">Tr Y</span>│<span style=\"font-weight: bold\">Tr Z</span>│<span style=\"font-weight: bold\">Ro X</span>│<span style=\"font-weight: bold\">Ro Y</span>│<span style=\"font-weight: bold\">Ro Z</span>│\n",
       "├─────┼───┼───────┼────┼────┼────┼────┼────┼────┤\n",
       "│ 25  │7.0│ 0.35  │ 0  │ 0  │0.5 │ 0  │ 0  │ 0  │\n",
       "╰─────┴───┴───────┴────┴────┴────┴────┴────┴────╯\n",
       "</pre>\n"
      ],
      "text/plain": [
       "╭─────┬───┬───────┬────┬────┬────┬────┬────┬────╮\n",
       "│\u001b[1mSteps\u001b[0m│\u001b[1mCFG\u001b[0m│\u001b[1mDenoise\u001b[0m│\u001b[1mTr X\u001b[0m│\u001b[1mTr Y\u001b[0m│\u001b[1mTr Z\u001b[0m│\u001b[1mRo X\u001b[0m│\u001b[1mRo Y\u001b[0m│\u001b[1mRo Z\u001b[0m│\n",
       "├─────┼───┼───────┼────┼────┼────┼────┼────┼────┤\n",
       "│ 25  │7.0│ 0.35  │ 0  │ 0  │0.5 │ 0  │ 0  │ 0  │\n",
       "╰─────┴───┴───────┴────┴────┴────┴────┴────┴────╯\n"
      ]
     },
     "metadata": {},
     "output_type": "display_data"
    },
    {
     "name": "stderr",
     "output_type": "stream",
     "text": [
      "2023-03-30 00:14:16,871 - root - INFO - Calibrating color correction.\n"
     ]
    },
    {
     "data": {
      "application/vnd.jupyter.widget-view+json": {
       "model_id": "c6d938b88fb94220b692ce501534efe9",
       "version_major": 2,
       "version_minor": 0
      },
      "text/plain": [
       "  0%|          | 0/9 [00:00<?, ?it/s]"
      ]
     },
     "metadata": {},
     "output_type": "display_data"
    },
    {
     "name": "stdout",
     "output_type": "stream",
     "text": []
    },
    {
     "name": "stderr",
     "output_type": "stream",
     "text": [
      "2023-03-30 00:14:18,870 - root - INFO - Applying color correction.\n"
     ]
    },
    {
     "name": "stdout",
     "output_type": "stream",
     "text": [
      "\u001b[36mAnimation frame: \u001b[0m76/120  \n",
      "Creating in-between cadence frame: 72; tween:0.25;\n",
      "Creating in-between cadence frame: 73; tween:0.50;\n",
      "Creating in-between cadence frame: 74; tween:0.75;\n",
      "Creating in-between cadence frame: 75; tween:1.00;\n",
      "\u001b[32mSeed: \u001b[0m2675932536\n",
      "\u001b[35mPrompt: \u001b[0m(high definition), beautiful,  A neon-colored abstract cityscape with towering buildings and flashing lights. The only sign of life is a lone figure in the distance.\n",
      "\u001b[91mNeg Prompt: \u001b[0m(NSFW), (ugly), noise, blur, fog, text,\n"
     ]
    },
    {
     "data": {
      "text/html": [
       "<pre style=\"white-space:pre;overflow-x:auto;line-height:normal;font-family:Menlo,'DejaVu Sans Mono',consolas,'Courier New',monospace\">╭─────┬───┬───────┬────┬────┬────┬────┬────┬────╮\n",
       "│<span style=\"font-weight: bold\">Steps</span>│<span style=\"font-weight: bold\">CFG</span>│<span style=\"font-weight: bold\">Denoise</span>│<span style=\"font-weight: bold\">Tr X</span>│<span style=\"font-weight: bold\">Tr Y</span>│<span style=\"font-weight: bold\">Tr Z</span>│<span style=\"font-weight: bold\">Ro X</span>│<span style=\"font-weight: bold\">Ro Y</span>│<span style=\"font-weight: bold\">Ro Z</span>│\n",
       "├─────┼───┼───────┼────┼────┼────┼────┼────┼────┤\n",
       "│ 25  │7.0│ 0.35  │ 0  │ 0  │0.5 │ 0  │ 0  │ 0  │\n",
       "╰─────┴───┴───────┴────┴────┴────┴────┴────┴────╯\n",
       "</pre>\n"
      ],
      "text/plain": [
       "╭─────┬───┬───────┬────┬────┬────┬────┬────┬────╮\n",
       "│\u001b[1mSteps\u001b[0m│\u001b[1mCFG\u001b[0m│\u001b[1mDenoise\u001b[0m│\u001b[1mTr X\u001b[0m│\u001b[1mTr Y\u001b[0m│\u001b[1mTr Z\u001b[0m│\u001b[1mRo X\u001b[0m│\u001b[1mRo Y\u001b[0m│\u001b[1mRo Z\u001b[0m│\n",
       "├─────┼───┼───────┼────┼────┼────┼────┼────┼────┤\n",
       "│ 25  │7.0│ 0.35  │ 0  │ 0  │0.5 │ 0  │ 0  │ 0  │\n",
       "╰─────┴───┴───────┴────┴────┴────┴────┴────┴────╯\n"
      ]
     },
     "metadata": {},
     "output_type": "display_data"
    },
    {
     "name": "stderr",
     "output_type": "stream",
     "text": [
      "2023-03-30 00:14:19,657 - root - INFO - Calibrating color correction.\n"
     ]
    },
    {
     "data": {
      "application/vnd.jupyter.widget-view+json": {
       "model_id": "84094bea22904f5480426de862b59c35",
       "version_major": 2,
       "version_minor": 0
      },
      "text/plain": [
       "  0%|          | 0/9 [00:00<?, ?it/s]"
      ]
     },
     "metadata": {},
     "output_type": "display_data"
    },
    {
     "name": "stdout",
     "output_type": "stream",
     "text": []
    },
    {
     "name": "stderr",
     "output_type": "stream",
     "text": [
      "2023-03-30 00:14:21,672 - root - INFO - Applying color correction.\n"
     ]
    },
    {
     "name": "stdout",
     "output_type": "stream",
     "text": [
      "\u001b[36mAnimation frame: \u001b[0m80/120  \n",
      "Creating in-between cadence frame: 76; tween:0.25;\n",
      "Creating in-between cadence frame: 77; tween:0.50;\n",
      "Creating in-between cadence frame: 78; tween:0.75;\n",
      "Creating in-between cadence frame: 79; tween:1.00;\n",
      "\u001b[32mSeed: \u001b[0m2675932537\n",
      "\u001b[35mPrompt: \u001b[0m(high definition), beautiful,  A neon-colored abstract cityscape with towering buildings and flashing lights. The only sign of life is a lone figure in the distance.\n",
      "\u001b[91mNeg Prompt: \u001b[0m(NSFW), (ugly), noise, blur, fog, text,\n"
     ]
    },
    {
     "data": {
      "text/html": [
       "<pre style=\"white-space:pre;overflow-x:auto;line-height:normal;font-family:Menlo,'DejaVu Sans Mono',consolas,'Courier New',monospace\">╭─────┬───┬───────┬────┬────┬────┬────┬────┬────╮\n",
       "│<span style=\"font-weight: bold\">Steps</span>│<span style=\"font-weight: bold\">CFG</span>│<span style=\"font-weight: bold\">Denoise</span>│<span style=\"font-weight: bold\">Tr X</span>│<span style=\"font-weight: bold\">Tr Y</span>│<span style=\"font-weight: bold\">Tr Z</span>│<span style=\"font-weight: bold\">Ro X</span>│<span style=\"font-weight: bold\">Ro Y</span>│<span style=\"font-weight: bold\">Ro Z</span>│\n",
       "├─────┼───┼───────┼────┼────┼────┼────┼────┼────┤\n",
       "│ 25  │7.0│ 0.35  │ 0  │ 0  │0.5 │ 0  │ 0  │ 0  │\n",
       "╰─────┴───┴───────┴────┴────┴────┴────┴────┴────╯\n",
       "</pre>\n"
      ],
      "text/plain": [
       "╭─────┬───┬───────┬────┬────┬────┬────┬────┬────╮\n",
       "│\u001b[1mSteps\u001b[0m│\u001b[1mCFG\u001b[0m│\u001b[1mDenoise\u001b[0m│\u001b[1mTr X\u001b[0m│\u001b[1mTr Y\u001b[0m│\u001b[1mTr Z\u001b[0m│\u001b[1mRo X\u001b[0m│\u001b[1mRo Y\u001b[0m│\u001b[1mRo Z\u001b[0m│\n",
       "├─────┼───┼───────┼────┼────┼────┼────┼────┼────┤\n",
       "│ 25  │7.0│ 0.35  │ 0  │ 0  │0.5 │ 0  │ 0  │ 0  │\n",
       "╰─────┴───┴───────┴────┴────┴────┴────┴────┴────╯\n"
      ]
     },
     "metadata": {},
     "output_type": "display_data"
    },
    {
     "name": "stderr",
     "output_type": "stream",
     "text": [
      "2023-03-30 00:14:22,549 - root - INFO - Calibrating color correction.\n"
     ]
    },
    {
     "data": {
      "application/vnd.jupyter.widget-view+json": {
       "model_id": "134272f18fef4667bcabd3d13e76894a",
       "version_major": 2,
       "version_minor": 0
      },
      "text/plain": [
       "  0%|          | 0/9 [00:00<?, ?it/s]"
      ]
     },
     "metadata": {},
     "output_type": "display_data"
    },
    {
     "name": "stdout",
     "output_type": "stream",
     "text": []
    },
    {
     "name": "stderr",
     "output_type": "stream",
     "text": [
      "2023-03-30 00:14:24,658 - root - INFO - Applying color correction.\n"
     ]
    },
    {
     "name": "stdout",
     "output_type": "stream",
     "text": [
      "\u001b[36mAnimation frame: \u001b[0m84/120  \n",
      "Creating in-between cadence frame: 80; tween:0.25;\n",
      "Creating in-between cadence frame: 81; tween:0.50;\n",
      "Creating in-between cadence frame: 82; tween:0.75;\n",
      "Creating in-between cadence frame: 83; tween:1.00;\n",
      "\u001b[32mSeed: \u001b[0m2675932538\n",
      "\u001b[35mPrompt: \u001b[0m(high definition), beautiful,  A neon-colored abstract cityscape with towering buildings and flashing lights. The only sign of life is a lone figure in the distance.\n",
      "\u001b[91mNeg Prompt: \u001b[0m(NSFW), (ugly), noise, blur, fog, text,\n"
     ]
    },
    {
     "data": {
      "text/html": [
       "<pre style=\"white-space:pre;overflow-x:auto;line-height:normal;font-family:Menlo,'DejaVu Sans Mono',consolas,'Courier New',monospace\">╭─────┬───┬───────┬────┬────┬────┬────┬────┬────╮\n",
       "│<span style=\"font-weight: bold\">Steps</span>│<span style=\"font-weight: bold\">CFG</span>│<span style=\"font-weight: bold\">Denoise</span>│<span style=\"font-weight: bold\">Tr X</span>│<span style=\"font-weight: bold\">Tr Y</span>│<span style=\"font-weight: bold\">Tr Z</span>│<span style=\"font-weight: bold\">Ro X</span>│<span style=\"font-weight: bold\">Ro Y</span>│<span style=\"font-weight: bold\">Ro Z</span>│\n",
       "├─────┼───┼───────┼────┼────┼────┼────┼────┼────┤\n",
       "│ 25  │7.0│ 0.35  │ 0  │ 0  │0.5 │ 0  │ 0  │ 0  │\n",
       "╰─────┴───┴───────┴────┴────┴────┴────┴────┴────╯\n",
       "</pre>\n"
      ],
      "text/plain": [
       "╭─────┬───┬───────┬────┬────┬────┬────┬────┬────╮\n",
       "│\u001b[1mSteps\u001b[0m│\u001b[1mCFG\u001b[0m│\u001b[1mDenoise\u001b[0m│\u001b[1mTr X\u001b[0m│\u001b[1mTr Y\u001b[0m│\u001b[1mTr Z\u001b[0m│\u001b[1mRo X\u001b[0m│\u001b[1mRo Y\u001b[0m│\u001b[1mRo Z\u001b[0m│\n",
       "├─────┼───┼───────┼────┼────┼────┼────┼────┼────┤\n",
       "│ 25  │7.0│ 0.35  │ 0  │ 0  │0.5 │ 0  │ 0  │ 0  │\n",
       "╰─────┴───┴───────┴────┴────┴────┴────┴────┴────╯\n"
      ]
     },
     "metadata": {},
     "output_type": "display_data"
    },
    {
     "name": "stderr",
     "output_type": "stream",
     "text": [
      "2023-03-30 00:14:26,958 - root - INFO - Calibrating color correction.\n"
     ]
    },
    {
     "data": {
      "application/vnd.jupyter.widget-view+json": {
       "model_id": "9fba12f447924ca2985d2d98e45c00ce",
       "version_major": 2,
       "version_minor": 0
      },
      "text/plain": [
       "  0%|          | 0/9 [00:00<?, ?it/s]"
      ]
     },
     "metadata": {},
     "output_type": "display_data"
    },
    {
     "name": "stdout",
     "output_type": "stream",
     "text": []
    },
    {
     "name": "stderr",
     "output_type": "stream",
     "text": [
      "2023-03-30 00:14:28,940 - root - INFO - Applying color correction.\n"
     ]
    },
    {
     "name": "stdout",
     "output_type": "stream",
     "text": [
      "\u001b[36mAnimation frame: \u001b[0m88/120  \n",
      "Creating in-between cadence frame: 84; tween:0.25;\n",
      "Creating in-between cadence frame: 85; tween:0.50;\n",
      "Creating in-between cadence frame: 86; tween:0.75;\n",
      "Creating in-between cadence frame: 87; tween:1.00;\n",
      "\u001b[32mSeed: \u001b[0m2675932539\n",
      "\u001b[35mPrompt: \u001b[0m(high definition), beautiful,  A neon-colored abstract cityscape with towering buildings and flashing lights. The only sign of life is a lone figure in the distance.\n",
      "\u001b[91mNeg Prompt: \u001b[0m(NSFW), (ugly), noise, blur, fog, text,\n"
     ]
    },
    {
     "data": {
      "text/html": [
       "<pre style=\"white-space:pre;overflow-x:auto;line-height:normal;font-family:Menlo,'DejaVu Sans Mono',consolas,'Courier New',monospace\">╭─────┬───┬───────┬────┬────┬────┬────┬────┬────╮\n",
       "│<span style=\"font-weight: bold\">Steps</span>│<span style=\"font-weight: bold\">CFG</span>│<span style=\"font-weight: bold\">Denoise</span>│<span style=\"font-weight: bold\">Tr X</span>│<span style=\"font-weight: bold\">Tr Y</span>│<span style=\"font-weight: bold\">Tr Z</span>│<span style=\"font-weight: bold\">Ro X</span>│<span style=\"font-weight: bold\">Ro Y</span>│<span style=\"font-weight: bold\">Ro Z</span>│\n",
       "├─────┼───┼───────┼────┼────┼────┼────┼────┼────┤\n",
       "│ 25  │7.0│ 0.35  │ 0  │ 0  │0.5 │ 0  │ 0  │ 0  │\n",
       "╰─────┴───┴───────┴────┴────┴────┴────┴────┴────╯\n",
       "</pre>\n"
      ],
      "text/plain": [
       "╭─────┬───┬───────┬────┬────┬────┬────┬────┬────╮\n",
       "│\u001b[1mSteps\u001b[0m│\u001b[1mCFG\u001b[0m│\u001b[1mDenoise\u001b[0m│\u001b[1mTr X\u001b[0m│\u001b[1mTr Y\u001b[0m│\u001b[1mTr Z\u001b[0m│\u001b[1mRo X\u001b[0m│\u001b[1mRo Y\u001b[0m│\u001b[1mRo Z\u001b[0m│\n",
       "├─────┼───┼───────┼────┼────┼────┼────┼────┼────┤\n",
       "│ 25  │7.0│ 0.35  │ 0  │ 0  │0.5 │ 0  │ 0  │ 0  │\n",
       "╰─────┴───┴───────┴────┴────┴────┴────┴────┴────╯\n"
      ]
     },
     "metadata": {},
     "output_type": "display_data"
    },
    {
     "name": "stderr",
     "output_type": "stream",
     "text": [
      "2023-03-30 00:14:29,695 - root - INFO - Calibrating color correction.\n"
     ]
    },
    {
     "data": {
      "application/vnd.jupyter.widget-view+json": {
       "model_id": "2dd0123f9c3e45debca93d8ce5d73eb9",
       "version_major": 2,
       "version_minor": 0
      },
      "text/plain": [
       "  0%|          | 0/9 [00:00<?, ?it/s]"
      ]
     },
     "metadata": {},
     "output_type": "display_data"
    },
    {
     "name": "stdout",
     "output_type": "stream",
     "text": []
    },
    {
     "name": "stderr",
     "output_type": "stream",
     "text": [
      "2023-03-30 00:14:31,602 - root - INFO - Applying color correction.\n"
     ]
    },
    {
     "name": "stdout",
     "output_type": "stream",
     "text": [
      "\u001b[36mAnimation frame: \u001b[0m92/120  \n",
      "Creating in-between cadence frame: 88; tween:0.25;\n",
      "Creating in-between cadence frame: 89; tween:0.50;\n",
      "Creating in-between cadence frame: 90; tween:0.75;\n",
      "Creating in-between cadence frame: 91; tween:1.00;\n",
      "\u001b[32mSeed: \u001b[0m2675932540\n",
      "\u001b[35mPrompt: \u001b[0m(high definition), beautiful,  A kaleidoscope of shapes and colors twisting and morphing into each other in a mesmerizing display.\n",
      "\u001b[91mNeg Prompt: \u001b[0m(NSFW), (ugly), noise, blur, fog, text,\n"
     ]
    },
    {
     "data": {
      "text/html": [
       "<pre style=\"white-space:pre;overflow-x:auto;line-height:normal;font-family:Menlo,'DejaVu Sans Mono',consolas,'Courier New',monospace\">╭─────┬───┬───────┬────┬────┬────┬────┬────┬────╮\n",
       "│<span style=\"font-weight: bold\">Steps</span>│<span style=\"font-weight: bold\">CFG</span>│<span style=\"font-weight: bold\">Denoise</span>│<span style=\"font-weight: bold\">Tr X</span>│<span style=\"font-weight: bold\">Tr Y</span>│<span style=\"font-weight: bold\">Tr Z</span>│<span style=\"font-weight: bold\">Ro X</span>│<span style=\"font-weight: bold\">Ro Y</span>│<span style=\"font-weight: bold\">Ro Z</span>│\n",
       "├─────┼───┼───────┼────┼────┼────┼────┼────┼────┤\n",
       "│ 25  │7.0│ 0.35  │ 0  │ 0  │0.5 │ 0  │ 0  │ 0  │\n",
       "╰─────┴───┴───────┴────┴────┴────┴────┴────┴────╯\n",
       "</pre>\n"
      ],
      "text/plain": [
       "╭─────┬───┬───────┬────┬────┬────┬────┬────┬────╮\n",
       "│\u001b[1mSteps\u001b[0m│\u001b[1mCFG\u001b[0m│\u001b[1mDenoise\u001b[0m│\u001b[1mTr X\u001b[0m│\u001b[1mTr Y\u001b[0m│\u001b[1mTr Z\u001b[0m│\u001b[1mRo X\u001b[0m│\u001b[1mRo Y\u001b[0m│\u001b[1mRo Z\u001b[0m│\n",
       "├─────┼───┼───────┼────┼────┼────┼────┼────┼────┤\n",
       "│ 25  │7.0│ 0.35  │ 0  │ 0  │0.5 │ 0  │ 0  │ 0  │\n",
       "╰─────┴───┴───────┴────┴────┴────┴────┴────┴────╯\n"
      ]
     },
     "metadata": {},
     "output_type": "display_data"
    },
    {
     "name": "stderr",
     "output_type": "stream",
     "text": [
      "2023-03-30 00:14:32,372 - root - INFO - Calibrating color correction.\n"
     ]
    },
    {
     "data": {
      "application/vnd.jupyter.widget-view+json": {
       "model_id": "636844fe058c43a482a0c9d370438621",
       "version_major": 2,
       "version_minor": 0
      },
      "text/plain": [
       "  0%|          | 0/9 [00:00<?, ?it/s]"
      ]
     },
     "metadata": {},
     "output_type": "display_data"
    },
    {
     "name": "stdout",
     "output_type": "stream",
     "text": []
    },
    {
     "name": "stderr",
     "output_type": "stream",
     "text": [
      "2023-03-30 00:14:34,270 - root - INFO - Applying color correction.\n"
     ]
    },
    {
     "name": "stdout",
     "output_type": "stream",
     "text": [
      "\u001b[36mAnimation frame: \u001b[0m96/120  \n",
      "Creating in-between cadence frame: 92; tween:0.25;\n",
      "Creating in-between cadence frame: 93; tween:0.50;\n",
      "Creating in-between cadence frame: 94; tween:0.75;\n",
      "Creating in-between cadence frame: 95; tween:1.00;\n",
      "\u001b[32mSeed: \u001b[0m2675932541\n",
      "\u001b[35mPrompt: \u001b[0m(high definition), beautiful,  A kaleidoscope of shapes and colors twisting and morphing into each other in a mesmerizing display.\n",
      "\u001b[91mNeg Prompt: \u001b[0m(NSFW), (ugly), noise, blur, fog, text,\n"
     ]
    },
    {
     "data": {
      "text/html": [
       "<pre style=\"white-space:pre;overflow-x:auto;line-height:normal;font-family:Menlo,'DejaVu Sans Mono',consolas,'Courier New',monospace\">╭─────┬───┬───────┬────┬────┬────┬────┬────┬────╮\n",
       "│<span style=\"font-weight: bold\">Steps</span>│<span style=\"font-weight: bold\">CFG</span>│<span style=\"font-weight: bold\">Denoise</span>│<span style=\"font-weight: bold\">Tr X</span>│<span style=\"font-weight: bold\">Tr Y</span>│<span style=\"font-weight: bold\">Tr Z</span>│<span style=\"font-weight: bold\">Ro X</span>│<span style=\"font-weight: bold\">Ro Y</span>│<span style=\"font-weight: bold\">Ro Z</span>│\n",
       "├─────┼───┼───────┼────┼────┼────┼────┼────┼────┤\n",
       "│ 25  │7.0│ 0.35  │ 0  │ 0  │0.5 │ 0  │ 0  │ 0  │\n",
       "╰─────┴───┴───────┴────┴────┴────┴────┴────┴────╯\n",
       "</pre>\n"
      ],
      "text/plain": [
       "╭─────┬───┬───────┬────┬────┬────┬────┬────┬────╮\n",
       "│\u001b[1mSteps\u001b[0m│\u001b[1mCFG\u001b[0m│\u001b[1mDenoise\u001b[0m│\u001b[1mTr X\u001b[0m│\u001b[1mTr Y\u001b[0m│\u001b[1mTr Z\u001b[0m│\u001b[1mRo X\u001b[0m│\u001b[1mRo Y\u001b[0m│\u001b[1mRo Z\u001b[0m│\n",
       "├─────┼───┼───────┼────┼────┼────┼────┼────┼────┤\n",
       "│ 25  │7.0│ 0.35  │ 0  │ 0  │0.5 │ 0  │ 0  │ 0  │\n",
       "╰─────┴───┴───────┴────┴────┴────┴────┴────┴────╯\n"
      ]
     },
     "metadata": {},
     "output_type": "display_data"
    },
    {
     "name": "stderr",
     "output_type": "stream",
     "text": [
      "2023-03-30 00:14:35,410 - root - INFO - Calibrating color correction.\n"
     ]
    },
    {
     "data": {
      "application/vnd.jupyter.widget-view+json": {
       "model_id": "7fc60b53d5bc434fa3e9b240ada9e849",
       "version_major": 2,
       "version_minor": 0
      },
      "text/plain": [
       "  0%|          | 0/9 [00:00<?, ?it/s]"
      ]
     },
     "metadata": {},
     "output_type": "display_data"
    },
    {
     "name": "stdout",
     "output_type": "stream",
     "text": []
    },
    {
     "name": "stderr",
     "output_type": "stream",
     "text": [
      "2023-03-30 00:14:37,230 - root - INFO - Applying color correction.\n"
     ]
    },
    {
     "name": "stdout",
     "output_type": "stream",
     "text": [
      "\u001b[36mAnimation frame: \u001b[0m100/120  \n",
      "Creating in-between cadence frame: 96; tween:0.25;\n",
      "Creating in-between cadence frame: 97; tween:0.50;\n",
      "Creating in-between cadence frame: 98; tween:0.75;\n",
      "Creating in-between cadence frame: 99; tween:1.00;\n",
      "\u001b[32mSeed: \u001b[0m2675932542\n",
      "\u001b[35mPrompt: \u001b[0m(high definition), beautiful,  A kaleidoscope of shapes and colors twisting and morphing into each other in a mesmerizing display.\n",
      "\u001b[91mNeg Prompt: \u001b[0m(NSFW), (ugly), noise, blur, fog, text,\n"
     ]
    },
    {
     "data": {
      "text/html": [
       "<pre style=\"white-space:pre;overflow-x:auto;line-height:normal;font-family:Menlo,'DejaVu Sans Mono',consolas,'Courier New',monospace\">╭─────┬───┬───────┬────┬────┬────┬────┬────┬────╮\n",
       "│<span style=\"font-weight: bold\">Steps</span>│<span style=\"font-weight: bold\">CFG</span>│<span style=\"font-weight: bold\">Denoise</span>│<span style=\"font-weight: bold\">Tr X</span>│<span style=\"font-weight: bold\">Tr Y</span>│<span style=\"font-weight: bold\">Tr Z</span>│<span style=\"font-weight: bold\">Ro X</span>│<span style=\"font-weight: bold\">Ro Y</span>│<span style=\"font-weight: bold\">Ro Z</span>│\n",
       "├─────┼───┼───────┼────┼────┼────┼────┼────┼────┤\n",
       "│ 25  │7.0│ 0.35  │ 0  │ 0  │0.5 │ 0  │ 0  │ 0  │\n",
       "╰─────┴───┴───────┴────┴────┴────┴────┴────┴────╯\n",
       "</pre>\n"
      ],
      "text/plain": [
       "╭─────┬───┬───────┬────┬────┬────┬────┬────┬────╮\n",
       "│\u001b[1mSteps\u001b[0m│\u001b[1mCFG\u001b[0m│\u001b[1mDenoise\u001b[0m│\u001b[1mTr X\u001b[0m│\u001b[1mTr Y\u001b[0m│\u001b[1mTr Z\u001b[0m│\u001b[1mRo X\u001b[0m│\u001b[1mRo Y\u001b[0m│\u001b[1mRo Z\u001b[0m│\n",
       "├─────┼───┼───────┼────┼────┼────┼────┼────┼────┤\n",
       "│ 25  │7.0│ 0.35  │ 0  │ 0  │0.5 │ 0  │ 0  │ 0  │\n",
       "╰─────┴───┴───────┴────┴────┴────┴────┴────┴────╯\n"
      ]
     },
     "metadata": {},
     "output_type": "display_data"
    },
    {
     "name": "stderr",
     "output_type": "stream",
     "text": [
      "2023-03-30 00:14:38,044 - root - INFO - Calibrating color correction.\n"
     ]
    },
    {
     "data": {
      "application/vnd.jupyter.widget-view+json": {
       "model_id": "5594b748f53b4d87be40aaaa125cf271",
       "version_major": 2,
       "version_minor": 0
      },
      "text/plain": [
       "  0%|          | 0/9 [00:00<?, ?it/s]"
      ]
     },
     "metadata": {},
     "output_type": "display_data"
    },
    {
     "name": "stdout",
     "output_type": "stream",
     "text": []
    },
    {
     "name": "stderr",
     "output_type": "stream",
     "text": [
      "2023-03-30 00:14:39,855 - root - INFO - Applying color correction.\n"
     ]
    },
    {
     "name": "stdout",
     "output_type": "stream",
     "text": [
      "\u001b[36mAnimation frame: \u001b[0m104/120  \n",
      "Creating in-between cadence frame: 100; tween:0.25;\n",
      "Creating in-between cadence frame: 101; tween:0.50;\n",
      "Creating in-between cadence frame: 102; tween:0.75;\n",
      "Creating in-between cadence frame: 103; tween:1.00;\n",
      "\u001b[32mSeed: \u001b[0m2675932543\n",
      "\u001b[35mPrompt: \u001b[0m(high definition), beautiful,  A kaleidoscope of shapes and colors twisting and morphing into each other in a mesmerizing display.\n",
      "\u001b[91mNeg Prompt: \u001b[0m(NSFW), (ugly), noise, blur, fog, text,\n"
     ]
    },
    {
     "data": {
      "text/html": [
       "<pre style=\"white-space:pre;overflow-x:auto;line-height:normal;font-family:Menlo,'DejaVu Sans Mono',consolas,'Courier New',monospace\">╭─────┬───┬───────┬────┬────┬────┬────┬────┬────╮\n",
       "│<span style=\"font-weight: bold\">Steps</span>│<span style=\"font-weight: bold\">CFG</span>│<span style=\"font-weight: bold\">Denoise</span>│<span style=\"font-weight: bold\">Tr X</span>│<span style=\"font-weight: bold\">Tr Y</span>│<span style=\"font-weight: bold\">Tr Z</span>│<span style=\"font-weight: bold\">Ro X</span>│<span style=\"font-weight: bold\">Ro Y</span>│<span style=\"font-weight: bold\">Ro Z</span>│\n",
       "├─────┼───┼───────┼────┼────┼────┼────┼────┼────┤\n",
       "│ 25  │7.0│ 0.35  │ 0  │ 0  │0.5 │ 0  │ 0  │ 0  │\n",
       "╰─────┴───┴───────┴────┴────┴────┴────┴────┴────╯\n",
       "</pre>\n"
      ],
      "text/plain": [
       "╭─────┬───┬───────┬────┬────┬────┬────┬────┬────╮\n",
       "│\u001b[1mSteps\u001b[0m│\u001b[1mCFG\u001b[0m│\u001b[1mDenoise\u001b[0m│\u001b[1mTr X\u001b[0m│\u001b[1mTr Y\u001b[0m│\u001b[1mTr Z\u001b[0m│\u001b[1mRo X\u001b[0m│\u001b[1mRo Y\u001b[0m│\u001b[1mRo Z\u001b[0m│\n",
       "├─────┼───┼───────┼────┼────┼────┼────┼────┼────┤\n",
       "│ 25  │7.0│ 0.35  │ 0  │ 0  │0.5 │ 0  │ 0  │ 0  │\n",
       "╰─────┴───┴───────┴────┴────┴────┴────┴────┴────╯\n"
      ]
     },
     "metadata": {},
     "output_type": "display_data"
    },
    {
     "name": "stderr",
     "output_type": "stream",
     "text": [
      "2023-03-30 00:14:40,676 - root - INFO - Calibrating color correction.\n"
     ]
    },
    {
     "data": {
      "application/vnd.jupyter.widget-view+json": {
       "model_id": "07dd02911cb24a4a8591c015eaf8957b",
       "version_major": 2,
       "version_minor": 0
      },
      "text/plain": [
       "  0%|          | 0/9 [00:00<?, ?it/s]"
      ]
     },
     "metadata": {},
     "output_type": "display_data"
    },
    {
     "name": "stdout",
     "output_type": "stream",
     "text": []
    },
    {
     "name": "stderr",
     "output_type": "stream",
     "text": [
      "2023-03-30 00:14:42,622 - root - INFO - Applying color correction.\n"
     ]
    },
    {
     "name": "stdout",
     "output_type": "stream",
     "text": [
      "\u001b[36mAnimation frame: \u001b[0m108/120  \n",
      "Creating in-between cadence frame: 104; tween:0.25;\n",
      "Creating in-between cadence frame: 105; tween:0.50;\n",
      "Creating in-between cadence frame: 106; tween:0.75;\n",
      "Creating in-between cadence frame: 107; tween:1.00;\n",
      "\u001b[32mSeed: \u001b[0m2675932544\n",
      "\u001b[35mPrompt: \u001b[0m(high definition), beautiful,  A kaleidoscope of shapes and colors twisting and morphing into each other in a mesmerizing display.\n",
      "\u001b[91mNeg Prompt: \u001b[0m(NSFW), (ugly), noise, blur, fog, text,\n"
     ]
    },
    {
     "data": {
      "text/html": [
       "<pre style=\"white-space:pre;overflow-x:auto;line-height:normal;font-family:Menlo,'DejaVu Sans Mono',consolas,'Courier New',monospace\">╭─────┬───┬───────┬────┬────┬────┬────┬────┬────╮\n",
       "│<span style=\"font-weight: bold\">Steps</span>│<span style=\"font-weight: bold\">CFG</span>│<span style=\"font-weight: bold\">Denoise</span>│<span style=\"font-weight: bold\">Tr X</span>│<span style=\"font-weight: bold\">Tr Y</span>│<span style=\"font-weight: bold\">Tr Z</span>│<span style=\"font-weight: bold\">Ro X</span>│<span style=\"font-weight: bold\">Ro Y</span>│<span style=\"font-weight: bold\">Ro Z</span>│\n",
       "├─────┼───┼───────┼────┼────┼────┼────┼────┼────┤\n",
       "│ 25  │7.0│ 0.35  │ 0  │ 0  │0.5 │ 0  │ 0  │ 0  │\n",
       "╰─────┴───┴───────┴────┴────┴────┴────┴────┴────╯\n",
       "</pre>\n"
      ],
      "text/plain": [
       "╭─────┬───┬───────┬────┬────┬────┬────┬────┬────╮\n",
       "│\u001b[1mSteps\u001b[0m│\u001b[1mCFG\u001b[0m│\u001b[1mDenoise\u001b[0m│\u001b[1mTr X\u001b[0m│\u001b[1mTr Y\u001b[0m│\u001b[1mTr Z\u001b[0m│\u001b[1mRo X\u001b[0m│\u001b[1mRo Y\u001b[0m│\u001b[1mRo Z\u001b[0m│\n",
       "├─────┼───┼───────┼────┼────┼────┼────┼────┼────┤\n",
       "│ 25  │7.0│ 0.35  │ 0  │ 0  │0.5 │ 0  │ 0  │ 0  │\n",
       "╰─────┴───┴───────┴────┴────┴────┴────┴────┴────╯\n"
      ]
     },
     "metadata": {},
     "output_type": "display_data"
    },
    {
     "name": "stderr",
     "output_type": "stream",
     "text": [
      "2023-03-30 00:14:43,429 - root - INFO - Calibrating color correction.\n"
     ]
    },
    {
     "data": {
      "application/vnd.jupyter.widget-view+json": {
       "model_id": "e860773de37344fa8a0ddea595fd553a",
       "version_major": 2,
       "version_minor": 0
      },
      "text/plain": [
       "  0%|          | 0/9 [00:00<?, ?it/s]"
      ]
     },
     "metadata": {},
     "output_type": "display_data"
    },
    {
     "name": "stdout",
     "output_type": "stream",
     "text": []
    },
    {
     "name": "stderr",
     "output_type": "stream",
     "text": [
      "2023-03-30 00:14:45,325 - root - INFO - Applying color correction.\n"
     ]
    },
    {
     "name": "stdout",
     "output_type": "stream",
     "text": [
      "\u001b[36mAnimation frame: \u001b[0m112/120  \n",
      "Creating in-between cadence frame: 108; tween:0.25;\n",
      "Creating in-between cadence frame: 109; tween:0.50;\n",
      "Creating in-between cadence frame: 110; tween:0.75;\n",
      "Creating in-between cadence frame: 111; tween:1.00;\n",
      "\u001b[32mSeed: \u001b[0m2675932545\n",
      "\u001b[35mPrompt: \u001b[0m(high definition), beautiful,  A kaleidoscope of shapes and colors twisting and morphing into each other in a mesmerizing display.\n",
      "\u001b[91mNeg Prompt: \u001b[0m(NSFW), (ugly), noise, blur, fog, text,\n"
     ]
    },
    {
     "data": {
      "text/html": [
       "<pre style=\"white-space:pre;overflow-x:auto;line-height:normal;font-family:Menlo,'DejaVu Sans Mono',consolas,'Courier New',monospace\">╭─────┬───┬───────┬────┬────┬────┬────┬────┬────╮\n",
       "│<span style=\"font-weight: bold\">Steps</span>│<span style=\"font-weight: bold\">CFG</span>│<span style=\"font-weight: bold\">Denoise</span>│<span style=\"font-weight: bold\">Tr X</span>│<span style=\"font-weight: bold\">Tr Y</span>│<span style=\"font-weight: bold\">Tr Z</span>│<span style=\"font-weight: bold\">Ro X</span>│<span style=\"font-weight: bold\">Ro Y</span>│<span style=\"font-weight: bold\">Ro Z</span>│\n",
       "├─────┼───┼───────┼────┼────┼────┼────┼────┼────┤\n",
       "│ 25  │7.0│ 0.35  │ 0  │ 0  │0.5 │ 0  │ 0  │ 0  │\n",
       "╰─────┴───┴───────┴────┴────┴────┴────┴────┴────╯\n",
       "</pre>\n"
      ],
      "text/plain": [
       "╭─────┬───┬───────┬────┬────┬────┬────┬────┬────╮\n",
       "│\u001b[1mSteps\u001b[0m│\u001b[1mCFG\u001b[0m│\u001b[1mDenoise\u001b[0m│\u001b[1mTr X\u001b[0m│\u001b[1mTr Y\u001b[0m│\u001b[1mTr Z\u001b[0m│\u001b[1mRo X\u001b[0m│\u001b[1mRo Y\u001b[0m│\u001b[1mRo Z\u001b[0m│\n",
       "├─────┼───┼───────┼────┼────┼────┼────┼────┼────┤\n",
       "│ 25  │7.0│ 0.35  │ 0  │ 0  │0.5 │ 0  │ 0  │ 0  │\n",
       "╰─────┴───┴───────┴────┴────┴────┴────┴────┴────╯\n"
      ]
     },
     "metadata": {},
     "output_type": "display_data"
    },
    {
     "name": "stderr",
     "output_type": "stream",
     "text": [
      "2023-03-30 00:14:46,091 - root - INFO - Calibrating color correction.\n"
     ]
    },
    {
     "data": {
      "application/vnd.jupyter.widget-view+json": {
       "model_id": "5ee825a6fc234df48510a79e7b5814e7",
       "version_major": 2,
       "version_minor": 0
      },
      "text/plain": [
       "  0%|          | 0/9 [00:00<?, ?it/s]"
      ]
     },
     "metadata": {},
     "output_type": "display_data"
    },
    {
     "name": "stdout",
     "output_type": "stream",
     "text": []
    },
    {
     "name": "stderr",
     "output_type": "stream",
     "text": [
      "2023-03-30 00:14:47,942 - root - INFO - Applying color correction.\n"
     ]
    },
    {
     "name": "stdout",
     "output_type": "stream",
     "text": [
      "\u001b[36mAnimation frame: \u001b[0m116/120  \n",
      "Creating in-between cadence frame: 112; tween:0.25;\n",
      "Creating in-between cadence frame: 113; tween:0.50;\n",
      "Creating in-between cadence frame: 114; tween:0.75;\n",
      "Creating in-between cadence frame: 115; tween:1.00;\n",
      "\u001b[32mSeed: \u001b[0m2675932546\n",
      "\u001b[35mPrompt: \u001b[0m(high definition), beautiful,  A kaleidoscope of shapes and colors twisting and morphing into each other in a mesmerizing display.\n",
      "\u001b[91mNeg Prompt: \u001b[0m(NSFW), (ugly), noise, blur, fog, text,\n"
     ]
    },
    {
     "data": {
      "text/html": [
       "<pre style=\"white-space:pre;overflow-x:auto;line-height:normal;font-family:Menlo,'DejaVu Sans Mono',consolas,'Courier New',monospace\">╭─────┬───┬───────┬────┬────┬────┬────┬────┬────╮\n",
       "│<span style=\"font-weight: bold\">Steps</span>│<span style=\"font-weight: bold\">CFG</span>│<span style=\"font-weight: bold\">Denoise</span>│<span style=\"font-weight: bold\">Tr X</span>│<span style=\"font-weight: bold\">Tr Y</span>│<span style=\"font-weight: bold\">Tr Z</span>│<span style=\"font-weight: bold\">Ro X</span>│<span style=\"font-weight: bold\">Ro Y</span>│<span style=\"font-weight: bold\">Ro Z</span>│\n",
       "├─────┼───┼───────┼────┼────┼────┼────┼────┼────┤\n",
       "│ 25  │7.0│ 0.35  │ 0  │ 0  │0.5 │ 0  │ 0  │ 0  │\n",
       "╰─────┴───┴───────┴────┴────┴────┴────┴────┴────╯\n",
       "</pre>\n"
      ],
      "text/plain": [
       "╭─────┬───┬───────┬────┬────┬────┬────┬────┬────╮\n",
       "│\u001b[1mSteps\u001b[0m│\u001b[1mCFG\u001b[0m│\u001b[1mDenoise\u001b[0m│\u001b[1mTr X\u001b[0m│\u001b[1mTr Y\u001b[0m│\u001b[1mTr Z\u001b[0m│\u001b[1mRo X\u001b[0m│\u001b[1mRo Y\u001b[0m│\u001b[1mRo Z\u001b[0m│\n",
       "├─────┼───┼───────┼────┼────┼────┼────┼────┼────┤\n",
       "│ 25  │7.0│ 0.35  │ 0  │ 0  │0.5 │ 0  │ 0  │ 0  │\n",
       "╰─────┴───┴───────┴────┴────┴────┴────┴────┴────╯\n"
      ]
     },
     "metadata": {},
     "output_type": "display_data"
    },
    {
     "name": "stderr",
     "output_type": "stream",
     "text": [
      "2023-03-30 00:14:48,777 - root - INFO - Calibrating color correction.\n"
     ]
    },
    {
     "data": {
      "application/vnd.jupyter.widget-view+json": {
       "model_id": "500d8d1c29d84ef9be52f5763c8ba2d1",
       "version_major": 2,
       "version_minor": 0
      },
      "text/plain": [
       "  0%|          | 0/9 [00:00<?, ?it/s]"
      ]
     },
     "metadata": {},
     "output_type": "display_data"
    },
    {
     "name": "stdout",
     "output_type": "stream",
     "text": []
    },
    {
     "name": "stderr",
     "output_type": "stream",
     "text": [
      "2023-03-30 00:14:50,644 - root - INFO - Applying color correction.\n"
     ]
    },
    {
     "name": "stdout",
     "output_type": "stream",
     "text": [
      "Deforum progress: 100%|██████████| 286/286 [01:23<00:00,  3.41it/s]\n",
      "Got a request to stitch frames to video using FFmpeg.\n",
      "Frames:\n",
      "F:\\gg\\stable\\outputs/img2img-images\\Deforum_20230330001320\\20230330001320_%09d.png\n",
      "To Video:\n",
      "F:\\gg\\stable\\outputs/img2img-images\\Deforum_20230330001320\\20230330001320.mp4\n"
     ]
    },
    {
     "data": {
      "text/html": [
       "<pre style=\"white-space:pre;overflow-x:auto;line-height:normal;font-family:Menlo,'DejaVu Sans Mono',consolas,'Courier New',monospace\"><span style=\"color: #808000; text-decoration-color: #808000\">Stitching *video*...</span></pre>\n"
      ],
      "text/plain": [
       "\u001b[5;33mStitching *video*\u001b[0m\u001b[5;33m...\u001b[0m"
      ]
     },
     "metadata": {},
     "output_type": "display_data"
    },
    {
     "name": "stdout",
     "output_type": "stream",
     "text": [
      "Stitching *video*...\n",
      "Video stitching \u001b[0;32mdone\u001b[0m in 0.90 seconds!\n"
     ]
    },
    {
     "data": {
      "text/html": [
       "<pre style=\"white-space:pre;overflow-x:auto;line-height:normal;font-family:Menlo,'DejaVu Sans Mono',consolas,'Courier New',monospace\"><span style=\"color: #808000; text-decoration-color: #808000\">Upscaling raw output PNGs using realesrgan-x4plus-anime at x4...</span></pre>\n"
      ],
      "text/plain": [
       "\u001b[5;33mUpscaling raw output PNGs using realesrgan-x4plus-anime at x4\u001b[0m\u001b[5;33m...\u001b[0m"
      ]
     },
     "metadata": {},
     "output_type": "display_data"
    },
    {
     "name": "stdout",
     "output_type": "stream",
     "text": [
      "Upscaling raw output PNGs using realesrgan-x4plus-anime at x4...\n",
      "Upscaling \u001b[0;32mdone\u001b[0m in 79.74 seconds!\n",
      "Got a request to stitch frames to video using FFmpeg.\n",
      "Frames:\n",
      "F:\\gg\\stable\\outputs/img2img-images\\Deforum_20230330001320\\20230330001320_upscaled\\20230330001320_%09d.png\n",
      "To Video:\n",
      "F:\\gg\\stable\\outputs/img2img-images\\Deforum_20230330001320\\20230330001320_Upscaled_x4.mp4\n"
     ]
    },
    {
     "data": {
      "text/html": [
       "<pre style=\"white-space:pre;overflow-x:auto;line-height:normal;font-family:Menlo,'DejaVu Sans Mono',consolas,'Courier New',monospace\"><span style=\"color: #808000; text-decoration-color: #808000\">Stitching *video*...</span></pre>\n"
      ],
      "text/plain": [
       "\u001b[5;33mStitching *video*\u001b[0m\u001b[5;33m...\u001b[0m"
      ]
     },
     "metadata": {},
     "output_type": "display_data"
    },
    {
     "name": "stdout",
     "output_type": "stream",
     "text": [
      "Stitching *video*...\n",
      "Video stitching \u001b[0;32mdone\u001b[0m in 34.68 seconds!\n"
     ]
    }
   ],
   "source": [
    "from scripts_2 import *\n",
    "import nbconvert\n",
    "import os\n",
    "import subprocess\n",
    "os.environ['CUDA_LAUNCH_BLOCKING'] = '1'\n",
    "\n",
    "os.chdir('F:/gg/') \n",
    "\n",
    "class stories():\n",
    "   def __init__(self):\n",
    "        self.john_serial_killer = john_serial_killer.john_serial_killer\n",
    "\n",
    "story = stories()\n",
    "\n",
    "# USABLES BELOW\n",
    "VOICE_GEN_ACTIVATE = False # generate voice from text ./voice_gen.ipynb\n",
    "GET_ARRAY_TXT_ACTIVATE = False # Format the text ./get_array_txt.ipynb #implement later\n",
    "\n",
    "IMAGE_GEN_ACTIVATE = False\n",
    "IMG2IMG_ACTIVATE = False\n",
    "STYLE_GEN_ACTIVATE = False\n",
    "FRAME_INTER_GEN_ACTIVATE = False\n",
    "VIDEO_HD_GEN_ACTIVATE = False #old version\n",
    "SRT_GEN_ACTIVATE = False\n",
    "FIRST_ORDER_ACTIVATE = False\n",
    "\n",
    "GENERATE_FULL_LQ_VIDEO = False\n",
    "DEFORUM =                True  #generate templates\n",
    "DUPLICATE_TEMPLATES_AND_HD_ACTIVATE = False # duplicate templates from animations and background and improve quality\n",
    "IMG_HD_GEN_ACTIVATE = False\n",
    "MERGE_AUDIO_ACTIVATE = False\n",
    "LIP_SYNC_ACTIVATE = False\n",
    "LIP_SYNC_HD_ACTIVATE = False\n",
    "ALPHA_ACTIVATE = False # Take img from lip_hd, remove the alpha and save in alpha, then merge with the bg in background gg folder and save it\n",
    "MERGE_VIDEO_ACTIVATE = False\n",
    "\n",
    "# EXCLUDE_IMG_GEN =  [0,1,2,3,4,5,6,7,8,9,10,11,12,13,14,15,16,19,21,22,23] # will not generate this indexes\n",
    "EXCLUDE_IMG_GEN =  []\n",
    "EXCLUDE_VIDEO_GEN =  [] # will not generate this indexes\n",
    "RECORD_AUDIO_AFTER = -1 # skilp until this number\n",
    "RECORD_VIDEO_AFTER = -1\n",
    "RECORD_FRAME_INTER_AFTER = -1 # -1 will start from the beginning\n",
    "RECORD_FRAME_INTER_HD_AFTER = -1 \n",
    "RECORD_FRAME_LIP = -1\n",
    "TEXT_IMAGE_GEN = story.john_serial_killer['image_generation']\n",
    "TEXT_VOICE_GEN = story.john_serial_killer['text_spoken']\n",
    "PROJECT_NAME = \"john test\"\n",
    "GEN_VIDEO = True\n",
    "IMG_NUMBER = 5\n",
    "IMG_NUMBER_IMG2IMG = 10\n",
    "SHOW_WEB_UI = True\n",
    "FPS = 15\n",
    "STATIC_BG = False\n",
    "PROJECT_BACKGROUND = \"230313 - castle\"\n",
    "LOCATION_STATIC_PNG = \"F:/gg/background/1.png\"\n",
    "\n",
    "SHOW_OUTPUT = True\n",
    "THUMBNAIL = \"Thumbnail for a youtube video with the title: Jack and the Jewel - Amazing story.\"  \n",
    "PROMPT_IMG =  \"High definition, realistic, highly detailed, illustration, digital painting, artstation, smooth, sharp focus, concept art, elegant and without text of: \"\n",
    "PROMPT_IMG = \"a beautiful cinematic render of anime, fine art, intricate, masterpiece, high definition, realistic, highly detailed, smooth, sharp focus, concept art, elegant\"\n",
    "PROMPT_IMG = \"a beautiful cinematic render, fine art, intricate, masterpiece, high definition, (((artistic))), highly detailed, smooth, sharp focus, concept art, elegant of: \"\n",
    "NEGATIVE_P = \"ugly, morbid, cloned face, missing legs, tiling, extra fingers, mutation, bad anatomy,gross proportions, \\\n",
    "   missing arm, long neck, duplicate, poorly drawn hands, poorly drawn feet, poorly drawn face, out of frame, extra limbs, \\\n",
    "   disfigured, deformed, body out of frame, blurry, blurred, watermark, grainy, signature, cut off, draft, \"\n",
    "#SPEAKER = Naoto Shirogane; SPEAKER = \"Celestia\"; SPEAKER = \"Engineer\"; SPEAKER\n",
    "#= \"Starlight\"; SPEAKER = \"Yosuke Hanamura\"; SPEAKER = \"Ryotaro Dojima\"; SPEAKER\n",
    "#= \"Kanji Tatsumi\"; SPEAKER = \"Sweetie Belle\";\n",
    "\n",
    "SPEAKER = \"Ryotaro Dojima\"  \n",
    "TALKING_SPEED = 1 \n",
    "STYLES_FOLDER = \".\\\\styles\"\n",
    "SECONDS_SILENCE = 0.75\n",
    "SKIP_VIDEO = []\n",
    "MERGE_VIDEO = True\n",
    "MODEL_14 = False\n",
    "LANGUAGES = ['pt','fr','de','hi','it','ja','es','id']\n",
    "INSERT_BACKGROUND = False\n",
    "SAVE_FOLDER = \"D://Deletar//p_gen\"\n",
    "\n",
    "if MODEL_14:\n",
    "   WIDTH = 512\n",
    "   HEIGHT = 512\n",
    "else:\n",
    "   WIDTH = 768\n",
    "   HEIGHT = 768\n",
    "\n",
    "%store WIDTH\n",
    "%store HEIGHT\n",
    "%store TEXT_IMAGE_GEN\n",
    "%store TEXT_VOICE_GEN\n",
    "%store IMG_NUMBER\n",
    "%store SAVE_FOLDER\n",
    "%store PROJECT_NAME\n",
    "%store SHOW_OUTPUT\n",
    "%store THUMBNAIL\n",
    "%store PROMPT_IMG\n",
    "%store SPEAKER\n",
    "%store TALKING_SPEED\n",
    "%store STYLES_FOLDER\n",
    "%store SECONDS_SILENCE\n",
    "%store EXCLUDE_IMG_GEN\n",
    "%store SKIP_VIDEO\n",
    "%store MERGE_VIDEO\n",
    "%store NEGATIVE_P\n",
    "%store MODEL_14\n",
    "%store LANGUAGES\n",
    "%store GEN_VIDEO\n",
    "%store INSERT_BACKGROUND\n",
    "%store RECORD_AUDIO_AFTER\n",
    "%store RECORD_VIDEO_AFTER\n",
    "%store RECORD_FRAME_INTER_AFTER\n",
    "%store RECORD_FRAME_INTER_HD_AFTER\n",
    "%store IMG_NUMBER_IMG2IMG\n",
    "%store RECORD_FRAME_LIP\n",
    "%store FPS\n",
    "%store STATIC_BG\n",
    "%store LOCATION_STATIC_PNG\n",
    "%store PROJECT_BACKGROUND\n",
    "\n",
    "if VOICE_GEN_ACTIVATE:\n",
    "    %run ./voice_gen.ipynb\n",
    "   \n",
    "\n",
    "if IMAGE_GEN_ACTIVATE:\n",
    "    %run ./generate_video.ipynb\n",
    "\n",
    "if IMG2IMG_ACTIVATE:\n",
    "   %run ./img2img.ipynb\n",
    "\n",
    "if STYLE_GEN_ACTIVATE:\n",
    "   %run ./style_transfer.ipynb\n",
    "\n",
    "if FRAME_INTER_GEN_ACTIVATE:\n",
    "   %run ./frame_inter.ipynb\n",
    "\n",
    "if VIDEO_HD_GEN_ACTIVATE:\n",
    "   %run ./high_res_video.ipynb\n",
    "\n",
    "if SRT_GEN_ACTIVATE:\n",
    "   %run ./create_srt.ipynb\n",
    "\n",
    "if FIRST_ORDER_ACTIVATE:\n",
    "   # %run ./first_order/first-order-model/demo.py --config first_order/first-order-model/config/vox-256.yaml --driving_video first_order/final.mp4 --source_image first_order/result0.jpg --checkpoint first_order/first-order-model/checkpoint/vox-cpk.pth.tar --relative --adapt_scale\n",
    "   %run ./first_order/first-order-model/first_order.ipynb\n",
    "\n",
    "\n",
    "\n",
    "if GENERATE_FULL_LQ_VIDEO:\n",
    "   # %run ./deforum/run.ipynb --enable_animation_mode --settings\n",
    "   # \"./deforum/runSettings_Template.txt\" --model \"v1-5-pruned-emaonly.ckpt\"\n",
    "   %run ./deforum/run.ipynb\n",
    "\n",
    "if DEFORUM:\n",
    "   #os.chdir('./stable/')\n",
    "   os.chdir('F:/gg/stable/')  \n",
    "   if SHOW_WEB_UI:\n",
    "      %run launch.py --xformers --enable-insecure-extension-access\n",
    "   else:\n",
    "      %run launch.py --xformers --enable-insecure-extension-access --hide_web_ui --skip-python-version-check\n",
    "      %run ./extensions/deforum/scripts/deforum.ipynb\n",
    "   os.chdir('F:/gg/')    \n",
    "   #%run launch.py --share --xformers --enable-insecure-extension-access\n",
    "\n",
    "if IMG_HD_GEN_ACTIVATE:\n",
    "   %run ./highRes.ipynb\n",
    "\n",
    "if MERGE_AUDIO_ACTIVATE:\n",
    "   %run ./merge_audio.ipynb\n",
    "\n",
    "if LIP_SYNC_ACTIVATE:\n",
    "   %run ./lip/lip.ipynb \n",
    "\n",
    "if LIP_SYNC_HD_ACTIVATE:\n",
    "   %run ./lip_hd.ipynb \n",
    "\n",
    "if ALPHA_ACTIVATE:\n",
    "   %run ./get_alpha.ipynb\n",
    "\n",
    "if MERGE_VIDEO_ACTIVATE:\n",
    "   %run ./merge_video.ipynb \n",
    "\n",
    "if DUPLICATE_TEMPLATES_AND_HD_ACTIVATE:\n",
    "   %run ./duplicate_redim.ipynb\n",
    "   \"\"\"    cmd = [\"python\", \"duplicate_redim.py\", \"--exclude-img-gen\", EXCLUDE_IMG_GEN]\n",
    "   p = subprocess.Popen(cmd)\n",
    "   p.wait() \"\"\"\n",
    "   \n",
    "\n",
    "\n"
   ]
  }
 ],
 "metadata": {
  "kernelspec": {
   "display_name": "Pyflow",
   "language": "python",
   "name": "python3"
  },
  "language_info": {
   "codemirror_mode": {
    "name": "ipython",
    "version": 3
   },
   "file_extension": ".py",
   "mimetype": "text/x-python",
   "name": "python",
   "nbconvert_exporter": "python",
   "pygments_lexer": "ipython3",
   "version": "3.9.16 (main, Jan 11 2023, 16:16:36) [MSC v.1916 64 bit (AMD64)]"
  },
  "orig_nbformat": 4,
  "vscode": {
   "interpreter": {
    "hash": "6cb0dd519e46c84f14fc2d0d6172fde6407ecb78b6d95b871c78761f2e6e52fb"
   }
  }
 },
 "nbformat": 4,
 "nbformat_minor": 2
}
