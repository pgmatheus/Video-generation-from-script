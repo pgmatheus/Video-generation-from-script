{
 "cells": [
  {
   "cell_type": "code",
   "execution_count": 1,
   "metadata": {},
   "outputs": [
    {
     "name": "stdout",
     "output_type": "stream",
     "text": [
      "Stored 'WIDTH' (int)\n",
      "Stored 'HEIGHT' (int)\n",
      "Stored 'TEXT_IMAGE_GEN' (dict)\n",
      "Stored 'TEXT_VOICE_GEN' (dict)\n",
      "Stored 'IMG_NUMBER' (int)\n",
      "Stored 'SAVE_FOLDER' (str)\n",
      "Stored 'PROJECT_NAME' (str)\n",
      "Stored 'SHOW_OUTPUT' (bool)\n",
      "Stored 'THUMBNAIL' (str)\n",
      "Stored 'PROMPT_IMG' (str)\n",
      "Stored 'SPEAKER' (str)\n",
      "Stored 'TALKING_SPEED' (int)\n",
      "Stored 'STYLES_FOLDER' (str)\n",
      "Stored 'SECONDS_SILENCE' (float)\n",
      "Stored 'EXCLUDE_IMG_GEN' (list)\n",
      "Stored 'SKIP_VIDEO' (list)\n",
      "Stored 'MERGE_VIDEO' (bool)\n",
      "Stored 'NEGATIVE_P' (str)\n",
      "Stored 'MODEL_14' (bool)\n",
      "Stored 'LANGUAGES' (list)\n",
      "Stored 'GEN_VIDEO' (bool)\n",
      "Stored 'INSERT_BACKGROUND' (bool)\n",
      "Stored 'RECORD_AUDIO_AFTER' (int)\n",
      "Stored 'RECORD_VIDEO_AFTER' (int)\n",
      "Stored 'RECORD_FRAME_INTER_AFTER' (int)\n",
      "Stored 'RECORD_FRAME_INTER_HD_AFTER' (int)\n",
      "Stored 'IMG_NUMBER_IMG2IMG' (int)\n",
      "Stored 'RECORD_FRAME_LIP' (int)\n",
      "Python 3.9.16 (main, Jan 11 2023, 16:16:36) [MSC v.1916 64 bit (AMD64)]\n",
      "Commit hash: 0cc0ee1bcb4c24a8c9715f66cede06601bfc00c8\n"
     ]
    },
    {
     "name": "stderr",
     "output_type": "stream",
     "text": [
      "==============================================================================================================\n",
      "INCOMPATIBLE PYTHON VERSION\n",
      "\n",
      "This program is tested with 3.10.6 Python, but you have 3.9.16.\n",
      "If you encounter an error with \"RuntimeError: Couldn't install torch.\" message,\n",
      "or any other error regarding unsuccessful package (library) installation,\n",
      "please downgrade (or upgrade) to the latest version of 3.10 Python\n",
      "and delete current Python and \"venv\" folder in WebUI's directory.\n",
      "\n",
      "You can download 3.10 Python from here: https://www.python.org/downloads/release/python-3109/\n",
      "\n",
      "Alternatively, use a binary release of WebUI: https://github.com/AUTOMATIC1111/stable-diffusion-webui/releases\n",
      "\n",
      "Use --skip-python-version-check to suppress this warning.\n",
      "==============================================================================================================\n"
     ]
    },
    {
     "name": "stdout",
     "output_type": "stream",
     "text": [
      "Installing requirements for Web UI\n",
      "\n",
      "\n",
      "Launching Web UI with arguments: --share --xformers --enable-insecure-extension-access --hide_web_ui\n",
      "\u001b[33mFailed to import controlnet! The exact error is cannot import name 'controlnet' from 'scripts' (f:\\gg\\scripts\\__init__.py). Deforum support for ControlNet will not be activated\u001b[0m\n",
      "Loading weights [6ce0161689] from F:\\gg\\stable\\models\\Stable-diffusion\\v1-5-pruned-emaonly.safetensors\n"
     ]
    },
    {
     "name": "stderr",
     "output_type": "stream",
     "text": [
      "Error loading script: api.py\n",
      "Traceback (most recent call last):\n",
      "  File \"F:\\gg\\stable\\modules\\scripts.py\", line 229, in load_scripts\n",
      "    script_module = script_loading.load_module(scriptfile.path)\n",
      "  File \"F:\\gg\\stable\\modules\\script_loading.py\", line 11, in load_module\n",
      "    module_spec.loader.exec_module(module)\n",
      "  File \"<frozen importlib._bootstrap_external>\", line 850, in exec_module\n",
      "  File \"<frozen importlib._bootstrap>\", line 228, in _call_with_frames_removed\n",
      "  File \"F:\\gg\\stable\\extensions\\sd-webui-controlnet\\scripts\\api.py\", line 18, in <module>\n",
      "    from scripts.controlnet import update_cn_models, cn_models_names\n",
      "ModuleNotFoundError: No module named 'scripts.controlnet'\n",
      "\n",
      "Error loading script: controlnet.py\n",
      "Traceback (most recent call last):\n",
      "  File \"F:\\gg\\stable\\modules\\scripts.py\", line 229, in load_scripts\n",
      "    script_module = script_loading.load_module(scriptfile.path)\n",
      "  File \"F:\\gg\\stable\\modules\\script_loading.py\", line 11, in load_module\n",
      "    module_spec.loader.exec_module(module)\n",
      "  File \"<frozen importlib._bootstrap_external>\", line 850, in exec_module\n",
      "  File \"<frozen importlib._bootstrap>\", line 228, in _call_with_frames_removed\n",
      "  File \"F:\\gg\\stable\\extensions\\sd-webui-controlnet\\scripts\\controlnet.py\", line 14, in <module>\n",
      "    from scripts.cldm import PlugableControlModel\n",
      "ModuleNotFoundError: No module named 'scripts.cldm'\n",
      "\n"
     ]
    },
    {
     "name": "stdout",
     "output_type": "stream",
     "text": [
      "Creating model from config: F:\\gg\\stable\\configs\\v1-inference.yaml\n",
      "LatentDiffusion: Running in eps-prediction mode\n",
      "DiffusionWrapper has 859.52 M params.\n",
      "Applying xformers cross attention optimization.\n",
      "Textual inversion embeddings loaded(0): \n",
      "Model loaded in 13.6s (load weights from disk: 0.2s, create model: 0.4s, apply weights to model: 10.4s, apply half(): 0.8s, move model to device: 1.0s, load textual inversion embeddings: 0.8s).\n",
      "Saving animation frames to:\n",
      "f:\\stable\\stable\\outputs/img2img-images\\Deforum2\n",
      "verify\n",
      "F:\\stable\\stable\\models/Deforum\n",
      "verify2\n",
      "True\n",
      "init\n",
      "<deforum_helpers.depth.DepthModel object at 0x000001EDBDAAB5E0>\n",
      "ending\n",
      "Loading base model ()...Done.\n",
      "Removing last two layers (global_pool & classifier).\n",
      "Building Encoder-Decoder model..Done.\n",
      "\u001b[36mAnimation frame: \u001b[0m0/180  \n",
      "\u001b[32mSeed: \u001b[0m-1\n",
      "\u001b[35mPrompt: \u001b[0mpile of coins, beautiful picture, cinematic, high detailed, photorealistic\n",
      "\u001b[91mNeg Prompt: \u001b[0m(text), (deformed iris, deformed pupils, semi-realistic, cgi, 3d, render, sketch, cartoon, drawing, anime:1.4), close up, cropped, out of frame, worst quality, low quality, jpeg artifacts, ugly, duplicate, morbid, mutilated, extra fingers, mutated hands, poorly drawn hands, poorly drawn face, mutation, deformed, blurry, dehydrated, bad anatomy, bad proportions, extra limbs, cloned face, disfigured, gross proportions, malformed limbs, missing arms, missing legs, extra arms, extra legs, fused fingers, too many fingers, long neck\n"
     ]
    },
    {
     "data": {
      "text/html": [
       "<pre style=\"white-space:pre;overflow-x:auto;line-height:normal;font-family:Menlo,'DejaVu Sans Mono',consolas,'Courier New',monospace\">╭────┬────┬────┬────┬────┬────╮\n",
       "│<span style=\"font-weight: bold\">Tr X</span>│<span style=\"font-weight: bold\">Tr Y</span>│<span style=\"font-weight: bold\">Tr Z</span>│<span style=\"font-weight: bold\">Ro X</span>│<span style=\"font-weight: bold\">Ro Y</span>│<span style=\"font-weight: bold\">Ro Z</span>│\n",
       "├────┼────┼────┼────┼────┼────┤\n",
       "│0.0 │0.0 │0.0 │0.0 │0.0 │0.0 │\n",
       "╰────┴────┴────┴────┴────┴────╯\n",
       "</pre>\n"
      ],
      "text/plain": [
       "╭────┬────┬────┬────┬────┬────╮\n",
       "│\u001b[1mTr X\u001b[0m│\u001b[1mTr Y\u001b[0m│\u001b[1mTr Z\u001b[0m│\u001b[1mRo X\u001b[0m│\u001b[1mRo Y\u001b[0m│\u001b[1mRo Z\u001b[0m│\n",
       "├────┼────┼────┼────┼────┼────┤\n",
       "│0.0 │0.0 │0.0 │0.0 │0.0 │0.0 │\n",
       "╰────┴────┴────┴────┴────┴────╯\n"
      ]
     },
     "metadata": {},
     "output_type": "display_data"
    },
    {
     "name": "stdout",
     "output_type": "stream",
     "text": [
      "\n",
      "No init image, but strength > 0. Strength has been auto set to 0, since use_init is False.\n",
      "If you want to force strength > 0 with no init, please set strength_0_no_init to False.\n",
      "\n",
      "Not using an init image (doing pure txt2img)\n"
     ]
    },
    {
     "data": {
      "text/html": [
       "<pre style=\"white-space:pre;overflow-x:auto;line-height:normal;font-family:Menlo,'DejaVu Sans Mono',consolas,'Courier New',monospace\">╭─────┬───┬───────╮\n",
       "│<span style=\"font-weight: bold\">Steps</span>│<span style=\"font-weight: bold\">CFG</span>│<span style=\"font-weight: bold\">Denoise</span>│\n",
       "├─────┼───┼───────┤\n",
       "│ 25  │7.0│ None  │\n",
       "╰─────┴───┴───────╯\n",
       "</pre>\n"
      ],
      "text/plain": [
       "╭─────┬───┬───────╮\n",
       "│\u001b[1mSteps\u001b[0m│\u001b[1mCFG\u001b[0m│\u001b[1mDenoise\u001b[0m│\n",
       "├─────┼───┼───────┤\n",
       "│ 25  │7.0│ None  │\n",
       "╰─────┴───┴───────╯\n"
      ]
     },
     "metadata": {},
     "output_type": "display_data"
    },
    {
     "data": {
      "application/vnd.jupyter.widget-view+json": {
       "model_id": "94c97bb3f2bd4e808bb92fb891dd8062",
       "version_major": 2,
       "version_minor": 0
      },
      "text/plain": [
       "  0%|          | 0/25 [00:00<?, ?it/s]"
      ]
     },
     "metadata": {},
     "output_type": "display_data"
    },
    {
     "name": "stdout",
     "output_type": "stream",
     "text": [
      "\u001b[36mAnimation frame: \u001b[0m8/180  \n",
      " Creating in-between frame: 0; tween:0.12;\n",
      " Creating in-between frame: 1; tween:0.25;\n",
      " Creating in-between frame: 2; tween:0.38;\n",
      " Creating in-between frame: 3; tween:0.50;\n",
      " Creating in-between frame: 4; tween:0.62;\n",
      " Creating in-between frame: 5; tween:0.75;\n",
      " Creating in-between frame: 6; tween:0.88;\n",
      " Creating in-between frame: 7; tween:1.00;\n",
      "\u001b[32mSeed: \u001b[0m0\n",
      "\u001b[35mPrompt: \u001b[0mpile of coins, beautiful picture, cinematic, high detailed, photorealistic\n",
      "\u001b[91mNeg Prompt: \u001b[0m(text), (deformed iris, deformed pupils, semi-realistic, cgi, 3d, render, sketch, cartoon, drawing, anime:1.4), close up, cropped, out of frame, worst quality, low quality, jpeg artifacts, ugly, duplicate, morbid, mutilated, extra fingers, mutated hands, poorly drawn hands, poorly drawn face, mutation, deformed, blurry, dehydrated, bad anatomy, bad proportions, extra limbs, cloned face, disfigured, gross proportions, malformed limbs, missing arms, missing legs, extra arms, extra legs, fused fingers, too many fingers, long neck\n"
     ]
    },
    {
     "data": {
      "text/html": [
       "<pre style=\"white-space:pre;overflow-x:auto;line-height:normal;font-family:Menlo,'DejaVu Sans Mono',consolas,'Courier New',monospace\">╭────┬────┬────┬────┬────┬────╮\n",
       "│<span style=\"font-weight: bold\">Tr X</span>│<span style=\"font-weight: bold\">Tr Y</span>│<span style=\"font-weight: bold\">Tr Z</span>│<span style=\"font-weight: bold\">Ro X</span>│<span style=\"font-weight: bold\">Ro Y</span>│<span style=\"font-weight: bold\">Ro Z</span>│\n",
       "├────┼────┼────┼────┼────┼────┤\n",
       "│0.0 │0.0 │0.0 │0.0 │0.0 │0.0 │\n",
       "╰────┴────┴────┴────┴────┴────╯\n",
       "</pre>\n"
      ],
      "text/plain": [
       "╭────┬────┬────┬────┬────┬────╮\n",
       "│\u001b[1mTr X\u001b[0m│\u001b[1mTr Y\u001b[0m│\u001b[1mTr Z\u001b[0m│\u001b[1mRo X\u001b[0m│\u001b[1mRo Y\u001b[0m│\u001b[1mRo Z\u001b[0m│\n",
       "├────┼────┼────┼────┼────┼────┤\n",
       "│0.0 │0.0 │0.0 │0.0 │0.0 │0.0 │\n",
       "╰────┴────┴────┴────┴────┴────╯\n"
      ]
     },
     "metadata": {},
     "output_type": "display_data"
    },
    {
     "data": {
      "text/html": [
       "<pre style=\"white-space:pre;overflow-x:auto;line-height:normal;font-family:Menlo,'DejaVu Sans Mono',consolas,'Courier New',monospace\">╭─────┬───┬───────╮\n",
       "│<span style=\"font-weight: bold\">Steps</span>│<span style=\"font-weight: bold\">CFG</span>│<span style=\"font-weight: bold\">Denoise</span>│\n",
       "├─────┼───┼───────┤\n",
       "│ 25  │7.0│ 0.25  │\n",
       "╰─────┴───┴───────╯\n",
       "</pre>\n"
      ],
      "text/plain": [
       "╭─────┬───┬───────╮\n",
       "│\u001b[1mSteps\u001b[0m│\u001b[1mCFG\u001b[0m│\u001b[1mDenoise\u001b[0m│\n",
       "├─────┼───┼───────┤\n",
       "│ 25  │7.0│ 0.25  │\n",
       "╰─────┴───┴───────╯\n"
      ]
     },
     "metadata": {},
     "output_type": "display_data"
    },
    {
     "name": "stderr",
     "output_type": "stream",
     "text": [
      "2023-03-03 14:47:13,985 - root - INFO - Calibrating color correction.\n"
     ]
    },
    {
     "data": {
      "application/vnd.jupyter.widget-view+json": {
       "model_id": "befbd40361b1485b9f45aac7f46f2b52",
       "version_major": 2,
       "version_minor": 0
      },
      "text/plain": [
       "  0%|          | 0/7 [00:00<?, ?it/s]"
      ]
     },
     "metadata": {},
     "output_type": "display_data"
    },
    {
     "name": "stdout",
     "output_type": "stream",
     "text": []
    },
    {
     "name": "stderr",
     "output_type": "stream",
     "text": [
      "2023-03-03 14:47:15,546 - root - INFO - Applying color correction.\n"
     ]
    },
    {
     "name": "stdout",
     "output_type": "stream",
     "text": [
      "\u001b[36mAnimation frame: \u001b[0m16/180  \n",
      " Creating in-between frame: 8; tween:0.12;\n",
      " Creating in-between frame: 9; tween:0.25;\n",
      " Creating in-between frame: 10; tween:0.38;\n",
      " Creating in-between frame: 11; tween:0.50;\n",
      " Creating in-between frame: 12; tween:0.62;\n",
      " Creating in-between frame: 13; tween:0.75;\n",
      " Creating in-between frame: 14; tween:0.88;\n",
      " Creating in-between frame: 15; tween:1.00;\n",
      "\u001b[32mSeed: \u001b[0m1\n",
      "\u001b[35mPrompt: \u001b[0mpile of coins, beautiful picture, cinematic, high detailed, photorealistic\n",
      "\u001b[91mNeg Prompt: \u001b[0m(text), (deformed iris, deformed pupils, semi-realistic, cgi, 3d, render, sketch, cartoon, drawing, anime:1.4), close up, cropped, out of frame, worst quality, low quality, jpeg artifacts, ugly, duplicate, morbid, mutilated, extra fingers, mutated hands, poorly drawn hands, poorly drawn face, mutation, deformed, blurry, dehydrated, bad anatomy, bad proportions, extra limbs, cloned face, disfigured, gross proportions, malformed limbs, missing arms, missing legs, extra arms, extra legs, fused fingers, too many fingers, long neck\n"
     ]
    },
    {
     "data": {
      "text/html": [
       "<pre style=\"white-space:pre;overflow-x:auto;line-height:normal;font-family:Menlo,'DejaVu Sans Mono',consolas,'Courier New',monospace\">╭────┬────┬────┬────┬────┬────╮\n",
       "│<span style=\"font-weight: bold\">Tr X</span>│<span style=\"font-weight: bold\">Tr Y</span>│<span style=\"font-weight: bold\">Tr Z</span>│<span style=\"font-weight: bold\">Ro X</span>│<span style=\"font-weight: bold\">Ro Y</span>│<span style=\"font-weight: bold\">Ro Z</span>│\n",
       "├────┼────┼────┼────┼────┼────┤\n",
       "│0.0 │0.0 │0.0 │0.0 │0.0 │0.0 │\n",
       "╰────┴────┴────┴────┴────┴────╯\n",
       "</pre>\n"
      ],
      "text/plain": [
       "╭────┬────┬────┬────┬────┬────╮\n",
       "│\u001b[1mTr X\u001b[0m│\u001b[1mTr Y\u001b[0m│\u001b[1mTr Z\u001b[0m│\u001b[1mRo X\u001b[0m│\u001b[1mRo Y\u001b[0m│\u001b[1mRo Z\u001b[0m│\n",
       "├────┼────┼────┼────┼────┼────┤\n",
       "│0.0 │0.0 │0.0 │0.0 │0.0 │0.0 │\n",
       "╰────┴────┴────┴────┴────┴────╯\n"
      ]
     },
     "metadata": {},
     "output_type": "display_data"
    },
    {
     "data": {
      "text/html": [
       "<pre style=\"white-space:pre;overflow-x:auto;line-height:normal;font-family:Menlo,'DejaVu Sans Mono',consolas,'Courier New',monospace\">╭─────┬───┬───────╮\n",
       "│<span style=\"font-weight: bold\">Steps</span>│<span style=\"font-weight: bold\">CFG</span>│<span style=\"font-weight: bold\">Denoise</span>│\n",
       "├─────┼───┼───────┤\n",
       "│ 25  │7.0│ 0.25  │\n",
       "╰─────┴───┴───────╯\n",
       "</pre>\n"
      ],
      "text/plain": [
       "╭─────┬───┬───────╮\n",
       "│\u001b[1mSteps\u001b[0m│\u001b[1mCFG\u001b[0m│\u001b[1mDenoise\u001b[0m│\n",
       "├─────┼───┼───────┤\n",
       "│ 25  │7.0│ 0.25  │\n",
       "╰─────┴───┴───────╯\n"
      ]
     },
     "metadata": {},
     "output_type": "display_data"
    },
    {
     "name": "stderr",
     "output_type": "stream",
     "text": [
      "2023-03-03 14:47:18,064 - root - INFO - Calibrating color correction.\n"
     ]
    },
    {
     "data": {
      "application/vnd.jupyter.widget-view+json": {
       "model_id": "d3f33f629cd4408497430ac66833f63d",
       "version_major": 2,
       "version_minor": 0
      },
      "text/plain": [
       "  0%|          | 0/7 [00:00<?, ?it/s]"
      ]
     },
     "metadata": {},
     "output_type": "display_data"
    },
    {
     "name": "stdout",
     "output_type": "stream",
     "text": []
    },
    {
     "name": "stderr",
     "output_type": "stream",
     "text": [
      "2023-03-03 14:47:19,504 - root - INFO - Applying color correction.\n"
     ]
    },
    {
     "name": "stdout",
     "output_type": "stream",
     "text": [
      "\u001b[36mAnimation frame: \u001b[0m24/180  \n",
      " Creating in-between frame: 16; tween:0.12;\n",
      " Creating in-between frame: 17; tween:0.25;\n",
      " Creating in-between frame: 18; tween:0.38;\n",
      " Creating in-between frame: 19; tween:0.50;\n",
      " Creating in-between frame: 20; tween:0.62;\n",
      " Creating in-between frame: 21; tween:0.75;\n",
      " Creating in-between frame: 22; tween:0.88;\n",
      " Creating in-between frame: 23; tween:1.00;\n",
      "\u001b[32mSeed: \u001b[0m2\n",
      "\u001b[35mPrompt: \u001b[0mpile of coins, beautiful picture, cinematic, high detailed, photorealistic\n",
      "\u001b[91mNeg Prompt: \u001b[0m(text), (deformed iris, deformed pupils, semi-realistic, cgi, 3d, render, sketch, cartoon, drawing, anime:1.4), close up, cropped, out of frame, worst quality, low quality, jpeg artifacts, ugly, duplicate, morbid, mutilated, extra fingers, mutated hands, poorly drawn hands, poorly drawn face, mutation, deformed, blurry, dehydrated, bad anatomy, bad proportions, extra limbs, cloned face, disfigured, gross proportions, malformed limbs, missing arms, missing legs, extra arms, extra legs, fused fingers, too many fingers, long neck\n"
     ]
    },
    {
     "data": {
      "text/html": [
       "<pre style=\"white-space:pre;overflow-x:auto;line-height:normal;font-family:Menlo,'DejaVu Sans Mono',consolas,'Courier New',monospace\">╭────┬────┬────┬────┬────┬────╮\n",
       "│<span style=\"font-weight: bold\">Tr X</span>│<span style=\"font-weight: bold\">Tr Y</span>│<span style=\"font-weight: bold\">Tr Z</span>│<span style=\"font-weight: bold\">Ro X</span>│<span style=\"font-weight: bold\">Ro Y</span>│<span style=\"font-weight: bold\">Ro Z</span>│\n",
       "├────┼────┼────┼────┼────┼────┤\n",
       "│0.0 │0.0 │0.0 │0.0 │0.0 │0.0 │\n",
       "╰────┴────┴────┴────┴────┴────╯\n",
       "</pre>\n"
      ],
      "text/plain": [
       "╭────┬────┬────┬────┬────┬────╮\n",
       "│\u001b[1mTr X\u001b[0m│\u001b[1mTr Y\u001b[0m│\u001b[1mTr Z\u001b[0m│\u001b[1mRo X\u001b[0m│\u001b[1mRo Y\u001b[0m│\u001b[1mRo Z\u001b[0m│\n",
       "├────┼────┼────┼────┼────┼────┤\n",
       "│0.0 │0.0 │0.0 │0.0 │0.0 │0.0 │\n",
       "╰────┴────┴────┴────┴────┴────╯\n"
      ]
     },
     "metadata": {},
     "output_type": "display_data"
    },
    {
     "data": {
      "text/html": [
       "<pre style=\"white-space:pre;overflow-x:auto;line-height:normal;font-family:Menlo,'DejaVu Sans Mono',consolas,'Courier New',monospace\">╭─────┬───┬───────╮\n",
       "│<span style=\"font-weight: bold\">Steps</span>│<span style=\"font-weight: bold\">CFG</span>│<span style=\"font-weight: bold\">Denoise</span>│\n",
       "├─────┼───┼───────┤\n",
       "│ 25  │7.0│ 0.25  │\n",
       "╰─────┴───┴───────╯\n",
       "</pre>\n"
      ],
      "text/plain": [
       "╭─────┬───┬───────╮\n",
       "│\u001b[1mSteps\u001b[0m│\u001b[1mCFG\u001b[0m│\u001b[1mDenoise\u001b[0m│\n",
       "├─────┼───┼───────┤\n",
       "│ 25  │7.0│ 0.25  │\n",
       "╰─────┴───┴───────╯\n"
      ]
     },
     "metadata": {},
     "output_type": "display_data"
    },
    {
     "name": "stderr",
     "output_type": "stream",
     "text": [
      "2023-03-03 14:47:21,993 - root - INFO - Calibrating color correction.\n"
     ]
    },
    {
     "data": {
      "application/vnd.jupyter.widget-view+json": {
       "model_id": "22dedc0968194f2daf98ccaca1152380",
       "version_major": 2,
       "version_minor": 0
      },
      "text/plain": [
       "  0%|          | 0/7 [00:00<?, ?it/s]"
      ]
     },
     "metadata": {},
     "output_type": "display_data"
    },
    {
     "name": "stdout",
     "output_type": "stream",
     "text": []
    },
    {
     "name": "stderr",
     "output_type": "stream",
     "text": [
      "2023-03-03 14:47:23,465 - root - INFO - Applying color correction.\n"
     ]
    },
    {
     "name": "stdout",
     "output_type": "stream",
     "text": [
      "\u001b[36mAnimation frame: \u001b[0m32/180  \n",
      " Creating in-between frame: 24; tween:0.12;\n",
      " Creating in-between frame: 25; tween:0.25;\n",
      " Creating in-between frame: 26; tween:0.38;\n",
      " Creating in-between frame: 27; tween:0.50;\n",
      " Creating in-between frame: 28; tween:0.62;\n",
      " Creating in-between frame: 29; tween:0.75;\n",
      " Creating in-between frame: 30; tween:0.88;\n",
      " Creating in-between frame: 31; tween:1.00;\n",
      "\u001b[32mSeed: \u001b[0m3\n",
      "\u001b[35mPrompt: \u001b[0mpile of coins, beautiful picture, cinematic, high detailed, photorealistic\n",
      "\u001b[91mNeg Prompt: \u001b[0m(text), (deformed iris, deformed pupils, semi-realistic, cgi, 3d, render, sketch, cartoon, drawing, anime:1.4), close up, cropped, out of frame, worst quality, low quality, jpeg artifacts, ugly, duplicate, morbid, mutilated, extra fingers, mutated hands, poorly drawn hands, poorly drawn face, mutation, deformed, blurry, dehydrated, bad anatomy, bad proportions, extra limbs, cloned face, disfigured, gross proportions, malformed limbs, missing arms, missing legs, extra arms, extra legs, fused fingers, too many fingers, long neck\n"
     ]
    },
    {
     "data": {
      "text/html": [
       "<pre style=\"white-space:pre;overflow-x:auto;line-height:normal;font-family:Menlo,'DejaVu Sans Mono',consolas,'Courier New',monospace\">╭────┬────┬────┬────┬────┬────╮\n",
       "│<span style=\"font-weight: bold\">Tr X</span>│<span style=\"font-weight: bold\">Tr Y</span>│<span style=\"font-weight: bold\">Tr Z</span>│<span style=\"font-weight: bold\">Ro X</span>│<span style=\"font-weight: bold\">Ro Y</span>│<span style=\"font-weight: bold\">Ro Z</span>│\n",
       "├────┼────┼────┼────┼────┼────┤\n",
       "│0.0 │0.0 │0.0 │0.0 │0.0 │0.0 │\n",
       "╰────┴────┴────┴────┴────┴────╯\n",
       "</pre>\n"
      ],
      "text/plain": [
       "╭────┬────┬────┬────┬────┬────╮\n",
       "│\u001b[1mTr X\u001b[0m│\u001b[1mTr Y\u001b[0m│\u001b[1mTr Z\u001b[0m│\u001b[1mRo X\u001b[0m│\u001b[1mRo Y\u001b[0m│\u001b[1mRo Z\u001b[0m│\n",
       "├────┼────┼────┼────┼────┼────┤\n",
       "│0.0 │0.0 │0.0 │0.0 │0.0 │0.0 │\n",
       "╰────┴────┴────┴────┴────┴────╯\n"
      ]
     },
     "metadata": {},
     "output_type": "display_data"
    },
    {
     "data": {
      "text/html": [
       "<pre style=\"white-space:pre;overflow-x:auto;line-height:normal;font-family:Menlo,'DejaVu Sans Mono',consolas,'Courier New',monospace\">╭─────┬───┬───────╮\n",
       "│<span style=\"font-weight: bold\">Steps</span>│<span style=\"font-weight: bold\">CFG</span>│<span style=\"font-weight: bold\">Denoise</span>│\n",
       "├─────┼───┼───────┤\n",
       "│ 25  │7.0│ 0.25  │\n",
       "╰─────┴───┴───────╯\n",
       "</pre>\n"
      ],
      "text/plain": [
       "╭─────┬───┬───────╮\n",
       "│\u001b[1mSteps\u001b[0m│\u001b[1mCFG\u001b[0m│\u001b[1mDenoise\u001b[0m│\n",
       "├─────┼───┼───────┤\n",
       "│ 25  │7.0│ 0.25  │\n",
       "╰─────┴───┴───────╯\n"
      ]
     },
     "metadata": {},
     "output_type": "display_data"
    },
    {
     "name": "stderr",
     "output_type": "stream",
     "text": [
      "2023-03-03 14:47:26,034 - root - INFO - Calibrating color correction.\n"
     ]
    },
    {
     "data": {
      "application/vnd.jupyter.widget-view+json": {
       "model_id": "4cc5b215684446b29e3a906adc2e755a",
       "version_major": 2,
       "version_minor": 0
      },
      "text/plain": [
       "  0%|          | 0/7 [00:00<?, ?it/s]"
      ]
     },
     "metadata": {},
     "output_type": "display_data"
    },
    {
     "name": "stdout",
     "output_type": "stream",
     "text": []
    },
    {
     "name": "stderr",
     "output_type": "stream",
     "text": [
      "2023-03-03 14:47:27,500 - root - INFO - Applying color correction.\n"
     ]
    },
    {
     "name": "stdout",
     "output_type": "stream",
     "text": [
      "\u001b[36mAnimation frame: \u001b[0m40/180  \n",
      " Creating in-between frame: 32; tween:0.12;\n",
      " Creating in-between frame: 33; tween:0.25;\n",
      " Creating in-between frame: 34; tween:0.38;\n",
      " Creating in-between frame: 35; tween:0.50;\n",
      " Creating in-between frame: 36; tween:0.62;\n",
      " Creating in-between frame: 37; tween:0.75;\n",
      " Creating in-between frame: 38; tween:0.88;\n",
      " Creating in-between frame: 39; tween:1.00;\n",
      "\u001b[32mSeed: \u001b[0m4\n",
      "\u001b[35mPrompt: \u001b[0mpile of coins, beautiful picture, cinematic, high detailed, photorealistic\n",
      "\u001b[91mNeg Prompt: \u001b[0m(text), (deformed iris, deformed pupils, semi-realistic, cgi, 3d, render, sketch, cartoon, drawing, anime:1.4), close up, cropped, out of frame, worst quality, low quality, jpeg artifacts, ugly, duplicate, morbid, mutilated, extra fingers, mutated hands, poorly drawn hands, poorly drawn face, mutation, deformed, blurry, dehydrated, bad anatomy, bad proportions, extra limbs, cloned face, disfigured, gross proportions, malformed limbs, missing arms, missing legs, extra arms, extra legs, fused fingers, too many fingers, long neck\n"
     ]
    },
    {
     "data": {
      "text/html": [
       "<pre style=\"white-space:pre;overflow-x:auto;line-height:normal;font-family:Menlo,'DejaVu Sans Mono',consolas,'Courier New',monospace\">╭────┬────┬────┬────┬────┬────╮\n",
       "│<span style=\"font-weight: bold\">Tr X</span>│<span style=\"font-weight: bold\">Tr Y</span>│<span style=\"font-weight: bold\">Tr Z</span>│<span style=\"font-weight: bold\">Ro X</span>│<span style=\"font-weight: bold\">Ro Y</span>│<span style=\"font-weight: bold\">Ro Z</span>│\n",
       "├────┼────┼────┼────┼────┼────┤\n",
       "│0.0 │0.0 │0.0 │0.0 │0.0 │0.0 │\n",
       "╰────┴────┴────┴────┴────┴────╯\n",
       "</pre>\n"
      ],
      "text/plain": [
       "╭────┬────┬────┬────┬────┬────╮\n",
       "│\u001b[1mTr X\u001b[0m│\u001b[1mTr Y\u001b[0m│\u001b[1mTr Z\u001b[0m│\u001b[1mRo X\u001b[0m│\u001b[1mRo Y\u001b[0m│\u001b[1mRo Z\u001b[0m│\n",
       "├────┼────┼────┼────┼────┼────┤\n",
       "│0.0 │0.0 │0.0 │0.0 │0.0 │0.0 │\n",
       "╰────┴────┴────┴────┴────┴────╯\n"
      ]
     },
     "metadata": {},
     "output_type": "display_data"
    },
    {
     "data": {
      "text/html": [
       "<pre style=\"white-space:pre;overflow-x:auto;line-height:normal;font-family:Menlo,'DejaVu Sans Mono',consolas,'Courier New',monospace\">╭─────┬───┬───────╮\n",
       "│<span style=\"font-weight: bold\">Steps</span>│<span style=\"font-weight: bold\">CFG</span>│<span style=\"font-weight: bold\">Denoise</span>│\n",
       "├─────┼───┼───────┤\n",
       "│ 25  │7.0│ 0.25  │\n",
       "╰─────┴───┴───────╯\n",
       "</pre>\n"
      ],
      "text/plain": [
       "╭─────┬───┬───────╮\n",
       "│\u001b[1mSteps\u001b[0m│\u001b[1mCFG\u001b[0m│\u001b[1mDenoise\u001b[0m│\n",
       "├─────┼───┼───────┤\n",
       "│ 25  │7.0│ 0.25  │\n",
       "╰─────┴───┴───────╯\n"
      ]
     },
     "metadata": {},
     "output_type": "display_data"
    },
    {
     "name": "stderr",
     "output_type": "stream",
     "text": [
      "2023-03-03 14:47:30,092 - root - INFO - Calibrating color correction.\n"
     ]
    },
    {
     "data": {
      "application/vnd.jupyter.widget-view+json": {
       "model_id": "f79017665e404d0999beca61ab8bfb22",
       "version_major": 2,
       "version_minor": 0
      },
      "text/plain": [
       "  0%|          | 0/7 [00:00<?, ?it/s]"
      ]
     },
     "metadata": {},
     "output_type": "display_data"
    },
    {
     "name": "stdout",
     "output_type": "stream",
     "text": []
    },
    {
     "name": "stderr",
     "output_type": "stream",
     "text": [
      "2023-03-03 14:47:31,566 - root - INFO - Applying color correction.\n"
     ]
    },
    {
     "name": "stdout",
     "output_type": "stream",
     "text": [
      "\u001b[36mAnimation frame: \u001b[0m48/180  \n",
      " Creating in-between frame: 40; tween:0.12;\n",
      " Creating in-between frame: 41; tween:0.25;\n",
      " Creating in-between frame: 42; tween:0.38;\n",
      " Creating in-between frame: 43; tween:0.50;\n",
      " Creating in-between frame: 44; tween:0.62;\n",
      " Creating in-between frame: 45; tween:0.75;\n",
      " Creating in-between frame: 46; tween:0.88;\n",
      " Creating in-between frame: 47; tween:1.00;\n",
      "\u001b[32mSeed: \u001b[0m5\n",
      "\u001b[35mPrompt: \u001b[0mpile of coins, beautiful picture, cinematic, high detailed, photorealistic\n",
      "\u001b[91mNeg Prompt: \u001b[0m(text), (deformed iris, deformed pupils, semi-realistic, cgi, 3d, render, sketch, cartoon, drawing, anime:1.4), close up, cropped, out of frame, worst quality, low quality, jpeg artifacts, ugly, duplicate, morbid, mutilated, extra fingers, mutated hands, poorly drawn hands, poorly drawn face, mutation, deformed, blurry, dehydrated, bad anatomy, bad proportions, extra limbs, cloned face, disfigured, gross proportions, malformed limbs, missing arms, missing legs, extra arms, extra legs, fused fingers, too many fingers, long neck\n"
     ]
    },
    {
     "data": {
      "text/html": [
       "<pre style=\"white-space:pre;overflow-x:auto;line-height:normal;font-family:Menlo,'DejaVu Sans Mono',consolas,'Courier New',monospace\">╭────┬────┬────┬────┬────┬────╮\n",
       "│<span style=\"font-weight: bold\">Tr X</span>│<span style=\"font-weight: bold\">Tr Y</span>│<span style=\"font-weight: bold\">Tr Z</span>│<span style=\"font-weight: bold\">Ro X</span>│<span style=\"font-weight: bold\">Ro Y</span>│<span style=\"font-weight: bold\">Ro Z</span>│\n",
       "├────┼────┼────┼────┼────┼────┤\n",
       "│0.0 │0.0 │0.0 │0.0 │0.0 │0.0 │\n",
       "╰────┴────┴────┴────┴────┴────╯\n",
       "</pre>\n"
      ],
      "text/plain": [
       "╭────┬────┬────┬────┬────┬────╮\n",
       "│\u001b[1mTr X\u001b[0m│\u001b[1mTr Y\u001b[0m│\u001b[1mTr Z\u001b[0m│\u001b[1mRo X\u001b[0m│\u001b[1mRo Y\u001b[0m│\u001b[1mRo Z\u001b[0m│\n",
       "├────┼────┼────┼────┼────┼────┤\n",
       "│0.0 │0.0 │0.0 │0.0 │0.0 │0.0 │\n",
       "╰────┴────┴────┴────┴────┴────╯\n"
      ]
     },
     "metadata": {},
     "output_type": "display_data"
    },
    {
     "data": {
      "text/html": [
       "<pre style=\"white-space:pre;overflow-x:auto;line-height:normal;font-family:Menlo,'DejaVu Sans Mono',consolas,'Courier New',monospace\">╭─────┬───┬───────╮\n",
       "│<span style=\"font-weight: bold\">Steps</span>│<span style=\"font-weight: bold\">CFG</span>│<span style=\"font-weight: bold\">Denoise</span>│\n",
       "├─────┼───┼───────┤\n",
       "│ 25  │7.0│ 0.25  │\n",
       "╰─────┴───┴───────╯\n",
       "</pre>\n"
      ],
      "text/plain": [
       "╭─────┬───┬───────╮\n",
       "│\u001b[1mSteps\u001b[0m│\u001b[1mCFG\u001b[0m│\u001b[1mDenoise\u001b[0m│\n",
       "├─────┼───┼───────┤\n",
       "│ 25  │7.0│ 0.25  │\n",
       "╰─────┴───┴───────╯\n"
      ]
     },
     "metadata": {},
     "output_type": "display_data"
    },
    {
     "name": "stderr",
     "output_type": "stream",
     "text": [
      "2023-03-03 14:47:34,190 - root - INFO - Calibrating color correction.\n"
     ]
    },
    {
     "data": {
      "application/vnd.jupyter.widget-view+json": {
       "model_id": "3f95afc3898e4a919a3c7aa30023b934",
       "version_major": 2,
       "version_minor": 0
      },
      "text/plain": [
       "  0%|          | 0/7 [00:00<?, ?it/s]"
      ]
     },
     "metadata": {},
     "output_type": "display_data"
    },
    {
     "name": "stdout",
     "output_type": "stream",
     "text": []
    },
    {
     "name": "stderr",
     "output_type": "stream",
     "text": [
      "2023-03-03 14:47:35,669 - root - INFO - Applying color correction.\n"
     ]
    },
    {
     "name": "stdout",
     "output_type": "stream",
     "text": [
      "\u001b[36mAnimation frame: \u001b[0m56/180  \n",
      " Creating in-between frame: 48; tween:0.12;\n",
      " Creating in-between frame: 49; tween:0.25;\n",
      " Creating in-between frame: 50; tween:0.38;\n",
      " Creating in-between frame: 51; tween:0.50;\n",
      " Creating in-between frame: 52; tween:0.62;\n",
      " Creating in-between frame: 53; tween:0.75;\n",
      " Creating in-between frame: 54; tween:0.88;\n",
      " Creating in-between frame: 55; tween:1.00;\n",
      "\u001b[32mSeed: \u001b[0m6\n",
      "\u001b[35mPrompt: \u001b[0mpile of coins, beautiful picture, cinematic, high detailed, photorealistic\n",
      "\u001b[91mNeg Prompt: \u001b[0m(text), (deformed iris, deformed pupils, semi-realistic, cgi, 3d, render, sketch, cartoon, drawing, anime:1.4), close up, cropped, out of frame, worst quality, low quality, jpeg artifacts, ugly, duplicate, morbid, mutilated, extra fingers, mutated hands, poorly drawn hands, poorly drawn face, mutation, deformed, blurry, dehydrated, bad anatomy, bad proportions, extra limbs, cloned face, disfigured, gross proportions, malformed limbs, missing arms, missing legs, extra arms, extra legs, fused fingers, too many fingers, long neck\n"
     ]
    },
    {
     "data": {
      "text/html": [
       "<pre style=\"white-space:pre;overflow-x:auto;line-height:normal;font-family:Menlo,'DejaVu Sans Mono',consolas,'Courier New',monospace\">╭────┬────┬────┬────┬────┬────╮\n",
       "│<span style=\"font-weight: bold\">Tr X</span>│<span style=\"font-weight: bold\">Tr Y</span>│<span style=\"font-weight: bold\">Tr Z</span>│<span style=\"font-weight: bold\">Ro X</span>│<span style=\"font-weight: bold\">Ro Y</span>│<span style=\"font-weight: bold\">Ro Z</span>│\n",
       "├────┼────┼────┼────┼────┼────┤\n",
       "│0.0 │0.0 │0.0 │0.0 │0.0 │0.0 │\n",
       "╰────┴────┴────┴────┴────┴────╯\n",
       "</pre>\n"
      ],
      "text/plain": [
       "╭────┬────┬────┬────┬────┬────╮\n",
       "│\u001b[1mTr X\u001b[0m│\u001b[1mTr Y\u001b[0m│\u001b[1mTr Z\u001b[0m│\u001b[1mRo X\u001b[0m│\u001b[1mRo Y\u001b[0m│\u001b[1mRo Z\u001b[0m│\n",
       "├────┼────┼────┼────┼────┼────┤\n",
       "│0.0 │0.0 │0.0 │0.0 │0.0 │0.0 │\n",
       "╰────┴────┴────┴────┴────┴────╯\n"
      ]
     },
     "metadata": {},
     "output_type": "display_data"
    },
    {
     "data": {
      "text/html": [
       "<pre style=\"white-space:pre;overflow-x:auto;line-height:normal;font-family:Menlo,'DejaVu Sans Mono',consolas,'Courier New',monospace\">╭─────┬───┬───────╮\n",
       "│<span style=\"font-weight: bold\">Steps</span>│<span style=\"font-weight: bold\">CFG</span>│<span style=\"font-weight: bold\">Denoise</span>│\n",
       "├─────┼───┼───────┤\n",
       "│ 25  │7.0│ 0.25  │\n",
       "╰─────┴───┴───────╯\n",
       "</pre>\n"
      ],
      "text/plain": [
       "╭─────┬───┬───────╮\n",
       "│\u001b[1mSteps\u001b[0m│\u001b[1mCFG\u001b[0m│\u001b[1mDenoise\u001b[0m│\n",
       "├─────┼───┼───────┤\n",
       "│ 25  │7.0│ 0.25  │\n",
       "╰─────┴───┴───────╯\n"
      ]
     },
     "metadata": {},
     "output_type": "display_data"
    },
    {
     "name": "stderr",
     "output_type": "stream",
     "text": [
      "2023-03-03 14:47:38,177 - root - INFO - Calibrating color correction.\n"
     ]
    },
    {
     "data": {
      "application/vnd.jupyter.widget-view+json": {
       "model_id": "819026aa0afb46f6a267daa4e810729d",
       "version_major": 2,
       "version_minor": 0
      },
      "text/plain": [
       "  0%|          | 0/7 [00:00<?, ?it/s]"
      ]
     },
     "metadata": {},
     "output_type": "display_data"
    },
    {
     "name": "stdout",
     "output_type": "stream",
     "text": []
    },
    {
     "name": "stderr",
     "output_type": "stream",
     "text": [
      "2023-03-03 14:47:39,638 - root - INFO - Applying color correction.\n"
     ]
    },
    {
     "name": "stdout",
     "output_type": "stream",
     "text": [
      "\u001b[36mAnimation frame: \u001b[0m64/180  \n",
      " Creating in-between frame: 56; tween:0.12;\n",
      " Creating in-between frame: 57; tween:0.25;\n",
      " Creating in-between frame: 58; tween:0.38;\n",
      " Creating in-between frame: 59; tween:0.50;\n",
      " Creating in-between frame: 60; tween:0.62;\n",
      " Creating in-between frame: 61; tween:0.75;\n",
      " Creating in-between frame: 62; tween:0.88;\n",
      " Creating in-between frame: 63; tween:1.00;\n",
      "\u001b[32mSeed: \u001b[0m7\n",
      "\u001b[35mPrompt: \u001b[0mpile of coins, beautiful picture, cinematic, high detailed, photorealistic\n",
      "\u001b[91mNeg Prompt: \u001b[0m(text), (deformed iris, deformed pupils, semi-realistic, cgi, 3d, render, sketch, cartoon, drawing, anime:1.4), close up, cropped, out of frame, worst quality, low quality, jpeg artifacts, ugly, duplicate, morbid, mutilated, extra fingers, mutated hands, poorly drawn hands, poorly drawn face, mutation, deformed, blurry, dehydrated, bad anatomy, bad proportions, extra limbs, cloned face, disfigured, gross proportions, malformed limbs, missing arms, missing legs, extra arms, extra legs, fused fingers, too many fingers, long neck\n"
     ]
    },
    {
     "data": {
      "text/html": [
       "<pre style=\"white-space:pre;overflow-x:auto;line-height:normal;font-family:Menlo,'DejaVu Sans Mono',consolas,'Courier New',monospace\">╭────┬────┬────┬────┬────┬────╮\n",
       "│<span style=\"font-weight: bold\">Tr X</span>│<span style=\"font-weight: bold\">Tr Y</span>│<span style=\"font-weight: bold\">Tr Z</span>│<span style=\"font-weight: bold\">Ro X</span>│<span style=\"font-weight: bold\">Ro Y</span>│<span style=\"font-weight: bold\">Ro Z</span>│\n",
       "├────┼────┼────┼────┼────┼────┤\n",
       "│0.0 │0.0 │0.0 │0.0 │0.0 │0.0 │\n",
       "╰────┴────┴────┴────┴────┴────╯\n",
       "</pre>\n"
      ],
      "text/plain": [
       "╭────┬────┬────┬────┬────┬────╮\n",
       "│\u001b[1mTr X\u001b[0m│\u001b[1mTr Y\u001b[0m│\u001b[1mTr Z\u001b[0m│\u001b[1mRo X\u001b[0m│\u001b[1mRo Y\u001b[0m│\u001b[1mRo Z\u001b[0m│\n",
       "├────┼────┼────┼────┼────┼────┤\n",
       "│0.0 │0.0 │0.0 │0.0 │0.0 │0.0 │\n",
       "╰────┴────┴────┴────┴────┴────╯\n"
      ]
     },
     "metadata": {},
     "output_type": "display_data"
    },
    {
     "data": {
      "text/html": [
       "<pre style=\"white-space:pre;overflow-x:auto;line-height:normal;font-family:Menlo,'DejaVu Sans Mono',consolas,'Courier New',monospace\">╭─────┬───┬───────╮\n",
       "│<span style=\"font-weight: bold\">Steps</span>│<span style=\"font-weight: bold\">CFG</span>│<span style=\"font-weight: bold\">Denoise</span>│\n",
       "├─────┼───┼───────┤\n",
       "│ 25  │7.0│  1.0  │\n",
       "╰─────┴───┴───────╯\n",
       "</pre>\n"
      ],
      "text/plain": [
       "╭─────┬───┬───────╮\n",
       "│\u001b[1mSteps\u001b[0m│\u001b[1mCFG\u001b[0m│\u001b[1mDenoise\u001b[0m│\n",
       "├─────┼───┼───────┤\n",
       "│ 25  │7.0│  1.0  │\n",
       "╰─────┴───┴───────╯\n"
      ]
     },
     "metadata": {},
     "output_type": "display_data"
    },
    {
     "name": "stderr",
     "output_type": "stream",
     "text": [
      "2023-03-03 14:47:42,189 - root - INFO - Calibrating color correction.\n"
     ]
    },
    {
     "data": {
      "application/vnd.jupyter.widget-view+json": {
       "model_id": "11ffe2854d0d469b97aa22de26b39627",
       "version_major": 2,
       "version_minor": 0
      },
      "text/plain": [
       "  0%|          | 0/25 [00:00<?, ?it/s]"
      ]
     },
     "metadata": {},
     "output_type": "display_data"
    },
    {
     "name": "stdout",
     "output_type": "stream",
     "text": []
    },
    {
     "name": "stderr",
     "output_type": "stream",
     "text": [
      "2023-03-03 14:47:46,520 - root - INFO - Applying color correction.\n"
     ]
    },
    {
     "name": "stdout",
     "output_type": "stream",
     "text": [
      "\u001b[36mAnimation frame: \u001b[0m72/180  \n",
      " Creating in-between frame: 64; tween:0.12;\n",
      " Creating in-between frame: 65; tween:0.25;\n",
      " Creating in-between frame: 66; tween:0.38;\n",
      " Creating in-between frame: 67; tween:0.50;\n",
      " Creating in-between frame: 68; tween:0.62;\n",
      " Creating in-between frame: 69; tween:0.75;\n",
      " Creating in-between frame: 70; tween:0.88;\n",
      " Creating in-between frame: 71; tween:1.00;\n",
      "\u001b[32mSeed: \u001b[0m8\n",
      "\u001b[35mPrompt: \u001b[0mpile of coins, beautiful picture, cinematic, high detailed, photorealistic\n",
      "\u001b[91mNeg Prompt: \u001b[0m(text), (deformed iris, deformed pupils, semi-realistic, cgi, 3d, render, sketch, cartoon, drawing, anime:1.4), close up, cropped, out of frame, worst quality, low quality, jpeg artifacts, ugly, duplicate, morbid, mutilated, extra fingers, mutated hands, poorly drawn hands, poorly drawn face, mutation, deformed, blurry, dehydrated, bad anatomy, bad proportions, extra limbs, cloned face, disfigured, gross proportions, malformed limbs, missing arms, missing legs, extra arms, extra legs, fused fingers, too many fingers, long neck\n"
     ]
    },
    {
     "data": {
      "text/html": [
       "<pre style=\"white-space:pre;overflow-x:auto;line-height:normal;font-family:Menlo,'DejaVu Sans Mono',consolas,'Courier New',monospace\">╭────┬────┬────┬────┬────┬────╮\n",
       "│<span style=\"font-weight: bold\">Tr X</span>│<span style=\"font-weight: bold\">Tr Y</span>│<span style=\"font-weight: bold\">Tr Z</span>│<span style=\"font-weight: bold\">Ro X</span>│<span style=\"font-weight: bold\">Ro Y</span>│<span style=\"font-weight: bold\">Ro Z</span>│\n",
       "├────┼────┼────┼────┼────┼────┤\n",
       "│0.0 │0.0 │0.0 │0.0 │0.0 │0.0 │\n",
       "╰────┴────┴────┴────┴────┴────╯\n",
       "</pre>\n"
      ],
      "text/plain": [
       "╭────┬────┬────┬────┬────┬────╮\n",
       "│\u001b[1mTr X\u001b[0m│\u001b[1mTr Y\u001b[0m│\u001b[1mTr Z\u001b[0m│\u001b[1mRo X\u001b[0m│\u001b[1mRo Y\u001b[0m│\u001b[1mRo Z\u001b[0m│\n",
       "├────┼────┼────┼────┼────┼────┤\n",
       "│0.0 │0.0 │0.0 │0.0 │0.0 │0.0 │\n",
       "╰────┴────┴────┴────┴────┴────╯\n"
      ]
     },
     "metadata": {},
     "output_type": "display_data"
    },
    {
     "data": {
      "text/html": [
       "<pre style=\"white-space:pre;overflow-x:auto;line-height:normal;font-family:Menlo,'DejaVu Sans Mono',consolas,'Courier New',monospace\">╭─────┬───┬───────╮\n",
       "│<span style=\"font-weight: bold\">Steps</span>│<span style=\"font-weight: bold\">CFG</span>│<span style=\"font-weight: bold\">Denoise</span>│\n",
       "├─────┼───┼───────┤\n",
       "│ 25  │7.0│ 0.25  │\n",
       "╰─────┴───┴───────╯\n",
       "</pre>\n"
      ],
      "text/plain": [
       "╭─────┬───┬───────╮\n",
       "│\u001b[1mSteps\u001b[0m│\u001b[1mCFG\u001b[0m│\u001b[1mDenoise\u001b[0m│\n",
       "├─────┼───┼───────┤\n",
       "│ 25  │7.0│ 0.25  │\n",
       "╰─────┴───┴───────╯\n"
      ]
     },
     "metadata": {},
     "output_type": "display_data"
    },
    {
     "name": "stderr",
     "output_type": "stream",
     "text": [
      "2023-03-03 14:47:49,304 - root - INFO - Calibrating color correction.\n"
     ]
    },
    {
     "data": {
      "application/vnd.jupyter.widget-view+json": {
       "model_id": "44f35bc269f5494289057a4413ab3061",
       "version_major": 2,
       "version_minor": 0
      },
      "text/plain": [
       "  0%|          | 0/7 [00:00<?, ?it/s]"
      ]
     },
     "metadata": {},
     "output_type": "display_data"
    },
    {
     "name": "stdout",
     "output_type": "stream",
     "text": []
    },
    {
     "name": "stderr",
     "output_type": "stream",
     "text": [
      "2023-03-03 14:47:50,769 - root - INFO - Applying color correction.\n"
     ]
    },
    {
     "name": "stdout",
     "output_type": "stream",
     "text": [
      "\u001b[36mAnimation frame: \u001b[0m80/180  \n",
      " Creating in-between frame: 72; tween:0.12;\n",
      " Creating in-between frame: 73; tween:0.25;\n",
      " Creating in-between frame: 74; tween:0.38;\n",
      " Creating in-between frame: 75; tween:0.50;\n",
      " Creating in-between frame: 76; tween:0.62;\n",
      " Creating in-between frame: 77; tween:0.75;\n",
      " Creating in-between frame: 78; tween:0.88;\n",
      " Creating in-between frame: 79; tween:1.00;\n",
      "\u001b[32mSeed: \u001b[0m9\n",
      "\u001b[35mPrompt: \u001b[0mpile of coins, beautiful picture, cinematic, high detailed, photorealistic\n",
      "\u001b[91mNeg Prompt: \u001b[0m(text), (deformed iris, deformed pupils, semi-realistic, cgi, 3d, render, sketch, cartoon, drawing, anime:1.4), close up, cropped, out of frame, worst quality, low quality, jpeg artifacts, ugly, duplicate, morbid, mutilated, extra fingers, mutated hands, poorly drawn hands, poorly drawn face, mutation, deformed, blurry, dehydrated, bad anatomy, bad proportions, extra limbs, cloned face, disfigured, gross proportions, malformed limbs, missing arms, missing legs, extra arms, extra legs, fused fingers, too many fingers, long neck\n"
     ]
    },
    {
     "data": {
      "text/html": [
       "<pre style=\"white-space:pre;overflow-x:auto;line-height:normal;font-family:Menlo,'DejaVu Sans Mono',consolas,'Courier New',monospace\">╭────┬────┬────┬────┬────┬────╮\n",
       "│<span style=\"font-weight: bold\">Tr X</span>│<span style=\"font-weight: bold\">Tr Y</span>│<span style=\"font-weight: bold\">Tr Z</span>│<span style=\"font-weight: bold\">Ro X</span>│<span style=\"font-weight: bold\">Ro Y</span>│<span style=\"font-weight: bold\">Ro Z</span>│\n",
       "├────┼────┼────┼────┼────┼────┤\n",
       "│0.0 │0.0 │0.0 │0.0 │0.0 │0.0 │\n",
       "╰────┴────┴────┴────┴────┴────╯\n",
       "</pre>\n"
      ],
      "text/plain": [
       "╭────┬────┬────┬────┬────┬────╮\n",
       "│\u001b[1mTr X\u001b[0m│\u001b[1mTr Y\u001b[0m│\u001b[1mTr Z\u001b[0m│\u001b[1mRo X\u001b[0m│\u001b[1mRo Y\u001b[0m│\u001b[1mRo Z\u001b[0m│\n",
       "├────┼────┼────┼────┼────┼────┤\n",
       "│0.0 │0.0 │0.0 │0.0 │0.0 │0.0 │\n",
       "╰────┴────┴────┴────┴────┴────╯\n"
      ]
     },
     "metadata": {},
     "output_type": "display_data"
    },
    {
     "data": {
      "text/html": [
       "<pre style=\"white-space:pre;overflow-x:auto;line-height:normal;font-family:Menlo,'DejaVu Sans Mono',consolas,'Courier New',monospace\">╭─────┬───┬───────╮\n",
       "│<span style=\"font-weight: bold\">Steps</span>│<span style=\"font-weight: bold\">CFG</span>│<span style=\"font-weight: bold\">Denoise</span>│\n",
       "├─────┼───┼───────┤\n",
       "│ 25  │7.0│ 0.25  │\n",
       "╰─────┴───┴───────╯\n",
       "</pre>\n"
      ],
      "text/plain": [
       "╭─────┬───┬───────╮\n",
       "│\u001b[1mSteps\u001b[0m│\u001b[1mCFG\u001b[0m│\u001b[1mDenoise\u001b[0m│\n",
       "├─────┼───┼───────┤\n",
       "│ 25  │7.0│ 0.25  │\n",
       "╰─────┴───┴───────╯\n"
      ]
     },
     "metadata": {},
     "output_type": "display_data"
    },
    {
     "name": "stderr",
     "output_type": "stream",
     "text": [
      "2023-03-03 14:47:53,322 - root - INFO - Calibrating color correction.\n"
     ]
    },
    {
     "data": {
      "application/vnd.jupyter.widget-view+json": {
       "model_id": "aeebd1ca8b6847948b776245bd0497bd",
       "version_major": 2,
       "version_minor": 0
      },
      "text/plain": [
       "  0%|          | 0/7 [00:00<?, ?it/s]"
      ]
     },
     "metadata": {},
     "output_type": "display_data"
    },
    {
     "name": "stdout",
     "output_type": "stream",
     "text": []
    },
    {
     "name": "stderr",
     "output_type": "stream",
     "text": [
      "2023-03-03 14:47:54,768 - root - INFO - Applying color correction.\n"
     ]
    },
    {
     "name": "stdout",
     "output_type": "stream",
     "text": [
      "\u001b[36mAnimation frame: \u001b[0m88/180  \n",
      " Creating in-between frame: 80; tween:0.12;\n",
      " Creating in-between frame: 81; tween:0.25;\n",
      " Creating in-between frame: 82; tween:0.38;\n",
      " Creating in-between frame: 83; tween:0.50;\n",
      " Creating in-between frame: 84; tween:0.62;\n",
      " Creating in-between frame: 85; tween:0.75;\n",
      " Creating in-between frame: 86; tween:0.88;\n",
      " Creating in-between frame: 87; tween:1.00;\n",
      "\u001b[32mSeed: \u001b[0m10\n",
      "\u001b[35mPrompt: \u001b[0mpile of coins, beautiful picture, cinematic, high detailed, photorealistic\n",
      "\u001b[91mNeg Prompt: \u001b[0m(text), (deformed iris, deformed pupils, semi-realistic, cgi, 3d, render, sketch, cartoon, drawing, anime:1.4), close up, cropped, out of frame, worst quality, low quality, jpeg artifacts, ugly, duplicate, morbid, mutilated, extra fingers, mutated hands, poorly drawn hands, poorly drawn face, mutation, deformed, blurry, dehydrated, bad anatomy, bad proportions, extra limbs, cloned face, disfigured, gross proportions, malformed limbs, missing arms, missing legs, extra arms, extra legs, fused fingers, too many fingers, long neck\n"
     ]
    },
    {
     "data": {
      "text/html": [
       "<pre style=\"white-space:pre;overflow-x:auto;line-height:normal;font-family:Menlo,'DejaVu Sans Mono',consolas,'Courier New',monospace\">╭────┬────┬────┬────┬────┬────╮\n",
       "│<span style=\"font-weight: bold\">Tr X</span>│<span style=\"font-weight: bold\">Tr Y</span>│<span style=\"font-weight: bold\">Tr Z</span>│<span style=\"font-weight: bold\">Ro X</span>│<span style=\"font-weight: bold\">Ro Y</span>│<span style=\"font-weight: bold\">Ro Z</span>│\n",
       "├────┼────┼────┼────┼────┼────┤\n",
       "│0.0 │0.0 │0.0 │0.0 │0.0 │0.0 │\n",
       "╰────┴────┴────┴────┴────┴────╯\n",
       "</pre>\n"
      ],
      "text/plain": [
       "╭────┬────┬────┬────┬────┬────╮\n",
       "│\u001b[1mTr X\u001b[0m│\u001b[1mTr Y\u001b[0m│\u001b[1mTr Z\u001b[0m│\u001b[1mRo X\u001b[0m│\u001b[1mRo Y\u001b[0m│\u001b[1mRo Z\u001b[0m│\n",
       "├────┼────┼────┼────┼────┼────┤\n",
       "│0.0 │0.0 │0.0 │0.0 │0.0 │0.0 │\n",
       "╰────┴────┴────┴────┴────┴────╯\n"
      ]
     },
     "metadata": {},
     "output_type": "display_data"
    },
    {
     "data": {
      "text/html": [
       "<pre style=\"white-space:pre;overflow-x:auto;line-height:normal;font-family:Menlo,'DejaVu Sans Mono',consolas,'Courier New',monospace\">╭─────┬───┬───────╮\n",
       "│<span style=\"font-weight: bold\">Steps</span>│<span style=\"font-weight: bold\">CFG</span>│<span style=\"font-weight: bold\">Denoise</span>│\n",
       "├─────┼───┼───────┤\n",
       "│ 25  │7.0│ 0.25  │\n",
       "╰─────┴───┴───────╯\n",
       "</pre>\n"
      ],
      "text/plain": [
       "╭─────┬───┬───────╮\n",
       "│\u001b[1mSteps\u001b[0m│\u001b[1mCFG\u001b[0m│\u001b[1mDenoise\u001b[0m│\n",
       "├─────┼───┼───────┤\n",
       "│ 25  │7.0│ 0.25  │\n",
       "╰─────┴───┴───────╯\n"
      ]
     },
     "metadata": {},
     "output_type": "display_data"
    },
    {
     "name": "stderr",
     "output_type": "stream",
     "text": [
      "2023-03-03 14:47:57,363 - root - INFO - Calibrating color correction.\n"
     ]
    },
    {
     "data": {
      "application/vnd.jupyter.widget-view+json": {
       "model_id": "8cf8b5f8c9ea4e0db3da9a5b670f8e05",
       "version_major": 2,
       "version_minor": 0
      },
      "text/plain": [
       "  0%|          | 0/7 [00:00<?, ?it/s]"
      ]
     },
     "metadata": {},
     "output_type": "display_data"
    },
    {
     "name": "stdout",
     "output_type": "stream",
     "text": []
    },
    {
     "name": "stderr",
     "output_type": "stream",
     "text": [
      "2023-03-03 14:47:58,825 - root - INFO - Applying color correction.\n"
     ]
    },
    {
     "name": "stdout",
     "output_type": "stream",
     "text": [
      "\u001b[36mAnimation frame: \u001b[0m96/180  \n",
      " Creating in-between frame: 88; tween:0.12;\n",
      " Creating in-between frame: 89; tween:0.25;\n",
      " Creating in-between frame: 90; tween:0.38;\n",
      " Creating in-between frame: 91; tween:0.50;\n",
      " Creating in-between frame: 92; tween:0.62;\n",
      " Creating in-between frame: 93; tween:0.75;\n",
      " Creating in-between frame: 94; tween:0.88;\n",
      " Creating in-between frame: 95; tween:1.00;\n",
      "\u001b[32mSeed: \u001b[0m11\n",
      "\u001b[35mPrompt: \u001b[0mpile of coins, beautiful picture, cinematic, high detailed, photorealistic\n",
      "\u001b[91mNeg Prompt: \u001b[0m(text), (deformed iris, deformed pupils, semi-realistic, cgi, 3d, render, sketch, cartoon, drawing, anime:1.4), close up, cropped, out of frame, worst quality, low quality, jpeg artifacts, ugly, duplicate, morbid, mutilated, extra fingers, mutated hands, poorly drawn hands, poorly drawn face, mutation, deformed, blurry, dehydrated, bad anatomy, bad proportions, extra limbs, cloned face, disfigured, gross proportions, malformed limbs, missing arms, missing legs, extra arms, extra legs, fused fingers, too many fingers, long neck\n"
     ]
    },
    {
     "data": {
      "text/html": [
       "<pre style=\"white-space:pre;overflow-x:auto;line-height:normal;font-family:Menlo,'DejaVu Sans Mono',consolas,'Courier New',monospace\">╭────┬────┬────┬────┬────┬────╮\n",
       "│<span style=\"font-weight: bold\">Tr X</span>│<span style=\"font-weight: bold\">Tr Y</span>│<span style=\"font-weight: bold\">Tr Z</span>│<span style=\"font-weight: bold\">Ro X</span>│<span style=\"font-weight: bold\">Ro Y</span>│<span style=\"font-weight: bold\">Ro Z</span>│\n",
       "├────┼────┼────┼────┼────┼────┤\n",
       "│0.0 │0.0 │0.0 │0.0 │0.0 │0.0 │\n",
       "╰────┴────┴────┴────┴────┴────╯\n",
       "</pre>\n"
      ],
      "text/plain": [
       "╭────┬────┬────┬────┬────┬────╮\n",
       "│\u001b[1mTr X\u001b[0m│\u001b[1mTr Y\u001b[0m│\u001b[1mTr Z\u001b[0m│\u001b[1mRo X\u001b[0m│\u001b[1mRo Y\u001b[0m│\u001b[1mRo Z\u001b[0m│\n",
       "├────┼────┼────┼────┼────┼────┤\n",
       "│0.0 │0.0 │0.0 │0.0 │0.0 │0.0 │\n",
       "╰────┴────┴────┴────┴────┴────╯\n"
      ]
     },
     "metadata": {},
     "output_type": "display_data"
    },
    {
     "data": {
      "text/html": [
       "<pre style=\"white-space:pre;overflow-x:auto;line-height:normal;font-family:Menlo,'DejaVu Sans Mono',consolas,'Courier New',monospace\">╭─────┬───┬───────╮\n",
       "│<span style=\"font-weight: bold\">Steps</span>│<span style=\"font-weight: bold\">CFG</span>│<span style=\"font-weight: bold\">Denoise</span>│\n",
       "├─────┼───┼───────┤\n",
       "│ 25  │7.0│ 0.25  │\n",
       "╰─────┴───┴───────╯\n",
       "</pre>\n"
      ],
      "text/plain": [
       "╭─────┬───┬───────╮\n",
       "│\u001b[1mSteps\u001b[0m│\u001b[1mCFG\u001b[0m│\u001b[1mDenoise\u001b[0m│\n",
       "├─────┼───┼───────┤\n",
       "│ 25  │7.0│ 0.25  │\n",
       "╰─────┴───┴───────╯\n"
      ]
     },
     "metadata": {},
     "output_type": "display_data"
    },
    {
     "name": "stderr",
     "output_type": "stream",
     "text": [
      "2023-03-03 14:48:01,393 - root - INFO - Calibrating color correction.\n"
     ]
    },
    {
     "data": {
      "application/vnd.jupyter.widget-view+json": {
       "model_id": "6ce9c91e53b345cab1b0d7a61efb2f19",
       "version_major": 2,
       "version_minor": 0
      },
      "text/plain": [
       "  0%|          | 0/7 [00:00<?, ?it/s]"
      ]
     },
     "metadata": {},
     "output_type": "display_data"
    },
    {
     "name": "stdout",
     "output_type": "stream",
     "text": []
    },
    {
     "name": "stderr",
     "output_type": "stream",
     "text": [
      "2023-03-03 14:48:02,854 - root - INFO - Applying color correction.\n"
     ]
    },
    {
     "name": "stdout",
     "output_type": "stream",
     "text": [
      "\u001b[36mAnimation frame: \u001b[0m104/180  \n",
      " Creating in-between frame: 96; tween:0.12;\n",
      " Creating in-between frame: 97; tween:0.25;\n",
      " Creating in-between frame: 98; tween:0.38;\n",
      " Creating in-between frame: 99; tween:0.50;\n",
      " Creating in-between frame: 100; tween:0.62;\n",
      " Creating in-between frame: 101; tween:0.75;\n",
      " Creating in-between frame: 102; tween:0.88;\n",
      " Creating in-between frame: 103; tween:1.00;\n",
      "\u001b[32mSeed: \u001b[0m12\n",
      "\u001b[35mPrompt: \u001b[0mpile of coins, beautiful picture, cinematic, high detailed, photorealistic\n",
      "\u001b[91mNeg Prompt: \u001b[0m(text), (deformed iris, deformed pupils, semi-realistic, cgi, 3d, render, sketch, cartoon, drawing, anime:1.4), close up, cropped, out of frame, worst quality, low quality, jpeg artifacts, ugly, duplicate, morbid, mutilated, extra fingers, mutated hands, poorly drawn hands, poorly drawn face, mutation, deformed, blurry, dehydrated, bad anatomy, bad proportions, extra limbs, cloned face, disfigured, gross proportions, malformed limbs, missing arms, missing legs, extra arms, extra legs, fused fingers, too many fingers, long neck\n"
     ]
    },
    {
     "data": {
      "text/html": [
       "<pre style=\"white-space:pre;overflow-x:auto;line-height:normal;font-family:Menlo,'DejaVu Sans Mono',consolas,'Courier New',monospace\">╭────┬────┬────┬────┬────┬────╮\n",
       "│<span style=\"font-weight: bold\">Tr X</span>│<span style=\"font-weight: bold\">Tr Y</span>│<span style=\"font-weight: bold\">Tr Z</span>│<span style=\"font-weight: bold\">Ro X</span>│<span style=\"font-weight: bold\">Ro Y</span>│<span style=\"font-weight: bold\">Ro Z</span>│\n",
       "├────┼────┼────┼────┼────┼────┤\n",
       "│0.0 │0.0 │0.0 │0.0 │0.0 │0.0 │\n",
       "╰────┴────┴────┴────┴────┴────╯\n",
       "</pre>\n"
      ],
      "text/plain": [
       "╭────┬────┬────┬────┬────┬────╮\n",
       "│\u001b[1mTr X\u001b[0m│\u001b[1mTr Y\u001b[0m│\u001b[1mTr Z\u001b[0m│\u001b[1mRo X\u001b[0m│\u001b[1mRo Y\u001b[0m│\u001b[1mRo Z\u001b[0m│\n",
       "├────┼────┼────┼────┼────┼────┤\n",
       "│0.0 │0.0 │0.0 │0.0 │0.0 │0.0 │\n",
       "╰────┴────┴────┴────┴────┴────╯\n"
      ]
     },
     "metadata": {},
     "output_type": "display_data"
    },
    {
     "data": {
      "text/html": [
       "<pre style=\"white-space:pre;overflow-x:auto;line-height:normal;font-family:Menlo,'DejaVu Sans Mono',consolas,'Courier New',monospace\">╭─────┬───┬───────╮\n",
       "│<span style=\"font-weight: bold\">Steps</span>│<span style=\"font-weight: bold\">CFG</span>│<span style=\"font-weight: bold\">Denoise</span>│\n",
       "├─────┼───┼───────┤\n",
       "│ 25  │7.0│ 0.25  │\n",
       "╰─────┴───┴───────╯\n",
       "</pre>\n"
      ],
      "text/plain": [
       "╭─────┬───┬───────╮\n",
       "│\u001b[1mSteps\u001b[0m│\u001b[1mCFG\u001b[0m│\u001b[1mDenoise\u001b[0m│\n",
       "├─────┼───┼───────┤\n",
       "│ 25  │7.0│ 0.25  │\n",
       "╰─────┴───┴───────╯\n"
      ]
     },
     "metadata": {},
     "output_type": "display_data"
    },
    {
     "name": "stderr",
     "output_type": "stream",
     "text": [
      "2023-03-03 14:48:05,408 - root - INFO - Calibrating color correction.\n"
     ]
    },
    {
     "data": {
      "application/vnd.jupyter.widget-view+json": {
       "model_id": "2e2a971ea2e247929f8acf3f35f5b6f4",
       "version_major": 2,
       "version_minor": 0
      },
      "text/plain": [
       "  0%|          | 0/7 [00:00<?, ?it/s]"
      ]
     },
     "metadata": {},
     "output_type": "display_data"
    },
    {
     "name": "stdout",
     "output_type": "stream",
     "text": []
    },
    {
     "name": "stderr",
     "output_type": "stream",
     "text": [
      "2023-03-03 14:48:06,856 - root - INFO - Applying color correction.\n"
     ]
    },
    {
     "name": "stdout",
     "output_type": "stream",
     "text": [
      "\u001b[36mAnimation frame: \u001b[0m112/180  \n",
      " Creating in-between frame: 104; tween:0.12;\n",
      " Creating in-between frame: 105; tween:0.25;\n",
      " Creating in-between frame: 106; tween:0.38;\n",
      " Creating in-between frame: 107; tween:0.50;\n",
      " Creating in-between frame: 108; tween:0.62;\n",
      " Creating in-between frame: 109; tween:0.75;\n",
      " Creating in-between frame: 110; tween:0.88;\n",
      " Creating in-between frame: 111; tween:1.00;\n",
      "\u001b[32mSeed: \u001b[0m13\n",
      "\u001b[35mPrompt: \u001b[0mpile of coins, beautiful picture, cinematic, high detailed, photorealistic\n",
      "\u001b[91mNeg Prompt: \u001b[0m(text), (deformed iris, deformed pupils, semi-realistic, cgi, 3d, render, sketch, cartoon, drawing, anime:1.4), close up, cropped, out of frame, worst quality, low quality, jpeg artifacts, ugly, duplicate, morbid, mutilated, extra fingers, mutated hands, poorly drawn hands, poorly drawn face, mutation, deformed, blurry, dehydrated, bad anatomy, bad proportions, extra limbs, cloned face, disfigured, gross proportions, malformed limbs, missing arms, missing legs, extra arms, extra legs, fused fingers, too many fingers, long neck\n"
     ]
    },
    {
     "data": {
      "text/html": [
       "<pre style=\"white-space:pre;overflow-x:auto;line-height:normal;font-family:Menlo,'DejaVu Sans Mono',consolas,'Courier New',monospace\">╭────┬────┬────┬────┬────┬────╮\n",
       "│<span style=\"font-weight: bold\">Tr X</span>│<span style=\"font-weight: bold\">Tr Y</span>│<span style=\"font-weight: bold\">Tr Z</span>│<span style=\"font-weight: bold\">Ro X</span>│<span style=\"font-weight: bold\">Ro Y</span>│<span style=\"font-weight: bold\">Ro Z</span>│\n",
       "├────┼────┼────┼────┼────┼────┤\n",
       "│0.0 │0.0 │0.0 │0.0 │0.0 │0.0 │\n",
       "╰────┴────┴────┴────┴────┴────╯\n",
       "</pre>\n"
      ],
      "text/plain": [
       "╭────┬────┬────┬────┬────┬────╮\n",
       "│\u001b[1mTr X\u001b[0m│\u001b[1mTr Y\u001b[0m│\u001b[1mTr Z\u001b[0m│\u001b[1mRo X\u001b[0m│\u001b[1mRo Y\u001b[0m│\u001b[1mRo Z\u001b[0m│\n",
       "├────┼────┼────┼────┼────┼────┤\n",
       "│0.0 │0.0 │0.0 │0.0 │0.0 │0.0 │\n",
       "╰────┴────┴────┴────┴────┴────╯\n"
      ]
     },
     "metadata": {},
     "output_type": "display_data"
    },
    {
     "data": {
      "text/html": [
       "<pre style=\"white-space:pre;overflow-x:auto;line-height:normal;font-family:Menlo,'DejaVu Sans Mono',consolas,'Courier New',monospace\">╭─────┬───┬───────╮\n",
       "│<span style=\"font-weight: bold\">Steps</span>│<span style=\"font-weight: bold\">CFG</span>│<span style=\"font-weight: bold\">Denoise</span>│\n",
       "├─────┼───┼───────┤\n",
       "│ 25  │7.0│ 0.25  │\n",
       "╰─────┴───┴───────╯\n",
       "</pre>\n"
      ],
      "text/plain": [
       "╭─────┬───┬───────╮\n",
       "│\u001b[1mSteps\u001b[0m│\u001b[1mCFG\u001b[0m│\u001b[1mDenoise\u001b[0m│\n",
       "├─────┼───┼───────┤\n",
       "│ 25  │7.0│ 0.25  │\n",
       "╰─────┴───┴───────╯\n"
      ]
     },
     "metadata": {},
     "output_type": "display_data"
    },
    {
     "name": "stderr",
     "output_type": "stream",
     "text": [
      "2023-03-03 14:48:09,416 - root - INFO - Calibrating color correction.\n"
     ]
    },
    {
     "data": {
      "application/vnd.jupyter.widget-view+json": {
       "model_id": "69729d1ca47b44679a0143afd2b32de3",
       "version_major": 2,
       "version_minor": 0
      },
      "text/plain": [
       "  0%|          | 0/7 [00:00<?, ?it/s]"
      ]
     },
     "metadata": {},
     "output_type": "display_data"
    },
    {
     "name": "stdout",
     "output_type": "stream",
     "text": []
    },
    {
     "name": "stderr",
     "output_type": "stream",
     "text": [
      "2023-03-03 14:48:10,879 - root - INFO - Applying color correction.\n"
     ]
    },
    {
     "name": "stdout",
     "output_type": "stream",
     "text": [
      "\u001b[36mAnimation frame: \u001b[0m120/180  \n",
      " Creating in-between frame: 112; tween:0.12;\n",
      " Creating in-between frame: 113; tween:0.25;\n",
      " Creating in-between frame: 114; tween:0.38;\n",
      " Creating in-between frame: 115; tween:0.50;\n",
      " Creating in-between frame: 116; tween:0.62;\n",
      " Creating in-between frame: 117; tween:0.75;\n",
      " Creating in-between frame: 118; tween:0.88;\n",
      " Creating in-between frame: 119; tween:1.00;\n",
      "\u001b[32mSeed: \u001b[0m14\n",
      "\u001b[35mPrompt: \u001b[0mpile of coins, beautiful picture, cinematic, high detailed, photorealistic\n",
      "\u001b[91mNeg Prompt: \u001b[0m(text), (deformed iris, deformed pupils, semi-realistic, cgi, 3d, render, sketch, cartoon, drawing, anime:1.4), close up, cropped, out of frame, worst quality, low quality, jpeg artifacts, ugly, duplicate, morbid, mutilated, extra fingers, mutated hands, poorly drawn hands, poorly drawn face, mutation, deformed, blurry, dehydrated, bad anatomy, bad proportions, extra limbs, cloned face, disfigured, gross proportions, malformed limbs, missing arms, missing legs, extra arms, extra legs, fused fingers, too many fingers, long neck\n"
     ]
    },
    {
     "data": {
      "text/html": [
       "<pre style=\"white-space:pre;overflow-x:auto;line-height:normal;font-family:Menlo,'DejaVu Sans Mono',consolas,'Courier New',monospace\">╭────┬────┬────┬────┬────┬────╮\n",
       "│<span style=\"font-weight: bold\">Tr X</span>│<span style=\"font-weight: bold\">Tr Y</span>│<span style=\"font-weight: bold\">Tr Z</span>│<span style=\"font-weight: bold\">Ro X</span>│<span style=\"font-weight: bold\">Ro Y</span>│<span style=\"font-weight: bold\">Ro Z</span>│\n",
       "├────┼────┼────┼────┼────┼────┤\n",
       "│0.0 │0.0 │0.0 │0.0 │0.0 │0.0 │\n",
       "╰────┴────┴────┴────┴────┴────╯\n",
       "</pre>\n"
      ],
      "text/plain": [
       "╭────┬────┬────┬────┬────┬────╮\n",
       "│\u001b[1mTr X\u001b[0m│\u001b[1mTr Y\u001b[0m│\u001b[1mTr Z\u001b[0m│\u001b[1mRo X\u001b[0m│\u001b[1mRo Y\u001b[0m│\u001b[1mRo Z\u001b[0m│\n",
       "├────┼────┼────┼────┼────┼────┤\n",
       "│0.0 │0.0 │0.0 │0.0 │0.0 │0.0 │\n",
       "╰────┴────┴────┴────┴────┴────╯\n"
      ]
     },
     "metadata": {},
     "output_type": "display_data"
    },
    {
     "data": {
      "text/html": [
       "<pre style=\"white-space:pre;overflow-x:auto;line-height:normal;font-family:Menlo,'DejaVu Sans Mono',consolas,'Courier New',monospace\">╭─────┬───┬───────╮\n",
       "│<span style=\"font-weight: bold\">Steps</span>│<span style=\"font-weight: bold\">CFG</span>│<span style=\"font-weight: bold\">Denoise</span>│\n",
       "├─────┼───┼───────┤\n",
       "│ 25  │7.0│ 0.25  │\n",
       "╰─────┴───┴───────╯\n",
       "</pre>\n"
      ],
      "text/plain": [
       "╭─────┬───┬───────╮\n",
       "│\u001b[1mSteps\u001b[0m│\u001b[1mCFG\u001b[0m│\u001b[1mDenoise\u001b[0m│\n",
       "├─────┼───┼───────┤\n",
       "│ 25  │7.0│ 0.25  │\n",
       "╰─────┴───┴───────╯\n"
      ]
     },
     "metadata": {},
     "output_type": "display_data"
    },
    {
     "name": "stderr",
     "output_type": "stream",
     "text": [
      "2023-03-03 14:48:13,474 - root - INFO - Calibrating color correction.\n"
     ]
    },
    {
     "data": {
      "application/vnd.jupyter.widget-view+json": {
       "model_id": "ab2e9b454423424d8a50fd5907d83fb7",
       "version_major": 2,
       "version_minor": 0
      },
      "text/plain": [
       "  0%|          | 0/7 [00:00<?, ?it/s]"
      ]
     },
     "metadata": {},
     "output_type": "display_data"
    },
    {
     "name": "stdout",
     "output_type": "stream",
     "text": []
    },
    {
     "name": "stderr",
     "output_type": "stream",
     "text": [
      "2023-03-03 14:48:14,943 - root - INFO - Applying color correction.\n"
     ]
    },
    {
     "name": "stdout",
     "output_type": "stream",
     "text": [
      "\u001b[36mAnimation frame: \u001b[0m128/180  \n",
      " Creating in-between frame: 120; tween:0.12;\n",
      " Creating in-between frame: 121; tween:0.25;\n",
      " Creating in-between frame: 122; tween:0.38;\n",
      " Creating in-between frame: 123; tween:0.50;\n",
      " Creating in-between frame: 124; tween:0.62;\n",
      " Creating in-between frame: 125; tween:0.75;\n",
      " Creating in-between frame: 126; tween:0.88;\n",
      " Creating in-between frame: 127; tween:1.00;\n",
      "\u001b[32mSeed: \u001b[0m15\n",
      "\u001b[35mPrompt: \u001b[0mpile of coins, beautiful picture, cinematic, high detailed, photorealistic\n",
      "\u001b[91mNeg Prompt: \u001b[0m(text), (deformed iris, deformed pupils, semi-realistic, cgi, 3d, render, sketch, cartoon, drawing, anime:1.4), close up, cropped, out of frame, worst quality, low quality, jpeg artifacts, ugly, duplicate, morbid, mutilated, extra fingers, mutated hands, poorly drawn hands, poorly drawn face, mutation, deformed, blurry, dehydrated, bad anatomy, bad proportions, extra limbs, cloned face, disfigured, gross proportions, malformed limbs, missing arms, missing legs, extra arms, extra legs, fused fingers, too many fingers, long neck\n"
     ]
    },
    {
     "data": {
      "text/html": [
       "<pre style=\"white-space:pre;overflow-x:auto;line-height:normal;font-family:Menlo,'DejaVu Sans Mono',consolas,'Courier New',monospace\">╭────┬────┬────┬────┬────┬────╮\n",
       "│<span style=\"font-weight: bold\">Tr X</span>│<span style=\"font-weight: bold\">Tr Y</span>│<span style=\"font-weight: bold\">Tr Z</span>│<span style=\"font-weight: bold\">Ro X</span>│<span style=\"font-weight: bold\">Ro Y</span>│<span style=\"font-weight: bold\">Ro Z</span>│\n",
       "├────┼────┼────┼────┼────┼────┤\n",
       "│0.0 │0.0 │0.0 │0.0 │0.0 │0.0 │\n",
       "╰────┴────┴────┴────┴────┴────╯\n",
       "</pre>\n"
      ],
      "text/plain": [
       "╭────┬────┬────┬────┬────┬────╮\n",
       "│\u001b[1mTr X\u001b[0m│\u001b[1mTr Y\u001b[0m│\u001b[1mTr Z\u001b[0m│\u001b[1mRo X\u001b[0m│\u001b[1mRo Y\u001b[0m│\u001b[1mRo Z\u001b[0m│\n",
       "├────┼────┼────┼────┼────┼────┤\n",
       "│0.0 │0.0 │0.0 │0.0 │0.0 │0.0 │\n",
       "╰────┴────┴────┴────┴────┴────╯\n"
      ]
     },
     "metadata": {},
     "output_type": "display_data"
    },
    {
     "data": {
      "text/html": [
       "<pre style=\"white-space:pre;overflow-x:auto;line-height:normal;font-family:Menlo,'DejaVu Sans Mono',consolas,'Courier New',monospace\">╭─────┬───┬───────╮\n",
       "│<span style=\"font-weight: bold\">Steps</span>│<span style=\"font-weight: bold\">CFG</span>│<span style=\"font-weight: bold\">Denoise</span>│\n",
       "├─────┼───┼───────┤\n",
       "│ 25  │7.0│  1.0  │\n",
       "╰─────┴───┴───────╯\n",
       "</pre>\n"
      ],
      "text/plain": [
       "╭─────┬───┬───────╮\n",
       "│\u001b[1mSteps\u001b[0m│\u001b[1mCFG\u001b[0m│\u001b[1mDenoise\u001b[0m│\n",
       "├─────┼───┼───────┤\n",
       "│ 25  │7.0│  1.0  │\n",
       "╰─────┴───┴───────╯\n"
      ]
     },
     "metadata": {},
     "output_type": "display_data"
    },
    {
     "name": "stderr",
     "output_type": "stream",
     "text": [
      "2023-03-03 14:48:17,500 - root - INFO - Calibrating color correction.\n"
     ]
    },
    {
     "data": {
      "application/vnd.jupyter.widget-view+json": {
       "model_id": "38364454fb3c46ea9515e245c8334b80",
       "version_major": 2,
       "version_minor": 0
      },
      "text/plain": [
       "  0%|          | 0/25 [00:00<?, ?it/s]"
      ]
     },
     "metadata": {},
     "output_type": "display_data"
    },
    {
     "name": "stdout",
     "output_type": "stream",
     "text": []
    },
    {
     "name": "stderr",
     "output_type": "stream",
     "text": [
      "2023-03-03 14:48:21,835 - root - INFO - Applying color correction.\n"
     ]
    },
    {
     "name": "stdout",
     "output_type": "stream",
     "text": [
      "\u001b[36mAnimation frame: \u001b[0m136/180  \n",
      " Creating in-between frame: 128; tween:0.12;\n",
      " Creating in-between frame: 129; tween:0.25;\n",
      " Creating in-between frame: 130; tween:0.38;\n",
      " Creating in-between frame: 131; tween:0.50;\n",
      " Creating in-between frame: 132; tween:0.62;\n",
      " Creating in-between frame: 133; tween:0.75;\n",
      " Creating in-between frame: 134; tween:0.88;\n",
      " Creating in-between frame: 135; tween:1.00;\n",
      "\u001b[32mSeed: \u001b[0m16\n",
      "\u001b[35mPrompt: \u001b[0mpile of coins, beautiful picture, cinematic, high detailed, photorealistic\n",
      "\u001b[91mNeg Prompt: \u001b[0m(text), (deformed iris, deformed pupils, semi-realistic, cgi, 3d, render, sketch, cartoon, drawing, anime:1.4), close up, cropped, out of frame, worst quality, low quality, jpeg artifacts, ugly, duplicate, morbid, mutilated, extra fingers, mutated hands, poorly drawn hands, poorly drawn face, mutation, deformed, blurry, dehydrated, bad anatomy, bad proportions, extra limbs, cloned face, disfigured, gross proportions, malformed limbs, missing arms, missing legs, extra arms, extra legs, fused fingers, too many fingers, long neck\n"
     ]
    },
    {
     "data": {
      "text/html": [
       "<pre style=\"white-space:pre;overflow-x:auto;line-height:normal;font-family:Menlo,'DejaVu Sans Mono',consolas,'Courier New',monospace\">╭────┬────┬────┬────┬────┬────╮\n",
       "│<span style=\"font-weight: bold\">Tr X</span>│<span style=\"font-weight: bold\">Tr Y</span>│<span style=\"font-weight: bold\">Tr Z</span>│<span style=\"font-weight: bold\">Ro X</span>│<span style=\"font-weight: bold\">Ro Y</span>│<span style=\"font-weight: bold\">Ro Z</span>│\n",
       "├────┼────┼────┼────┼────┼────┤\n",
       "│0.0 │0.0 │0.0 │0.0 │0.0 │0.0 │\n",
       "╰────┴────┴────┴────┴────┴────╯\n",
       "</pre>\n"
      ],
      "text/plain": [
       "╭────┬────┬────┬────┬────┬────╮\n",
       "│\u001b[1mTr X\u001b[0m│\u001b[1mTr Y\u001b[0m│\u001b[1mTr Z\u001b[0m│\u001b[1mRo X\u001b[0m│\u001b[1mRo Y\u001b[0m│\u001b[1mRo Z\u001b[0m│\n",
       "├────┼────┼────┼────┼────┼────┤\n",
       "│0.0 │0.0 │0.0 │0.0 │0.0 │0.0 │\n",
       "╰────┴────┴────┴────┴────┴────╯\n"
      ]
     },
     "metadata": {},
     "output_type": "display_data"
    },
    {
     "data": {
      "text/html": [
       "<pre style=\"white-space:pre;overflow-x:auto;line-height:normal;font-family:Menlo,'DejaVu Sans Mono',consolas,'Courier New',monospace\">╭─────┬───┬───────╮\n",
       "│<span style=\"font-weight: bold\">Steps</span>│<span style=\"font-weight: bold\">CFG</span>│<span style=\"font-weight: bold\">Denoise</span>│\n",
       "├─────┼───┼───────┤\n",
       "│ 25  │7.0│ 0.25  │\n",
       "╰─────┴───┴───────╯\n",
       "</pre>\n"
      ],
      "text/plain": [
       "╭─────┬───┬───────╮\n",
       "│\u001b[1mSteps\u001b[0m│\u001b[1mCFG\u001b[0m│\u001b[1mDenoise\u001b[0m│\n",
       "├─────┼───┼───────┤\n",
       "│ 25  │7.0│ 0.25  │\n",
       "╰─────┴───┴───────╯\n"
      ]
     },
     "metadata": {},
     "output_type": "display_data"
    },
    {
     "name": "stderr",
     "output_type": "stream",
     "text": [
      "2023-03-03 14:48:24,498 - root - INFO - Calibrating color correction.\n"
     ]
    },
    {
     "data": {
      "application/vnd.jupyter.widget-view+json": {
       "model_id": "a2e5791c129141588c2255cf16ba7a57",
       "version_major": 2,
       "version_minor": 0
      },
      "text/plain": [
       "  0%|          | 0/7 [00:00<?, ?it/s]"
      ]
     },
     "metadata": {},
     "output_type": "display_data"
    },
    {
     "name": "stdout",
     "output_type": "stream",
     "text": []
    },
    {
     "name": "stderr",
     "output_type": "stream",
     "text": [
      "2023-03-03 14:48:25,953 - root - INFO - Applying color correction.\n"
     ]
    },
    {
     "name": "stdout",
     "output_type": "stream",
     "text": [
      "\u001b[36mAnimation frame: \u001b[0m144/180  \n",
      " Creating in-between frame: 136; tween:0.12;\n",
      " Creating in-between frame: 137; tween:0.25;\n",
      " Creating in-between frame: 138; tween:0.38;\n",
      " Creating in-between frame: 139; tween:0.50;\n",
      " Creating in-between frame: 140; tween:0.62;\n",
      " Creating in-between frame: 141; tween:0.75;\n",
      " Creating in-between frame: 142; tween:0.88;\n",
      " Creating in-between frame: 143; tween:1.00;\n",
      "\u001b[32mSeed: \u001b[0m17\n",
      "\u001b[35mPrompt: \u001b[0mpile of coins, beautiful picture, cinematic, high detailed, photorealistic\n",
      "\u001b[91mNeg Prompt: \u001b[0m(text), (deformed iris, deformed pupils, semi-realistic, cgi, 3d, render, sketch, cartoon, drawing, anime:1.4), close up, cropped, out of frame, worst quality, low quality, jpeg artifacts, ugly, duplicate, morbid, mutilated, extra fingers, mutated hands, poorly drawn hands, poorly drawn face, mutation, deformed, blurry, dehydrated, bad anatomy, bad proportions, extra limbs, cloned face, disfigured, gross proportions, malformed limbs, missing arms, missing legs, extra arms, extra legs, fused fingers, too many fingers, long neck\n"
     ]
    },
    {
     "data": {
      "text/html": [
       "<pre style=\"white-space:pre;overflow-x:auto;line-height:normal;font-family:Menlo,'DejaVu Sans Mono',consolas,'Courier New',monospace\">╭────┬────┬────┬────┬────┬────╮\n",
       "│<span style=\"font-weight: bold\">Tr X</span>│<span style=\"font-weight: bold\">Tr Y</span>│<span style=\"font-weight: bold\">Tr Z</span>│<span style=\"font-weight: bold\">Ro X</span>│<span style=\"font-weight: bold\">Ro Y</span>│<span style=\"font-weight: bold\">Ro Z</span>│\n",
       "├────┼────┼────┼────┼────┼────┤\n",
       "│0.0 │0.0 │0.0 │0.0 │0.0 │0.0 │\n",
       "╰────┴────┴────┴────┴────┴────╯\n",
       "</pre>\n"
      ],
      "text/plain": [
       "╭────┬────┬────┬────┬────┬────╮\n",
       "│\u001b[1mTr X\u001b[0m│\u001b[1mTr Y\u001b[0m│\u001b[1mTr Z\u001b[0m│\u001b[1mRo X\u001b[0m│\u001b[1mRo Y\u001b[0m│\u001b[1mRo Z\u001b[0m│\n",
       "├────┼────┼────┼────┼────┼────┤\n",
       "│0.0 │0.0 │0.0 │0.0 │0.0 │0.0 │\n",
       "╰────┴────┴────┴────┴────┴────╯\n"
      ]
     },
     "metadata": {},
     "output_type": "display_data"
    },
    {
     "data": {
      "text/html": [
       "<pre style=\"white-space:pre;overflow-x:auto;line-height:normal;font-family:Menlo,'DejaVu Sans Mono',consolas,'Courier New',monospace\">╭─────┬───┬───────╮\n",
       "│<span style=\"font-weight: bold\">Steps</span>│<span style=\"font-weight: bold\">CFG</span>│<span style=\"font-weight: bold\">Denoise</span>│\n",
       "├─────┼───┼───────┤\n",
       "│ 25  │7.0│ 0.25  │\n",
       "╰─────┴───┴───────╯\n",
       "</pre>\n"
      ],
      "text/plain": [
       "╭─────┬───┬───────╮\n",
       "│\u001b[1mSteps\u001b[0m│\u001b[1mCFG\u001b[0m│\u001b[1mDenoise\u001b[0m│\n",
       "├─────┼───┼───────┤\n",
       "│ 25  │7.0│ 0.25  │\n",
       "╰─────┴───┴───────╯\n"
      ]
     },
     "metadata": {},
     "output_type": "display_data"
    },
    {
     "name": "stderr",
     "output_type": "stream",
     "text": [
      "2023-03-03 14:48:28,514 - root - INFO - Calibrating color correction.\n"
     ]
    },
    {
     "data": {
      "application/vnd.jupyter.widget-view+json": {
       "model_id": "3cfbfc60558c4f6da7ca9f66cdf6e4cc",
       "version_major": 2,
       "version_minor": 0
      },
      "text/plain": [
       "  0%|          | 0/7 [00:00<?, ?it/s]"
      ]
     },
     "metadata": {},
     "output_type": "display_data"
    },
    {
     "name": "stdout",
     "output_type": "stream",
     "text": []
    },
    {
     "name": "stderr",
     "output_type": "stream",
     "text": [
      "2023-03-03 14:48:29,956 - root - INFO - Applying color correction.\n"
     ]
    },
    {
     "name": "stdout",
     "output_type": "stream",
     "text": [
      "\u001b[36mAnimation frame: \u001b[0m152/180  \n",
      " Creating in-between frame: 144; tween:0.12;\n",
      " Creating in-between frame: 145; tween:0.25;\n",
      " Creating in-between frame: 146; tween:0.38;\n",
      " Creating in-between frame: 147; tween:0.50;\n",
      " Creating in-between frame: 148; tween:0.62;\n",
      " Creating in-between frame: 149; tween:0.75;\n",
      " Creating in-between frame: 150; tween:0.88;\n",
      " Creating in-between frame: 151; tween:1.00;\n",
      "\u001b[32mSeed: \u001b[0m18\n",
      "\u001b[35mPrompt: \u001b[0mpile of coins, beautiful picture, cinematic, high detailed, photorealistic\n",
      "\u001b[91mNeg Prompt: \u001b[0m(text), (deformed iris, deformed pupils, semi-realistic, cgi, 3d, render, sketch, cartoon, drawing, anime:1.4), close up, cropped, out of frame, worst quality, low quality, jpeg artifacts, ugly, duplicate, morbid, mutilated, extra fingers, mutated hands, poorly drawn hands, poorly drawn face, mutation, deformed, blurry, dehydrated, bad anatomy, bad proportions, extra limbs, cloned face, disfigured, gross proportions, malformed limbs, missing arms, missing legs, extra arms, extra legs, fused fingers, too many fingers, long neck\n"
     ]
    },
    {
     "data": {
      "text/html": [
       "<pre style=\"white-space:pre;overflow-x:auto;line-height:normal;font-family:Menlo,'DejaVu Sans Mono',consolas,'Courier New',monospace\">╭────┬────┬────┬────┬────┬────╮\n",
       "│<span style=\"font-weight: bold\">Tr X</span>│<span style=\"font-weight: bold\">Tr Y</span>│<span style=\"font-weight: bold\">Tr Z</span>│<span style=\"font-weight: bold\">Ro X</span>│<span style=\"font-weight: bold\">Ro Y</span>│<span style=\"font-weight: bold\">Ro Z</span>│\n",
       "├────┼────┼────┼────┼────┼────┤\n",
       "│0.0 │0.0 │0.0 │0.0 │0.0 │0.0 │\n",
       "╰────┴────┴────┴────┴────┴────╯\n",
       "</pre>\n"
      ],
      "text/plain": [
       "╭────┬────┬────┬────┬────┬────╮\n",
       "│\u001b[1mTr X\u001b[0m│\u001b[1mTr Y\u001b[0m│\u001b[1mTr Z\u001b[0m│\u001b[1mRo X\u001b[0m│\u001b[1mRo Y\u001b[0m│\u001b[1mRo Z\u001b[0m│\n",
       "├────┼────┼────┼────┼────┼────┤\n",
       "│0.0 │0.0 │0.0 │0.0 │0.0 │0.0 │\n",
       "╰────┴────┴────┴────┴────┴────╯\n"
      ]
     },
     "metadata": {},
     "output_type": "display_data"
    },
    {
     "data": {
      "text/html": [
       "<pre style=\"white-space:pre;overflow-x:auto;line-height:normal;font-family:Menlo,'DejaVu Sans Mono',consolas,'Courier New',monospace\">╭─────┬───┬───────╮\n",
       "│<span style=\"font-weight: bold\">Steps</span>│<span style=\"font-weight: bold\">CFG</span>│<span style=\"font-weight: bold\">Denoise</span>│\n",
       "├─────┼───┼───────┤\n",
       "│ 25  │7.0│ 0.25  │\n",
       "╰─────┴───┴───────╯\n",
       "</pre>\n"
      ],
      "text/plain": [
       "╭─────┬───┬───────╮\n",
       "│\u001b[1mSteps\u001b[0m│\u001b[1mCFG\u001b[0m│\u001b[1mDenoise\u001b[0m│\n",
       "├─────┼───┼───────┤\n",
       "│ 25  │7.0│ 0.25  │\n",
       "╰─────┴───┴───────╯\n"
      ]
     },
     "metadata": {},
     "output_type": "display_data"
    },
    {
     "name": "stderr",
     "output_type": "stream",
     "text": [
      "2023-03-03 14:48:32,525 - root - INFO - Calibrating color correction.\n"
     ]
    },
    {
     "data": {
      "application/vnd.jupyter.widget-view+json": {
       "model_id": "38ae9897b28441879dd10a0c6febfa07",
       "version_major": 2,
       "version_minor": 0
      },
      "text/plain": [
       "  0%|          | 0/7 [00:00<?, ?it/s]"
      ]
     },
     "metadata": {},
     "output_type": "display_data"
    },
    {
     "name": "stdout",
     "output_type": "stream",
     "text": []
    },
    {
     "name": "stderr",
     "output_type": "stream",
     "text": [
      "2023-03-03 14:48:33,986 - root - INFO - Applying color correction.\n"
     ]
    },
    {
     "name": "stdout",
     "output_type": "stream",
     "text": [
      "\u001b[36mAnimation frame: \u001b[0m160/180  \n",
      " Creating in-between frame: 152; tween:0.12;\n",
      " Creating in-between frame: 153; tween:0.25;\n",
      " Creating in-between frame: 154; tween:0.38;\n",
      " Creating in-between frame: 155; tween:0.50;\n",
      " Creating in-between frame: 156; tween:0.62;\n",
      " Creating in-between frame: 157; tween:0.75;\n",
      " Creating in-between frame: 158; tween:0.88;\n",
      " Creating in-between frame: 159; tween:1.00;\n",
      "\u001b[32mSeed: \u001b[0m19\n",
      "\u001b[35mPrompt: \u001b[0mpile of coins, beautiful picture, cinematic, high detailed, photorealistic\n",
      "\u001b[91mNeg Prompt: \u001b[0m(text), (deformed iris, deformed pupils, semi-realistic, cgi, 3d, render, sketch, cartoon, drawing, anime:1.4), close up, cropped, out of frame, worst quality, low quality, jpeg artifacts, ugly, duplicate, morbid, mutilated, extra fingers, mutated hands, poorly drawn hands, poorly drawn face, mutation, deformed, blurry, dehydrated, bad anatomy, bad proportions, extra limbs, cloned face, disfigured, gross proportions, malformed limbs, missing arms, missing legs, extra arms, extra legs, fused fingers, too many fingers, long neck\n"
     ]
    },
    {
     "data": {
      "text/html": [
       "<pre style=\"white-space:pre;overflow-x:auto;line-height:normal;font-family:Menlo,'DejaVu Sans Mono',consolas,'Courier New',monospace\">╭────┬────┬────┬────┬────┬────╮\n",
       "│<span style=\"font-weight: bold\">Tr X</span>│<span style=\"font-weight: bold\">Tr Y</span>│<span style=\"font-weight: bold\">Tr Z</span>│<span style=\"font-weight: bold\">Ro X</span>│<span style=\"font-weight: bold\">Ro Y</span>│<span style=\"font-weight: bold\">Ro Z</span>│\n",
       "├────┼────┼────┼────┼────┼────┤\n",
       "│0.0 │0.0 │0.0 │0.0 │0.0 │0.0 │\n",
       "╰────┴────┴────┴────┴────┴────╯\n",
       "</pre>\n"
      ],
      "text/plain": [
       "╭────┬────┬────┬────┬────┬────╮\n",
       "│\u001b[1mTr X\u001b[0m│\u001b[1mTr Y\u001b[0m│\u001b[1mTr Z\u001b[0m│\u001b[1mRo X\u001b[0m│\u001b[1mRo Y\u001b[0m│\u001b[1mRo Z\u001b[0m│\n",
       "├────┼────┼────┼────┼────┼────┤\n",
       "│0.0 │0.0 │0.0 │0.0 │0.0 │0.0 │\n",
       "╰────┴────┴────┴────┴────┴────╯\n"
      ]
     },
     "metadata": {},
     "output_type": "display_data"
    },
    {
     "data": {
      "text/html": [
       "<pre style=\"white-space:pre;overflow-x:auto;line-height:normal;font-family:Menlo,'DejaVu Sans Mono',consolas,'Courier New',monospace\">╭─────┬───┬───────╮\n",
       "│<span style=\"font-weight: bold\">Steps</span>│<span style=\"font-weight: bold\">CFG</span>│<span style=\"font-weight: bold\">Denoise</span>│\n",
       "├─────┼───┼───────┤\n",
       "│ 25  │7.0│ 0.25  │\n",
       "╰─────┴───┴───────╯\n",
       "</pre>\n"
      ],
      "text/plain": [
       "╭─────┬───┬───────╮\n",
       "│\u001b[1mSteps\u001b[0m│\u001b[1mCFG\u001b[0m│\u001b[1mDenoise\u001b[0m│\n",
       "├─────┼───┼───────┤\n",
       "│ 25  │7.0│ 0.25  │\n",
       "╰─────┴───┴───────╯\n"
      ]
     },
     "metadata": {},
     "output_type": "display_data"
    },
    {
     "name": "stderr",
     "output_type": "stream",
     "text": [
      "2023-03-03 14:48:36,562 - root - INFO - Calibrating color correction.\n"
     ]
    },
    {
     "data": {
      "application/vnd.jupyter.widget-view+json": {
       "model_id": "2e6bd241c3674843b142feead1bfb52b",
       "version_major": 2,
       "version_minor": 0
      },
      "text/plain": [
       "  0%|          | 0/7 [00:00<?, ?it/s]"
      ]
     },
     "metadata": {},
     "output_type": "display_data"
    },
    {
     "name": "stdout",
     "output_type": "stream",
     "text": []
    },
    {
     "name": "stderr",
     "output_type": "stream",
     "text": [
      "2023-03-03 14:48:38,031 - root - INFO - Applying color correction.\n"
     ]
    },
    {
     "name": "stdout",
     "output_type": "stream",
     "text": [
      "\u001b[36mAnimation frame: \u001b[0m168/180  \n",
      " Creating in-between frame: 160; tween:0.12;\n",
      " Creating in-between frame: 161; tween:0.25;\n",
      " Creating in-between frame: 162; tween:0.38;\n",
      " Creating in-between frame: 163; tween:0.50;\n",
      " Creating in-between frame: 164; tween:0.62;\n",
      " Creating in-between frame: 165; tween:0.75;\n",
      " Creating in-between frame: 166; tween:0.88;\n",
      " Creating in-between frame: 167; tween:1.00;\n",
      "\u001b[32mSeed: \u001b[0m20\n",
      "\u001b[35mPrompt: \u001b[0mpile of coins, beautiful picture, cinematic, high detailed, photorealistic\n",
      "\u001b[91mNeg Prompt: \u001b[0m(text), (deformed iris, deformed pupils, semi-realistic, cgi, 3d, render, sketch, cartoon, drawing, anime:1.4), close up, cropped, out of frame, worst quality, low quality, jpeg artifacts, ugly, duplicate, morbid, mutilated, extra fingers, mutated hands, poorly drawn hands, poorly drawn face, mutation, deformed, blurry, dehydrated, bad anatomy, bad proportions, extra limbs, cloned face, disfigured, gross proportions, malformed limbs, missing arms, missing legs, extra arms, extra legs, fused fingers, too many fingers, long neck\n"
     ]
    },
    {
     "data": {
      "text/html": [
       "<pre style=\"white-space:pre;overflow-x:auto;line-height:normal;font-family:Menlo,'DejaVu Sans Mono',consolas,'Courier New',monospace\">╭────┬────┬────┬────┬────┬────╮\n",
       "│<span style=\"font-weight: bold\">Tr X</span>│<span style=\"font-weight: bold\">Tr Y</span>│<span style=\"font-weight: bold\">Tr Z</span>│<span style=\"font-weight: bold\">Ro X</span>│<span style=\"font-weight: bold\">Ro Y</span>│<span style=\"font-weight: bold\">Ro Z</span>│\n",
       "├────┼────┼────┼────┼────┼────┤\n",
       "│0.0 │0.0 │0.0 │0.0 │0.0 │0.0 │\n",
       "╰────┴────┴────┴────┴────┴────╯\n",
       "</pre>\n"
      ],
      "text/plain": [
       "╭────┬────┬────┬────┬────┬────╮\n",
       "│\u001b[1mTr X\u001b[0m│\u001b[1mTr Y\u001b[0m│\u001b[1mTr Z\u001b[0m│\u001b[1mRo X\u001b[0m│\u001b[1mRo Y\u001b[0m│\u001b[1mRo Z\u001b[0m│\n",
       "├────┼────┼────┼────┼────┼────┤\n",
       "│0.0 │0.0 │0.0 │0.0 │0.0 │0.0 │\n",
       "╰────┴────┴────┴────┴────┴────╯\n"
      ]
     },
     "metadata": {},
     "output_type": "display_data"
    },
    {
     "data": {
      "text/html": [
       "<pre style=\"white-space:pre;overflow-x:auto;line-height:normal;font-family:Menlo,'DejaVu Sans Mono',consolas,'Courier New',monospace\">╭─────┬───┬───────╮\n",
       "│<span style=\"font-weight: bold\">Steps</span>│<span style=\"font-weight: bold\">CFG</span>│<span style=\"font-weight: bold\">Denoise</span>│\n",
       "├─────┼───┼───────┤\n",
       "│ 25  │7.0│ 0.25  │\n",
       "╰─────┴───┴───────╯\n",
       "</pre>\n"
      ],
      "text/plain": [
       "╭─────┬───┬───────╮\n",
       "│\u001b[1mSteps\u001b[0m│\u001b[1mCFG\u001b[0m│\u001b[1mDenoise\u001b[0m│\n",
       "├─────┼───┼───────┤\n",
       "│ 25  │7.0│ 0.25  │\n",
       "╰─────┴───┴───────╯\n"
      ]
     },
     "metadata": {},
     "output_type": "display_data"
    },
    {
     "name": "stderr",
     "output_type": "stream",
     "text": [
      "2023-03-03 14:48:40,611 - root - INFO - Calibrating color correction.\n"
     ]
    },
    {
     "data": {
      "application/vnd.jupyter.widget-view+json": {
       "model_id": "a8b976ce18064748936ca2e245845b66",
       "version_major": 2,
       "version_minor": 0
      },
      "text/plain": [
       "  0%|          | 0/7 [00:00<?, ?it/s]"
      ]
     },
     "metadata": {},
     "output_type": "display_data"
    },
    {
     "name": "stdout",
     "output_type": "stream",
     "text": []
    },
    {
     "name": "stderr",
     "output_type": "stream",
     "text": [
      "2023-03-03 14:48:42,080 - root - INFO - Applying color correction.\n"
     ]
    },
    {
     "name": "stdout",
     "output_type": "stream",
     "text": [
      "\u001b[36mAnimation frame: \u001b[0m176/180  \n",
      " Creating in-between frame: 168; tween:0.12;\n",
      " Creating in-between frame: 169; tween:0.25;\n",
      " Creating in-between frame: 170; tween:0.38;\n",
      " Creating in-between frame: 171; tween:0.50;\n",
      " Creating in-between frame: 172; tween:0.62;\n",
      " Creating in-between frame: 173; tween:0.75;\n",
      " Creating in-between frame: 174; tween:0.88;\n",
      " Creating in-between frame: 175; tween:1.00;\n",
      "\u001b[32mSeed: \u001b[0m21\n",
      "\u001b[35mPrompt: \u001b[0mpile of coins, beautiful picture, cinematic, high detailed, photorealistic\n",
      "\u001b[91mNeg Prompt: \u001b[0m(text), (deformed iris, deformed pupils, semi-realistic, cgi, 3d, render, sketch, cartoon, drawing, anime:1.4), close up, cropped, out of frame, worst quality, low quality, jpeg artifacts, ugly, duplicate, morbid, mutilated, extra fingers, mutated hands, poorly drawn hands, poorly drawn face, mutation, deformed, blurry, dehydrated, bad anatomy, bad proportions, extra limbs, cloned face, disfigured, gross proportions, malformed limbs, missing arms, missing legs, extra arms, extra legs, fused fingers, too many fingers, long neck\n"
     ]
    },
    {
     "data": {
      "text/html": [
       "<pre style=\"white-space:pre;overflow-x:auto;line-height:normal;font-family:Menlo,'DejaVu Sans Mono',consolas,'Courier New',monospace\">╭────┬────┬────┬────┬────┬────╮\n",
       "│<span style=\"font-weight: bold\">Tr X</span>│<span style=\"font-weight: bold\">Tr Y</span>│<span style=\"font-weight: bold\">Tr Z</span>│<span style=\"font-weight: bold\">Ro X</span>│<span style=\"font-weight: bold\">Ro Y</span>│<span style=\"font-weight: bold\">Ro Z</span>│\n",
       "├────┼────┼────┼────┼────┼────┤\n",
       "│0.0 │0.0 │0.0 │0.0 │0.0 │0.0 │\n",
       "╰────┴────┴────┴────┴────┴────╯\n",
       "</pre>\n"
      ],
      "text/plain": [
       "╭────┬────┬────┬────┬────┬────╮\n",
       "│\u001b[1mTr X\u001b[0m│\u001b[1mTr Y\u001b[0m│\u001b[1mTr Z\u001b[0m│\u001b[1mRo X\u001b[0m│\u001b[1mRo Y\u001b[0m│\u001b[1mRo Z\u001b[0m│\n",
       "├────┼────┼────┼────┼────┼────┤\n",
       "│0.0 │0.0 │0.0 │0.0 │0.0 │0.0 │\n",
       "╰────┴────┴────┴────┴────┴────╯\n"
      ]
     },
     "metadata": {},
     "output_type": "display_data"
    },
    {
     "data": {
      "text/html": [
       "<pre style=\"white-space:pre;overflow-x:auto;line-height:normal;font-family:Menlo,'DejaVu Sans Mono',consolas,'Courier New',monospace\">╭─────┬───┬───────╮\n",
       "│<span style=\"font-weight: bold\">Steps</span>│<span style=\"font-weight: bold\">CFG</span>│<span style=\"font-weight: bold\">Denoise</span>│\n",
       "├─────┼───┼───────┤\n",
       "│ 25  │7.0│ 0.25  │\n",
       "╰─────┴───┴───────╯\n",
       "</pre>\n"
      ],
      "text/plain": [
       "╭─────┬───┬───────╮\n",
       "│\u001b[1mSteps\u001b[0m│\u001b[1mCFG\u001b[0m│\u001b[1mDenoise\u001b[0m│\n",
       "├─────┼───┼───────┤\n",
       "│ 25  │7.0│ 0.25  │\n",
       "╰─────┴───┴───────╯\n"
      ]
     },
     "metadata": {},
     "output_type": "display_data"
    },
    {
     "name": "stderr",
     "output_type": "stream",
     "text": [
      "2023-03-03 14:48:44,663 - root - INFO - Calibrating color correction.\n"
     ]
    },
    {
     "data": {
      "application/vnd.jupyter.widget-view+json": {
       "model_id": "c2a8bcdb20eb4460bb152dac17434bd2",
       "version_major": 2,
       "version_minor": 0
      },
      "text/plain": [
       "  0%|          | 0/7 [00:00<?, ?it/s]"
      ]
     },
     "metadata": {},
     "output_type": "display_data"
    },
    {
     "name": "stdout",
     "output_type": "stream",
     "text": []
    },
    {
     "name": "stderr",
     "output_type": "stream",
     "text": [
      "2023-03-03 14:48:46,107 - root - INFO - Applying color correction.\n"
     ]
    },
    {
     "name": "stdout",
     "output_type": "stream",
     "text": [
      "Deforum progress: 100%|██████████| 215/215 [01:38<00:00,  2.18it/s]\n",
      "Got a request to stitch frames to video using FFmpeg.\n",
      "Frames:\n",
      "f:\\stable\\stable\\outputs/img2img-images\\Deforum2\\20230224134420_%05d.png\n",
      "To Video:\n",
      "f:\\stable\\stable\\outputs/img2img-images\\Deforum2\\20230224134420.mp4\n"
     ]
    },
    {
     "data": {
      "text/html": [
       "<pre style=\"white-space:pre;overflow-x:auto;line-height:normal;font-family:Menlo,'DejaVu Sans Mono',consolas,'Courier New',monospace\"><span style=\"color: #808000; text-decoration-color: #808000\">Stitching *video*...</span></pre>\n"
      ],
      "text/plain": [
       "\u001b[5;33mStitching *video*\u001b[0m\u001b[5;33m...\u001b[0m"
      ]
     },
     "metadata": {},
     "output_type": "display_data"
    },
    {
     "name": "stdout",
     "output_type": "stream",
     "text": [
      "Stitching *video*...\n",
      "Video stitching \u001b[0;32mdone\u001b[0m in 1.34 seconds!\n"
     ]
    }
   ],
   "source": [
    "from scripts import *\n",
    "import os\n",
    "\n",
    "os.chdir('F:/gg/') \n",
    "\n",
    "class stories():\n",
    "   def __init__(self):\n",
    "        self.john_serial_killer = john_serial_killer.john_serial_killer\n",
    "\n",
    "\n",
    "story = stories()\n",
    "\n",
    "VOICE_GEN_ACTIVATE = False\n",
    "IMAGE_GEN_ACTIVATE = False\n",
    "IMG2IMG_ACTIVATE = False\n",
    "STYLE_GEN_ACTIVATE = False\n",
    "FRAME_INTER_GEN_ACTIVATE = False\n",
    "DEFORUM = False\n",
    "VIDEO_HD_GEN_ACTIVATE = False\n",
    "SRT_GEN_ACTIVATE = False\n",
    "FIRST_ORDER_ACTIVATE = False\n",
    "LIP_SYNC_ACTIVATE = False\n",
    "LIP_SYNC_HD_ACTIVATE = False\n",
    "MERGE_VIDEO_ACTIVATE = False\n",
    "GENERATE_FULL_LQ_VIDEO = False\n",
    "DEFORUM = True\n",
    "\n",
    "# EXCLUDE_IMG_GEN =  [0,1,2,3,4,5,6,7,8,9,10,11,12,13,14,15,16,19,21,22,23] # will not generate this indexes\n",
    "EXCLUDE_IMG_GEN =  []\n",
    "EXCLUDE_VIDEO_GEN =  [] # will not generate this indexes\n",
    "RECORD_AUDIO_AFTER = -1 # skilp until this number\n",
    "RECORD_VIDEO_AFTER = -1\n",
    "RECORD_FRAME_INTER_AFTER = -1 # -1 will start from the beginning\n",
    "RECORD_FRAME_INTER_HD_AFTER = -1 \n",
    "RECORD_FRAME_LIP = -1\n",
    "TEXT_IMAGE_GEN = story.john_serial_killer['image_generation']\n",
    "TEXT_VOICE_GEN = story.john_serial_killer['text_spoken']\n",
    "PROJECT_NAME = \"john test\"\n",
    "GEN_VIDEO = True\n",
    "IMG_NUMBER = 5\n",
    "IMG_NUMBER_IMG2IMG = 10\n",
    "SHOW_WEB_UI = False\n",
    "\n",
    "SHOW_OUTPUT = True\n",
    "THUMBNAIL = \"Thumbnail for a youtube video with the title: Jack and the Jewel - Amazing story.\"  \n",
    "PROMPT_IMG =  \"High definition, realistic, highly detailed, illustration, digital painting, artstation, smooth, sharp focus, concept art, elegant and without text of: \"\n",
    "PROMPT_IMG = \"a beautiful cinematic render of anime, fine art, intricate, masterpiece, high definition, realistic, highly detailed, smooth, sharp focus, concept art, elegant\"\n",
    "PROMPT_IMG = \"a beautiful cinematic render, fine art, intricate, masterpiece, high definition, (((artistic))), highly detailed, smooth, sharp focus, concept art, elegant of: \"\n",
    "NEGATIVE_P = \"ugly, morbid, cloned face, missing legs, tiling, extra fingers, mutation, bad anatomy,gross proportions, \\\n",
    "   missing arm, long neck, duplicate, poorly drawn hands, poorly drawn feet, poorly drawn face, out of frame, extra limbs, \\\n",
    "   disfigured, deformed, body out of frame, blurry, blurred, watermark, grainy, signature, cut off, draft, \"\n",
    "SPEAKER = \"Naoto Shirogane\"\n",
    "TALKING_SPEED = 1 \n",
    "STYLES_FOLDER = \".\\\\styles\"\n",
    "SECONDS_SILENCE = 0.75\n",
    "SKIP_VIDEO = []\n",
    "MERGE_VIDEO = True\n",
    "MODEL_14 = False\n",
    "LANGUAGES = ['pt','fr','de','hi','it','ja','es','id']\n",
    "INSERT_BACKGROUND = False\n",
    "SAVE_FOLDER = \"D://Deletar//p_gen\"\n",
    "\n",
    "if MODEL_14:\n",
    "   WIDTH = 512\n",
    "   HEIGHT = 512\n",
    "else:\n",
    "   WIDTH = 768\n",
    "   HEIGHT = 768\n",
    "\n",
    "\n",
    "%store WIDTH\n",
    "%store HEIGHT\n",
    "%store TEXT_IMAGE_GEN\n",
    "%store TEXT_VOICE_GEN\n",
    "%store IMG_NUMBER\n",
    "%store SAVE_FOLDER\n",
    "%store PROJECT_NAME\n",
    "%store SHOW_OUTPUT\n",
    "%store THUMBNAIL\n",
    "%store PROMPT_IMG\n",
    "%store SPEAKER\n",
    "%store TALKING_SPEED\n",
    "%store STYLES_FOLDER\n",
    "%store SECONDS_SILENCE\n",
    "%store EXCLUDE_IMG_GEN\n",
    "%store SKIP_VIDEO\n",
    "%store MERGE_VIDEO\n",
    "%store NEGATIVE_P\n",
    "%store MODEL_14\n",
    "%store LANGUAGES\n",
    "%store GEN_VIDEO\n",
    "%store INSERT_BACKGROUND\n",
    "%store RECORD_AUDIO_AFTER\n",
    "%store RECORD_VIDEO_AFTER\n",
    "%store RECORD_FRAME_INTER_AFTER\n",
    "%store RECORD_FRAME_INTER_HD_AFTER\n",
    "%store IMG_NUMBER_IMG2IMG\n",
    "%store RECORD_FRAME_LIP\n",
    "\n",
    "\n",
    "if VOICE_GEN_ACTIVATE:\n",
    "    %run ./voice_gen.ipynb\n",
    "   \n",
    "\n",
    "if IMAGE_GEN_ACTIVATE:\n",
    "    %run ./generate_video.ipynb\n",
    "\n",
    "if IMG2IMG_ACTIVATE:\n",
    "   %run ./img2img.ipynb\n",
    "\n",
    "if STYLE_GEN_ACTIVATE:\n",
    "   %run ./style_transfer.ipynb\n",
    "\n",
    "if FRAME_INTER_GEN_ACTIVATE:\n",
    "   %run ./frame_inter.ipynb\n",
    "\n",
    "if VIDEO_HD_GEN_ACTIVATE:\n",
    "   %run ./high_res_video.ipynb\n",
    "\n",
    "if SRT_GEN_ACTIVATE:\n",
    "   %run ./create_srt.ipynb\n",
    "\n",
    "if FIRST_ORDER_ACTIVATE:\n",
    "   # %run ./first_order/first-order-model/demo.py --config first_order/first-order-model/config/vox-256.yaml --driving_video first_order/final.mp4 --source_image first_order/result0.jpg --checkpoint first_order/first-order-model/checkpoint/vox-cpk.pth.tar --relative --adapt_scale\n",
    "   %run ./first_order/first-order-model/first_order.ipynb\n",
    "\n",
    "if LIP_SYNC_ACTIVATE:\n",
    "   %run ./lip/lip.ipynb \n",
    "\n",
    "if LIP_SYNC_HD_ACTIVATE:\n",
    "   %run ./lip_hd.ipynb \n",
    "\n",
    "if MERGE_VIDEO_ACTIVATE:\n",
    "   %run ./merge_video.ipynb \n",
    "\n",
    "if GENERATE_FULL_LQ_VIDEO:\n",
    "   # %run ./deforum/run.ipynb --enable_animation_mode --settings\n",
    "   # \"./deforum/runSettings_Template.txt\" --model \"v1-5-pruned-emaonly.ckpt\"\n",
    "   %run ./deforum/run.ipynb\n",
    "\n",
    "if DEFORUM:\n",
    "   os.chdir('./stable/')  \n",
    "   if SHOW_WEB_UI:\n",
    "      %run launch.py --share --xformers --enable-insecure-extension-access\n",
    "   else:\n",
    "      %run launch.py --share --xformers --enable-insecure-extension-access --hide_web_ui\n",
    "      %run ./extensions/deforum/scripts/deforum.ipynb\n",
    "   #%run launch.py --share --xformers --enable-insecure-extension-access\n",
    "\n"
   ]
  }
 ],
 "metadata": {
  "kernelspec": {
   "display_name": "Pyflow",
   "language": "python",
   "name": "python3"
  },
  "language_info": {
   "codemirror_mode": {
    "name": "ipython",
    "version": 3
   },
   "file_extension": ".py",
   "mimetype": "text/x-python",
   "name": "python",
   "nbconvert_exporter": "python",
   "pygments_lexer": "ipython3",
   "version": "3.9.16"
  },
  "orig_nbformat": 4,
  "vscode": {
   "interpreter": {
    "hash": "6cb0dd519e46c84f14fc2d0d6172fde6407ecb78b6d95b871c78761f2e6e52fb"
   }
  }
 },
 "nbformat": 4,
 "nbformat_minor": 2
}
