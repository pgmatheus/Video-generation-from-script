{
 "cells": [
  {
   "cell_type": "code",
   "execution_count": null,
   "metadata": {},
   "outputs": [],
   "source": [
    "\"\"\" import subprocess\n",
    "\n",
    "\n",
    "def run_command(cmd):\n",
    "    import tensorflow as tf\n",
    "    import tensorflow_hub as hub\n",
    "    import gc\n",
    "\n",
    "    result = subprocess.run(cmd, stdout=subprocess.PIPE, shell=True)\n",
    "    physical_devices = tf.config.list_physical_devices('GPU')\n",
    "    tf.config.experimental.set_memory_growth(physical_devices[0], True)\n",
    "    hub_handle = \"./film_1\"\n",
    "    model = hub.load(hub_handle)\n",
    "    tf.compat.v1.reset_default_graph()\n",
    "    tf.keras.backend.clear_session()\n",
    "    gc.collect()\n",
    "    print(\"Hello, world!\")\n",
    "    print(result.stdout.decode('utf-8'))\n",
    "\n",
    "if __name__ == '__main__':\n",
    "    run_command('ls -l') \"\"\"\n",
    "    "
   ]
  },
  {
   "cell_type": "code",
   "execution_count": null,
   "metadata": {},
   "outputs": [],
   "source": [
    "import subprocess\n",
    "import multiprocessing\n",
    "import time\n",
    "\n",
    "def run_command(cmd):\n",
    "    import tensorflow as tf\n",
    "    import tensorflow_hub as hub\n",
    "    import gc\n",
    "\n",
    "    result = subprocess.run(cmd, stdout=subprocess.PIPE, shell=True)\n",
    "    physical_devices = tf.config.list_physical_devices('GPU')\n",
    "    tf.config.experimental.set_memory_growth(physical_devices[0], True)\n",
    "    hub_handle = \"./film_1\"\n",
    "    model = hub.load(hub_handle)\n",
    "    time. sleep(10) \n",
    "    tf.compat.v1.reset_default_graph()\n",
    "    tf.keras.backend.clear_session()\n",
    "    gc.collect()\n",
    "    print(\"Hello, world!\")\n",
    "    print(result.stdout.decode('utf-8'))\n",
    "\n",
    "if __name__ == '__main__':\n",
    "    #run_command('ls -l')\n",
    "    p = multiprocessing.Process(target=run_command, args=('ls -l',))\n",
    "    p.start()\n",
    "    p.join()"
   ]
  }
 ],
 "metadata": {
  "kernelspec": {
   "display_name": "Pyflow",
   "language": "python",
   "name": "python3"
  },
  "language_info": {
   "name": "python",
   "version": "3.9.16 (main, Jan 11 2023, 16:16:36) [MSC v.1916 64 bit (AMD64)]"
  },
  "orig_nbformat": 4,
  "vscode": {
   "interpreter": {
    "hash": "6cb0dd519e46c84f14fc2d0d6172fde6407ecb78b6d95b871c78761f2e6e52fb"
   }
  }
 },
 "nbformat": 4,
 "nbformat_minor": 2
}
