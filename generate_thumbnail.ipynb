{
 "cells": [
  {
   "cell_type": "code",
   "execution_count": 20,
   "metadata": {},
   "outputs": [
    {
     "name": "stderr",
     "output_type": "stream",
     "text": [
      "C:\\Users\\Matheus\\AppData\\Local\\Temp\\ipykernel_28636\\778188531.py:21: DeprecationWarning: getsize is deprecated and will be removed in Pillow 10 (2023-07-01). Use getbbox or getlength instead.\n",
      "  text1_size = font.getsize(text1)\n",
      "C:\\Users\\Matheus\\AppData\\Local\\Temp\\ipykernel_28636\\778188531.py:22: DeprecationWarning: getsize is deprecated and will be removed in Pillow 10 (2023-07-01). Use getbbox or getlength instead.\n",
      "  text2_size = font.getsize(text2)\n"
     ]
    }
   ],
   "source": [
    "from PIL import Image, ImageDraw, ImageFont, ImageFilter\n",
    "\n",
    "def insert_text_img(init_img_path, out_img_path, text1, text2, img_resize=(1280, 720), font=\"arial.ttf\", font_size=120, y_offset=200):\n",
    "    # Load the image\n",
    "    img = Image.open(init_img_path)\n",
    "\n",
    "    # Convert the image to RGBA mode\n",
    "    img = img.convert(\"RGBA\")\n",
    "\n",
    "    # Resize the image\n",
    "    img = img.resize(img_resize)\n",
    "\n",
    "    # Set the font\n",
    "    font = ImageFont.truetype(font, font_size)\n",
    "\n",
    "    # Set the text and color\n",
    "    color = (255, 255, 255) # White color\n",
    "    shadow_color = (0, 0, 0, 128) # Black drop shadow with 50% transparency\n",
    "\n",
    "    # Get the size of the text\n",
    "    text1_size = font.getsize(text1)\n",
    "    text2_size = font.getsize(text2)\n",
    "\n",
    "    # Calculate the position of the text (centered horizontally and slightly above the middle vertically)\n",
    "    x1 = (img.width - text1_size[0]) / 2\n",
    "    x2 = (img.width - text2_size[0]) / 2\n",
    "    y1 = (img.height - text1_size[1] - text2_size[1]) / 2 - y_offset\n",
    "    y2 = y1 + text1_size[1]\n",
    "\n",
    "    # Create a new image for the drop shadow\n",
    "    shadow_img = Image.new(\"RGBA\", img.size, (0, 0, 0, 0))\n",
    "    shadow_draw = ImageDraw.Draw(shadow_img)\n",
    "\n",
    "    # Draw the text with the drop shadow\n",
    "    shadow_draw.text((x1+5, y1+5), text1, font=font, fill=shadow_color)\n",
    "    shadow_draw.text((x1, y1), text1, font=font, fill=color)\n",
    "    shadow_draw.text((x2+5, y2+5), text2, font=font, fill=shadow_color)\n",
    "    shadow_draw.text((x2, y2), text2, font=font, fill=color)\n",
    "\n",
    "    # Create a border around the image\n",
    "    draw = ImageDraw.Draw(img)\n",
    "    draw.rectangle((0, 0, img.width, img.height), outline=(0, 0, 0), width=10)\n",
    "\n",
    "    # Merge the original image and the drop shadow\n",
    "    img = Image.alpha_composite(img, shadow_img)\n",
    "\n",
    "    # Save the image with the text\n",
    "    img.save(out_img_path)\n",
    "\n",
    "\n",
    "init_img_path = 'F:\\\\gg\\\\templates\\\\to_proccess\\\\cursed_doll\\\\0000000.png'\n",
    "out_img_path = 'F:\\\\gg\\\\templates\\\\to_proccess\\\\cursed_doll\\\\t.png'\n",
    "text1 = 'The Cursed Doll'\n",
    "text2 = 'Horror Story'\n",
    "\n",
    "\n",
    "insert_text_img(init_img_path, out_img_path, text1, text2)"
   ]
  }
 ],
 "metadata": {
  "kernelspec": {
   "display_name": "Pyflow",
   "language": "python",
   "name": "python3"
  },
  "language_info": {
   "codemirror_mode": {
    "name": "ipython",
    "version": 3
   },
   "file_extension": ".py",
   "mimetype": "text/x-python",
   "name": "python",
   "nbconvert_exporter": "python",
   "pygments_lexer": "ipython3",
   "version": "3.9.16"
  },
  "orig_nbformat": 4,
  "vscode": {
   "interpreter": {
    "hash": "6cb0dd519e46c84f14fc2d0d6172fde6407ecb78b6d95b871c78761f2e6e52fb"
   }
  }
 },
 "nbformat": 4,
 "nbformat_minor": 2
}
