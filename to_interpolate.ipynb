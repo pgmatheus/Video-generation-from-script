{
 "cells": [
  {
   "cell_type": "code",
   "execution_count": 1,
   "metadata": {},
   "outputs": [],
   "source": [
    "import os\n",
    "from scripts_2.utilities import interp_fram, copy_file_and_rename\n",
    "import shutil\n",
    " \n",
    "INPUT_FOLDER = \"F:/gg/templates/to_interpolate\"\n",
    "OUTPUT_FOLDER = \"F:/gg/templates/interpolated\"\n",
    "TEMP_FOLDER = \"F:/gg/templates/temp\"\n",
    "\n",
    "NAME_FIRST_PICTURE = 'a_000000000.png'\n",
    "NAME_LAST_PICTURE = 'a_000000147.png'\n",
    "\n",
    "if not os.path.exists(OUTPUT_FOLDER):\n",
    "    os.mkdir(OUTPUT_FOLDER)\n",
    "\n",
    "\n"
   ]
  },
  {
   "cell_type": "code",
   "execution_count": 2,
   "metadata": {},
   "outputs": [],
   "source": [
    "def remove_temp_folder():\n",
    "    if os.path.exists(TEMP_FOLDER):\n",
    "        shutil.rmtree(TEMP_FOLDER)\n",
    "    os.mkdir(TEMP_FOLDER)"
   ]
  },
  {
   "cell_type": "code",
   "execution_count": 3,
   "metadata": {},
   "outputs": [
    {
     "name": "stdout",
     "output_type": "stream",
     "text": [
      "Project: F:/gg/templates/interpolated/evolution\n",
      "interpolating frames\n"
     ]
    },
    {
     "name": "stderr",
     "output_type": "stream",
     "text": [
      "100%|██████████| 7251/7251 [52:51<00:00,  2.29it/s]  \n"
     ]
    },
    {
     "name": "stdout",
     "output_type": "stream",
     "text": [
      "video with 14503 frames\n"
     ]
    }
   ],
   "source": [
    "for project_folder in os.listdir(INPUT_FOLDER):\n",
    "    current_project_folder = f'{OUTPUT_FOLDER}/{project_folder}'\n",
    "    if not os.path.exists(current_project_folder):\n",
    "        os.makedirs(current_project_folder)\n",
    "    cont = 0\n",
    "    print(f'Project: {current_project_folder}')\n",
    "    remove_temp_folder()\n",
    "    for folder_pictures in os.listdir(f'{INPUT_FOLDER}/{project_folder}/0000000'):\n",
    "        for picture in os.listdir(f'{INPUT_FOLDER}/{project_folder}/0000000/{folder_pictures}'):\n",
    "            if picture[-3:] == 'png':\n",
    "                copy_file_and_rename(f'{INPUT_FOLDER}/{project_folder}/0000000/{folder_pictures}/{picture}',TEMP_FOLDER,f'a_{cont:07d}.png')\n",
    "                cont = cont + 1\n",
    "\n",
    "    interp_fram.run(\n",
    "        times_to_interpolate= 1, #multiplier of the frames\n",
    "        path = TEMP_FOLDER, #input folder with pngs\n",
    "        out_path= current_project_folder, # output folder\n",
    "        w_o= 512, # width output\n",
    "        h_o= 512, # height output \n",
    "    )\n"
   ]
  },
  {
   "cell_type": "code",
   "execution_count": null,
   "metadata": {},
   "outputs": [
    {
     "data": {
      "text/plain": [
       "\" current_input_folder = f'{INPUT_FOLDER}/{project_folder}/0000000/{folder_pictures}'\\n        current_output_folder = f'{OUTPUT_FOLDER}/{project_folder}/{cont:07d}'\\n        os.makedirs(current_output_folder)\\n        interp_fram.run(\\n            times_to_interpolate= 3, #multiplier of the frames\\n            path = current_input_folder, #input folder with pngs\\n            out_path= current_output_folder, # output folder\\n            w_o= 512, # width output\\n            h_o= 512, # height output \\n        )\\n\\n        if os.path.exists(f'{INPUT_FOLDER}/{project_folder}/0000000/{(int(folder_pictures)+1):07d}'):\\n            print('q') \""
      ]
     },
     "execution_count": 4,
     "metadata": {},
     "output_type": "execute_result"
    }
   ],
   "source": [
    "\n",
    "\"\"\" current_input_folder = f'{INPUT_FOLDER}/{project_folder}/0000000/{folder_pictures}'\n",
    "        current_output_folder = f'{OUTPUT_FOLDER}/{project_folder}/{cont:07d}'\n",
    "        os.makedirs(current_output_folder)\n",
    "        interp_fram.run(\n",
    "            times_to_interpolate= 3, #multiplier of the frames\n",
    "            path = current_input_folder, #input folder with pngs\n",
    "            out_path= current_output_folder, # output folder\n",
    "            w_o= 512, # width output\n",
    "            h_o= 512, # height output \n",
    "        )\n",
    "\n",
    "        if os.path.exists(f'{INPUT_FOLDER}/{project_folder}/0000000/{(int(folder_pictures)+1):07d}'):\n",
    "            print('q') \"\"\""
   ]
  }
 ],
 "metadata": {
  "kernelspec": {
   "display_name": "Pyflow",
   "language": "python",
   "name": "python3"
  },
  "language_info": {
   "codemirror_mode": {
    "name": "ipython",
    "version": 3
   },
   "file_extension": ".py",
   "mimetype": "text/x-python",
   "name": "python",
   "nbconvert_exporter": "python",
   "pygments_lexer": "ipython3",
   "version": "3.9.16"
  },
  "orig_nbformat": 4,
  "vscode": {
   "interpreter": {
    "hash": "6cb0dd519e46c84f14fc2d0d6172fde6407ecb78b6d95b871c78761f2e6e52fb"
   }
  }
 },
 "nbformat": 4,
 "nbformat_minor": 2
}
