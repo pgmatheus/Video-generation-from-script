{
 "cells": [
  {
   "cell_type": "code",
   "execution_count": null,
   "metadata": {},
   "outputs": [],
   "source": [
    "from scripts_2.utilities import high_img\n",
    "import torch\n",
    "import gc\n",
    "import cv2\n",
    "import time\n",
    "import os\n",
    "from tqdm import tqdm\n",
    "high_img_f = high_img(4)\n",
    "\n",
    "\n",
    "start = time.time() \n",
    "\n",
    "\n",
    "for file in tqdm(os.listdir('./test_inp/')):\n",
    "\n",
    "    high_img_f.run({\n",
    "    'face': False, # reconstruct face\n",
    "    'path': f'./test_inp/{file}', # image path\n",
    "    'w_i': 480, # width to be resized \n",
    "    'h_i': 270, # height to be resized\n",
    "    'w_o': 1920, # width to be resized \n",
    "    'h_o': 1080, # height to be resized    \n",
    "    'out_path': f'./test/{file}', # image output location\n",
    "    'return_out': 'nothing', # return the data to use later\n",
    "    'show_image': False, # show output\n",
    "    })\n",
    "\n",
    "\n",
    "\n",
    "\n",
    "\n",
    "\n",
    "\n",
    "\n",
    "\n",
    "\n",
    "end = time.time()\n",
    "\n",
    "print(end-start)\n",
    "del high_img_f\n",
    "print(torch.cuda.memory_allocated())"
   ]
  }
 ],
 "metadata": {
  "kernelspec": {
   "display_name": "Pyflow",
   "language": "python",
   "name": "python3"
  },
  "language_info": {
   "name": "python",
   "version": "3.9.16 (main, Jan 11 2023, 16:16:36) [MSC v.1916 64 bit (AMD64)]"
  },
  "orig_nbformat": 4,
  "vscode": {
   "interpreter": {
    "hash": "6cb0dd519e46c84f14fc2d0d6172fde6407ecb78b6d95b871c78761f2e6e52fb"
   }
  }
 },
 "nbformat": 4,
 "nbformat_minor": 2
}
